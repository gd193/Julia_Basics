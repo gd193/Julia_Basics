{
 "cells": [
  {
   "cell_type": "markdown",
   "metadata": {},
   "source": [
    "# Linear Algebra"
   ]
  },
  {
   "cell_type": "markdown",
   "metadata": {},
   "source": [
    "After `using LinearAlgebra`, **Julia speaks linear algebra fluently**.\n",
    "\n",
    "Performing linear algebra operations on a computer is, of course, an old problem. Lots of amazing libraries have been written - mostly in Fortran - which have been optimized over decades.\n",
    "\n",
    "Basically all high-level programming languages use these libraries, including R, Python, and Julia.\n",
    "\n",
    "Linear algebra in Julia is largely implemented by calling [BLAS](http://www.netlib.org/blas/)/[LAPACK](http://www.netlib.org/lapack/) functions. Sparse operations utilize functionality in [SuiteSparse](http://faculty.cse.tamu.edu/davis/suitesparse.html).\n",
    "\n",
    "As per default, Julia uses the [OpenBLAS](https://github.com/xianyi/OpenBLAS) implementation (BLAS, LAPACK, LIBM), which can be replaced by [Intel's MKL](https://software.intel.com/en-us/mkl) (BLAS, LAPACK) and [Intel's Math Library](https://software.intel.com/en-us/node/522653) (LIBM).\n",
    "\n",
    "**What is all this stuff?!?**\n",
    "\n",
    "* **BLAS**: a collection of low-level matrix and vector arithmetic operations (\"multiply two matrices\", \"multiply a matrix by vector\").\n",
    "* **LAPACK**:  a collection of higher-level linear algebra operations. Things like matrix factorizations (LU, LLt, QR, SVD, Schur, etc) that are used to do things like “find the eigenvalues of a matrix”, or “find the singular values of a matrix”, or “solve a linear system”.\n",
    "* **LIBM**: basic math functions like `sin`, `cos`, `sinh`, etcetera\n",
    "\n",
    "Sparse matrices are more difficult and there exist different collections of routines, one of which is **SuiteSparse**.\n",
    "\n",
    "**Why do I have to care?**\n",
    "\n",
    "* Switching from OpenBLAS to MKL can give you large speedups!\n",
    "* Since you might be leaving the world of Julia code, you loose easy inspectability and type genericity. The latter can be an issue for machine learning, as we'll discuss later in more detail."
   ]
  },
  {
   "cell_type": "markdown",
   "metadata": {},
   "source": [
    "# Taking linear algebra seriously"
   ]
  },
  {
   "cell_type": "markdown",
   "metadata": {},
   "source": [
    "Julia is [taking linear algebra seriously](https://www.youtube.com/watch?v=C2RO34b_oPM)! (see [here](https://github.com/JuliaLang/julia/issues/4774), and [here](https://github.com/JuliaLang/julia/issues/20978))."
   ]
  },
  {
   "cell_type": "code",
   "execution_count": 1,
   "metadata": {},
   "outputs": [],
   "source": [
    "using LinearAlgebra"
   ]
  },
  {
   "cell_type": "code",
   "execution_count": 2,
   "metadata": {},
   "outputs": [
    {
     "data": {
      "text/plain": [
       "4×4 Matrix{Float64}:\n",
       " 0.723449  0.474819  0.282224  0.13724\n",
       " 0.849695  0.24294   0.816161  0.537401\n",
       " 0.370268  0.511182  0.322675  0.608699\n",
       " 0.706407  0.805153  0.557568  0.936108"
      ]
     },
     "execution_count": 2,
     "metadata": {},
     "output_type": "execute_result"
    }
   ],
   "source": [
    "A = rand(4,4)"
   ]
  },
  {
   "cell_type": "code",
   "execution_count": 3,
   "metadata": {},
   "outputs": [
    {
     "data": {
      "text/plain": [
       "Matrix{Float64} (alias for Array{Float64, 2})"
      ]
     },
     "execution_count": 3,
     "metadata": {},
     "output_type": "execute_result"
    }
   ],
   "source": [
    "typeof(A)"
   ]
  },
  {
   "cell_type": "code",
   "execution_count": 4,
   "metadata": {},
   "outputs": [
    {
     "data": {
      "text/plain": [
       "true"
      ]
     },
     "execution_count": 4,
     "metadata": {},
     "output_type": "execute_result"
    }
   ],
   "source": [
    "Array{Float64, 2} === Matrix{Float64} # equivalent not just equal"
   ]
  },
  {
   "cell_type": "code",
   "execution_count": 5,
   "metadata": {},
   "outputs": [
    {
     "data": {
      "text/plain": [
       "-0.0049031709479690775"
      ]
     },
     "execution_count": 5,
     "metadata": {},
     "output_type": "execute_result"
    }
   ],
   "source": [
    "det(A)"
   ]
  },
  {
   "cell_type": "code",
   "execution_count": 6,
   "metadata": {},
   "outputs": [
    {
     "data": {
      "text/plain": [
       "4×4 Matrix{Float64}:\n",
       " -2.84064  -2.24323  -42.1834   29.1337\n",
       "  5.05385   1.31062   41.7085  -28.6141\n",
       "  4.77736   4.60366   56.2057  -39.8907\n",
       " -5.04875  -2.17653  -37.5188   27.4543"
      ]
     },
     "execution_count": 6,
     "metadata": {},
     "output_type": "execute_result"
    }
   ],
   "source": [
    "inv(A)"
   ]
  },
  {
   "cell_type": "code",
   "execution_count": 7,
   "metadata": {},
   "outputs": [
    {
     "data": {
      "text/plain": [
       "4"
      ]
     },
     "execution_count": 7,
     "metadata": {},
     "output_type": "execute_result"
    }
   ],
   "source": [
    "rank(A)"
   ]
  },
  {
   "cell_type": "markdown",
   "metadata": {},
   "source": [
    "Let's get a vector as well"
   ]
  },
  {
   "cell_type": "code",
   "execution_count": 8,
   "metadata": {},
   "outputs": [
    {
     "data": {
      "text/plain": [
       "4-element Vector{Float64}:\n",
       " 0.6056190074664548\n",
       " 0.3696125356924328\n",
       " 0.7056722292644106\n",
       " 0.8581696908398979"
      ]
     },
     "execution_count": 8,
     "metadata": {},
     "output_type": "execute_result"
    }
   ],
   "source": [
    "v = rand(4)"
   ]
  },
  {
   "cell_type": "code",
   "execution_count": 9,
   "metadata": {},
   "outputs": [
    {
     "data": {
      "text/plain": [
       "Vector{Float64} (alias for Array{Float64, 1})"
      ]
     },
     "execution_count": 9,
     "metadata": {},
     "output_type": "execute_result"
    }
   ],
   "source": [
    "typeof(v)"
   ]
  },
  {
   "cell_type": "code",
   "execution_count": 10,
   "metadata": {},
   "outputs": [
    {
     "data": {
      "text/plain": [
       "true"
      ]
     },
     "execution_count": 10,
     "metadata": {},
     "output_type": "execute_result"
    }
   ],
   "source": [
    "Array{Float64,1} === Vector{Float64}"
   ]
  },
  {
   "cell_type": "code",
   "execution_count": 11,
   "metadata": {},
   "outputs": [
    {
     "data": {
      "text/plain": [
       "1.3182626150266465"
      ]
     },
     "execution_count": 11,
     "metadata": {},
     "output_type": "execute_result"
    }
   ],
   "source": [
    "norm(v)"
   ]
  },
  {
   "cell_type": "code",
   "execution_count": 12,
   "metadata": {},
   "outputs": [
    {
     "ename": "LoadError",
     "evalue": "MethodError: no method matching ^(::Vector{Float64}, ::Int64)\n\u001b[0mClosest candidates are:\n\u001b[0m  ^(\u001b[91m::Union{AbstractChar, AbstractString}\u001b[39m, ::Integer) at /opt/julia-1.7.3/share/julia/base/strings/basic.jl:721\n\u001b[0m  ^(\u001b[91m::Complex{<:AbstractFloat}\u001b[39m, ::Integer) at /opt/julia-1.7.3/share/julia/base/complex.jl:839\n\u001b[0m  ^(\u001b[91m::Complex{<:Integer}\u001b[39m, ::Integer) at /opt/julia-1.7.3/share/julia/base/complex.jl:841\n\u001b[0m  ...",
     "output_type": "error",
     "traceback": [
      "MethodError: no method matching ^(::Vector{Float64}, ::Int64)\n\u001b[0mClosest candidates are:\n\u001b[0m  ^(\u001b[91m::Union{AbstractChar, AbstractString}\u001b[39m, ::Integer) at /opt/julia-1.7.3/share/julia/base/strings/basic.jl:721\n\u001b[0m  ^(\u001b[91m::Complex{<:AbstractFloat}\u001b[39m, ::Integer) at /opt/julia-1.7.3/share/julia/base/complex.jl:839\n\u001b[0m  ^(\u001b[91m::Complex{<:Integer}\u001b[39m, ::Integer) at /opt/julia-1.7.3/share/julia/base/complex.jl:841\n\u001b[0m  ...",
      "",
      "Stacktrace:",
      " [1] literal_pow(f::typeof(^), x::Vector{Float64}, #unused#::Val{2})",
      "   @ Base ./intfuncs.jl:325",
      " [2] top-level scope",
      "   @ In[12]:1",
      " [3] eval",
      "   @ ./boot.jl:373 [inlined]",
      " [4] include_string(mapexpr::typeof(REPL.softscope), mod::Module, code::String, filename::String)",
      "   @ Base ./loading.jl:1196"
     ]
    }
   ],
   "source": [
    "v^2 # can't square a vector"
   ]
  },
  {
   "cell_type": "code",
   "execution_count": 13,
   "metadata": {},
   "outputs": [
    {
     "data": {
      "text/plain": [
       "4-element Vector{Float64}:\n",
       " 0.36677438220465386\n",
       " 0.1366134265409899\n",
       " 0.49797329515500294\n",
       " 0.7364552182762459"
      ]
     },
     "execution_count": 13,
     "metadata": {},
     "output_type": "execute_result"
    }
   ],
   "source": [
    "v.^2"
   ]
  },
  {
   "cell_type": "markdown",
   "metadata": {},
   "source": [
    "Some things might be suprising"
   ]
  },
  {
   "cell_type": "code",
   "execution_count": 14,
   "metadata": {},
   "outputs": [
    {
     "data": {
      "text/plain": [
       "1×4 transpose(::Vector{Float64}) with eltype Float64:\n",
       " 0.348494  0.212688  0.406068  0.493821"
      ]
     },
     "execution_count": 14,
     "metadata": {},
     "output_type": "execute_result"
    }
   ],
   "source": [
    "1/v"
   ]
  },
  {
   "cell_type": "markdown",
   "metadata": {},
   "source": [
    "But if it works, there is typically meaning to it. In this case it is calculating the [Moore-Penrose-Pseudoinverse](https://en.wikipedia.org/wiki/Moore%E2%80%93Penrose_inverse#Vectors) (`transpose(v)/sum(abs2,v)`)."
   ]
  },
  {
   "cell_type": "markdown",
   "metadata": {},
   "source": [
    "### Identity matrix: `UniformScaling` operator"
   ]
  },
  {
   "cell_type": "code",
   "execution_count": 15,
   "metadata": {},
   "outputs": [
    {
     "ename": "LoadError",
     "evalue": "MethodError: no method matching +(::Matrix{Float64}, ::Int64)\nFor element-wise addition, use broadcasting with dot syntax: array .+ scalar\n\u001b[0mClosest candidates are:\n\u001b[0m  +(::Any, ::Any, \u001b[91m::Any\u001b[39m, \u001b[91m::Any...\u001b[39m) at /opt/julia-1.7.3/share/julia/base/operators.jl:655\n\u001b[0m  +(\u001b[91m::T\u001b[39m, ::T) where T<:Union{Int128, Int16, Int32, Int64, Int8, UInt128, UInt16, UInt32, UInt64, UInt8} at /opt/julia-1.7.3/share/julia/base/int.jl:87\n\u001b[0m  +(\u001b[91m::T\u001b[39m, ::Integer) where T<:AbstractChar at /opt/julia-1.7.3/share/julia/base/char.jl:237\n\u001b[0m  ...",
     "output_type": "error",
     "traceback": [
      "MethodError: no method matching +(::Matrix{Float64}, ::Int64)\nFor element-wise addition, use broadcasting with dot syntax: array .+ scalar\n\u001b[0mClosest candidates are:\n\u001b[0m  +(::Any, ::Any, \u001b[91m::Any\u001b[39m, \u001b[91m::Any...\u001b[39m) at /opt/julia-1.7.3/share/julia/base/operators.jl:655\n\u001b[0m  +(\u001b[91m::T\u001b[39m, ::T) where T<:Union{Int128, Int16, Int32, Int64, Int8, UInt128, UInt16, UInt32, UInt64, UInt8} at /opt/julia-1.7.3/share/julia/base/int.jl:87\n\u001b[0m  +(\u001b[91m::T\u001b[39m, ::Integer) where T<:AbstractChar at /opt/julia-1.7.3/share/julia/base/char.jl:237\n\u001b[0m  ...",
      "",
      "Stacktrace:",
      " [1] top-level scope",
      "   @ In[15]:1",
      " [2] eval",
      "   @ ./boot.jl:373 [inlined]",
      " [3] include_string(mapexpr::typeof(REPL.softscope), mod::Module, code::String, filename::String)",
      "   @ Base ./loading.jl:1196"
     ]
    }
   ],
   "source": [
    "A + 3"
   ]
  },
  {
   "cell_type": "code",
   "execution_count": 16,
   "metadata": {},
   "outputs": [
    {
     "data": {
      "text/plain": [
       "4×4 Matrix{Float64}:\n",
       " 3.72345  3.47482  3.28222  3.13724\n",
       " 3.84969  3.24294  3.81616  3.5374\n",
       " 3.37027  3.51118  3.32267  3.6087\n",
       " 3.70641  3.80515  3.55757  3.93611"
      ]
     },
     "execution_count": 16,
     "metadata": {},
     "output_type": "execute_result"
    }
   ],
   "source": [
    "A .+ 3"
   ]
  },
  {
   "cell_type": "markdown",
   "metadata": {},
   "source": [
    "The `UniformScaling` operator **represents an identity matrix of any size** and is another great example of **duck typing**. It automatically gets loaded into scope when you do `using LinearAlgebra` and has the name `I`."
   ]
  },
  {
   "cell_type": "code",
   "execution_count": 17,
   "metadata": {},
   "outputs": [
    {
     "data": {
      "text/plain": [
       "UniformScaling{Bool}\n",
       "true*I"
      ]
     },
     "execution_count": 17,
     "metadata": {},
     "output_type": "execute_result"
    }
   ],
   "source": [
    "I"
   ]
  },
  {
   "cell_type": "markdown",
   "metadata": {},
   "source": [
    "Although it never actually materializes a full identity matrix it behaves like one."
   ]
  },
  {
   "cell_type": "code",
   "execution_count": 18,
   "metadata": {},
   "outputs": [
    {
     "data": {
      "text/plain": [
       "4×4 Matrix{Float64}:\n",
       " 3.72345   0.474819  0.282224  0.13724\n",
       " 0.849695  3.24294   0.816161  0.537401\n",
       " 0.370268  0.511182  3.32267   0.608699\n",
       " 0.706407  0.805153  0.557568  3.93611"
      ]
     },
     "execution_count": 18,
     "metadata": {},
     "output_type": "execute_result"
    }
   ],
   "source": [
    "A + 3I"
   ]
  },
  {
   "cell_type": "code",
   "execution_count": 19,
   "metadata": {},
   "outputs": [
    {
     "data": {
      "text/plain": [
       "true"
      ]
     },
     "execution_count": 19,
     "metadata": {},
     "output_type": "execute_result"
    }
   ],
   "source": [
    "I * A == A"
   ]
  },
  {
   "cell_type": "markdown",
   "metadata": {},
   "source": [
    "Hence, we can calculate things like, say, `A-b*I` without ever allocating a dense identity matrix, which would take up $\\mathcal{O}(n^2)$ memory.\n",
    "\n",
    "Let's benchmark the performance difference!"
   ]
  },
  {
   "cell_type": "code",
   "execution_count": 20,
   "metadata": {},
   "outputs": [
    {
     "data": {
      "text/plain": [
       "4×4 Matrix{Float64}:\n",
       " 1.0  0.0  0.0  0.0\n",
       " 0.0  1.0  0.0  0.0\n",
       " 0.0  0.0  1.0  0.0\n",
       " 0.0  0.0  0.0  1.0"
      ]
     },
     "execution_count": 20,
     "metadata": {},
     "output_type": "execute_result"
    }
   ],
   "source": [
    "fullI = Matrix{Float64}(I, 4,4)"
   ]
  },
  {
   "cell_type": "code",
   "execution_count": 21,
   "metadata": {},
   "outputs": [
    {
     "data": {
      "text/plain": [
       "fast (generic function with 1 method)"
      ]
     },
     "execution_count": 21,
     "metadata": {},
     "output_type": "execute_result"
    }
   ],
   "source": [
    "fast(A) = A + 3 * I"
   ]
  },
  {
   "cell_type": "code",
   "execution_count": 22,
   "metadata": {},
   "outputs": [
    {
     "data": {
      "text/plain": [
       "slow (generic function with 1 method)"
      ]
     },
     "execution_count": 22,
     "metadata": {},
     "output_type": "execute_result"
    }
   ],
   "source": [
    "slow(A, fullI) = A .+ 3 .* fullI"
   ]
  },
  {
   "cell_type": "code",
   "execution_count": 23,
   "metadata": {},
   "outputs": [
    {
     "name": "stdout",
     "output_type": "stream",
     "text": [
      "  68.851 ns (1 allocation: 192 bytes)\n",
      "  34.184 ns (1 allocation: 192 bytes)\n"
     ]
    }
   ],
   "source": [
    "using BenchmarkTools\n",
    "@btime slow($A, $fullI);\n",
    "@btime fast($A);"
   ]
  },
  {
   "cell_type": "markdown",
   "metadata": {},
   "source": [
    "# Fast linear algebra with multiple dispatch"
   ]
  },
  {
   "cell_type": "markdown",
   "metadata": {},
   "source": [
    "##  Fermions hopping on a chain"
   ]
  },
  {
   "cell_type": "markdown",
   "metadata": {},
   "source": [
    "$$\\mathcal{H} = -t\\sum_{\\langle i,j \\rangle} c_i^\\dagger c_j + \\mu \\sum_i n_i$$\n",
    "\n",
    "Here, $t$ is the hopping amplitude, $\\mu$ is the chemical potential, and $c, c^\\dagger$ are creation and annihilation operators.\n",
    "\n",
    "For simplicity, we'll consider **open boundary conditions** (not periodic), in which case the Hamiltonian is tridiagonal.\n",
    "\n",
    "Since the fermions are *not* interacting, we can work in the *single particle basis* and do not have to worry about how to construct a basis for the many-body Fock space.\n",
    "\n",
    "We use the canonical cartesian basis in which one uses $0$s to indicate empty sites and a $1$ for the particle's site, i.e. $|00100\\rangle$ represents the basis state which has the particle exclusively on the 3rd site.\n",
    "\n",
    "If you aren't familiar with second quantization just think of $\\mathcal{H}$ as any quantum mechanical operator that can be represented as a matrix."
   ]
  },
  {
   "cell_type": "markdown",
   "metadata": {},
   "source": [
    "----"
   ]
  },
  {
   "cell_type": "markdown",
   "metadata": {},
   "source": [
    "**Our goal:** computing the energy expectation value, i.e. $\\langle \\psi | \\mathcal{H} | \\psi \\rangle$.\n",
    "\n",
    "First, let's build the Hamiltonian matrix."
   ]
  },
  {
   "cell_type": "code",
   "execution_count": 24,
   "metadata": {},
   "outputs": [
    {
     "data": {
      "text/plain": [
       "100×100 Matrix{Float64}:\n",
       " -0.5  -1.0   0.0   0.0   0.0   0.0  …   0.0   0.0   0.0   0.0   0.0   0.0\n",
       " -1.0  -0.5  -1.0   0.0   0.0   0.0      0.0   0.0   0.0   0.0   0.0   0.0\n",
       "  0.0  -1.0  -0.5  -1.0   0.0   0.0      0.0   0.0   0.0   0.0   0.0   0.0\n",
       "  0.0   0.0  -1.0  -0.5  -1.0   0.0      0.0   0.0   0.0   0.0   0.0   0.0\n",
       "  0.0   0.0   0.0  -1.0  -0.5  -1.0      0.0   0.0   0.0   0.0   0.0   0.0\n",
       "  0.0   0.0   0.0   0.0  -1.0  -0.5  …   0.0   0.0   0.0   0.0   0.0   0.0\n",
       "  0.0   0.0   0.0   0.0   0.0  -1.0      0.0   0.0   0.0   0.0   0.0   0.0\n",
       "  0.0   0.0   0.0   0.0   0.0   0.0      0.0   0.0   0.0   0.0   0.0   0.0\n",
       "  0.0   0.0   0.0   0.0   0.0   0.0      0.0   0.0   0.0   0.0   0.0   0.0\n",
       "  0.0   0.0   0.0   0.0   0.0   0.0      0.0   0.0   0.0   0.0   0.0   0.0\n",
       "  0.0   0.0   0.0   0.0   0.0   0.0  …   0.0   0.0   0.0   0.0   0.0   0.0\n",
       "  0.0   0.0   0.0   0.0   0.0   0.0      0.0   0.0   0.0   0.0   0.0   0.0\n",
       "  0.0   0.0   0.0   0.0   0.0   0.0      0.0   0.0   0.0   0.0   0.0   0.0\n",
       "  ⋮                             ⋮    ⋱         ⋮                      \n",
       "  0.0   0.0   0.0   0.0   0.0   0.0      0.0   0.0   0.0   0.0   0.0   0.0\n",
       "  0.0   0.0   0.0   0.0   0.0   0.0      0.0   0.0   0.0   0.0   0.0   0.0\n",
       "  0.0   0.0   0.0   0.0   0.0   0.0  …   0.0   0.0   0.0   0.0   0.0   0.0\n",
       "  0.0   0.0   0.0   0.0   0.0   0.0      0.0   0.0   0.0   0.0   0.0   0.0\n",
       "  0.0   0.0   0.0   0.0   0.0   0.0      0.0   0.0   0.0   0.0   0.0   0.0\n",
       "  0.0   0.0   0.0   0.0   0.0   0.0     -1.0   0.0   0.0   0.0   0.0   0.0\n",
       "  0.0   0.0   0.0   0.0   0.0   0.0     -0.5  -1.0   0.0   0.0   0.0   0.0\n",
       "  0.0   0.0   0.0   0.0   0.0   0.0  …  -1.0  -0.5  -1.0   0.0   0.0   0.0\n",
       "  0.0   0.0   0.0   0.0   0.0   0.0      0.0  -1.0  -0.5  -1.0   0.0   0.0\n",
       "  0.0   0.0   0.0   0.0   0.0   0.0      0.0   0.0  -1.0  -0.5  -1.0   0.0\n",
       "  0.0   0.0   0.0   0.0   0.0   0.0      0.0   0.0   0.0  -1.0  -0.5  -1.0\n",
       "  0.0   0.0   0.0   0.0   0.0   0.0      0.0   0.0   0.0   0.0  -1.0  -0.5"
      ]
     },
     "execution_count": 24,
     "metadata": {},
     "output_type": "execute_result"
    }
   ],
   "source": [
    "N = 100 # number of sites\n",
    "t = 1\n",
    "μ = -0.5\n",
    "\n",
    "H = diagm(0 => fill(μ, N), 1 => fill(-t, N-1), -1 => fill(-t, N-1))"
   ]
  },
  {
   "cell_type": "markdown",
   "metadata": {},
   "source": [
    "Let's further generate a random fake wave function."
   ]
  },
  {
   "cell_type": "code",
   "execution_count": 25,
   "metadata": {},
   "outputs": [],
   "source": [
    "ψ = normalize(rand(N)); # some state"
   ]
  },
  {
   "cell_type": "markdown",
   "metadata": {},
   "source": [
    "Quantum mechanical energy expectation value:"
   ]
  },
  {
   "cell_type": "code",
   "execution_count": 26,
   "metadata": {},
   "outputs": [
    {
     "data": {
      "text/plain": [
       "E (generic function with 1 method)"
      ]
     },
     "execution_count": 26,
     "metadata": {},
     "output_type": "execute_result"
    }
   ],
   "source": [
    "E(H, ψ) = ψ'*H*ψ # <ψ|H|ψ>"
   ]
  },
  {
   "cell_type": "code",
   "execution_count": 27,
   "metadata": {},
   "outputs": [
    {
     "data": {
      "text/plain": [
       "-1.9912084250057003"
      ]
     },
     "execution_count": 27,
     "metadata": {},
     "output_type": "execute_result"
    }
   ],
   "source": [
    "E(H, ψ)"
   ]
  },
  {
   "cell_type": "code",
   "execution_count": 28,
   "metadata": {},
   "outputs": [
    {
     "name": "stdout",
     "output_type": "stream",
     "text": [
      "  1.915 μs (1 allocation: 896 bytes)\n"
     ]
    }
   ],
   "source": [
    "@btime E($H, $ψ);"
   ]
  },
  {
   "cell_type": "markdown",
   "metadata": {},
   "source": [
    "So far, we aren't utilizing the structure of our Hamiltonian at all. Clearly, it has a lot of structure!"
   ]
  },
  {
   "cell_type": "code",
   "execution_count": 29,
   "metadata": {},
   "outputs": [
    {
     "data": {
      "text/plain": [
       "Matrix{Float64} (alias for Array{Float64, 2})"
      ]
     },
     "execution_count": 29,
     "metadata": {},
     "output_type": "execute_result"
    }
   ],
   "source": [
    "typeof(H)"
   ]
  },
  {
   "cell_type": "markdown",
   "metadata": {},
   "source": [
    "Since our function `E(H, ψ)` is generic - we haven't restricted the input types nor are we assuming anything about types - we can change the type of `H` to utilize its structure and automagically speed up the computation.\n",
    "\n",
    "First, let's utilize the sparsity of `H`, i.e. the fact that there are lots of zeros, by indicating it through a type."
   ]
  },
  {
   "cell_type": "code",
   "execution_count": 30,
   "metadata": {},
   "outputs": [
    {
     "data": {
      "text/plain": [
       "100×100 SparseMatrixCSC{Float64, Int64} with 298 stored entries:\n",
       "⠻⣦⡀⠀⠀⠀⠀⠀⠀⠀⠀⠀⠀⠀⠀⠀⠀⠀⠀⠀⠀⠀⠀⠀⠀⠀⠀⠀⠀⠀⠀⠀⠀⠀⠀⠀⠀⠀⠀⠀\n",
       "⠀⠈⠻⣦⡀⠀⠀⠀⠀⠀⠀⠀⠀⠀⠀⠀⠀⠀⠀⠀⠀⠀⠀⠀⠀⠀⠀⠀⠀⠀⠀⠀⠀⠀⠀⠀⠀⠀⠀⠀\n",
       "⠀⠀⠀⠈⠻⣦⡀⠀⠀⠀⠀⠀⠀⠀⠀⠀⠀⠀⠀⠀⠀⠀⠀⠀⠀⠀⠀⠀⠀⠀⠀⠀⠀⠀⠀⠀⠀⠀⠀⠀\n",
       "⠀⠀⠀⠀⠀⠈⠻⣦⡀⠀⠀⠀⠀⠀⠀⠀⠀⠀⠀⠀⠀⠀⠀⠀⠀⠀⠀⠀⠀⠀⠀⠀⠀⠀⠀⠀⠀⠀⠀⠀\n",
       "⠀⠀⠀⠀⠀⠀⠀⠈⠻⣦⡀⠀⠀⠀⠀⠀⠀⠀⠀⠀⠀⠀⠀⠀⠀⠀⠀⠀⠀⠀⠀⠀⠀⠀⠀⠀⠀⠀⠀⠀\n",
       "⠀⠀⠀⠀⠀⠀⠀⠀⠀⠈⠻⣦⡀⠀⠀⠀⠀⠀⠀⠀⠀⠀⠀⠀⠀⠀⠀⠀⠀⠀⠀⠀⠀⠀⠀⠀⠀⠀⠀⠀\n",
       "⠀⠀⠀⠀⠀⠀⠀⠀⠀⠀⠀⠈⠻⣦⡀⠀⠀⠀⠀⠀⠀⠀⠀⠀⠀⠀⠀⠀⠀⠀⠀⠀⠀⠀⠀⠀⠀⠀⠀⠀\n",
       "⠀⠀⠀⠀⠀⠀⠀⠀⠀⠀⠀⠀⠀⠈⠻⣦⡀⠀⠀⠀⠀⠀⠀⠀⠀⠀⠀⠀⠀⠀⠀⠀⠀⠀⠀⠀⠀⠀⠀⠀\n",
       "⠀⠀⠀⠀⠀⠀⠀⠀⠀⠀⠀⠀⠀⠀⠀⠈⠻⣦⡀⠀⠀⠀⠀⠀⠀⠀⠀⠀⠀⠀⠀⠀⠀⠀⠀⠀⠀⠀⠀⠀\n",
       "⠀⠀⠀⠀⠀⠀⠀⠀⠀⠀⠀⠀⠀⠀⠀⠀⠀⠈⠻⣦⡀⠀⠀⠀⠀⠀⠀⠀⠀⠀⠀⠀⠀⠀⠀⠀⠀⠀⠀⠀\n",
       "⠀⠀⠀⠀⠀⠀⠀⠀⠀⠀⠀⠀⠀⠀⠀⠀⠀⠀⠀⠈⠻⣦⡀⠀⠀⠀⠀⠀⠀⠀⠀⠀⠀⠀⠀⠀⠀⠀⠀⠀\n",
       "⠀⠀⠀⠀⠀⠀⠀⠀⠀⠀⠀⠀⠀⠀⠀⠀⠀⠀⠀⠀⠀⠈⠻⣦⡀⠀⠀⠀⠀⠀⠀⠀⠀⠀⠀⠀⠀⠀⠀⠀\n",
       "⠀⠀⠀⠀⠀⠀⠀⠀⠀⠀⠀⠀⠀⠀⠀⠀⠀⠀⠀⠀⠀⠀⠀⠈⠻⣦⡀⠀⠀⠀⠀⠀⠀⠀⠀⠀⠀⠀⠀⠀\n",
       "⠀⠀⠀⠀⠀⠀⠀⠀⠀⠀⠀⠀⠀⠀⠀⠀⠀⠀⠀⠀⠀⠀⠀⠀⠀⠈⠻⣦⡀⠀⠀⠀⠀⠀⠀⠀⠀⠀⠀⠀\n",
       "⠀⠀⠀⠀⠀⠀⠀⠀⠀⠀⠀⠀⠀⠀⠀⠀⠀⠀⠀⠀⠀⠀⠀⠀⠀⠀⠀⠈⠻⣦⡀⠀⠀⠀⠀⠀⠀⠀⠀⠀\n",
       "⠀⠀⠀⠀⠀⠀⠀⠀⠀⠀⠀⠀⠀⠀⠀⠀⠀⠀⠀⠀⠀⠀⠀⠀⠀⠀⠀⠀⠀⠈⠻⣦⡀⠀⠀⠀⠀⠀⠀⠀\n",
       "⠀⠀⠀⠀⠀⠀⠀⠀⠀⠀⠀⠀⠀⠀⠀⠀⠀⠀⠀⠀⠀⠀⠀⠀⠀⠀⠀⠀⠀⠀⠀⠈⠻⣦⡀⠀⠀⠀⠀⠀\n",
       "⠀⠀⠀⠀⠀⠀⠀⠀⠀⠀⠀⠀⠀⠀⠀⠀⠀⠀⠀⠀⠀⠀⠀⠀⠀⠀⠀⠀⠀⠀⠀⠀⠀⠈⠻⣦⡀⠀⠀⠀\n",
       "⠀⠀⠀⠀⠀⠀⠀⠀⠀⠀⠀⠀⠀⠀⠀⠀⠀⠀⠀⠀⠀⠀⠀⠀⠀⠀⠀⠀⠀⠀⠀⠀⠀⠀⠀⠈⠻⣦⡀⠀\n",
       "⠀⠀⠀⠀⠀⠀⠀⠀⠀⠀⠀⠀⠀⠀⠀⠀⠀⠀⠀⠀⠀⠀⠀⠀⠀⠀⠀⠀⠀⠀⠀⠀⠀⠀⠀⠀⠀⠈⠻⣦"
      ]
     },
     "execution_count": 30,
     "metadata": {},
     "output_type": "execute_result"
    }
   ],
   "source": [
    "using SparseArrays\n",
    "Hsparse = sparse(H)"
   ]
  },
  {
   "cell_type": "code",
   "execution_count": 31,
   "metadata": {},
   "outputs": [
    {
     "name": "stdout",
     "output_type": "stream",
     "text": [
      "  369.639 ns (1 allocation: 896 bytes)\n"
     ]
    }
   ],
   "source": [
    "@btime E($Hsparse, $ψ);"
   ]
  },
  {
   "cell_type": "markdown",
   "metadata": {},
   "source": [
    "That's a solid **30x speedup**!"
   ]
  },
  {
   "cell_type": "markdown",
   "metadata": {},
   "source": [
    "Looking more closely, our `H` isn't just sparse, but actually tridiagonal. Let's try to exploit that as well."
   ]
  },
  {
   "cell_type": "code",
   "execution_count": 32,
   "metadata": {},
   "outputs": [
    {
     "data": {
      "text/plain": [
       "100×100 Tridiagonal{Float64, Vector{Float64}}:\n",
       " -0.5  -1.0    ⋅     ⋅     ⋅     ⋅   …    ⋅     ⋅     ⋅     ⋅     ⋅     ⋅ \n",
       " -1.0  -0.5  -1.0    ⋅     ⋅     ⋅        ⋅     ⋅     ⋅     ⋅     ⋅     ⋅ \n",
       "   ⋅   -1.0  -0.5  -1.0    ⋅     ⋅        ⋅     ⋅     ⋅     ⋅     ⋅     ⋅ \n",
       "   ⋅     ⋅   -1.0  -0.5  -1.0    ⋅        ⋅     ⋅     ⋅     ⋅     ⋅     ⋅ \n",
       "   ⋅     ⋅     ⋅   -1.0  -0.5  -1.0       ⋅     ⋅     ⋅     ⋅     ⋅     ⋅ \n",
       "   ⋅     ⋅     ⋅     ⋅   -1.0  -0.5  …    ⋅     ⋅     ⋅     ⋅     ⋅     ⋅ \n",
       "   ⋅     ⋅     ⋅     ⋅     ⋅   -1.0       ⋅     ⋅     ⋅     ⋅     ⋅     ⋅ \n",
       "   ⋅     ⋅     ⋅     ⋅     ⋅     ⋅        ⋅     ⋅     ⋅     ⋅     ⋅     ⋅ \n",
       "   ⋅     ⋅     ⋅     ⋅     ⋅     ⋅        ⋅     ⋅     ⋅     ⋅     ⋅     ⋅ \n",
       "   ⋅     ⋅     ⋅     ⋅     ⋅     ⋅        ⋅     ⋅     ⋅     ⋅     ⋅     ⋅ \n",
       "   ⋅     ⋅     ⋅     ⋅     ⋅     ⋅   …    ⋅     ⋅     ⋅     ⋅     ⋅     ⋅ \n",
       "   ⋅     ⋅     ⋅     ⋅     ⋅     ⋅        ⋅     ⋅     ⋅     ⋅     ⋅     ⋅ \n",
       "   ⋅     ⋅     ⋅     ⋅     ⋅     ⋅        ⋅     ⋅     ⋅     ⋅     ⋅     ⋅ \n",
       "  ⋮                             ⋮    ⋱         ⋮                      \n",
       "   ⋅     ⋅     ⋅     ⋅     ⋅     ⋅        ⋅     ⋅     ⋅     ⋅     ⋅     ⋅ \n",
       "   ⋅     ⋅     ⋅     ⋅     ⋅     ⋅        ⋅     ⋅     ⋅     ⋅     ⋅     ⋅ \n",
       "   ⋅     ⋅     ⋅     ⋅     ⋅     ⋅   …    ⋅     ⋅     ⋅     ⋅     ⋅     ⋅ \n",
       "   ⋅     ⋅     ⋅     ⋅     ⋅     ⋅        ⋅     ⋅     ⋅     ⋅     ⋅     ⋅ \n",
       "   ⋅     ⋅     ⋅     ⋅     ⋅     ⋅        ⋅     ⋅     ⋅     ⋅     ⋅     ⋅ \n",
       "   ⋅     ⋅     ⋅     ⋅     ⋅     ⋅      -1.0    ⋅     ⋅     ⋅     ⋅     ⋅ \n",
       "   ⋅     ⋅     ⋅     ⋅     ⋅     ⋅      -0.5  -1.0    ⋅     ⋅     ⋅     ⋅ \n",
       "   ⋅     ⋅     ⋅     ⋅     ⋅     ⋅   …  -1.0  -0.5  -1.0    ⋅     ⋅     ⋅ \n",
       "   ⋅     ⋅     ⋅     ⋅     ⋅     ⋅        ⋅   -1.0  -0.5  -1.0    ⋅     ⋅ \n",
       "   ⋅     ⋅     ⋅     ⋅     ⋅     ⋅        ⋅     ⋅   -1.0  -0.5  -1.0    ⋅ \n",
       "   ⋅     ⋅     ⋅     ⋅     ⋅     ⋅        ⋅     ⋅     ⋅   -1.0  -0.5  -1.0\n",
       "   ⋅     ⋅     ⋅     ⋅     ⋅     ⋅        ⋅     ⋅     ⋅     ⋅   -1.0  -0.5"
      ]
     },
     "execution_count": 32,
     "metadata": {},
     "output_type": "execute_result"
    }
   ],
   "source": [
    "Htri = Tridiagonal(H)"
   ]
  },
  {
   "cell_type": "code",
   "execution_count": 33,
   "metadata": {},
   "outputs": [
    {
     "name": "stdout",
     "output_type": "stream",
     "text": [
      "  169.033 ns (2 allocations: 944 bytes)\n"
     ]
    }
   ],
   "source": [
    "@btime E($Htri, $ψ);"
   ]
  },
  {
   "cell_type": "markdown",
   "metadata": {},
   "source": [
    "By choosing the type of `H` we are, through multiple dispatch, also choosing more efficient methods! Finding the best type (and therewith an algorithm) can sometimes be tricky and one has to play around a bit. The good thing is that it's very easy!\n",
    "\n",
    "Note that there are also great matrix types available in the ecosystem, see [JuliaMatrices](https://github.com/JuliaMatrices), for example."
   ]
  },
  {
   "cell_type": "markdown",
   "metadata": {},
   "source": [
    "# Exact diagonalisation a.k.a Eigendecomposition"
   ]
  },
  {
   "cell_type": "markdown",
   "metadata": {},
   "source": [
    "To diagonalize our dense \"Hamiltonian\", we simply call the built-in function `eigen`."
   ]
  },
  {
   "cell_type": "code",
   "execution_count": 35,
   "metadata": {},
   "outputs": [],
   "source": [
    "vals, vecs = eigen(H);"
   ]
  },
  {
   "cell_type": "code",
   "execution_count": 36,
   "metadata": {},
   "outputs": [],
   "source": [
    "ψ0 = vecs[:,1]; # single-particle groundstate"
   ]
  },
  {
   "cell_type": "code",
   "execution_count": 37,
   "metadata": {},
   "outputs": [
    {
     "data": {
      "text/plain": [
       "-2.4990325645839753"
      ]
     },
     "execution_count": 37,
     "metadata": {},
     "output_type": "execute_result"
    }
   ],
   "source": [
    "E(H, ψ0)"
   ]
  },
  {
   "cell_type": "code",
   "execution_count": 38,
   "metadata": {},
   "outputs": [
    {
     "data": {
      "text/plain": [
       "true"
      ]
     },
     "execution_count": 38,
     "metadata": {},
     "output_type": "execute_result"
    }
   ],
   "source": [
    "E(H, ψ0) <= E(H, ψ) # groundstate has the lowest energy"
   ]
  },
  {
   "cell_type": "code",
   "execution_count": 39,
   "metadata": {},
   "outputs": [
    {
     "data": {
      "image/svg+xml": [
       "<?xml version=\"1.0\" encoding=\"utf-8\"?>\n",
       "<svg xmlns=\"http://www.w3.org/2000/svg\" xmlns:xlink=\"http://www.w3.org/1999/xlink\" width=\"600\" height=\"400\" viewBox=\"0 0 2400 1600\">\n",
       "<defs>\n",
       "  <clipPath id=\"clip870\">\n",
       "    <rect x=\"0\" y=\"0\" width=\"2400\" height=\"1600\"/>\n",
       "  </clipPath>\n",
       "</defs>\n",
       "<path clip-path=\"url(#clip870)\" d=\"\n",
       "M0 1600 L2400 1600 L2400 0 L0 0  Z\n",
       "  \" fill=\"#ffffff\" fill-rule=\"evenodd\" fill-opacity=\"1\"/>\n",
       "<defs>\n",
       "  <clipPath id=\"clip871\">\n",
       "    <rect x=\"480\" y=\"0\" width=\"1681\" height=\"1600\"/>\n",
       "  </clipPath>\n",
       "</defs>\n",
       "<path clip-path=\"url(#clip870)\" d=\"\n",
       "M279.704 1423.18 L2352.76 1423.18 L2352.76 47.2441 L279.704 47.2441  Z\n",
       "  \" fill=\"#ffffff\" fill-rule=\"evenodd\" fill-opacity=\"1\"/>\n",
       "<defs>\n",
       "  <clipPath id=\"clip872\">\n",
       "    <rect x=\"279\" y=\"47\" width=\"2074\" height=\"1377\"/>\n",
       "  </clipPath>\n",
       "</defs>\n",
       "<polyline clip-path=\"url(#clip872)\" style=\"stroke:#000000; stroke-linecap:butt; stroke-linejoin:round; stroke-width:2; stroke-opacity:0.1; fill:none\" points=\"\n",
       "  318.621,1423.18 318.621,47.2441 \n",
       "  \"/>\n",
       "<polyline clip-path=\"url(#clip872)\" style=\"stroke:#000000; stroke-linecap:butt; stroke-linejoin:round; stroke-width:2; stroke-opacity:0.1; fill:none\" points=\"\n",
       "  812.487,1423.18 812.487,47.2441 \n",
       "  \"/>\n",
       "<polyline clip-path=\"url(#clip872)\" style=\"stroke:#000000; stroke-linecap:butt; stroke-linejoin:round; stroke-width:2; stroke-opacity:0.1; fill:none\" points=\"\n",
       "  1306.35,1423.18 1306.35,47.2441 \n",
       "  \"/>\n",
       "<polyline clip-path=\"url(#clip872)\" style=\"stroke:#000000; stroke-linecap:butt; stroke-linejoin:round; stroke-width:2; stroke-opacity:0.1; fill:none\" points=\"\n",
       "  1800.22,1423.18 1800.22,47.2441 \n",
       "  \"/>\n",
       "<polyline clip-path=\"url(#clip872)\" style=\"stroke:#000000; stroke-linecap:butt; stroke-linejoin:round; stroke-width:2; stroke-opacity:0.1; fill:none\" points=\"\n",
       "  2294.08,1423.18 2294.08,47.2441 \n",
       "  \"/>\n",
       "<polyline clip-path=\"url(#clip870)\" style=\"stroke:#000000; stroke-linecap:butt; stroke-linejoin:round; stroke-width:4; stroke-opacity:1; fill:none\" points=\"\n",
       "  279.704,1423.18 2352.76,1423.18 \n",
       "  \"/>\n",
       "<polyline clip-path=\"url(#clip870)\" style=\"stroke:#000000; stroke-linecap:butt; stroke-linejoin:round; stroke-width:4; stroke-opacity:1; fill:none\" points=\"\n",
       "  318.621,1423.18 318.621,1404.28 \n",
       "  \"/>\n",
       "<polyline clip-path=\"url(#clip870)\" style=\"stroke:#000000; stroke-linecap:butt; stroke-linejoin:round; stroke-width:4; stroke-opacity:1; fill:none\" points=\"\n",
       "  812.487,1423.18 812.487,1404.28 \n",
       "  \"/>\n",
       "<polyline clip-path=\"url(#clip870)\" style=\"stroke:#000000; stroke-linecap:butt; stroke-linejoin:round; stroke-width:4; stroke-opacity:1; fill:none\" points=\"\n",
       "  1306.35,1423.18 1306.35,1404.28 \n",
       "  \"/>\n",
       "<polyline clip-path=\"url(#clip870)\" style=\"stroke:#000000; stroke-linecap:butt; stroke-linejoin:round; stroke-width:4; stroke-opacity:1; fill:none\" points=\"\n",
       "  1800.22,1423.18 1800.22,1404.28 \n",
       "  \"/>\n",
       "<polyline clip-path=\"url(#clip870)\" style=\"stroke:#000000; stroke-linecap:butt; stroke-linejoin:round; stroke-width:4; stroke-opacity:1; fill:none\" points=\"\n",
       "  2294.08,1423.18 2294.08,1404.28 \n",
       "  \"/>\n",
       "<path clip-path=\"url(#clip870)\" d=\"M318.621 1454.1 Q315.009 1454.1 313.181 1457.66 Q311.375 1461.2 311.375 1468.33 Q311.375 1475.44 313.181 1479.01 Q315.009 1482.55 318.621 1482.55 Q322.255 1482.55 324.06 1479.01 Q325.889 1475.44 325.889 1468.33 Q325.889 1461.2 324.06 1457.66 Q322.255 1454.1 318.621 1454.1 M318.621 1450.39 Q324.431 1450.39 327.486 1455 Q330.565 1459.58 330.565 1468.33 Q330.565 1477.06 327.486 1481.67 Q324.431 1486.25 318.621 1486.25 Q312.81 1486.25 309.732 1481.67 Q306.676 1477.06 306.676 1468.33 Q306.676 1459.58 309.732 1455 Q312.81 1450.39 318.621 1450.39 Z\" fill=\"#000000\" fill-rule=\"evenodd\" fill-opacity=\"1\" /><path clip-path=\"url(#clip870)\" d=\"M791.758 1481.64 L808.077 1481.64 L808.077 1485.58 L786.133 1485.58 L786.133 1481.64 Q788.795 1478.89 793.378 1474.26 Q797.984 1469.61 799.165 1468.27 Q801.41 1465.74 802.29 1464.01 Q803.193 1462.25 803.193 1460.56 Q803.193 1457.8 801.248 1456.07 Q799.327 1454.33 796.225 1454.33 Q794.026 1454.33 791.572 1455.09 Q789.142 1455.86 786.364 1457.41 L786.364 1452.69 Q789.188 1451.55 791.642 1450.97 Q794.095 1450.39 796.132 1450.39 Q801.503 1450.39 804.697 1453.08 Q807.892 1455.77 807.892 1460.26 Q807.892 1462.39 807.082 1464.31 Q806.294 1466.2 804.188 1468.8 Q803.609 1469.47 800.507 1472.69 Q797.406 1475.88 791.758 1481.64 Z\" fill=\"#000000\" fill-rule=\"evenodd\" fill-opacity=\"1\" /><path clip-path=\"url(#clip870)\" d=\"M817.938 1451.02 L836.294 1451.02 L836.294 1454.96 L822.22 1454.96 L822.22 1463.43 Q823.239 1463.08 824.257 1462.92 Q825.276 1462.73 826.294 1462.73 Q832.081 1462.73 835.461 1465.9 Q838.841 1469.08 838.841 1474.49 Q838.841 1480.07 835.368 1483.17 Q831.896 1486.25 825.577 1486.25 Q823.401 1486.25 821.132 1485.88 Q818.887 1485.51 816.48 1484.77 L816.48 1480.07 Q818.563 1481.2 820.785 1481.76 Q823.007 1482.32 825.484 1482.32 Q829.489 1482.32 831.827 1480.21 Q834.165 1478.1 834.165 1474.49 Q834.165 1470.88 831.827 1468.77 Q829.489 1466.67 825.484 1466.67 Q823.609 1466.67 821.734 1467.08 Q819.882 1467.5 817.938 1468.38 L817.938 1451.02 Z\" fill=\"#000000\" fill-rule=\"evenodd\" fill-opacity=\"1\" /><path clip-path=\"url(#clip870)\" d=\"M1281.05 1451.02 L1299.41 1451.02 L1299.41 1454.96 L1285.33 1454.96 L1285.33 1463.43 Q1286.35 1463.08 1287.37 1462.92 Q1288.39 1462.73 1289.41 1462.73 Q1295.2 1462.73 1298.57 1465.9 Q1301.95 1469.08 1301.95 1474.49 Q1301.95 1480.07 1298.48 1483.17 Q1295.01 1486.25 1288.69 1486.25 Q1286.51 1486.25 1284.25 1485.88 Q1282 1485.51 1279.59 1484.77 L1279.59 1480.07 Q1281.68 1481.2 1283.9 1481.76 Q1286.12 1482.32 1288.6 1482.32 Q1292.6 1482.32 1294.94 1480.21 Q1297.28 1478.1 1297.28 1474.49 Q1297.28 1470.88 1294.94 1468.77 Q1292.6 1466.67 1288.6 1466.67 Q1286.72 1466.67 1284.85 1467.08 Q1283 1467.5 1281.05 1468.38 L1281.05 1451.02 Z\" fill=\"#000000\" fill-rule=\"evenodd\" fill-opacity=\"1\" /><path clip-path=\"url(#clip870)\" d=\"M1321.17 1454.1 Q1317.56 1454.1 1315.73 1457.66 Q1313.92 1461.2 1313.92 1468.33 Q1313.92 1475.44 1315.73 1479.01 Q1317.56 1482.55 1321.17 1482.55 Q1324.8 1482.55 1326.61 1479.01 Q1328.44 1475.44 1328.44 1468.33 Q1328.44 1461.2 1326.61 1457.66 Q1324.8 1454.1 1321.17 1454.1 M1321.17 1450.39 Q1326.98 1450.39 1330.03 1455 Q1333.11 1459.58 1333.11 1468.33 Q1333.11 1477.06 1330.03 1481.67 Q1326.98 1486.25 1321.17 1486.25 Q1315.36 1486.25 1312.28 1481.67 Q1309.22 1477.06 1309.22 1468.33 Q1309.22 1459.58 1312.28 1455 Q1315.36 1450.39 1321.17 1450.39 Z\" fill=\"#000000\" fill-rule=\"evenodd\" fill-opacity=\"1\" /><path clip-path=\"url(#clip870)\" d=\"M1774.07 1451.02 L1796.3 1451.02 L1796.3 1453.01 L1783.75 1485.58 L1778.86 1485.58 L1790.67 1454.96 L1774.07 1454.96 L1774.07 1451.02 Z\" fill=\"#000000\" fill-rule=\"evenodd\" fill-opacity=\"1\" /><path clip-path=\"url(#clip870)\" d=\"M1805.46 1451.02 L1823.82 1451.02 L1823.82 1454.96 L1809.74 1454.96 L1809.74 1463.43 Q1810.76 1463.08 1811.78 1462.92 Q1812.8 1462.73 1813.82 1462.73 Q1819.61 1462.73 1822.98 1465.9 Q1826.36 1469.08 1826.36 1474.49 Q1826.36 1480.07 1822.89 1483.17 Q1819.42 1486.25 1813.1 1486.25 Q1810.92 1486.25 1808.66 1485.88 Q1806.41 1485.51 1804 1484.77 L1804 1480.07 Q1806.09 1481.2 1808.31 1481.76 Q1810.53 1482.32 1813.01 1482.32 Q1817.01 1482.32 1819.35 1480.21 Q1821.69 1478.1 1821.69 1474.49 Q1821.69 1470.88 1819.35 1468.77 Q1817.01 1466.67 1813.01 1466.67 Q1811.13 1466.67 1809.26 1467.08 Q1807.41 1467.5 1805.46 1468.38 L1805.46 1451.02 Z\" fill=\"#000000\" fill-rule=\"evenodd\" fill-opacity=\"1\" /><path clip-path=\"url(#clip870)\" d=\"M2253.69 1481.64 L2261.33 1481.64 L2261.33 1455.28 L2253.02 1456.95 L2253.02 1452.69 L2261.28 1451.02 L2265.96 1451.02 L2265.96 1481.64 L2273.6 1481.64 L2273.6 1485.58 L2253.69 1485.58 L2253.69 1481.64 Z\" fill=\"#000000\" fill-rule=\"evenodd\" fill-opacity=\"1\" /><path clip-path=\"url(#clip870)\" d=\"M2293.04 1454.1 Q2289.43 1454.1 2287.6 1457.66 Q2285.8 1461.2 2285.8 1468.33 Q2285.8 1475.44 2287.6 1479.01 Q2289.43 1482.55 2293.04 1482.55 Q2296.68 1482.55 2298.48 1479.01 Q2300.31 1475.44 2300.31 1468.33 Q2300.31 1461.2 2298.48 1457.66 Q2296.68 1454.1 2293.04 1454.1 M2293.04 1450.39 Q2298.85 1450.39 2301.91 1455 Q2304.99 1459.58 2304.99 1468.33 Q2304.99 1477.06 2301.91 1481.67 Q2298.85 1486.25 2293.04 1486.25 Q2287.23 1486.25 2284.15 1481.67 Q2281.1 1477.06 2281.1 1468.33 Q2281.1 1459.58 2284.15 1455 Q2287.23 1450.39 2293.04 1450.39 Z\" fill=\"#000000\" fill-rule=\"evenodd\" fill-opacity=\"1\" /><path clip-path=\"url(#clip870)\" d=\"M2323.2 1454.1 Q2319.59 1454.1 2317.77 1457.66 Q2315.96 1461.2 2315.96 1468.33 Q2315.96 1475.44 2317.77 1479.01 Q2319.59 1482.55 2323.2 1482.55 Q2326.84 1482.55 2328.64 1479.01 Q2330.47 1475.44 2330.47 1468.33 Q2330.47 1461.2 2328.64 1457.66 Q2326.84 1454.1 2323.2 1454.1 M2323.2 1450.39 Q2329.01 1450.39 2332.07 1455 Q2335.15 1459.58 2335.15 1468.33 Q2335.15 1477.06 2332.07 1481.67 Q2329.01 1486.25 2323.2 1486.25 Q2317.39 1486.25 2314.32 1481.67 Q2311.26 1477.06 2311.26 1468.33 Q2311.26 1459.58 2314.32 1455 Q2317.39 1450.39 2323.2 1450.39 Z\" fill=\"#000000\" fill-rule=\"evenodd\" fill-opacity=\"1\" /><path clip-path=\"url(#clip870)\" d=\"M1286.2 1533.45 L1286.2 1538.98 Q1283.72 1537.71 1281.04 1537.07 Q1278.37 1536.44 1275.51 1536.44 Q1271.14 1536.44 1268.95 1537.77 Q1266.78 1539.11 1266.78 1541.79 Q1266.78 1543.82 1268.34 1545 Q1269.9 1546.15 1274.61 1547.2 L1276.62 1547.64 Q1282.86 1548.98 1285.47 1551.43 Q1288.11 1553.85 1288.11 1558.21 Q1288.11 1563.17 1284.16 1566.07 Q1280.25 1568.97 1273.37 1568.97 Q1270.51 1568.97 1267.39 1568.39 Q1264.3 1567.85 1260.86 1566.74 L1260.86 1560.69 Q1264.11 1562.38 1267.26 1563.24 Q1270.41 1564.07 1273.5 1564.07 Q1277.64 1564.07 1279.87 1562.66 Q1282.09 1561.23 1282.09 1558.65 Q1282.09 1556.27 1280.47 1554.99 Q1278.88 1553.72 1273.44 1552.54 L1271.4 1552.07 Q1265.96 1550.92 1263.54 1548.56 Q1261.12 1546.18 1261.12 1542.04 Q1261.12 1537.01 1264.68 1534.27 Q1268.25 1531.54 1274.81 1531.54 Q1278.05 1531.54 1280.92 1532.01 Q1283.78 1532.49 1286.2 1533.45 Z\" fill=\"#000000\" fill-rule=\"evenodd\" fill-opacity=\"1\" /><path clip-path=\"url(#clip870)\" d=\"M1297.44 1532.4 L1303.29 1532.4 L1303.29 1568.04 L1297.44 1568.04 L1297.44 1532.4 M1297.44 1518.52 L1303.29 1518.52 L1303.29 1525.93 L1297.44 1525.93 L1297.44 1518.52 Z\" fill=\"#000000\" fill-rule=\"evenodd\" fill-opacity=\"1\" /><path clip-path=\"url(#clip870)\" d=\"M1321.34 1522.27 L1321.34 1532.4 L1333.4 1532.4 L1333.4 1536.95 L1321.34 1536.95 L1321.34 1556.3 Q1321.34 1560.66 1322.52 1561.9 Q1323.73 1563.14 1327.39 1563.14 L1333.4 1563.14 L1333.4 1568.04 L1327.39 1568.04 Q1320.61 1568.04 1318.03 1565.53 Q1315.45 1562.98 1315.45 1556.3 L1315.45 1536.95 L1311.15 1536.95 L1311.15 1532.4 L1315.45 1532.4 L1315.45 1522.27 L1321.34 1522.27 Z\" fill=\"#000000\" fill-rule=\"evenodd\" fill-opacity=\"1\" /><path clip-path=\"url(#clip870)\" d=\"M1371.6 1548.76 L1371.6 1551.62 L1344.67 1551.62 Q1345.05 1557.67 1348.3 1560.85 Q1351.58 1564 1357.4 1564 Q1360.77 1564 1363.92 1563.17 Q1367.11 1562.35 1370.23 1560.69 L1370.23 1566.23 Q1367.08 1567.57 1363.77 1568.27 Q1360.46 1568.97 1357.05 1568.97 Q1348.52 1568.97 1343.52 1564 Q1338.56 1559.04 1338.56 1550.57 Q1338.56 1541.82 1343.27 1536.69 Q1348.01 1531.54 1356.03 1531.54 Q1363.22 1531.54 1367.39 1536.18 Q1371.6 1540.8 1371.6 1548.76 M1365.74 1547.04 Q1365.68 1542.23 1363.03 1539.37 Q1360.42 1536.5 1356.1 1536.5 Q1351.19 1536.5 1348.23 1539.27 Q1345.31 1542.04 1344.86 1547.07 L1365.74 1547.04 Z\" fill=\"#000000\" fill-rule=\"evenodd\" fill-opacity=\"1\" /><polyline clip-path=\"url(#clip872)\" style=\"stroke:#000000; stroke-linecap:butt; stroke-linejoin:round; stroke-width:2; stroke-opacity:0.1; fill:none\" points=\"\n",
       "  279.704,1385.5 2352.76,1385.5 \n",
       "  \"/>\n",
       "<polyline clip-path=\"url(#clip872)\" style=\"stroke:#000000; stroke-linecap:butt; stroke-linejoin:round; stroke-width:2; stroke-opacity:0.1; fill:none\" points=\"\n",
       "  279.704,1057.34 2352.76,1057.34 \n",
       "  \"/>\n",
       "<polyline clip-path=\"url(#clip872)\" style=\"stroke:#000000; stroke-linecap:butt; stroke-linejoin:round; stroke-width:2; stroke-opacity:0.1; fill:none\" points=\"\n",
       "  279.704,729.185 2352.76,729.185 \n",
       "  \"/>\n",
       "<polyline clip-path=\"url(#clip872)\" style=\"stroke:#000000; stroke-linecap:butt; stroke-linejoin:round; stroke-width:2; stroke-opacity:0.1; fill:none\" points=\"\n",
       "  279.704,401.03 2352.76,401.03 \n",
       "  \"/>\n",
       "<polyline clip-path=\"url(#clip872)\" style=\"stroke:#000000; stroke-linecap:butt; stroke-linejoin:round; stroke-width:2; stroke-opacity:0.1; fill:none\" points=\"\n",
       "  279.704,72.8751 2352.76,72.8751 \n",
       "  \"/>\n",
       "<polyline clip-path=\"url(#clip870)\" style=\"stroke:#000000; stroke-linecap:butt; stroke-linejoin:round; stroke-width:4; stroke-opacity:1; fill:none\" points=\"\n",
       "  279.704,1423.18 279.704,47.2441 \n",
       "  \"/>\n",
       "<polyline clip-path=\"url(#clip870)\" style=\"stroke:#000000; stroke-linecap:butt; stroke-linejoin:round; stroke-width:4; stroke-opacity:1; fill:none\" points=\"\n",
       "  279.704,1385.5 298.602,1385.5 \n",
       "  \"/>\n",
       "<polyline clip-path=\"url(#clip870)\" style=\"stroke:#000000; stroke-linecap:butt; stroke-linejoin:round; stroke-width:4; stroke-opacity:1; fill:none\" points=\"\n",
       "  279.704,1057.34 298.602,1057.34 \n",
       "  \"/>\n",
       "<polyline clip-path=\"url(#clip870)\" style=\"stroke:#000000; stroke-linecap:butt; stroke-linejoin:round; stroke-width:4; stroke-opacity:1; fill:none\" points=\"\n",
       "  279.704,729.185 298.602,729.185 \n",
       "  \"/>\n",
       "<polyline clip-path=\"url(#clip870)\" style=\"stroke:#000000; stroke-linecap:butt; stroke-linejoin:round; stroke-width:4; stroke-opacity:1; fill:none\" points=\"\n",
       "  279.704,401.03 298.602,401.03 \n",
       "  \"/>\n",
       "<polyline clip-path=\"url(#clip870)\" style=\"stroke:#000000; stroke-linecap:butt; stroke-linejoin:round; stroke-width:4; stroke-opacity:1; fill:none\" points=\"\n",
       "  279.704,72.8751 298.602,72.8751 \n",
       "  \"/>\n",
       "<path clip-path=\"url(#clip870)\" d=\"M126.205 1371.29 Q122.593 1371.29 120.765 1374.86 Q118.959 1378.4 118.959 1385.53 Q118.959 1392.64 120.765 1396.2 Q122.593 1399.74 126.205 1399.74 Q129.839 1399.74 131.644 1396.2 Q133.473 1392.64 133.473 1385.53 Q133.473 1378.4 131.644 1374.86 Q129.839 1371.29 126.205 1371.29 M126.205 1367.59 Q132.015 1367.59 135.07 1372.2 Q138.149 1376.78 138.149 1385.53 Q138.149 1394.26 135.07 1398.86 Q132.015 1403.45 126.205 1403.45 Q120.394 1403.45 117.316 1398.86 Q114.26 1394.26 114.26 1385.53 Q114.26 1376.78 117.316 1372.2 Q120.394 1367.59 126.205 1367.59 Z\" fill=\"#000000\" fill-rule=\"evenodd\" fill-opacity=\"1\" /><path clip-path=\"url(#clip870)\" d=\"M146.366 1396.9 L151.251 1396.9 L151.251 1402.78 L146.366 1402.78 L146.366 1396.9 Z\" fill=\"#000000\" fill-rule=\"evenodd\" fill-opacity=\"1\" /><path clip-path=\"url(#clip870)\" d=\"M171.436 1371.29 Q167.825 1371.29 165.996 1374.86 Q164.19 1378.4 164.19 1385.53 Q164.19 1392.64 165.996 1396.2 Q167.825 1399.74 171.436 1399.74 Q175.07 1399.74 176.876 1396.2 Q178.704 1392.64 178.704 1385.53 Q178.704 1378.4 176.876 1374.86 Q175.07 1371.29 171.436 1371.29 M171.436 1367.59 Q177.246 1367.59 180.301 1372.2 Q183.38 1376.78 183.38 1385.53 Q183.38 1394.26 180.301 1398.86 Q177.246 1403.45 171.436 1403.45 Q165.626 1403.45 162.547 1398.86 Q159.491 1394.26 159.491 1385.53 Q159.491 1376.78 162.547 1372.2 Q165.626 1367.59 171.436 1367.59 Z\" fill=\"#000000\" fill-rule=\"evenodd\" fill-opacity=\"1\" /><path clip-path=\"url(#clip870)\" d=\"M201.598 1371.29 Q197.987 1371.29 196.158 1374.86 Q194.352 1378.4 194.352 1385.53 Q194.352 1392.64 196.158 1396.2 Q197.987 1399.74 201.598 1399.74 Q205.232 1399.74 207.037 1396.2 Q208.866 1392.64 208.866 1385.53 Q208.866 1378.4 207.037 1374.86 Q205.232 1371.29 201.598 1371.29 M201.598 1367.59 Q207.408 1367.59 210.463 1372.2 Q213.542 1376.78 213.542 1385.53 Q213.542 1394.26 210.463 1398.86 Q207.408 1403.45 201.598 1403.45 Q195.787 1403.45 192.709 1398.86 Q189.653 1394.26 189.653 1385.53 Q189.653 1376.78 192.709 1372.2 Q195.787 1367.59 201.598 1367.59 Z\" fill=\"#000000\" fill-rule=\"evenodd\" fill-opacity=\"1\" /><path clip-path=\"url(#clip870)\" d=\"M231.76 1371.29 Q228.148 1371.29 226.32 1374.86 Q224.514 1378.4 224.514 1385.53 Q224.514 1392.64 226.32 1396.2 Q228.148 1399.74 231.76 1399.74 Q235.394 1399.74 237.199 1396.2 Q239.028 1392.64 239.028 1385.53 Q239.028 1378.4 237.199 1374.86 Q235.394 1371.29 231.76 1371.29 M231.76 1367.59 Q237.57 1367.59 240.625 1372.2 Q243.704 1376.78 243.704 1385.53 Q243.704 1394.26 240.625 1398.86 Q237.57 1403.45 231.76 1403.45 Q225.949 1403.45 222.871 1398.86 Q219.815 1394.26 219.815 1385.53 Q219.815 1376.78 222.871 1372.2 Q225.949 1367.59 231.76 1367.59 Z\" fill=\"#000000\" fill-rule=\"evenodd\" fill-opacity=\"1\" /><path clip-path=\"url(#clip870)\" d=\"M127.2 1043.14 Q123.589 1043.14 121.76 1046.7 Q119.955 1050.25 119.955 1057.37 Q119.955 1064.48 121.76 1068.05 Q123.589 1071.59 127.2 1071.59 Q130.834 1071.59 132.64 1068.05 Q134.468 1064.48 134.468 1057.37 Q134.468 1050.25 132.64 1046.7 Q130.834 1043.14 127.2 1043.14 M127.2 1039.44 Q133.01 1039.44 136.066 1044.04 Q139.144 1048.62 139.144 1057.37 Q139.144 1066.1 136.066 1070.71 Q133.01 1075.29 127.2 1075.29 Q121.39 1075.29 118.311 1070.71 Q115.256 1066.1 115.256 1057.37 Q115.256 1048.62 118.311 1044.04 Q121.39 1039.44 127.2 1039.44 Z\" fill=\"#000000\" fill-rule=\"evenodd\" fill-opacity=\"1\" /><path clip-path=\"url(#clip870)\" d=\"M147.362 1068.74 L152.246 1068.74 L152.246 1074.62 L147.362 1074.62 L147.362 1068.74 Z\" fill=\"#000000\" fill-rule=\"evenodd\" fill-opacity=\"1\" /><path clip-path=\"url(#clip870)\" d=\"M172.431 1043.14 Q168.82 1043.14 166.991 1046.7 Q165.186 1050.25 165.186 1057.37 Q165.186 1064.48 166.991 1068.05 Q168.82 1071.59 172.431 1071.59 Q176.065 1071.59 177.871 1068.05 Q179.7 1064.48 179.7 1057.37 Q179.7 1050.25 177.871 1046.7 Q176.065 1043.14 172.431 1043.14 M172.431 1039.44 Q178.241 1039.44 181.297 1044.04 Q184.376 1048.62 184.376 1057.37 Q184.376 1066.1 181.297 1070.71 Q178.241 1075.29 172.431 1075.29 Q166.621 1075.29 163.542 1070.71 Q160.487 1066.1 160.487 1057.37 Q160.487 1048.62 163.542 1044.04 Q166.621 1039.44 172.431 1039.44 Z\" fill=\"#000000\" fill-rule=\"evenodd\" fill-opacity=\"1\" /><path clip-path=\"url(#clip870)\" d=\"M202.593 1043.14 Q198.982 1043.14 197.153 1046.7 Q195.348 1050.25 195.348 1057.37 Q195.348 1064.48 197.153 1068.05 Q198.982 1071.59 202.593 1071.59 Q206.227 1071.59 208.033 1068.05 Q209.861 1064.48 209.861 1057.37 Q209.861 1050.25 208.033 1046.7 Q206.227 1043.14 202.593 1043.14 M202.593 1039.44 Q208.403 1039.44 211.459 1044.04 Q214.537 1048.62 214.537 1057.37 Q214.537 1066.1 211.459 1070.71 Q208.403 1075.29 202.593 1075.29 Q196.783 1075.29 193.704 1070.71 Q190.649 1066.1 190.649 1057.37 Q190.649 1048.62 193.704 1044.04 Q196.783 1039.44 202.593 1039.44 Z\" fill=\"#000000\" fill-rule=\"evenodd\" fill-opacity=\"1\" /><path clip-path=\"url(#clip870)\" d=\"M222.801 1040.06 L241.158 1040.06 L241.158 1044 L227.084 1044 L227.084 1052.47 Q228.102 1052.12 229.121 1051.96 Q230.139 1051.77 231.158 1051.77 Q236.945 1051.77 240.324 1054.94 Q243.704 1058.12 243.704 1063.53 Q243.704 1069.11 240.232 1072.21 Q236.76 1075.29 230.44 1075.29 Q228.264 1075.29 225.996 1074.92 Q223.75 1074.55 221.343 1073.81 L221.343 1069.11 Q223.426 1070.25 225.648 1070.8 Q227.871 1071.36 230.347 1071.36 Q234.352 1071.36 236.69 1069.25 Q239.028 1067.14 239.028 1063.53 Q239.028 1059.92 236.69 1057.81 Q234.352 1055.71 230.347 1055.71 Q228.473 1055.71 226.598 1056.12 Q224.746 1056.54 222.801 1057.42 L222.801 1040.06 Z\" fill=\"#000000\" fill-rule=\"evenodd\" fill-opacity=\"1\" /><path clip-path=\"url(#clip870)\" d=\"M126.205 714.984 Q122.593 714.984 120.765 718.549 Q118.959 722.09 118.959 729.22 Q118.959 736.326 120.765 739.891 Q122.593 743.433 126.205 743.433 Q129.839 743.433 131.644 739.891 Q133.473 736.326 133.473 729.22 Q133.473 722.09 131.644 718.549 Q129.839 714.984 126.205 714.984 M126.205 711.28 Q132.015 711.28 135.07 715.887 Q138.149 720.47 138.149 729.22 Q138.149 737.947 135.07 742.553 Q132.015 747.136 126.205 747.136 Q120.394 747.136 117.316 742.553 Q114.26 737.947 114.26 729.22 Q114.26 720.47 117.316 715.887 Q120.394 711.28 126.205 711.28 Z\" fill=\"#000000\" fill-rule=\"evenodd\" fill-opacity=\"1\" /><path clip-path=\"url(#clip870)\" d=\"M146.366 740.586 L151.251 740.586 L151.251 746.465 L146.366 746.465 L146.366 740.586 Z\" fill=\"#000000\" fill-rule=\"evenodd\" fill-opacity=\"1\" /><path clip-path=\"url(#clip870)\" d=\"M171.436 714.984 Q167.825 714.984 165.996 718.549 Q164.19 722.09 164.19 729.22 Q164.19 736.326 165.996 739.891 Q167.825 743.433 171.436 743.433 Q175.07 743.433 176.876 739.891 Q178.704 736.326 178.704 729.22 Q178.704 722.09 176.876 718.549 Q175.07 714.984 171.436 714.984 M171.436 711.28 Q177.246 711.28 180.301 715.887 Q183.38 720.47 183.38 729.22 Q183.38 737.947 180.301 742.553 Q177.246 747.136 171.436 747.136 Q165.626 747.136 162.547 742.553 Q159.491 737.947 159.491 729.22 Q159.491 720.47 162.547 715.887 Q165.626 711.28 171.436 711.28 Z\" fill=\"#000000\" fill-rule=\"evenodd\" fill-opacity=\"1\" /><path clip-path=\"url(#clip870)\" d=\"M192.408 742.53 L200.047 742.53 L200.047 716.164 L191.737 717.831 L191.737 713.572 L200 711.905 L204.676 711.905 L204.676 742.53 L212.315 742.53 L212.315 746.465 L192.408 746.465 L192.408 742.53 Z\" fill=\"#000000\" fill-rule=\"evenodd\" fill-opacity=\"1\" /><path clip-path=\"url(#clip870)\" d=\"M231.76 714.984 Q228.148 714.984 226.32 718.549 Q224.514 722.09 224.514 729.22 Q224.514 736.326 226.32 739.891 Q228.148 743.433 231.76 743.433 Q235.394 743.433 237.199 739.891 Q239.028 736.326 239.028 729.22 Q239.028 722.09 237.199 718.549 Q235.394 714.984 231.76 714.984 M231.76 711.28 Q237.57 711.28 240.625 715.887 Q243.704 720.47 243.704 729.22 Q243.704 737.947 240.625 742.553 Q237.57 747.136 231.76 747.136 Q225.949 747.136 222.871 742.553 Q219.815 737.947 219.815 729.22 Q219.815 720.47 222.871 715.887 Q225.949 711.28 231.76 711.28 Z\" fill=\"#000000\" fill-rule=\"evenodd\" fill-opacity=\"1\" /><path clip-path=\"url(#clip870)\" d=\"M127.2 386.829 Q123.589 386.829 121.76 390.394 Q119.955 393.935 119.955 401.065 Q119.955 408.171 121.76 411.736 Q123.589 415.278 127.2 415.278 Q130.834 415.278 132.64 411.736 Q134.468 408.171 134.468 401.065 Q134.468 393.935 132.64 390.394 Q130.834 386.829 127.2 386.829 M127.2 383.125 Q133.01 383.125 136.066 387.732 Q139.144 392.315 139.144 401.065 Q139.144 409.792 136.066 414.398 Q133.01 418.981 127.2 418.981 Q121.39 418.981 118.311 414.398 Q115.256 409.792 115.256 401.065 Q115.256 392.315 118.311 387.732 Q121.39 383.125 127.2 383.125 Z\" fill=\"#000000\" fill-rule=\"evenodd\" fill-opacity=\"1\" /><path clip-path=\"url(#clip870)\" d=\"M147.362 412.431 L152.246 412.431 L152.246 418.31 L147.362 418.31 L147.362 412.431 Z\" fill=\"#000000\" fill-rule=\"evenodd\" fill-opacity=\"1\" /><path clip-path=\"url(#clip870)\" d=\"M172.431 386.829 Q168.82 386.829 166.991 390.394 Q165.186 393.935 165.186 401.065 Q165.186 408.171 166.991 411.736 Q168.82 415.278 172.431 415.278 Q176.065 415.278 177.871 411.736 Q179.7 408.171 179.7 401.065 Q179.7 393.935 177.871 390.394 Q176.065 386.829 172.431 386.829 M172.431 383.125 Q178.241 383.125 181.297 387.732 Q184.376 392.315 184.376 401.065 Q184.376 409.792 181.297 414.398 Q178.241 418.981 172.431 418.981 Q166.621 418.981 163.542 414.398 Q160.487 409.792 160.487 401.065 Q160.487 392.315 163.542 387.732 Q166.621 383.125 172.431 383.125 Z\" fill=\"#000000\" fill-rule=\"evenodd\" fill-opacity=\"1\" /><path clip-path=\"url(#clip870)\" d=\"M193.403 414.375 L201.042 414.375 L201.042 388.009 L192.732 389.676 L192.732 385.417 L200.996 383.75 L205.672 383.75 L205.672 414.375 L213.311 414.375 L213.311 418.31 L193.403 418.31 L193.403 414.375 Z\" fill=\"#000000\" fill-rule=\"evenodd\" fill-opacity=\"1\" /><path clip-path=\"url(#clip870)\" d=\"M222.801 383.75 L241.158 383.75 L241.158 387.685 L227.084 387.685 L227.084 396.157 Q228.102 395.81 229.121 395.648 Q230.139 395.463 231.158 395.463 Q236.945 395.463 240.324 398.634 Q243.704 401.806 243.704 407.222 Q243.704 412.801 240.232 415.903 Q236.76 418.981 230.44 418.981 Q228.264 418.981 225.996 418.611 Q223.75 418.241 221.343 417.5 L221.343 412.801 Q223.426 413.935 225.648 414.491 Q227.871 415.046 230.347 415.046 Q234.352 415.046 236.69 412.94 Q239.028 410.833 239.028 407.222 Q239.028 403.611 236.69 401.505 Q234.352 399.398 230.347 399.398 Q228.473 399.398 226.598 399.815 Q224.746 400.232 222.801 401.111 L222.801 383.75 Z\" fill=\"#000000\" fill-rule=\"evenodd\" fill-opacity=\"1\" /><path clip-path=\"url(#clip870)\" d=\"M126.205 58.6738 Q122.593 58.6738 120.765 62.2386 Q118.959 65.7802 118.959 72.9098 Q118.959 80.0163 120.765 83.5811 Q122.593 87.1227 126.205 87.1227 Q129.839 87.1227 131.644 83.5811 Q133.473 80.0163 133.473 72.9098 Q133.473 65.7802 131.644 62.2386 Q129.839 58.6738 126.205 58.6738 M126.205 54.9701 Q132.015 54.9701 135.07 59.5766 Q138.149 64.1599 138.149 72.9098 Q138.149 81.6366 135.07 86.2431 Q132.015 90.8264 126.205 90.8264 Q120.394 90.8264 117.316 86.2431 Q114.26 81.6366 114.26 72.9098 Q114.26 64.1599 117.316 59.5766 Q120.394 54.9701 126.205 54.9701 Z\" fill=\"#000000\" fill-rule=\"evenodd\" fill-opacity=\"1\" /><path clip-path=\"url(#clip870)\" d=\"M146.366 84.2755 L151.251 84.2755 L151.251 90.1551 L146.366 90.1551 L146.366 84.2755 Z\" fill=\"#000000\" fill-rule=\"evenodd\" fill-opacity=\"1\" /><path clip-path=\"url(#clip870)\" d=\"M171.436 58.6738 Q167.825 58.6738 165.996 62.2386 Q164.19 65.7802 164.19 72.9098 Q164.19 80.0163 165.996 83.5811 Q167.825 87.1227 171.436 87.1227 Q175.07 87.1227 176.876 83.5811 Q178.704 80.0163 178.704 72.9098 Q178.704 65.7802 176.876 62.2386 Q175.07 58.6738 171.436 58.6738 M171.436 54.9701 Q177.246 54.9701 180.301 59.5766 Q183.38 64.1599 183.38 72.9098 Q183.38 81.6366 180.301 86.2431 Q177.246 90.8264 171.436 90.8264 Q165.626 90.8264 162.547 86.2431 Q159.491 81.6366 159.491 72.9098 Q159.491 64.1599 162.547 59.5766 Q165.626 54.9701 171.436 54.9701 Z\" fill=\"#000000\" fill-rule=\"evenodd\" fill-opacity=\"1\" /><path clip-path=\"url(#clip870)\" d=\"M195.625 86.2199 L211.945 86.2199 L211.945 90.1551 L190 90.1551 L190 86.2199 Q192.663 83.4653 197.246 78.8357 Q201.852 74.183 203.033 72.8404 Q205.278 70.3173 206.158 68.5811 Q207.061 66.8219 207.061 65.1321 Q207.061 62.3775 205.116 60.6414 Q203.195 58.9053 200.093 58.9053 Q197.894 58.9053 195.44 59.6692 Q193.01 60.433 190.232 61.984 L190.232 57.2618 Q193.056 56.1275 195.51 55.5488 Q197.963 54.9701 200 54.9701 Q205.371 54.9701 208.565 57.6553 Q211.76 60.3405 211.76 64.8312 Q211.76 66.9608 210.949 68.8821 Q210.162 70.7802 208.056 73.3728 Q207.477 74.0441 204.375 77.2617 Q201.274 80.4561 195.625 86.2199 Z\" fill=\"#000000\" fill-rule=\"evenodd\" fill-opacity=\"1\" /><path clip-path=\"url(#clip870)\" d=\"M231.76 58.6738 Q228.148 58.6738 226.32 62.2386 Q224.514 65.7802 224.514 72.9098 Q224.514 80.0163 226.32 83.5811 Q228.148 87.1227 231.76 87.1227 Q235.394 87.1227 237.199 83.5811 Q239.028 80.0163 239.028 72.9098 Q239.028 65.7802 237.199 62.2386 Q235.394 58.6738 231.76 58.6738 M231.76 54.9701 Q237.57 54.9701 240.625 59.5766 Q243.704 64.1599 243.704 72.9098 Q243.704 81.6366 240.625 86.2431 Q237.57 90.8264 231.76 90.8264 Q225.949 90.8264 222.871 86.2431 Q219.815 81.6366 219.815 72.9098 Q219.815 64.1599 222.871 59.5766 Q225.949 54.9701 231.76 54.9701 Z\" fill=\"#000000\" fill-rule=\"evenodd\" fill-opacity=\"1\" /><path clip-path=\"url(#clip870)\" d=\"M58.657 899.288 L77.5631 899.288 L77.5631 905.176 L28.3562 905.176 L28.3562 899.288 L33.7671 899.288 Q30.5842 897.442 29.0564 894.641 Q27.4968 891.808 27.4968 887.893 Q27.4968 881.4 32.6531 877.358 Q37.8093 873.284 46.212 873.284 Q54.6147 873.284 59.771 877.358 Q64.9272 881.4 64.9272 887.893 Q64.9272 891.808 63.3994 894.641 Q61.8398 897.442 58.657 899.288 M46.212 879.363 Q39.7508 879.363 36.0905 882.037 Q32.3984 884.679 32.3984 889.326 Q32.3984 893.973 36.0905 896.646 Q39.7508 899.288 46.212 899.288 Q52.6732 899.288 56.3653 896.646 Q60.0256 893.973 60.0256 889.326 Q60.0256 884.679 56.3653 882.037 Q52.6732 879.363 46.212 879.363 Z\" fill=\"#000000\" fill-rule=\"evenodd\" fill-opacity=\"1\" /><path clip-path=\"url(#clip870)\" d=\"M33.8307 842.92 Q33.2578 843.906 33.0032 845.084 Q32.7167 846.23 32.7167 847.63 Q32.7167 852.596 35.9632 855.269 Q39.1779 857.911 45.2253 857.911 L64.0042 857.911 L64.0042 863.799 L28.3562 863.799 L28.3562 857.911 L33.8944 857.911 Q30.6479 856.065 29.0883 853.105 Q27.4968 850.145 27.4968 845.912 Q27.4968 845.307 27.5923 844.575 Q27.656 843.843 27.8151 842.952 L33.8307 842.92 Z\" fill=\"#000000\" fill-rule=\"evenodd\" fill-opacity=\"1\" /><path clip-path=\"url(#clip870)\" d=\"M32.4621 824.396 Q32.4621 829.106 36.1542 831.843 Q39.8145 834.581 46.212 834.581 Q52.6095 834.581 56.3017 831.875 Q59.9619 829.138 59.9619 824.396 Q59.9619 819.717 56.2698 816.979 Q52.5777 814.242 46.212 814.242 Q39.8781 814.242 36.186 816.979 Q32.4621 819.717 32.4621 824.396 M27.4968 824.396 Q27.4968 816.757 32.4621 812.396 Q37.4273 808.036 46.212 808.036 Q54.9649 808.036 59.9619 812.396 Q64.9272 816.757 64.9272 824.396 Q64.9272 832.066 59.9619 836.427 Q54.9649 840.755 46.212 840.755 Q37.4273 840.755 32.4621 836.427 Q27.4968 832.066 27.4968 824.396 Z\" fill=\"#000000\" fill-rule=\"evenodd\" fill-opacity=\"1\" /><path clip-path=\"url(#clip870)\" d=\"M46.212 772.738 Q39.7508 772.738 36.0905 775.411 Q32.3984 778.053 32.3984 782.7 Q32.3984 787.347 36.0905 790.021 Q39.7508 792.662 46.212 792.662 Q52.6732 792.662 56.3653 790.021 Q60.0256 787.347 60.0256 782.7 Q60.0256 778.053 56.3653 775.411 Q52.6732 772.738 46.212 772.738 M33.7671 792.662 Q30.5842 790.816 29.0564 788.016 Q27.4968 785.183 27.4968 781.268 Q27.4968 774.775 32.6531 770.733 Q37.8093 766.659 46.212 766.659 Q54.6147 766.659 59.771 770.733 Q64.9272 774.775 64.9272 781.268 Q64.9272 785.183 63.3994 788.016 Q61.8398 790.816 58.657 792.662 L64.0042 792.662 L64.0042 798.551 L14.479 798.551 L14.479 792.662 L33.7671 792.662 Z\" fill=\"#000000\" fill-rule=\"evenodd\" fill-opacity=\"1\" /><path clip-path=\"url(#clip870)\" d=\"M46.0847 740.75 Q46.0847 747.848 47.7079 750.585 Q49.3312 753.322 53.2461 753.322 Q56.3653 753.322 58.2114 751.285 Q60.0256 749.217 60.0256 745.684 Q60.0256 740.814 56.5881 737.886 Q53.1188 734.926 47.3897 734.926 L46.0847 734.926 L46.0847 740.75 M43.6657 729.069 L64.0042 729.069 L64.0042 734.926 L58.5933 734.926 Q61.8398 736.931 63.3994 739.923 Q64.9272 742.914 64.9272 747.243 Q64.9272 752.718 61.8716 755.964 Q58.7843 759.179 53.6281 759.179 Q47.6125 759.179 44.5569 755.168 Q41.5014 751.126 41.5014 743.137 L41.5014 734.926 L40.9285 734.926 Q36.8862 734.926 34.6901 737.599 Q32.4621 740.241 32.4621 745.047 Q32.4621 748.103 33.1941 750.999 Q33.9262 753.895 35.3903 756.569 L29.9795 756.569 Q28.7381 753.354 28.1334 750.331 Q27.4968 747.307 27.4968 744.442 Q27.4968 736.708 31.5072 732.888 Q35.5176 729.069 43.6657 729.069 Z\" fill=\"#000000\" fill-rule=\"evenodd\" fill-opacity=\"1\" /><path clip-path=\"url(#clip870)\" d=\"M46.212 691.416 Q39.7508 691.416 36.0905 694.09 Q32.3984 696.731 32.3984 701.378 Q32.3984 706.025 36.0905 708.699 Q39.7508 711.341 46.212 711.341 Q52.6732 711.341 56.3653 708.699 Q60.0256 706.025 60.0256 701.378 Q60.0256 696.731 56.3653 694.09 Q52.6732 691.416 46.212 691.416 M33.7671 711.341 Q30.5842 709.495 29.0564 706.694 Q27.4968 703.861 27.4968 699.946 Q27.4968 693.453 32.6531 689.411 Q37.8093 685.337 46.212 685.337 Q54.6147 685.337 59.771 689.411 Q64.9272 693.453 64.9272 699.946 Q64.9272 703.861 63.3994 706.694 Q61.8398 709.495 58.657 711.341 L64.0042 711.341 L64.0042 717.229 L14.479 717.229 L14.479 711.341 L33.7671 711.341 Z\" fill=\"#000000\" fill-rule=\"evenodd\" fill-opacity=\"1\" /><path clip-path=\"url(#clip870)\" d=\"M28.3562 675.629 L28.3562 669.773 L64.0042 669.773 L64.0042 675.629 L28.3562 675.629 M14.479 675.629 L14.479 669.773 L21.895 669.773 L21.895 675.629 L14.479 675.629 Z\" fill=\"#000000\" fill-rule=\"evenodd\" fill-opacity=\"1\" /><path clip-path=\"url(#clip870)\" d=\"M14.479 657.519 L14.479 651.662 L64.0042 651.662 L64.0042 657.519 L14.479 657.519 Z\" fill=\"#000000\" fill-rule=\"evenodd\" fill-opacity=\"1\" /><path clip-path=\"url(#clip870)\" d=\"M28.3562 639.408 L28.3562 633.552 L64.0042 633.552 L64.0042 639.408 L28.3562 639.408 M14.479 639.408 L14.479 633.552 L21.895 633.552 L21.895 639.408 L14.479 639.408 Z\" fill=\"#000000\" fill-rule=\"evenodd\" fill-opacity=\"1\" /><path clip-path=\"url(#clip870)\" d=\"M18.2347 615.505 L28.3562 615.505 L28.3562 603.442 L32.9077 603.442 L32.9077 615.505 L52.2594 615.505 Q56.6199 615.505 57.8613 614.327 Q59.1026 613.118 59.1026 609.457 L59.1026 603.442 L64.0042 603.442 L64.0042 609.457 Q64.0042 616.237 61.4897 618.815 Q58.9434 621.393 52.2594 621.393 L32.9077 621.393 L32.9077 625.69 L28.3562 625.69 L28.3562 621.393 L18.2347 621.393 L18.2347 615.505 Z\" fill=\"#000000\" fill-rule=\"evenodd\" fill-opacity=\"1\" /><path clip-path=\"url(#clip870)\" d=\"M67.3143 580.907 Q73.68 583.39 75.6216 585.745 Q77.5631 588.1 77.5631 592.047 L77.5631 596.726 L72.6615 596.726 L72.6615 593.289 Q72.6615 590.87 71.5157 589.533 Q70.3699 588.196 66.1048 586.573 L63.4312 585.522 L28.3562 599.941 L28.3562 593.734 L56.238 582.594 L28.3562 571.454 L28.3562 565.248 L67.3143 580.907 Z\" fill=\"#000000\" fill-rule=\"evenodd\" fill-opacity=\"1\" /><polyline clip-path=\"url(#clip872)\" style=\"stroke:#009af9; stroke-linecap:butt; stroke-linejoin:round; stroke-width:4; stroke-opacity:1; fill:none\" points=\"\n",
       "  338.375,1384.24 358.13,1380.47 377.884,1374.21 397.639,1365.48 417.394,1354.31 437.148,1340.75 456.903,1324.85 476.658,1306.67 496.412,1286.28 516.167,1263.76 \n",
       "  535.922,1239.19 555.676,1212.68 575.431,1184.33 595.186,1154.23 614.94,1122.52 634.695,1089.31 654.449,1054.74 674.204,1018.93 693.959,982.019 713.713,944.16 \n",
       "  733.468,905.493 753.223,866.17 772.977,826.342 792.732,786.163 812.487,745.789 832.241,705.376 851.996,665.08 871.75,625.057 891.505,585.462 911.26,546.449 \n",
       "  931.014,508.167 950.769,470.766 970.524,434.389 990.278,399.178 1010.03,365.27 1029.79,332.794 1049.54,301.877 1069.3,272.638 1089.05,245.19 1108.81,219.641 \n",
       "  1128.56,196.087 1148.32,174.622 1168.07,155.326 1187.82,138.277 1207.58,123.538 1227.33,111.168 1247.09,101.214 1266.84,93.7143 1286.6,88.6985 1306.35,86.1857 \n",
       "  1326.11,86.1857 1345.86,88.6985 1365.62,93.7143 1385.37,101.214 1405.13,111.168 1424.88,123.538 1444.64,138.277 1464.39,155.326 1484.14,174.622 1503.9,196.087 \n",
       "  1523.65,219.641 1543.41,245.19 1563.16,272.638 1582.92,301.877 1602.67,332.794 1622.43,365.27 1642.18,399.178 1661.94,434.389 1681.69,470.766 1701.45,508.167 \n",
       "  1721.2,546.449 1740.95,585.462 1760.71,625.057 1780.46,665.08 1800.22,705.376 1819.97,745.789 1839.73,786.163 1859.48,826.342 1879.24,866.17 1898.99,905.493 \n",
       "  1918.75,944.16 1938.5,982.019 1958.26,1018.93 1978.01,1054.74 1997.77,1089.31 2017.52,1122.52 2037.27,1154.23 2057.03,1184.33 2076.78,1212.68 2096.54,1239.19 \n",
       "  2116.29,1263.76 2136.05,1286.28 2155.8,1306.67 2175.56,1324.85 2195.31,1340.75 2215.07,1354.31 2234.82,1365.48 2254.58,1374.21 2274.33,1380.47 2294.08,1384.24 \n",
       "  \n",
       "  \"/>\n",
       "<polyline clip-path=\"url(#clip872)\" style=\"stroke:#e26f46; stroke-linecap:butt; stroke-linejoin:round; stroke-width:4; stroke-opacity:1; fill:none\" points=\"\n",
       "  338.375,1380.47 358.13,1365.48 377.884,1340.75 397.639,1306.67 417.394,1263.76 437.148,1212.68 456.903,1154.23 476.658,1089.31 496.412,1018.93 516.167,944.16 \n",
       "  535.922,866.17 555.676,786.163 575.431,705.376 595.186,625.057 614.94,546.449 634.695,470.766 654.449,399.178 674.204,332.794 693.959,272.638 713.713,219.641 \n",
       "  733.468,174.622 753.223,138.277 772.977,111.168 792.732,93.7143 812.487,86.1857 832.241,88.6985 851.996,101.214 871.75,123.538 891.505,155.326 911.26,196.087 \n",
       "  931.014,245.19 950.769,301.877 970.524,365.27 990.278,434.389 1010.03,508.167 1029.79,585.462 1049.54,665.08 1069.3,745.789 1089.05,826.342 1108.81,905.493 \n",
       "  1128.56,982.019 1148.32,1054.74 1168.07,1122.52 1187.82,1184.33 1207.58,1239.19 1227.33,1286.28 1247.09,1324.85 1266.84,1354.31 1286.6,1374.21 1306.35,1384.24 \n",
       "  1326.11,1384.24 1345.86,1374.21 1365.62,1354.31 1385.37,1324.85 1405.13,1286.28 1424.88,1239.19 1444.64,1184.33 1464.39,1122.52 1484.14,1054.74 1503.9,982.019 \n",
       "  1523.65,905.493 1543.41,826.342 1563.16,745.789 1582.92,665.08 1602.67,585.462 1622.43,508.167 1642.18,434.389 1661.94,365.27 1681.69,301.877 1701.45,245.19 \n",
       "  1721.2,196.087 1740.95,155.326 1760.71,123.538 1780.46,101.214 1800.22,88.6985 1819.97,86.1857 1839.73,93.7143 1859.48,111.168 1879.24,138.277 1898.99,174.622 \n",
       "  1918.75,219.641 1938.5,272.638 1958.26,332.794 1978.01,399.178 1997.77,470.766 2017.52,546.449 2037.27,625.057 2057.03,705.376 2076.78,786.163 2096.54,866.17 \n",
       "  2116.29,944.16 2136.05,1018.93 2155.8,1089.31 2175.56,1154.23 2195.31,1212.68 2215.07,1263.76 2234.82,1306.67 2254.58,1340.75 2274.33,1365.48 2294.08,1380.47 \n",
       "  \n",
       "  \"/>\n",
       "<polyline clip-path=\"url(#clip872)\" style=\"stroke:#3da44d; stroke-linecap:butt; stroke-linejoin:round; stroke-width:4; stroke-opacity:1; fill:none\" points=\"\n",
       "  338.375,1374.21 358.13,1340.75 377.884,1286.28 397.639,1212.68 417.394,1122.52 437.148,1018.93 456.903,905.493 476.658,786.163 496.412,665.08 516.167,546.449 \n",
       "  535.922,434.389 555.676,332.794 575.431,245.19 595.186,174.622 614.94,123.538 634.695,93.7143 654.449,86.1857 674.204,101.214 693.959,138.277 713.713,196.087 \n",
       "  733.468,272.638 753.223,365.27 772.977,470.766 792.732,585.462 812.487,705.376 832.241,826.342 851.996,944.16 871.75,1054.74 891.505,1154.23 911.26,1239.19 \n",
       "  931.014,1306.67 950.769,1354.31 970.524,1380.47 990.278,1384.24 1010.03,1365.48 1029.79,1324.85 1049.54,1263.76 1069.3,1184.33 1089.05,1089.31 1108.81,982.019 \n",
       "  1128.56,866.17 1148.32,745.789 1168.07,625.057 1187.82,508.167 1207.58,399.178 1227.33,301.877 1247.09,219.641 1266.84,155.326 1286.6,111.168 1306.35,88.6985 \n",
       "  1326.11,88.6985 1345.86,111.168 1365.62,155.326 1385.37,219.641 1405.13,301.877 1424.88,399.178 1444.64,508.167 1464.39,625.057 1484.14,745.789 1503.9,866.17 \n",
       "  1523.65,982.019 1543.41,1089.31 1563.16,1184.33 1582.92,1263.76 1602.67,1324.85 1622.43,1365.48 1642.18,1384.24 1661.94,1380.47 1681.69,1354.31 1701.45,1306.67 \n",
       "  1721.2,1239.19 1740.95,1154.23 1760.71,1054.74 1780.46,944.16 1800.22,826.342 1819.97,705.376 1839.73,585.462 1859.48,470.766 1879.24,365.27 1898.99,272.638 \n",
       "  1918.75,196.087 1938.5,138.277 1958.26,101.214 1978.01,86.1857 1997.77,93.7143 2017.52,123.538 2037.27,174.622 2057.03,245.19 2076.78,332.794 2096.54,434.389 \n",
       "  2116.29,546.449 2136.05,665.08 2155.8,786.163 2175.56,905.493 2195.31,1018.93 2215.07,1122.52 2234.82,1212.68 2254.58,1286.28 2274.33,1340.75 2294.08,1374.21 \n",
       "  \n",
       "  \"/>\n",
       "<path clip-path=\"url(#clip870)\" d=\"\n",
       "M1930.7 300.469 L2283.65 300.469 L2283.65 93.1086 L1930.7 93.1086  Z\n",
       "  \" fill=\"#ffffff\" fill-rule=\"evenodd\" fill-opacity=\"1\"/>\n",
       "<polyline clip-path=\"url(#clip870)\" style=\"stroke:#000000; stroke-linecap:butt; stroke-linejoin:round; stroke-width:4; stroke-opacity:1; fill:none\" points=\"\n",
       "  1930.7,300.469 2283.65,300.469 2283.65,93.1086 1930.7,93.1086 1930.7,300.469 \n",
       "  \"/>\n",
       "<polyline clip-path=\"url(#clip870)\" style=\"stroke:#009af9; stroke-linecap:butt; stroke-linejoin:round; stroke-width:4; stroke-opacity:1; fill:none\" points=\"\n",
       "  1953.73,144.949 2091.94,144.949 \n",
       "  \"/>\n",
       "<path clip-path=\"url(#clip870)\" d=\"M2136.68 146.581 L2136.68 162.229 L2132.42 162.229 L2132.42 146.719 Q2132.42 143.039 2130.99 141.21 Q2129.55 139.382 2126.68 139.382 Q2123.24 139.382 2121.24 141.581 Q2119.25 143.78 2119.25 147.576 L2119.25 162.229 L2114.97 162.229 L2114.97 136.303 L2119.25 136.303 L2119.25 140.331 Q2120.78 137.993 2122.84 136.835 Q2124.92 135.678 2127.63 135.678 Q2132.1 135.678 2134.39 138.456 Q2136.68 141.21 2136.68 146.581 Z\" fill=\"#000000\" fill-rule=\"evenodd\" fill-opacity=\"1\" /><path clip-path=\"url(#clip870)\" d=\"M2160.8 140.701 L2190.48 140.701 L2190.48 144.59 L2160.8 144.59 L2160.8 140.701 M2160.8 150.145 L2190.48 150.145 L2190.48 154.081 L2160.8 154.081 L2160.8 150.145 Z\" fill=\"#000000\" fill-rule=\"evenodd\" fill-opacity=\"1\" /><path clip-path=\"url(#clip870)\" d=\"M2225.64 130.747 Q2222.03 130.747 2220.2 134.312 Q2218.4 137.854 2218.4 144.983 Q2218.4 152.09 2220.2 155.655 Q2222.03 159.196 2225.64 159.196 Q2229.28 159.196 2231.08 155.655 Q2232.91 152.09 2232.91 144.983 Q2232.91 137.854 2231.08 134.312 Q2229.28 130.747 2225.64 130.747 M2225.64 127.044 Q2231.45 127.044 2234.51 131.65 Q2237.59 136.233 2237.59 144.983 Q2237.59 153.71 2234.51 158.317 Q2231.45 162.9 2225.64 162.9 Q2219.83 162.9 2216.75 158.317 Q2213.7 153.71 2213.7 144.983 Q2213.7 136.233 2216.75 131.65 Q2219.83 127.044 2225.64 127.044 Z\" fill=\"#000000\" fill-rule=\"evenodd\" fill-opacity=\"1\" /><polyline clip-path=\"url(#clip870)\" style=\"stroke:#e26f46; stroke-linecap:butt; stroke-linejoin:round; stroke-width:4; stroke-opacity:1; fill:none\" points=\"\n",
       "  1953.73,196.789 2091.94,196.789 \n",
       "  \"/>\n",
       "<path clip-path=\"url(#clip870)\" d=\"M2136.68 198.421 L2136.68 214.069 L2132.42 214.069 L2132.42 198.559 Q2132.42 194.879 2130.99 193.05 Q2129.55 191.222 2126.68 191.222 Q2123.24 191.222 2121.24 193.421 Q2119.25 195.62 2119.25 199.416 L2119.25 214.069 L2114.97 214.069 L2114.97 188.143 L2119.25 188.143 L2119.25 192.171 Q2120.78 189.833 2122.84 188.675 Q2124.92 187.518 2127.63 187.518 Q2132.1 187.518 2134.39 190.296 Q2136.68 193.05 2136.68 198.421 Z\" fill=\"#000000\" fill-rule=\"evenodd\" fill-opacity=\"1\" /><path clip-path=\"url(#clip870)\" d=\"M2160.8 192.541 L2190.48 192.541 L2190.48 196.43 L2160.8 196.43 L2160.8 192.541 M2160.8 201.985 L2190.48 201.985 L2190.48 205.921 L2160.8 205.921 L2160.8 201.985 Z\" fill=\"#000000\" fill-rule=\"evenodd\" fill-opacity=\"1\" /><path clip-path=\"url(#clip870)\" d=\"M2216.45 210.133 L2224.09 210.133 L2224.09 183.768 L2215.78 185.435 L2215.78 181.175 L2224.04 179.509 L2228.72 179.509 L2228.72 210.133 L2236.36 210.133 L2236.36 214.069 L2216.45 214.069 L2216.45 210.133 Z\" fill=\"#000000\" fill-rule=\"evenodd\" fill-opacity=\"1\" /><polyline clip-path=\"url(#clip870)\" style=\"stroke:#3da44d; stroke-linecap:butt; stroke-linejoin:round; stroke-width:4; stroke-opacity:1; fill:none\" points=\"\n",
       "  1953.73,248.629 2091.94,248.629 \n",
       "  \"/>\n",
       "<path clip-path=\"url(#clip870)\" d=\"M2136.68 250.261 L2136.68 265.909 L2132.42 265.909 L2132.42 250.399 Q2132.42 246.719 2130.99 244.89 Q2129.55 243.062 2126.68 243.062 Q2123.24 243.062 2121.24 245.261 Q2119.25 247.46 2119.25 251.256 L2119.25 265.909 L2114.97 265.909 L2114.97 239.983 L2119.25 239.983 L2119.25 244.011 Q2120.78 241.673 2122.84 240.515 Q2124.92 239.358 2127.63 239.358 Q2132.1 239.358 2134.39 242.136 Q2136.68 244.89 2136.68 250.261 Z\" fill=\"#000000\" fill-rule=\"evenodd\" fill-opacity=\"1\" /><path clip-path=\"url(#clip870)\" d=\"M2160.8 244.381 L2190.48 244.381 L2190.48 248.27 L2160.8 248.27 L2160.8 244.381 M2160.8 253.825 L2190.48 253.825 L2190.48 257.761 L2160.8 257.761 L2160.8 253.825 Z\" fill=\"#000000\" fill-rule=\"evenodd\" fill-opacity=\"1\" /><path clip-path=\"url(#clip870)\" d=\"M2219.67 261.973 L2235.99 261.973 L2235.99 265.909 L2214.04 265.909 L2214.04 261.973 Q2216.71 259.219 2221.29 254.589 Q2225.9 249.936 2227.08 248.594 Q2229.32 246.071 2230.2 244.335 Q2231.1 242.575 2231.1 240.886 Q2231.1 238.131 2229.16 236.395 Q2227.24 234.659 2224.14 234.659 Q2221.94 234.659 2219.48 235.423 Q2217.05 236.187 2214.28 237.737 L2214.28 233.015 Q2217.1 231.881 2219.55 231.302 Q2222.01 230.724 2224.04 230.724 Q2229.42 230.724 2232.61 233.409 Q2235.8 236.094 2235.8 240.585 Q2235.8 242.714 2234.99 244.636 Q2234.21 246.534 2232.1 249.126 Q2231.52 249.798 2228.42 253.015 Q2225.32 256.21 2219.67 261.973 Z\" fill=\"#000000\" fill-rule=\"evenodd\" fill-opacity=\"1\" /></svg>\n"
      ]
     },
     "execution_count": 39,
     "metadata": {},
     "output_type": "execute_result"
    }
   ],
   "source": [
    "using Plots\n",
    "\n",
    "show_n_states = 3\n",
    "\n",
    "p = plot()\n",
    "for i in 1:show_n_states\n",
    "    plot!(p, abs2.(vecs[:,i]), xlab=\"site\", ylab=\"probability\", lab=\"n = $(i-1)\")\n",
    "end\n",
    "p"
   ]
  },
  {
   "cell_type": "markdown",
   "metadata": {},
   "source": [
    "Since Julia is using eigenproblem solvers from LAPACK (written in a low-level language) the code is, of course, **not generic**."
   ]
  },
  {
   "cell_type": "markdown",
   "metadata": {},
   "source": [
    "The best Julia can do, without implementing new functionality, is manually dispatch to the best LAPACK routine available.\n",
    "\n",
    "Hence, it won't work with most of our special matrices."
   ]
  },
  {
   "cell_type": "code",
   "execution_count": 40,
   "metadata": {},
   "outputs": [
    {
     "ename": "LoadError",
     "evalue": "MethodError: no method matching eigen!(::Tridiagonal{Float64, Vector{Float64}}; permute=true, scale=true, sortby=LinearAlgebra.eigsortby)\n\u001b[0mClosest candidates are:\n\u001b[0m  eigen!(\u001b[91m::SymTridiagonal{var\"#s861\", V} where {var\"#s861\"<:Union{Float32, Float64}, V<:AbstractVector{var\"#s861\"}}\u001b[39m) at /opt/julia-1.7.3/share/julia/stdlib/v1.7/LinearAlgebra/src/tridiag.jl:284\u001b[91m got unsupported keyword arguments \"permute\", \"scale\", \"sortby\"\u001b[39m\n\u001b[0m  eigen!(\u001b[91m::SymTridiagonal{var\"#s861\", V} where {var\"#s861\"<:Union{Float32, Float64}, V<:AbstractVector{var\"#s861\"}}\u001b[39m, \u001b[91m::UnitRange\u001b[39m) at /opt/julia-1.7.3/share/julia/stdlib/v1.7/LinearAlgebra/src/tridiag.jl:287\u001b[91m got unsupported keyword arguments \"permute\", \"scale\", \"sortby\"\u001b[39m\n\u001b[0m  eigen!(\u001b[91m::SymTridiagonal{var\"#s861\", V} where {var\"#s861\"<:Union{Float32, Float64}, V<:AbstractVector{var\"#s861\"}}\u001b[39m, \u001b[91m::Real\u001b[39m, \u001b[91m::Real\u001b[39m) at /opt/julia-1.7.3/share/julia/stdlib/v1.7/LinearAlgebra/src/tridiag.jl:292\u001b[91m got unsupported keyword arguments \"permute\", \"scale\", \"sortby\"\u001b[39m\n\u001b[0m  ...",
     "output_type": "error",
     "traceback": [
      "MethodError: no method matching eigen!(::Tridiagonal{Float64, Vector{Float64}}; permute=true, scale=true, sortby=LinearAlgebra.eigsortby)\n\u001b[0mClosest candidates are:\n\u001b[0m  eigen!(\u001b[91m::SymTridiagonal{var\"#s861\", V} where {var\"#s861\"<:Union{Float32, Float64}, V<:AbstractVector{var\"#s861\"}}\u001b[39m) at /opt/julia-1.7.3/share/julia/stdlib/v1.7/LinearAlgebra/src/tridiag.jl:284\u001b[91m got unsupported keyword arguments \"permute\", \"scale\", \"sortby\"\u001b[39m\n\u001b[0m  eigen!(\u001b[91m::SymTridiagonal{var\"#s861\", V} where {var\"#s861\"<:Union{Float32, Float64}, V<:AbstractVector{var\"#s861\"}}\u001b[39m, \u001b[91m::UnitRange\u001b[39m) at /opt/julia-1.7.3/share/julia/stdlib/v1.7/LinearAlgebra/src/tridiag.jl:287\u001b[91m got unsupported keyword arguments \"permute\", \"scale\", \"sortby\"\u001b[39m\n\u001b[0m  eigen!(\u001b[91m::SymTridiagonal{var\"#s861\", V} where {var\"#s861\"<:Union{Float32, Float64}, V<:AbstractVector{var\"#s861\"}}\u001b[39m, \u001b[91m::Real\u001b[39m, \u001b[91m::Real\u001b[39m) at /opt/julia-1.7.3/share/julia/stdlib/v1.7/LinearAlgebra/src/tridiag.jl:292\u001b[91m got unsupported keyword arguments \"permute\", \"scale\", \"sortby\"\u001b[39m\n\u001b[0m  ...",
      "",
      "Stacktrace:",
      " [1] eigen(A::Tridiagonal{Float64, Vector{Float64}}; permute::Bool, scale::Bool, sortby::typeof(LinearAlgebra.eigsortby))",
      "   @ LinearAlgebra /opt/julia-1.7.3/share/julia/stdlib/v1.7/LinearAlgebra/src/eigen.jl:237",
      " [2] eigen(A::Tridiagonal{Float64, Vector{Float64}})",
      "   @ LinearAlgebra /opt/julia-1.7.3/share/julia/stdlib/v1.7/LinearAlgebra/src/eigen.jl:235",
      " [3] top-level scope",
      "   @ In[40]:1",
      " [4] eval",
      "   @ ./boot.jl:373 [inlined]",
      " [5] include_string(mapexpr::typeof(REPL.softscope), mod::Module, code::String, filename::String)",
      "   @ Base ./loading.jl:1196"
     ]
    }
   ],
   "source": [
    "eigen(Htri);"
   ]
  },
  {
   "cell_type": "markdown",
   "metadata": {},
   "source": [
    "If we're lucky, someone has implemented a generic solver in Julia that works for a wider range of types. Example:"
   ]
  },
  {
   "cell_type": "code",
   "execution_count": 41,
   "metadata": {},
   "outputs": [
    {
     "ename": "LoadError",
     "evalue": "MethodError: no method matching eigen!(::Hermitian{BigFloat, Matrix{BigFloat}}; sortby=nothing)\n\u001b[0mClosest candidates are:\n\u001b[0m  eigen!(::Union{Hermitian{T, S}, Hermitian{Complex{T}, S}, Symmetric{T, S}}, \u001b[91m::AbstractMatrix{T}\u001b[39m; sortby) where {T<:Number, S<:(StridedMatrix{T} where T)} at /opt/julia-1.7.3/share/julia/stdlib/v1.7/LinearAlgebra/src/symmetriceigen.jl:165\n\u001b[0m  eigen!(\u001b[91m::SymTridiagonal{var\"#s861\", V} where {var\"#s861\"<:Union{Float32, Float64}, V<:AbstractVector{var\"#s861\"}}\u001b[39m) at /opt/julia-1.7.3/share/julia/stdlib/v1.7/LinearAlgebra/src/tridiag.jl:284\u001b[91m got unsupported keyword argument \"sortby\"\u001b[39m\n\u001b[0m  eigen!(\u001b[91m::SymTridiagonal{var\"#s861\", V} where {var\"#s861\"<:Union{Float32, Float64}, V<:AbstractVector{var\"#s861\"}}\u001b[39m, \u001b[91m::UnitRange\u001b[39m) at /opt/julia-1.7.3/share/julia/stdlib/v1.7/LinearAlgebra/src/tridiag.jl:287\u001b[91m got unsupported keyword argument \"sortby\"\u001b[39m\n\u001b[0m  ...",
     "output_type": "error",
     "traceback": [
      "MethodError: no method matching eigen!(::Hermitian{BigFloat, Matrix{BigFloat}}; sortby=nothing)\n\u001b[0mClosest candidates are:\n\u001b[0m  eigen!(::Union{Hermitian{T, S}, Hermitian{Complex{T}, S}, Symmetric{T, S}}, \u001b[91m::AbstractMatrix{T}\u001b[39m; sortby) where {T<:Number, S<:(StridedMatrix{T} where T)} at /opt/julia-1.7.3/share/julia/stdlib/v1.7/LinearAlgebra/src/symmetriceigen.jl:165\n\u001b[0m  eigen!(\u001b[91m::SymTridiagonal{var\"#s861\", V} where {var\"#s861\"<:Union{Float32, Float64}, V<:AbstractVector{var\"#s861\"}}\u001b[39m) at /opt/julia-1.7.3/share/julia/stdlib/v1.7/LinearAlgebra/src/tridiag.jl:284\u001b[91m got unsupported keyword argument \"sortby\"\u001b[39m\n\u001b[0m  eigen!(\u001b[91m::SymTridiagonal{var\"#s861\", V} where {var\"#s861\"<:Union{Float32, Float64}, V<:AbstractVector{var\"#s861\"}}\u001b[39m, \u001b[91m::UnitRange\u001b[39m) at /opt/julia-1.7.3/share/julia/stdlib/v1.7/LinearAlgebra/src/tridiag.jl:287\u001b[91m got unsupported keyword argument \"sortby\"\u001b[39m\n\u001b[0m  ...",
      "",
      "Stacktrace:",
      " [1] eigen(A::Hermitian{BigFloat, Matrix{BigFloat}}; sortby::Nothing)",
      "   @ LinearAlgebra /opt/julia-1.7.3/share/julia/stdlib/v1.7/LinearAlgebra/src/symmetriceigen.jl:9",
      " [2] eigen(A::Hermitian{BigFloat, Matrix{BigFloat}})",
      "   @ LinearAlgebra /opt/julia-1.7.3/share/julia/stdlib/v1.7/LinearAlgebra/src/symmetriceigen.jl:7",
      " [3] top-level scope",
      "   @ In[41]:2",
      " [4] eval",
      "   @ ./boot.jl:373 [inlined]",
      " [5] include_string(mapexpr::typeof(REPL.softscope), mod::Module, code::String, filename::String)",
      "   @ Base ./loading.jl:1196"
     ]
    }
   ],
   "source": [
    "Hbig = big.(H)\n",
    "eigen(Hermitian(Hbig));"
   ]
  },
  {
   "cell_type": "code",
   "execution_count": 46,
   "metadata": {},
   "outputs": [],
   "source": [
    "using GenericLinearAlgebra"
   ]
  },
  {
   "cell_type": "code",
   "execution_count": 47,
   "metadata": {},
   "outputs": [],
   "source": [
    "eigen(Hermitian(Hbig));"
   ]
  },
  {
   "cell_type": "markdown",
   "metadata": {},
   "source": [
    "Arguably the most important matrix type in science applications is a sparse matrix, i.e. `SparseMatrixCSC`."
   ]
  },
  {
   "cell_type": "code",
   "execution_count": 48,
   "metadata": {},
   "outputs": [
    {
     "ename": "LoadError",
     "evalue": "eigen(A) not supported for sparse matrices. Use for example eigs(A) from the Arpack package instead.",
     "output_type": "error",
     "traceback": [
      "eigen(A) not supported for sparse matrices. Use for example eigs(A) from the Arpack package instead.",
      "",
      "Stacktrace:",
      " [1] error(s::String)",
      "   @ Base ./error.jl:33",
      " [2] eigen(A::SparseMatrixCSC{Float64, Int64})",
      "   @ SparseArrays /opt/julia-1.7.3/share/julia/stdlib/v1.7/SparseArrays/src/linalg.jl:1626",
      " [3] top-level scope",
      "   @ In[48]:1",
      " [4] eval",
      "   @ ./boot.jl:373 [inlined]",
      " [5] include_string(mapexpr::typeof(REPL.softscope), mod::Module, code::String, filename::String)",
      "   @ Base ./loading.jl:1196"
     ]
    }
   ],
   "source": [
    "eigen(Hsparse)"
   ]
  },
  {
   "cell_type": "markdown",
   "metadata": {},
   "source": [
    "Let's follow Julia's advice and take a look at [ARPACK.jl](https://github.com/JuliaLinearAlgebra/Arpack.jl) and similar packages."
   ]
  },
  {
   "cell_type": "markdown",
   "metadata": {},
   "source": [
    "### Diagonalizing sparse matrices"
   ]
  },
  {
   "cell_type": "markdown",
   "metadata": {},
   "source": [
    "[ARPACK.jl]() -  Wrapper to Fortran library [ARPACK](https://www.caam.rice.edu/software/ARPACK/) which implements **iterative** eigenvalue and singular value solvers. By far the most established sparse eigensolver.\n",
    "\n",
    "Julia implementations:\n",
    "\n",
    "* [ArnoldiMethod.jl](https://github.com/haampie/ArnoldiMethod.jl)\n",
    "* [KrylovKit.jl](https://github.com/Jutho/KrylovKit.jl)\n",
    "* [IterativeSolvers.jl](https://github.com/JuliaMath/IterativeSolvers.jl)\n",
    "* and more\n",
    "\n",
    "\n",
    "A key thing to remember is that while `eigen` is - up to numerical errors - exact, the methods in the packages above are iterative and approximative."
   ]
  },
  {
   "cell_type": "markdown",
   "metadata": {},
   "source": [
    "Arpack uses a different name for the eigenvalue decomposition. They called it `eigs`."
   ]
  },
  {
   "cell_type": "code",
   "execution_count": 51,
   "metadata": {},
   "outputs": [
    {
     "data": {
      "text/plain": [
       "([-2.499032564583997, -2.4961311942671984, -2.491298695938046, -2.484539744726571, -2.4758608794815182, -2.4652704964445267], [-0.004376357346883243 0.00874848085072538 … -0.021797195856378005 -0.02611018880493217; -0.00874848085067608 0.017463115528582138 … -0.043068226575014114 -0.051313583714929265; … ; -0.008748480850739499 -0.017463115528548085 … -0.04306822657496766 0.0513135837149229; -0.004376357346915044 -0.008748480850708368 … -0.021797195856354732 0.026110188804928897], 6, 25, 334, [0.10152886694803813, -0.3073173836518221, -0.13808168248217428, 0.02192795334416142, 0.08647811793848889, -0.023839764809459305, 0.10424291749528851, -0.018245300549338504, -0.010734746198225974, 0.04966409679171471  …  -0.07942884899857107, -0.005011337046649324, 0.02345032480075343, 0.06206826648086016, -0.030976724739930385, 0.062544374665659, -0.0054016722352645125, -0.017326588567613387, -0.22047925445574962, 0.0829956537678384])"
      ]
     },
     "execution_count": 51,
     "metadata": {},
     "output_type": "execute_result"
    }
   ],
   "source": [
    "using Arpack\n",
    "λ, evs = eigs(Hsparse)"
   ]
  },
  {
   "cell_type": "markdown",
   "metadata": {},
   "source": [
    "# Core messages of this Notebook"
   ]
  },
  {
   "cell_type": "markdown",
   "metadata": {},
   "source": [
    "* The standard libraries `LinearAlgebra` and `SparseArrays` make Julia speak linear algebra.\n",
    "* **Indicate properties and structure of a matrix**, like hermiticity or sparsity, through types. Fallback to generic types only if you run into method errors.\n",
    "* For **sparse matrix exact diagonalization**, ARPACK.jl is sort of a standard but there are alternatives as well."
   ]
  }
 ],
 "metadata": {
  "@webio": {
   "lastCommId": null,
   "lastKernelId": null
  },
  "kernelspec": {
   "display_name": "Julia 1.7.3",
   "language": "julia",
   "name": "julia-1.7"
  },
  "language_info": {
   "file_extension": ".jl",
   "mimetype": "application/julia",
   "name": "julia",
   "version": "1.7.3"
  }
 },
 "nbformat": 4,
 "nbformat_minor": 4
}
