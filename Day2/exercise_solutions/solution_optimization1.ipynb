{
 "cells": [
  {
   "cell_type": "markdown",
   "metadata": {},
   "source": [
    "# Performance optimization exercise 1"
   ]
  },
  {
   "cell_type": "markdown",
   "metadata": {},
   "source": [
    "Optimize the function `work!` in the following code. You may change the function name, the function signature, and the function body.\n",
    "\n",
    "However, the types and sizes of the inputs `N`, `A`, `b`, `c` are fixed and **may not be changed.**"
   ]
  },
  {
   "cell_type": "code",
   "execution_count": 151,
   "metadata": {},
   "outputs": [
    {
     "name": "stderr",
     "output_type": "stream",
     "text": [
      "WARNING: redefinition of constant RESULT. This may fail, cause incorrect answers, or produce other errors.\n"
     ]
    }
   ],
   "source": [
    "# function you should optimze\n",
    "function work!(A, N)\n",
    "    D = zeros(N,N)\n",
    "    for i in 1:N\n",
    "        D = b[i]*c*A\n",
    "        b[i] = sum(D)/N^2\n",
    "    end\n",
    "    return b\n",
    "end\n",
    "\n",
    "# fixed input (do not change!)\n",
    "N = 10\n",
    "A = [float(i+j) for i in 1:N, j in 1:N] # matrix of size NxN\n",
    "b = collect(Float64, 1:N) # vector of length N\n",
    "c = 1.23;\n",
    "\n",
    "# desired result (do not change!)\n",
    "const RESULT = [13.53, 27.06, 40.59, 54.12, 67.65, 81.18, 94.71, 108.24, 121.77, 135.3];"
   ]
  },
  {
   "cell_type": "code",
   "execution_count": 152,
   "metadata": {},
   "outputs": [
    {
     "name": "stdout",
     "output_type": "stream",
     "text": [
      "  2.289 μs (51 allocations: 10.25 KiB)\n"
     ]
    }
   ],
   "source": [
    "using BenchmarkTools\n",
    "@btime work!($A, $N);"
   ]
  },
  {
   "cell_type": "markdown",
   "metadata": {},
   "source": [
    "## Optimizations"
   ]
  },
  {
   "cell_type": "markdown",
   "metadata": {},
   "source": [
    "### Avoiding globals"
   ]
  },
  {
   "cell_type": "code",
   "execution_count": 153,
   "metadata": {},
   "outputs": [
    {
     "name": "stdout",
     "output_type": "stream",
     "text": [
      "Variables\n",
      "  #self#\u001b[36m::Core.Compiler.Const(work!, false)\u001b[39m\n",
      "  A\u001b[36m::Array{Float64,2}\u001b[39m\n",
      "  N\u001b[36m::Int64\u001b[39m\n",
      "  D\u001b[91m\u001b[1m::Any\u001b[22m\u001b[39m\n",
      "  @_5\u001b[33m\u001b[1m::Union{Nothing, Tuple{Int64,Int64}}\u001b[22m\u001b[39m\n",
      "  i\u001b[36m::Int64\u001b[39m\n",
      "\n",
      "Body\u001b[91m\u001b[1m::Any\u001b[22m\u001b[39m\n",
      "\u001b[90m1 ─\u001b[39m       (D = Main.zeros(N, N))\n",
      "\u001b[90m│  \u001b[39m %2  = (1:N)\u001b[36m::Core.Compiler.PartialStruct(UnitRange{Int64}, Any[Core.Compiler.Const(1, false), Int64])\u001b[39m\n",
      "\u001b[90m│  \u001b[39m       (@_5 = Base.iterate(%2))\n",
      "\u001b[90m│  \u001b[39m %4  = (@_5 === nothing)\u001b[36m::Bool\u001b[39m\n",
      "\u001b[90m│  \u001b[39m %5  = Base.not_int(%4)\u001b[36m::Bool\u001b[39m\n",
      "\u001b[90m└──\u001b[39m       goto #4 if not %5\n",
      "\u001b[90m2 ┄\u001b[39m %7  = @_5::Tuple{Int64,Int64}\u001b[36m::Tuple{Int64,Int64}\u001b[39m\n",
      "\u001b[90m│  \u001b[39m       (i = Core.getfield(%7, 1))\n",
      "\u001b[90m│  \u001b[39m %9  = Core.getfield(%7, 2)\u001b[36m::Int64\u001b[39m\n",
      "\u001b[90m│  \u001b[39m %10 = Base.getindex(Main.b, i)\u001b[91m\u001b[1m::Any\u001b[22m\u001b[39m\n",
      "\u001b[90m│  \u001b[39m       (D = %10 * Main.c * A)\n",
      "\u001b[90m│  \u001b[39m %12 = Main.sum(D)\u001b[91m\u001b[1m::Any\u001b[22m\u001b[39m\n",
      "\u001b[90m│  \u001b[39m %13 = Core.apply_type(Base.Val, 2)\u001b[36m::Core.Compiler.Const(Val{2}, false)\u001b[39m\n",
      "\u001b[90m│  \u001b[39m %14 = (%13)()\u001b[36m::Core.Compiler.Const(Val{2}(), false)\u001b[39m\n",
      "\u001b[90m│  \u001b[39m %15 = Base.literal_pow(Main.:^, N, %14)\u001b[36m::Int64\u001b[39m\n",
      "\u001b[90m│  \u001b[39m %16 = (%12 / %15)\u001b[91m\u001b[1m::Any\u001b[22m\u001b[39m\n",
      "\u001b[90m│  \u001b[39m       Base.setindex!(Main.b, %16, i)\n",
      "\u001b[90m│  \u001b[39m       (@_5 = Base.iterate(%2, %9))\n",
      "\u001b[90m│  \u001b[39m %19 = (@_5 === nothing)\u001b[36m::Bool\u001b[39m\n",
      "\u001b[90m│  \u001b[39m %20 = Base.not_int(%19)\u001b[36m::Bool\u001b[39m\n",
      "\u001b[90m└──\u001b[39m       goto #4 if not %20\n",
      "\u001b[90m3 ─\u001b[39m       goto #2\n",
      "\u001b[90m4 ┄\u001b[39m       return Main.b\n"
     ]
    }
   ],
   "source": [
    "@code_warntype work!(A,N)"
   ]
  },
  {
   "cell_type": "code",
   "execution_count": 154,
   "metadata": {},
   "outputs": [
    {
     "data": {
      "text/plain": [
       "work1! (generic function with 1 method)"
      ]
     },
     "execution_count": 154,
     "metadata": {},
     "output_type": "execute_result"
    }
   ],
   "source": [
    "function work1!(A, N, b, c)\n",
    "    D = zeros(N,N)\n",
    "    for i in 1:N\n",
    "        D = b[i]*c*A\n",
    "        b[i] = sum(D)/N^2\n",
    "    end\n",
    "    return b\n",
    "end"
   ]
  },
  {
   "cell_type": "code",
   "execution_count": 155,
   "metadata": {},
   "outputs": [
    {
     "name": "stdout",
     "output_type": "stream",
     "text": [
      "Variables\n",
      "  #self#\u001b[36m::Core.Compiler.Const(work1!, false)\u001b[39m\n",
      "  A\u001b[36m::Array{Float64,2}\u001b[39m\n",
      "  N\u001b[36m::Int64\u001b[39m\n",
      "  b\u001b[36m::Array{Float64,1}\u001b[39m\n",
      "  c\u001b[36m::Float64\u001b[39m\n",
      "  D\u001b[36m::Array{Float64,2}\u001b[39m\n",
      "  @_7\u001b[33m\u001b[1m::Union{Nothing, Tuple{Int64,Int64}}\u001b[22m\u001b[39m\n",
      "  i\u001b[36m::Int64\u001b[39m\n",
      "\n",
      "Body\u001b[36m::Array{Float64,1}\u001b[39m\n",
      "\u001b[90m1 ─\u001b[39m       (D = Main.zeros(N, N))\n",
      "\u001b[90m│  \u001b[39m %2  = (1:N)\u001b[36m::Core.Compiler.PartialStruct(UnitRange{Int64}, Any[Core.Compiler.Const(1, false), Int64])\u001b[39m\n",
      "\u001b[90m│  \u001b[39m       (@_7 = Base.iterate(%2))\n",
      "\u001b[90m│  \u001b[39m %4  = (@_7 === nothing)\u001b[36m::Bool\u001b[39m\n",
      "\u001b[90m│  \u001b[39m %5  = Base.not_int(%4)\u001b[36m::Bool\u001b[39m\n",
      "\u001b[90m└──\u001b[39m       goto #4 if not %5\n",
      "\u001b[90m2 ┄\u001b[39m %7  = @_7::Tuple{Int64,Int64}\u001b[36m::Tuple{Int64,Int64}\u001b[39m\n",
      "\u001b[90m│  \u001b[39m       (i = Core.getfield(%7, 1))\n",
      "\u001b[90m│  \u001b[39m %9  = Core.getfield(%7, 2)\u001b[36m::Int64\u001b[39m\n",
      "\u001b[90m│  \u001b[39m %10 = Base.getindex(b, i)\u001b[36m::Float64\u001b[39m\n",
      "\u001b[90m│  \u001b[39m       (D = %10 * c * A)\n",
      "\u001b[90m│  \u001b[39m %12 = Main.sum(D)\u001b[36m::Float64\u001b[39m\n",
      "\u001b[90m│  \u001b[39m %13 = Core.apply_type(Base.Val, 2)\u001b[36m::Core.Compiler.Const(Val{2}, false)\u001b[39m\n",
      "\u001b[90m│  \u001b[39m %14 = (%13)()\u001b[36m::Core.Compiler.Const(Val{2}(), false)\u001b[39m\n",
      "\u001b[90m│  \u001b[39m %15 = Base.literal_pow(Main.:^, N, %14)\u001b[36m::Int64\u001b[39m\n",
      "\u001b[90m│  \u001b[39m %16 = (%12 / %15)\u001b[36m::Float64\u001b[39m\n",
      "\u001b[90m│  \u001b[39m       Base.setindex!(b, %16, i)\n",
      "\u001b[90m│  \u001b[39m       (@_7 = Base.iterate(%2, %9))\n",
      "\u001b[90m│  \u001b[39m %19 = (@_7 === nothing)\u001b[36m::Bool\u001b[39m\n",
      "\u001b[90m│  \u001b[39m %20 = Base.not_int(%19)\u001b[36m::Bool\u001b[39m\n",
      "\u001b[90m└──\u001b[39m       goto #4 if not %20\n",
      "\u001b[90m3 ─\u001b[39m       goto #2\n",
      "\u001b[90m4 ┄\u001b[39m       return b\n"
     ]
    }
   ],
   "source": [
    "@code_warntype work1!(A,N,b,c)"
   ]
  },
  {
   "cell_type": "code",
   "execution_count": 156,
   "metadata": {},
   "outputs": [
    {
     "data": {
      "text/plain": [
       "true"
      ]
     },
     "execution_count": 156,
     "metadata": {},
     "output_type": "execute_result"
    }
   ],
   "source": [
    "b = collect(Float64, 1:N) # vector of length N\n",
    "\n",
    "work1!(A,N,b,c) ≈ RESULT"
   ]
  },
  {
   "cell_type": "code",
   "execution_count": 157,
   "metadata": {},
   "outputs": [
    {
     "name": "stdout",
     "output_type": "stream",
     "text": [
      "  1.239 μs (11 allocations: 9.63 KiB)\n"
     ]
    }
   ],
   "source": [
    "@btime work1!($A, $N, $b, $c);"
   ]
  },
  {
   "cell_type": "markdown",
   "metadata": {},
   "source": [
    "### Avoiding globals + temporary allocations"
   ]
  },
  {
   "cell_type": "code",
   "execution_count": 158,
   "metadata": {},
   "outputs": [
    {
     "name": "stdout",
     "output_type": "stream",
     "text": [
      "  846.838 ns (1 allocation: 896 bytes)\n"
     ]
    }
   ],
   "source": [
    "function work2!(A, N, b, c)\n",
    "    D = zeros(N,N)\n",
    "    for i in 1:N\n",
    "        @. D = b[i]*c*A\n",
    "        b[i] = sum(D)/N^2\n",
    "    end\n",
    "    return b\n",
    "end\n",
    "\n",
    "b = collect(Float64, 1:N) # vector of length N\n",
    "@assert work2!(A,N,b,c) ≈ RESULT\n",
    "\n",
    "@btime work2!($A, $N, $b, $c);"
   ]
  },
  {
   "cell_type": "code",
   "execution_count": 159,
   "metadata": {},
   "outputs": [
    {
     "name": "stdout",
     "output_type": "stream",
     "text": [
      "  352.118 ns (1 allocation: 896 bytes)\n"
     ]
    }
   ],
   "source": [
    "function work3!(A, N, b, c)\n",
    "    D = zeros(N,N)\n",
    "    for i in 1:N\n",
    "        @inbounds for j in eachindex(D)\n",
    "            D[j] = b[i]*c*A[j]\n",
    "        end\n",
    "        b[i] = sum(D)/N^2\n",
    "    end\n",
    "    return b\n",
    "end\n",
    "\n",
    "b = collect(Float64, 1:N) # vector of length N\n",
    "@assert work3!(A,N,b,c) ≈ RESULT\n",
    "\n",
    "@btime work3!($A, $N, $b, $c);"
   ]
  },
  {
   "cell_type": "markdown",
   "metadata": {},
   "source": [
    "### Avoiding globals + temporary allocations and merging `sum` with loop"
   ]
  },
  {
   "cell_type": "code",
   "execution_count": 160,
   "metadata": {},
   "outputs": [
    {
     "name": "stdout",
     "output_type": "stream",
     "text": [
      "  216.105 ns (1 allocation: 896 bytes)\n"
     ]
    }
   ],
   "source": [
    "function work4!(A, N, b, c)\n",
    "    D = zeros(N,N)\n",
    "    for i in 1:N\n",
    "        s = 0.0\n",
    "        @inbounds @simd for j in eachindex(D)\n",
    "            D[j] = b[i]*c*A[j]\n",
    "            s += D[j]\n",
    "        end\n",
    "        b[i] = s/N^2\n",
    "    end\n",
    "    return b\n",
    "end\n",
    "\n",
    "b = collect(Float64, 1:N) # vector of length N\n",
    "@assert work4!(A,N,b,c) ≈ RESULT\n",
    "\n",
    "@btime work4!($A, $N, $b, $c);"
   ]
  },
  {
   "cell_type": "markdown",
   "metadata": {},
   "source": [
    "### Realizing that one can factor out `b` and `c`"
   ]
  },
  {
   "cell_type": "code",
   "execution_count": 161,
   "metadata": {},
   "outputs": [
    {
     "name": "stdout",
     "output_type": "stream",
     "text": [
      "  27.836 ns (0 allocations: 0 bytes)\n"
     ]
    }
   ],
   "source": [
    "# function work!(A, N)\n",
    "#     D = zeros(N,N)\n",
    "#     for i in 1:N\n",
    "#         D = b[i]*c*A\n",
    "#         b[i] = sum(D)/N^2\n",
    "#     end\n",
    "# end\n",
    "\n",
    "# function work!(A, N)\n",
    "#     for i in 1:N\n",
    "#         b[i] = sum(b[i]*c*A)/N^2\n",
    "#     end\n",
    "# end\n",
    "\n",
    "# function work!(A, N)\n",
    "#     for i in 1:N\n",
    "#         b[i] = b[i]*c*sum(A)/N^2\n",
    "#     end\n",
    "# end\n",
    "\n",
    "# function work!(A, N)\n",
    "#     D = c*sum(A)/N^2\n",
    "#     for i in 1:N\n",
    "#         b[i] *= D\n",
    "#     end\n",
    "# end\n",
    "\n",
    "function work5!(A, N, b, c)\n",
    "    D = c * sum(A)/N^2\n",
    "    b .*= D\n",
    "end\n",
    "\n",
    "b = collect(Float64, 1:N) # vector of length N\n",
    "@assert work5!(A, N, b, c) ≈ RESULT\n",
    "\n",
    "@btime work5!($A, $N, $b, $c);"
   ]
  }
 ],
 "metadata": {
  "@webio": {
   "lastCommId": null,
   "lastKernelId": null
  },
  "kernelspec": {
   "display_name": "Julia 1.7.3",
   "language": "julia",
   "name": "julia-1.7"
  },
  "language_info": {
   "file_extension": ".jl",
   "mimetype": "application/julia",
   "name": "julia",
   "version": "1.7.3"
  }
 },
 "nbformat": 4,
 "nbformat_minor": 4
}
