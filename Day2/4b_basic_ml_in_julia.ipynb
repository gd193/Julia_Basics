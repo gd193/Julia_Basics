{
 "cells": [
  {
   "cell_type": "markdown",
   "metadata": {},
   "source": [
    "# Machine Learning in Julia"
   ]
  },
  {
   "cell_type": "markdown",
   "metadata": {},
   "source": [
    "## A neural network in ~10 lines of Julia code"
   ]
  },
  {
   "cell_type": "markdown",
   "metadata": {},
   "source": [
    "Let's define a fully-connected two layer network."
   ]
  },
  {
   "cell_type": "markdown",
   "metadata": {},
   "source": [
    "![](imgs/network.png)"
   ]
  },
  {
   "cell_type": "code",
   "execution_count": 1,
   "metadata": {},
   "outputs": [
    {
     "data": {
      "text/plain": [
       "var\"#1#2\"{Matrix{Float64}, Vector{Float64}, typeof(identity)}([-1.0240762377060506 -1.2819325295117325 … -0.2740408115390764 -0.1850921098288674; 0.326120727701528 -1.763539716217972 … 0.3966862466089038 -0.05013472177249552], [-1.1133444413263527, -0.5947276781914773], identity) ∘ var\"#1#2\"{Matrix{Float64}, Vector{Float64}, typeof(tanh)}([-1.1309904765541536 0.8767624550654144 1.0114105689025537; -1.1577698643262149 -1.289108744963674 1.2703457217408483; … ; 0.2779846492258669 -0.6295128982264661 2.167848219368257; -2.060810155603256 0.06517671968177069 -0.8080143517657268], [-0.7864271126297795, -0.31309794603045304, 0.542174401969975, 0.3114129090871048, -1.2042857055671528], tanh)"
      ]
     },
     "execution_count": 1,
     "metadata": {},
     "output_type": "execute_result"
    }
   ],
   "source": [
    "dense(W, b, σ = identity) = x -> σ.(W * x .+ b)\n",
    "\n",
    "chain(layers...) = foldl(∘, reverse(layers))\n",
    "\n",
    "network = chain(\n",
    "    dense(randn(5,3), randn(5), tanh), # 3 input neurons  -> 5 hidden neurons\n",
    "    dense(randn(2,5), randn(2)))       # 5 hidden neurons -> 2 output neurons"
   ]
  },
  {
   "cell_type": "code",
   "execution_count": 2,
   "metadata": {},
   "outputs": [],
   "source": [
    "x = rand(3); # some input"
   ]
  },
  {
   "cell_type": "code",
   "execution_count": 3,
   "metadata": {},
   "outputs": [
    {
     "data": {
      "text/plain": [
       "2-element Vector{Float64}:\n",
       " 0.8185020892599661\n",
       " 0.039658469715307176"
      ]
     },
     "execution_count": 3,
     "metadata": {},
     "output_type": "execute_result"
    }
   ],
   "source": [
    "network(x)"
   ]
  },
  {
   "cell_type": "markdown",
   "metadata": {},
   "source": [
    "Let's unravel the compact definition of our neural network a bit:\n",
    "\n",
    "*Dense layer:*\n",
    "```julia\n",
    "dense(W, b, σ = identity) = x -> σ.(W * x .+ b)\n",
    "```\n",
    "`σ` is the activation function, `W` is the weight matrix, `x` is the input to the layer, and `b` are the biases.\n",
    "\n",
    "*Chaining layers:*\n",
    "```julia\n",
    "chain(layers...) = foldl(∘, reverse(layers))\n",
    "```\n",
    "The `layers...` means that the `chain` function takes an arbitrary number of layer (functions) as input. Those functions are then reversed (`reverse`) and composed (`∘`) via `foldl`."
   ]
  },
  {
   "cell_type": "code",
   "execution_count": 4,
   "metadata": {},
   "outputs": [
    {
     "data": {
      "text/plain": [
       "g (generic function with 1 method)"
      ]
     },
     "execution_count": 4,
     "metadata": {},
     "output_type": "execute_result"
    }
   ],
   "source": [
    "f(x) = x^2\n",
    "g(x) = 2x"
   ]
  },
  {
   "cell_type": "code",
   "execution_count": 5,
   "metadata": {},
   "outputs": [
    {
     "data": {
      "text/plain": [
       "36"
      ]
     },
     "execution_count": 5,
     "metadata": {},
     "output_type": "execute_result"
    }
   ],
   "source": [
    "(f ∘ g)(3) # == f(g(3))"
   ]
  },
  {
   "cell_type": "code",
   "execution_count": 6,
   "metadata": {},
   "outputs": [
    {
     "data": {
      "text/plain": [
       "36"
      ]
     },
     "execution_count": 6,
     "metadata": {},
     "output_type": "execute_result"
    }
   ],
   "source": [
    "f(g(3))"
   ]
  },
  {
   "cell_type": "code",
   "execution_count": 7,
   "metadata": {},
   "outputs": [
    {
     "data": {
      "text/plain": [
       "36"
      ]
     },
     "execution_count": 7,
     "metadata": {},
     "output_type": "execute_result"
    }
   ],
   "source": [
    "foldl(∘, [f,g])(3)"
   ]
  },
  {
   "cell_type": "markdown",
   "metadata": {},
   "source": [
    "Our neural network `network` is now just a piece of code, a function to be specific. We learned how to use automatic differentiation (AD) to derive functions/code. So let's do it! **Let's (fake) train our neural network.**"
   ]
  },
  {
   "cell_type": "code",
   "execution_count": 8,
   "metadata": {},
   "outputs": [
    {
     "ename": "LoadError",
     "evalue": "UndefVarError: m not defined",
     "output_type": "error",
     "traceback": [
      "UndefVarError: m not defined",
      "",
      "Stacktrace:",
      " [1] top-level scope",
      "   @ In[8]:5",
      " [2] eval",
      "   @ ./boot.jl:373 [inlined]",
      " [3] include_string(mapexpr::typeof(REPL.softscope), mod::Module, code::String, filename::String)",
      "   @ Base ./loading.jl:1196"
     ]
    }
   ],
   "source": [
    "using Zygote # reverse mode AD\n",
    "\n",
    "# let's take `sum` as our cost function for now\n",
    "\n",
    "dnetwork = gradient(model->sum(model(x)), m)[1]"
   ]
  },
  {
   "cell_type": "markdown",
   "metadata": {},
   "source": [
    "Training just amounts to updating the weights `W` and biases `b` according to the gradients."
   ]
  },
  {
   "cell_type": "code",
   "execution_count": 9,
   "metadata": {},
   "outputs": [
    {
     "ename": "LoadError",
     "evalue": "type ComposedFunction has no field f",
     "output_type": "error",
     "traceback": [
      "type ComposedFunction has no field f",
      "",
      "Stacktrace:",
      " [1] getproperty(x::Function, f::Symbol)",
      "   @ Base ./Base.jl:42",
      " [2] top-level scope",
      "   @ In[9]:1",
      " [3] eval",
      "   @ ./boot.jl:373 [inlined]",
      " [4] include_string(mapexpr::typeof(REPL.softscope), mod::Module, code::String, filename::String)",
      "   @ Base ./loading.jl:1196"
     ]
    }
   ],
   "source": [
    "network.f.W # weights"
   ]
  },
  {
   "cell_type": "code",
   "execution_count": 10,
   "metadata": {},
   "outputs": [
    {
     "ename": "LoadError",
     "evalue": "UndefVarError: dnetwork not defined",
     "output_type": "error",
     "traceback": [
      "UndefVarError: dnetwork not defined",
      "",
      "Stacktrace:",
      " [1] top-level scope",
      "   @ In[10]:1",
      " [2] eval",
      "   @ ./boot.jl:373 [inlined]",
      " [3] include_string(mapexpr::typeof(REPL.softscope), mod::Module, code::String, filename::String)",
      "   @ Base ./loading.jl:1196"
     ]
    }
   ],
   "source": [
    "dnetwork.f.W # weight gradients"
   ]
  },
  {
   "cell_type": "code",
   "execution_count": 11,
   "metadata": {},
   "outputs": [
    {
     "ename": "LoadError",
     "evalue": "type ComposedFunction has no field f",
     "output_type": "error",
     "traceback": [
      "type ComposedFunction has no field f",
      "",
      "Stacktrace:",
      " [1] getproperty(x::Function, f::Symbol)",
      "   @ Base ./Base.jl:42",
      " [2] top-level scope",
      "   @ In[11]:3",
      " [3] eval",
      "   @ ./boot.jl:373 [inlined]",
      " [4] include_string(mapexpr::typeof(REPL.softscope), mod::Module, code::String, filename::String)",
      "   @ Base ./loading.jl:1196"
     ]
    }
   ],
   "source": [
    "η = 0.01 # learning rate\n",
    "\n",
    "network.f.W .-= η * dnetwork.f.W # Gradient descent!"
   ]
  },
  {
   "cell_type": "markdown",
   "metadata": {},
   "source": [
    "## Flux - A pure-Julia machine learning library"
   ]
  },
  {
   "cell_type": "markdown",
   "metadata": {},
   "source": [
    "Web page: https://fluxml.ai/, Examples: [Model zoo](https://github.com/FluxML/model-zoo/)"
   ]
  },
  {
   "cell_type": "markdown",
   "metadata": {},
   "source": [
    "<img src=\"https://fluxml.ai/logo.png\" width=300>"
   ]
  },
  {
   "cell_type": "markdown",
   "metadata": {},
   "source": [
    "<img src=\"imgs/flux.png\" width=800>"
   ]
  },
  {
   "cell_type": "code",
   "execution_count": 19,
   "metadata": {},
   "outputs": [],
   "source": [
    "using Flux"
   ]
  },
  {
   "cell_type": "code",
   "execution_count": 20,
   "metadata": {},
   "outputs": [],
   "source": [
    "data, labels = rand(3, 100), fill(0.5, 2, 100); # fake data"
   ]
  },
  {
   "cell_type": "code",
   "execution_count": 21,
   "metadata": {},
   "outputs": [
    {
     "data": {
      "text/plain": [
       "loss (generic function with 1 method)"
      ]
     },
     "execution_count": 21,
     "metadata": {},
     "output_type": "execute_result"
    }
   ],
   "source": [
    "loss(x, y) = sum(Flux.mse(m(x), y)) # mean squared error"
   ]
  },
  {
   "cell_type": "code",
   "execution_count": 22,
   "metadata": {},
   "outputs": [
    {
     "data": {
      "text/plain": [
       "Descent(0.01)"
      ]
     },
     "execution_count": 22,
     "metadata": {},
     "output_type": "execute_result"
    }
   ],
   "source": [
    "opt = Descent(0.01) # optimizer, i.e. gradient descent"
   ]
  },
  {
   "cell_type": "code",
   "execution_count": 23,
   "metadata": {},
   "outputs": [
    {
     "ename": "LoadError",
     "evalue": "UndefVarError: params not defined",
     "output_type": "error",
     "traceback": [
      "UndefVarError: params not defined",
      "",
      "Stacktrace:",
      " [1] top-level scope",
      "   @ In[23]:1",
      " [2] eval",
      "   @ ./boot.jl:373 [inlined]",
      " [3] include_string(mapexpr::typeof(REPL.softscope), mod::Module, code::String, filename::String)",
      "   @ Base ./loading.jl:1196"
     ]
    }
   ],
   "source": [
    "Flux.train!(loss, params(m), [(data,labels)], opt)"
   ]
  },
  {
   "cell_type": "code",
   "execution_count": 24,
   "metadata": {},
   "outputs": [
    {
     "ename": "LoadError",
     "evalue": "UndefVarError: m not defined",
     "output_type": "error",
     "traceback": [
      "UndefVarError: m not defined",
      "",
      "Stacktrace:",
      " [1] top-level scope",
      "   @ In[24]:1",
      " [2] eval",
      "   @ ./boot.jl:373 [inlined]",
      " [3] include_string(mapexpr::typeof(REPL.softscope), mod::Module, code::String, filename::String)",
      "   @ Base ./loading.jl:1196"
     ]
    }
   ],
   "source": [
    "m(rand(3)) # trained model"
   ]
  },
  {
   "cell_type": "code",
   "execution_count": null,
   "metadata": {},
   "outputs": [],
   "source": []
  }
 ],
 "metadata": {
  "@webio": {
   "lastCommId": null,
   "lastKernelId": null
  },
  "kernelspec": {
   "display_name": "Julia 1.7.3",
   "language": "julia",
   "name": "julia-1.7"
  },
  "language_info": {
   "file_extension": ".jl",
   "mimetype": "application/julia",
   "name": "julia",
   "version": "1.7.3"
  }
 },
 "nbformat": 4,
 "nbformat_minor": 4
}
