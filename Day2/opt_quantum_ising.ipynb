{
 "cells": [
  {
   "cell_type": "markdown",
   "metadata": {},
   "source": [
    "# Quantum Ising Phase Transition\n",
    "### Carsten Bauer, Katharine Hyatt"
   ]
  },
  {
   "cell_type": "markdown",
   "metadata": {},
   "source": [
    "## Introduction"
   ]
  },
  {
   "cell_type": "markdown",
   "metadata": {},
   "source": [
    "In this tutorial we will consider a simple quantum mechanical system of spins sitting on a chain. Here, *quantum mechanical*, despite its pompous sound, simply means that our Hamiltonian matrix will have a non-trivial (i.e. non-diagonal) matrix structure.\n",
    "\n",
    "We will then ask a couple of basic questions,\n",
    "\n",
    "* What is the ground state of the system?\n",
    "* What happens if we turn on a transverse magnetic field?\n",
    "* Are there any phase transitions?\n",
    "\n",
    "To get answers to the questions, we will solve the time-independent Schrödinger equation\n",
    "\n",
    "$$H|\\psi\\rangle = E |\\psi\\rangle$$\n",
    "\n",
    "in Julia by means of exact diagonalization of the Hamiltonian."
   ]
  },
  {
   "cell_type": "markdown",
   "metadata": {},
   "source": [
    "## Transverse field quantum Ising chain"
   ]
  },
  {
   "cell_type": "markdown",
   "metadata": {},
   "source": [
    "Let's start out by defining our system. The Hamiltonian is given by"
   ]
  },
  {
   "cell_type": "markdown",
   "metadata": {},
   "source": [
    "$$\\mathcal{H} = -\\sum_{\\langle i, j \\rangle} \\hat{\\sigma}_i^z \\otimes \\hat{\\sigma}_j^z - h\\sum_i \\hat{\\sigma}_i^x$$"
   ]
  },
  {
   "cell_type": "markdown",
   "metadata": {},
   "source": [
    "Here, $\\hat{\\sigma}^z$ and $\\hat{\\sigma}^x$ are two of the three [Pauli matrices](https://en.wikipedia.org/wiki/Pauli_matrices), representing our quantum spins, $\\langle i, j \\rangle$ indicates that only neighboring spins talk to each other, and $h$ is the amplitude of the magnetic field. "
   ]
  },
  {
   "cell_type": "code",
   "execution_count": 1,
   "metadata": {},
   "outputs": [
    {
     "data": {
      "text/plain": [
       "2×2 Matrix{Int64}:\n",
       " 1   0\n",
       " 0  -1"
      ]
     },
     "execution_count": 1,
     "metadata": {},
     "output_type": "execute_result"
    }
   ],
   "source": [
    "σᶻ = [1 0; 0 -1] # \\sigma <TAB> followed by \\^z <TAB>"
   ]
  },
  {
   "cell_type": "code",
   "execution_count": 2,
   "metadata": {},
   "outputs": [
    {
     "data": {
      "text/plain": [
       "2×2 Matrix{Int64}:\n",
       " 0  1\n",
       " 1  0"
      ]
     },
     "execution_count": 2,
     "metadata": {},
     "output_type": "execute_result"
    }
   ],
   "source": [
    "σˣ = [0 1; 1 0]"
   ]
  },
  {
   "cell_type": "markdown",
   "metadata": {},
   "source": [
    "Labeling the eigensates of $\\sigma^z$ as $|\\downarrow\\rangle$ and $|\\uparrow\\rangle$, we interpret them as a spin pointing down or up (in $z$-direction), respectively.\n",
    "\n",
    "Clearly, since being purely off-diagonal, the effect of $\\sigma^x$ on such a single spin is to flip it:\n",
    "\n",
    "$$\\hat{\\sigma}^x\\left| \\downarrow \\right\\rangle = \\left| \\uparrow \\right\\rangle$$\n",
    "\n",
    "$$\\hat{\\sigma}^x\\left| \\uparrow \\right\\rangle = \\left| \\downarrow \\right\\rangle$$"
   ]
  },
  {
   "cell_type": "markdown",
   "metadata": {},
   "source": [
    "The idea behind the Hamiltonian above is as follows:\n",
    "\n",
    "* The first term is diagonal in the $\\sigma^z$ eigenbasis. If there is no magnetic field, $h=0$, our quantum model reduces to the well-known classical [Ising model](https://en.wikipedia.org/wiki/Ising_model) (diagonal = trivial matrix structure -> classical). In this case, we have a **finite temperature phase transition** from a paramagnetic ($T>T_c$) phase, where the spins are **disordered by thermal fluctuations**, to a ferromagnetic phase ($T<T_c$), where they all point into the $z$ direction and, consequently, a ferromagnetic ground state at $T=0$.\n",
    "\n",
    "* Since this would be boring, we want to add quantum complications to this picture by making $H$ non-diagonal. To this end, we expose the quantum spins to a transverse magnetic field $h$ in $x$ direction in the second term. Now, since $\\sigma^z$ and $\\sigma^x$ do not commute (check `σˣ*σᶻ - σᶻ*σˣ` yourself), there is no common eigenbasis of the first and the second term and our Hamiltonian has a non-trivial matrix structure (It's quantum!). If there was *only the second term* the system would, again, be trivial, as it would be diagonal in the eigenbasis of $\\sigma^x$: the quantum spins want to be in an eigenstate of $\\sigma^x$, i.e. align to the magnetic field.\n",
    "\n",
    "* We can see that if we have both terms we have a competition between the spins wanting to point in the $z$ direction (first term) and at the same time being disturbed by the transverse magnetic field. We say that the magnetic field term adds **quantum fluctuations** to the system.\n",
    "\n",
    "Let us explore the physics of this interplay."
   ]
  },
  {
   "cell_type": "markdown",
   "metadata": {},
   "source": [
    "## Building the Hamiltonian matrix"
   ]
  },
  {
   "cell_type": "markdown",
   "metadata": {},
   "source": [
    "We will choose the $\\sigma^z$ eigenbasis as our computation basis.\n",
    "\n",
    "To build up our Hamiltonian matrix we need to take the kronecker product (tensor product) of spin matrices. Fortunately, Julia has a built-in function for this."
   ]
  },
  {
   "cell_type": "code",
   "execution_count": 3,
   "metadata": {},
   "outputs": [
    {
     "data": {
      "text/plain": [
       "4×4 Matrix{Int64}:\n",
       " 1   0   0  0\n",
       " 0  -1   0  0\n",
       " 0   0  -1  0\n",
       " 0   0   0  1"
      ]
     },
     "execution_count": 3,
     "metadata": {},
     "output_type": "execute_result"
    }
   ],
   "source": [
    "kron(σᶻ,σᶻ) # this is the matrix of the tensor product σᶻᵢ⊗ σᶻⱼ (⊗ = \\otimes <TAB>)"
   ]
  },
  {
   "cell_type": "markdown",
   "metadata": {},
   "source": [
    "Let's be fancy (cause we can!) and make this look a bit cooler."
   ]
  },
  {
   "cell_type": "code",
   "execution_count": 4,
   "metadata": {},
   "outputs": [
    {
     "data": {
      "text/plain": [
       "⊗ (generic function with 1 method)"
      ]
     },
     "execution_count": 4,
     "metadata": {},
     "output_type": "execute_result"
    }
   ],
   "source": [
    "⊗(x,y) = kron(x,y)"
   ]
  },
  {
   "cell_type": "code",
   "execution_count": 5,
   "metadata": {},
   "outputs": [
    {
     "data": {
      "text/plain": [
       "4×4 Matrix{Int64}:\n",
       " 1   0   0  0\n",
       " 0  -1   0  0\n",
       " 0   0  -1  0\n",
       " 0   0   0  1"
      ]
     },
     "execution_count": 5,
     "metadata": {},
     "output_type": "execute_result"
    }
   ],
   "source": [
    "σᶻ ⊗ σᶻ"
   ]
  },
  {
   "cell_type": "markdown",
   "metadata": {},
   "source": [
    "### Explicit 4-site Hamiltonian"
   ]
  },
  {
   "cell_type": "markdown",
   "metadata": {},
   "source": [
    "Imagine our spin chain consists of four sites. Writing out identity matrices (which were left implicit in $H$ above) explicitly, our Hamiltonian reads"
   ]
  },
  {
   "cell_type": "markdown",
   "metadata": {},
   "source": [
    "$$\\mathcal{H}_4 = -\\hat{\\sigma}_1^z \\hat{\\sigma}_2^z \\hat{I}_3 \\hat{I}_4 - \\hat{I}_1 \\hat{\\sigma}_2^z \\hat{\\sigma}_3^z \\hat{I}_4 - \\hat{I}_1 \\hat{I}_2 \\hat{\\sigma}_3^z \\hat{\\sigma}_4^z - h\\left(\\hat{\\sigma}_1^x\\hat{I}_2 \\hat{I}_3\\hat{I}_4 + \\hat{I}_1 \\hat{\\sigma}_2^x \\hat{I}_3\\hat{I}_4 +\\hat{I}_1 \\hat{I}_2 \\hat{\\sigma}_3^x\\hat{I}_4 + \\hat{I}_1 \\hat{I}_2 \\hat{I}_3 \\hat{\\sigma}_4^x\\right)$$"
   ]
  },
  {
   "cell_type": "markdown",
   "metadata": {},
   "source": [
    "(Note that we are considering *open* boundary conditions here - the spin on site 4 doesn't interact with the one on the first site. For *periodic* boundary conditions we'd have to add a term $- \\hat{\\sigma}^z_1 \\hat{I}_2 \\hat{I}_3 \\hat{\\sigma}_4^z$.)\n",
    "\n",
    "Translating this expression to Julia is super easy. After defining the identity matrix"
   ]
  },
  {
   "cell_type": "code",
   "execution_count": 6,
   "metadata": {},
   "outputs": [
    {
     "data": {
      "text/plain": [
       "2×2 Matrix{Int64}:\n",
       " 1  0\n",
       " 0  1"
      ]
     },
     "execution_count": 6,
     "metadata": {},
     "output_type": "execute_result"
    }
   ],
   "source": [
    "id = [1 0; 0 1] # identity matrix"
   ]
  },
  {
   "cell_type": "markdown",
   "metadata": {},
   "source": [
    "we can simply write"
   ]
  },
  {
   "cell_type": "code",
   "execution_count": 7,
   "metadata": {},
   "outputs": [
    {
     "data": {
      "text/plain": [
       "16×16 Matrix{Int64}:\n",
       " -3  -1  -1   0  -1   0   0   0  -1   0   0   0   0   0   0   0\n",
       " -1  -1   0  -1   0  -1   0   0   0  -1   0   0   0   0   0   0\n",
       " -1   0   1  -1   0   0  -1   0   0   0  -1   0   0   0   0   0\n",
       "  0  -1  -1  -1   0   0   0  -1   0   0   0  -1   0   0   0   0\n",
       " -1   0   0   0   1  -1  -1   0   0   0   0   0  -1   0   0   0\n",
       "  0  -1   0   0  -1   3   0  -1   0   0   0   0   0  -1   0   0\n",
       "  0   0  -1   0  -1   0   1  -1   0   0   0   0   0   0  -1   0\n",
       "  0   0   0  -1   0  -1  -1  -1   0   0   0   0   0   0   0  -1\n",
       " -1   0   0   0   0   0   0   0  -1  -1  -1   0  -1   0   0   0\n",
       "  0  -1   0   0   0   0   0   0  -1   1   0  -1   0  -1   0   0\n",
       "  0   0  -1   0   0   0   0   0  -1   0   3  -1   0   0  -1   0\n",
       "  0   0   0  -1   0   0   0   0   0  -1  -1   1   0   0   0  -1\n",
       "  0   0   0   0  -1   0   0   0  -1   0   0   0  -1  -1  -1   0\n",
       "  0   0   0   0   0  -1   0   0   0  -1   0   0  -1   1   0  -1\n",
       "  0   0   0   0   0   0  -1   0   0   0  -1   0  -1   0  -1  -1\n",
       "  0   0   0   0   0   0   0  -1   0   0   0  -1   0  -1  -1  -3"
      ]
     },
     "execution_count": 7,
     "metadata": {},
     "output_type": "execute_result"
    }
   ],
   "source": [
    "h = 1\n",
    "H = - σᶻ⊗σᶻ⊗id⊗id - id⊗σᶻ⊗σᶻ⊗id - id⊗id⊗σᶻ⊗σᶻ\n",
    "H -= h*(σˣ⊗id⊗id⊗id + id⊗σˣ⊗id⊗id + id⊗id⊗σˣ⊗id + id⊗id⊗id⊗σˣ)"
   ]
  },
  {
   "cell_type": "markdown",
   "metadata": {},
   "source": [
    "There it is.\n",
    "\n",
    "As nice as it is to write those tensor products explicitly, we certainly wouldn't want to write out all the terms for, say, 100 sites.\n",
    "\n",
    "Let's define a function that iteratively does the job for us."
   ]
  },
  {
   "cell_type": "code",
   "execution_count": 8,
   "metadata": {},
   "outputs": [
    {
     "data": {
      "text/plain": [
       "TransverseFieldIsing (generic function with 1 method)"
      ]
     },
     "execution_count": 8,
     "metadata": {},
     "output_type": "execute_result"
    }
   ],
   "source": [
    "function TransverseFieldIsing(;N,h)\n",
    "    id = [1 0; 0 1]\n",
    "    σˣ = [0 1; 1 0]\n",
    "    σᶻ = [1 0; 0 -1]\n",
    "    \n",
    "    # vector of operators: [σᶻ, σᶻ, id, ...]\n",
    "    first_term_ops = fill(id, N)\n",
    "    first_term_ops[1] = σᶻ\n",
    "    first_term_ops[2] = σᶻ\n",
    "    \n",
    "    # vector of operators: [σˣ, id, ...]\n",
    "    second_term_ops = fill(id, N)\n",
    "    second_term_ops[1] = σˣ\n",
    "    \n",
    "    H = zeros(Int, 2^N, 2^N)\n",
    "    for i in 1:N-1\n",
    "        # tensor multiply all operators\n",
    "        H -= foldl(⊗, first_term_ops)\n",
    "        # cyclic shift the operators\n",
    "        first_term_ops = circshift(first_term_ops,1)\n",
    "    end\n",
    "    \n",
    "    for i in 1:N\n",
    "        H -= h*foldl(⊗, second_term_ops)\n",
    "        second_term_ops = circshift(second_term_ops,1)\n",
    "    end\n",
    "    H\n",
    "end"
   ]
  },
  {
   "cell_type": "code",
   "execution_count": 9,
   "metadata": {},
   "outputs": [
    {
     "data": {
      "text/plain": [
       "256×256 Matrix{Int64}:\n",
       " -7  -1  -1   0  -1   0   0   0  -1  …   0   0   0   0   0   0   0   0   0\n",
       " -1  -5   0  -1   0  -1   0   0   0      0   0   0   0   0   0   0   0   0\n",
       " -1   0  -3  -1   0   0  -1   0   0      0   0   0   0   0   0   0   0   0\n",
       "  0  -1  -1  -5   0   0   0  -1   0      0   0   0   0   0   0   0   0   0\n",
       " -1   0   0   0  -3  -1  -1   0   0      0   0   0   0   0   0   0   0   0\n",
       "  0  -1   0   0  -1  -1   0  -1   0  …   0   0   0   0   0   0   0   0   0\n",
       "  0   0  -1   0  -1   0  -3  -1   0      0   0   0   0   0   0   0   0   0\n",
       "  0   0   0  -1   0  -1  -1  -5   0      0   0   0   0   0   0   0   0   0\n",
       " -1   0   0   0   0   0   0   0  -3      0   0   0   0   0   0   0   0   0\n",
       "  0  -1   0   0   0   0   0   0  -1      0   0   0   0   0   0   0   0   0\n",
       "  0   0  -1   0   0   0   0   0  -1  …   0   0   0   0   0   0   0   0   0\n",
       "  0   0   0  -1   0   0   0   0   0      0   0   0   0   0   0   0   0   0\n",
       "  0   0   0   0  -1   0   0   0  -1      0   0   0   0   0   0   0   0   0\n",
       "  ⋮                   ⋮              ⋱               ⋮                   ⋮\n",
       "  0   0   0   0   0   0   0   0   0      0   0   0   0   0  -1   0   0   0\n",
       "  0   0   0   0   0   0   0   0   0  …  -1   0   0   0   0   0  -1   0   0\n",
       "  0   0   0   0   0   0   0   0   0     -1   0   0   0   0   0   0  -1   0\n",
       "  0   0   0   0   0   0   0   0   0     -3   0   0   0   0   0   0   0  -1\n",
       "  0   0   0   0   0   0   0   0   0      0  -5  -1  -1   0  -1   0   0   0\n",
       "  0   0   0   0   0   0   0   0   0      0  -1  -3   0  -1   0  -1   0   0\n",
       "  0   0   0   0   0   0   0   0   0  …   0  -1   0  -1  -1   0   0  -1   0\n",
       "  0   0   0   0   0   0   0   0   0      0   0  -1  -1  -3   0   0   0  -1\n",
       "  0   0   0   0   0   0   0   0   0      0  -1   0   0   0  -5  -1  -1   0\n",
       "  0   0   0   0   0   0   0   0   0      0   0  -1   0   0  -1  -3   0  -1\n",
       "  0   0   0   0   0   0   0   0   0      0   0   0  -1   0  -1   0  -5  -1\n",
       "  0   0   0   0   0   0   0   0   0  …  -1   0   0   0  -1   0  -1  -1  -7"
      ]
     },
     "execution_count": 9,
     "metadata": {},
     "output_type": "execute_result"
    }
   ],
   "source": [
    "TransverseFieldIsing(N=8, h=1)"
   ]
  },
  {
   "cell_type": "markdown",
   "metadata": {},
   "source": [
    "### Many-particle basis\n",
    "\n",
    "Beyond a single spin, we have to think how to encode our basis states.\n",
    "\n",
    "We make the arbitrary choice:\n",
    "$0 = \\text{false} = \\downarrow$ and $1 = \\text{true} = \\uparrow$\n",
    "\n",
    "This way, our many-spin basis states have nice a binary representations and we can efficiently store them in a Julia `BitArray`.\n",
    "\n",
    "Example: $|0010\\rangle = |\\text{false},\\text{false},\\text{true},\\text{false}\\rangle = |\\downarrow\\downarrow\\uparrow\\downarrow>$ is a basis state of a 4-site system\n",
    "\n",
    "We construct the full basis by binary counting."
   ]
  },
  {
   "cell_type": "code",
   "execution_count": 10,
   "metadata": {},
   "outputs": [
    {
     "data": {
      "text/plain": [
       "generate_basis"
      ]
     },
     "execution_count": 10,
     "metadata": {},
     "output_type": "execute_result"
    }
   ],
   "source": [
    "\"\"\"\n",
    "Binary `BitArray` representation of the given integer `num`, padded to length `N`.\n",
    "\"\"\"\n",
    "bit_rep(num::Integer, N::Integer) = BitArray(parse(Bool, i) for i in string(num, base=2, pad=N))\n",
    "\n",
    "\"\"\"\n",
    "    generate_basis(N::Integer) -> basis\n",
    "\n",
    "Generates a basis (`Vector{BitArray}`) spanning the Hilbert space of `N` spins.\n",
    "\"\"\"\n",
    "function generate_basis(N::Integer)\n",
    "    nstates = 2^N\n",
    "    basis = Vector{BitArray{1}}(undef, nstates)\n",
    "    for i in 0:nstates-1\n",
    "        basis[i+1] = bit_rep(i, N)\n",
    "    end\n",
    "    return basis\n",
    "end"
   ]
  },
  {
   "cell_type": "code",
   "execution_count": 11,
   "metadata": {},
   "outputs": [
    {
     "data": {
      "text/plain": [
       "16-element Vector{BitVector}:\n",
       " [0, 0, 0, 0]\n",
       " [0, 0, 0, 1]\n",
       " [0, 0, 1, 0]\n",
       " [0, 0, 1, 1]\n",
       " [0, 1, 0, 0]\n",
       " [0, 1, 0, 1]\n",
       " [0, 1, 1, 0]\n",
       " [0, 1, 1, 1]\n",
       " [1, 0, 0, 0]\n",
       " [1, 0, 0, 1]\n",
       " [1, 0, 1, 0]\n",
       " [1, 0, 1, 1]\n",
       " [1, 1, 0, 0]\n",
       " [1, 1, 0, 1]\n",
       " [1, 1, 1, 0]\n",
       " [1, 1, 1, 1]"
      ]
     },
     "execution_count": 11,
     "metadata": {},
     "output_type": "execute_result"
    }
   ],
   "source": [
    "generate_basis(4)"
   ]
  },
  {
   "cell_type": "markdown",
   "metadata": {},
   "source": [
    "### Side remark: Iterative construction of $H$"
   ]
  },
  {
   "cell_type": "markdown",
   "metadata": {},
   "source": [
    "It might not be obvious that this basis is indeed the basis underlying the Hamiltonian matrix constructed in `TransverseFieldIsing`. To convince ourselves that this is indeed the case, let's calculate the matrix elements of our Hamiltonian, $\\langle \\psi_1 | H | \\psi_2 \\rangle$, explicitly by applying $H$ to our basis states and utilizing their orthonormality, $\\langle \\psi_i | \\psi_j \\rangle = \\sigma_{i,j}$."
   ]
  },
  {
   "cell_type": "code",
   "execution_count": 12,
   "metadata": {},
   "outputs": [
    {
     "data": {
      "text/plain": [
       "TransverseFieldIsing_explicit (generic function with 1 method)"
      ]
     },
     "execution_count": 12,
     "metadata": {},
     "output_type": "execute_result"
    }
   ],
   "source": [
    "using LinearAlgebra\n",
    "\n",
    "function TransverseFieldIsing_explicit(; N::Integer, h::T=0) where T<:Real\n",
    "    basis = generate_basis(N)\n",
    "    H = zeros(T, 2^N, 2^N)\n",
    "    bonds = zip(collect(1:N-1), collect(2:N))\n",
    "    for (i, bstate) in enumerate(basis)\n",
    "        # diagonal part\n",
    "        diag_term = 0.\n",
    "        for (site_i, site_j) in bonds\n",
    "            if bstate[site_i] == bstate[site_j]\n",
    "                diag_term -= 1\n",
    "            else\n",
    "                diag_term += 1\n",
    "            end\n",
    "        end\n",
    "        H[i, i] = diag_term\n",
    "        \n",
    "        # off diagonal part\n",
    "        for site in 1:N\n",
    "            new_bstate = copy(bstate)\n",
    "            # flip the bit on the site (that's what σˣ does)\n",
    "            new_bstate[site] = !new_bstate[site]\n",
    "            # find corresponding single basis state with unity overlap (orthonormality)\n",
    "            new_i = findfirst(isequal(new_bstate), basis)\n",
    "            H[i, new_i] = -h\n",
    "        end\n",
    "    end\n",
    "    return H\n",
    "end"
   ]
  },
  {
   "cell_type": "code",
   "execution_count": 13,
   "metadata": {},
   "outputs": [
    {
     "data": {
      "text/plain": [
       "true"
      ]
     },
     "execution_count": 13,
     "metadata": {},
     "output_type": "execute_result"
    }
   ],
   "source": [
    "TransverseFieldIsing_explicit(N=4, h=1) ≈ TransverseFieldIsing(N=4, h=1)"
   ]
  },
  {
   "cell_type": "markdown",
   "metadata": {},
   "source": [
    "### Full exact diagonalization"
   ]
  },
  {
   "cell_type": "markdown",
   "metadata": {},
   "source": [
    "Alright. Let's solve the Schrödinger equation by diagonalizing $H$ for a system with $N=8$ and $h=1$."
   ]
  },
  {
   "cell_type": "code",
   "execution_count": 14,
   "metadata": {},
   "outputs": [
    {
     "data": {
      "text/plain": [
       "Eigen{Float64, Float64, Matrix{Float64}, Vector{Float64}}\n",
       "values:\n",
       "256-element Vector{Float64}:\n",
       " -9.837951447459423\n",
       " -9.468878009606213\n",
       " -8.74329948717107\n",
       " -8.37422604931787\n",
       " -8.054998024353269\n",
       " -7.685924586500059\n",
       " -7.427412901942413\n",
       " -7.058339464089192\n",
       " -6.960346064064938\n",
       " -6.881915778576781\n",
       " -6.591272626211728\n",
       " -6.512842340723582\n",
       " -6.437082904540967\n",
       "  ⋮\n",
       "  6.512842340723571\n",
       "  6.591272626211724\n",
       "  6.881915778576781\n",
       "  6.960346064064936\n",
       "  7.05833946408919\n",
       "  7.427412901942394\n",
       "  7.685924586500059\n",
       "  8.054998024353267\n",
       "  8.374226049317883\n",
       "  8.74329948717109\n",
       "  9.468878009606211\n",
       "  9.837951447459421\n",
       "vectors:\n",
       "256×256 Matrix{Float64}:\n",
       " 0.340927   -0.459362   -2.08167e-16  …  -1.14492e-16   0.00885459\n",
       " 0.173416   -0.210059   -0.0826509        0.00480955   -0.0133586\n",
       " 0.109265   -0.126567   -0.0600217       -0.00990677   -0.0214075\n",
       " 0.135509   -0.123533   -0.182584         0.00219934    0.0121301\n",
       " 0.101521   -0.116488   -0.0389137        0.0115529    -0.0195355\n",
       " 0.0603592  -0.0541307  -0.0677375    …  -0.0296823     0.0367401\n",
       " 0.0754706  -0.0572934  -0.103307        -0.00222615    0.0173773\n",
       " 0.120803   -0.0590509  -0.260672         0.00610295   -0.0128526\n",
       " 0.0995642  -0.11394    -0.0135226       -0.0125492    -0.020245\n",
       " 0.0532448  -0.04999    -0.0381968        0.00794715    0.0263806\n",
       " 0.0367401  -0.0296823  -0.033051     …   0.0541307     0.0603592\n",
       " 0.0508038  -0.0245805  -0.0889179       -0.0223165    -0.0314965\n",
       " 0.0663716  -0.0471469  -0.0527574        0.000811348   0.0160635\n",
       " ⋮                                    ⋱                 ⋮\n",
       " 0.0508038   0.0245805   0.0889179        0.0223165    -0.0314965\n",
       " 0.0367401   0.0296823   0.033051     …  -0.0541307     0.0603592\n",
       " 0.0532448   0.04999     0.0381968       -0.00794715    0.0263806\n",
       " 0.0995642   0.11394     0.0135226        0.0125492    -0.020245\n",
       " 0.120803    0.0590509   0.260672        -0.00610295   -0.0128526\n",
       " 0.0754706   0.0572934   0.103307         0.00222615    0.0173773\n",
       " 0.0603592   0.0541307   0.0677375    …   0.0296823     0.0367401\n",
       " 0.101521    0.116488    0.0389137       -0.0115529    -0.0195355\n",
       " 0.135509    0.123533    0.182584        -0.00219934    0.0121301\n",
       " 0.109265    0.126567    0.0600217        0.00990677   -0.0214075\n",
       " 0.173416    0.210059    0.0826509       -0.00480955   -0.0133586\n",
       " 0.340927    0.459362    0.0          …   0.0           0.00885459"
      ]
     },
     "execution_count": 14,
     "metadata": {},
     "output_type": "execute_result"
    }
   ],
   "source": [
    "basis = generate_basis(8)\n",
    "H = TransverseFieldIsing(N=8, h=1)\n",
    "vals, vecs = eigen(H)"
   ]
  },
  {
   "cell_type": "markdown",
   "metadata": {},
   "source": [
    "That's it. Here is our groundstate. "
   ]
  },
  {
   "cell_type": "code",
   "execution_count": 15,
   "metadata": {},
   "outputs": [],
   "source": [
    "groundstate = vecs[:,1];"
   ]
  },
  {
   "cell_type": "markdown",
   "metadata": {},
   "source": [
    "The absolute square of this wave function is the probability of finding the system in a particular basis state."
   ]
  },
  {
   "cell_type": "code",
   "execution_count": 16,
   "metadata": {},
   "outputs": [
    {
     "data": {
      "text/plain": [
       "256-element Vector{Float64}:\n",
       " 0.11623105759943102\n",
       " 0.03007315081450274\n",
       " 0.011938898954891404\n",
       " 0.01836268922781092\n",
       " 0.010306563749646383\n",
       " 0.0036432311839577408\n",
       " 0.005695810419718903\n",
       " 0.014593393364127462\n",
       " 0.009913022568277504\n",
       " 0.002835013679521534\n",
       " 0.0013498376280201623\n",
       " 0.002581028347123994\n",
       " 0.004405195883727786\n",
       " ⋮\n",
       " 0.00258102834712394\n",
       " 0.0013498376280201257\n",
       " 0.0028350136795214534\n",
       " 0.009913022568276907\n",
       " 0.014593393364127013\n",
       " 0.0056958104197187415\n",
       " 0.003643231183957627\n",
       " 0.010306563749645782\n",
       " 0.018362689227810047\n",
       " 0.011938898954890675\n",
       " 0.03007315081450098\n",
       " 0.11623105759941803"
      ]
     },
     "execution_count": 16,
     "metadata": {},
     "output_type": "execute_result"
    }
   ],
   "source": [
    "abs2.(groundstate)"
   ]
  },
  {
   "cell_type": "markdown",
   "metadata": {},
   "source": [
    "It's instructive to look at the extremal cases $h=0$ and $h>>1$."
   ]
  },
  {
   "cell_type": "code",
   "execution_count": 17,
   "metadata": {},
   "outputs": [
    {
     "data": {
      "text/plain": [
       "256-element Vector{Float64}:\n",
       " 1.0\n",
       " 0.0\n",
       " 0.0\n",
       " 0.0\n",
       " 0.0\n",
       " 0.0\n",
       " 0.0\n",
       " 0.0\n",
       " 0.0\n",
       " 0.0\n",
       " 0.0\n",
       " 0.0\n",
       " 0.0\n",
       " ⋮\n",
       " 0.0\n",
       " 0.0\n",
       " 0.0\n",
       " 0.0\n",
       " 0.0\n",
       " 0.0\n",
       " 0.0\n",
       " 0.0\n",
       " 0.0\n",
       " 0.0\n",
       " 0.0\n",
       " 0.0"
      ]
     },
     "execution_count": 17,
     "metadata": {},
     "output_type": "execute_result"
    }
   ],
   "source": [
    "H = TransverseFieldIsing(N=8, h=0)\n",
    "vals, vecs = eigen(H)\n",
    "groundstate = vecs[:,1]\n",
    "abs2.(groundstate)"
   ]
  },
  {
   "cell_type": "markdown",
   "metadata": {},
   "source": [
    "As we can see, for $h=0$ the system is (with probability one) in the first basis state, where all spins point in $-z$ direction."
   ]
  },
  {
   "cell_type": "code",
   "execution_count": 18,
   "metadata": {},
   "outputs": [
    {
     "data": {
      "text/plain": [
       "8-element BitVector:\n",
       " 0\n",
       " 0\n",
       " 0\n",
       " 0\n",
       " 0\n",
       " 0\n",
       " 0\n",
       " 0"
      ]
     },
     "execution_count": 18,
     "metadata": {},
     "output_type": "execute_result"
    }
   ],
   "source": [
    "basis[1]"
   ]
  },
  {
   "cell_type": "markdown",
   "metadata": {},
   "source": [
    "On the other hand, for $h=100$, the system occupies all basis states with approximately equal probability (maximal superposition) - corresponding to eigenstates of $\\sigma^x$, i.e. alignment to the magnetic field."
   ]
  },
  {
   "cell_type": "code",
   "execution_count": 19,
   "metadata": {},
   "outputs": [
    {
     "data": {
      "text/plain": [
       "256-element Vector{Float64}:\n",
       " 0.004045339592145769\n",
       " 0.004004987329714091\n",
       " 0.0039651372057858\n",
       " 0.004004886702523796\n",
       " 0.003965038080465971\n",
       " 0.003925683101156526\n",
       " 0.0039649384545287995\n",
       " 0.004004886199391182\n",
       " 0.003965037585486789\n",
       " 0.003925487314471254\n",
       " 0.003886621577798374\n",
       " 0.003925584959072647\n",
       " 0.003964838836732747\n",
       " ⋮\n",
       " 0.0039255849590726765\n",
       " 0.0038866215777984495\n",
       " 0.003925487314471335\n",
       " 0.0039650375854868814\n",
       " 0.004004886199391226\n",
       " 0.003964938454528879\n",
       " 0.003925683101156629\n",
       " 0.003965038080466085\n",
       " 0.004004886702523868\n",
       " 0.003965137205785895\n",
       " 0.004004987329714185\n",
       " 0.004045339592145804"
      ]
     },
     "execution_count": 19,
     "metadata": {},
     "output_type": "execute_result"
    }
   ],
   "source": [
    "H = TransverseFieldIsing(N=8, h=100)\n",
    "vals, vecs = eigen(H)\n",
    "groundstate = vecs[:,1]\n",
    "abs2.(groundstate)"
   ]
  },
  {
   "cell_type": "markdown",
   "metadata": {},
   "source": [
    "# Are you a magnet or what?"
   ]
  },
  {
   "cell_type": "markdown",
   "metadata": {},
   "source": [
    "Let's vary $h$ and see what happens. Since we're looking at quantum magnets we will compute the overall magnetization, defined by\n",
    "\n",
    "$$M = \\frac{1}{N}\\sum_{i} \\sigma^z_i$$\n",
    "where $\\sigma^z_i$ is the value of the spin on site $i$ when we measure."
   ]
  },
  {
   "cell_type": "code",
   "execution_count": 20,
   "metadata": {},
   "outputs": [
    {
     "data": {
      "text/plain": [
       "magnetization (generic function with 1 method)"
      ]
     },
     "execution_count": 20,
     "metadata": {},
     "output_type": "execute_result"
    }
   ],
   "source": [
    "function magnetization(state, basis)\n",
    "    M = 0.\n",
    "    for (i, bstate) in enumerate(basis)\n",
    "        bstate_M = 0.\n",
    "        for spin in bstate\n",
    "            bstate_M += (state[i]^2 * (spin ? 1 : -1))/length(bstate)\n",
    "        end\n",
    "        @assert abs(bstate_M) <= 1\n",
    "        M += abs(bstate_M)\n",
    "    end\n",
    "    return M\n",
    "end"
   ]
  },
  {
   "cell_type": "code",
   "execution_count": 21,
   "metadata": {},
   "outputs": [
    {
     "data": {
      "text/plain": [
       "0.2748106008973599"
      ]
     },
     "execution_count": 21,
     "metadata": {},
     "output_type": "execute_result"
    }
   ],
   "source": [
    "magnetization(groundstate, basis)"
   ]
  },
  {
   "cell_type": "markdown",
   "metadata": {},
   "source": [
    "Now we would like to examine the effects of $h$. We will:\n",
    "\n",
    "1. Find a variety of $h$ to look at.\n",
    "2. For each, compute the lowest energy eigenvector (groundstate) of the corresponding Hamiltonian.\n",
    "3. For each groundstate, compute the overall magnetization $M$.\n",
    "4. Plot $M(h)$ for a variety of system sizes, and see if anything cool happens."
   ]
  },
  {
   "cell_type": "code",
   "execution_count": 22,
   "metadata": {},
   "outputs": [
    {
     "name": "stdout",
     "output_type": "stream",
     "text": [
      "[0.9999000299900034, 0.9992275301410243, 0.9941108617216778, 0.9591866669399158, 0.8202546347014362, 0.6435606282913411, 0.5535510608967722, 0.519342103385646, 0.5069557253424016, 0.5024999687505857]\n",
      "[0.9999619162456799, 0.9996970723690668, 0.9974830646467239, 0.9773789215903044, 0.8354226216616809, 0.6201747242734786, 0.5387766199872497, 0.5132785827294044, 0.5046859825477755, 0.5016729165356772]\n",
      "[0.9999687399231213, 0.9997574390110391, 0.998090665590265, 0.9834625621009825, 0.830992649384176, 0.5178560625397849, 0.41874605456604996, 0.38991363075606433, 0.380266696515714, 0.37688129681508376]\n",
      "[0.9999724979921556, 0.9997869479334597, 0.9983421299947642, 0.986444161502084, 0.8497025365410158, 0.5004140817498625, 0.41087379409708047, 0.38702986409349655, 0.3792256725176009, 0.3765066095836438]\n",
      "[0.9999749983061567, 0.9998063320776901, 0.9984949630645026, 0.9879234155671198, 0.8614091153977388, 0.44447348069374415, 0.3496735716584181, 0.3249989019717578, 0.31689733445178836, 0.3140688049463648]\n",
      "[0.9999767841851324, 0.9998201684819561, 0.998602800240955, 0.9888609121719849, 0.8755349710468299, 0.4315829101434207, 0.34479218595377187, 0.3232625647591527, 0.31627529393226467, 0.31384547575055416]\n",
      "[0.9999781235936351, 0.9998305454632239, 0.9986835480468148, 0.9895264359538196, 0.8855404267939256, 0.39469789448049936, 0.30622944218424086, 0.28440051150330975, 0.2772883235619141, 0.2748106008973599]\n",
      "[0.9999791653557972, 0.9998386164387263, 0.9987463408009283, 0.9900354288763686, 0.8943779809197783, 0.3848963664197453, 0.3028515450156106, 0.2832131026986249, 0.2768642960728759, 0.274658525170474]\n",
      "[0.9999799987655265, 0.9998450732188152, 0.9987965740132112, 0.99044032919151, 0.9008623747672853, 0.35821766629810564, 0.27573791196839953, 0.25597368336236953, 0.2495610689687792, 0.24732973908912148]\n"
     ]
    },
    {
     "data": {
      "image/svg+xml": [
       "<?xml version=\"1.0\" encoding=\"utf-8\"?>\n",
       "<svg xmlns=\"http://www.w3.org/2000/svg\" xmlns:xlink=\"http://www.w3.org/1999/xlink\" width=\"600\" height=\"400\" viewBox=\"0 0 2400 1600\">\n",
       "<defs>\n",
       "  <clipPath id=\"clip400\">\n",
       "    <rect x=\"0\" y=\"0\" width=\"2400\" height=\"1600\"/>\n",
       "  </clipPath>\n",
       "</defs>\n",
       "<path clip-path=\"url(#clip400)\" d=\"\n",
       "M0 1600 L2400 1600 L2400 0 L0 0  Z\n",
       "  \" fill=\"#ffffff\" fill-rule=\"evenodd\" fill-opacity=\"1\"/>\n",
       "<defs>\n",
       "  <clipPath id=\"clip401\">\n",
       "    <rect x=\"480\" y=\"0\" width=\"1681\" height=\"1600\"/>\n",
       "  </clipPath>\n",
       "</defs>\n",
       "<path clip-path=\"url(#clip400)\" d=\"\n",
       "M219.866 1410.9 L2352.76 1410.9 L2352.76 47.2441 L219.866 47.2441  Z\n",
       "  \" fill=\"#ffffff\" fill-rule=\"evenodd\" fill-opacity=\"1\"/>\n",
       "<defs>\n",
       "  <clipPath id=\"clip402\">\n",
       "    <rect x=\"219\" y=\"47\" width=\"2134\" height=\"1365\"/>\n",
       "  </clipPath>\n",
       "</defs>\n",
       "<polyline clip-path=\"url(#clip402)\" style=\"stroke:#000000; stroke-linecap:butt; stroke-linejoin:round; stroke-width:2; stroke-opacity:0.1; fill:none\" points=\"\n",
       "  280.231,1410.9 280.231,47.2441 \n",
       "  \"/>\n",
       "<polyline clip-path=\"url(#clip402)\" style=\"stroke:#000000; stroke-linecap:butt; stroke-linejoin:round; stroke-width:2; stroke-opacity:0.1; fill:none\" points=\"\n",
       "  783.271,1410.9 783.271,47.2441 \n",
       "  \"/>\n",
       "<polyline clip-path=\"url(#clip402)\" style=\"stroke:#000000; stroke-linecap:butt; stroke-linejoin:round; stroke-width:2; stroke-opacity:0.1; fill:none\" points=\"\n",
       "  1286.31,1410.9 1286.31,47.2441 \n",
       "  \"/>\n",
       "<polyline clip-path=\"url(#clip402)\" style=\"stroke:#000000; stroke-linecap:butt; stroke-linejoin:round; stroke-width:2; stroke-opacity:0.1; fill:none\" points=\"\n",
       "  1789.35,1410.9 1789.35,47.2441 \n",
       "  \"/>\n",
       "<polyline clip-path=\"url(#clip402)\" style=\"stroke:#000000; stroke-linecap:butt; stroke-linejoin:round; stroke-width:2; stroke-opacity:0.1; fill:none\" points=\"\n",
       "  2292.39,1410.9 2292.39,47.2441 \n",
       "  \"/>\n",
       "<polyline clip-path=\"url(#clip400)\" style=\"stroke:#000000; stroke-linecap:butt; stroke-linejoin:round; stroke-width:4; stroke-opacity:1; fill:none\" points=\"\n",
       "  219.866,1410.9 2352.76,1410.9 \n",
       "  \"/>\n",
       "<polyline clip-path=\"url(#clip400)\" style=\"stroke:#000000; stroke-linecap:butt; stroke-linejoin:round; stroke-width:4; stroke-opacity:1; fill:none\" points=\"\n",
       "  280.231,1410.9 280.231,1392 \n",
       "  \"/>\n",
       "<polyline clip-path=\"url(#clip400)\" style=\"stroke:#000000; stroke-linecap:butt; stroke-linejoin:round; stroke-width:4; stroke-opacity:1; fill:none\" points=\"\n",
       "  783.271,1410.9 783.271,1392 \n",
       "  \"/>\n",
       "<polyline clip-path=\"url(#clip400)\" style=\"stroke:#000000; stroke-linecap:butt; stroke-linejoin:round; stroke-width:4; stroke-opacity:1; fill:none\" points=\"\n",
       "  1286.31,1410.9 1286.31,1392 \n",
       "  \"/>\n",
       "<polyline clip-path=\"url(#clip400)\" style=\"stroke:#000000; stroke-linecap:butt; stroke-linejoin:round; stroke-width:4; stroke-opacity:1; fill:none\" points=\"\n",
       "  1789.35,1410.9 1789.35,1392 \n",
       "  \"/>\n",
       "<polyline clip-path=\"url(#clip400)\" style=\"stroke:#000000; stroke-linecap:butt; stroke-linejoin:round; stroke-width:4; stroke-opacity:1; fill:none\" points=\"\n",
       "  2292.39,1410.9 2292.39,1392 \n",
       "  \"/>\n",
       "<path clip-path=\"url(#clip400)\" d=\"M230.497 1485.02 L238.136 1485.02 L238.136 1458.66 L229.826 1460.32 L229.826 1456.06 L238.089 1454.4 L242.765 1454.4 L242.765 1485.02 L250.404 1485.02 L250.404 1488.96 L230.497 1488.96 L230.497 1485.02 Z\" fill=\"#000000\" fill-rule=\"evenodd\" fill-opacity=\"1\" /><path clip-path=\"url(#clip400)\" d=\"M269.848 1457.48 Q266.237 1457.48 264.409 1461.04 Q262.603 1464.58 262.603 1471.71 Q262.603 1478.82 264.409 1482.38 Q266.237 1485.92 269.848 1485.92 Q273.483 1485.92 275.288 1482.38 Q277.117 1478.82 277.117 1471.71 Q277.117 1464.58 275.288 1461.04 Q273.483 1457.48 269.848 1457.48 M269.848 1453.77 Q275.659 1453.77 278.714 1458.38 Q281.793 1462.96 281.793 1471.71 Q281.793 1480.44 278.714 1485.04 Q275.659 1489.63 269.848 1489.63 Q264.038 1489.63 260.96 1485.04 Q257.904 1480.44 257.904 1471.71 Q257.904 1462.96 260.96 1458.38 Q264.038 1453.77 269.848 1453.77 Z\" fill=\"#000000\" fill-rule=\"evenodd\" fill-opacity=\"1\" /><path clip-path=\"url(#clip400)\" d=\"M281.793 1447.87 L305.904 1447.87 L305.904 1451.07 L281.793 1451.07 L281.793 1447.87 Z\" fill=\"#000000\" fill-rule=\"evenodd\" fill-opacity=\"1\" /><path clip-path=\"url(#clip400)\" d=\"M317.377 1458.35 L330.637 1458.35 L330.637 1461.55 L312.807 1461.55 L312.807 1458.35 Q314.97 1456.11 318.694 1452.35 Q322.436 1448.57 323.396 1447.48 Q325.22 1445.43 325.935 1444.02 Q326.668 1442.59 326.668 1441.22 Q326.668 1438.98 325.088 1437.57 Q323.527 1436.16 321.007 1436.16 Q319.22 1436.16 317.227 1436.78 Q315.252 1437.4 312.995 1438.66 L312.995 1434.82 Q315.289 1433.9 317.283 1433.43 Q319.277 1432.96 320.932 1432.96 Q325.295 1432.96 327.891 1435.14 Q330.486 1437.32 330.486 1440.97 Q330.486 1442.7 329.828 1444.26 Q329.188 1445.8 327.477 1447.91 Q327.007 1448.46 324.486 1451.07 Q321.966 1453.67 317.377 1458.35 Z\" fill=\"#000000\" fill-rule=\"evenodd\" fill-opacity=\"1\" /><path clip-path=\"url(#clip400)\" d=\"M733.386 1485.02 L741.025 1485.02 L741.025 1458.66 L732.715 1460.32 L732.715 1456.06 L740.979 1454.4 L745.655 1454.4 L745.655 1485.02 L753.294 1485.02 L753.294 1488.96 L733.386 1488.96 L733.386 1485.02 Z\" fill=\"#000000\" fill-rule=\"evenodd\" fill-opacity=\"1\" /><path clip-path=\"url(#clip400)\" d=\"M772.738 1457.48 Q769.127 1457.48 767.298 1461.04 Q765.493 1464.58 765.493 1471.71 Q765.493 1478.82 767.298 1482.38 Q769.127 1485.92 772.738 1485.92 Q776.372 1485.92 778.178 1482.38 Q780.006 1478.82 780.006 1471.71 Q780.006 1464.58 778.178 1461.04 Q776.372 1457.48 772.738 1457.48 M772.738 1453.77 Q778.548 1453.77 781.604 1458.38 Q784.682 1462.96 784.682 1471.71 Q784.682 1480.44 781.604 1485.04 Q778.548 1489.63 772.738 1489.63 Q766.928 1489.63 763.849 1485.04 Q760.794 1480.44 760.794 1471.71 Q760.794 1462.96 763.849 1458.38 Q766.928 1453.77 772.738 1453.77 Z\" fill=\"#000000\" fill-rule=\"evenodd\" fill-opacity=\"1\" /><path clip-path=\"url(#clip400)\" d=\"M784.682 1447.87 L808.794 1447.87 L808.794 1451.07 L784.682 1451.07 L784.682 1447.87 Z\" fill=\"#000000\" fill-rule=\"evenodd\" fill-opacity=\"1\" /><path clip-path=\"url(#clip400)\" d=\"M817.652 1458.35 L823.859 1458.35 L823.859 1436.93 L817.107 1438.28 L817.107 1434.82 L823.821 1433.47 L827.621 1433.47 L827.621 1458.35 L833.827 1458.35 L833.827 1461.55 L817.652 1461.55 L817.652 1458.35 Z\" fill=\"#000000\" fill-rule=\"evenodd\" fill-opacity=\"1\" /><path clip-path=\"url(#clip400)\" d=\"M1251.29 1485.02 L1258.93 1485.02 L1258.93 1458.66 L1250.62 1460.32 L1250.62 1456.06 L1258.89 1454.4 L1263.56 1454.4 L1263.56 1485.02 L1271.2 1485.02 L1271.2 1488.96 L1251.29 1488.96 L1251.29 1485.02 Z\" fill=\"#000000\" fill-rule=\"evenodd\" fill-opacity=\"1\" /><path clip-path=\"url(#clip400)\" d=\"M1290.65 1457.48 Q1287.03 1457.48 1285.21 1461.04 Q1283.4 1464.58 1283.4 1471.71 Q1283.4 1478.82 1285.21 1482.38 Q1287.03 1485.92 1290.65 1485.92 Q1294.28 1485.92 1296.09 1482.38 Q1297.91 1478.82 1297.91 1471.71 Q1297.91 1464.58 1296.09 1461.04 Q1294.28 1457.48 1290.65 1457.48 M1290.65 1453.77 Q1296.46 1453.77 1299.51 1458.38 Q1302.59 1462.96 1302.59 1471.71 Q1302.59 1480.44 1299.51 1485.04 Q1296.46 1489.63 1290.65 1489.63 Q1284.84 1489.63 1281.76 1485.04 Q1278.7 1480.44 1278.7 1471.71 Q1278.7 1462.96 1281.76 1458.38 Q1284.84 1453.77 1290.65 1453.77 Z\" fill=\"#000000\" fill-rule=\"evenodd\" fill-opacity=\"1\" /><path clip-path=\"url(#clip400)\" d=\"M1312.29 1435.97 Q1309.36 1435.97 1307.87 1438.86 Q1306.41 1441.74 1306.41 1447.53 Q1306.41 1453.31 1307.87 1456.2 Q1309.36 1459.08 1312.29 1459.08 Q1315.25 1459.08 1316.71 1456.2 Q1318.2 1453.31 1318.2 1447.53 Q1318.2 1441.74 1316.71 1438.86 Q1315.25 1435.97 1312.29 1435.97 M1312.29 1432.96 Q1317.02 1432.96 1319.5 1436.7 Q1322 1440.43 1322 1447.53 Q1322 1454.62 1319.5 1458.37 Q1317.02 1462.09 1312.29 1462.09 Q1307.57 1462.09 1305.07 1458.37 Q1302.59 1454.62 1302.59 1447.53 Q1302.59 1440.43 1305.07 1436.7 Q1307.57 1432.96 1312.29 1432.96 Z\" fill=\"#000000\" fill-rule=\"evenodd\" fill-opacity=\"1\" /><path clip-path=\"url(#clip400)\" d=\"M1755.68 1485.02 L1763.32 1485.02 L1763.32 1458.66 L1755.01 1460.32 L1755.01 1456.06 L1763.27 1454.4 L1767.95 1454.4 L1767.95 1485.02 L1775.59 1485.02 L1775.59 1488.96 L1755.68 1488.96 L1755.68 1485.02 Z\" fill=\"#000000\" fill-rule=\"evenodd\" fill-opacity=\"1\" /><path clip-path=\"url(#clip400)\" d=\"M1795.03 1457.48 Q1791.42 1457.48 1789.59 1461.04 Q1787.78 1464.58 1787.78 1471.71 Q1787.78 1478.82 1789.59 1482.38 Q1791.42 1485.92 1795.03 1485.92 Q1798.66 1485.92 1800.47 1482.38 Q1802.3 1478.82 1802.3 1471.71 Q1802.3 1464.58 1800.47 1461.04 Q1798.66 1457.48 1795.03 1457.48 M1795.03 1453.77 Q1800.84 1453.77 1803.9 1458.38 Q1806.97 1462.96 1806.97 1471.71 Q1806.97 1480.44 1803.9 1485.04 Q1800.84 1489.63 1795.03 1489.63 Q1789.22 1489.63 1786.14 1485.04 Q1783.09 1480.44 1783.09 1471.71 Q1783.09 1462.96 1786.14 1458.38 Q1789.22 1453.77 1795.03 1453.77 Z\" fill=\"#000000\" fill-rule=\"evenodd\" fill-opacity=\"1\" /><path clip-path=\"url(#clip400)\" d=\"M1807.52 1458.35 L1813.73 1458.35 L1813.73 1436.93 L1806.97 1438.28 L1806.97 1434.82 L1813.69 1433.47 L1817.49 1433.47 L1817.49 1458.35 L1823.69 1458.35 L1823.69 1461.55 L1807.52 1461.55 L1807.52 1458.35 Z\" fill=\"#000000\" fill-rule=\"evenodd\" fill-opacity=\"1\" /><path clip-path=\"url(#clip400)\" d=\"M2258.16 1485.02 L2265.8 1485.02 L2265.8 1458.66 L2257.49 1460.32 L2257.49 1456.06 L2265.76 1454.4 L2270.43 1454.4 L2270.43 1485.02 L2278.07 1485.02 L2278.07 1488.96 L2258.16 1488.96 L2258.16 1485.02 Z\" fill=\"#000000\" fill-rule=\"evenodd\" fill-opacity=\"1\" /><path clip-path=\"url(#clip400)\" d=\"M2297.52 1457.48 Q2293.9 1457.48 2292.08 1461.04 Q2290.27 1464.58 2290.27 1471.71 Q2290.27 1478.82 2292.08 1482.38 Q2293.9 1485.92 2297.52 1485.92 Q2301.15 1485.92 2302.96 1482.38 Q2304.78 1478.82 2304.78 1471.71 Q2304.78 1464.58 2302.96 1461.04 Q2301.15 1457.48 2297.52 1457.48 M2297.52 1453.77 Q2303.33 1453.77 2306.38 1458.38 Q2309.46 1462.96 2309.46 1471.71 Q2309.46 1480.44 2306.38 1485.04 Q2303.33 1489.63 2297.52 1489.63 Q2291.71 1489.63 2288.63 1485.04 Q2285.57 1480.44 2285.57 1471.71 Q2285.57 1462.96 2288.63 1458.38 Q2291.71 1453.77 2297.52 1453.77 Z\" fill=\"#000000\" fill-rule=\"evenodd\" fill-opacity=\"1\" /><path clip-path=\"url(#clip400)\" d=\"M2314.03 1458.35 L2327.29 1458.35 L2327.29 1461.55 L2309.46 1461.55 L2309.46 1458.35 Q2311.62 1456.11 2315.35 1452.35 Q2319.09 1448.57 2320.05 1447.48 Q2321.87 1445.43 2322.59 1444.02 Q2323.32 1442.59 2323.32 1441.22 Q2323.32 1438.98 2321.74 1437.57 Q2320.18 1436.16 2317.66 1436.16 Q2315.87 1436.16 2313.88 1436.78 Q2311.9 1437.4 2309.65 1438.66 L2309.65 1434.82 Q2311.94 1433.9 2313.94 1433.43 Q2315.93 1432.96 2317.58 1432.96 Q2321.95 1432.96 2324.54 1435.14 Q2327.14 1437.32 2327.14 1440.97 Q2327.14 1442.7 2326.48 1444.26 Q2325.84 1445.8 2324.13 1447.91 Q2323.66 1448.46 2321.14 1451.07 Q2318.62 1453.67 2314.03 1458.35 Z\" fill=\"#000000\" fill-rule=\"evenodd\" fill-opacity=\"1\" /><path clip-path=\"url(#clip400)\" d=\"M1301.24 1552.67 L1301.24 1574.19 L1295.38 1574.19 L1295.38 1552.86 Q1295.38 1547.8 1293.41 1545.29 Q1291.44 1542.77 1287.49 1542.77 Q1282.75 1542.77 1280.01 1545.79 Q1277.27 1548.82 1277.27 1554.04 L1277.27 1574.19 L1271.38 1574.19 L1271.38 1524.66 L1277.27 1524.66 L1277.27 1544.08 Q1279.37 1540.86 1282.21 1539.27 Q1285.07 1537.68 1288.79 1537.68 Q1294.94 1537.68 1298.09 1541.5 Q1301.24 1545.29 1301.24 1552.67 Z\" fill=\"#000000\" fill-rule=\"evenodd\" fill-opacity=\"1\" /><polyline clip-path=\"url(#clip402)\" style=\"stroke:#000000; stroke-linecap:butt; stroke-linejoin:round; stroke-width:2; stroke-opacity:0.1; fill:none\" points=\"\n",
       "  219.866,1111.35 2352.76,1111.35 \n",
       "  \"/>\n",
       "<polyline clip-path=\"url(#clip402)\" style=\"stroke:#000000; stroke-linecap:butt; stroke-linejoin:round; stroke-width:2; stroke-opacity:0.1; fill:none\" points=\"\n",
       "  219.866,769.502 2352.76,769.502 \n",
       "  \"/>\n",
       "<polyline clip-path=\"url(#clip402)\" style=\"stroke:#000000; stroke-linecap:butt; stroke-linejoin:round; stroke-width:2; stroke-opacity:0.1; fill:none\" points=\"\n",
       "  219.866,427.653 2352.76,427.653 \n",
       "  \"/>\n",
       "<polyline clip-path=\"url(#clip402)\" style=\"stroke:#000000; stroke-linecap:butt; stroke-linejoin:round; stroke-width:2; stroke-opacity:0.1; fill:none\" points=\"\n",
       "  219.866,85.8038 2352.76,85.8038 \n",
       "  \"/>\n",
       "<polyline clip-path=\"url(#clip400)\" style=\"stroke:#000000; stroke-linecap:butt; stroke-linejoin:round; stroke-width:4; stroke-opacity:1; fill:none\" points=\"\n",
       "  219.866,1410.9 219.866,47.2441 \n",
       "  \"/>\n",
       "<polyline clip-path=\"url(#clip400)\" style=\"stroke:#000000; stroke-linecap:butt; stroke-linejoin:round; stroke-width:4; stroke-opacity:1; fill:none\" points=\"\n",
       "  219.866,1111.35 238.764,1111.35 \n",
       "  \"/>\n",
       "<polyline clip-path=\"url(#clip400)\" style=\"stroke:#000000; stroke-linecap:butt; stroke-linejoin:round; stroke-width:4; stroke-opacity:1; fill:none\" points=\"\n",
       "  219.866,769.502 238.764,769.502 \n",
       "  \"/>\n",
       "<polyline clip-path=\"url(#clip400)\" style=\"stroke:#000000; stroke-linecap:butt; stroke-linejoin:round; stroke-width:4; stroke-opacity:1; fill:none\" points=\"\n",
       "  219.866,427.653 238.764,427.653 \n",
       "  \"/>\n",
       "<polyline clip-path=\"url(#clip400)\" style=\"stroke:#000000; stroke-linecap:butt; stroke-linejoin:round; stroke-width:4; stroke-opacity:1; fill:none\" points=\"\n",
       "  219.866,85.8038 238.764,85.8038 \n",
       "  \"/>\n",
       "<path clip-path=\"url(#clip400)\" d=\"M126.205 1097.15 Q122.593 1097.15 120.765 1100.72 Q118.959 1104.26 118.959 1111.39 Q118.959 1118.49 120.765 1122.06 Q122.593 1125.6 126.205 1125.6 Q129.839 1125.6 131.644 1122.06 Q133.473 1118.49 133.473 1111.39 Q133.473 1104.26 131.644 1100.72 Q129.839 1097.15 126.205 1097.15 M126.205 1093.45 Q132.015 1093.45 135.07 1098.05 Q138.149 1102.64 138.149 1111.39 Q138.149 1120.11 135.07 1124.72 Q132.015 1129.3 126.205 1129.3 Q120.394 1129.3 117.316 1124.72 Q114.26 1120.11 114.26 1111.39 Q114.26 1102.64 117.316 1098.05 Q120.394 1093.45 126.205 1093.45 Z\" fill=\"#000000\" fill-rule=\"evenodd\" fill-opacity=\"1\" /><path clip-path=\"url(#clip400)\" d=\"M146.366 1122.75 L151.251 1122.75 L151.251 1128.63 L146.366 1128.63 L146.366 1122.75 Z\" fill=\"#000000\" fill-rule=\"evenodd\" fill-opacity=\"1\" /><path clip-path=\"url(#clip400)\" d=\"M174.283 1098.15 L162.477 1116.59 L174.283 1116.59 L174.283 1098.15 M173.056 1094.07 L178.936 1094.07 L178.936 1116.59 L183.866 1116.59 L183.866 1120.48 L178.936 1120.48 L178.936 1128.63 L174.283 1128.63 L174.283 1120.48 L158.681 1120.48 L158.681 1115.97 L173.056 1094.07 Z\" fill=\"#000000\" fill-rule=\"evenodd\" fill-opacity=\"1\" /><path clip-path=\"url(#clip400)\" d=\"M126.529 755.301 Q122.918 755.301 121.089 758.866 Q119.283 762.407 119.283 769.537 Q119.283 776.644 121.089 780.208 Q122.918 783.75 126.529 783.75 Q130.163 783.75 131.968 780.208 Q133.797 776.644 133.797 769.537 Q133.797 762.407 131.968 758.866 Q130.163 755.301 126.529 755.301 M126.529 751.597 Q132.339 751.597 135.394 756.204 Q138.473 760.787 138.473 769.537 Q138.473 778.264 135.394 782.87 Q132.339 787.454 126.529 787.454 Q120.718 787.454 117.64 782.87 Q114.584 778.264 114.584 769.537 Q114.584 760.787 117.64 756.204 Q120.718 751.597 126.529 751.597 Z\" fill=\"#000000\" fill-rule=\"evenodd\" fill-opacity=\"1\" /><path clip-path=\"url(#clip400)\" d=\"M146.691 780.903 L151.575 780.903 L151.575 786.782 L146.691 786.782 L146.691 780.903 Z\" fill=\"#000000\" fill-rule=\"evenodd\" fill-opacity=\"1\" /><path clip-path=\"url(#clip400)\" d=\"M172.339 767.639 Q169.19 767.639 167.339 769.792 Q165.51 771.944 165.51 775.694 Q165.51 779.421 167.339 781.597 Q169.19 783.75 172.339 783.75 Q175.487 783.75 177.315 781.597 Q179.167 779.421 179.167 775.694 Q179.167 771.944 177.315 769.792 Q175.487 767.639 172.339 767.639 M181.621 752.986 L181.621 757.245 Q179.862 756.412 178.056 755.972 Q176.274 755.533 174.514 755.533 Q169.885 755.533 167.431 758.658 Q165.001 761.782 164.653 768.102 Q166.019 766.088 168.079 765.023 Q170.139 763.935 172.616 763.935 Q177.825 763.935 180.834 767.107 Q183.866 770.255 183.866 775.694 Q183.866 781.019 180.718 784.236 Q177.57 787.454 172.339 787.454 Q166.343 787.454 163.172 782.87 Q160.001 778.264 160.001 769.537 Q160.001 761.343 163.89 756.482 Q167.778 751.597 174.329 751.597 Q176.089 751.597 177.871 751.945 Q179.676 752.292 181.621 752.986 Z\" fill=\"#000000\" fill-rule=\"evenodd\" fill-opacity=\"1\" /><path clip-path=\"url(#clip400)\" d=\"M126.783 413.452 Q123.172 413.452 121.343 417.017 Q119.538 420.558 119.538 427.688 Q119.538 434.794 121.343 438.359 Q123.172 441.901 126.783 441.901 Q130.417 441.901 132.223 438.359 Q134.052 434.794 134.052 427.688 Q134.052 420.558 132.223 417.017 Q130.417 413.452 126.783 413.452 M126.783 409.748 Q132.593 409.748 135.649 414.355 Q138.728 418.938 138.728 427.688 Q138.728 436.415 135.649 441.021 Q132.593 445.604 126.783 445.604 Q120.973 445.604 117.894 441.021 Q114.839 436.415 114.839 427.688 Q114.839 418.938 117.894 414.355 Q120.973 409.748 126.783 409.748 Z\" fill=\"#000000\" fill-rule=\"evenodd\" fill-opacity=\"1\" /><path clip-path=\"url(#clip400)\" d=\"M146.945 439.054 L151.829 439.054 L151.829 444.933 L146.945 444.933 L146.945 439.054 Z\" fill=\"#000000\" fill-rule=\"evenodd\" fill-opacity=\"1\" /><path clip-path=\"url(#clip400)\" d=\"M172.014 428.521 Q168.681 428.521 166.76 430.304 Q164.862 432.086 164.862 435.211 Q164.862 438.336 166.76 440.118 Q168.681 441.901 172.014 441.901 Q175.348 441.901 177.269 440.118 Q179.19 438.313 179.19 435.211 Q179.19 432.086 177.269 430.304 Q175.371 428.521 172.014 428.521 M167.339 426.53 Q164.329 425.79 162.64 423.73 Q160.973 421.669 160.973 418.706 Q160.973 414.563 163.913 412.156 Q166.876 409.748 172.014 409.748 Q177.176 409.748 180.116 412.156 Q183.056 414.563 183.056 418.706 Q183.056 421.669 181.366 423.73 Q179.7 425.79 176.714 426.53 Q180.093 427.317 181.968 429.609 Q183.866 431.901 183.866 435.211 Q183.866 440.234 180.788 442.919 Q177.732 445.604 172.014 445.604 Q166.297 445.604 163.218 442.919 Q160.163 440.234 160.163 435.211 Q160.163 431.901 162.061 429.609 Q163.959 427.317 167.339 426.53 M165.626 419.146 Q165.626 421.831 167.292 423.336 Q168.982 424.841 172.014 424.841 Q175.024 424.841 176.714 423.336 Q178.426 421.831 178.426 419.146 Q178.426 416.461 176.714 414.956 Q175.024 413.452 172.014 413.452 Q168.982 413.452 167.292 414.956 Q165.626 416.461 165.626 419.146 Z\" fill=\"#000000\" fill-rule=\"evenodd\" fill-opacity=\"1\" /><path clip-path=\"url(#clip400)\" d=\"M117.501 99.1487 L125.14 99.1487 L125.14 72.7831 L116.83 74.4497 L116.83 70.1905 L125.093 68.5238 L129.769 68.5238 L129.769 99.1487 L137.408 99.1487 L137.408 103.084 L117.501 103.084 L117.501 99.1487 Z\" fill=\"#000000\" fill-rule=\"evenodd\" fill-opacity=\"1\" /><path clip-path=\"url(#clip400)\" d=\"M146.853 97.2042 L151.737 97.2042 L151.737 103.084 L146.853 103.084 L146.853 97.2042 Z\" fill=\"#000000\" fill-rule=\"evenodd\" fill-opacity=\"1\" /><path clip-path=\"url(#clip400)\" d=\"M171.922 71.6025 Q168.311 71.6025 166.482 75.1673 Q164.677 78.709 164.677 85.8386 Q164.677 92.945 166.482 96.5098 Q168.311 100.051 171.922 100.051 Q175.556 100.051 177.362 96.5098 Q179.19 92.945 179.19 85.8386 Q179.19 78.709 177.362 75.1673 Q175.556 71.6025 171.922 71.6025 M171.922 67.8989 Q177.732 67.8989 180.788 72.5053 Q183.866 77.0886 183.866 85.8386 Q183.866 94.5654 180.788 99.1718 Q177.732 103.755 171.922 103.755 Q166.112 103.755 163.033 99.1718 Q159.978 94.5654 159.978 85.8386 Q159.978 77.0886 163.033 72.5053 Q166.112 67.8989 171.922 67.8989 Z\" fill=\"#000000\" fill-rule=\"evenodd\" fill-opacity=\"1\" /><path clip-path=\"url(#clip400)\" d=\"M16.4842 797.279 L16.4842 787.699 L48.8219 775.572 L16.4842 763.382 L16.4842 753.801 L64.0042 753.801 L64.0042 760.071 L22.277 760.071 L54.8694 772.325 L54.8694 778.787 L22.277 791.041 L64.0042 791.041 L64.0042 797.279 L16.4842 797.279 Z\" fill=\"#000000\" fill-rule=\"evenodd\" fill-opacity=\"1\" /><path clip-path=\"url(#clip400)\" d=\"M14.5426 727.224 Q21.8632 731.489 29.0246 733.558 Q36.186 735.627 43.5384 735.627 Q50.8908 735.627 58.1159 733.558 Q65.3091 731.458 72.5979 727.224 L72.5979 732.317 Q65.1182 737.091 57.8931 739.478 Q50.668 741.834 43.5384 741.834 Q36.4406 741.834 29.2474 739.478 Q22.0542 737.123 14.5426 732.317 L14.5426 727.224 Z\" fill=\"#000000\" fill-rule=\"evenodd\" fill-opacity=\"1\" /><path clip-path=\"url(#clip400)\" d=\"M42.4881 686.229 L64.0042 686.229 L64.0042 692.086 L42.679 692.086 Q37.6183 692.086 35.1038 694.059 Q32.5894 696.032 32.5894 699.979 Q32.5894 704.722 35.6131 707.459 Q38.6368 710.196 43.8567 710.196 L64.0042 710.196 L64.0042 716.084 L14.479 716.084 L14.479 710.196 L33.8944 710.196 Q30.6797 708.095 29.0883 705.263 Q27.4968 702.398 27.4968 698.674 Q27.4968 692.531 31.3163 689.38 Q35.1038 686.229 42.4881 686.229 Z\" fill=\"#000000\" fill-rule=\"evenodd\" fill-opacity=\"1\" /><path clip-path=\"url(#clip400)\" d=\"M14.5426 675.471 L14.5426 670.379 Q22.0542 665.604 29.2474 663.249 Q36.4406 660.862 43.5384 660.862 Q50.668 660.862 57.8931 663.249 Q65.1182 665.604 72.5979 670.379 L72.5979 675.471 Q65.3091 671.238 58.1159 669.169 Q50.8908 667.068 43.5384 667.068 Q36.186 667.068 29.0246 669.169 Q21.8632 671.238 14.5426 675.471 Z\" fill=\"#000000\" fill-rule=\"evenodd\" fill-opacity=\"1\" /><polyline clip-path=\"url(#clip402)\" style=\"stroke:#009af9; stroke-linecap:butt; stroke-linejoin:round; stroke-width:4; stroke-opacity:1; fill:none\" points=\"\n",
       "  280.231,85.9747 503.804,87.1242 727.378,95.8698 950.951,155.564 1174.52,393.033 1398.1,695.047 1621.67,848.895 1845.24,907.367 2068.82,928.538 2292.39,936.154 \n",
       "  \n",
       "  \"/>\n",
       "<circle clip-path=\"url(#clip402)\" cx=\"280.231\" cy=\"85.9747\" r=\"14\" fill=\"#009af9\" fill-rule=\"evenodd\" fill-opacity=\"1\" stroke=\"#000000\" stroke-opacity=\"1\" stroke-width=\"3.2\"/>\n",
       "<circle clip-path=\"url(#clip402)\" cx=\"503.804\" cy=\"87.1242\" r=\"14\" fill=\"#009af9\" fill-rule=\"evenodd\" fill-opacity=\"1\" stroke=\"#000000\" stroke-opacity=\"1\" stroke-width=\"3.2\"/>\n",
       "<circle clip-path=\"url(#clip402)\" cx=\"727.378\" cy=\"95.8698\" r=\"14\" fill=\"#009af9\" fill-rule=\"evenodd\" fill-opacity=\"1\" stroke=\"#000000\" stroke-opacity=\"1\" stroke-width=\"3.2\"/>\n",
       "<circle clip-path=\"url(#clip402)\" cx=\"950.951\" cy=\"155.564\" r=\"14\" fill=\"#009af9\" fill-rule=\"evenodd\" fill-opacity=\"1\" stroke=\"#000000\" stroke-opacity=\"1\" stroke-width=\"3.2\"/>\n",
       "<circle clip-path=\"url(#clip402)\" cx=\"1174.52\" cy=\"393.033\" r=\"14\" fill=\"#009af9\" fill-rule=\"evenodd\" fill-opacity=\"1\" stroke=\"#000000\" stroke-opacity=\"1\" stroke-width=\"3.2\"/>\n",
       "<circle clip-path=\"url(#clip402)\" cx=\"1398.1\" cy=\"695.047\" r=\"14\" fill=\"#009af9\" fill-rule=\"evenodd\" fill-opacity=\"1\" stroke=\"#000000\" stroke-opacity=\"1\" stroke-width=\"3.2\"/>\n",
       "<circle clip-path=\"url(#clip402)\" cx=\"1621.67\" cy=\"848.895\" r=\"14\" fill=\"#009af9\" fill-rule=\"evenodd\" fill-opacity=\"1\" stroke=\"#000000\" stroke-opacity=\"1\" stroke-width=\"3.2\"/>\n",
       "<circle clip-path=\"url(#clip402)\" cx=\"1845.24\" cy=\"907.367\" r=\"14\" fill=\"#009af9\" fill-rule=\"evenodd\" fill-opacity=\"1\" stroke=\"#000000\" stroke-opacity=\"1\" stroke-width=\"3.2\"/>\n",
       "<circle clip-path=\"url(#clip402)\" cx=\"2068.82\" cy=\"928.538\" r=\"14\" fill=\"#009af9\" fill-rule=\"evenodd\" fill-opacity=\"1\" stroke=\"#000000\" stroke-opacity=\"1\" stroke-width=\"3.2\"/>\n",
       "<circle clip-path=\"url(#clip402)\" cx=\"2292.39\" cy=\"936.154\" r=\"14\" fill=\"#009af9\" fill-rule=\"evenodd\" fill-opacity=\"1\" stroke=\"#000000\" stroke-opacity=\"1\" stroke-width=\"3.2\"/>\n",
       "<polyline clip-path=\"url(#clip402)\" style=\"stroke:#e26f46; stroke-linecap:butt; stroke-linejoin:round; stroke-width:4; stroke-opacity:1; fill:none\" points=\"\n",
       "  280.231,85.8689 503.804,86.3216 727.378,90.1059 950.951,124.469 1174.52,367.107 1398.1,735.019 1621.67,874.148 1845.24,917.731 2068.82,932.417 2292.39,937.568 \n",
       "  \n",
       "  \"/>\n",
       "<circle clip-path=\"url(#clip402)\" cx=\"280.231\" cy=\"85.8689\" r=\"14\" fill=\"#e26f46\" fill-rule=\"evenodd\" fill-opacity=\"1\" stroke=\"#000000\" stroke-opacity=\"1\" stroke-width=\"3.2\"/>\n",
       "<circle clip-path=\"url(#clip402)\" cx=\"503.804\" cy=\"86.3216\" r=\"14\" fill=\"#e26f46\" fill-rule=\"evenodd\" fill-opacity=\"1\" stroke=\"#000000\" stroke-opacity=\"1\" stroke-width=\"3.2\"/>\n",
       "<circle clip-path=\"url(#clip402)\" cx=\"727.378\" cy=\"90.1059\" r=\"14\" fill=\"#e26f46\" fill-rule=\"evenodd\" fill-opacity=\"1\" stroke=\"#000000\" stroke-opacity=\"1\" stroke-width=\"3.2\"/>\n",
       "<circle clip-path=\"url(#clip402)\" cx=\"950.951\" cy=\"124.469\" r=\"14\" fill=\"#e26f46\" fill-rule=\"evenodd\" fill-opacity=\"1\" stroke=\"#000000\" stroke-opacity=\"1\" stroke-width=\"3.2\"/>\n",
       "<circle clip-path=\"url(#clip402)\" cx=\"1174.52\" cy=\"367.107\" r=\"14\" fill=\"#e26f46\" fill-rule=\"evenodd\" fill-opacity=\"1\" stroke=\"#000000\" stroke-opacity=\"1\" stroke-width=\"3.2\"/>\n",
       "<circle clip-path=\"url(#clip402)\" cx=\"1398.1\" cy=\"735.019\" r=\"14\" fill=\"#e26f46\" fill-rule=\"evenodd\" fill-opacity=\"1\" stroke=\"#000000\" stroke-opacity=\"1\" stroke-width=\"3.2\"/>\n",
       "<circle clip-path=\"url(#clip402)\" cx=\"1621.67\" cy=\"874.148\" r=\"14\" fill=\"#e26f46\" fill-rule=\"evenodd\" fill-opacity=\"1\" stroke=\"#000000\" stroke-opacity=\"1\" stroke-width=\"3.2\"/>\n",
       "<circle clip-path=\"url(#clip402)\" cx=\"1845.24\" cy=\"917.731\" r=\"14\" fill=\"#e26f46\" fill-rule=\"evenodd\" fill-opacity=\"1\" stroke=\"#000000\" stroke-opacity=\"1\" stroke-width=\"3.2\"/>\n",
       "<circle clip-path=\"url(#clip402)\" cx=\"2068.82\" cy=\"932.417\" r=\"14\" fill=\"#e26f46\" fill-rule=\"evenodd\" fill-opacity=\"1\" stroke=\"#000000\" stroke-opacity=\"1\" stroke-width=\"3.2\"/>\n",
       "<circle clip-path=\"url(#clip402)\" cx=\"2292.39\" cy=\"937.568\" r=\"14\" fill=\"#e26f46\" fill-rule=\"evenodd\" fill-opacity=\"1\" stroke=\"#000000\" stroke-opacity=\"1\" stroke-width=\"3.2\"/>\n",
       "<polyline clip-path=\"url(#clip402)\" style=\"stroke:#3da44d; stroke-linecap:butt; stroke-linejoin:round; stroke-width:4; stroke-opacity:1; fill:none\" points=\"\n",
       "  280.231,85.8573 503.804,86.2184 727.378,89.0674 950.951,114.07 1174.52,374.679 1398.1,909.907 1621.67,1079.31 1845.24,1128.59 2068.82,1145.08 2292.39,1150.87 \n",
       "  \n",
       "  \"/>\n",
       "<circle clip-path=\"url(#clip402)\" cx=\"280.231\" cy=\"85.8573\" r=\"14\" fill=\"#3da44d\" fill-rule=\"evenodd\" fill-opacity=\"1\" stroke=\"#000000\" stroke-opacity=\"1\" stroke-width=\"3.2\"/>\n",
       "<circle clip-path=\"url(#clip402)\" cx=\"503.804\" cy=\"86.2184\" r=\"14\" fill=\"#3da44d\" fill-rule=\"evenodd\" fill-opacity=\"1\" stroke=\"#000000\" stroke-opacity=\"1\" stroke-width=\"3.2\"/>\n",
       "<circle clip-path=\"url(#clip402)\" cx=\"727.378\" cy=\"89.0674\" r=\"14\" fill=\"#3da44d\" fill-rule=\"evenodd\" fill-opacity=\"1\" stroke=\"#000000\" stroke-opacity=\"1\" stroke-width=\"3.2\"/>\n",
       "<circle clip-path=\"url(#clip402)\" cx=\"950.951\" cy=\"114.07\" r=\"14\" fill=\"#3da44d\" fill-rule=\"evenodd\" fill-opacity=\"1\" stroke=\"#000000\" stroke-opacity=\"1\" stroke-width=\"3.2\"/>\n",
       "<circle clip-path=\"url(#clip402)\" cx=\"1174.52\" cy=\"374.679\" r=\"14\" fill=\"#3da44d\" fill-rule=\"evenodd\" fill-opacity=\"1\" stroke=\"#000000\" stroke-opacity=\"1\" stroke-width=\"3.2\"/>\n",
       "<circle clip-path=\"url(#clip402)\" cx=\"1398.1\" cy=\"909.907\" r=\"14\" fill=\"#3da44d\" fill-rule=\"evenodd\" fill-opacity=\"1\" stroke=\"#000000\" stroke-opacity=\"1\" stroke-width=\"3.2\"/>\n",
       "<circle clip-path=\"url(#clip402)\" cx=\"1621.67\" cy=\"1079.31\" r=\"14\" fill=\"#3da44d\" fill-rule=\"evenodd\" fill-opacity=\"1\" stroke=\"#000000\" stroke-opacity=\"1\" stroke-width=\"3.2\"/>\n",
       "<circle clip-path=\"url(#clip402)\" cx=\"1845.24\" cy=\"1128.59\" r=\"14\" fill=\"#3da44d\" fill-rule=\"evenodd\" fill-opacity=\"1\" stroke=\"#000000\" stroke-opacity=\"1\" stroke-width=\"3.2\"/>\n",
       "<circle clip-path=\"url(#clip402)\" cx=\"2068.82\" cy=\"1145.08\" r=\"14\" fill=\"#3da44d\" fill-rule=\"evenodd\" fill-opacity=\"1\" stroke=\"#000000\" stroke-opacity=\"1\" stroke-width=\"3.2\"/>\n",
       "<circle clip-path=\"url(#clip402)\" cx=\"2292.39\" cy=\"1150.87\" r=\"14\" fill=\"#3da44d\" fill-rule=\"evenodd\" fill-opacity=\"1\" stroke=\"#000000\" stroke-opacity=\"1\" stroke-width=\"3.2\"/>\n",
       "<polyline clip-path=\"url(#clip402)\" style=\"stroke:#c271d2; stroke-linecap:butt; stroke-linejoin:round; stroke-width:4; stroke-opacity:1; fill:none\" points=\"\n",
       "  280.231,85.8509 503.804,86.168 727.378,88.6376 950.951,108.974 1174.52,342.699 1398.1,939.719 1621.67,1092.77 1845.24,1133.52 2068.82,1146.86 2292.39,1151.51 \n",
       "  \n",
       "  \"/>\n",
       "<circle clip-path=\"url(#clip402)\" cx=\"280.231\" cy=\"85.8509\" r=\"14\" fill=\"#c271d2\" fill-rule=\"evenodd\" fill-opacity=\"1\" stroke=\"#000000\" stroke-opacity=\"1\" stroke-width=\"3.2\"/>\n",
       "<circle clip-path=\"url(#clip402)\" cx=\"503.804\" cy=\"86.168\" r=\"14\" fill=\"#c271d2\" fill-rule=\"evenodd\" fill-opacity=\"1\" stroke=\"#000000\" stroke-opacity=\"1\" stroke-width=\"3.2\"/>\n",
       "<circle clip-path=\"url(#clip402)\" cx=\"727.378\" cy=\"88.6376\" r=\"14\" fill=\"#c271d2\" fill-rule=\"evenodd\" fill-opacity=\"1\" stroke=\"#000000\" stroke-opacity=\"1\" stroke-width=\"3.2\"/>\n",
       "<circle clip-path=\"url(#clip402)\" cx=\"950.951\" cy=\"108.974\" r=\"14\" fill=\"#c271d2\" fill-rule=\"evenodd\" fill-opacity=\"1\" stroke=\"#000000\" stroke-opacity=\"1\" stroke-width=\"3.2\"/>\n",
       "<circle clip-path=\"url(#clip402)\" cx=\"1174.52\" cy=\"342.699\" r=\"14\" fill=\"#c271d2\" fill-rule=\"evenodd\" fill-opacity=\"1\" stroke=\"#000000\" stroke-opacity=\"1\" stroke-width=\"3.2\"/>\n",
       "<circle clip-path=\"url(#clip402)\" cx=\"1398.1\" cy=\"939.719\" r=\"14\" fill=\"#c271d2\" fill-rule=\"evenodd\" fill-opacity=\"1\" stroke=\"#000000\" stroke-opacity=\"1\" stroke-width=\"3.2\"/>\n",
       "<circle clip-path=\"url(#clip402)\" cx=\"1621.67\" cy=\"1092.77\" r=\"14\" fill=\"#c271d2\" fill-rule=\"evenodd\" fill-opacity=\"1\" stroke=\"#000000\" stroke-opacity=\"1\" stroke-width=\"3.2\"/>\n",
       "<circle clip-path=\"url(#clip402)\" cx=\"1845.24\" cy=\"1133.52\" r=\"14\" fill=\"#c271d2\" fill-rule=\"evenodd\" fill-opacity=\"1\" stroke=\"#000000\" stroke-opacity=\"1\" stroke-width=\"3.2\"/>\n",
       "<circle clip-path=\"url(#clip402)\" cx=\"2068.82\" cy=\"1146.86\" r=\"14\" fill=\"#c271d2\" fill-rule=\"evenodd\" fill-opacity=\"1\" stroke=\"#000000\" stroke-opacity=\"1\" stroke-width=\"3.2\"/>\n",
       "<circle clip-path=\"url(#clip402)\" cx=\"2292.39\" cy=\"1151.51\" r=\"14\" fill=\"#c271d2\" fill-rule=\"evenodd\" fill-opacity=\"1\" stroke=\"#000000\" stroke-opacity=\"1\" stroke-width=\"3.2\"/>\n",
       "<polyline clip-path=\"url(#clip402)\" style=\"stroke:#ac8d18; stroke-linecap:butt; stroke-linejoin:round; stroke-width:4; stroke-opacity:1; fill:none\" points=\"\n",
       "  280.231,85.8466 503.804,86.1349 727.378,88.3763 950.951,106.446 1174.52,322.69 1398.1,1035.34 1621.67,1197.37 1845.24,1239.55 2068.82,1253.39 2292.39,1258.23 \n",
       "  \n",
       "  \"/>\n",
       "<circle clip-path=\"url(#clip402)\" cx=\"280.231\" cy=\"85.8466\" r=\"14\" fill=\"#ac8d18\" fill-rule=\"evenodd\" fill-opacity=\"1\" stroke=\"#000000\" stroke-opacity=\"1\" stroke-width=\"3.2\"/>\n",
       "<circle clip-path=\"url(#clip402)\" cx=\"503.804\" cy=\"86.1349\" r=\"14\" fill=\"#ac8d18\" fill-rule=\"evenodd\" fill-opacity=\"1\" stroke=\"#000000\" stroke-opacity=\"1\" stroke-width=\"3.2\"/>\n",
       "<circle clip-path=\"url(#clip402)\" cx=\"727.378\" cy=\"88.3763\" r=\"14\" fill=\"#ac8d18\" fill-rule=\"evenodd\" fill-opacity=\"1\" stroke=\"#000000\" stroke-opacity=\"1\" stroke-width=\"3.2\"/>\n",
       "<circle clip-path=\"url(#clip402)\" cx=\"950.951\" cy=\"106.446\" r=\"14\" fill=\"#ac8d18\" fill-rule=\"evenodd\" fill-opacity=\"1\" stroke=\"#000000\" stroke-opacity=\"1\" stroke-width=\"3.2\"/>\n",
       "<circle clip-path=\"url(#clip402)\" cx=\"1174.52\" cy=\"322.69\" r=\"14\" fill=\"#ac8d18\" fill-rule=\"evenodd\" fill-opacity=\"1\" stroke=\"#000000\" stroke-opacity=\"1\" stroke-width=\"3.2\"/>\n",
       "<circle clip-path=\"url(#clip402)\" cx=\"1398.1\" cy=\"1035.34\" r=\"14\" fill=\"#ac8d18\" fill-rule=\"evenodd\" fill-opacity=\"1\" stroke=\"#000000\" stroke-opacity=\"1\" stroke-width=\"3.2\"/>\n",
       "<circle clip-path=\"url(#clip402)\" cx=\"1621.67\" cy=\"1197.37\" r=\"14\" fill=\"#ac8d18\" fill-rule=\"evenodd\" fill-opacity=\"1\" stroke=\"#000000\" stroke-opacity=\"1\" stroke-width=\"3.2\"/>\n",
       "<circle clip-path=\"url(#clip402)\" cx=\"1845.24\" cy=\"1239.55\" r=\"14\" fill=\"#ac8d18\" fill-rule=\"evenodd\" fill-opacity=\"1\" stroke=\"#000000\" stroke-opacity=\"1\" stroke-width=\"3.2\"/>\n",
       "<circle clip-path=\"url(#clip402)\" cx=\"2068.82\" cy=\"1253.39\" r=\"14\" fill=\"#ac8d18\" fill-rule=\"evenodd\" fill-opacity=\"1\" stroke=\"#000000\" stroke-opacity=\"1\" stroke-width=\"3.2\"/>\n",
       "<circle clip-path=\"url(#clip402)\" cx=\"2292.39\" cy=\"1258.23\" r=\"14\" fill=\"#ac8d18\" fill-rule=\"evenodd\" fill-opacity=\"1\" stroke=\"#000000\" stroke-opacity=\"1\" stroke-width=\"3.2\"/>\n",
       "<polyline clip-path=\"url(#clip402)\" style=\"stroke:#00a9ad; stroke-linecap:butt; stroke-linejoin:round; stroke-width:4; stroke-opacity:1; fill:none\" points=\"\n",
       "  280.231,85.8435 503.804,86.1112 727.378,88.192 950.951,104.843 1174.52,298.545 1398.1,1057.37 1621.67,1205.72 1845.24,1242.51 2068.82,1254.46 2292.39,1258.61 \n",
       "  \n",
       "  \"/>\n",
       "<circle clip-path=\"url(#clip402)\" cx=\"280.231\" cy=\"85.8435\" r=\"14\" fill=\"#00a9ad\" fill-rule=\"evenodd\" fill-opacity=\"1\" stroke=\"#000000\" stroke-opacity=\"1\" stroke-width=\"3.2\"/>\n",
       "<circle clip-path=\"url(#clip402)\" cx=\"503.804\" cy=\"86.1112\" r=\"14\" fill=\"#00a9ad\" fill-rule=\"evenodd\" fill-opacity=\"1\" stroke=\"#000000\" stroke-opacity=\"1\" stroke-width=\"3.2\"/>\n",
       "<circle clip-path=\"url(#clip402)\" cx=\"727.378\" cy=\"88.192\" r=\"14\" fill=\"#00a9ad\" fill-rule=\"evenodd\" fill-opacity=\"1\" stroke=\"#000000\" stroke-opacity=\"1\" stroke-width=\"3.2\"/>\n",
       "<circle clip-path=\"url(#clip402)\" cx=\"950.951\" cy=\"104.843\" r=\"14\" fill=\"#00a9ad\" fill-rule=\"evenodd\" fill-opacity=\"1\" stroke=\"#000000\" stroke-opacity=\"1\" stroke-width=\"3.2\"/>\n",
       "<circle clip-path=\"url(#clip402)\" cx=\"1174.52\" cy=\"298.545\" r=\"14\" fill=\"#00a9ad\" fill-rule=\"evenodd\" fill-opacity=\"1\" stroke=\"#000000\" stroke-opacity=\"1\" stroke-width=\"3.2\"/>\n",
       "<circle clip-path=\"url(#clip402)\" cx=\"1398.1\" cy=\"1057.37\" r=\"14\" fill=\"#00a9ad\" fill-rule=\"evenodd\" fill-opacity=\"1\" stroke=\"#000000\" stroke-opacity=\"1\" stroke-width=\"3.2\"/>\n",
       "<circle clip-path=\"url(#clip402)\" cx=\"1621.67\" cy=\"1205.72\" r=\"14\" fill=\"#00a9ad\" fill-rule=\"evenodd\" fill-opacity=\"1\" stroke=\"#000000\" stroke-opacity=\"1\" stroke-width=\"3.2\"/>\n",
       "<circle clip-path=\"url(#clip402)\" cx=\"1845.24\" cy=\"1242.51\" r=\"14\" fill=\"#00a9ad\" fill-rule=\"evenodd\" fill-opacity=\"1\" stroke=\"#000000\" stroke-opacity=\"1\" stroke-width=\"3.2\"/>\n",
       "<circle clip-path=\"url(#clip402)\" cx=\"2068.82\" cy=\"1254.46\" r=\"14\" fill=\"#00a9ad\" fill-rule=\"evenodd\" fill-opacity=\"1\" stroke=\"#000000\" stroke-opacity=\"1\" stroke-width=\"3.2\"/>\n",
       "<circle clip-path=\"url(#clip402)\" cx=\"2292.39\" cy=\"1258.61\" r=\"14\" fill=\"#00a9ad\" fill-rule=\"evenodd\" fill-opacity=\"1\" stroke=\"#000000\" stroke-opacity=\"1\" stroke-width=\"3.2\"/>\n",
       "<polyline clip-path=\"url(#clip402)\" style=\"stroke:#ed5d92; stroke-linecap:butt; stroke-linejoin:round; stroke-width:4; stroke-opacity:1; fill:none\" points=\"\n",
       "  280.231,85.8412 503.804,86.0935 727.378,88.054 950.951,103.706 1174.52,281.443 1398.1,1120.41 1621.67,1271.63 1845.24,1308.94 2068.82,1321.1 2292.39,1325.33 \n",
       "  \n",
       "  \"/>\n",
       "<circle clip-path=\"url(#clip402)\" cx=\"280.231\" cy=\"85.8412\" r=\"14\" fill=\"#ed5d92\" fill-rule=\"evenodd\" fill-opacity=\"1\" stroke=\"#000000\" stroke-opacity=\"1\" stroke-width=\"3.2\"/>\n",
       "<circle clip-path=\"url(#clip402)\" cx=\"503.804\" cy=\"86.0935\" r=\"14\" fill=\"#ed5d92\" fill-rule=\"evenodd\" fill-opacity=\"1\" stroke=\"#000000\" stroke-opacity=\"1\" stroke-width=\"3.2\"/>\n",
       "<circle clip-path=\"url(#clip402)\" cx=\"727.378\" cy=\"88.054\" r=\"14\" fill=\"#ed5d92\" fill-rule=\"evenodd\" fill-opacity=\"1\" stroke=\"#000000\" stroke-opacity=\"1\" stroke-width=\"3.2\"/>\n",
       "<circle clip-path=\"url(#clip402)\" cx=\"950.951\" cy=\"103.706\" r=\"14\" fill=\"#ed5d92\" fill-rule=\"evenodd\" fill-opacity=\"1\" stroke=\"#000000\" stroke-opacity=\"1\" stroke-width=\"3.2\"/>\n",
       "<circle clip-path=\"url(#clip402)\" cx=\"1174.52\" cy=\"281.443\" r=\"14\" fill=\"#ed5d92\" fill-rule=\"evenodd\" fill-opacity=\"1\" stroke=\"#000000\" stroke-opacity=\"1\" stroke-width=\"3.2\"/>\n",
       "<circle clip-path=\"url(#clip402)\" cx=\"1398.1\" cy=\"1120.41\" r=\"14\" fill=\"#ed5d92\" fill-rule=\"evenodd\" fill-opacity=\"1\" stroke=\"#000000\" stroke-opacity=\"1\" stroke-width=\"3.2\"/>\n",
       "<circle clip-path=\"url(#clip402)\" cx=\"1621.67\" cy=\"1271.63\" r=\"14\" fill=\"#ed5d92\" fill-rule=\"evenodd\" fill-opacity=\"1\" stroke=\"#000000\" stroke-opacity=\"1\" stroke-width=\"3.2\"/>\n",
       "<circle clip-path=\"url(#clip402)\" cx=\"1845.24\" cy=\"1308.94\" r=\"14\" fill=\"#ed5d92\" fill-rule=\"evenodd\" fill-opacity=\"1\" stroke=\"#000000\" stroke-opacity=\"1\" stroke-width=\"3.2\"/>\n",
       "<circle clip-path=\"url(#clip402)\" cx=\"2068.82\" cy=\"1321.1\" r=\"14\" fill=\"#ed5d92\" fill-rule=\"evenodd\" fill-opacity=\"1\" stroke=\"#000000\" stroke-opacity=\"1\" stroke-width=\"3.2\"/>\n",
       "<circle clip-path=\"url(#clip402)\" cx=\"2292.39\" cy=\"1325.33\" r=\"14\" fill=\"#ed5d92\" fill-rule=\"evenodd\" fill-opacity=\"1\" stroke=\"#000000\" stroke-opacity=\"1\" stroke-width=\"3.2\"/>\n",
       "<polyline clip-path=\"url(#clip402)\" style=\"stroke:#c68125; stroke-linecap:butt; stroke-linejoin:round; stroke-width:4; stroke-opacity:1; fill:none\" points=\"\n",
       "  280.231,85.8395 503.804,86.0797 727.378,87.9467 950.951,102.836 1174.52,266.338 1398.1,1137.17 1621.67,1277.4 1845.24,1310.97 2068.82,1321.82 2292.39,1325.59 \n",
       "  \n",
       "  \"/>\n",
       "<circle clip-path=\"url(#clip402)\" cx=\"280.231\" cy=\"85.8395\" r=\"14\" fill=\"#c68125\" fill-rule=\"evenodd\" fill-opacity=\"1\" stroke=\"#000000\" stroke-opacity=\"1\" stroke-width=\"3.2\"/>\n",
       "<circle clip-path=\"url(#clip402)\" cx=\"503.804\" cy=\"86.0797\" r=\"14\" fill=\"#c68125\" fill-rule=\"evenodd\" fill-opacity=\"1\" stroke=\"#000000\" stroke-opacity=\"1\" stroke-width=\"3.2\"/>\n",
       "<circle clip-path=\"url(#clip402)\" cx=\"727.378\" cy=\"87.9467\" r=\"14\" fill=\"#c68125\" fill-rule=\"evenodd\" fill-opacity=\"1\" stroke=\"#000000\" stroke-opacity=\"1\" stroke-width=\"3.2\"/>\n",
       "<circle clip-path=\"url(#clip402)\" cx=\"950.951\" cy=\"102.836\" r=\"14\" fill=\"#c68125\" fill-rule=\"evenodd\" fill-opacity=\"1\" stroke=\"#000000\" stroke-opacity=\"1\" stroke-width=\"3.2\"/>\n",
       "<circle clip-path=\"url(#clip402)\" cx=\"1174.52\" cy=\"266.338\" r=\"14\" fill=\"#c68125\" fill-rule=\"evenodd\" fill-opacity=\"1\" stroke=\"#000000\" stroke-opacity=\"1\" stroke-width=\"3.2\"/>\n",
       "<circle clip-path=\"url(#clip402)\" cx=\"1398.1\" cy=\"1137.17\" r=\"14\" fill=\"#c68125\" fill-rule=\"evenodd\" fill-opacity=\"1\" stroke=\"#000000\" stroke-opacity=\"1\" stroke-width=\"3.2\"/>\n",
       "<circle clip-path=\"url(#clip402)\" cx=\"1621.67\" cy=\"1277.4\" r=\"14\" fill=\"#c68125\" fill-rule=\"evenodd\" fill-opacity=\"1\" stroke=\"#000000\" stroke-opacity=\"1\" stroke-width=\"3.2\"/>\n",
       "<circle clip-path=\"url(#clip402)\" cx=\"1845.24\" cy=\"1310.97\" r=\"14\" fill=\"#c68125\" fill-rule=\"evenodd\" fill-opacity=\"1\" stroke=\"#000000\" stroke-opacity=\"1\" stroke-width=\"3.2\"/>\n",
       "<circle clip-path=\"url(#clip402)\" cx=\"2068.82\" cy=\"1321.82\" r=\"14\" fill=\"#c68125\" fill-rule=\"evenodd\" fill-opacity=\"1\" stroke=\"#000000\" stroke-opacity=\"1\" stroke-width=\"3.2\"/>\n",
       "<circle clip-path=\"url(#clip402)\" cx=\"2292.39\" cy=\"1325.59\" r=\"14\" fill=\"#c68125\" fill-rule=\"evenodd\" fill-opacity=\"1\" stroke=\"#000000\" stroke-opacity=\"1\" stroke-width=\"3.2\"/>\n",
       "<polyline clip-path=\"url(#clip402)\" style=\"stroke:#00a98d; stroke-linecap:butt; stroke-linejoin:round; stroke-width:4; stroke-opacity:1; fill:none\" points=\"\n",
       "  280.231,85.838 503.804,86.0687 727.378,87.8608 950.951,102.144 1174.52,255.254 1398.1,1182.77 1621.67,1323.75 1845.24,1357.53 2068.82,1368.49 2292.39,1372.3 \n",
       "  \n",
       "  \"/>\n",
       "<circle clip-path=\"url(#clip402)\" cx=\"280.231\" cy=\"85.838\" r=\"14\" fill=\"#00a98d\" fill-rule=\"evenodd\" fill-opacity=\"1\" stroke=\"#000000\" stroke-opacity=\"1\" stroke-width=\"3.2\"/>\n",
       "<circle clip-path=\"url(#clip402)\" cx=\"503.804\" cy=\"86.0687\" r=\"14\" fill=\"#00a98d\" fill-rule=\"evenodd\" fill-opacity=\"1\" stroke=\"#000000\" stroke-opacity=\"1\" stroke-width=\"3.2\"/>\n",
       "<circle clip-path=\"url(#clip402)\" cx=\"727.378\" cy=\"87.8608\" r=\"14\" fill=\"#00a98d\" fill-rule=\"evenodd\" fill-opacity=\"1\" stroke=\"#000000\" stroke-opacity=\"1\" stroke-width=\"3.2\"/>\n",
       "<circle clip-path=\"url(#clip402)\" cx=\"950.951\" cy=\"102.144\" r=\"14\" fill=\"#00a98d\" fill-rule=\"evenodd\" fill-opacity=\"1\" stroke=\"#000000\" stroke-opacity=\"1\" stroke-width=\"3.2\"/>\n",
       "<circle clip-path=\"url(#clip402)\" cx=\"1174.52\" cy=\"255.254\" r=\"14\" fill=\"#00a98d\" fill-rule=\"evenodd\" fill-opacity=\"1\" stroke=\"#000000\" stroke-opacity=\"1\" stroke-width=\"3.2\"/>\n",
       "<circle clip-path=\"url(#clip402)\" cx=\"1398.1\" cy=\"1182.77\" r=\"14\" fill=\"#00a98d\" fill-rule=\"evenodd\" fill-opacity=\"1\" stroke=\"#000000\" stroke-opacity=\"1\" stroke-width=\"3.2\"/>\n",
       "<circle clip-path=\"url(#clip402)\" cx=\"1621.67\" cy=\"1323.75\" r=\"14\" fill=\"#00a98d\" fill-rule=\"evenodd\" fill-opacity=\"1\" stroke=\"#000000\" stroke-opacity=\"1\" stroke-width=\"3.2\"/>\n",
       "<circle clip-path=\"url(#clip402)\" cx=\"1845.24\" cy=\"1357.53\" r=\"14\" fill=\"#00a98d\" fill-rule=\"evenodd\" fill-opacity=\"1\" stroke=\"#000000\" stroke-opacity=\"1\" stroke-width=\"3.2\"/>\n",
       "<circle clip-path=\"url(#clip402)\" cx=\"2068.82\" cy=\"1368.49\" r=\"14\" fill=\"#00a98d\" fill-rule=\"evenodd\" fill-opacity=\"1\" stroke=\"#000000\" stroke-opacity=\"1\" stroke-width=\"3.2\"/>\n",
       "<circle clip-path=\"url(#clip402)\" cx=\"2292.39\" cy=\"1372.3\" r=\"14\" fill=\"#00a98d\" fill-rule=\"evenodd\" fill-opacity=\"1\" stroke=\"#000000\" stroke-opacity=\"1\" stroke-width=\"3.2\"/>\n",
       "<path clip-path=\"url(#clip400)\" d=\"\n",
       "M1886.83 611.099 L2281.66 611.099 L2281.66 92.6992 L1886.83 92.6992  Z\n",
       "  \" fill=\"#ffffff\" fill-rule=\"evenodd\" fill-opacity=\"1\"/>\n",
       "<polyline clip-path=\"url(#clip400)\" style=\"stroke:#000000; stroke-linecap:butt; stroke-linejoin:round; stroke-width:4; stroke-opacity:1; fill:none\" points=\"\n",
       "  1886.83,611.099 2281.66,611.099 2281.66,92.6992 1886.83,92.6992 1886.83,611.099 \n",
       "  \"/>\n",
       "<polyline clip-path=\"url(#clip400)\" style=\"stroke:#009af9; stroke-linecap:butt; stroke-linejoin:round; stroke-width:4; stroke-opacity:1; fill:none\" points=\"\n",
       "  1910.52,144.539 2052.72,144.539 \n",
       "  \"/>\n",
       "<circle clip-path=\"url(#clip400)\" cx=\"1981.62\" cy=\"144.539\" r=\"23\" fill=\"#009af9\" fill-rule=\"evenodd\" fill-opacity=\"1\" stroke=\"#000000\" stroke-opacity=\"1\" stroke-width=\"5.12\"/>\n",
       "<path clip-path=\"url(#clip400)\" d=\"M2076.42 127.259 L2082.71 127.259 L2098.04 156.171 L2098.04 127.259 L2102.57 127.259 L2102.57 161.819 L2096.28 161.819 L2080.95 132.907 L2080.95 161.819 L2076.42 161.819 L2076.42 127.259 Z\" fill=\"#000000\" fill-rule=\"evenodd\" fill-opacity=\"1\" /><path clip-path=\"url(#clip400)\" d=\"M2127.32 140.292 L2156.99 140.292 L2156.99 144.18 L2127.32 144.18 L2127.32 140.292 M2127.32 149.736 L2156.99 149.736 L2156.99 153.671 L2127.32 153.671 L2127.32 149.736 Z\" fill=\"#000000\" fill-rule=\"evenodd\" fill-opacity=\"1\" /><path clip-path=\"url(#clip400)\" d=\"M2186.18 157.884 L2202.5 157.884 L2202.5 161.819 L2180.56 161.819 L2180.56 157.884 Q2183.22 155.129 2187.8 150.5 Q2192.41 145.847 2193.59 144.504 Q2195.84 141.981 2196.72 140.245 Q2197.62 138.486 2197.62 136.796 Q2197.62 134.042 2195.67 132.305 Q2193.75 130.569 2190.65 130.569 Q2188.45 130.569 2186 131.333 Q2183.57 132.097 2180.79 133.648 L2180.79 128.926 Q2183.61 127.792 2186.07 127.213 Q2188.52 126.634 2190.56 126.634 Q2195.93 126.634 2199.12 129.319 Q2202.32 132.005 2202.32 136.495 Q2202.32 138.625 2201.51 140.546 Q2200.72 142.444 2198.61 145.037 Q2198.04 145.708 2194.93 148.926 Q2191.83 152.12 2186.18 157.884 Z\" fill=\"#000000\" fill-rule=\"evenodd\" fill-opacity=\"1\" /><polyline clip-path=\"url(#clip400)\" style=\"stroke:#e26f46; stroke-linecap:butt; stroke-linejoin:round; stroke-width:4; stroke-opacity:1; fill:none\" points=\"\n",
       "  1910.52,196.379 2052.72,196.379 \n",
       "  \"/>\n",
       "<circle clip-path=\"url(#clip400)\" cx=\"1981.62\" cy=\"196.379\" r=\"23\" fill=\"#e26f46\" fill-rule=\"evenodd\" fill-opacity=\"1\" stroke=\"#000000\" stroke-opacity=\"1\" stroke-width=\"5.12\"/>\n",
       "<path clip-path=\"url(#clip400)\" d=\"M2076.42 179.099 L2082.71 179.099 L2098.04 208.011 L2098.04 179.099 L2102.57 179.099 L2102.57 213.659 L2096.28 213.659 L2080.95 184.747 L2080.95 213.659 L2076.42 213.659 L2076.42 179.099 Z\" fill=\"#000000\" fill-rule=\"evenodd\" fill-opacity=\"1\" /><path clip-path=\"url(#clip400)\" d=\"M2127.32 192.132 L2156.99 192.132 L2156.99 196.02 L2127.32 196.02 L2127.32 192.132 M2127.32 201.576 L2156.99 201.576 L2156.99 205.511 L2127.32 205.511 L2127.32 201.576 Z\" fill=\"#000000\" fill-rule=\"evenodd\" fill-opacity=\"1\" /><path clip-path=\"url(#clip400)\" d=\"M2196.32 195.025 Q2199.68 195.743 2201.55 198.011 Q2203.45 200.28 2203.45 203.613 Q2203.45 208.729 2199.93 211.53 Q2196.42 214.33 2189.93 214.33 Q2187.76 214.33 2185.44 213.891 Q2183.15 213.474 2180.7 212.618 L2180.7 208.104 Q2182.64 209.238 2184.96 209.817 Q2187.27 210.395 2189.79 210.395 Q2194.19 210.395 2196.48 208.659 Q2198.8 206.923 2198.8 203.613 Q2198.8 200.557 2196.65 198.844 Q2194.52 197.108 2190.7 197.108 L2186.67 197.108 L2186.67 193.266 L2190.88 193.266 Q2194.33 193.266 2196.16 191.9 Q2197.99 190.511 2197.99 187.919 Q2197.99 185.257 2196.09 183.845 Q2194.22 182.409 2190.7 182.409 Q2188.78 182.409 2186.58 182.826 Q2184.38 183.243 2181.74 184.122 L2181.74 179.956 Q2184.4 179.215 2186.72 178.845 Q2189.05 178.474 2191.11 178.474 Q2196.44 178.474 2199.54 180.905 Q2202.64 183.312 2202.64 187.432 Q2202.64 190.303 2201 192.294 Q2199.35 194.261 2196.32 195.025 Z\" fill=\"#000000\" fill-rule=\"evenodd\" fill-opacity=\"1\" /><polyline clip-path=\"url(#clip400)\" style=\"stroke:#3da44d; stroke-linecap:butt; stroke-linejoin:round; stroke-width:4; stroke-opacity:1; fill:none\" points=\"\n",
       "  1910.52,248.219 2052.72,248.219 \n",
       "  \"/>\n",
       "<circle clip-path=\"url(#clip400)\" cx=\"1981.62\" cy=\"248.219\" r=\"23\" fill=\"#3da44d\" fill-rule=\"evenodd\" fill-opacity=\"1\" stroke=\"#000000\" stroke-opacity=\"1\" stroke-width=\"5.12\"/>\n",
       "<path clip-path=\"url(#clip400)\" d=\"M2076.42 230.939 L2082.71 230.939 L2098.04 259.851 L2098.04 230.939 L2102.57 230.939 L2102.57 265.499 L2096.28 265.499 L2080.95 236.587 L2080.95 265.499 L2076.42 265.499 L2076.42 230.939 Z\" fill=\"#000000\" fill-rule=\"evenodd\" fill-opacity=\"1\" /><path clip-path=\"url(#clip400)\" d=\"M2127.32 243.972 L2156.99 243.972 L2156.99 247.86 L2127.32 247.86 L2127.32 243.972 M2127.32 253.416 L2156.99 253.416 L2156.99 257.351 L2127.32 257.351 L2127.32 253.416 Z\" fill=\"#000000\" fill-rule=\"evenodd\" fill-opacity=\"1\" /><path clip-path=\"url(#clip400)\" d=\"M2195 235.013 L2183.2 253.462 L2195 253.462 L2195 235.013 M2193.78 230.939 L2199.66 230.939 L2199.66 253.462 L2204.59 253.462 L2204.59 257.351 L2199.66 257.351 L2199.66 265.499 L2195 265.499 L2195 257.351 L2179.4 257.351 L2179.4 252.837 L2193.78 230.939 Z\" fill=\"#000000\" fill-rule=\"evenodd\" fill-opacity=\"1\" /><polyline clip-path=\"url(#clip400)\" style=\"stroke:#c271d2; stroke-linecap:butt; stroke-linejoin:round; stroke-width:4; stroke-opacity:1; fill:none\" points=\"\n",
       "  1910.52,300.059 2052.72,300.059 \n",
       "  \"/>\n",
       "<circle clip-path=\"url(#clip400)\" cx=\"1981.62\" cy=\"300.059\" r=\"23\" fill=\"#c271d2\" fill-rule=\"evenodd\" fill-opacity=\"1\" stroke=\"#000000\" stroke-opacity=\"1\" stroke-width=\"5.12\"/>\n",
       "<path clip-path=\"url(#clip400)\" d=\"M2076.42 282.779 L2082.71 282.779 L2098.04 311.691 L2098.04 282.779 L2102.57 282.779 L2102.57 317.339 L2096.28 317.339 L2080.95 288.427 L2080.95 317.339 L2076.42 317.339 L2076.42 282.779 Z\" fill=\"#000000\" fill-rule=\"evenodd\" fill-opacity=\"1\" /><path clip-path=\"url(#clip400)\" d=\"M2127.32 295.812 L2156.99 295.812 L2156.99 299.7 L2127.32 299.7 L2127.32 295.812 M2127.32 305.256 L2156.99 305.256 L2156.99 309.191 L2127.32 309.191 L2127.32 305.256 Z\" fill=\"#000000\" fill-rule=\"evenodd\" fill-opacity=\"1\" /><path clip-path=\"url(#clip400)\" d=\"M2182.2 282.779 L2200.56 282.779 L2200.56 286.714 L2186.48 286.714 L2186.48 295.187 Q2187.5 294.839 2188.52 294.677 Q2189.54 294.492 2190.56 294.492 Q2196.35 294.492 2199.73 297.663 Q2203.1 300.835 2203.1 306.251 Q2203.1 311.83 2199.63 314.932 Q2196.16 318.01 2189.84 318.01 Q2187.67 318.01 2185.4 317.64 Q2183.15 317.27 2180.74 316.529 L2180.74 311.83 Q2182.83 312.964 2185.05 313.52 Q2187.27 314.075 2189.75 314.075 Q2193.75 314.075 2196.09 311.969 Q2198.43 309.862 2198.43 306.251 Q2198.43 302.64 2196.09 300.534 Q2193.75 298.427 2189.75 298.427 Q2187.87 298.427 2186 298.844 Q2184.15 299.261 2182.2 300.14 L2182.2 282.779 Z\" fill=\"#000000\" fill-rule=\"evenodd\" fill-opacity=\"1\" /><polyline clip-path=\"url(#clip400)\" style=\"stroke:#ac8d18; stroke-linecap:butt; stroke-linejoin:round; stroke-width:4; stroke-opacity:1; fill:none\" points=\"\n",
       "  1910.52,351.899 2052.72,351.899 \n",
       "  \"/>\n",
       "<circle clip-path=\"url(#clip400)\" cx=\"1981.62\" cy=\"351.899\" r=\"23\" fill=\"#ac8d18\" fill-rule=\"evenodd\" fill-opacity=\"1\" stroke=\"#000000\" stroke-opacity=\"1\" stroke-width=\"5.12\"/>\n",
       "<path clip-path=\"url(#clip400)\" d=\"M2076.42 334.619 L2082.71 334.619 L2098.04 363.531 L2098.04 334.619 L2102.57 334.619 L2102.57 369.179 L2096.28 369.179 L2080.95 340.267 L2080.95 369.179 L2076.42 369.179 L2076.42 334.619 Z\" fill=\"#000000\" fill-rule=\"evenodd\" fill-opacity=\"1\" /><path clip-path=\"url(#clip400)\" d=\"M2127.32 347.652 L2156.99 347.652 L2156.99 351.54 L2127.32 351.54 L2127.32 347.652 M2127.32 357.096 L2156.99 357.096 L2156.99 361.031 L2127.32 361.031 L2127.32 357.096 Z\" fill=\"#000000\" fill-rule=\"evenodd\" fill-opacity=\"1\" /><path clip-path=\"url(#clip400)\" d=\"M2192.73 350.036 Q2189.59 350.036 2187.73 352.189 Q2185.91 354.341 2185.91 358.091 Q2185.91 361.818 2187.73 363.994 Q2189.59 366.147 2192.73 366.147 Q2195.88 366.147 2197.71 363.994 Q2199.56 361.818 2199.56 358.091 Q2199.56 354.341 2197.71 352.189 Q2195.88 350.036 2192.73 350.036 M2202.02 335.383 L2202.02 339.642 Q2200.26 338.809 2198.45 338.369 Q2196.67 337.929 2194.91 337.929 Q2190.28 337.929 2187.83 341.054 Q2185.4 344.179 2185.05 350.499 Q2186.42 348.485 2188.48 347.42 Q2190.54 346.332 2193.01 346.332 Q2198.22 346.332 2201.23 349.503 Q2204.26 352.651 2204.26 358.091 Q2204.26 363.415 2201.11 366.633 Q2197.97 369.85 2192.73 369.85 Q2186.74 369.85 2183.57 365.267 Q2180.4 360.661 2180.4 351.934 Q2180.4 343.74 2184.29 338.878 Q2188.17 333.994 2194.73 333.994 Q2196.48 333.994 2198.27 334.341 Q2200.07 334.689 2202.02 335.383 Z\" fill=\"#000000\" fill-rule=\"evenodd\" fill-opacity=\"1\" /><polyline clip-path=\"url(#clip400)\" style=\"stroke:#00a9ad; stroke-linecap:butt; stroke-linejoin:round; stroke-width:4; stroke-opacity:1; fill:none\" points=\"\n",
       "  1910.52,403.739 2052.72,403.739 \n",
       "  \"/>\n",
       "<circle clip-path=\"url(#clip400)\" cx=\"1981.62\" cy=\"403.739\" r=\"23\" fill=\"#00a9ad\" fill-rule=\"evenodd\" fill-opacity=\"1\" stroke=\"#000000\" stroke-opacity=\"1\" stroke-width=\"5.12\"/>\n",
       "<path clip-path=\"url(#clip400)\" d=\"M2076.42 386.459 L2082.71 386.459 L2098.04 415.371 L2098.04 386.459 L2102.57 386.459 L2102.57 421.019 L2096.28 421.019 L2080.95 392.107 L2080.95 421.019 L2076.42 421.019 L2076.42 386.459 Z\" fill=\"#000000\" fill-rule=\"evenodd\" fill-opacity=\"1\" /><path clip-path=\"url(#clip400)\" d=\"M2127.32 399.492 L2156.99 399.492 L2156.99 403.38 L2127.32 403.38 L2127.32 399.492 M2127.32 408.936 L2156.99 408.936 L2156.99 412.871 L2127.32 412.871 L2127.32 408.936 Z\" fill=\"#000000\" fill-rule=\"evenodd\" fill-opacity=\"1\" /><path clip-path=\"url(#clip400)\" d=\"M2180.98 386.459 L2203.2 386.459 L2203.2 388.45 L2190.65 421.019 L2185.77 421.019 L2197.57 390.394 L2180.98 390.394 L2180.98 386.459 Z\" fill=\"#000000\" fill-rule=\"evenodd\" fill-opacity=\"1\" /><polyline clip-path=\"url(#clip400)\" style=\"stroke:#ed5d92; stroke-linecap:butt; stroke-linejoin:round; stroke-width:4; stroke-opacity:1; fill:none\" points=\"\n",
       "  1910.52,455.579 2052.72,455.579 \n",
       "  \"/>\n",
       "<circle clip-path=\"url(#clip400)\" cx=\"1981.62\" cy=\"455.579\" r=\"23\" fill=\"#ed5d92\" fill-rule=\"evenodd\" fill-opacity=\"1\" stroke=\"#000000\" stroke-opacity=\"1\" stroke-width=\"5.12\"/>\n",
       "<path clip-path=\"url(#clip400)\" d=\"M2076.42 438.299 L2082.71 438.299 L2098.04 467.211 L2098.04 438.299 L2102.57 438.299 L2102.57 472.859 L2096.28 472.859 L2080.95 443.947 L2080.95 472.859 L2076.42 472.859 L2076.42 438.299 Z\" fill=\"#000000\" fill-rule=\"evenodd\" fill-opacity=\"1\" /><path clip-path=\"url(#clip400)\" d=\"M2127.32 451.332 L2156.99 451.332 L2156.99 455.22 L2127.32 455.22 L2127.32 451.332 M2127.32 460.776 L2156.99 460.776 L2156.99 464.711 L2127.32 464.711 L2127.32 460.776 Z\" fill=\"#000000\" fill-rule=\"evenodd\" fill-opacity=\"1\" /><path clip-path=\"url(#clip400)\" d=\"M2192.16 456.447 Q2188.82 456.447 2186.9 458.23 Q2185 460.012 2185 463.137 Q2185 466.262 2186.9 468.044 Q2188.82 469.827 2192.16 469.827 Q2195.49 469.827 2197.41 468.044 Q2199.33 466.239 2199.33 463.137 Q2199.33 460.012 2197.41 458.23 Q2195.51 456.447 2192.16 456.447 M2187.48 454.457 Q2184.47 453.716 2182.78 451.656 Q2181.11 449.595 2181.11 446.632 Q2181.11 442.489 2184.05 440.082 Q2187.02 437.674 2192.16 437.674 Q2197.32 437.674 2200.26 440.082 Q2203.2 442.489 2203.2 446.632 Q2203.2 449.595 2201.51 451.656 Q2199.84 453.716 2196.85 454.457 Q2200.23 455.244 2202.11 457.535 Q2204.01 459.827 2204.01 463.137 Q2204.01 468.16 2200.93 470.845 Q2197.87 473.53 2192.16 473.53 Q2186.44 473.53 2183.36 470.845 Q2180.3 468.16 2180.3 463.137 Q2180.3 459.827 2182.2 457.535 Q2184.1 455.244 2187.48 454.457 M2185.77 447.072 Q2185.77 449.757 2187.43 451.262 Q2189.12 452.767 2192.16 452.767 Q2195.17 452.767 2196.85 451.262 Q2198.57 449.757 2198.57 447.072 Q2198.57 444.387 2196.85 442.882 Q2195.17 441.378 2192.16 441.378 Q2189.12 441.378 2187.43 442.882 Q2185.77 444.387 2185.77 447.072 Z\" fill=\"#000000\" fill-rule=\"evenodd\" fill-opacity=\"1\" /><polyline clip-path=\"url(#clip400)\" style=\"stroke:#c68125; stroke-linecap:butt; stroke-linejoin:round; stroke-width:4; stroke-opacity:1; fill:none\" points=\"\n",
       "  1910.52,507.419 2052.72,507.419 \n",
       "  \"/>\n",
       "<circle clip-path=\"url(#clip400)\" cx=\"1981.62\" cy=\"507.419\" r=\"23\" fill=\"#c68125\" fill-rule=\"evenodd\" fill-opacity=\"1\" stroke=\"#000000\" stroke-opacity=\"1\" stroke-width=\"5.12\"/>\n",
       "<path clip-path=\"url(#clip400)\" d=\"M2076.42 490.139 L2082.71 490.139 L2098.04 519.051 L2098.04 490.139 L2102.57 490.139 L2102.57 524.699 L2096.28 524.699 L2080.95 495.787 L2080.95 524.699 L2076.42 524.699 L2076.42 490.139 Z\" fill=\"#000000\" fill-rule=\"evenodd\" fill-opacity=\"1\" /><path clip-path=\"url(#clip400)\" d=\"M2127.32 503.172 L2156.99 503.172 L2156.99 507.06 L2127.32 507.06 L2127.32 503.172 M2127.32 512.616 L2156.99 512.616 L2156.99 516.551 L2127.32 516.551 L2127.32 512.616 Z\" fill=\"#000000\" fill-rule=\"evenodd\" fill-opacity=\"1\" /><path clip-path=\"url(#clip400)\" d=\"M2182.29 523.982 L2182.29 519.722 Q2184.05 520.556 2185.86 520.995 Q2187.67 521.435 2189.4 521.435 Q2194.03 521.435 2196.46 518.333 Q2198.92 515.208 2199.26 508.866 Q2197.92 510.857 2195.86 511.921 Q2193.8 512.986 2191.3 512.986 Q2186.11 512.986 2183.08 509.861 Q2180.07 506.713 2180.07 501.273 Q2180.07 495.949 2183.22 492.732 Q2186.37 489.514 2191.6 489.514 Q2197.6 489.514 2200.74 494.121 Q2203.91 498.704 2203.91 507.454 Q2203.91 515.625 2200.03 520.509 Q2196.16 525.37 2189.61 525.37 Q2187.85 525.37 2186.04 525.023 Q2184.24 524.676 2182.29 523.982 M2191.6 509.329 Q2194.75 509.329 2196.58 507.176 Q2198.43 505.023 2198.43 501.273 Q2198.43 497.547 2196.58 495.394 Q2194.75 493.218 2191.6 493.218 Q2188.45 493.218 2186.6 495.394 Q2184.77 497.547 2184.77 501.273 Q2184.77 505.023 2186.6 507.176 Q2188.45 509.329 2191.6 509.329 Z\" fill=\"#000000\" fill-rule=\"evenodd\" fill-opacity=\"1\" /><polyline clip-path=\"url(#clip400)\" style=\"stroke:#00a98d; stroke-linecap:butt; stroke-linejoin:round; stroke-width:4; stroke-opacity:1; fill:none\" points=\"\n",
       "  1910.52,559.259 2052.72,559.259 \n",
       "  \"/>\n",
       "<circle clip-path=\"url(#clip400)\" cx=\"1981.62\" cy=\"559.259\" r=\"23\" fill=\"#00a98d\" fill-rule=\"evenodd\" fill-opacity=\"1\" stroke=\"#000000\" stroke-opacity=\"1\" stroke-width=\"5.12\"/>\n",
       "<path clip-path=\"url(#clip400)\" d=\"M2076.42 541.979 L2082.71 541.979 L2098.04 570.891 L2098.04 541.979 L2102.57 541.979 L2102.57 576.539 L2096.28 576.539 L2080.95 547.627 L2080.95 576.539 L2076.42 576.539 L2076.42 541.979 Z\" fill=\"#000000\" fill-rule=\"evenodd\" fill-opacity=\"1\" /><path clip-path=\"url(#clip400)\" d=\"M2127.32 555.012 L2156.99 555.012 L2156.99 558.9 L2127.32 558.9 L2127.32 555.012 M2127.32 564.456 L2156.99 564.456 L2156.99 568.391 L2127.32 568.391 L2127.32 564.456 Z\" fill=\"#000000\" fill-rule=\"evenodd\" fill-opacity=\"1\" /><path clip-path=\"url(#clip400)\" d=\"M2182.97 572.604 L2190.6 572.604 L2190.6 546.238 L2182.29 547.905 L2182.29 543.646 L2190.56 541.979 L2195.23 541.979 L2195.23 572.604 L2202.87 572.604 L2202.87 576.539 L2182.97 576.539 L2182.97 572.604 Z\" fill=\"#000000\" fill-rule=\"evenodd\" fill-opacity=\"1\" /><path clip-path=\"url(#clip400)\" d=\"M2222.32 545.058 Q2218.71 545.058 2216.88 548.623 Q2215.07 552.164 2215.07 559.294 Q2215.07 566.4 2216.88 569.965 Q2218.71 573.507 2222.32 573.507 Q2225.95 573.507 2227.76 569.965 Q2229.59 566.4 2229.59 559.294 Q2229.59 552.164 2227.76 548.623 Q2225.95 545.058 2222.32 545.058 M2222.32 541.354 Q2228.13 541.354 2231.18 545.961 Q2234.26 550.544 2234.26 559.294 Q2234.26 568.021 2231.18 572.627 Q2228.13 577.21 2222.32 577.21 Q2216.51 577.21 2213.43 572.627 Q2210.37 568.021 2210.37 559.294 Q2210.37 550.544 2213.43 545.961 Q2216.51 541.354 2222.32 541.354 Z\" fill=\"#000000\" fill-rule=\"evenodd\" fill-opacity=\"1\" /></svg>\n"
      ]
     },
     "execution_count": 22,
     "metadata": {},
     "output_type": "execute_result"
    }
   ],
   "source": [
    "using Plots\n",
    "hs = 10 .^ range(-2., stop=2., length=10)\n",
    "Ns = 2:10\n",
    "p = plot()\n",
    "for N in Ns\n",
    "    M = zeros(length(hs))\n",
    "    for (i,h) in enumerate(hs)\n",
    "        basis = generate_basis(N)\n",
    "        H = TransverseFieldIsing(N=N, h=h)\n",
    "        vals, vecs = eigen(H)\n",
    "        groundstate = vecs[:,1]\n",
    "        M[i] = magnetization(groundstate, basis)\n",
    "    end\n",
    "    plot!(p, hs, M, xscale=:log10, marker=:circle, label=\"N = $N\",\n",
    "        xlab=\"h\", ylab=\"M(h)\")\n",
    "    println(M)\n",
    "end\n",
    "p"
   ]
  },
  {
   "cell_type": "markdown",
   "metadata": {},
   "source": [
    "**This looks like a phase transition!**\n",
    "\n",
    "For small $h$, the magnetization is unity, corresponding to a ferromagnetic state. By increasing the magnetic field $h$ we have a competition between the two terms in the Hamiltonian and eventually the system becomes paramagnetic with $M\\approx0$. Our plot suggests that this change of state happens around $h\\sim1$, which is in good agreement with the exact solution $h=1$.\n",
    "\n",
    "It is crucial to realize, that in our calculation we are inspecting the ground state of the system. Since $T=0$, it is purely quantum fluctuations that drive the transition: a **quantum phase transition**! This is to be compared to increasing temperature in the classical Ising model, where it's thermal fluctuations that cause a classical phase transition from a ferromagnetic to a paramagnetic state. For this reason, the state that we observe at high magnetic field strengths is called a **quantum paramagnet**."
   ]
  },
  {
   "cell_type": "markdown",
   "metadata": {},
   "source": [
    "## Hilbert space is a big space"
   ]
  },
  {
   "cell_type": "markdown",
   "metadata": {},
   "source": [
    "So far, we have only inspected chains of length $N\\leq10$. As we see in our plot above, there are rather strong finite-size effects on the magnetization. To extract a numerical estimate for the critical magnetic field strength $h_c$ of the transition we would have to consider much larger systems until we observe convergence as a function of $N$. Although this is clearly beyond the scope of this tutorial, let us at least pave the way.\n",
    "\n",
    "Our calculation, in its current form, doesn't scale. The reason for this is simple, **Hilbert space is a big place!**\n",
    "\n",
    "The number of basis states, and therefore the number of dimensions, grows **exponentially** with system size."
   ]
  },
  {
   "cell_type": "code",
   "execution_count": 23,
   "metadata": {},
   "outputs": [
    {
     "data": {
      "image/svg+xml": [
       "<?xml version=\"1.0\" encoding=\"utf-8\"?>\n",
       "<svg xmlns=\"http://www.w3.org/2000/svg\" xmlns:xlink=\"http://www.w3.org/1999/xlink\" width=\"600\" height=\"400\" viewBox=\"0 0 2400 1600\">\n",
       "<defs>\n",
       "  <clipPath id=\"clip440\">\n",
       "    <rect x=\"0\" y=\"0\" width=\"2400\" height=\"1600\"/>\n",
       "  </clipPath>\n",
       "</defs>\n",
       "<path clip-path=\"url(#clip440)\" d=\"\n",
       "M0 1600 L2400 1600 L2400 0 L0 0  Z\n",
       "  \" fill=\"#ffffff\" fill-rule=\"evenodd\" fill-opacity=\"1\"/>\n",
       "<defs>\n",
       "  <clipPath id=\"clip441\">\n",
       "    <rect x=\"480\" y=\"0\" width=\"1681\" height=\"1600\"/>\n",
       "  </clipPath>\n",
       "</defs>\n",
       "<path clip-path=\"url(#clip440)\" d=\"\n",
       "M367.409 1423.18 L2352.76 1423.18 L2352.76 47.2441 L367.409 47.2441  Z\n",
       "  \" fill=\"#ffffff\" fill-rule=\"evenodd\" fill-opacity=\"1\"/>\n",
       "<defs>\n",
       "  <clipPath id=\"clip442\">\n",
       "    <rect x=\"367\" y=\"47\" width=\"1986\" height=\"1377\"/>\n",
       "  </clipPath>\n",
       "</defs>\n",
       "<polyline clip-path=\"url(#clip442)\" style=\"stroke:#000000; stroke-linecap:butt; stroke-linejoin:round; stroke-width:2; stroke-opacity:0.1; fill:none\" points=\"\n",
       "  817.907,1423.18 817.907,47.2441 \n",
       "  \"/>\n",
       "<polyline clip-path=\"url(#clip442)\" style=\"stroke:#000000; stroke-linecap:butt; stroke-linejoin:round; stroke-width:2; stroke-opacity:0.1; fill:none\" points=\"\n",
       "  1310.79,1423.18 1310.79,47.2441 \n",
       "  \"/>\n",
       "<polyline clip-path=\"url(#clip442)\" style=\"stroke:#000000; stroke-linecap:butt; stroke-linejoin:round; stroke-width:2; stroke-opacity:0.1; fill:none\" points=\"\n",
       "  1803.68,1423.18 1803.68,47.2441 \n",
       "  \"/>\n",
       "<polyline clip-path=\"url(#clip442)\" style=\"stroke:#000000; stroke-linecap:butt; stroke-linejoin:round; stroke-width:2; stroke-opacity:0.1; fill:none\" points=\"\n",
       "  2296.57,1423.18 2296.57,47.2441 \n",
       "  \"/>\n",
       "<polyline clip-path=\"url(#clip440)\" style=\"stroke:#000000; stroke-linecap:butt; stroke-linejoin:round; stroke-width:4; stroke-opacity:1; fill:none\" points=\"\n",
       "  367.409,1423.18 2352.76,1423.18 \n",
       "  \"/>\n",
       "<polyline clip-path=\"url(#clip440)\" style=\"stroke:#000000; stroke-linecap:butt; stroke-linejoin:round; stroke-width:4; stroke-opacity:1; fill:none\" points=\"\n",
       "  817.907,1423.18 817.907,1404.28 \n",
       "  \"/>\n",
       "<polyline clip-path=\"url(#clip440)\" style=\"stroke:#000000; stroke-linecap:butt; stroke-linejoin:round; stroke-width:4; stroke-opacity:1; fill:none\" points=\"\n",
       "  1310.79,1423.18 1310.79,1404.28 \n",
       "  \"/>\n",
       "<polyline clip-path=\"url(#clip440)\" style=\"stroke:#000000; stroke-linecap:butt; stroke-linejoin:round; stroke-width:4; stroke-opacity:1; fill:none\" points=\"\n",
       "  1803.68,1423.18 1803.68,1404.28 \n",
       "  \"/>\n",
       "<polyline clip-path=\"url(#clip440)\" style=\"stroke:#000000; stroke-linecap:butt; stroke-linejoin:round; stroke-width:4; stroke-opacity:1; fill:none\" points=\"\n",
       "  2296.57,1423.18 2296.57,1404.28 \n",
       "  \"/>\n",
       "<path clip-path=\"url(#clip440)\" d=\"M808.185 1451.02 L826.541 1451.02 L826.541 1454.96 L812.467 1454.96 L812.467 1463.43 Q813.486 1463.08 814.504 1462.92 Q815.523 1462.73 816.541 1462.73 Q822.328 1462.73 825.708 1465.9 Q829.088 1469.08 829.088 1474.49 Q829.088 1480.07 825.615 1483.17 Q822.143 1486.25 815.824 1486.25 Q813.648 1486.25 811.379 1485.88 Q809.134 1485.51 806.727 1484.77 L806.727 1480.07 Q808.81 1481.2 811.032 1481.76 Q813.254 1482.32 815.731 1482.32 Q819.736 1482.32 822.074 1480.21 Q824.412 1478.1 824.412 1474.49 Q824.412 1470.88 822.074 1468.77 Q819.736 1466.67 815.731 1466.67 Q813.856 1466.67 811.981 1467.08 Q810.129 1467.5 808.185 1468.38 L808.185 1451.02 Z\" fill=\"#000000\" fill-rule=\"evenodd\" fill-opacity=\"1\" /><path clip-path=\"url(#clip440)\" d=\"M1285.48 1481.64 L1293.12 1481.64 L1293.12 1455.28 L1284.81 1456.95 L1284.81 1452.69 L1293.07 1451.02 L1297.75 1451.02 L1297.75 1481.64 L1305.39 1481.64 L1305.39 1485.58 L1285.48 1485.58 L1285.48 1481.64 Z\" fill=\"#000000\" fill-rule=\"evenodd\" fill-opacity=\"1\" /><path clip-path=\"url(#clip440)\" d=\"M1324.83 1454.1 Q1321.22 1454.1 1319.39 1457.66 Q1317.59 1461.2 1317.59 1468.33 Q1317.59 1475.44 1319.39 1479.01 Q1321.22 1482.55 1324.83 1482.55 Q1328.47 1482.55 1330.27 1479.01 Q1332.1 1475.44 1332.1 1468.33 Q1332.1 1461.2 1330.27 1457.66 Q1328.47 1454.1 1324.83 1454.1 M1324.83 1450.39 Q1330.64 1450.39 1333.7 1455 Q1336.78 1459.58 1336.78 1468.33 Q1336.78 1477.06 1333.7 1481.67 Q1330.64 1486.25 1324.83 1486.25 Q1319.02 1486.25 1315.94 1481.67 Q1312.89 1477.06 1312.89 1468.33 Q1312.89 1459.58 1315.94 1455 Q1319.02 1450.39 1324.83 1450.39 Z\" fill=\"#000000\" fill-rule=\"evenodd\" fill-opacity=\"1\" /><path clip-path=\"url(#clip440)\" d=\"M1778.87 1481.64 L1786.5 1481.64 L1786.5 1455.28 L1778.19 1456.95 L1778.19 1452.69 L1786.46 1451.02 L1791.13 1451.02 L1791.13 1481.64 L1798.77 1481.64 L1798.77 1485.58 L1778.87 1485.58 L1778.87 1481.64 Z\" fill=\"#000000\" fill-rule=\"evenodd\" fill-opacity=\"1\" /><path clip-path=\"url(#clip440)\" d=\"M1808.26 1451.02 L1826.62 1451.02 L1826.62 1454.96 L1812.55 1454.96 L1812.55 1463.43 Q1813.56 1463.08 1814.58 1462.92 Q1815.6 1462.73 1816.62 1462.73 Q1822.41 1462.73 1825.79 1465.9 Q1829.17 1469.08 1829.17 1474.49 Q1829.17 1480.07 1825.69 1483.17 Q1822.22 1486.25 1815.9 1486.25 Q1813.73 1486.25 1811.46 1485.88 Q1809.21 1485.51 1806.81 1484.77 L1806.81 1480.07 Q1808.89 1481.2 1811.11 1481.76 Q1813.33 1482.32 1815.81 1482.32 Q1819.81 1482.32 1822.15 1480.21 Q1824.49 1478.1 1824.49 1474.49 Q1824.49 1470.88 1822.15 1468.77 Q1819.81 1466.67 1815.81 1466.67 Q1813.93 1466.67 1812.06 1467.08 Q1810.21 1467.5 1808.26 1468.38 L1808.26 1451.02 Z\" fill=\"#000000\" fill-rule=\"evenodd\" fill-opacity=\"1\" /><path clip-path=\"url(#clip440)\" d=\"M2275.34 1481.64 L2291.66 1481.64 L2291.66 1485.58 L2269.72 1485.58 L2269.72 1481.64 Q2272.38 1478.89 2276.96 1474.26 Q2281.57 1469.61 2282.75 1468.27 Q2284.99 1465.74 2285.87 1464.01 Q2286.78 1462.25 2286.78 1460.56 Q2286.78 1457.8 2284.83 1456.07 Q2282.91 1454.33 2279.81 1454.33 Q2277.61 1454.33 2275.15 1455.09 Q2272.72 1455.86 2269.95 1457.41 L2269.95 1452.69 Q2272.77 1451.55 2275.22 1450.97 Q2277.68 1450.39 2279.72 1450.39 Q2285.09 1450.39 2288.28 1453.08 Q2291.47 1455.77 2291.47 1460.26 Q2291.47 1462.39 2290.66 1464.31 Q2289.88 1466.2 2287.77 1468.8 Q2287.19 1469.47 2284.09 1472.69 Q2280.99 1475.88 2275.34 1481.64 Z\" fill=\"#000000\" fill-rule=\"evenodd\" fill-opacity=\"1\" /><path clip-path=\"url(#clip440)\" d=\"M2311.47 1454.1 Q2307.86 1454.1 2306.03 1457.66 Q2304.23 1461.2 2304.23 1468.33 Q2304.23 1475.44 2306.03 1479.01 Q2307.86 1482.55 2311.47 1482.55 Q2315.11 1482.55 2316.91 1479.01 Q2318.74 1475.44 2318.74 1468.33 Q2318.74 1461.2 2316.91 1457.66 Q2315.11 1454.1 2311.47 1454.1 M2311.47 1450.39 Q2317.28 1450.39 2320.34 1455 Q2323.42 1459.58 2323.42 1468.33 Q2323.42 1477.06 2320.34 1481.67 Q2317.28 1486.25 2311.47 1486.25 Q2305.66 1486.25 2302.59 1481.67 Q2299.53 1477.06 2299.53 1468.33 Q2299.53 1459.58 2302.59 1455 Q2305.66 1450.39 2311.47 1450.39 Z\" fill=\"#000000\" fill-rule=\"evenodd\" fill-opacity=\"1\" /><path clip-path=\"url(#clip440)\" d=\"M1342.1 1520.52 L1350.76 1520.52 L1371.83 1560.28 L1371.83 1520.52 L1378.07 1520.52 L1378.07 1568.04 L1369.41 1568.04 L1348.34 1528.29 L1348.34 1568.04 L1342.1 1568.04 L1342.1 1520.52 Z\" fill=\"#000000\" fill-rule=\"evenodd\" fill-opacity=\"1\" /><polyline clip-path=\"url(#clip442)\" style=\"stroke:#000000; stroke-linecap:butt; stroke-linejoin:round; stroke-width:2; stroke-opacity:0.1; fill:none\" points=\"\n",
       "  367.409,1384.24 2352.76,1384.24 \n",
       "  \"/>\n",
       "<polyline clip-path=\"url(#clip442)\" style=\"stroke:#000000; stroke-linecap:butt; stroke-linejoin:round; stroke-width:2; stroke-opacity:0.1; fill:none\" points=\"\n",
       "  367.409,1074.76 2352.76,1074.76 \n",
       "  \"/>\n",
       "<polyline clip-path=\"url(#clip442)\" style=\"stroke:#000000; stroke-linecap:butt; stroke-linejoin:round; stroke-width:2; stroke-opacity:0.1; fill:none\" points=\"\n",
       "  367.409,765.28 2352.76,765.28 \n",
       "  \"/>\n",
       "<polyline clip-path=\"url(#clip442)\" style=\"stroke:#000000; stroke-linecap:butt; stroke-linejoin:round; stroke-width:2; stroke-opacity:0.1; fill:none\" points=\"\n",
       "  367.409,455.799 2352.76,455.799 \n",
       "  \"/>\n",
       "<polyline clip-path=\"url(#clip442)\" style=\"stroke:#000000; stroke-linecap:butt; stroke-linejoin:round; stroke-width:2; stroke-opacity:0.1; fill:none\" points=\"\n",
       "  367.409,146.319 2352.76,146.319 \n",
       "  \"/>\n",
       "<polyline clip-path=\"url(#clip440)\" style=\"stroke:#000000; stroke-linecap:butt; stroke-linejoin:round; stroke-width:4; stroke-opacity:1; fill:none\" points=\"\n",
       "  367.409,1423.18 367.409,47.2441 \n",
       "  \"/>\n",
       "<polyline clip-path=\"url(#clip440)\" style=\"stroke:#000000; stroke-linecap:butt; stroke-linejoin:round; stroke-width:4; stroke-opacity:1; fill:none\" points=\"\n",
       "  367.409,1384.24 386.307,1384.24 \n",
       "  \"/>\n",
       "<polyline clip-path=\"url(#clip440)\" style=\"stroke:#000000; stroke-linecap:butt; stroke-linejoin:round; stroke-width:4; stroke-opacity:1; fill:none\" points=\"\n",
       "  367.409,1074.76 386.307,1074.76 \n",
       "  \"/>\n",
       "<polyline clip-path=\"url(#clip440)\" style=\"stroke:#000000; stroke-linecap:butt; stroke-linejoin:round; stroke-width:4; stroke-opacity:1; fill:none\" points=\"\n",
       "  367.409,765.28 386.307,765.28 \n",
       "  \"/>\n",
       "<polyline clip-path=\"url(#clip440)\" style=\"stroke:#000000; stroke-linecap:butt; stroke-linejoin:round; stroke-width:4; stroke-opacity:1; fill:none\" points=\"\n",
       "  367.409,455.799 386.307,455.799 \n",
       "  \"/>\n",
       "<polyline clip-path=\"url(#clip440)\" style=\"stroke:#000000; stroke-linecap:butt; stroke-linejoin:round; stroke-width:4; stroke-opacity:1; fill:none\" points=\"\n",
       "  367.409,146.319 386.307,146.319 \n",
       "  \"/>\n",
       "<path clip-path=\"url(#clip440)\" d=\"M319.464 1370.04 Q315.853 1370.04 314.025 1373.6 Q312.219 1377.15 312.219 1384.28 Q312.219 1391.38 314.025 1394.95 Q315.853 1398.49 319.464 1398.49 Q323.099 1398.49 324.904 1394.95 Q326.733 1391.38 326.733 1384.28 Q326.733 1377.15 324.904 1373.6 Q323.099 1370.04 319.464 1370.04 M319.464 1366.34 Q325.275 1366.34 328.33 1370.94 Q331.409 1375.53 331.409 1384.28 Q331.409 1393 328.33 1397.61 Q325.275 1402.19 319.464 1402.19 Q313.654 1402.19 310.576 1397.61 Q307.52 1393 307.52 1384.28 Q307.52 1375.53 310.576 1370.94 Q313.654 1366.34 319.464 1366.34 Z\" fill=\"#000000\" fill-rule=\"evenodd\" fill-opacity=\"1\" /><path clip-path=\"url(#clip440)\" d=\"M119.885 1094.55 L136.204 1094.55 L136.204 1098.49 L114.26 1098.49 L114.26 1094.55 Q116.922 1091.8 121.505 1087.17 Q126.112 1082.52 127.292 1081.17 Q129.538 1078.65 130.417 1076.91 Q131.32 1075.15 131.32 1073.46 Q131.32 1070.71 129.376 1068.97 Q127.455 1067.24 124.353 1067.24 Q122.154 1067.24 119.7 1068 Q117.269 1068.77 114.492 1070.32 L114.492 1065.59 Q117.316 1064.46 119.769 1063.88 Q122.223 1063.3 124.26 1063.3 Q129.63 1063.3 132.825 1065.99 Q136.019 1068.67 136.019 1073.16 Q136.019 1075.29 135.209 1077.21 Q134.422 1079.11 132.316 1081.71 Q131.737 1082.38 128.635 1085.59 Q125.533 1088.79 119.885 1094.55 Z\" fill=\"#000000\" fill-rule=\"evenodd\" fill-opacity=\"1\" /><path clip-path=\"url(#clip440)\" d=\"M146.019 1092.61 L150.903 1092.61 L150.903 1098.49 L146.019 1098.49 L146.019 1092.61 Z\" fill=\"#000000\" fill-rule=\"evenodd\" fill-opacity=\"1\" /><path clip-path=\"url(#clip440)\" d=\"M161.135 1063.93 L179.491 1063.93 L179.491 1067.86 L165.417 1067.86 L165.417 1076.34 Q166.436 1075.99 167.454 1075.83 Q168.473 1075.64 169.491 1075.64 Q175.278 1075.64 178.658 1078.81 Q182.038 1081.98 182.038 1087.4 Q182.038 1092.98 178.565 1096.08 Q175.093 1099.16 168.774 1099.16 Q166.598 1099.16 164.329 1098.79 Q162.084 1098.42 159.677 1097.68 L159.677 1092.98 Q161.76 1094.11 163.982 1094.67 Q166.204 1095.22 168.681 1095.22 Q172.686 1095.22 175.024 1093.12 Q177.362 1091.01 177.362 1087.4 Q177.362 1083.79 175.024 1081.68 Q172.686 1079.58 168.681 1079.58 Q166.806 1079.58 164.931 1079.99 Q163.079 1080.41 161.135 1081.29 L161.135 1063.93 Z\" fill=\"#000000\" fill-rule=\"evenodd\" fill-opacity=\"1\" /><path clip-path=\"url(#clip440)\" d=\"M201.25 1067.01 Q197.639 1067.01 195.811 1070.57 Q194.005 1074.11 194.005 1081.24 Q194.005 1088.35 195.811 1091.91 Q197.639 1095.46 201.25 1095.46 Q204.885 1095.46 206.69 1091.91 Q208.519 1088.35 208.519 1081.24 Q208.519 1074.11 206.69 1070.57 Q204.885 1067.01 201.25 1067.01 M201.25 1063.3 Q207.061 1063.3 210.116 1067.91 Q213.195 1072.49 213.195 1081.24 Q213.195 1089.97 210.116 1094.58 Q207.061 1099.16 201.25 1099.16 Q195.44 1099.16 192.362 1094.58 Q189.306 1089.97 189.306 1081.24 Q189.306 1072.49 192.362 1067.91 Q195.44 1063.3 201.25 1063.3 Z\" fill=\"#000000\" fill-rule=\"evenodd\" fill-opacity=\"1\" /><path clip-path=\"url(#clip440)\" d=\"M249.584 1073.03 L239.005 1083.65 L249.584 1094.23 L246.829 1097.03 L236.204 1086.4 L225.579 1097.03 L222.848 1094.23 L233.403 1083.65 L222.848 1073.03 L225.579 1070.22 L236.204 1080.85 L246.829 1070.22 L249.584 1073.03 Z\" fill=\"#000000\" fill-rule=\"evenodd\" fill-opacity=\"1\" /><path clip-path=\"url(#clip440)\" d=\"M261.945 1094.55 L269.583 1094.55 L269.583 1068.19 L261.273 1069.85 L261.273 1065.59 L269.537 1063.93 L274.213 1063.93 L274.213 1094.55 L281.852 1094.55 L281.852 1098.49 L261.945 1098.49 L261.945 1094.55 Z\" fill=\"#000000\" fill-rule=\"evenodd\" fill-opacity=\"1\" /><path clip-path=\"url(#clip440)\" d=\"M301.296 1067.01 Q297.685 1067.01 295.856 1070.57 Q294.051 1074.11 294.051 1081.24 Q294.051 1088.35 295.856 1091.91 Q297.685 1095.46 301.296 1095.46 Q304.93 1095.46 306.736 1091.91 Q308.565 1088.35 308.565 1081.24 Q308.565 1074.11 306.736 1070.57 Q304.93 1067.01 301.296 1067.01 M301.296 1063.3 Q307.106 1063.3 310.162 1067.91 Q313.241 1072.49 313.241 1081.24 Q313.241 1089.97 310.162 1094.58 Q307.106 1099.16 301.296 1099.16 Q295.486 1099.16 292.407 1094.58 Q289.352 1089.97 289.352 1081.24 Q289.352 1072.49 292.407 1067.91 Q295.486 1063.3 301.296 1063.3 Z\" fill=\"#000000\" fill-rule=\"evenodd\" fill-opacity=\"1\" /><path clip-path=\"url(#clip440)\" d=\"M314.425 1043 L329.34 1043 L329.34 1046.19 L317.905 1046.19 L317.905 1053.08 Q318.732 1052.8 319.56 1052.66 Q320.388 1052.51 321.215 1052.51 Q325.917 1052.51 328.663 1055.09 Q331.409 1057.67 331.409 1062.07 Q331.409 1066.6 328.588 1069.12 Q325.767 1071.62 320.632 1071.62 Q318.864 1071.62 317.021 1071.32 Q315.197 1071.02 313.241 1070.42 L313.241 1066.6 Q314.933 1067.52 316.739 1067.97 Q318.544 1068.43 320.557 1068.43 Q323.811 1068.43 325.71 1066.71 Q327.61 1065 327.61 1062.07 Q327.61 1059.13 325.71 1057.42 Q323.811 1055.71 320.557 1055.71 Q319.033 1055.71 317.51 1056.05 Q316.005 1056.39 314.425 1057.1 L314.425 1043 Z\" fill=\"#000000\" fill-rule=\"evenodd\" fill-opacity=\"1\" /><path clip-path=\"url(#clip440)\" d=\"M115.904 754.447 L134.26 754.447 L134.26 758.383 L120.186 758.383 L120.186 766.855 Q121.205 766.508 122.223 766.346 Q123.242 766.16 124.26 766.16 Q130.047 766.16 133.427 769.332 Q136.806 772.503 136.806 777.92 Q136.806 783.498 133.334 786.6 Q129.862 789.679 123.543 789.679 Q121.367 789.679 119.098 789.308 Q116.853 788.938 114.445 788.197 L114.445 783.498 Q116.529 784.632 118.751 785.188 Q120.973 785.744 123.45 785.744 Q127.455 785.744 129.792 783.637 Q132.13 781.531 132.13 777.92 Q132.13 774.308 129.792 772.202 Q127.455 770.096 123.45 770.096 Q121.575 770.096 119.7 770.512 Q117.848 770.929 115.904 771.808 L115.904 754.447 Z\" fill=\"#000000\" fill-rule=\"evenodd\" fill-opacity=\"1\" /><path clip-path=\"url(#clip440)\" d=\"M146.019 783.128 L150.903 783.128 L150.903 789.007 L146.019 789.007 L146.019 783.128 Z\" fill=\"#000000\" fill-rule=\"evenodd\" fill-opacity=\"1\" /><path clip-path=\"url(#clip440)\" d=\"M171.089 757.526 Q167.477 757.526 165.649 761.091 Q163.843 764.633 163.843 771.762 Q163.843 778.869 165.649 782.433 Q167.477 785.975 171.089 785.975 Q174.723 785.975 176.528 782.433 Q178.357 778.869 178.357 771.762 Q178.357 764.633 176.528 761.091 Q174.723 757.526 171.089 757.526 M171.089 753.822 Q176.899 753.822 179.954 758.429 Q183.033 763.012 183.033 771.762 Q183.033 780.489 179.954 785.095 Q176.899 789.679 171.089 789.679 Q165.278 789.679 162.2 785.095 Q159.144 780.489 159.144 771.762 Q159.144 763.012 162.2 758.429 Q165.278 753.822 171.089 753.822 Z\" fill=\"#000000\" fill-rule=\"evenodd\" fill-opacity=\"1\" /><path clip-path=\"url(#clip440)\" d=\"M201.25 757.526 Q197.639 757.526 195.811 761.091 Q194.005 764.633 194.005 771.762 Q194.005 778.869 195.811 782.433 Q197.639 785.975 201.25 785.975 Q204.885 785.975 206.69 782.433 Q208.519 778.869 208.519 771.762 Q208.519 764.633 206.69 761.091 Q204.885 757.526 201.25 757.526 M201.25 753.822 Q207.061 753.822 210.116 758.429 Q213.195 763.012 213.195 771.762 Q213.195 780.489 210.116 785.095 Q207.061 789.679 201.25 789.679 Q195.44 789.679 192.362 785.095 Q189.306 780.489 189.306 771.762 Q189.306 763.012 192.362 758.429 Q195.44 753.822 201.25 753.822 Z\" fill=\"#000000\" fill-rule=\"evenodd\" fill-opacity=\"1\" /><path clip-path=\"url(#clip440)\" d=\"M249.584 763.545 L239.005 774.17 L249.584 784.748 L246.829 787.549 L236.204 776.924 L225.579 787.549 L222.848 784.748 L233.403 774.17 L222.848 763.545 L225.579 760.744 L236.204 771.369 L246.829 760.744 L249.584 763.545 Z\" fill=\"#000000\" fill-rule=\"evenodd\" fill-opacity=\"1\" /><path clip-path=\"url(#clip440)\" d=\"M261.945 785.072 L269.583 785.072 L269.583 758.707 L261.273 760.373 L261.273 756.114 L269.537 754.447 L274.213 754.447 L274.213 785.072 L281.852 785.072 L281.852 789.007 L261.945 789.007 L261.945 785.072 Z\" fill=\"#000000\" fill-rule=\"evenodd\" fill-opacity=\"1\" /><path clip-path=\"url(#clip440)\" d=\"M301.296 757.526 Q297.685 757.526 295.856 761.091 Q294.051 764.633 294.051 771.762 Q294.051 778.869 295.856 782.433 Q297.685 785.975 301.296 785.975 Q304.93 785.975 306.736 782.433 Q308.565 778.869 308.565 771.762 Q308.565 764.633 306.736 761.091 Q304.93 757.526 301.296 757.526 M301.296 753.822 Q307.106 753.822 310.162 758.429 Q313.241 763.012 313.241 771.762 Q313.241 780.489 310.162 785.095 Q307.106 789.679 301.296 789.679 Q295.486 789.679 292.407 785.095 Q289.352 780.489 289.352 771.762 Q289.352 763.012 292.407 758.429 Q295.486 753.822 301.296 753.822 Z\" fill=\"#000000\" fill-rule=\"evenodd\" fill-opacity=\"1\" /><path clip-path=\"url(#clip440)\" d=\"M314.425 733.517 L329.34 733.517 L329.34 736.714 L317.905 736.714 L317.905 743.598 Q318.732 743.316 319.56 743.184 Q320.388 743.034 321.215 743.034 Q325.917 743.034 328.663 745.61 Q331.409 748.187 331.409 752.588 Q331.409 757.121 328.588 759.641 Q325.767 762.142 320.632 762.142 Q318.864 762.142 317.021 761.842 Q315.197 761.541 313.241 760.939 L313.241 757.121 Q314.933 758.042 316.739 758.494 Q318.544 758.945 320.557 758.945 Q323.811 758.945 325.71 757.234 Q327.61 755.522 327.61 752.588 Q327.61 749.654 325.71 747.943 Q323.811 746.231 320.557 746.231 Q319.033 746.231 317.51 746.57 Q316.005 746.908 314.425 747.623 L314.425 733.517 Z\" fill=\"#000000\" fill-rule=\"evenodd\" fill-opacity=\"1\" /><path clip-path=\"url(#clip440)\" d=\"M114.677 444.967 L136.899 444.967 L136.899 446.958 L124.353 479.527 L119.468 479.527 L131.274 448.902 L114.677 448.902 L114.677 444.967 Z\" fill=\"#000000\" fill-rule=\"evenodd\" fill-opacity=\"1\" /><path clip-path=\"url(#clip440)\" d=\"M146.019 473.647 L150.903 473.647 L150.903 479.527 L146.019 479.527 L146.019 473.647 Z\" fill=\"#000000\" fill-rule=\"evenodd\" fill-opacity=\"1\" /><path clip-path=\"url(#clip440)\" d=\"M161.135 444.967 L179.491 444.967 L179.491 448.902 L165.417 448.902 L165.417 457.374 Q166.436 457.027 167.454 456.865 Q168.473 456.68 169.491 456.68 Q175.278 456.68 178.658 459.851 Q182.038 463.022 182.038 468.439 Q182.038 474.018 178.565 477.12 Q175.093 480.198 168.774 480.198 Q166.598 480.198 164.329 479.828 Q162.084 479.458 159.677 478.717 L159.677 474.018 Q161.76 475.152 163.982 475.708 Q166.204 476.263 168.681 476.263 Q172.686 476.263 175.024 474.157 Q177.362 472.05 177.362 468.439 Q177.362 464.828 175.024 462.722 Q172.686 460.615 168.681 460.615 Q166.806 460.615 164.931 461.032 Q163.079 461.448 161.135 462.328 L161.135 444.967 Z\" fill=\"#000000\" fill-rule=\"evenodd\" fill-opacity=\"1\" /><path clip-path=\"url(#clip440)\" d=\"M201.25 448.046 Q197.639 448.046 195.811 451.61 Q194.005 455.152 194.005 462.282 Q194.005 469.388 195.811 472.953 Q197.639 476.495 201.25 476.495 Q204.885 476.495 206.69 472.953 Q208.519 469.388 208.519 462.282 Q208.519 455.152 206.69 451.61 Q204.885 448.046 201.25 448.046 M201.25 444.342 Q207.061 444.342 210.116 448.948 Q213.195 453.532 213.195 462.282 Q213.195 471.009 210.116 475.615 Q207.061 480.198 201.25 480.198 Q195.44 480.198 192.362 475.615 Q189.306 471.009 189.306 462.282 Q189.306 453.532 192.362 448.948 Q195.44 444.342 201.25 444.342 Z\" fill=\"#000000\" fill-rule=\"evenodd\" fill-opacity=\"1\" /><path clip-path=\"url(#clip440)\" d=\"M249.584 454.064 L239.005 464.689 L249.584 475.268 L246.829 478.069 L236.204 467.444 L225.579 478.069 L222.848 475.268 L233.403 464.689 L222.848 454.064 L225.579 451.263 L236.204 461.888 L246.829 451.263 L249.584 454.064 Z\" fill=\"#000000\" fill-rule=\"evenodd\" fill-opacity=\"1\" /><path clip-path=\"url(#clip440)\" d=\"M261.945 475.592 L269.583 475.592 L269.583 449.226 L261.273 450.893 L261.273 446.634 L269.537 444.967 L274.213 444.967 L274.213 475.592 L281.852 475.592 L281.852 479.527 L261.945 479.527 L261.945 475.592 Z\" fill=\"#000000\" fill-rule=\"evenodd\" fill-opacity=\"1\" /><path clip-path=\"url(#clip440)\" d=\"M301.296 448.046 Q297.685 448.046 295.856 451.61 Q294.051 455.152 294.051 462.282 Q294.051 469.388 295.856 472.953 Q297.685 476.495 301.296 476.495 Q304.93 476.495 306.736 472.953 Q308.565 469.388 308.565 462.282 Q308.565 455.152 306.736 451.61 Q304.93 448.046 301.296 448.046 M301.296 444.342 Q307.106 444.342 310.162 448.948 Q313.241 453.532 313.241 462.282 Q313.241 471.009 310.162 475.615 Q307.106 480.198 301.296 480.198 Q295.486 480.198 292.407 475.615 Q289.352 471.009 289.352 462.282 Q289.352 453.532 292.407 448.948 Q295.486 444.342 301.296 444.342 Z\" fill=\"#000000\" fill-rule=\"evenodd\" fill-opacity=\"1\" /><path clip-path=\"url(#clip440)\" d=\"M314.425 424.037 L329.34 424.037 L329.34 427.234 L317.905 427.234 L317.905 434.118 Q318.732 433.835 319.56 433.704 Q320.388 433.553 321.215 433.553 Q325.917 433.553 328.663 436.13 Q331.409 438.707 331.409 443.108 Q331.409 447.64 328.588 450.161 Q325.767 452.662 320.632 452.662 Q318.864 452.662 317.021 452.361 Q315.197 452.06 313.241 451.458 L313.241 447.64 Q314.933 448.562 316.739 449.013 Q318.544 449.465 320.557 449.465 Q323.811 449.465 325.71 447.753 Q327.61 446.042 327.61 443.108 Q327.61 440.174 325.71 438.462 Q323.811 436.751 320.557 436.751 Q319.033 436.751 317.51 437.089 Q316.005 437.428 314.425 438.142 L314.425 424.037 Z\" fill=\"#000000\" fill-rule=\"evenodd\" fill-opacity=\"1\" /><path clip-path=\"url(#clip440)\" d=\"M115.445 166.111 L123.084 166.111 L123.084 139.746 L114.774 141.412 L114.774 137.153 L123.038 135.487 L127.713 135.487 L127.713 166.111 L135.352 166.111 L135.352 170.047 L115.445 170.047 L115.445 166.111 Z\" fill=\"#000000\" fill-rule=\"evenodd\" fill-opacity=\"1\" /><path clip-path=\"url(#clip440)\" d=\"M144.797 164.167 L149.681 164.167 L149.681 170.047 L144.797 170.047 L144.797 164.167 Z\" fill=\"#000000\" fill-rule=\"evenodd\" fill-opacity=\"1\" /><path clip-path=\"url(#clip440)\" d=\"M169.866 138.565 Q166.255 138.565 164.426 142.13 Q162.621 145.672 162.621 152.801 Q162.621 159.908 164.426 163.473 Q166.255 167.014 169.866 167.014 Q173.5 167.014 175.306 163.473 Q177.135 159.908 177.135 152.801 Q177.135 145.672 175.306 142.13 Q173.5 138.565 169.866 138.565 M169.866 134.862 Q175.676 134.862 178.732 139.468 Q181.81 144.051 181.81 152.801 Q181.81 161.528 178.732 166.135 Q175.676 170.718 169.866 170.718 Q164.056 170.718 160.977 166.135 Q157.922 161.528 157.922 152.801 Q157.922 144.051 160.977 139.468 Q164.056 134.862 169.866 134.862 Z\" fill=\"#000000\" fill-rule=\"evenodd\" fill-opacity=\"1\" /><path clip-path=\"url(#clip440)\" d=\"M200.028 138.565 Q196.417 138.565 194.588 142.13 Q192.783 145.672 192.783 152.801 Q192.783 159.908 194.588 163.473 Q196.417 167.014 200.028 167.014 Q203.662 167.014 205.468 163.473 Q207.296 159.908 207.296 152.801 Q207.296 145.672 205.468 142.13 Q203.662 138.565 200.028 138.565 M200.028 134.862 Q205.838 134.862 208.894 139.468 Q211.972 144.051 211.972 152.801 Q211.972 161.528 208.894 166.135 Q205.838 170.718 200.028 170.718 Q194.218 170.718 191.139 166.135 Q188.084 161.528 188.084 152.801 Q188.084 144.051 191.139 139.468 Q194.218 134.862 200.028 134.862 Z\" fill=\"#000000\" fill-rule=\"evenodd\" fill-opacity=\"1\" /><path clip-path=\"url(#clip440)\" d=\"M248.361 144.584 L237.782 155.209 L248.361 165.787 L245.606 168.588 L234.981 157.963 L224.357 168.588 L221.625 165.787 L232.181 155.209 L221.625 144.584 L224.357 141.783 L234.981 152.408 L245.606 141.783 L248.361 144.584 Z\" fill=\"#000000\" fill-rule=\"evenodd\" fill-opacity=\"1\" /><path clip-path=\"url(#clip440)\" d=\"M260.722 166.111 L268.361 166.111 L268.361 139.746 L260.051 141.412 L260.051 137.153 L268.315 135.487 L272.99 135.487 L272.99 166.111 L280.629 166.111 L280.629 170.047 L260.722 170.047 L260.722 166.111 Z\" fill=\"#000000\" fill-rule=\"evenodd\" fill-opacity=\"1\" /><path clip-path=\"url(#clip440)\" d=\"M300.074 138.565 Q296.463 138.565 294.634 142.13 Q292.828 145.672 292.828 152.801 Q292.828 159.908 294.634 163.473 Q296.463 167.014 300.074 167.014 Q303.708 167.014 305.513 163.473 Q307.342 159.908 307.342 152.801 Q307.342 145.672 305.513 142.13 Q303.708 138.565 300.074 138.565 M300.074 134.862 Q305.884 134.862 308.939 139.468 Q312.018 144.051 312.018 152.801 Q312.018 161.528 308.939 166.135 Q305.884 170.718 300.074 170.718 Q294.264 170.718 291.185 166.135 Q288.129 161.528 288.129 152.801 Q288.129 144.051 291.185 139.468 Q294.264 134.862 300.074 134.862 Z\" fill=\"#000000\" fill-rule=\"evenodd\" fill-opacity=\"1\" /><path clip-path=\"url(#clip440)\" d=\"M322.043 127.082 Q319.485 127.082 317.98 128.831 Q316.494 130.58 316.494 133.627 Q316.494 136.655 317.98 138.423 Q319.485 140.172 322.043 140.172 Q324.6 140.172 326.086 138.423 Q327.591 136.655 327.591 133.627 Q327.591 130.58 326.086 128.831 Q324.6 127.082 322.043 127.082 M329.585 115.177 L329.585 118.637 Q328.155 117.96 326.688 117.603 Q325.24 117.246 323.811 117.246 Q320.049 117.246 318.055 119.785 Q316.081 122.324 315.798 127.458 Q316.908 125.822 318.582 124.957 Q320.256 124.073 322.268 124.073 Q326.5 124.073 328.945 126.65 Q331.409 129.207 331.409 133.627 Q331.409 137.953 328.851 140.567 Q326.293 143.182 322.043 143.182 Q317.171 143.182 314.595 139.458 Q312.018 135.715 312.018 128.624 Q312.018 121.966 315.178 118.017 Q318.337 114.048 323.66 114.048 Q325.089 114.048 326.538 114.33 Q328.005 114.613 329.585 115.177 Z\" fill=\"#000000\" fill-rule=\"evenodd\" fill-opacity=\"1\" /><path clip-path=\"url(#clip440)\" d=\"M35.3266 1152.17 L35.3266 1161.43 L45.9574 1164.1 L45.9574 1154.78 L35.3266 1152.17 M17.2162 1156.94 L30.4251 1160.25 L30.4251 1150.96 L17.2162 1147.61 L17.2162 1142.52 L30.4251 1145.8 L30.4251 1135.87 L35.3266 1135.87 L35.3266 1147.04 L45.9574 1149.65 L45.9574 1139.53 L50.8271 1139.53 L50.8271 1150.89 L64.0042 1154.2 L64.0042 1159.3 L50.8271 1156.02 L50.8271 1165.34 L64.0042 1168.62 L64.0042 1173.75 L50.8271 1170.44 L50.8271 1180.46 L45.9574 1180.46 L45.9574 1169.26 L35.3266 1166.58 L35.3266 1176.83 L30.4251 1176.83 L30.4251 1165.34 L17.2162 1162.1 L17.2162 1156.94 Z\" fill=\"#000000\" fill-rule=\"evenodd\" fill-opacity=\"1\" /><path clip-path=\"url(#clip440)\" d=\"M16.4842 1103.75 L16.4842 1097.33 L35.9632 1097.33 L35.9632 1073.96 L16.4842 1073.96 L16.4842 1067.53 L64.0042 1067.53 L64.0042 1073.96 L41.3741 1073.96 L41.3741 1097.33 L64.0042 1097.33 L64.0042 1103.75 L16.4842 1103.75 Z\" fill=\"#000000\" fill-rule=\"evenodd\" fill-opacity=\"1\" /><path clip-path=\"url(#clip440)\" d=\"M28.3562 1054.99 L28.3562 1049.14 L64.0042 1049.14 L64.0042 1054.99 L28.3562 1054.99 M14.479 1054.99 L14.479 1049.14 L21.895 1049.14 L21.895 1054.99 L14.479 1054.99 Z\" fill=\"#000000\" fill-rule=\"evenodd\" fill-opacity=\"1\" /><path clip-path=\"url(#clip440)\" d=\"M14.479 1036.88 L14.479 1031.03 L64.0042 1031.03 L64.0042 1036.88 L14.479 1036.88 Z\" fill=\"#000000\" fill-rule=\"evenodd\" fill-opacity=\"1\" /><path clip-path=\"url(#clip440)\" d=\"M46.212 993.182 Q39.7508 993.182 36.0905 995.856 Q32.3984 998.498 32.3984 1003.14 Q32.3984 1007.79 36.0905 1010.47 Q39.7508 1013.11 46.212 1013.11 Q52.6732 1013.11 56.3653 1010.47 Q60.0256 1007.79 60.0256 1003.14 Q60.0256 998.498 56.3653 995.856 Q52.6732 993.182 46.212 993.182 M33.7671 1013.11 Q30.5842 1011.26 29.0564 1008.46 Q27.4968 1005.63 27.4968 1001.71 Q27.4968 995.219 32.6531 991.177 Q37.8093 987.103 46.212 987.103 Q54.6147 987.103 59.771 991.177 Q64.9272 995.219 64.9272 1001.71 Q64.9272 1005.63 63.3994 1008.46 Q61.8398 1011.26 58.657 1013.11 L64.0042 1013.11 L64.0042 1019 L14.479 1019 L14.479 1013.11 L33.7671 1013.11 Z\" fill=\"#000000\" fill-rule=\"evenodd\" fill-opacity=\"1\" /><path clip-path=\"url(#clip440)\" d=\"M44.7161 946.904 L47.5806 946.904 L47.5806 973.83 Q53.6281 973.449 56.8109 970.202 Q59.9619 966.924 59.9619 961.099 Q59.9619 957.725 59.1344 954.574 Q58.3069 951.391 56.6518 948.272 L62.1899 948.272 Q63.5267 951.423 64.227 954.733 Q64.9272 958.044 64.9272 961.449 Q64.9272 969.979 59.9619 974.976 Q54.9967 979.942 46.5303 979.942 Q37.7774 979.942 32.6531 975.231 Q27.4968 970.488 27.4968 962.468 Q27.4968 955.274 32.1438 951.105 Q36.7589 946.904 44.7161 946.904 M42.9973 952.76 Q38.1912 952.824 35.3266 955.465 Q32.4621 958.075 32.4621 962.404 Q32.4621 967.306 35.2312 970.266 Q38.0002 973.194 43.0292 973.64 L42.9973 952.76 Z\" fill=\"#000000\" fill-rule=\"evenodd\" fill-opacity=\"1\" /><path clip-path=\"url(#clip440)\" d=\"M33.8307 916.635 Q33.2578 917.621 33.0032 918.799 Q32.7167 919.945 32.7167 921.345 Q32.7167 926.31 35.9632 928.984 Q39.1779 931.626 45.2253 931.626 L64.0042 931.626 L64.0042 937.514 L28.3562 937.514 L28.3562 931.626 L33.8944 931.626 Q30.6479 929.78 29.0883 926.82 Q27.4968 923.86 27.4968 919.626 Q27.4968 919.022 27.5923 918.29 Q27.656 917.558 27.8151 916.666 L33.8307 916.635 Z\" fill=\"#000000\" fill-rule=\"evenodd\" fill-opacity=\"1\" /><path clip-path=\"url(#clip440)\" d=\"M18.2347 904.699 L28.3562 904.699 L28.3562 892.636 L32.9077 892.636 L32.9077 904.699 L52.2594 904.699 Q56.6199 904.699 57.8613 903.521 Q59.1026 902.312 59.1026 898.651 L59.1026 892.636 L64.0042 892.636 L64.0042 898.651 Q64.0042 905.431 61.4897 908.009 Q58.9434 910.587 52.2594 910.587 L32.9077 910.587 L32.9077 914.884 L28.3562 914.884 L28.3562 910.587 L18.2347 910.587 L18.2347 904.699 Z\" fill=\"#000000\" fill-rule=\"evenodd\" fill-opacity=\"1\" /><path clip-path=\"url(#clip440)\" d=\"M29.4065 841.487 L34.9447 841.487 Q33.6716 843.97 33.035 846.644 Q32.3984 849.317 32.3984 852.182 Q32.3984 856.542 33.7352 858.739 Q35.072 860.903 37.7456 860.903 Q39.7826 860.903 40.9603 859.343 Q42.1061 857.784 43.1565 853.073 L43.6021 851.068 Q44.9389 844.829 47.3897 842.219 Q49.8086 839.578 54.1691 839.578 Q59.1344 839.578 62.0308 843.524 Q64.9272 847.439 64.9272 854.314 Q64.9272 857.179 64.3543 860.298 Q63.8132 863.385 62.6992 866.823 L56.6518 866.823 Q58.3387 863.576 59.198 860.425 Q60.0256 857.274 60.0256 854.187 Q60.0256 850.049 58.6251 847.821 Q57.1929 845.593 54.6147 845.593 Q52.2276 845.593 50.9545 847.217 Q49.6813 848.808 48.5037 854.251 L48.0262 856.288 Q46.8804 861.73 44.5251 864.149 Q42.138 866.568 38.0002 866.568 Q32.9713 866.568 30.2341 863.004 Q27.4968 859.439 27.4968 852.882 Q27.4968 849.636 27.9743 846.771 Q28.4517 843.906 29.4065 841.487 Z\" fill=\"#000000\" fill-rule=\"evenodd\" fill-opacity=\"1\" /><path clip-path=\"url(#clip440)\" d=\"M58.657 824.586 L77.5631 824.586 L77.5631 830.475 L28.3562 830.475 L28.3562 824.586 L33.7671 824.586 Q30.5842 822.74 29.0564 819.94 Q27.4968 817.107 27.4968 813.192 Q27.4968 806.699 32.6531 802.657 Q37.8093 798.583 46.212 798.583 Q54.6147 798.583 59.771 802.657 Q64.9272 806.699 64.9272 813.192 Q64.9272 817.107 63.3994 819.94 Q61.8398 822.74 58.657 824.586 M46.212 804.662 Q39.7508 804.662 36.0905 807.335 Q32.3984 809.977 32.3984 814.624 Q32.3984 819.271 36.0905 821.945 Q39.7508 824.586 46.212 824.586 Q52.6732 824.586 56.3653 821.945 Q60.0256 819.271 60.0256 814.624 Q60.0256 809.977 56.3653 807.335 Q52.6732 804.662 46.212 804.662 Z\" fill=\"#000000\" fill-rule=\"evenodd\" fill-opacity=\"1\" /><path clip-path=\"url(#clip440)\" d=\"M46.0847 772.674 Q46.0847 779.772 47.7079 782.509 Q49.3312 785.246 53.2461 785.246 Q56.3653 785.246 58.2114 783.209 Q60.0256 781.141 60.0256 777.608 Q60.0256 772.738 56.5881 769.81 Q53.1188 766.85 47.3897 766.85 L46.0847 766.85 L46.0847 772.674 M43.6657 760.993 L64.0042 760.993 L64.0042 766.85 L58.5933 766.85 Q61.8398 768.855 63.3994 771.847 Q64.9272 774.838 64.9272 779.167 Q64.9272 784.642 61.8716 787.888 Q58.7843 791.103 53.6281 791.103 Q47.6125 791.103 44.5569 787.092 Q41.5014 783.05 41.5014 775.061 L41.5014 766.85 L40.9285 766.85 Q36.8862 766.85 34.6901 769.523 Q32.4621 772.165 32.4621 776.971 Q32.4621 780.027 33.1941 782.923 Q33.9262 785.819 35.3903 788.493 L29.9795 788.493 Q28.7381 785.278 28.1334 782.255 Q27.4968 779.231 27.4968 776.366 Q27.4968 768.632 31.5072 764.813 Q35.5176 760.993 43.6657 760.993 Z\" fill=\"#000000\" fill-rule=\"evenodd\" fill-opacity=\"1\" /><path clip-path=\"url(#clip440)\" d=\"M29.7248 723.276 L35.1993 723.276 Q33.8307 725.759 33.1623 728.273 Q32.4621 730.756 32.4621 733.302 Q32.4621 739 36.0905 742.151 Q39.6872 745.302 46.212 745.302 Q52.7369 745.302 56.3653 742.151 Q59.9619 739 59.9619 733.302 Q59.9619 730.756 59.2935 728.273 Q58.5933 725.759 57.2247 723.276 L62.6355 723.276 Q63.7814 725.727 64.3543 728.369 Q64.9272 730.979 64.9272 733.939 Q64.9272 741.991 59.8664 746.734 Q54.8057 751.476 46.212 751.476 Q37.491 751.476 32.4939 746.702 Q27.4968 741.896 27.4968 733.557 Q27.4968 730.851 28.0697 728.273 Q28.6108 725.695 29.7248 723.276 Z\" fill=\"#000000\" fill-rule=\"evenodd\" fill-opacity=\"1\" /><path clip-path=\"url(#clip440)\" d=\"M44.7161 682.599 L47.5806 682.599 L47.5806 709.526 Q53.6281 709.144 56.8109 705.898 Q59.9619 702.62 59.9619 696.795 Q59.9619 693.421 59.1344 690.27 Q58.3069 687.087 56.6518 683.968 L62.1899 683.968 Q63.5267 687.119 64.227 690.429 Q64.9272 693.739 64.9272 697.145 Q64.9272 705.675 59.9619 710.672 Q54.9967 715.637 46.5303 715.637 Q37.7774 715.637 32.6531 710.927 Q27.4968 706.184 27.4968 698.164 Q27.4968 690.97 32.1438 686.801 Q36.7589 682.599 44.7161 682.599 M42.9973 688.456 Q38.1912 688.52 35.3266 691.161 Q32.4621 693.771 32.4621 698.1 Q32.4621 703.001 35.2312 705.962 Q38.0002 708.89 43.0292 709.335 L42.9973 688.456 Z\" fill=\"#000000\" fill-rule=\"evenodd\" fill-opacity=\"1\" /><path clip-path=\"url(#clip440)\" d=\"M33.7671 628.809 L14.479 628.809 L14.479 622.953 L64.0042 622.953 L64.0042 628.809 L58.657 628.809 Q61.8398 630.655 63.3994 633.488 Q64.9272 636.289 64.9272 640.236 Q64.9272 646.697 59.771 650.771 Q54.6147 654.813 46.212 654.813 Q37.8093 654.813 32.6531 650.771 Q27.4968 646.697 27.4968 640.236 Q27.4968 636.289 29.0564 633.488 Q30.5842 630.655 33.7671 628.809 M46.212 648.766 Q52.6732 648.766 56.3653 646.124 Q60.0256 643.45 60.0256 638.803 Q60.0256 634.156 56.3653 631.483 Q52.6732 628.809 46.212 628.809 Q39.7508 628.809 36.0905 631.483 Q32.3984 634.156 32.3984 638.803 Q32.3984 643.45 36.0905 646.124 Q39.7508 648.766 46.212 648.766 Z\" fill=\"#000000\" fill-rule=\"evenodd\" fill-opacity=\"1\" /><path clip-path=\"url(#clip440)\" d=\"M28.3562 610.89 L28.3562 605.033 L64.0042 605.033 L64.0042 610.89 L28.3562 610.89 M14.479 610.89 L14.479 605.033 L21.895 605.033 L21.895 610.89 L14.479 610.89 Z\" fill=\"#000000\" fill-rule=\"evenodd\" fill-opacity=\"1\" /><path clip-path=\"url(#clip440)\" d=\"M35.1993 565.025 Q31.2526 562.829 29.3747 559.773 Q27.4968 556.718 27.4968 552.58 Q27.4968 547.01 31.4117 543.986 Q35.2948 540.962 42.4881 540.962 L64.0042 540.962 L64.0042 546.851 L42.679 546.851 Q37.5546 546.851 35.072 548.665 Q32.5894 550.479 32.5894 554.203 Q32.5894 558.755 35.6131 561.396 Q38.6368 564.038 43.8567 564.038 L64.0042 564.038 L64.0042 569.926 L42.679 569.926 Q37.5228 569.926 35.072 571.741 Q32.5894 573.555 32.5894 577.342 Q32.5894 581.83 35.6449 584.472 Q38.6686 587.114 43.8567 587.114 L64.0042 587.114 L64.0042 593.002 L28.3562 593.002 L28.3562 587.114 L33.8944 587.114 Q30.616 585.109 29.0564 582.308 Q27.4968 579.507 27.4968 575.656 Q27.4968 571.772 29.4702 569.067 Q31.4436 566.33 35.1993 565.025 Z\" fill=\"#000000\" fill-rule=\"evenodd\" fill-opacity=\"1\" /><path clip-path=\"url(#clip440)\" d=\"M44.7161 498.79 L47.5806 498.79 L47.5806 525.717 Q53.6281 525.335 56.8109 522.088 Q59.9619 518.81 59.9619 512.985 Q59.9619 509.611 59.1344 506.46 Q58.3069 503.277 56.6518 500.158 L62.1899 500.158 Q63.5267 503.309 64.227 506.619 Q64.9272 509.93 64.9272 513.335 Q64.9272 521.865 59.9619 526.862 Q54.9967 531.828 46.5303 531.828 Q37.7774 531.828 32.6531 527.117 Q27.4968 522.375 27.4968 514.354 Q27.4968 507.161 32.1438 502.991 Q36.7589 498.79 44.7161 498.79 M42.9973 504.646 Q38.1912 504.71 35.3266 507.351 Q32.4621 509.961 32.4621 514.29 Q32.4621 519.192 35.2312 522.152 Q38.0002 525.08 43.0292 525.526 L42.9973 504.646 Z\" fill=\"#000000\" fill-rule=\"evenodd\" fill-opacity=\"1\" /><path clip-path=\"url(#clip440)\" d=\"M42.4881 459.545 L64.0042 459.545 L64.0042 465.401 L42.679 465.401 Q37.6183 465.401 35.1038 467.375 Q32.5894 469.348 32.5894 473.295 Q32.5894 478.037 35.6131 480.775 Q38.6368 483.512 43.8567 483.512 L64.0042 483.512 L64.0042 489.4 L28.3562 489.4 L28.3562 483.512 L33.8944 483.512 Q30.6797 481.411 29.0883 478.579 Q27.4968 475.714 27.4968 471.99 Q27.4968 465.847 31.3163 462.696 Q35.1038 459.545 42.4881 459.545 Z\" fill=\"#000000\" fill-rule=\"evenodd\" fill-opacity=\"1\" /><path clip-path=\"url(#clip440)\" d=\"M29.4065 425.138 L34.9447 425.138 Q33.6716 427.621 33.035 430.295 Q32.3984 432.968 32.3984 435.833 Q32.3984 440.193 33.7352 442.389 Q35.072 444.554 37.7456 444.554 Q39.7826 444.554 40.9603 442.994 Q42.1061 441.435 43.1565 436.724 L43.6021 434.719 Q44.9389 428.48 47.3897 425.87 Q49.8086 423.229 54.1691 423.229 Q59.1344 423.229 62.0308 427.175 Q64.9272 431.09 64.9272 437.965 Q64.9272 440.83 64.3543 443.949 Q63.8132 447.036 62.6992 450.474 L56.6518 450.474 Q58.3387 447.227 59.198 444.076 Q60.0256 440.925 60.0256 437.838 Q60.0256 433.7 58.6251 431.472 Q57.1929 429.244 54.6147 429.244 Q52.2276 429.244 50.9545 430.868 Q49.6813 432.459 48.5037 437.902 L48.0262 439.939 Q46.8804 445.381 44.5251 447.8 Q42.138 450.219 38.0002 450.219 Q32.9713 450.219 30.2341 446.654 Q27.4968 443.09 27.4968 436.533 Q27.4968 433.287 27.9743 430.422 Q28.4517 427.557 29.4065 425.138 Z\" fill=\"#000000\" fill-rule=\"evenodd\" fill-opacity=\"1\" /><path clip-path=\"url(#clip440)\" d=\"M28.3562 413.903 L28.3562 408.046 L64.0042 408.046 L64.0042 413.903 L28.3562 413.903 M14.479 413.903 L14.479 408.046 L21.895 408.046 L21.895 413.903 L14.479 413.903 Z\" fill=\"#000000\" fill-rule=\"evenodd\" fill-opacity=\"1\" /><path clip-path=\"url(#clip440)\" d=\"M32.4621 381.979 Q32.4621 386.69 36.1542 389.427 Q39.8145 392.164 46.212 392.164 Q52.6095 392.164 56.3017 389.459 Q59.9619 386.721 59.9619 381.979 Q59.9619 377.3 56.2698 374.563 Q52.5777 371.826 46.212 371.826 Q39.8781 371.826 36.186 374.563 Q32.4621 377.3 32.4621 381.979 M27.4968 381.979 Q27.4968 374.34 32.4621 369.98 Q37.4273 365.619 46.212 365.619 Q54.9649 365.619 59.9619 369.98 Q64.9272 374.34 64.9272 381.979 Q64.9272 389.65 59.9619 394.01 Q54.9649 398.339 46.212 398.339 Q37.4273 398.339 32.4621 394.01 Q27.4968 389.65 27.4968 381.979 Z\" fill=\"#000000\" fill-rule=\"evenodd\" fill-opacity=\"1\" /><path clip-path=\"url(#clip440)\" d=\"M42.4881 326.279 L64.0042 326.279 L64.0042 332.135 L42.679 332.135 Q37.6183 332.135 35.1038 334.109 Q32.5894 336.082 32.5894 340.029 Q32.5894 344.771 35.6131 347.509 Q38.6368 350.246 43.8567 350.246 L64.0042 350.246 L64.0042 356.134 L28.3562 356.134 L28.3562 350.246 L33.8944 350.246 Q30.6797 348.145 29.0883 345.312 Q27.4968 342.448 27.4968 338.724 Q27.4968 332.581 31.3163 329.43 Q35.1038 326.279 42.4881 326.279 Z\" fill=\"#000000\" fill-rule=\"evenodd\" fill-opacity=\"1\" /><path clip-path=\"url(#clip440)\" d=\"M29.4065 291.872 L34.9447 291.872 Q33.6716 294.355 33.035 297.029 Q32.3984 299.702 32.3984 302.567 Q32.3984 306.927 33.7352 309.123 Q35.072 311.288 37.7456 311.288 Q39.7826 311.288 40.9603 309.728 Q42.1061 308.169 43.1565 303.458 L43.6021 301.453 Q44.9389 295.214 47.3897 292.604 Q49.8086 289.963 54.1691 289.963 Q59.1344 289.963 62.0308 293.909 Q64.9272 297.824 64.9272 304.699 Q64.9272 307.564 64.3543 310.683 Q63.8132 313.77 62.6992 317.208 L56.6518 317.208 Q58.3387 313.961 59.198 310.81 Q60.0256 307.659 60.0256 304.572 Q60.0256 300.434 58.6251 298.206 Q57.1929 295.978 54.6147 295.978 Q52.2276 295.978 50.9545 297.601 Q49.6813 299.193 48.5037 304.636 L48.0262 306.673 Q46.8804 312.115 44.5251 314.534 Q42.138 316.953 38.0002 316.953 Q32.9713 316.953 30.2341 313.388 Q27.4968 309.824 27.4968 303.267 Q27.4968 300.02 27.9743 297.156 Q28.4517 294.291 29.4065 291.872 Z\" fill=\"#000000\" fill-rule=\"evenodd\" fill-opacity=\"1\" /><polyline clip-path=\"url(#clip442)\" style=\"stroke:#000000; stroke-linecap:butt; stroke-linejoin:round; stroke-width:4; stroke-opacity:1; fill:none\" points=\"\n",
       "  423.598,1384.24 435.792,1384.24 548.544,1384.23 616.303,1384.23 673.592,1384.23 735.824,1384.22 793.197,1384.21 854.707,1384.19 925.972,1384.16 989.303,1384.11 \n",
       "  1044.84,1384.05 1105.39,1383.94 1166.3,1383.78 1233.64,1383.5 1297.72,1383.08 1364.34,1382.39 1420.42,1381.5 1488.89,1379.81 1551.62,1377.35 1609.55,1373.88 \n",
       "  1668.23,1368.59 1701.11,1364.52 1733.99,1359.39 1763.79,1353.6 1793.59,1346.46 1827.7,1336.21 1861.82,1323.19 1877.61,1316.02 1893.41,1308.01 1909.2,1299.05 \n",
       "  1924.99,1289.05 1940.56,1278.03 1956.14,1265.74 1971.71,1252.03 1987.28,1236.74 2002.4,1220.19 2017.51,1201.79 2032.63,1181.33 2047.75,1158.57 2063.25,1132.59 \n",
       "  2078.75,1103.62 2086.5,1087.9 2094.24,1071.31 2101.99,1053.78 2109.74,1035.28 2118.23,1013.81 2126.72,991.026 2135.21,966.837 2143.7,941.161 2152.19,913.905 \n",
       "  2160.68,884.972 2169.17,854.26 2177.66,821.658 2183.83,796.728 2189.99,770.693 2196.16,743.504 2202.33,715.111 2208.49,685.46 2214.66,654.494 2220.83,622.156 \n",
       "  2226.99,588.386 2233.16,553.118 2239.33,516.288 2245.49,477.826 2251.66,437.66 2257.83,395.713 2263.99,351.908 2270.16,306.162 2276.33,258.388 2278.86,238.179 \n",
       "  2281.39,217.607 2283.92,196.666 2286.45,175.349 2288.98,153.65 2291.51,131.56 2294.04,109.075 2296.57,86.1857 \n",
       "  \"/>\n",
       "</svg>\n"
      ]
     },
     "execution_count": 23,
     "metadata": {},
     "output_type": "execute_result"
    }
   ],
   "source": [
    "plot(N -> 2^N, 1, 20, legend=false, color=:black, xlab=\"N\", ylab=\"# Hilbert space dimensions\")"
   ]
  },
  {
   "cell_type": "markdown",
   "metadata": {},
   "source": [
    "Our Hamiltonian matrix therefore will become huge(!) and is not going to fit into memory (apart from the fact that diagonalization would take forever)."
   ]
  },
  {
   "cell_type": "code",
   "execution_count": 24,
   "metadata": {},
   "outputs": [
    {
     "data": {
      "text/plain": [
       "\u001b[32m\u001b[1mTest Passed\u001b[22m\u001b[39m\n",
       "  Expression: TransverseFieldIsing(N = 20, h = 1)\n",
       "      Thrown: OutOfMemoryError"
      ]
     },
     "execution_count": 24,
     "metadata": {},
     "output_type": "execute_result"
    }
   ],
   "source": [
    "using Test\n",
    "@test_throws OutOfMemoryError TransverseFieldIsing(N=20, h=1)"
   ]
  },
  {
   "cell_type": "markdown",
   "metadata": {},
   "source": [
    "So, what can we do about it? The answer is, **sparsity**.\n",
    "\n",
    "Let's inspect the Hamiltonian a bit more closely."
   ]
  },
  {
   "cell_type": "code",
   "execution_count": 25,
   "metadata": {},
   "outputs": [
    {
     "data": {
      "text/plain": [
       "1024×1024 Matrix{Int64}:\n",
       " -9  -1  -1   0  -1   0   0   0  -1  …   0   0   0   0   0   0   0   0   0\n",
       " -1  -7   0  -1   0  -1   0   0   0      0   0   0   0   0   0   0   0   0\n",
       " -1   0  -5  -1   0   0  -1   0   0      0   0   0   0   0   0   0   0   0\n",
       "  0  -1  -1  -7   0   0   0  -1   0      0   0   0   0   0   0   0   0   0\n",
       " -1   0   0   0  -5  -1  -1   0   0      0   0   0   0   0   0   0   0   0\n",
       "  0  -1   0   0  -1  -3   0  -1   0  …   0   0   0   0   0   0   0   0   0\n",
       "  0   0  -1   0  -1   0  -5  -1   0      0   0   0   0   0   0   0   0   0\n",
       "  0   0   0  -1   0  -1  -1  -7   0      0   0   0   0   0   0   0   0   0\n",
       " -1   0   0   0   0   0   0   0  -5      0   0   0   0   0   0   0   0   0\n",
       "  0  -1   0   0   0   0   0   0  -1      0   0   0   0   0   0   0   0   0\n",
       "  0   0  -1   0   0   0   0   0  -1  …   0   0   0   0   0   0   0   0   0\n",
       "  0   0   0  -1   0   0   0   0   0      0   0   0   0   0   0   0   0   0\n",
       "  0   0   0   0  -1   0   0   0  -1      0   0   0   0   0   0   0   0   0\n",
       "  ⋮                   ⋮              ⋱   ⋮                   ⋮          \n",
       "  0   0   0   0   0   0   0   0   0      0   0   0   0   0  -1   0   0   0\n",
       "  0   0   0   0   0   0   0   0   0     -1   0   0   0   0   0  -1   0   0\n",
       "  0   0   0   0   0   0   0   0   0     -1   0   0   0   0   0   0  -1   0\n",
       "  0   0   0   0   0   0   0   0   0  …  -5   0   0   0   0   0   0   0  -1\n",
       "  0   0   0   0   0   0   0   0   0      0  -7  -1  -1   0  -1   0   0   0\n",
       "  0   0   0   0   0   0   0   0   0      0  -1  -5   0  -1   0  -1   0   0\n",
       "  0   0   0   0   0   0   0   0   0      0  -1   0  -3  -1   0   0  -1   0\n",
       "  0   0   0   0   0   0   0   0   0      0   0  -1  -1  -5   0   0   0  -1\n",
       "  0   0   0   0   0   0   0   0   0  …   0  -1   0   0   0  -7  -1  -1   0\n",
       "  0   0   0   0   0   0   0   0   0      0   0  -1   0   0  -1  -5   0  -1\n",
       "  0   0   0   0   0   0   0   0   0      0   0   0  -1   0  -1   0  -7  -1\n",
       "  0   0   0   0   0   0   0   0   0     -1   0   0   0  -1   0  -1  -1  -9"
      ]
     },
     "execution_count": 25,
     "metadata": {},
     "output_type": "execute_result"
    }
   ],
   "source": [
    "H = TransverseFieldIsing(N=10, h=1)"
   ]
  },
  {
   "cell_type": "markdown",
   "metadata": {},
   "source": [
    "Noticably, there are a lot of zeros. How does this depend on $N$?\n",
    "\n",
    "Let's plot the sparsity, i.e. ratio of zero entries."
   ]
  },
  {
   "cell_type": "code",
   "execution_count": 26,
   "metadata": {},
   "outputs": [
    {
     "data": {
      "image/svg+xml": [
       "<?xml version=\"1.0\" encoding=\"utf-8\"?>\n",
       "<svg xmlns=\"http://www.w3.org/2000/svg\" xmlns:xlink=\"http://www.w3.org/1999/xlink\" width=\"600\" height=\"400\" viewBox=\"0 0 2400 1600\">\n",
       "<defs>\n",
       "  <clipPath id=\"clip480\">\n",
       "    <rect x=\"0\" y=\"0\" width=\"2400\" height=\"1600\"/>\n",
       "  </clipPath>\n",
       "</defs>\n",
       "<path clip-path=\"url(#clip480)\" d=\"\n",
       "M0 1600 L2400 1600 L2400 0 L0 0  Z\n",
       "  \" fill=\"#ffffff\" fill-rule=\"evenodd\" fill-opacity=\"1\"/>\n",
       "<defs>\n",
       "  <clipPath id=\"clip481\">\n",
       "    <rect x=\"480\" y=\"0\" width=\"1681\" height=\"1600\"/>\n",
       "  </clipPath>\n",
       "</defs>\n",
       "<path clip-path=\"url(#clip480)\" d=\"\n",
       "M219.866 1423.18 L2352.76 1423.18 L2352.76 47.2441 L219.866 47.2441  Z\n",
       "  \" fill=\"#ffffff\" fill-rule=\"evenodd\" fill-opacity=\"1\"/>\n",
       "<defs>\n",
       "  <clipPath id=\"clip482\">\n",
       "    <rect x=\"219\" y=\"47\" width=\"2134\" height=\"1377\"/>\n",
       "  </clipPath>\n",
       "</defs>\n",
       "<polyline clip-path=\"url(#clip482)\" style=\"stroke:#000000; stroke-linecap:butt; stroke-linejoin:round; stroke-width:2; stroke-opacity:0.1; fill:none\" points=\"\n",
       "  380.839,1423.18 380.839,47.2441 \n",
       "  \"/>\n",
       "<polyline clip-path=\"url(#clip482)\" style=\"stroke:#000000; stroke-linecap:butt; stroke-linejoin:round; stroke-width:2; stroke-opacity:0.1; fill:none\" points=\"\n",
       "  883.879,1423.18 883.879,47.2441 \n",
       "  \"/>\n",
       "<polyline clip-path=\"url(#clip482)\" style=\"stroke:#000000; stroke-linecap:butt; stroke-linejoin:round; stroke-width:2; stroke-opacity:0.1; fill:none\" points=\"\n",
       "  1386.92,1423.18 1386.92,47.2441 \n",
       "  \"/>\n",
       "<polyline clip-path=\"url(#clip482)\" style=\"stroke:#000000; stroke-linecap:butt; stroke-linejoin:round; stroke-width:2; stroke-opacity:0.1; fill:none\" points=\"\n",
       "  1889.96,1423.18 1889.96,47.2441 \n",
       "  \"/>\n",
       "<polyline clip-path=\"url(#clip480)\" style=\"stroke:#000000; stroke-linecap:butt; stroke-linejoin:round; stroke-width:4; stroke-opacity:1; fill:none\" points=\"\n",
       "  219.866,1423.18 2352.76,1423.18 \n",
       "  \"/>\n",
       "<polyline clip-path=\"url(#clip480)\" style=\"stroke:#000000; stroke-linecap:butt; stroke-linejoin:round; stroke-width:4; stroke-opacity:1; fill:none\" points=\"\n",
       "  380.839,1423.18 380.839,1404.28 \n",
       "  \"/>\n",
       "<polyline clip-path=\"url(#clip480)\" style=\"stroke:#000000; stroke-linecap:butt; stroke-linejoin:round; stroke-width:4; stroke-opacity:1; fill:none\" points=\"\n",
       "  883.879,1423.18 883.879,1404.28 \n",
       "  \"/>\n",
       "<polyline clip-path=\"url(#clip480)\" style=\"stroke:#000000; stroke-linecap:butt; stroke-linejoin:round; stroke-width:4; stroke-opacity:1; fill:none\" points=\"\n",
       "  1386.92,1423.18 1386.92,1404.28 \n",
       "  \"/>\n",
       "<polyline clip-path=\"url(#clip480)\" style=\"stroke:#000000; stroke-linecap:butt; stroke-linejoin:round; stroke-width:4; stroke-opacity:1; fill:none\" points=\"\n",
       "  1889.96,1423.18 1889.96,1404.28 \n",
       "  \"/>\n",
       "<path clip-path=\"url(#clip480)\" d=\"M352.575 1481.64 L368.895 1481.64 L368.895 1485.58 L346.95 1485.58 L346.95 1481.64 Q349.612 1478.89 354.196 1474.26 Q358.802 1469.61 359.983 1468.27 Q362.228 1465.74 363.108 1464.01 Q364.01 1462.25 364.01 1460.56 Q364.01 1457.8 362.066 1456.07 Q360.145 1454.33 357.043 1454.33 Q354.844 1454.33 352.39 1455.09 Q349.96 1455.86 347.182 1457.41 L347.182 1452.69 Q350.006 1451.55 352.46 1450.97 Q354.913 1450.39 356.95 1450.39 Q362.321 1450.39 365.515 1453.08 Q368.71 1455.77 368.71 1460.26 Q368.71 1462.39 367.899 1464.31 Q367.112 1466.2 365.006 1468.8 Q364.427 1469.47 361.325 1472.69 Q358.223 1475.88 352.575 1481.64 Z\" fill=\"#000000\" fill-rule=\"evenodd\" fill-opacity=\"1\" /><path clip-path=\"url(#clip480)\" d=\"M378.709 1479.7 L383.594 1479.7 L383.594 1485.58 L378.709 1485.58 L378.709 1479.7 Z\" fill=\"#000000\" fill-rule=\"evenodd\" fill-opacity=\"1\" /><path clip-path=\"url(#clip480)\" d=\"M393.825 1451.02 L412.181 1451.02 L412.181 1454.96 L398.107 1454.96 L398.107 1463.43 Q399.126 1463.08 400.145 1462.92 Q401.163 1462.73 402.182 1462.73 Q407.969 1462.73 411.348 1465.9 Q414.728 1469.08 414.728 1474.49 Q414.728 1480.07 411.256 1483.17 Q407.783 1486.25 401.464 1486.25 Q399.288 1486.25 397.02 1485.88 Q394.774 1485.51 392.367 1484.77 L392.367 1480.07 Q394.45 1481.2 396.672 1481.76 Q398.895 1482.32 401.371 1482.32 Q405.376 1482.32 407.714 1480.21 Q410.052 1478.1 410.052 1474.49 Q410.052 1470.88 407.714 1468.77 Q405.376 1466.67 401.371 1466.67 Q399.496 1466.67 397.621 1467.08 Q395.77 1467.5 393.825 1468.38 L393.825 1451.02 Z\" fill=\"#000000\" fill-rule=\"evenodd\" fill-opacity=\"1\" /><path clip-path=\"url(#clip480)\" d=\"M851.044 1451.02 L869.4 1451.02 L869.4 1454.96 L855.326 1454.96 L855.326 1463.43 Q856.345 1463.08 857.363 1462.92 Q858.382 1462.73 859.4 1462.73 Q865.187 1462.73 868.567 1465.9 Q871.946 1469.08 871.946 1474.49 Q871.946 1480.07 868.474 1483.17 Q865.002 1486.25 858.682 1486.25 Q856.507 1486.25 854.238 1485.88 Q851.993 1485.51 849.585 1484.77 L849.585 1480.07 Q851.669 1481.2 853.891 1481.76 Q856.113 1482.32 858.59 1482.32 Q862.594 1482.32 864.932 1480.21 Q867.27 1478.1 867.27 1474.49 Q867.27 1470.88 864.932 1468.77 Q862.594 1466.67 858.59 1466.67 Q856.715 1466.67 854.84 1467.08 Q852.988 1467.5 851.044 1468.38 L851.044 1451.02 Z\" fill=\"#000000\" fill-rule=\"evenodd\" fill-opacity=\"1\" /><path clip-path=\"url(#clip480)\" d=\"M881.159 1479.7 L886.043 1479.7 L886.043 1485.58 L881.159 1485.58 L881.159 1479.7 Z\" fill=\"#000000\" fill-rule=\"evenodd\" fill-opacity=\"1\" /><path clip-path=\"url(#clip480)\" d=\"M906.228 1454.1 Q902.617 1454.1 900.789 1457.66 Q898.983 1461.2 898.983 1468.33 Q898.983 1475.44 900.789 1479.01 Q902.617 1482.55 906.228 1482.55 Q909.863 1482.55 911.668 1479.01 Q913.497 1475.44 913.497 1468.33 Q913.497 1461.2 911.668 1457.66 Q909.863 1454.1 906.228 1454.1 M906.228 1450.39 Q912.039 1450.39 915.094 1455 Q918.173 1459.58 918.173 1468.33 Q918.173 1477.06 915.094 1481.67 Q912.039 1486.25 906.228 1486.25 Q900.418 1486.25 897.34 1481.67 Q894.284 1477.06 894.284 1468.33 Q894.284 1459.58 897.34 1455 Q900.418 1450.39 906.228 1450.39 Z\" fill=\"#000000\" fill-rule=\"evenodd\" fill-opacity=\"1\" /><path clip-path=\"url(#clip480)\" d=\"M1353.24 1451.02 L1375.46 1451.02 L1375.46 1453.01 L1362.91 1485.58 L1358.03 1485.58 L1369.84 1454.96 L1353.24 1454.96 L1353.24 1451.02 Z\" fill=\"#000000\" fill-rule=\"evenodd\" fill-opacity=\"1\" /><path clip-path=\"url(#clip480)\" d=\"M1384.58 1479.7 L1389.47 1479.7 L1389.47 1485.58 L1384.58 1485.58 L1384.58 1479.7 Z\" fill=\"#000000\" fill-rule=\"evenodd\" fill-opacity=\"1\" /><path clip-path=\"url(#clip480)\" d=\"M1399.7 1451.02 L1418.05 1451.02 L1418.05 1454.96 L1403.98 1454.96 L1403.98 1463.43 Q1405 1463.08 1406.02 1462.92 Q1407.03 1462.73 1408.05 1462.73 Q1413.84 1462.73 1417.22 1465.9 Q1420.6 1469.08 1420.6 1474.49 Q1420.6 1480.07 1417.13 1483.17 Q1413.66 1486.25 1407.34 1486.25 Q1405.16 1486.25 1402.89 1485.88 Q1400.65 1485.51 1398.24 1484.77 L1398.24 1480.07 Q1400.32 1481.2 1402.54 1481.76 Q1404.77 1482.32 1407.24 1482.32 Q1411.25 1482.32 1413.59 1480.21 Q1415.92 1478.1 1415.92 1474.49 Q1415.92 1470.88 1413.59 1468.77 Q1411.25 1466.67 1407.24 1466.67 Q1405.37 1466.67 1403.49 1467.08 Q1401.64 1467.5 1399.7 1468.38 L1399.7 1451.02 Z\" fill=\"#000000\" fill-rule=\"evenodd\" fill-opacity=\"1\" /><path clip-path=\"url(#clip480)\" d=\"M1842.03 1481.64 L1849.67 1481.64 L1849.67 1455.28 L1841.36 1456.95 L1841.36 1452.69 L1849.62 1451.02 L1854.3 1451.02 L1854.3 1481.64 L1861.94 1481.64 L1861.94 1485.58 L1842.03 1485.58 L1842.03 1481.64 Z\" fill=\"#000000\" fill-rule=\"evenodd\" fill-opacity=\"1\" /><path clip-path=\"url(#clip480)\" d=\"M1881.38 1454.1 Q1877.77 1454.1 1875.94 1457.66 Q1874.14 1461.2 1874.14 1468.33 Q1874.14 1475.44 1875.94 1479.01 Q1877.77 1482.55 1881.38 1482.55 Q1885.02 1482.55 1886.82 1479.01 Q1888.65 1475.44 1888.65 1468.33 Q1888.65 1461.2 1886.82 1457.66 Q1885.02 1454.1 1881.38 1454.1 M1881.38 1450.39 Q1887.19 1450.39 1890.25 1455 Q1893.33 1459.58 1893.33 1468.33 Q1893.33 1477.06 1890.25 1481.67 Q1887.19 1486.25 1881.38 1486.25 Q1875.57 1486.25 1872.49 1481.67 Q1869.44 1477.06 1869.44 1468.33 Q1869.44 1459.58 1872.49 1455 Q1875.57 1450.39 1881.38 1450.39 Z\" fill=\"#000000\" fill-rule=\"evenodd\" fill-opacity=\"1\" /><path clip-path=\"url(#clip480)\" d=\"M1901.54 1479.7 L1906.43 1479.7 L1906.43 1485.58 L1901.54 1485.58 L1901.54 1479.7 Z\" fill=\"#000000\" fill-rule=\"evenodd\" fill-opacity=\"1\" /><path clip-path=\"url(#clip480)\" d=\"M1926.61 1454.1 Q1923 1454.1 1921.17 1457.66 Q1919.37 1461.2 1919.37 1468.33 Q1919.37 1475.44 1921.17 1479.01 Q1923 1482.55 1926.61 1482.55 Q1930.25 1482.55 1932.05 1479.01 Q1933.88 1475.44 1933.88 1468.33 Q1933.88 1461.2 1932.05 1457.66 Q1930.25 1454.1 1926.61 1454.1 M1926.61 1450.39 Q1932.42 1450.39 1935.48 1455 Q1938.56 1459.58 1938.56 1468.33 Q1938.56 1477.06 1935.48 1481.67 Q1932.42 1486.25 1926.61 1486.25 Q1920.8 1486.25 1917.73 1481.67 Q1914.67 1477.06 1914.67 1468.33 Q1914.67 1459.58 1917.73 1455 Q1920.8 1450.39 1926.61 1450.39 Z\" fill=\"#000000\" fill-rule=\"evenodd\" fill-opacity=\"1\" /><path clip-path=\"url(#clip480)\" d=\"M1082.26 1533.76 L1082.26 1539.24 Q1079.78 1537.87 1077.26 1537.2 Q1074.78 1536.5 1072.23 1536.5 Q1066.54 1536.5 1063.38 1540.13 Q1060.23 1543.73 1060.23 1550.25 Q1060.23 1556.78 1063.38 1560.4 Q1066.54 1564 1072.23 1564 Q1074.78 1564 1077.26 1563.33 Q1079.78 1562.63 1082.26 1561.26 L1082.26 1566.68 Q1079.81 1567.82 1077.17 1568.39 Q1074.56 1568.97 1071.6 1568.97 Q1063.54 1568.97 1058.8 1563.91 Q1054.06 1558.85 1054.06 1550.25 Q1054.06 1541.53 1058.83 1536.53 Q1063.64 1531.54 1071.98 1531.54 Q1074.68 1531.54 1077.26 1532.11 Q1079.84 1532.65 1082.26 1533.76 Z\" fill=\"#000000\" fill-rule=\"evenodd\" fill-opacity=\"1\" /><path clip-path=\"url(#clip480)\" d=\"M1122.08 1546.53 L1122.08 1568.04 L1116.22 1568.04 L1116.22 1546.72 Q1116.22 1541.66 1114.25 1539.14 Q1112.27 1536.63 1108.33 1536.63 Q1103.58 1536.63 1100.85 1539.65 Q1098.11 1542.68 1098.11 1547.9 L1098.11 1568.04 L1092.22 1568.04 L1092.22 1518.52 L1098.11 1518.52 L1098.11 1537.93 Q1100.21 1534.72 1103.04 1533.13 Q1105.91 1531.54 1109.63 1531.54 Q1115.77 1531.54 1118.92 1535.36 Q1122.08 1539.14 1122.08 1546.53 Z\" fill=\"#000000\" fill-rule=\"evenodd\" fill-opacity=\"1\" /><path clip-path=\"url(#clip480)\" d=\"M1149.96 1550.12 Q1142.86 1550.12 1140.12 1551.75 Q1137.39 1553.37 1137.39 1557.29 Q1137.39 1560.4 1139.42 1562.25 Q1141.49 1564.07 1145.02 1564.07 Q1149.89 1564.07 1152.82 1560.63 Q1155.78 1557.16 1155.78 1551.43 L1155.78 1550.12 L1149.96 1550.12 M1161.64 1547.71 L1161.64 1568.04 L1155.78 1568.04 L1155.78 1562.63 Q1153.78 1565.88 1150.79 1567.44 Q1147.79 1568.97 1143.46 1568.97 Q1137.99 1568.97 1134.74 1565.91 Q1131.53 1562.82 1131.53 1557.67 Q1131.53 1551.65 1135.54 1548.6 Q1139.58 1545.54 1147.57 1545.54 L1155.78 1545.54 L1155.78 1544.97 Q1155.78 1540.93 1153.11 1538.73 Q1150.47 1536.5 1145.66 1536.5 Q1142.61 1536.5 1139.71 1537.23 Q1136.81 1537.97 1134.14 1539.43 L1134.14 1534.02 Q1137.35 1532.78 1140.38 1532.17 Q1143.4 1531.54 1146.27 1531.54 Q1154 1531.54 1157.82 1535.55 Q1161.64 1539.56 1161.64 1547.71 Z\" fill=\"#000000\" fill-rule=\"evenodd\" fill-opacity=\"1\" /><path clip-path=\"url(#clip480)\" d=\"M1173.7 1532.4 L1179.56 1532.4 L1179.56 1568.04 L1173.7 1568.04 L1173.7 1532.4 M1173.7 1518.52 L1179.56 1518.52 L1179.56 1525.93 L1173.7 1525.93 L1173.7 1518.52 Z\" fill=\"#000000\" fill-rule=\"evenodd\" fill-opacity=\"1\" /><path clip-path=\"url(#clip480)\" d=\"M1221.44 1546.53 L1221.44 1568.04 L1215.59 1568.04 L1215.59 1546.72 Q1215.59 1541.66 1213.61 1539.14 Q1211.64 1536.63 1207.69 1536.63 Q1202.95 1536.63 1200.21 1539.65 Q1197.48 1542.68 1197.48 1547.9 L1197.48 1568.04 L1191.59 1568.04 L1191.59 1532.4 L1197.48 1532.4 L1197.48 1537.93 Q1199.58 1534.72 1202.41 1533.13 Q1205.28 1531.54 1209 1531.54 Q1215.14 1531.54 1218.29 1535.36 Q1221.44 1539.14 1221.44 1546.53 Z\" fill=\"#000000\" fill-rule=\"evenodd\" fill-opacity=\"1\" /><path clip-path=\"url(#clip480)\" d=\"M1253.85 1518.52 L1259.7 1518.52 L1259.7 1568.04 L1253.85 1568.04 L1253.85 1518.52 Z\" fill=\"#000000\" fill-rule=\"evenodd\" fill-opacity=\"1\" /><path clip-path=\"url(#clip480)\" d=\"M1302.45 1548.76 L1302.45 1551.62 L1275.52 1551.62 Q1275.9 1557.67 1279.15 1560.85 Q1282.43 1564 1288.25 1564 Q1291.63 1564 1294.78 1563.17 Q1297.96 1562.35 1301.08 1560.69 L1301.08 1566.23 Q1297.93 1567.57 1294.62 1568.27 Q1291.31 1568.97 1287.9 1568.97 Q1279.37 1568.97 1274.38 1564 Q1269.41 1559.04 1269.41 1550.57 Q1269.41 1541.82 1274.12 1536.69 Q1278.86 1531.54 1286.88 1531.54 Q1294.08 1531.54 1298.25 1536.18 Q1302.45 1540.8 1302.45 1548.76 M1296.59 1547.04 Q1296.53 1542.23 1293.89 1539.37 Q1291.28 1536.5 1286.95 1536.5 Q1282.05 1536.5 1279.09 1539.27 Q1276.16 1542.04 1275.71 1547.07 L1296.59 1547.04 Z\" fill=\"#000000\" fill-rule=\"evenodd\" fill-opacity=\"1\" /><path clip-path=\"url(#clip480)\" d=\"M1341.69 1546.53 L1341.69 1568.04 L1335.84 1568.04 L1335.84 1546.72 Q1335.84 1541.66 1333.86 1539.14 Q1331.89 1536.63 1327.94 1536.63 Q1323.2 1536.63 1320.46 1539.65 Q1317.73 1542.68 1317.73 1547.9 L1317.73 1568.04 L1311.84 1568.04 L1311.84 1532.4 L1317.73 1532.4 L1317.73 1537.93 Q1319.83 1534.72 1322.66 1533.13 Q1325.52 1531.54 1329.25 1531.54 Q1335.39 1531.54 1338.54 1535.36 Q1341.69 1539.14 1341.69 1546.53 Z\" fill=\"#000000\" fill-rule=\"evenodd\" fill-opacity=\"1\" /><path clip-path=\"url(#clip480)\" d=\"M1376.83 1549.81 Q1376.83 1543.44 1374.19 1539.94 Q1371.58 1536.44 1366.84 1536.44 Q1362.13 1536.44 1359.48 1539.94 Q1356.87 1543.44 1356.87 1549.81 Q1356.87 1556.14 1359.48 1559.64 Q1362.13 1563.14 1366.84 1563.14 Q1371.58 1563.14 1374.19 1559.64 Q1376.83 1556.14 1376.83 1549.81 M1382.69 1563.62 Q1382.69 1572.72 1378.65 1577.15 Q1374.6 1581.6 1366.26 1581.6 Q1363.18 1581.6 1360.44 1581.13 Q1357.7 1580.68 1355.12 1579.72 L1355.12 1574.03 Q1357.7 1575.43 1360.22 1576.1 Q1362.73 1576.76 1365.34 1576.76 Q1371.1 1576.76 1373.97 1573.74 Q1376.83 1570.75 1376.83 1564.67 L1376.83 1561.77 Q1375.02 1564.92 1372.18 1566.48 Q1369.35 1568.04 1365.4 1568.04 Q1358.85 1568.04 1354.84 1563.05 Q1350.83 1558.05 1350.83 1549.81 Q1350.83 1541.53 1354.84 1536.53 Q1358.85 1531.54 1365.4 1531.54 Q1369.35 1531.54 1372.18 1533.1 Q1375.02 1534.66 1376.83 1537.81 L1376.83 1532.4 L1382.69 1532.4 L1382.69 1563.62 Z\" fill=\"#000000\" fill-rule=\"evenodd\" fill-opacity=\"1\" /><path clip-path=\"url(#clip480)\" d=\"M1400.54 1522.27 L1400.54 1532.4 L1412.61 1532.4 L1412.61 1536.95 L1400.54 1536.95 L1400.54 1556.3 Q1400.54 1560.66 1401.72 1561.9 Q1402.93 1563.14 1406.59 1563.14 L1412.61 1563.14 L1412.61 1568.04 L1406.59 1568.04 Q1399.81 1568.04 1397.23 1565.53 Q1394.66 1562.98 1394.66 1556.3 L1394.66 1536.95 L1390.36 1536.95 L1390.36 1532.4 L1394.66 1532.4 L1394.66 1522.27 L1400.54 1522.27 Z\" fill=\"#000000\" fill-rule=\"evenodd\" fill-opacity=\"1\" /><path clip-path=\"url(#clip480)\" d=\"M1449.94 1546.53 L1449.94 1568.04 L1444.09 1568.04 L1444.09 1546.72 Q1444.09 1541.66 1442.11 1539.14 Q1440.14 1536.63 1436.19 1536.63 Q1431.45 1536.63 1428.71 1539.65 Q1425.97 1542.68 1425.97 1547.9 L1425.97 1568.04 L1420.09 1568.04 L1420.09 1518.52 L1425.97 1518.52 L1425.97 1537.93 Q1428.08 1534.72 1430.91 1533.13 Q1433.77 1531.54 1437.5 1531.54 Q1443.64 1531.54 1446.79 1535.36 Q1449.94 1539.14 1449.94 1546.53 Z\" fill=\"#000000\" fill-rule=\"evenodd\" fill-opacity=\"1\" /><path clip-path=\"url(#clip480)\" d=\"M1482.6 1520.52 L1491.26 1520.52 L1512.33 1560.28 L1512.33 1520.52 L1518.56 1520.52 L1518.56 1568.04 L1509.91 1568.04 L1488.84 1528.29 L1488.84 1568.04 L1482.6 1568.04 L1482.6 1520.52 Z\" fill=\"#000000\" fill-rule=\"evenodd\" fill-opacity=\"1\" /><polyline clip-path=\"url(#clip482)\" style=\"stroke:#000000; stroke-linecap:butt; stroke-linejoin:round; stroke-width:2; stroke-opacity:0.1; fill:none\" points=\"\n",
       "  219.866,1123.52 2352.76,1123.52 \n",
       "  \"/>\n",
       "<polyline clip-path=\"url(#clip482)\" style=\"stroke:#000000; stroke-linecap:butt; stroke-linejoin:round; stroke-width:2; stroke-opacity:0.1; fill:none\" points=\"\n",
       "  219.866,775.906 2352.76,775.906 \n",
       "  \"/>\n",
       "<polyline clip-path=\"url(#clip482)\" style=\"stroke:#000000; stroke-linecap:butt; stroke-linejoin:round; stroke-width:2; stroke-opacity:0.1; fill:none\" points=\"\n",
       "  219.866,428.288 2352.76,428.288 \n",
       "  \"/>\n",
       "<polyline clip-path=\"url(#clip482)\" style=\"stroke:#000000; stroke-linecap:butt; stroke-linejoin:round; stroke-width:2; stroke-opacity:0.1; fill:none\" points=\"\n",
       "  219.866,80.6693 2352.76,80.6693 \n",
       "  \"/>\n",
       "<polyline clip-path=\"url(#clip480)\" style=\"stroke:#000000; stroke-linecap:butt; stroke-linejoin:round; stroke-width:4; stroke-opacity:1; fill:none\" points=\"\n",
       "  219.866,1423.18 219.866,47.2441 \n",
       "  \"/>\n",
       "<polyline clip-path=\"url(#clip480)\" style=\"stroke:#000000; stroke-linecap:butt; stroke-linejoin:round; stroke-width:4; stroke-opacity:1; fill:none\" points=\"\n",
       "  219.866,1123.52 238.764,1123.52 \n",
       "  \"/>\n",
       "<polyline clip-path=\"url(#clip480)\" style=\"stroke:#000000; stroke-linecap:butt; stroke-linejoin:round; stroke-width:4; stroke-opacity:1; fill:none\" points=\"\n",
       "  219.866,775.906 238.764,775.906 \n",
       "  \"/>\n",
       "<polyline clip-path=\"url(#clip480)\" style=\"stroke:#000000; stroke-linecap:butt; stroke-linejoin:round; stroke-width:4; stroke-opacity:1; fill:none\" points=\"\n",
       "  219.866,428.288 238.764,428.288 \n",
       "  \"/>\n",
       "<polyline clip-path=\"url(#clip480)\" style=\"stroke:#000000; stroke-linecap:butt; stroke-linejoin:round; stroke-width:4; stroke-opacity:1; fill:none\" points=\"\n",
       "  219.866,80.6693 238.764,80.6693 \n",
       "  \"/>\n",
       "<path clip-path=\"url(#clip480)\" d=\"M126.205 1109.32 Q122.593 1109.32 120.765 1112.89 Q118.959 1116.43 118.959 1123.56 Q118.959 1130.67 120.765 1134.23 Q122.593 1137.77 126.205 1137.77 Q129.839 1137.77 131.644 1134.23 Q133.473 1130.67 133.473 1123.56 Q133.473 1116.43 131.644 1112.89 Q129.839 1109.32 126.205 1109.32 M126.205 1105.62 Q132.015 1105.62 135.07 1110.23 Q138.149 1114.81 138.149 1123.56 Q138.149 1132.29 135.07 1136.89 Q132.015 1141.48 126.205 1141.48 Q120.394 1141.48 117.316 1136.89 Q114.26 1132.29 114.26 1123.56 Q114.26 1114.81 117.316 1110.23 Q120.394 1105.62 126.205 1105.62 Z\" fill=\"#000000\" fill-rule=\"evenodd\" fill-opacity=\"1\" /><path clip-path=\"url(#clip480)\" d=\"M146.366 1134.92 L151.251 1134.92 L151.251 1140.8 L146.366 1140.8 L146.366 1134.92 Z\" fill=\"#000000\" fill-rule=\"evenodd\" fill-opacity=\"1\" /><path clip-path=\"url(#clip480)\" d=\"M174.283 1110.32 L162.477 1128.77 L174.283 1128.77 L174.283 1110.32 M173.056 1106.24 L178.936 1106.24 L178.936 1128.77 L183.866 1128.77 L183.866 1132.66 L178.936 1132.66 L178.936 1140.8 L174.283 1140.8 L174.283 1132.66 L158.681 1132.66 L158.681 1128.14 L173.056 1106.24 Z\" fill=\"#000000\" fill-rule=\"evenodd\" fill-opacity=\"1\" /><path clip-path=\"url(#clip480)\" d=\"M126.529 761.705 Q122.918 761.705 121.089 765.27 Q119.283 768.811 119.283 775.941 Q119.283 783.047 121.089 786.612 Q122.918 790.154 126.529 790.154 Q130.163 790.154 131.968 786.612 Q133.797 783.047 133.797 775.941 Q133.797 768.811 131.968 765.27 Q130.163 761.705 126.529 761.705 M126.529 758.001 Q132.339 758.001 135.394 762.608 Q138.473 767.191 138.473 775.941 Q138.473 784.668 135.394 789.274 Q132.339 793.857 126.529 793.857 Q120.718 793.857 117.64 789.274 Q114.584 784.668 114.584 775.941 Q114.584 767.191 117.64 762.608 Q120.718 758.001 126.529 758.001 Z\" fill=\"#000000\" fill-rule=\"evenodd\" fill-opacity=\"1\" /><path clip-path=\"url(#clip480)\" d=\"M146.691 787.306 L151.575 787.306 L151.575 793.186 L146.691 793.186 L146.691 787.306 Z\" fill=\"#000000\" fill-rule=\"evenodd\" fill-opacity=\"1\" /><path clip-path=\"url(#clip480)\" d=\"M172.339 774.043 Q169.19 774.043 167.339 776.195 Q165.51 778.348 165.51 782.098 Q165.51 785.825 167.339 788.001 Q169.19 790.154 172.339 790.154 Q175.487 790.154 177.315 788.001 Q179.167 785.825 179.167 782.098 Q179.167 778.348 177.315 776.195 Q175.487 774.043 172.339 774.043 M181.621 759.39 L181.621 763.649 Q179.862 762.816 178.056 762.376 Q176.274 761.936 174.514 761.936 Q169.885 761.936 167.431 765.061 Q165.001 768.186 164.653 774.506 Q166.019 772.492 168.079 771.427 Q170.139 770.339 172.616 770.339 Q177.825 770.339 180.834 773.51 Q183.866 776.658 183.866 782.098 Q183.866 787.422 180.718 790.64 Q177.57 793.857 172.339 793.857 Q166.343 793.857 163.172 789.274 Q160.001 784.668 160.001 775.941 Q160.001 767.746 163.89 762.885 Q167.778 758.001 174.329 758.001 Q176.089 758.001 177.871 758.348 Q179.676 758.696 181.621 759.39 Z\" fill=\"#000000\" fill-rule=\"evenodd\" fill-opacity=\"1\" /><path clip-path=\"url(#clip480)\" d=\"M126.783 414.086 Q123.172 414.086 121.343 417.651 Q119.538 421.193 119.538 428.322 Q119.538 435.429 121.343 438.994 Q123.172 442.535 126.783 442.535 Q130.417 442.535 132.223 438.994 Q134.052 435.429 134.052 428.322 Q134.052 421.193 132.223 417.651 Q130.417 414.086 126.783 414.086 M126.783 410.383 Q132.593 410.383 135.649 414.989 Q138.728 419.572 138.728 428.322 Q138.728 437.049 135.649 441.656 Q132.593 446.239 126.783 446.239 Q120.973 446.239 117.894 441.656 Q114.839 437.049 114.839 428.322 Q114.839 419.572 117.894 414.989 Q120.973 410.383 126.783 410.383 Z\" fill=\"#000000\" fill-rule=\"evenodd\" fill-opacity=\"1\" /><path clip-path=\"url(#clip480)\" d=\"M146.945 439.688 L151.829 439.688 L151.829 445.568 L146.945 445.568 L146.945 439.688 Z\" fill=\"#000000\" fill-rule=\"evenodd\" fill-opacity=\"1\" /><path clip-path=\"url(#clip480)\" d=\"M172.014 429.156 Q168.681 429.156 166.76 430.938 Q164.862 432.721 164.862 435.845 Q164.862 438.97 166.76 440.753 Q168.681 442.535 172.014 442.535 Q175.348 442.535 177.269 440.753 Q179.19 438.947 179.19 435.845 Q179.19 432.721 177.269 430.938 Q175.371 429.156 172.014 429.156 M167.339 427.165 Q164.329 426.424 162.64 424.364 Q160.973 422.304 160.973 419.341 Q160.973 415.197 163.913 412.79 Q166.876 410.383 172.014 410.383 Q177.176 410.383 180.116 412.79 Q183.056 415.197 183.056 419.341 Q183.056 422.304 181.366 424.364 Q179.7 426.424 176.714 427.165 Q180.093 427.952 181.968 430.244 Q183.866 432.535 183.866 435.845 Q183.866 440.869 180.788 443.554 Q177.732 446.239 172.014 446.239 Q166.297 446.239 163.218 443.554 Q160.163 440.869 160.163 435.845 Q160.163 432.535 162.061 430.244 Q163.959 427.952 167.339 427.165 M165.626 419.781 Q165.626 422.466 167.292 423.971 Q168.982 425.475 172.014 425.475 Q175.024 425.475 176.714 423.971 Q178.426 422.466 178.426 419.781 Q178.426 417.096 176.714 415.591 Q175.024 414.086 172.014 414.086 Q168.982 414.086 167.292 415.591 Q165.626 417.096 165.626 419.781 Z\" fill=\"#000000\" fill-rule=\"evenodd\" fill-opacity=\"1\" /><path clip-path=\"url(#clip480)\" d=\"M117.501 94.0141 L125.14 94.0141 L125.14 67.6485 L116.83 69.3152 L116.83 65.0559 L125.093 63.3893 L129.769 63.3893 L129.769 94.0141 L137.408 94.0141 L137.408 97.9493 L117.501 97.9493 L117.501 94.0141 Z\" fill=\"#000000\" fill-rule=\"evenodd\" fill-opacity=\"1\" /><path clip-path=\"url(#clip480)\" d=\"M146.853 92.0697 L151.737 92.0697 L151.737 97.9493 L146.853 97.9493 L146.853 92.0697 Z\" fill=\"#000000\" fill-rule=\"evenodd\" fill-opacity=\"1\" /><path clip-path=\"url(#clip480)\" d=\"M171.922 66.468 Q168.311 66.468 166.482 70.0327 Q164.677 73.5744 164.677 80.704 Q164.677 87.8104 166.482 91.3752 Q168.311 94.9169 171.922 94.9169 Q175.556 94.9169 177.362 91.3752 Q179.19 87.8104 179.19 80.704 Q179.19 73.5744 177.362 70.0327 Q175.556 66.468 171.922 66.468 M171.922 62.7643 Q177.732 62.7643 180.788 67.3707 Q183.866 71.954 183.866 80.704 Q183.866 89.4308 180.788 94.0373 Q177.732 98.6206 171.922 98.6206 Q166.112 98.6206 163.033 94.0373 Q159.978 89.4308 159.978 80.704 Q159.978 71.954 163.033 67.3707 Q166.112 62.7643 171.922 62.7643 Z\" fill=\"#000000\" fill-rule=\"evenodd\" fill-opacity=\"1\" /><path clip-path=\"url(#clip480)\" d=\"M16.4842 1067.95 L16.4842 1061.52 L35.9632 1061.52 L35.9632 1038.16 L16.4842 1038.16 L16.4842 1031.73 L64.0042 1031.73 L64.0042 1038.16 L41.3741 1038.16 L41.3741 1061.52 L64.0042 1061.52 L64.0042 1067.95 L16.4842 1067.95 Z\" fill=\"#000000\" fill-rule=\"evenodd\" fill-opacity=\"1\" /><path clip-path=\"url(#clip480)\" d=\"M46.0847 1002.99 Q46.0847 1010.08 47.7079 1012.82 Q49.3312 1015.56 53.2461 1015.56 Q56.3653 1015.56 58.2114 1013.52 Q60.0256 1011.45 60.0256 1007.92 Q60.0256 1003.05 56.5881 1000.12 Q53.1188 997.161 47.3897 997.161 L46.0847 997.161 L46.0847 1002.99 M43.6657 991.304 L64.0042 991.304 L64.0042 997.161 L58.5933 997.161 Q61.8398 999.166 63.3994 1002.16 Q64.9272 1005.15 64.9272 1009.48 Q64.9272 1014.95 61.8716 1018.2 Q58.7843 1021.41 53.6281 1021.41 Q47.6125 1021.41 44.5569 1017.4 Q41.5014 1013.36 41.5014 1005.37 L41.5014 997.161 L40.9285 997.161 Q36.8862 997.161 34.6901 999.834 Q32.4621 1002.48 32.4621 1007.28 Q32.4621 1010.34 33.1941 1013.23 Q33.9262 1016.13 35.3903 1018.8 L29.9795 1018.8 Q28.7381 1015.59 28.1334 1012.57 Q27.4968 1009.54 27.4968 1006.68 Q27.4968 998.943 31.5072 995.124 Q35.5176 991.304 43.6657 991.304 Z\" fill=\"#000000\" fill-rule=\"evenodd\" fill-opacity=\"1\" /><path clip-path=\"url(#clip480)\" d=\"M35.1993 951.487 Q31.2526 949.291 29.3747 946.235 Q27.4968 943.18 27.4968 939.042 Q27.4968 933.472 31.4117 930.448 Q35.2948 927.424 42.4881 927.424 L64.0042 927.424 L64.0042 933.313 L42.679 933.313 Q37.5546 933.313 35.072 935.127 Q32.5894 936.941 32.5894 940.665 Q32.5894 945.217 35.6131 947.858 Q38.6368 950.5 43.8567 950.5 L64.0042 950.5 L64.0042 956.388 L42.679 956.388 Q37.5228 956.388 35.072 958.203 Q32.5894 960.017 32.5894 963.804 Q32.5894 968.292 35.6449 970.934 Q38.6686 973.576 43.8567 973.576 L64.0042 973.576 L64.0042 979.464 L28.3562 979.464 L28.3562 973.576 L33.8944 973.576 Q30.616 971.571 29.0564 968.77 Q27.4968 965.969 27.4968 962.118 Q27.4968 958.235 29.4702 955.529 Q31.4436 952.792 35.1993 951.487 Z\" fill=\"#000000\" fill-rule=\"evenodd\" fill-opacity=\"1\" /><path clip-path=\"url(#clip480)\" d=\"M28.3562 915.743 L28.3562 909.887 L64.0042 909.887 L64.0042 915.743 L28.3562 915.743 M14.479 915.743 L14.479 909.887 L21.895 909.887 L21.895 915.743 L14.479 915.743 Z\" fill=\"#000000\" fill-rule=\"evenodd\" fill-opacity=\"1\" /><path clip-path=\"url(#clip480)\" d=\"M14.479 897.633 L14.479 891.777 L64.0042 891.777 L64.0042 897.633 L14.479 897.633 Z\" fill=\"#000000\" fill-rule=\"evenodd\" fill-opacity=\"1\" /><path clip-path=\"url(#clip480)\" d=\"M18.2347 873.73 L28.3562 873.73 L28.3562 861.667 L32.9077 861.667 L32.9077 873.73 L52.2594 873.73 Q56.6199 873.73 57.8613 872.552 Q59.1026 871.343 59.1026 867.682 L59.1026 861.667 L64.0042 861.667 L64.0042 867.682 Q64.0042 874.462 61.4897 877.04 Q58.9434 879.618 52.2594 879.618 L32.9077 879.618 L32.9077 883.915 L28.3562 883.915 L28.3562 879.618 L18.2347 879.618 L18.2347 873.73 Z\" fill=\"#000000\" fill-rule=\"evenodd\" fill-opacity=\"1\" /><path clip-path=\"url(#clip480)\" d=\"M32.4621 840.151 Q32.4621 844.861 36.1542 847.599 Q39.8145 850.336 46.212 850.336 Q52.6095 850.336 56.3017 847.63 Q59.9619 844.893 59.9619 840.151 Q59.9619 835.472 56.2698 832.735 Q52.5777 829.997 46.212 829.997 Q39.8781 829.997 36.186 832.735 Q32.4621 835.472 32.4621 840.151 M27.4968 840.151 Q27.4968 832.512 32.4621 828.151 Q37.4273 823.791 46.212 823.791 Q54.9649 823.791 59.9619 828.151 Q64.9272 832.512 64.9272 840.151 Q64.9272 847.821 59.9619 852.182 Q54.9649 856.511 46.212 856.511 Q37.4273 856.511 32.4621 852.182 Q27.4968 847.821 27.4968 840.151 Z\" fill=\"#000000\" fill-rule=\"evenodd\" fill-opacity=\"1\" /><path clip-path=\"url(#clip480)\" d=\"M42.4881 784.451 L64.0042 784.451 L64.0042 790.307 L42.679 790.307 Q37.6183 790.307 35.1038 792.281 Q32.5894 794.254 32.5894 798.201 Q32.5894 802.943 35.6131 805.68 Q38.6368 808.418 43.8567 808.418 L64.0042 808.418 L64.0042 814.306 L28.3562 814.306 L28.3562 808.418 L33.8944 808.418 Q30.6797 806.317 29.0883 803.484 Q27.4968 800.62 27.4968 796.896 Q27.4968 790.753 31.3163 787.602 Q35.1038 784.451 42.4881 784.451 Z\" fill=\"#000000\" fill-rule=\"evenodd\" fill-opacity=\"1\" /><path clip-path=\"url(#clip480)\" d=\"M28.3562 772.77 L28.3562 766.913 L64.0042 766.913 L64.0042 772.77 L28.3562 772.77 M14.479 772.77 L14.479 766.913 L21.895 766.913 L21.895 772.77 L14.479 772.77 Z\" fill=\"#000000\" fill-rule=\"evenodd\" fill-opacity=\"1\" /><path clip-path=\"url(#clip480)\" d=\"M46.0847 738.458 Q46.0847 745.556 47.7079 748.293 Q49.3312 751.031 53.2461 751.031 Q56.3653 751.031 58.2114 748.994 Q60.0256 746.925 60.0256 743.392 Q60.0256 738.522 56.5881 735.594 Q53.1188 732.634 47.3897 732.634 L46.0847 732.634 L46.0847 738.458 M43.6657 726.777 L64.0042 726.777 L64.0042 732.634 L58.5933 732.634 Q61.8398 734.639 63.3994 737.631 Q64.9272 740.623 64.9272 744.951 Q64.9272 750.426 61.8716 753.673 Q58.7843 756.887 53.6281 756.887 Q47.6125 756.887 44.5569 752.877 Q41.5014 748.835 41.5014 740.846 L41.5014 732.634 L40.9285 732.634 Q36.8862 732.634 34.6901 735.307 Q32.4621 737.949 32.4621 742.755 Q32.4621 745.811 33.1941 748.707 Q33.9262 751.604 35.3903 754.277 L29.9795 754.277 Q28.7381 751.063 28.1334 748.039 Q27.4968 745.015 27.4968 742.151 Q27.4968 734.416 31.5072 730.597 Q35.5176 726.777 43.6657 726.777 Z\" fill=\"#000000\" fill-rule=\"evenodd\" fill-opacity=\"1\" /><path clip-path=\"url(#clip480)\" d=\"M42.4881 685.082 L64.0042 685.082 L64.0042 690.938 L42.679 690.938 Q37.6183 690.938 35.1038 692.912 Q32.5894 694.885 32.5894 698.832 Q32.5894 703.574 35.6131 706.312 Q38.6368 709.049 43.8567 709.049 L64.0042 709.049 L64.0042 714.937 L28.3562 714.937 L28.3562 709.049 L33.8944 709.049 Q30.6797 706.948 29.0883 704.115 Q27.4968 701.251 27.4968 697.527 Q27.4968 691.384 31.3163 688.233 Q35.1038 685.082 42.4881 685.082 Z\" fill=\"#000000\" fill-rule=\"evenodd\" fill-opacity=\"1\" /><path clip-path=\"url(#clip480)\" d=\"M29.4065 629.955 L34.9447 629.955 Q33.6716 632.438 33.035 635.111 Q32.3984 637.785 32.3984 640.649 Q32.3984 645.01 33.7352 647.206 Q35.072 649.37 37.7456 649.37 Q39.7826 649.37 40.9603 647.811 Q42.1061 646.251 43.1565 641.541 L43.6021 639.535 Q44.9389 633.297 47.3897 630.687 Q49.8086 628.045 54.1691 628.045 Q59.1344 628.045 62.0308 631.992 Q64.9272 635.907 64.9272 642.782 Q64.9272 645.646 64.3543 648.766 Q63.8132 651.853 62.6992 655.291 L56.6518 655.291 Q58.3387 652.044 59.198 648.893 Q60.0256 645.742 60.0256 642.655 Q60.0256 638.517 58.6251 636.289 Q57.1929 634.061 54.6147 634.061 Q52.2276 634.061 50.9545 635.684 Q49.6813 637.276 48.5037 642.718 L48.0262 644.755 Q46.8804 650.198 44.5251 652.617 Q42.138 655.036 38.0002 655.036 Q32.9713 655.036 30.2341 651.471 Q27.4968 647.906 27.4968 641.35 Q27.4968 638.103 27.9743 635.239 Q28.4517 632.374 29.4065 629.955 Z\" fill=\"#000000\" fill-rule=\"evenodd\" fill-opacity=\"1\" /><path clip-path=\"url(#clip480)\" d=\"M58.657 613.054 L77.5631 613.054 L77.5631 618.942 L28.3562 618.942 L28.3562 613.054 L33.7671 613.054 Q30.5842 611.208 29.0564 608.407 Q27.4968 605.574 27.4968 601.659 Q27.4968 595.166 32.6531 591.124 Q37.8093 587.05 46.212 587.05 Q54.6147 587.05 59.771 591.124 Q64.9272 595.166 64.9272 601.659 Q64.9272 605.574 63.3994 608.407 Q61.8398 611.208 58.657 613.054 M46.212 593.129 Q39.7508 593.129 36.0905 595.803 Q32.3984 598.445 32.3984 603.092 Q32.3984 607.739 36.0905 610.412 Q39.7508 613.054 46.212 613.054 Q52.6732 613.054 56.3653 610.412 Q60.0256 607.739 60.0256 603.092 Q60.0256 598.445 56.3653 595.803 Q52.6732 593.129 46.212 593.129 Z\" fill=\"#000000\" fill-rule=\"evenodd\" fill-opacity=\"1\" /><path clip-path=\"url(#clip480)\" d=\"M46.0847 561.142 Q46.0847 568.239 47.7079 570.977 Q49.3312 573.714 53.2461 573.714 Q56.3653 573.714 58.2114 571.677 Q60.0256 569.608 60.0256 566.075 Q60.0256 561.205 56.5881 558.277 Q53.1188 555.317 47.3897 555.317 L46.0847 555.317 L46.0847 561.142 M43.6657 549.461 L64.0042 549.461 L64.0042 555.317 L58.5933 555.317 Q61.8398 557.322 63.3994 560.314 Q64.9272 563.306 64.9272 567.635 Q64.9272 573.109 61.8716 576.356 Q58.7843 579.57 53.6281 579.57 Q47.6125 579.57 44.5569 575.56 Q41.5014 571.518 41.5014 563.529 L41.5014 555.317 L40.9285 555.317 Q36.8862 555.317 34.6901 557.991 Q32.4621 560.632 32.4621 565.439 Q32.4621 568.494 33.1941 571.391 Q33.9262 574.287 35.3903 576.961 L29.9795 576.961 Q28.7381 573.746 28.1334 570.722 Q27.4968 567.698 27.4968 564.834 Q27.4968 557.099 31.5072 553.28 Q35.5176 549.461 43.6657 549.461 Z\" fill=\"#000000\" fill-rule=\"evenodd\" fill-opacity=\"1\" /><path clip-path=\"url(#clip480)\" d=\"M33.8307 516.741 Q33.2578 517.728 33.0032 518.905 Q32.7167 520.051 32.7167 521.452 Q32.7167 526.417 35.9632 529.09 Q39.1779 531.732 45.2253 531.732 L64.0042 531.732 L64.0042 537.62 L28.3562 537.62 L28.3562 531.732 L33.8944 531.732 Q30.6479 529.886 29.0883 526.926 Q27.4968 523.966 27.4968 519.733 Q27.4968 519.128 27.5923 518.396 Q27.656 517.664 27.8151 516.773 L33.8307 516.741 Z\" fill=\"#000000\" fill-rule=\"evenodd\" fill-opacity=\"1\" /><path clip-path=\"url(#clip480)\" d=\"M29.4065 487.872 L34.9447 487.872 Q33.6716 490.355 33.035 493.029 Q32.3984 495.702 32.3984 498.567 Q32.3984 502.927 33.7352 505.124 Q35.072 507.288 37.7456 507.288 Q39.7826 507.288 40.9603 505.728 Q42.1061 504.169 43.1565 499.458 L43.6021 497.453 Q44.9389 491.214 47.3897 488.604 Q49.8086 485.963 54.1691 485.963 Q59.1344 485.963 62.0308 489.909 Q64.9272 493.824 64.9272 500.699 Q64.9272 503.564 64.3543 506.683 Q63.8132 509.77 62.6992 513.208 L56.6518 513.208 Q58.3387 509.961 59.198 506.81 Q60.0256 503.659 60.0256 500.572 Q60.0256 496.434 58.6251 494.206 Q57.1929 491.978 54.6147 491.978 Q52.2276 491.978 50.9545 493.602 Q49.6813 495.193 48.5037 500.636 L48.0262 502.673 Q46.8804 508.115 44.5251 510.534 Q42.138 512.953 38.0002 512.953 Q32.9713 512.953 30.2341 509.389 Q27.4968 505.824 27.4968 499.267 Q27.4968 496.021 27.9743 493.156 Q28.4517 490.291 29.4065 487.872 Z\" fill=\"#000000\" fill-rule=\"evenodd\" fill-opacity=\"1\" /><path clip-path=\"url(#clip480)\" d=\"M28.3562 476.637 L28.3562 470.781 L64.0042 470.781 L64.0042 476.637 L28.3562 476.637 M14.479 476.637 L14.479 470.781 L21.895 470.781 L21.895 476.637 L14.479 476.637 Z\" fill=\"#000000\" fill-rule=\"evenodd\" fill-opacity=\"1\" /><path clip-path=\"url(#clip480)\" d=\"M18.2347 452.734 L28.3562 452.734 L28.3562 440.671 L32.9077 440.671 L32.9077 452.734 L52.2594 452.734 Q56.6199 452.734 57.8613 451.556 Q59.1026 450.347 59.1026 446.686 L59.1026 440.671 L64.0042 440.671 L64.0042 446.686 Q64.0042 453.466 61.4897 456.044 Q58.9434 458.622 52.2594 458.622 L32.9077 458.622 L32.9077 462.919 L28.3562 462.919 L28.3562 458.622 L18.2347 458.622 L18.2347 452.734 Z\" fill=\"#000000\" fill-rule=\"evenodd\" fill-opacity=\"1\" /><path clip-path=\"url(#clip480)\" d=\"M67.3143 418.136 Q73.68 420.619 75.6216 422.974 Q77.5631 425.329 77.5631 429.276 L77.5631 433.955 L72.6615 433.955 L72.6615 430.517 Q72.6615 428.098 71.5157 426.762 Q70.3699 425.425 66.1048 423.802 L63.4312 422.751 L28.3562 437.17 L28.3562 430.963 L56.238 419.823 L28.3562 408.683 L28.3562 402.476 L67.3143 418.136 Z\" fill=\"#000000\" fill-rule=\"evenodd\" fill-opacity=\"1\" /><polyline clip-path=\"url(#clip482)\" style=\"stroke:#009af9; stroke-linecap:butt; stroke-linejoin:round; stroke-width:4; stroke-opacity:1; fill:none\" points=\"\n",
       "  280.231,1384.24 481.447,841.085 682.663,623.823 883.879,386.193 1085.1,270.773 1286.31,185.057 1487.53,141.774 1688.74,113.688 1889.96,99.3402 2091.18,90.6445 \n",
       "  2292.39,86.1857 \n",
       "  \"/>\n",
       "<circle clip-path=\"url(#clip482)\" cx=\"280.231\" cy=\"1384.24\" r=\"14\" fill=\"#009af9\" fill-rule=\"evenodd\" fill-opacity=\"1\" stroke=\"#000000\" stroke-opacity=\"1\" stroke-width=\"3.2\"/>\n",
       "<circle clip-path=\"url(#clip482)\" cx=\"481.447\" cy=\"841.085\" r=\"14\" fill=\"#009af9\" fill-rule=\"evenodd\" fill-opacity=\"1\" stroke=\"#000000\" stroke-opacity=\"1\" stroke-width=\"3.2\"/>\n",
       "<circle clip-path=\"url(#clip482)\" cx=\"682.663\" cy=\"623.823\" r=\"14\" fill=\"#009af9\" fill-rule=\"evenodd\" fill-opacity=\"1\" stroke=\"#000000\" stroke-opacity=\"1\" stroke-width=\"3.2\"/>\n",
       "<circle clip-path=\"url(#clip482)\" cx=\"883.879\" cy=\"386.193\" r=\"14\" fill=\"#009af9\" fill-rule=\"evenodd\" fill-opacity=\"1\" stroke=\"#000000\" stroke-opacity=\"1\" stroke-width=\"3.2\"/>\n",
       "<circle clip-path=\"url(#clip482)\" cx=\"1085.1\" cy=\"270.773\" r=\"14\" fill=\"#009af9\" fill-rule=\"evenodd\" fill-opacity=\"1\" stroke=\"#000000\" stroke-opacity=\"1\" stroke-width=\"3.2\"/>\n",
       "<circle clip-path=\"url(#clip482)\" cx=\"1286.31\" cy=\"185.057\" r=\"14\" fill=\"#009af9\" fill-rule=\"evenodd\" fill-opacity=\"1\" stroke=\"#000000\" stroke-opacity=\"1\" stroke-width=\"3.2\"/>\n",
       "<circle clip-path=\"url(#clip482)\" cx=\"1487.53\" cy=\"141.774\" r=\"14\" fill=\"#009af9\" fill-rule=\"evenodd\" fill-opacity=\"1\" stroke=\"#000000\" stroke-opacity=\"1\" stroke-width=\"3.2\"/>\n",
       "<circle clip-path=\"url(#clip482)\" cx=\"1688.74\" cy=\"113.688\" r=\"14\" fill=\"#009af9\" fill-rule=\"evenodd\" fill-opacity=\"1\" stroke=\"#000000\" stroke-opacity=\"1\" stroke-width=\"3.2\"/>\n",
       "<circle clip-path=\"url(#clip482)\" cx=\"1889.96\" cy=\"99.3402\" r=\"14\" fill=\"#009af9\" fill-rule=\"evenodd\" fill-opacity=\"1\" stroke=\"#000000\" stroke-opacity=\"1\" stroke-width=\"3.2\"/>\n",
       "<circle clip-path=\"url(#clip482)\" cx=\"2091.18\" cy=\"90.6445\" r=\"14\" fill=\"#009af9\" fill-rule=\"evenodd\" fill-opacity=\"1\" stroke=\"#000000\" stroke-opacity=\"1\" stroke-width=\"3.2\"/>\n",
       "<circle clip-path=\"url(#clip482)\" cx=\"2292.39\" cy=\"86.1857\" r=\"14\" fill=\"#009af9\" fill-rule=\"evenodd\" fill-opacity=\"1\" stroke=\"#000000\" stroke-opacity=\"1\" stroke-width=\"3.2\"/>\n",
       "</svg>\n"
      ]
     },
     "execution_count": 26,
     "metadata": {},
     "output_type": "execute_result"
    }
   ],
   "source": [
    "sparsity(x) = count(isequal(0), x)/length(x)\n",
    "\n",
    "Ns = 2:12\n",
    "sparsities = Float64[]\n",
    "for N in Ns\n",
    "    H = TransverseFieldIsing(N=N, h=1)\n",
    "    push!(sparsities, sparsity(H))\n",
    "end\n",
    "plot(Ns, sparsities, legend=false, xlab=\"chain length N\", ylab=\"Hamiltonian sparsity\", marker=:circle)"
   ]
  },
  {
   "cell_type": "markdown",
   "metadata": {},
   "source": [
    "For $N\\gtrsim10$ almost all entries are zero! We should get rid of those and store $H$ as a sparse matrix."
   ]
  },
  {
   "cell_type": "markdown",
   "metadata": {},
   "source": [
    "### Building the sparse Hamiltonian"
   ]
  },
  {
   "cell_type": "markdown",
   "metadata": {},
   "source": [
    "Generally, we can bring a dense matrix into a sparse matrix format using the function `sparse`."
   ]
  },
  {
   "cell_type": "code",
   "execution_count": 27,
   "metadata": {},
   "outputs": [
    {
     "data": {
      "text/plain": [
       "16×16 SparseMatrixCSC{Int64, Int64} with 80 stored entries:\n",
       "⢟⣵⠑⢄⠑⢄⠀⠀\n",
       "⠑⢄⢟⣵⠀⠀⠑⢄\n",
       "⠑⢄⠀⠀⢟⣵⠑⢄\n",
       "⠀⠀⠑⢄⠑⢄⢟⣵"
      ]
     },
     "execution_count": 27,
     "metadata": {},
     "output_type": "execute_result"
    }
   ],
   "source": [
    "using SparseArrays\n",
    "H = TransverseFieldIsing(N=4,h=1)\n",
    "H |> sparse"
   ]
  },
  {
   "cell_type": "markdown",
   "metadata": {},
   "source": [
    "Note that in this format, only the 80 non-zero entries are stored (rather than 256 elements).\n",
    "\n",
    "So, how do we have to modify our function `TransverseFieldIsing` to only keep track of non-zero elements during the Hamiltonian construction?\n",
    "\n",
    "It turns out it is as simple as initializing our Hamiltonian, identity, and pauli matrices as sparse matrices!"
   ]
  },
  {
   "cell_type": "code",
   "execution_count": 28,
   "metadata": {},
   "outputs": [
    {
     "data": {
      "text/plain": [
       "TransverseFieldIsing_sparse (generic function with 1 method)"
      ]
     },
     "execution_count": 28,
     "metadata": {},
     "output_type": "execute_result"
    }
   ],
   "source": [
    "function TransverseFieldIsing_sparse(;N,h)\n",
    "    id = [1 0; 0 1] |> sparse\n",
    "    σˣ = [0 1; 1 0] |> sparse\n",
    "    σᶻ = [1 0; 0 -1] |> sparse\n",
    "    \n",
    "    first_term_ops = fill(id, N)\n",
    "    first_term_ops[1] = σᶻ\n",
    "    first_term_ops[2] = σᶻ\n",
    "    \n",
    "    second_term_ops = fill(id, N)\n",
    "    second_term_ops[1] = σˣ\n",
    "    \n",
    "    H = spzeros(Int, 2^N, 2^N) # note the spzeros instead of zeros here\n",
    "    for i in 1:N-1\n",
    "        H -= foldl(⊗, first_term_ops)\n",
    "        first_term_ops = circshift(first_term_ops,1)\n",
    "    end\n",
    "    \n",
    "    for i in 1:N\n",
    "        H -= h*foldl(⊗, second_term_ops)\n",
    "        second_term_ops = circshift(second_term_ops,1)\n",
    "    end\n",
    "    H\n",
    "end"
   ]
  },
  {
   "cell_type": "markdown",
   "metadata": {},
   "source": [
    "We should check that apart from the new type `SparseMatrixCSC` this is still the same Hamiltonian."
   ]
  },
  {
   "cell_type": "code",
   "execution_count": 29,
   "metadata": {},
   "outputs": [],
   "source": [
    "H = TransverseFieldIsing_sparse(N=10, h=1);"
   ]
  },
  {
   "cell_type": "code",
   "execution_count": 30,
   "metadata": {},
   "outputs": [
    {
     "data": {
      "text/plain": [
       "true"
      ]
     },
     "execution_count": 30,
     "metadata": {},
     "output_type": "execute_result"
    }
   ],
   "source": [
    "H_dense = TransverseFieldIsing(N=10, h=1)\n",
    "H ≈ H_dense"
   ]
  },
  {
   "cell_type": "markdown",
   "metadata": {},
   "source": [
    "Great. But is it really faster?"
   ]
  },
  {
   "cell_type": "code",
   "execution_count": 31,
   "metadata": {},
   "outputs": [
    {
     "name": "stdout",
     "output_type": "stream",
     "text": [
      "  0.157434 seconds (353 allocations: 442.682 MiB, 18.92% gc time)\n",
      "  0.001034 seconds (1.06 k allocations: 2.615 MiB)\n"
     ]
    }
   ],
   "source": [
    "@time TransverseFieldIsing(N=10,h=1);\n",
    "@time TransverseFieldIsing_sparse(N=10,h=1);"
   ]
  },
  {
   "cell_type": "markdown",
   "metadata": {},
   "source": [
    "It is *a lot* faster!"
   ]
  },
  {
   "cell_type": "markdown",
   "metadata": {},
   "source": [
    "Alright, let's try to go to larger $N$. While `TransverseFieldIsing` threw an `OutOfMemoryError` for `N=20`, our new function is more efficient:"
   ]
  },
  {
   "cell_type": "code",
   "execution_count": 32,
   "metadata": {},
   "outputs": [
    {
     "name": "stdout",
     "output_type": "stream",
     "text": [
      "  7.362054 seconds (4.55 k allocations: 6.742 GiB, 53.59% gc time)\n"
     ]
    },
    {
     "data": {
      "text/plain": [
       "1048576×1048576 SparseMatrixCSC{Int64, Int64} with 22020096 stored entries:\n",
       "⣿⣿⣾⢦⡀⠳⣄⠀⠀⠀⠳⣄⠀⠀⠀⠀⠀⠀⠀⠀⠳⣄⠀⠀⠀⠀⠀⠀⠀⠀⠀⠀⠀⠀⠀⠀⠀⠀⠀⠀\n",
       "⠺⣟⢻⣶⣿⡂⠈⠳⣄⠀⠀⠈⠳⣄⠀⠀⠀⠀⠀⠀⠀⠈⠳⣄⠀⠀⠀⠀⠀⠀⠀⠀⠀⠀⠀⠀⠀⠀⠀⠀\n",
       "⢤⡈⠻⠻⠿⣧⣤⣠⡈⠳⠄⠀⠀⠈⠳⣄⠀⠀⠀⠀⠀⠀⠀⠈⠳⣄⠀⠀⠀⠀⠀⠀⠀⠀⠀⠀⠀⠀⠀⠀\n",
       "⠀⠙⢦⡀⠀⣻⣿⣿⣙⣦⡀⠀⠀⠀⠀⠈⠳⣄⠀⠀⠀⠀⠀⠀⠀⠈⠳⣄⠀⠀⠀⠀⠀⠀⠀⠀⠀⠀⠀⠀\n",
       "⠀⠀⠀⠙⢦⡈⠳⣼⣿⣿⡆⠀⠀⠀⠀⠀⠀⠈⠳⣄⠀⠀⠀⠀⠀⠀⠀⠈⠳⣄⠀⠀⠀⠀⠀⠀⠀⠀⠀⠀\n",
       "⠙⢦⡀⠀⠀⠁⠀⠈⠈⠉⣿⣿⣾⢦⡀⠳⣄⠀⠀⠈⠀⠀⠀⠀⠀⠀⠀⠀⠀⠈⠳⣄⠀⠀⠀⠀⠀⠀⠀⠀\n",
       "⠀⠀⠙⢦⡀⠀⠀⠀⠀⠀⠺⣟⢻⣶⣿⡂⠈⠳⣄⠀⠀⠀⠀⠀⠀⠀⠀⠀⠀⠀⠀⠈⠳⣄⠀⠀⠀⠀⠀⠀\n",
       "⠀⠀⠀⠀⠙⢦⡀⠀⠀⠀⢤⡈⠻⠻⠿⣧⣤⣠⡈⠳⠀⠀⠀⠀⠀⠀⠀⠀⠀⠀⠀⠀⠀⠈⠳⣄⠀⠀⠀⠀\n",
       "⠀⠀⠀⠀⠀⠀⠙⢦⡀⠀⠀⠙⢦⡀⠀⣻⣿⣿⣙⣦⠀⠀⠀⠀⠀⠀⠀⠀⠀⠀⠀⠀⠀⠀⠀⠈⠳⣄⠀⠀\n",
       "⠀⠀⠀⠀⠀⠀⠀⠀⠙⢦⡀⠀⠀⠙⢦⡈⠳⣼⣿⣿⠀⠀⠀⠀⠀⠀⠀⠀⠀⠀⠀⠀⠀⠀⠀⠀⠀⠈⠳⣄\n",
       "⠙⢦⡀⠀⠀⠀⠀⠀⠀⠀⠀⠀⠀⠀⠀⠀⠀⠀⠀⠀⣿⣿⡟⢦⡈⠳⣄⠀⠀⠈⠳⣄⠀⠀⠀⠀⠀⠀⠀⠀\n",
       "⠀⠀⠙⢦⡀⠀⠀⠀⠀⠀⠀⠀⠀⠀⠀⠀⠀⠀⠀⠀⠻⣍⣿⣿⣯⠀⠈⠳⣄⠀⠀⠈⠳⣄⠀⠀⠀⠀⠀⠀\n",
       "⠀⠀⠀⠀⠙⢦⡀⠀⠀⠀⠀⠀⠀⠀⠀⠀⠀⠀⠀⠀⢦⡈⠋⠛⢻⣶⣦⣦⡈⠓⠀⠀⠀⠈⠳⣄⠀⠀⠀⠀\n",
       "⠀⠀⠀⠀⠀⠀⠙⢦⡀⠀⠀⠀⠀⠀⠀⠀⠀⠀⠀⠀⠀⠙⢦⡀⠨⣿⠿⣧⣽⡦⠀⠀⠀⠀⠀⠈⠳⣄⠀⠀\n",
       "⠀⠀⠀⠀⠀⠀⠀⠀⠙⢦⡀⠀⠀⠀⠀⠀⠀⠀⠀⠀⡀⠀⠀⠙⢦⠈⠳⡿⣿⣿⣀⡀⡀⠀⢀⠀⠀⠈⠳⣄\n",
       "⠀⠀⠀⠀⠀⠀⠀⠀⠀⠀⠙⢦⡀⠀⠀⠀⠀⠀⠀⠀⠙⢦⡀⠀⠀⠀⠀⠀⠀⠸⣿⣿⡟⢦⡈⠳⣄⠀⠀⠀\n",
       "⠀⠀⠀⠀⠀⠀⠀⠀⠀⠀⠀⠀⠙⢦⡀⠀⠀⠀⠀⠀⠀⠀⠙⢦⡀⠀⠀⠀⠀⠈⠻⣍⣿⣿⣯⠀⠈⠳⣄⠀\n",
       "⠀⠀⠀⠀⠀⠀⠀⠀⠀⠀⠀⠀⠀⠀⠙⢦⡀⠀⠀⠀⠀⠀⠀⠀⠙⢦⡀⠀⠀⠐⢦⡈⠋⠛⢻⣶⣦⣦⡈⠓\n",
       "⠀⠀⠀⠀⠀⠀⠀⠀⠀⠀⠀⠀⠀⠀⠀⠀⠙⢦⡀⠀⠀⠀⠀⠀⠀⠀⠙⢦⡀⠀⠀⠙⢦⡀⠨⣿⠿⣧⣽⡦\n",
       "⠀⠀⠀⠀⠀⠀⠀⠀⠀⠀⠀⠀⠀⠀⠀⠀⠀⠀⠙⢦⠀⠀⠀⠀⠀⠀⠀⠀⠙⢦⠀⠀⠀⠙⢦⠈⠳⡿⣿⣿"
      ]
     },
     "execution_count": 32,
     "metadata": {},
     "output_type": "execute_result"
    }
   ],
   "source": [
    "@time H = TransverseFieldIsing_sparse(N=20,h=1)"
   ]
  },
  {
   "cell_type": "markdown",
   "metadata": {},
   "source": [
    "Note that this is matrix, formally, has **1,099,511,627,776** entries!"
   ]
  },
  {
   "cell_type": "markdown",
   "metadata": {},
   "source": [
    "### Diagonalizing sparse matrices"
   ]
  },
  {
   "cell_type": "markdown",
   "metadata": {},
   "source": [
    "We have taken the first hurdle of constructing our large-system Hamiltonian as a sparse matrix. Unfortunately, if we try to diagonalize $H$, we realize that Julia's built-in eigensolver `eigen` doesn't support matrices.\n",
    "\n",
    "```\n",
    "eigen(A) not supported for sparse matrices. Use for example eigs(A) from the Arpack package instead.\n",
    "```"
   ]
  },
  {
   "cell_type": "markdown",
   "metadata": {},
   "source": [
    "Gladly it suggests a solution: [ARPACK.jl](https://github.com/JuliaLinearAlgebra/Arpack.jl). It provides a wrapper to the Fortran library [ARPACK](https://www.caam.rice.edu/software/ARPACK/) which implements iterative eigenvalue and singular value solvers for sparse matrices.\n",
    "\n",
    "There are also a bunch of pure Julia implementations available in\n",
    "\n",
    "* [ArnoldiMethod.jl](https://github.com/haampie/ArnoldiMethod.jl)\n",
    "* [KrylovKit.jl](https://github.com/Jutho/KrylovKit.jl)\n",
    "* [IterativeSolvers.jl](https://github.com/JuliaMath/IterativeSolvers.jl)\n",
    "\n",
    "Let us use the ArnoldiMethod.jl package."
   ]
  },
  {
   "cell_type": "code",
   "execution_count": 38,
   "metadata": {},
   "outputs": [
    {
     "data": {
      "text/plain": [
       "eigen_sparse (generic function with 1 method)"
      ]
     },
     "execution_count": 38,
     "metadata": {},
     "output_type": "execute_result"
    }
   ],
   "source": [
    "using ArnoldiMethod\n",
    "\n",
    "function eigen_sparse(x)\n",
    "    decomp, history = partialschur(x, nev=1, which=SR()); # only solve for the ground state\n",
    "    vals, vecs = partialeigen(decomp);\n",
    "    return vals, vecs\n",
    "end"
   ]
  },
  {
   "cell_type": "markdown",
   "metadata": {},
   "source": [
    "Solving for the ground state takes less than a minute on an i5 desktop machine."
   ]
  },
  {
   "cell_type": "code",
   "execution_count": 39,
   "metadata": {},
   "outputs": [
    {
     "name": "stdout",
     "output_type": "stream",
     "text": [
      " 12.767370 seconds (93.30 k allocations: 341.115 MiB, 0.15% gc time, 0.18% compilation time)\n"
     ]
    },
    {
     "data": {
      "text/plain": [
       "([-25.10779711162376], [-0.14916143817023794; -0.07480019724462623; … ; -0.07480019668340399; -0.14916143591769024;;])"
      ]
     },
     "execution_count": 39,
     "metadata": {},
     "output_type": "execute_result"
    }
   ],
   "source": [
    "@time vals, vecs = eigen_sparse(H)"
   ]
  },
  {
   "cell_type": "markdown",
   "metadata": {},
   "source": [
    "Voila. There we have the ground state energy and the ground state wave function for a $N=20$ chain of quantum spins!"
   ]
  },
  {
   "cell_type": "code",
   "execution_count": 40,
   "metadata": {},
   "outputs": [
    {
     "data": {
      "text/plain": [
       "1048576-element Vector{Float64}:\n",
       " -0.14916143817023794\n",
       " -0.07480019724462623\n",
       " -0.046806704325918075\n",
       " -0.056487648648780496\n",
       " -0.04331037983339384\n",
       " -0.025019354515331205\n",
       " -0.030717722606587693\n",
       " -0.04758869272322044\n",
       " -0.042221442719878474\n",
       " -0.02203858972809046\n",
       " -0.014930347654798446\n",
       " -0.019814690777267177\n",
       " -0.026479637037300007\n",
       "  ⋮\n",
       " -0.019814691221718757\n",
       " -0.014930347727772329\n",
       " -0.02203858973259284\n",
       " -0.04222144228534019\n",
       " -0.04758869403690332\n",
       " -0.030717722974497666\n",
       " -0.025019354664471496\n",
       " -0.04331037951969398\n",
       " -0.056487649116952886\n",
       " -0.04680670406330122\n",
       " -0.07480019668340399\n",
       " -0.14916143591769024"
      ]
     },
     "execution_count": 40,
     "metadata": {},
     "output_type": "execute_result"
    }
   ],
   "source": [
    "groundstate = vecs[:,1]"
   ]
  },
  {
   "cell_type": "markdown",
   "metadata": {},
   "source": [
    "### Magnetization once again"
   ]
  },
  {
   "cell_type": "markdown",
   "metadata": {},
   "source": [
    "To measure the magnetization, we could use our function `magnetization(state, basis)` from above. However, the way we wrote it above, it depends on an explicit list of basis states which we do not want to construct for a large system explicitly.\n",
    "\n",
    "Let's rewrite the function slightly such that bit representations of our basis states are calculated on the fly."
   ]
  },
  {
   "cell_type": "code",
   "execution_count": 41,
   "metadata": {},
   "outputs": [
    {
     "data": {
      "text/plain": [
       "magnetization (generic function with 2 methods)"
      ]
     },
     "execution_count": 41,
     "metadata": {},
     "output_type": "execute_result"
    }
   ],
   "source": [
    "function magnetization(state)\n",
    "    N = Int(log2(length(state)))\n",
    "    M = 0.\n",
    "    for i in 1:length(state)\n",
    "        bstate = bit_rep(i-1,N)\n",
    "        bstate_M = 0.\n",
    "        for spin in bstate\n",
    "            bstate_M += (state[i]^2 * (spin ? 1 : -1))/N\n",
    "        end\n",
    "        @assert abs(bstate_M) <= 1\n",
    "        M += abs(bstate_M)\n",
    "    end\n",
    "    return M\n",
    "end"
   ]
  },
  {
   "cell_type": "code",
   "execution_count": 42,
   "metadata": {},
   "outputs": [
    {
     "data": {
      "text/plain": [
       "0.06372327857871699"
      ]
     },
     "execution_count": 42,
     "metadata": {},
     "output_type": "execute_result"
    }
   ],
   "source": [
    "magnetization(groundstate, basis)"
   ]
  },
  {
   "cell_type": "markdown",
   "metadata": {},
   "source": [
    "We are now able to recreate our magnetization vs magnetic field strength plotincluding larger systems (takes about 3 minutes on this i5 Desktop machine)."
   ]
  },
  {
   "cell_type": "code",
   "execution_count": 43,
   "metadata": {},
   "outputs": [
    {
     "name": "stdout",
     "output_type": "stream",
     "text": [
      "[0.9999000299900036, 0.9992275301410247, 0.994110861721678, 0.9591866669399163, 0.8202546347014363, 0.6435606282913413, 0.5535510608967722, 0.5193421033856465, 0.5069557253424019, 0.5024999687505861]\n",
      "[0.9999687399231207, 0.9997574390110384, 0.9980906655902653, 0.9834625621009814, 0.8309926493841715, 0.5178560625397824, 0.4187460545660484, 0.38991363075606394, 0.3802666965157142, 0.376881296815083]\n",
      "[0.9999749983063313, 0.9998063322086095, 0.9984949630584792, 0.9879234156231136, 0.8614091151360671, 0.444473480694354, 0.34967357165835367, 0.324998901977978, 0.31689733446083457, 0.31406880494608375]\n",
      "[0.9999781235941153, 0.999830545424378, 0.9986835482068472, 0.9895264359733628, 0.8855404267939369, 0.3946978945389648, 0.30622944223255305, 0.28440051150481804, 0.2772883242727865, 0.27481060087466]\n",
      "[0.9999799987655316, 0.9998450732187059, 0.9987965740173586, 0.9904403291920227, 0.9008623749783624, 0.3582176660645275, 0.2757379116594945, 0.2559736833305872, 0.24956106896780603, 0.24732973901689506]\n",
      "[0.9999812488800665, 0.9998547583993782, 0.9988719236735637, 0.9910465979654057, 0.9102218334891572, 0.33009644104812386, 0.2528361241198945, 0.2346502532442292, 0.2287652335337101, 0.2267190431617136]\n",
      "[0.9999821418191212, 0.9998616763675982, 0.9989257448568813, 0.9914794736810213, 0.9161916315674454, 0.30761182922098307, 0.23482539967398314, 0.21789447684033522, 0.21242545145216682, 0.21052490015949174]\n",
      "[0.9999828115234768, 0.9998668648512299, 0.9989661107411887, 0.9918041222345466, 0.9202808903590947, 0.2891260924906351, 0.22018245580749005, 0.20427947964988896, 0.19914926746604436, 0.19736714500469246]\n",
      "[0.9999833324044525, 0.999870900342799, 0.9989975064232912, 0.992056626165485, 0.9232803140239665, 0.27359115272848933, 0.20797437477359443, 0.19293307700270498, 0.1880857128714885, 0.18640234052538002]\n",
      "[0.9999837491072145, 0.9998741287292254, 0.9990226229755435, 0.9922586292836248, 0.9256013170487533, 0.26030343271546696, 0.19759385303037533, 0.18328826878443055, 0.17868164714006096, 0.1770822511604566]\n",
      "205.805170 seconds (72.68 M allocations: 148.742 GiB, 29.98% gc time, 0.50% compilation time)\n"
     ]
    },
    {
     "data": {
      "image/svg+xml": [
       "<?xml version=\"1.0\" encoding=\"utf-8\"?>\n",
       "<svg xmlns=\"http://www.w3.org/2000/svg\" xmlns:xlink=\"http://www.w3.org/1999/xlink\" width=\"600\" height=\"400\" viewBox=\"0 0 2400 1600\">\n",
       "<defs>\n",
       "  <clipPath id=\"clip520\">\n",
       "    <rect x=\"0\" y=\"0\" width=\"2400\" height=\"1600\"/>\n",
       "  </clipPath>\n",
       "</defs>\n",
       "<path clip-path=\"url(#clip520)\" d=\"\n",
       "M0 1600 L2400 1600 L2400 0 L0 0  Z\n",
       "  \" fill=\"#ffffff\" fill-rule=\"evenodd\" fill-opacity=\"1\"/>\n",
       "<defs>\n",
       "  <clipPath id=\"clip521\">\n",
       "    <rect x=\"480\" y=\"0\" width=\"1681\" height=\"1600\"/>\n",
       "  </clipPath>\n",
       "</defs>\n",
       "<path clip-path=\"url(#clip520)\" d=\"\n",
       "M219.866 1410.9 L2352.76 1410.9 L2352.76 47.2441 L219.866 47.2441  Z\n",
       "  \" fill=\"#ffffff\" fill-rule=\"evenodd\" fill-opacity=\"1\"/>\n",
       "<defs>\n",
       "  <clipPath id=\"clip522\">\n",
       "    <rect x=\"219\" y=\"47\" width=\"2134\" height=\"1365\"/>\n",
       "  </clipPath>\n",
       "</defs>\n",
       "<polyline clip-path=\"url(#clip522)\" style=\"stroke:#000000; stroke-linecap:butt; stroke-linejoin:round; stroke-width:2; stroke-opacity:0.1; fill:none\" points=\"\n",
       "  280.231,1410.9 280.231,47.2441 \n",
       "  \"/>\n",
       "<polyline clip-path=\"url(#clip522)\" style=\"stroke:#000000; stroke-linecap:butt; stroke-linejoin:round; stroke-width:2; stroke-opacity:0.1; fill:none\" points=\"\n",
       "  783.271,1410.9 783.271,47.2441 \n",
       "  \"/>\n",
       "<polyline clip-path=\"url(#clip522)\" style=\"stroke:#000000; stroke-linecap:butt; stroke-linejoin:round; stroke-width:2; stroke-opacity:0.1; fill:none\" points=\"\n",
       "  1286.31,1410.9 1286.31,47.2441 \n",
       "  \"/>\n",
       "<polyline clip-path=\"url(#clip522)\" style=\"stroke:#000000; stroke-linecap:butt; stroke-linejoin:round; stroke-width:2; stroke-opacity:0.1; fill:none\" points=\"\n",
       "  1789.35,1410.9 1789.35,47.2441 \n",
       "  \"/>\n",
       "<polyline clip-path=\"url(#clip522)\" style=\"stroke:#000000; stroke-linecap:butt; stroke-linejoin:round; stroke-width:2; stroke-opacity:0.1; fill:none\" points=\"\n",
       "  2292.39,1410.9 2292.39,47.2441 \n",
       "  \"/>\n",
       "<polyline clip-path=\"url(#clip520)\" style=\"stroke:#000000; stroke-linecap:butt; stroke-linejoin:round; stroke-width:4; stroke-opacity:1; fill:none\" points=\"\n",
       "  219.866,1410.9 2352.76,1410.9 \n",
       "  \"/>\n",
       "<polyline clip-path=\"url(#clip520)\" style=\"stroke:#000000; stroke-linecap:butt; stroke-linejoin:round; stroke-width:4; stroke-opacity:1; fill:none\" points=\"\n",
       "  280.231,1410.9 280.231,1392 \n",
       "  \"/>\n",
       "<polyline clip-path=\"url(#clip520)\" style=\"stroke:#000000; stroke-linecap:butt; stroke-linejoin:round; stroke-width:4; stroke-opacity:1; fill:none\" points=\"\n",
       "  783.271,1410.9 783.271,1392 \n",
       "  \"/>\n",
       "<polyline clip-path=\"url(#clip520)\" style=\"stroke:#000000; stroke-linecap:butt; stroke-linejoin:round; stroke-width:4; stroke-opacity:1; fill:none\" points=\"\n",
       "  1286.31,1410.9 1286.31,1392 \n",
       "  \"/>\n",
       "<polyline clip-path=\"url(#clip520)\" style=\"stroke:#000000; stroke-linecap:butt; stroke-linejoin:round; stroke-width:4; stroke-opacity:1; fill:none\" points=\"\n",
       "  1789.35,1410.9 1789.35,1392 \n",
       "  \"/>\n",
       "<polyline clip-path=\"url(#clip520)\" style=\"stroke:#000000; stroke-linecap:butt; stroke-linejoin:round; stroke-width:4; stroke-opacity:1; fill:none\" points=\"\n",
       "  2292.39,1410.9 2292.39,1392 \n",
       "  \"/>\n",
       "<path clip-path=\"url(#clip520)\" d=\"M230.497 1485.02 L238.136 1485.02 L238.136 1458.66 L229.826 1460.32 L229.826 1456.06 L238.089 1454.4 L242.765 1454.4 L242.765 1485.02 L250.404 1485.02 L250.404 1488.96 L230.497 1488.96 L230.497 1485.02 Z\" fill=\"#000000\" fill-rule=\"evenodd\" fill-opacity=\"1\" /><path clip-path=\"url(#clip520)\" d=\"M269.848 1457.48 Q266.237 1457.48 264.409 1461.04 Q262.603 1464.58 262.603 1471.71 Q262.603 1478.82 264.409 1482.38 Q266.237 1485.92 269.848 1485.92 Q273.483 1485.92 275.288 1482.38 Q277.117 1478.82 277.117 1471.71 Q277.117 1464.58 275.288 1461.04 Q273.483 1457.48 269.848 1457.48 M269.848 1453.77 Q275.659 1453.77 278.714 1458.38 Q281.793 1462.96 281.793 1471.71 Q281.793 1480.44 278.714 1485.04 Q275.659 1489.63 269.848 1489.63 Q264.038 1489.63 260.96 1485.04 Q257.904 1480.44 257.904 1471.71 Q257.904 1462.96 260.96 1458.38 Q264.038 1453.77 269.848 1453.77 Z\" fill=\"#000000\" fill-rule=\"evenodd\" fill-opacity=\"1\" /><path clip-path=\"url(#clip520)\" d=\"M281.793 1447.87 L305.904 1447.87 L305.904 1451.07 L281.793 1451.07 L281.793 1447.87 Z\" fill=\"#000000\" fill-rule=\"evenodd\" fill-opacity=\"1\" /><path clip-path=\"url(#clip520)\" d=\"M317.377 1458.35 L330.637 1458.35 L330.637 1461.55 L312.807 1461.55 L312.807 1458.35 Q314.97 1456.11 318.694 1452.35 Q322.436 1448.57 323.396 1447.48 Q325.22 1445.43 325.935 1444.02 Q326.668 1442.59 326.668 1441.22 Q326.668 1438.98 325.088 1437.57 Q323.527 1436.16 321.007 1436.16 Q319.22 1436.16 317.227 1436.78 Q315.252 1437.4 312.995 1438.66 L312.995 1434.82 Q315.289 1433.9 317.283 1433.43 Q319.277 1432.96 320.932 1432.96 Q325.295 1432.96 327.891 1435.14 Q330.486 1437.32 330.486 1440.97 Q330.486 1442.7 329.828 1444.26 Q329.188 1445.8 327.477 1447.91 Q327.007 1448.46 324.486 1451.07 Q321.966 1453.67 317.377 1458.35 Z\" fill=\"#000000\" fill-rule=\"evenodd\" fill-opacity=\"1\" /><path clip-path=\"url(#clip520)\" d=\"M733.386 1485.02 L741.025 1485.02 L741.025 1458.66 L732.715 1460.32 L732.715 1456.06 L740.979 1454.4 L745.655 1454.4 L745.655 1485.02 L753.294 1485.02 L753.294 1488.96 L733.386 1488.96 L733.386 1485.02 Z\" fill=\"#000000\" fill-rule=\"evenodd\" fill-opacity=\"1\" /><path clip-path=\"url(#clip520)\" d=\"M772.738 1457.48 Q769.127 1457.48 767.298 1461.04 Q765.493 1464.58 765.493 1471.71 Q765.493 1478.82 767.298 1482.38 Q769.127 1485.92 772.738 1485.92 Q776.372 1485.92 778.178 1482.38 Q780.006 1478.82 780.006 1471.71 Q780.006 1464.58 778.178 1461.04 Q776.372 1457.48 772.738 1457.48 M772.738 1453.77 Q778.548 1453.77 781.604 1458.38 Q784.682 1462.96 784.682 1471.71 Q784.682 1480.44 781.604 1485.04 Q778.548 1489.63 772.738 1489.63 Q766.928 1489.63 763.849 1485.04 Q760.794 1480.44 760.794 1471.71 Q760.794 1462.96 763.849 1458.38 Q766.928 1453.77 772.738 1453.77 Z\" fill=\"#000000\" fill-rule=\"evenodd\" fill-opacity=\"1\" /><path clip-path=\"url(#clip520)\" d=\"M784.682 1447.87 L808.794 1447.87 L808.794 1451.07 L784.682 1451.07 L784.682 1447.87 Z\" fill=\"#000000\" fill-rule=\"evenodd\" fill-opacity=\"1\" /><path clip-path=\"url(#clip520)\" d=\"M817.652 1458.35 L823.859 1458.35 L823.859 1436.93 L817.107 1438.28 L817.107 1434.82 L823.821 1433.47 L827.621 1433.47 L827.621 1458.35 L833.827 1458.35 L833.827 1461.55 L817.652 1461.55 L817.652 1458.35 Z\" fill=\"#000000\" fill-rule=\"evenodd\" fill-opacity=\"1\" /><path clip-path=\"url(#clip520)\" d=\"M1251.29 1485.02 L1258.93 1485.02 L1258.93 1458.66 L1250.62 1460.32 L1250.62 1456.06 L1258.89 1454.4 L1263.56 1454.4 L1263.56 1485.02 L1271.2 1485.02 L1271.2 1488.96 L1251.29 1488.96 L1251.29 1485.02 Z\" fill=\"#000000\" fill-rule=\"evenodd\" fill-opacity=\"1\" /><path clip-path=\"url(#clip520)\" d=\"M1290.65 1457.48 Q1287.03 1457.48 1285.21 1461.04 Q1283.4 1464.58 1283.4 1471.71 Q1283.4 1478.82 1285.21 1482.38 Q1287.03 1485.92 1290.65 1485.92 Q1294.28 1485.92 1296.09 1482.38 Q1297.91 1478.82 1297.91 1471.71 Q1297.91 1464.58 1296.09 1461.04 Q1294.28 1457.48 1290.65 1457.48 M1290.65 1453.77 Q1296.46 1453.77 1299.51 1458.38 Q1302.59 1462.96 1302.59 1471.71 Q1302.59 1480.44 1299.51 1485.04 Q1296.46 1489.63 1290.65 1489.63 Q1284.84 1489.63 1281.76 1485.04 Q1278.7 1480.44 1278.7 1471.71 Q1278.7 1462.96 1281.76 1458.38 Q1284.84 1453.77 1290.65 1453.77 Z\" fill=\"#000000\" fill-rule=\"evenodd\" fill-opacity=\"1\" /><path clip-path=\"url(#clip520)\" d=\"M1312.29 1435.97 Q1309.36 1435.97 1307.87 1438.86 Q1306.41 1441.74 1306.41 1447.53 Q1306.41 1453.31 1307.87 1456.2 Q1309.36 1459.08 1312.29 1459.08 Q1315.25 1459.08 1316.71 1456.2 Q1318.2 1453.31 1318.2 1447.53 Q1318.2 1441.74 1316.71 1438.86 Q1315.25 1435.97 1312.29 1435.97 M1312.29 1432.96 Q1317.02 1432.96 1319.5 1436.7 Q1322 1440.43 1322 1447.53 Q1322 1454.62 1319.5 1458.37 Q1317.02 1462.09 1312.29 1462.09 Q1307.57 1462.09 1305.07 1458.37 Q1302.59 1454.62 1302.59 1447.53 Q1302.59 1440.43 1305.07 1436.7 Q1307.57 1432.96 1312.29 1432.96 Z\" fill=\"#000000\" fill-rule=\"evenodd\" fill-opacity=\"1\" /><path clip-path=\"url(#clip520)\" d=\"M1755.68 1485.02 L1763.32 1485.02 L1763.32 1458.66 L1755.01 1460.32 L1755.01 1456.06 L1763.27 1454.4 L1767.95 1454.4 L1767.95 1485.02 L1775.59 1485.02 L1775.59 1488.96 L1755.68 1488.96 L1755.68 1485.02 Z\" fill=\"#000000\" fill-rule=\"evenodd\" fill-opacity=\"1\" /><path clip-path=\"url(#clip520)\" d=\"M1795.03 1457.48 Q1791.42 1457.48 1789.59 1461.04 Q1787.78 1464.58 1787.78 1471.71 Q1787.78 1478.82 1789.59 1482.38 Q1791.42 1485.92 1795.03 1485.92 Q1798.66 1485.92 1800.47 1482.38 Q1802.3 1478.82 1802.3 1471.71 Q1802.3 1464.58 1800.47 1461.04 Q1798.66 1457.48 1795.03 1457.48 M1795.03 1453.77 Q1800.84 1453.77 1803.9 1458.38 Q1806.97 1462.96 1806.97 1471.71 Q1806.97 1480.44 1803.9 1485.04 Q1800.84 1489.63 1795.03 1489.63 Q1789.22 1489.63 1786.14 1485.04 Q1783.09 1480.44 1783.09 1471.71 Q1783.09 1462.96 1786.14 1458.38 Q1789.22 1453.77 1795.03 1453.77 Z\" fill=\"#000000\" fill-rule=\"evenodd\" fill-opacity=\"1\" /><path clip-path=\"url(#clip520)\" d=\"M1807.52 1458.35 L1813.73 1458.35 L1813.73 1436.93 L1806.97 1438.28 L1806.97 1434.82 L1813.69 1433.47 L1817.49 1433.47 L1817.49 1458.35 L1823.69 1458.35 L1823.69 1461.55 L1807.52 1461.55 L1807.52 1458.35 Z\" fill=\"#000000\" fill-rule=\"evenodd\" fill-opacity=\"1\" /><path clip-path=\"url(#clip520)\" d=\"M2258.16 1485.02 L2265.8 1485.02 L2265.8 1458.66 L2257.49 1460.32 L2257.49 1456.06 L2265.76 1454.4 L2270.43 1454.4 L2270.43 1485.02 L2278.07 1485.02 L2278.07 1488.96 L2258.16 1488.96 L2258.16 1485.02 Z\" fill=\"#000000\" fill-rule=\"evenodd\" fill-opacity=\"1\" /><path clip-path=\"url(#clip520)\" d=\"M2297.52 1457.48 Q2293.9 1457.48 2292.08 1461.04 Q2290.27 1464.58 2290.27 1471.71 Q2290.27 1478.82 2292.08 1482.38 Q2293.9 1485.92 2297.52 1485.92 Q2301.15 1485.92 2302.96 1482.38 Q2304.78 1478.82 2304.78 1471.71 Q2304.78 1464.58 2302.96 1461.04 Q2301.15 1457.48 2297.52 1457.48 M2297.52 1453.77 Q2303.33 1453.77 2306.38 1458.38 Q2309.46 1462.96 2309.46 1471.71 Q2309.46 1480.44 2306.38 1485.04 Q2303.33 1489.63 2297.52 1489.63 Q2291.71 1489.63 2288.63 1485.04 Q2285.57 1480.44 2285.57 1471.71 Q2285.57 1462.96 2288.63 1458.38 Q2291.71 1453.77 2297.52 1453.77 Z\" fill=\"#000000\" fill-rule=\"evenodd\" fill-opacity=\"1\" /><path clip-path=\"url(#clip520)\" d=\"M2314.03 1458.35 L2327.29 1458.35 L2327.29 1461.55 L2309.46 1461.55 L2309.46 1458.35 Q2311.62 1456.11 2315.35 1452.35 Q2319.09 1448.57 2320.05 1447.48 Q2321.87 1445.43 2322.59 1444.02 Q2323.32 1442.59 2323.32 1441.22 Q2323.32 1438.98 2321.74 1437.57 Q2320.18 1436.16 2317.66 1436.16 Q2315.87 1436.16 2313.88 1436.78 Q2311.9 1437.4 2309.65 1438.66 L2309.65 1434.82 Q2311.94 1433.9 2313.94 1433.43 Q2315.93 1432.96 2317.58 1432.96 Q2321.95 1432.96 2324.54 1435.14 Q2327.14 1437.32 2327.14 1440.97 Q2327.14 1442.7 2326.48 1444.26 Q2325.84 1445.8 2324.13 1447.91 Q2323.66 1448.46 2321.14 1451.07 Q2318.62 1453.67 2314.03 1458.35 Z\" fill=\"#000000\" fill-rule=\"evenodd\" fill-opacity=\"1\" /><path clip-path=\"url(#clip520)\" d=\"M1301.24 1552.67 L1301.24 1574.19 L1295.38 1574.19 L1295.38 1552.86 Q1295.38 1547.8 1293.41 1545.29 Q1291.44 1542.77 1287.49 1542.77 Q1282.75 1542.77 1280.01 1545.79 Q1277.27 1548.82 1277.27 1554.04 L1277.27 1574.19 L1271.38 1574.19 L1271.38 1524.66 L1277.27 1524.66 L1277.27 1544.08 Q1279.37 1540.86 1282.21 1539.27 Q1285.07 1537.68 1288.79 1537.68 Q1294.94 1537.68 1298.09 1541.5 Q1301.24 1545.29 1301.24 1552.67 Z\" fill=\"#000000\" fill-rule=\"evenodd\" fill-opacity=\"1\" /><polyline clip-path=\"url(#clip522)\" style=\"stroke:#000000; stroke-linecap:butt; stroke-linejoin:round; stroke-width:2; stroke-opacity:0.1; fill:none\" points=\"\n",
       "  219.866,1336.47 2352.76,1336.47 \n",
       "  \"/>\n",
       "<polyline clip-path=\"url(#clip522)\" style=\"stroke:#000000; stroke-linecap:butt; stroke-linejoin:round; stroke-width:2; stroke-opacity:0.1; fill:none\" points=\"\n",
       "  219.866,1023.81 2352.76,1023.81 \n",
       "  \"/>\n",
       "<polyline clip-path=\"url(#clip522)\" style=\"stroke:#000000; stroke-linecap:butt; stroke-linejoin:round; stroke-width:2; stroke-opacity:0.1; fill:none\" points=\"\n",
       "  219.866,711.144 2352.76,711.144 \n",
       "  \"/>\n",
       "<polyline clip-path=\"url(#clip522)\" style=\"stroke:#000000; stroke-linecap:butt; stroke-linejoin:round; stroke-width:2; stroke-opacity:0.1; fill:none\" points=\"\n",
       "  219.866,398.478 2352.76,398.478 \n",
       "  \"/>\n",
       "<polyline clip-path=\"url(#clip522)\" style=\"stroke:#000000; stroke-linecap:butt; stroke-linejoin:round; stroke-width:2; stroke-opacity:0.1; fill:none\" points=\"\n",
       "  219.866,85.8126 2352.76,85.8126 \n",
       "  \"/>\n",
       "<polyline clip-path=\"url(#clip520)\" style=\"stroke:#000000; stroke-linecap:butt; stroke-linejoin:round; stroke-width:4; stroke-opacity:1; fill:none\" points=\"\n",
       "  219.866,1410.9 219.866,47.2441 \n",
       "  \"/>\n",
       "<polyline clip-path=\"url(#clip520)\" style=\"stroke:#000000; stroke-linecap:butt; stroke-linejoin:round; stroke-width:4; stroke-opacity:1; fill:none\" points=\"\n",
       "  219.866,1336.47 238.764,1336.47 \n",
       "  \"/>\n",
       "<polyline clip-path=\"url(#clip520)\" style=\"stroke:#000000; stroke-linecap:butt; stroke-linejoin:round; stroke-width:4; stroke-opacity:1; fill:none\" points=\"\n",
       "  219.866,1023.81 238.764,1023.81 \n",
       "  \"/>\n",
       "<polyline clip-path=\"url(#clip520)\" style=\"stroke:#000000; stroke-linecap:butt; stroke-linejoin:round; stroke-width:4; stroke-opacity:1; fill:none\" points=\"\n",
       "  219.866,711.144 238.764,711.144 \n",
       "  \"/>\n",
       "<polyline clip-path=\"url(#clip520)\" style=\"stroke:#000000; stroke-linecap:butt; stroke-linejoin:round; stroke-width:4; stroke-opacity:1; fill:none\" points=\"\n",
       "  219.866,398.478 238.764,398.478 \n",
       "  \"/>\n",
       "<polyline clip-path=\"url(#clip520)\" style=\"stroke:#000000; stroke-linecap:butt; stroke-linejoin:round; stroke-width:4; stroke-opacity:1; fill:none\" points=\"\n",
       "  219.866,85.8126 238.764,85.8126 \n",
       "  \"/>\n",
       "<path clip-path=\"url(#clip520)\" d=\"M128.288 1322.27 Q124.677 1322.27 122.848 1325.84 Q121.043 1329.38 121.043 1336.51 Q121.043 1343.62 122.848 1347.18 Q124.677 1350.72 128.288 1350.72 Q131.922 1350.72 133.728 1347.18 Q135.556 1343.62 135.556 1336.51 Q135.556 1329.38 133.728 1325.84 Q131.922 1322.27 128.288 1322.27 M128.288 1318.57 Q134.098 1318.57 137.154 1323.18 Q140.232 1327.76 140.232 1336.51 Q140.232 1345.24 137.154 1349.84 Q134.098 1354.43 128.288 1354.43 Q122.478 1354.43 119.399 1349.84 Q116.343 1345.24 116.343 1336.51 Q116.343 1327.76 119.399 1323.18 Q122.478 1318.57 128.288 1318.57 Z\" fill=\"#000000\" fill-rule=\"evenodd\" fill-opacity=\"1\" /><path clip-path=\"url(#clip520)\" d=\"M148.45 1347.88 L153.334 1347.88 L153.334 1353.75 L148.45 1353.75 L148.45 1347.88 Z\" fill=\"#000000\" fill-rule=\"evenodd\" fill-opacity=\"1\" /><path clip-path=\"url(#clip520)\" d=\"M167.547 1349.82 L183.866 1349.82 L183.866 1353.75 L161.922 1353.75 L161.922 1349.82 Q164.584 1347.06 169.167 1342.44 Q173.774 1337.78 174.954 1336.44 Q177.2 1333.92 178.079 1332.18 Q178.982 1330.42 178.982 1328.73 Q178.982 1325.98 177.038 1324.24 Q175.116 1322.5 172.014 1322.5 Q169.815 1322.5 167.362 1323.27 Q164.931 1324.03 162.153 1325.58 L162.153 1320.86 Q164.977 1319.73 167.431 1319.15 Q169.885 1318.57 171.922 1318.57 Q177.292 1318.57 180.487 1321.25 Q183.681 1323.94 183.681 1328.43 Q183.681 1330.56 182.871 1332.48 Q182.084 1334.38 179.977 1336.97 Q179.399 1337.64 176.297 1340.86 Q173.195 1344.06 167.547 1349.82 Z\" fill=\"#000000\" fill-rule=\"evenodd\" fill-opacity=\"1\" /><path clip-path=\"url(#clip520)\" d=\"M126.205 1009.61 Q122.593 1009.61 120.765 1013.17 Q118.959 1016.71 118.959 1023.84 Q118.959 1030.95 120.765 1034.52 Q122.593 1038.06 126.205 1038.06 Q129.839 1038.06 131.644 1034.52 Q133.473 1030.95 133.473 1023.84 Q133.473 1016.71 131.644 1013.17 Q129.839 1009.61 126.205 1009.61 M126.205 1005.9 Q132.015 1005.9 135.07 1010.51 Q138.149 1015.09 138.149 1023.84 Q138.149 1032.57 135.07 1037.18 Q132.015 1041.76 126.205 1041.76 Q120.394 1041.76 117.316 1037.18 Q114.26 1032.57 114.26 1023.84 Q114.26 1015.09 117.316 1010.51 Q120.394 1005.9 126.205 1005.9 Z\" fill=\"#000000\" fill-rule=\"evenodd\" fill-opacity=\"1\" /><path clip-path=\"url(#clip520)\" d=\"M146.366 1035.21 L151.251 1035.21 L151.251 1041.09 L146.366 1041.09 L146.366 1035.21 Z\" fill=\"#000000\" fill-rule=\"evenodd\" fill-opacity=\"1\" /><path clip-path=\"url(#clip520)\" d=\"M174.283 1010.6 L162.477 1029.05 L174.283 1029.05 L174.283 1010.6 M173.056 1006.53 L178.936 1006.53 L178.936 1029.05 L183.866 1029.05 L183.866 1032.94 L178.936 1032.94 L178.936 1041.09 L174.283 1041.09 L174.283 1032.94 L158.681 1032.94 L158.681 1028.43 L173.056 1006.53 Z\" fill=\"#000000\" fill-rule=\"evenodd\" fill-opacity=\"1\" /><path clip-path=\"url(#clip520)\" d=\"M126.529 696.942 Q122.918 696.942 121.089 700.507 Q119.283 704.049 119.283 711.178 Q119.283 718.285 121.089 721.85 Q122.918 725.391 126.529 725.391 Q130.163 725.391 131.968 721.85 Q133.797 718.285 133.797 711.178 Q133.797 704.049 131.968 700.507 Q130.163 696.942 126.529 696.942 M126.529 693.239 Q132.339 693.239 135.394 697.845 Q138.473 702.428 138.473 711.178 Q138.473 719.905 135.394 724.512 Q132.339 729.095 126.529 729.095 Q120.718 729.095 117.64 724.512 Q114.584 719.905 114.584 711.178 Q114.584 702.428 117.64 697.845 Q120.718 693.239 126.529 693.239 Z\" fill=\"#000000\" fill-rule=\"evenodd\" fill-opacity=\"1\" /><path clip-path=\"url(#clip520)\" d=\"M146.691 722.544 L151.575 722.544 L151.575 728.424 L146.691 728.424 L146.691 722.544 Z\" fill=\"#000000\" fill-rule=\"evenodd\" fill-opacity=\"1\" /><path clip-path=\"url(#clip520)\" d=\"M172.339 709.28 Q169.19 709.28 167.339 711.433 Q165.51 713.586 165.51 717.336 Q165.51 721.063 167.339 723.239 Q169.19 725.391 172.339 725.391 Q175.487 725.391 177.315 723.239 Q179.167 721.063 179.167 717.336 Q179.167 713.586 177.315 711.433 Q175.487 709.28 172.339 709.28 M181.621 694.628 L181.621 698.887 Q179.862 698.053 178.056 697.614 Q176.274 697.174 174.514 697.174 Q169.885 697.174 167.431 700.299 Q165.001 703.424 164.653 709.743 Q166.019 707.729 168.079 706.665 Q170.139 705.577 172.616 705.577 Q177.825 705.577 180.834 708.748 Q183.866 711.896 183.866 717.336 Q183.866 722.66 180.718 725.877 Q177.57 729.095 172.339 729.095 Q166.343 729.095 163.172 724.512 Q160.001 719.905 160.001 711.178 Q160.001 702.984 163.89 698.123 Q167.778 693.239 174.329 693.239 Q176.089 693.239 177.871 693.586 Q179.676 693.933 181.621 694.628 Z\" fill=\"#000000\" fill-rule=\"evenodd\" fill-opacity=\"1\" /><path clip-path=\"url(#clip520)\" d=\"M126.783 384.277 Q123.172 384.277 121.343 387.842 Q119.538 391.383 119.538 398.513 Q119.538 405.619 121.343 409.184 Q123.172 412.726 126.783 412.726 Q130.417 412.726 132.223 409.184 Q134.052 405.619 134.052 398.513 Q134.052 391.383 132.223 387.842 Q130.417 384.277 126.783 384.277 M126.783 380.573 Q132.593 380.573 135.649 385.18 Q138.728 389.763 138.728 398.513 Q138.728 407.24 135.649 411.846 Q132.593 416.429 126.783 416.429 Q120.973 416.429 117.894 411.846 Q114.839 407.24 114.839 398.513 Q114.839 389.763 117.894 385.18 Q120.973 380.573 126.783 380.573 Z\" fill=\"#000000\" fill-rule=\"evenodd\" fill-opacity=\"1\" /><path clip-path=\"url(#clip520)\" d=\"M146.945 409.879 L151.829 409.879 L151.829 415.758 L146.945 415.758 L146.945 409.879 Z\" fill=\"#000000\" fill-rule=\"evenodd\" fill-opacity=\"1\" /><path clip-path=\"url(#clip520)\" d=\"M172.014 399.346 Q168.681 399.346 166.76 401.129 Q164.862 402.911 164.862 406.036 Q164.862 409.161 166.76 410.943 Q168.681 412.726 172.014 412.726 Q175.348 412.726 177.269 410.943 Q179.19 409.138 179.19 406.036 Q179.19 402.911 177.269 401.129 Q175.371 399.346 172.014 399.346 M167.339 397.355 Q164.329 396.615 162.64 394.555 Q160.973 392.494 160.973 389.531 Q160.973 385.388 163.913 382.981 Q166.876 380.573 172.014 380.573 Q177.176 380.573 180.116 382.981 Q183.056 385.388 183.056 389.531 Q183.056 392.494 181.366 394.555 Q179.7 396.615 176.714 397.355 Q180.093 398.143 181.968 400.434 Q183.866 402.726 183.866 406.036 Q183.866 411.059 180.788 413.744 Q177.732 416.429 172.014 416.429 Q166.297 416.429 163.218 413.744 Q160.163 411.059 160.163 406.036 Q160.163 402.726 162.061 400.434 Q163.959 398.143 167.339 397.355 M165.626 389.971 Q165.626 392.656 167.292 394.161 Q168.982 395.666 172.014 395.666 Q175.024 395.666 176.714 394.161 Q178.426 392.656 178.426 389.971 Q178.426 387.286 176.714 385.781 Q175.024 384.277 172.014 384.277 Q168.982 384.277 167.292 385.781 Q165.626 387.286 165.626 389.971 Z\" fill=\"#000000\" fill-rule=\"evenodd\" fill-opacity=\"1\" /><path clip-path=\"url(#clip520)\" d=\"M117.501 99.1575 L125.14 99.1575 L125.14 72.7919 L116.83 74.4585 L116.83 70.1993 L125.093 68.5326 L129.769 68.5326 L129.769 99.1575 L137.408 99.1575 L137.408 103.093 L117.501 103.093 L117.501 99.1575 Z\" fill=\"#000000\" fill-rule=\"evenodd\" fill-opacity=\"1\" /><path clip-path=\"url(#clip520)\" d=\"M146.853 97.213 L151.737 97.213 L151.737 103.093 L146.853 103.093 L146.853 97.213 Z\" fill=\"#000000\" fill-rule=\"evenodd\" fill-opacity=\"1\" /><path clip-path=\"url(#clip520)\" d=\"M171.922 71.6113 Q168.311 71.6113 166.482 75.1761 Q164.677 78.7178 164.677 85.8474 Q164.677 92.9538 166.482 96.5186 Q168.311 100.06 171.922 100.06 Q175.556 100.06 177.362 96.5186 Q179.19 92.9538 179.19 85.8474 Q179.19 78.7178 177.362 75.1761 Q175.556 71.6113 171.922 71.6113 M171.922 67.9076 Q177.732 67.9076 180.788 72.5141 Q183.866 77.0974 183.866 85.8474 Q183.866 94.5742 180.788 99.1806 Q177.732 103.764 171.922 103.764 Q166.112 103.764 163.033 99.1806 Q159.978 94.5742 159.978 85.8474 Q159.978 77.0974 163.033 72.5141 Q166.112 67.9076 171.922 67.9076 Z\" fill=\"#000000\" fill-rule=\"evenodd\" fill-opacity=\"1\" /><path clip-path=\"url(#clip520)\" d=\"M16.4842 797.279 L16.4842 787.699 L48.8219 775.572 L16.4842 763.382 L16.4842 753.801 L64.0042 753.801 L64.0042 760.071 L22.277 760.071 L54.8694 772.325 L54.8694 778.787 L22.277 791.041 L64.0042 791.041 L64.0042 797.279 L16.4842 797.279 Z\" fill=\"#000000\" fill-rule=\"evenodd\" fill-opacity=\"1\" /><path clip-path=\"url(#clip520)\" d=\"M14.5426 727.224 Q21.8632 731.489 29.0246 733.558 Q36.186 735.627 43.5384 735.627 Q50.8908 735.627 58.1159 733.558 Q65.3091 731.458 72.5979 727.224 L72.5979 732.317 Q65.1182 737.091 57.8931 739.478 Q50.668 741.834 43.5384 741.834 Q36.4406 741.834 29.2474 739.478 Q22.0542 737.123 14.5426 732.317 L14.5426 727.224 Z\" fill=\"#000000\" fill-rule=\"evenodd\" fill-opacity=\"1\" /><path clip-path=\"url(#clip520)\" d=\"M42.4881 686.229 L64.0042 686.229 L64.0042 692.086 L42.679 692.086 Q37.6183 692.086 35.1038 694.059 Q32.5894 696.032 32.5894 699.979 Q32.5894 704.722 35.6131 707.459 Q38.6368 710.196 43.8567 710.196 L64.0042 710.196 L64.0042 716.084 L14.479 716.084 L14.479 710.196 L33.8944 710.196 Q30.6797 708.095 29.0883 705.263 Q27.4968 702.398 27.4968 698.674 Q27.4968 692.531 31.3163 689.38 Q35.1038 686.229 42.4881 686.229 Z\" fill=\"#000000\" fill-rule=\"evenodd\" fill-opacity=\"1\" /><path clip-path=\"url(#clip520)\" d=\"M14.5426 675.471 L14.5426 670.379 Q22.0542 665.604 29.2474 663.249 Q36.4406 660.862 43.5384 660.862 Q50.668 660.862 57.8931 663.249 Q65.1182 665.604 72.5979 670.379 L72.5979 675.471 Q65.3091 671.238 58.1159 669.169 Q50.8908 667.068 43.5384 667.068 Q36.186 667.068 29.0246 669.169 Q21.8632 671.238 14.5426 675.471 Z\" fill=\"#000000\" fill-rule=\"evenodd\" fill-opacity=\"1\" /><polyline clip-path=\"url(#clip522)\" style=\"stroke:#009af9; stroke-linecap:butt; stroke-linejoin:round; stroke-width:4; stroke-opacity:1; fill:none\" points=\"\n",
       "  280.231,85.9689 503.804,87.0203 727.378,95.0193 950.951,149.617 1174.52,366.814 1398.1,643.044 1621.67,783.759 1845.24,837.238 2068.82,856.602 2292.39,863.568 \n",
       "  \n",
       "  \"/>\n",
       "<circle clip-path=\"url(#clip522)\" cx=\"280.231\" cy=\"85.9689\" r=\"14\" fill=\"#009af9\" fill-rule=\"evenodd\" fill-opacity=\"1\" stroke=\"#000000\" stroke-opacity=\"1\" stroke-width=\"3.2\"/>\n",
       "<circle clip-path=\"url(#clip522)\" cx=\"503.804\" cy=\"87.0203\" r=\"14\" fill=\"#009af9\" fill-rule=\"evenodd\" fill-opacity=\"1\" stroke=\"#000000\" stroke-opacity=\"1\" stroke-width=\"3.2\"/>\n",
       "<circle clip-path=\"url(#clip522)\" cx=\"727.378\" cy=\"95.0193\" r=\"14\" fill=\"#009af9\" fill-rule=\"evenodd\" fill-opacity=\"1\" stroke=\"#000000\" stroke-opacity=\"1\" stroke-width=\"3.2\"/>\n",
       "<circle clip-path=\"url(#clip522)\" cx=\"950.951\" cy=\"149.617\" r=\"14\" fill=\"#009af9\" fill-rule=\"evenodd\" fill-opacity=\"1\" stroke=\"#000000\" stroke-opacity=\"1\" stroke-width=\"3.2\"/>\n",
       "<circle clip-path=\"url(#clip522)\" cx=\"1174.52\" cy=\"366.814\" r=\"14\" fill=\"#009af9\" fill-rule=\"evenodd\" fill-opacity=\"1\" stroke=\"#000000\" stroke-opacity=\"1\" stroke-width=\"3.2\"/>\n",
       "<circle clip-path=\"url(#clip522)\" cx=\"1398.1\" cy=\"643.044\" r=\"14\" fill=\"#009af9\" fill-rule=\"evenodd\" fill-opacity=\"1\" stroke=\"#000000\" stroke-opacity=\"1\" stroke-width=\"3.2\"/>\n",
       "<circle clip-path=\"url(#clip522)\" cx=\"1621.67\" cy=\"783.759\" r=\"14\" fill=\"#009af9\" fill-rule=\"evenodd\" fill-opacity=\"1\" stroke=\"#000000\" stroke-opacity=\"1\" stroke-width=\"3.2\"/>\n",
       "<circle clip-path=\"url(#clip522)\" cx=\"1845.24\" cy=\"837.238\" r=\"14\" fill=\"#009af9\" fill-rule=\"evenodd\" fill-opacity=\"1\" stroke=\"#000000\" stroke-opacity=\"1\" stroke-width=\"3.2\"/>\n",
       "<circle clip-path=\"url(#clip522)\" cx=\"2068.82\" cy=\"856.602\" r=\"14\" fill=\"#009af9\" fill-rule=\"evenodd\" fill-opacity=\"1\" stroke=\"#000000\" stroke-opacity=\"1\" stroke-width=\"3.2\"/>\n",
       "<circle clip-path=\"url(#clip522)\" cx=\"2292.39\" cy=\"863.568\" r=\"14\" fill=\"#009af9\" fill-rule=\"evenodd\" fill-opacity=\"1\" stroke=\"#000000\" stroke-opacity=\"1\" stroke-width=\"3.2\"/>\n",
       "<polyline clip-path=\"url(#clip522)\" style=\"stroke:#e26f46; stroke-linecap:butt; stroke-linejoin:round; stroke-width:4; stroke-opacity:1; fill:none\" points=\"\n",
       "  280.231,85.8615 503.804,86.1918 727.378,88.7975 950.951,111.666 1174.52,350.026 1398.1,839.562 1621.67,994.503 1845.24,1039.58 2068.82,1054.66 2292.39,1059.95 \n",
       "  \n",
       "  \"/>\n",
       "<circle clip-path=\"url(#clip522)\" cx=\"280.231\" cy=\"85.8615\" r=\"14\" fill=\"#e26f46\" fill-rule=\"evenodd\" fill-opacity=\"1\" stroke=\"#000000\" stroke-opacity=\"1\" stroke-width=\"3.2\"/>\n",
       "<circle clip-path=\"url(#clip522)\" cx=\"503.804\" cy=\"86.1918\" r=\"14\" fill=\"#e26f46\" fill-rule=\"evenodd\" fill-opacity=\"1\" stroke=\"#000000\" stroke-opacity=\"1\" stroke-width=\"3.2\"/>\n",
       "<circle clip-path=\"url(#clip522)\" cx=\"727.378\" cy=\"88.7975\" r=\"14\" fill=\"#e26f46\" fill-rule=\"evenodd\" fill-opacity=\"1\" stroke=\"#000000\" stroke-opacity=\"1\" stroke-width=\"3.2\"/>\n",
       "<circle clip-path=\"url(#clip522)\" cx=\"950.951\" cy=\"111.666\" r=\"14\" fill=\"#e26f46\" fill-rule=\"evenodd\" fill-opacity=\"1\" stroke=\"#000000\" stroke-opacity=\"1\" stroke-width=\"3.2\"/>\n",
       "<circle clip-path=\"url(#clip522)\" cx=\"1174.52\" cy=\"350.026\" r=\"14\" fill=\"#e26f46\" fill-rule=\"evenodd\" fill-opacity=\"1\" stroke=\"#000000\" stroke-opacity=\"1\" stroke-width=\"3.2\"/>\n",
       "<circle clip-path=\"url(#clip522)\" cx=\"1398.1\" cy=\"839.562\" r=\"14\" fill=\"#e26f46\" fill-rule=\"evenodd\" fill-opacity=\"1\" stroke=\"#000000\" stroke-opacity=\"1\" stroke-width=\"3.2\"/>\n",
       "<circle clip-path=\"url(#clip522)\" cx=\"1621.67\" cy=\"994.503\" r=\"14\" fill=\"#e26f46\" fill-rule=\"evenodd\" fill-opacity=\"1\" stroke=\"#000000\" stroke-opacity=\"1\" stroke-width=\"3.2\"/>\n",
       "<circle clip-path=\"url(#clip522)\" cx=\"1845.24\" cy=\"1039.58\" r=\"14\" fill=\"#e26f46\" fill-rule=\"evenodd\" fill-opacity=\"1\" stroke=\"#000000\" stroke-opacity=\"1\" stroke-width=\"3.2\"/>\n",
       "<circle clip-path=\"url(#clip522)\" cx=\"2068.82\" cy=\"1054.66\" r=\"14\" fill=\"#e26f46\" fill-rule=\"evenodd\" fill-opacity=\"1\" stroke=\"#000000\" stroke-opacity=\"1\" stroke-width=\"3.2\"/>\n",
       "<circle clip-path=\"url(#clip522)\" cx=\"2292.39\" cy=\"1059.95\" r=\"14\" fill=\"#e26f46\" fill-rule=\"evenodd\" fill-opacity=\"1\" stroke=\"#000000\" stroke-opacity=\"1\" stroke-width=\"3.2\"/>\n",
       "<polyline clip-path=\"url(#clip522)\" style=\"stroke:#3da44d; stroke-linecap:butt; stroke-linejoin:round; stroke-width:4; stroke-opacity:1; fill:none\" points=\"\n",
       "  280.231,85.8517 503.804,86.1154 727.378,88.1655 950.951,104.692 1174.52,302.476 1398.1,954.283 1621.67,1102.49 1845.24,1141.06 2068.82,1153.73 2292.39,1158.15 \n",
       "  \n",
       "  \"/>\n",
       "<circle clip-path=\"url(#clip522)\" cx=\"280.231\" cy=\"85.8517\" r=\"14\" fill=\"#3da44d\" fill-rule=\"evenodd\" fill-opacity=\"1\" stroke=\"#000000\" stroke-opacity=\"1\" stroke-width=\"3.2\"/>\n",
       "<circle clip-path=\"url(#clip522)\" cx=\"503.804\" cy=\"86.1154\" r=\"14\" fill=\"#3da44d\" fill-rule=\"evenodd\" fill-opacity=\"1\" stroke=\"#000000\" stroke-opacity=\"1\" stroke-width=\"3.2\"/>\n",
       "<circle clip-path=\"url(#clip522)\" cx=\"727.378\" cy=\"88.1655\" r=\"14\" fill=\"#3da44d\" fill-rule=\"evenodd\" fill-opacity=\"1\" stroke=\"#000000\" stroke-opacity=\"1\" stroke-width=\"3.2\"/>\n",
       "<circle clip-path=\"url(#clip522)\" cx=\"950.951\" cy=\"104.692\" r=\"14\" fill=\"#3da44d\" fill-rule=\"evenodd\" fill-opacity=\"1\" stroke=\"#000000\" stroke-opacity=\"1\" stroke-width=\"3.2\"/>\n",
       "<circle clip-path=\"url(#clip522)\" cx=\"1174.52\" cy=\"302.476\" r=\"14\" fill=\"#3da44d\" fill-rule=\"evenodd\" fill-opacity=\"1\" stroke=\"#000000\" stroke-opacity=\"1\" stroke-width=\"3.2\"/>\n",
       "<circle clip-path=\"url(#clip522)\" cx=\"1398.1\" cy=\"954.283\" r=\"14\" fill=\"#3da44d\" fill-rule=\"evenodd\" fill-opacity=\"1\" stroke=\"#000000\" stroke-opacity=\"1\" stroke-width=\"3.2\"/>\n",
       "<circle clip-path=\"url(#clip522)\" cx=\"1621.67\" cy=\"1102.49\" r=\"14\" fill=\"#3da44d\" fill-rule=\"evenodd\" fill-opacity=\"1\" stroke=\"#000000\" stroke-opacity=\"1\" stroke-width=\"3.2\"/>\n",
       "<circle clip-path=\"url(#clip522)\" cx=\"1845.24\" cy=\"1141.06\" r=\"14\" fill=\"#3da44d\" fill-rule=\"evenodd\" fill-opacity=\"1\" stroke=\"#000000\" stroke-opacity=\"1\" stroke-width=\"3.2\"/>\n",
       "<circle clip-path=\"url(#clip522)\" cx=\"2068.82\" cy=\"1153.73\" r=\"14\" fill=\"#3da44d\" fill-rule=\"evenodd\" fill-opacity=\"1\" stroke=\"#000000\" stroke-opacity=\"1\" stroke-width=\"3.2\"/>\n",
       "<circle clip-path=\"url(#clip522)\" cx=\"2292.39\" cy=\"1158.15\" r=\"14\" fill=\"#3da44d\" fill-rule=\"evenodd\" fill-opacity=\"1\" stroke=\"#000000\" stroke-opacity=\"1\" stroke-width=\"3.2\"/>\n",
       "<polyline clip-path=\"url(#clip522)\" style=\"stroke:#c271d2; stroke-linecap:butt; stroke-linejoin:round; stroke-width:4; stroke-opacity:1; fill:none\" points=\"\n",
       "  280.231,85.8468 503.804,86.0775 727.378,87.8707 950.951,102.186 1174.52,264.75 1398.1,1032.1 1621.67,1170.4 1845.24,1204.53 2068.82,1215.65 2292.39,1219.52 \n",
       "  \n",
       "  \"/>\n",
       "<circle clip-path=\"url(#clip522)\" cx=\"280.231\" cy=\"85.8468\" r=\"14\" fill=\"#c271d2\" fill-rule=\"evenodd\" fill-opacity=\"1\" stroke=\"#000000\" stroke-opacity=\"1\" stroke-width=\"3.2\"/>\n",
       "<circle clip-path=\"url(#clip522)\" cx=\"503.804\" cy=\"86.0775\" r=\"14\" fill=\"#c271d2\" fill-rule=\"evenodd\" fill-opacity=\"1\" stroke=\"#000000\" stroke-opacity=\"1\" stroke-width=\"3.2\"/>\n",
       "<circle clip-path=\"url(#clip522)\" cx=\"727.378\" cy=\"87.8707\" r=\"14\" fill=\"#c271d2\" fill-rule=\"evenodd\" fill-opacity=\"1\" stroke=\"#000000\" stroke-opacity=\"1\" stroke-width=\"3.2\"/>\n",
       "<circle clip-path=\"url(#clip522)\" cx=\"950.951\" cy=\"102.186\" r=\"14\" fill=\"#c271d2\" fill-rule=\"evenodd\" fill-opacity=\"1\" stroke=\"#000000\" stroke-opacity=\"1\" stroke-width=\"3.2\"/>\n",
       "<circle clip-path=\"url(#clip522)\" cx=\"1174.52\" cy=\"264.75\" r=\"14\" fill=\"#c271d2\" fill-rule=\"evenodd\" fill-opacity=\"1\" stroke=\"#000000\" stroke-opacity=\"1\" stroke-width=\"3.2\"/>\n",
       "<circle clip-path=\"url(#clip522)\" cx=\"1398.1\" cy=\"1032.1\" r=\"14\" fill=\"#c271d2\" fill-rule=\"evenodd\" fill-opacity=\"1\" stroke=\"#000000\" stroke-opacity=\"1\" stroke-width=\"3.2\"/>\n",
       "<circle clip-path=\"url(#clip522)\" cx=\"1621.67\" cy=\"1170.4\" r=\"14\" fill=\"#c271d2\" fill-rule=\"evenodd\" fill-opacity=\"1\" stroke=\"#000000\" stroke-opacity=\"1\" stroke-width=\"3.2\"/>\n",
       "<circle clip-path=\"url(#clip522)\" cx=\"1845.24\" cy=\"1204.53\" r=\"14\" fill=\"#c271d2\" fill-rule=\"evenodd\" fill-opacity=\"1\" stroke=\"#000000\" stroke-opacity=\"1\" stroke-width=\"3.2\"/>\n",
       "<circle clip-path=\"url(#clip522)\" cx=\"2068.82\" cy=\"1215.65\" r=\"14\" fill=\"#c271d2\" fill-rule=\"evenodd\" fill-opacity=\"1\" stroke=\"#000000\" stroke-opacity=\"1\" stroke-width=\"3.2\"/>\n",
       "<circle clip-path=\"url(#clip522)\" cx=\"2292.39\" cy=\"1219.52\" r=\"14\" fill=\"#c271d2\" fill-rule=\"evenodd\" fill-opacity=\"1\" stroke=\"#000000\" stroke-opacity=\"1\" stroke-width=\"3.2\"/>\n",
       "<polyline clip-path=\"url(#clip522)\" style=\"stroke:#ac8d18; stroke-linecap:butt; stroke-linejoin:round; stroke-width:4; stroke-opacity:1; fill:none\" points=\"\n",
       "  280.231,85.8439 503.804,86.0548 727.378,87.694 950.951,100.758 1174.52,240.797 1398.1,1089.13 1621.67,1218.07 1845.24,1248.97 2068.82,1258.99 2292.39,1262.48 \n",
       "  \n",
       "  \"/>\n",
       "<circle clip-path=\"url(#clip522)\" cx=\"280.231\" cy=\"85.8439\" r=\"14\" fill=\"#ac8d18\" fill-rule=\"evenodd\" fill-opacity=\"1\" stroke=\"#000000\" stroke-opacity=\"1\" stroke-width=\"3.2\"/>\n",
       "<circle clip-path=\"url(#clip522)\" cx=\"503.804\" cy=\"86.0548\" r=\"14\" fill=\"#ac8d18\" fill-rule=\"evenodd\" fill-opacity=\"1\" stroke=\"#000000\" stroke-opacity=\"1\" stroke-width=\"3.2\"/>\n",
       "<circle clip-path=\"url(#clip522)\" cx=\"727.378\" cy=\"87.694\" r=\"14\" fill=\"#ac8d18\" fill-rule=\"evenodd\" fill-opacity=\"1\" stroke=\"#000000\" stroke-opacity=\"1\" stroke-width=\"3.2\"/>\n",
       "<circle clip-path=\"url(#clip522)\" cx=\"950.951\" cy=\"100.758\" r=\"14\" fill=\"#ac8d18\" fill-rule=\"evenodd\" fill-opacity=\"1\" stroke=\"#000000\" stroke-opacity=\"1\" stroke-width=\"3.2\"/>\n",
       "<circle clip-path=\"url(#clip522)\" cx=\"1174.52\" cy=\"240.797\" r=\"14\" fill=\"#ac8d18\" fill-rule=\"evenodd\" fill-opacity=\"1\" stroke=\"#000000\" stroke-opacity=\"1\" stroke-width=\"3.2\"/>\n",
       "<circle clip-path=\"url(#clip522)\" cx=\"1398.1\" cy=\"1089.13\" r=\"14\" fill=\"#ac8d18\" fill-rule=\"evenodd\" fill-opacity=\"1\" stroke=\"#000000\" stroke-opacity=\"1\" stroke-width=\"3.2\"/>\n",
       "<circle clip-path=\"url(#clip522)\" cx=\"1621.67\" cy=\"1218.07\" r=\"14\" fill=\"#ac8d18\" fill-rule=\"evenodd\" fill-opacity=\"1\" stroke=\"#000000\" stroke-opacity=\"1\" stroke-width=\"3.2\"/>\n",
       "<circle clip-path=\"url(#clip522)\" cx=\"1845.24\" cy=\"1248.97\" r=\"14\" fill=\"#ac8d18\" fill-rule=\"evenodd\" fill-opacity=\"1\" stroke=\"#000000\" stroke-opacity=\"1\" stroke-width=\"3.2\"/>\n",
       "<circle clip-path=\"url(#clip522)\" cx=\"2068.82\" cy=\"1258.99\" r=\"14\" fill=\"#ac8d18\" fill-rule=\"evenodd\" fill-opacity=\"1\" stroke=\"#000000\" stroke-opacity=\"1\" stroke-width=\"3.2\"/>\n",
       "<circle clip-path=\"url(#clip522)\" cx=\"2292.39\" cy=\"1262.48\" r=\"14\" fill=\"#ac8d18\" fill-rule=\"evenodd\" fill-opacity=\"1\" stroke=\"#000000\" stroke-opacity=\"1\" stroke-width=\"3.2\"/>\n",
       "<polyline clip-path=\"url(#clip522)\" style=\"stroke:#00a9ad; stroke-linecap:butt; stroke-linejoin:round; stroke-width:4; stroke-opacity:1; fill:none\" points=\"\n",
       "  280.231,85.8419 503.804,86.0397 727.378,87.5762 950.951,99.8097 1174.52,226.165 1398.1,1133.09 1621.67,1253.87 1845.24,1282.31 2068.82,1291.51 2292.39,1294.7 \n",
       "  \n",
       "  \"/>\n",
       "<circle clip-path=\"url(#clip522)\" cx=\"280.231\" cy=\"85.8419\" r=\"14\" fill=\"#00a9ad\" fill-rule=\"evenodd\" fill-opacity=\"1\" stroke=\"#000000\" stroke-opacity=\"1\" stroke-width=\"3.2\"/>\n",
       "<circle clip-path=\"url(#clip522)\" cx=\"503.804\" cy=\"86.0397\" r=\"14\" fill=\"#00a9ad\" fill-rule=\"evenodd\" fill-opacity=\"1\" stroke=\"#000000\" stroke-opacity=\"1\" stroke-width=\"3.2\"/>\n",
       "<circle clip-path=\"url(#clip522)\" cx=\"727.378\" cy=\"87.5762\" r=\"14\" fill=\"#00a9ad\" fill-rule=\"evenodd\" fill-opacity=\"1\" stroke=\"#000000\" stroke-opacity=\"1\" stroke-width=\"3.2\"/>\n",
       "<circle clip-path=\"url(#clip522)\" cx=\"950.951\" cy=\"99.8097\" r=\"14\" fill=\"#00a9ad\" fill-rule=\"evenodd\" fill-opacity=\"1\" stroke=\"#000000\" stroke-opacity=\"1\" stroke-width=\"3.2\"/>\n",
       "<circle clip-path=\"url(#clip522)\" cx=\"1174.52\" cy=\"226.165\" r=\"14\" fill=\"#00a9ad\" fill-rule=\"evenodd\" fill-opacity=\"1\" stroke=\"#000000\" stroke-opacity=\"1\" stroke-width=\"3.2\"/>\n",
       "<circle clip-path=\"url(#clip522)\" cx=\"1398.1\" cy=\"1133.09\" r=\"14\" fill=\"#00a9ad\" fill-rule=\"evenodd\" fill-opacity=\"1\" stroke=\"#000000\" stroke-opacity=\"1\" stroke-width=\"3.2\"/>\n",
       "<circle clip-path=\"url(#clip522)\" cx=\"1621.67\" cy=\"1253.87\" r=\"14\" fill=\"#00a9ad\" fill-rule=\"evenodd\" fill-opacity=\"1\" stroke=\"#000000\" stroke-opacity=\"1\" stroke-width=\"3.2\"/>\n",
       "<circle clip-path=\"url(#clip522)\" cx=\"1845.24\" cy=\"1282.31\" r=\"14\" fill=\"#00a9ad\" fill-rule=\"evenodd\" fill-opacity=\"1\" stroke=\"#000000\" stroke-opacity=\"1\" stroke-width=\"3.2\"/>\n",
       "<circle clip-path=\"url(#clip522)\" cx=\"2068.82\" cy=\"1291.51\" r=\"14\" fill=\"#00a9ad\" fill-rule=\"evenodd\" fill-opacity=\"1\" stroke=\"#000000\" stroke-opacity=\"1\" stroke-width=\"3.2\"/>\n",
       "<circle clip-path=\"url(#clip522)\" cx=\"2292.39\" cy=\"1294.7\" r=\"14\" fill=\"#00a9ad\" fill-rule=\"evenodd\" fill-opacity=\"1\" stroke=\"#000000\" stroke-opacity=\"1\" stroke-width=\"3.2\"/>\n",
       "<polyline clip-path=\"url(#clip522)\" style=\"stroke:#ed5d92; stroke-linecap:butt; stroke-linejoin:round; stroke-width:4; stroke-opacity:1; fill:none\" points=\"\n",
       "  280.231,85.8405 503.804,86.0289 727.378,87.492 950.951,99.133 1174.52,216.833 1398.1,1168.24 1621.67,1282.03 1845.24,1308.5 2068.82,1317.05 2292.39,1320.02 \n",
       "  \n",
       "  \"/>\n",
       "<circle clip-path=\"url(#clip522)\" cx=\"280.231\" cy=\"85.8405\" r=\"14\" fill=\"#ed5d92\" fill-rule=\"evenodd\" fill-opacity=\"1\" stroke=\"#000000\" stroke-opacity=\"1\" stroke-width=\"3.2\"/>\n",
       "<circle clip-path=\"url(#clip522)\" cx=\"503.804\" cy=\"86.0289\" r=\"14\" fill=\"#ed5d92\" fill-rule=\"evenodd\" fill-opacity=\"1\" stroke=\"#000000\" stroke-opacity=\"1\" stroke-width=\"3.2\"/>\n",
       "<circle clip-path=\"url(#clip522)\" cx=\"727.378\" cy=\"87.492\" r=\"14\" fill=\"#ed5d92\" fill-rule=\"evenodd\" fill-opacity=\"1\" stroke=\"#000000\" stroke-opacity=\"1\" stroke-width=\"3.2\"/>\n",
       "<circle clip-path=\"url(#clip522)\" cx=\"950.951\" cy=\"99.133\" r=\"14\" fill=\"#ed5d92\" fill-rule=\"evenodd\" fill-opacity=\"1\" stroke=\"#000000\" stroke-opacity=\"1\" stroke-width=\"3.2\"/>\n",
       "<circle clip-path=\"url(#clip522)\" cx=\"1174.52\" cy=\"216.833\" r=\"14\" fill=\"#ed5d92\" fill-rule=\"evenodd\" fill-opacity=\"1\" stroke=\"#000000\" stroke-opacity=\"1\" stroke-width=\"3.2\"/>\n",
       "<circle clip-path=\"url(#clip522)\" cx=\"1398.1\" cy=\"1168.24\" r=\"14\" fill=\"#ed5d92\" fill-rule=\"evenodd\" fill-opacity=\"1\" stroke=\"#000000\" stroke-opacity=\"1\" stroke-width=\"3.2\"/>\n",
       "<circle clip-path=\"url(#clip522)\" cx=\"1621.67\" cy=\"1282.03\" r=\"14\" fill=\"#ed5d92\" fill-rule=\"evenodd\" fill-opacity=\"1\" stroke=\"#000000\" stroke-opacity=\"1\" stroke-width=\"3.2\"/>\n",
       "<circle clip-path=\"url(#clip522)\" cx=\"1845.24\" cy=\"1308.5\" r=\"14\" fill=\"#ed5d92\" fill-rule=\"evenodd\" fill-opacity=\"1\" stroke=\"#000000\" stroke-opacity=\"1\" stroke-width=\"3.2\"/>\n",
       "<circle clip-path=\"url(#clip522)\" cx=\"2068.82\" cy=\"1317.05\" r=\"14\" fill=\"#ed5d92\" fill-rule=\"evenodd\" fill-opacity=\"1\" stroke=\"#000000\" stroke-opacity=\"1\" stroke-width=\"3.2\"/>\n",
       "<circle clip-path=\"url(#clip522)\" cx=\"2292.39\" cy=\"1320.02\" r=\"14\" fill=\"#ed5d92\" fill-rule=\"evenodd\" fill-opacity=\"1\" stroke=\"#000000\" stroke-opacity=\"1\" stroke-width=\"3.2\"/>\n",
       "<polyline clip-path=\"url(#clip522)\" style=\"stroke:#c68125; stroke-linecap:butt; stroke-linejoin:round; stroke-width:4; stroke-opacity:1; fill:none\" points=\"\n",
       "  280.231,85.8395 503.804,86.0208 727.378,87.4289 950.951,98.6255 1174.52,210.44 1398.1,1197.14 1621.67,1304.92 1845.24,1329.78 2068.82,1337.8 2292.39,1340.59 \n",
       "  \n",
       "  \"/>\n",
       "<circle clip-path=\"url(#clip522)\" cx=\"280.231\" cy=\"85.8395\" r=\"14\" fill=\"#c68125\" fill-rule=\"evenodd\" fill-opacity=\"1\" stroke=\"#000000\" stroke-opacity=\"1\" stroke-width=\"3.2\"/>\n",
       "<circle clip-path=\"url(#clip522)\" cx=\"503.804\" cy=\"86.0208\" r=\"14\" fill=\"#c68125\" fill-rule=\"evenodd\" fill-opacity=\"1\" stroke=\"#000000\" stroke-opacity=\"1\" stroke-width=\"3.2\"/>\n",
       "<circle clip-path=\"url(#clip522)\" cx=\"727.378\" cy=\"87.4289\" r=\"14\" fill=\"#c68125\" fill-rule=\"evenodd\" fill-opacity=\"1\" stroke=\"#000000\" stroke-opacity=\"1\" stroke-width=\"3.2\"/>\n",
       "<circle clip-path=\"url(#clip522)\" cx=\"950.951\" cy=\"98.6255\" r=\"14\" fill=\"#c68125\" fill-rule=\"evenodd\" fill-opacity=\"1\" stroke=\"#000000\" stroke-opacity=\"1\" stroke-width=\"3.2\"/>\n",
       "<circle clip-path=\"url(#clip522)\" cx=\"1174.52\" cy=\"210.44\" r=\"14\" fill=\"#c68125\" fill-rule=\"evenodd\" fill-opacity=\"1\" stroke=\"#000000\" stroke-opacity=\"1\" stroke-width=\"3.2\"/>\n",
       "<circle clip-path=\"url(#clip522)\" cx=\"1398.1\" cy=\"1197.14\" r=\"14\" fill=\"#c68125\" fill-rule=\"evenodd\" fill-opacity=\"1\" stroke=\"#000000\" stroke-opacity=\"1\" stroke-width=\"3.2\"/>\n",
       "<circle clip-path=\"url(#clip522)\" cx=\"1621.67\" cy=\"1304.92\" r=\"14\" fill=\"#c68125\" fill-rule=\"evenodd\" fill-opacity=\"1\" stroke=\"#000000\" stroke-opacity=\"1\" stroke-width=\"3.2\"/>\n",
       "<circle clip-path=\"url(#clip522)\" cx=\"1845.24\" cy=\"1329.78\" r=\"14\" fill=\"#c68125\" fill-rule=\"evenodd\" fill-opacity=\"1\" stroke=\"#000000\" stroke-opacity=\"1\" stroke-width=\"3.2\"/>\n",
       "<circle clip-path=\"url(#clip522)\" cx=\"2068.82\" cy=\"1337.8\" r=\"14\" fill=\"#c68125\" fill-rule=\"evenodd\" fill-opacity=\"1\" stroke=\"#000000\" stroke-opacity=\"1\" stroke-width=\"3.2\"/>\n",
       "<circle clip-path=\"url(#clip522)\" cx=\"2292.39\" cy=\"1340.59\" r=\"14\" fill=\"#c68125\" fill-rule=\"evenodd\" fill-opacity=\"1\" stroke=\"#000000\" stroke-opacity=\"1\" stroke-width=\"3.2\"/>\n",
       "<polyline clip-path=\"url(#clip522)\" style=\"stroke:#00a98d; stroke-linecap:butt; stroke-linejoin:round; stroke-width:4; stroke-opacity:1; fill:none\" points=\"\n",
       "  280.231,85.8387 503.804,86.0145 727.378,87.3799 950.951,98.2307 1174.52,205.751 1398.1,1221.43 1621.67,1324.01 1845.24,1347.52 2068.82,1355.1 2292.39,1357.73 \n",
       "  \n",
       "  \"/>\n",
       "<circle clip-path=\"url(#clip522)\" cx=\"280.231\" cy=\"85.8387\" r=\"14\" fill=\"#00a98d\" fill-rule=\"evenodd\" fill-opacity=\"1\" stroke=\"#000000\" stroke-opacity=\"1\" stroke-width=\"3.2\"/>\n",
       "<circle clip-path=\"url(#clip522)\" cx=\"503.804\" cy=\"86.0145\" r=\"14\" fill=\"#00a98d\" fill-rule=\"evenodd\" fill-opacity=\"1\" stroke=\"#000000\" stroke-opacity=\"1\" stroke-width=\"3.2\"/>\n",
       "<circle clip-path=\"url(#clip522)\" cx=\"727.378\" cy=\"87.3799\" r=\"14\" fill=\"#00a98d\" fill-rule=\"evenodd\" fill-opacity=\"1\" stroke=\"#000000\" stroke-opacity=\"1\" stroke-width=\"3.2\"/>\n",
       "<circle clip-path=\"url(#clip522)\" cx=\"950.951\" cy=\"98.2307\" r=\"14\" fill=\"#00a98d\" fill-rule=\"evenodd\" fill-opacity=\"1\" stroke=\"#000000\" stroke-opacity=\"1\" stroke-width=\"3.2\"/>\n",
       "<circle clip-path=\"url(#clip522)\" cx=\"1174.52\" cy=\"205.751\" r=\"14\" fill=\"#00a98d\" fill-rule=\"evenodd\" fill-opacity=\"1\" stroke=\"#000000\" stroke-opacity=\"1\" stroke-width=\"3.2\"/>\n",
       "<circle clip-path=\"url(#clip522)\" cx=\"1398.1\" cy=\"1221.43\" r=\"14\" fill=\"#00a98d\" fill-rule=\"evenodd\" fill-opacity=\"1\" stroke=\"#000000\" stroke-opacity=\"1\" stroke-width=\"3.2\"/>\n",
       "<circle clip-path=\"url(#clip522)\" cx=\"1621.67\" cy=\"1324.01\" r=\"14\" fill=\"#00a98d\" fill-rule=\"evenodd\" fill-opacity=\"1\" stroke=\"#000000\" stroke-opacity=\"1\" stroke-width=\"3.2\"/>\n",
       "<circle clip-path=\"url(#clip522)\" cx=\"1845.24\" cy=\"1347.52\" r=\"14\" fill=\"#00a98d\" fill-rule=\"evenodd\" fill-opacity=\"1\" stroke=\"#000000\" stroke-opacity=\"1\" stroke-width=\"3.2\"/>\n",
       "<circle clip-path=\"url(#clip522)\" cx=\"2068.82\" cy=\"1355.1\" r=\"14\" fill=\"#00a98d\" fill-rule=\"evenodd\" fill-opacity=\"1\" stroke=\"#000000\" stroke-opacity=\"1\" stroke-width=\"3.2\"/>\n",
       "<circle clip-path=\"url(#clip522)\" cx=\"2292.39\" cy=\"1357.73\" r=\"14\" fill=\"#00a98d\" fill-rule=\"evenodd\" fill-opacity=\"1\" stroke=\"#000000\" stroke-opacity=\"1\" stroke-width=\"3.2\"/>\n",
       "<polyline clip-path=\"url(#clip522)\" style=\"stroke:#8e971d; stroke-linecap:butt; stroke-linejoin:round; stroke-width:4; stroke-opacity:1; fill:none\" points=\"\n",
       "  280.231,85.838 503.804,86.0094 727.378,87.3406 950.951,97.9149 1174.52,202.122 1398.1,1242.2 1621.67,1340.24 1845.24,1362.6 2068.82,1369.8 2292.39,1372.3 \n",
       "  \n",
       "  \"/>\n",
       "<circle clip-path=\"url(#clip522)\" cx=\"280.231\" cy=\"85.838\" r=\"14\" fill=\"#8e971d\" fill-rule=\"evenodd\" fill-opacity=\"1\" stroke=\"#000000\" stroke-opacity=\"1\" stroke-width=\"3.2\"/>\n",
       "<circle clip-path=\"url(#clip522)\" cx=\"503.804\" cy=\"86.0094\" r=\"14\" fill=\"#8e971d\" fill-rule=\"evenodd\" fill-opacity=\"1\" stroke=\"#000000\" stroke-opacity=\"1\" stroke-width=\"3.2\"/>\n",
       "<circle clip-path=\"url(#clip522)\" cx=\"727.378\" cy=\"87.3406\" r=\"14\" fill=\"#8e971d\" fill-rule=\"evenodd\" fill-opacity=\"1\" stroke=\"#000000\" stroke-opacity=\"1\" stroke-width=\"3.2\"/>\n",
       "<circle clip-path=\"url(#clip522)\" cx=\"950.951\" cy=\"97.9149\" r=\"14\" fill=\"#8e971d\" fill-rule=\"evenodd\" fill-opacity=\"1\" stroke=\"#000000\" stroke-opacity=\"1\" stroke-width=\"3.2\"/>\n",
       "<circle clip-path=\"url(#clip522)\" cx=\"1174.52\" cy=\"202.122\" r=\"14\" fill=\"#8e971d\" fill-rule=\"evenodd\" fill-opacity=\"1\" stroke=\"#000000\" stroke-opacity=\"1\" stroke-width=\"3.2\"/>\n",
       "<circle clip-path=\"url(#clip522)\" cx=\"1398.1\" cy=\"1242.2\" r=\"14\" fill=\"#8e971d\" fill-rule=\"evenodd\" fill-opacity=\"1\" stroke=\"#000000\" stroke-opacity=\"1\" stroke-width=\"3.2\"/>\n",
       "<circle clip-path=\"url(#clip522)\" cx=\"1621.67\" cy=\"1340.24\" r=\"14\" fill=\"#8e971d\" fill-rule=\"evenodd\" fill-opacity=\"1\" stroke=\"#000000\" stroke-opacity=\"1\" stroke-width=\"3.2\"/>\n",
       "<circle clip-path=\"url(#clip522)\" cx=\"1845.24\" cy=\"1362.6\" r=\"14\" fill=\"#8e971d\" fill-rule=\"evenodd\" fill-opacity=\"1\" stroke=\"#000000\" stroke-opacity=\"1\" stroke-width=\"3.2\"/>\n",
       "<circle clip-path=\"url(#clip522)\" cx=\"2068.82\" cy=\"1369.8\" r=\"14\" fill=\"#8e971d\" fill-rule=\"evenodd\" fill-opacity=\"1\" stroke=\"#000000\" stroke-opacity=\"1\" stroke-width=\"3.2\"/>\n",
       "<circle clip-path=\"url(#clip522)\" cx=\"2292.39\" cy=\"1372.3\" r=\"14\" fill=\"#8e971d\" fill-rule=\"evenodd\" fill-opacity=\"1\" stroke=\"#000000\" stroke-opacity=\"1\" stroke-width=\"3.2\"/>\n",
       "<path clip-path=\"url(#clip520)\" d=\"\n",
       "M1886.34 662.939 L2281.66 662.939 L2281.66 92.6992 L1886.34 92.6992  Z\n",
       "  \" fill=\"#ffffff\" fill-rule=\"evenodd\" fill-opacity=\"1\"/>\n",
       "<polyline clip-path=\"url(#clip520)\" style=\"stroke:#000000; stroke-linecap:butt; stroke-linejoin:round; stroke-width:4; stroke-opacity:1; fill:none\" points=\"\n",
       "  1886.34,662.939 2281.66,662.939 2281.66,92.6992 1886.34,92.6992 1886.34,662.939 \n",
       "  \"/>\n",
       "<polyline clip-path=\"url(#clip520)\" style=\"stroke:#009af9; stroke-linecap:butt; stroke-linejoin:round; stroke-width:4; stroke-opacity:1; fill:none\" points=\"\n",
       "  1910.04,144.539 2052.23,144.539 \n",
       "  \"/>\n",
       "<circle clip-path=\"url(#clip520)\" cx=\"1981.13\" cy=\"144.539\" r=\"23\" fill=\"#009af9\" fill-rule=\"evenodd\" fill-opacity=\"1\" stroke=\"#000000\" stroke-opacity=\"1\" stroke-width=\"5.12\"/>\n",
       "<path clip-path=\"url(#clip520)\" d=\"M2075.93 127.259 L2082.23 127.259 L2097.55 156.171 L2097.55 127.259 L2102.09 127.259 L2102.09 161.819 L2095.79 161.819 L2080.47 132.907 L2080.47 161.819 L2075.93 161.819 L2075.93 127.259 Z\" fill=\"#000000\" fill-rule=\"evenodd\" fill-opacity=\"1\" /><path clip-path=\"url(#clip520)\" d=\"M2126.83 140.292 L2156.51 140.292 L2156.51 144.18 L2126.83 144.18 L2126.83 140.292 M2126.83 149.736 L2156.51 149.736 L2156.51 153.671 L2126.83 153.671 L2126.83 149.736 Z\" fill=\"#000000\" fill-rule=\"evenodd\" fill-opacity=\"1\" /><path clip-path=\"url(#clip520)\" d=\"M2185.7 157.884 L2202.02 157.884 L2202.02 161.819 L2180.07 161.819 L2180.07 157.884 Q2182.73 155.129 2187.32 150.5 Q2191.92 145.847 2193.1 144.504 Q2195.35 141.981 2196.23 140.245 Q2197.13 138.486 2197.13 136.796 Q2197.13 134.042 2195.19 132.305 Q2193.27 130.569 2190.17 130.569 Q2187.97 130.569 2185.51 131.333 Q2183.08 132.097 2180.3 133.648 L2180.3 128.926 Q2183.13 127.792 2185.58 127.213 Q2188.04 126.634 2190.07 126.634 Q2195.44 126.634 2198.64 129.319 Q2201.83 132.005 2201.83 136.495 Q2201.83 138.625 2201.02 140.546 Q2200.23 142.444 2198.13 145.037 Q2197.55 145.708 2194.45 148.926 Q2191.35 152.12 2185.7 157.884 Z\" fill=\"#000000\" fill-rule=\"evenodd\" fill-opacity=\"1\" /><polyline clip-path=\"url(#clip520)\" style=\"stroke:#e26f46; stroke-linecap:butt; stroke-linejoin:round; stroke-width:4; stroke-opacity:1; fill:none\" points=\"\n",
       "  1910.04,196.379 2052.23,196.379 \n",
       "  \"/>\n",
       "<circle clip-path=\"url(#clip520)\" cx=\"1981.13\" cy=\"196.379\" r=\"23\" fill=\"#e26f46\" fill-rule=\"evenodd\" fill-opacity=\"1\" stroke=\"#000000\" stroke-opacity=\"1\" stroke-width=\"5.12\"/>\n",
       "<path clip-path=\"url(#clip520)\" d=\"M2075.93 179.099 L2082.23 179.099 L2097.55 208.011 L2097.55 179.099 L2102.09 179.099 L2102.09 213.659 L2095.79 213.659 L2080.47 184.747 L2080.47 213.659 L2075.93 213.659 L2075.93 179.099 Z\" fill=\"#000000\" fill-rule=\"evenodd\" fill-opacity=\"1\" /><path clip-path=\"url(#clip520)\" d=\"M2126.83 192.132 L2156.51 192.132 L2156.51 196.02 L2126.83 196.02 L2126.83 192.132 M2126.83 201.576 L2156.51 201.576 L2156.51 205.511 L2126.83 205.511 L2126.83 201.576 Z\" fill=\"#000000\" fill-rule=\"evenodd\" fill-opacity=\"1\" /><path clip-path=\"url(#clip520)\" d=\"M2194.52 183.173 L2182.71 201.622 L2194.52 201.622 L2194.52 183.173 M2193.29 179.099 L2199.17 179.099 L2199.17 201.622 L2204.1 201.622 L2204.1 205.511 L2199.17 205.511 L2199.17 213.659 L2194.52 213.659 L2194.52 205.511 L2178.92 205.511 L2178.92 200.997 L2193.29 179.099 Z\" fill=\"#000000\" fill-rule=\"evenodd\" fill-opacity=\"1\" /><polyline clip-path=\"url(#clip520)\" style=\"stroke:#3da44d; stroke-linecap:butt; stroke-linejoin:round; stroke-width:4; stroke-opacity:1; fill:none\" points=\"\n",
       "  1910.04,248.219 2052.23,248.219 \n",
       "  \"/>\n",
       "<circle clip-path=\"url(#clip520)\" cx=\"1981.13\" cy=\"248.219\" r=\"23\" fill=\"#3da44d\" fill-rule=\"evenodd\" fill-opacity=\"1\" stroke=\"#000000\" stroke-opacity=\"1\" stroke-width=\"5.12\"/>\n",
       "<path clip-path=\"url(#clip520)\" d=\"M2075.93 230.939 L2082.23 230.939 L2097.55 259.851 L2097.55 230.939 L2102.09 230.939 L2102.09 265.499 L2095.79 265.499 L2080.47 236.587 L2080.47 265.499 L2075.93 265.499 L2075.93 230.939 Z\" fill=\"#000000\" fill-rule=\"evenodd\" fill-opacity=\"1\" /><path clip-path=\"url(#clip520)\" d=\"M2126.83 243.972 L2156.51 243.972 L2156.51 247.86 L2126.83 247.86 L2126.83 243.972 M2126.83 253.416 L2156.51 253.416 L2156.51 257.351 L2126.83 257.351 L2126.83 253.416 Z\" fill=\"#000000\" fill-rule=\"evenodd\" fill-opacity=\"1\" /><path clip-path=\"url(#clip520)\" d=\"M2192.25 246.356 Q2189.1 246.356 2187.25 248.509 Q2185.42 250.661 2185.42 254.411 Q2185.42 258.138 2187.25 260.314 Q2189.1 262.467 2192.25 262.467 Q2195.4 262.467 2197.23 260.314 Q2199.08 258.138 2199.08 254.411 Q2199.08 250.661 2197.23 248.509 Q2195.4 246.356 2192.25 246.356 M2201.53 231.703 L2201.53 235.962 Q2199.77 235.129 2197.97 234.689 Q2196.18 234.249 2194.42 234.249 Q2189.79 234.249 2187.34 237.374 Q2184.91 240.499 2184.56 246.819 Q2185.93 244.805 2187.99 243.74 Q2190.05 242.652 2192.53 242.652 Q2197.73 242.652 2200.74 245.823 Q2203.78 248.971 2203.78 254.411 Q2203.78 259.735 2200.63 262.953 Q2197.48 266.17 2192.25 266.17 Q2186.25 266.17 2183.08 261.587 Q2179.91 256.981 2179.91 248.254 Q2179.91 240.06 2183.8 235.198 Q2187.69 230.314 2194.24 230.314 Q2196 230.314 2197.78 230.661 Q2199.59 231.009 2201.53 231.703 Z\" fill=\"#000000\" fill-rule=\"evenodd\" fill-opacity=\"1\" /><polyline clip-path=\"url(#clip520)\" style=\"stroke:#c271d2; stroke-linecap:butt; stroke-linejoin:round; stroke-width:4; stroke-opacity:1; fill:none\" points=\"\n",
       "  1910.04,300.059 2052.23,300.059 \n",
       "  \"/>\n",
       "<circle clip-path=\"url(#clip520)\" cx=\"1981.13\" cy=\"300.059\" r=\"23\" fill=\"#c271d2\" fill-rule=\"evenodd\" fill-opacity=\"1\" stroke=\"#000000\" stroke-opacity=\"1\" stroke-width=\"5.12\"/>\n",
       "<path clip-path=\"url(#clip520)\" d=\"M2075.93 282.779 L2082.23 282.779 L2097.55 311.691 L2097.55 282.779 L2102.09 282.779 L2102.09 317.339 L2095.79 317.339 L2080.47 288.427 L2080.47 317.339 L2075.93 317.339 L2075.93 282.779 Z\" fill=\"#000000\" fill-rule=\"evenodd\" fill-opacity=\"1\" /><path clip-path=\"url(#clip520)\" d=\"M2126.83 295.812 L2156.51 295.812 L2156.51 299.7 L2126.83 299.7 L2126.83 295.812 M2126.83 305.256 L2156.51 305.256 L2156.51 309.191 L2126.83 309.191 L2126.83 305.256 Z\" fill=\"#000000\" fill-rule=\"evenodd\" fill-opacity=\"1\" /><path clip-path=\"url(#clip520)\" d=\"M2191.67 300.927 Q2188.34 300.927 2186.42 302.71 Q2184.52 304.492 2184.52 307.617 Q2184.52 310.742 2186.42 312.524 Q2188.34 314.307 2191.67 314.307 Q2195 314.307 2196.92 312.524 Q2198.85 310.719 2198.85 307.617 Q2198.85 304.492 2196.92 302.71 Q2195.03 300.927 2191.67 300.927 M2186.99 298.937 Q2183.98 298.196 2182.29 296.136 Q2180.63 294.075 2180.63 291.112 Q2180.63 286.969 2183.57 284.562 Q2186.53 282.154 2191.67 282.154 Q2196.83 282.154 2199.77 284.562 Q2202.71 286.969 2202.71 291.112 Q2202.71 294.075 2201.02 296.136 Q2199.35 298.196 2196.37 298.937 Q2199.75 299.724 2201.62 302.015 Q2203.52 304.307 2203.52 307.617 Q2203.52 312.64 2200.44 315.325 Q2197.39 318.01 2191.67 318.01 Q2185.95 318.01 2182.87 315.325 Q2179.82 312.64 2179.82 307.617 Q2179.82 304.307 2181.72 302.015 Q2183.61 299.724 2186.99 298.937 M2185.28 291.552 Q2185.28 294.237 2186.95 295.742 Q2188.64 297.247 2191.67 297.247 Q2194.68 297.247 2196.37 295.742 Q2198.08 294.237 2198.08 291.552 Q2198.08 288.867 2196.37 287.362 Q2194.68 285.858 2191.67 285.858 Q2188.64 285.858 2186.95 287.362 Q2185.28 288.867 2185.28 291.552 Z\" fill=\"#000000\" fill-rule=\"evenodd\" fill-opacity=\"1\" /><polyline clip-path=\"url(#clip520)\" style=\"stroke:#ac8d18; stroke-linecap:butt; stroke-linejoin:round; stroke-width:4; stroke-opacity:1; fill:none\" points=\"\n",
       "  1910.04,351.899 2052.23,351.899 \n",
       "  \"/>\n",
       "<circle clip-path=\"url(#clip520)\" cx=\"1981.13\" cy=\"351.899\" r=\"23\" fill=\"#ac8d18\" fill-rule=\"evenodd\" fill-opacity=\"1\" stroke=\"#000000\" stroke-opacity=\"1\" stroke-width=\"5.12\"/>\n",
       "<path clip-path=\"url(#clip520)\" d=\"M2075.93 334.619 L2082.23 334.619 L2097.55 363.531 L2097.55 334.619 L2102.09 334.619 L2102.09 369.179 L2095.79 369.179 L2080.47 340.267 L2080.47 369.179 L2075.93 369.179 L2075.93 334.619 Z\" fill=\"#000000\" fill-rule=\"evenodd\" fill-opacity=\"1\" /><path clip-path=\"url(#clip520)\" d=\"M2126.83 347.652 L2156.51 347.652 L2156.51 351.54 L2126.83 351.54 L2126.83 347.652 M2126.83 357.096 L2156.51 357.096 L2156.51 361.031 L2126.83 361.031 L2126.83 357.096 Z\" fill=\"#000000\" fill-rule=\"evenodd\" fill-opacity=\"1\" /><path clip-path=\"url(#clip520)\" d=\"M2182.48 365.244 L2190.12 365.244 L2190.12 338.878 L2181.81 340.545 L2181.81 336.286 L2190.07 334.619 L2194.75 334.619 L2194.75 365.244 L2202.39 365.244 L2202.39 369.179 L2182.48 369.179 L2182.48 365.244 Z\" fill=\"#000000\" fill-rule=\"evenodd\" fill-opacity=\"1\" /><path clip-path=\"url(#clip520)\" d=\"M2221.83 337.698 Q2218.22 337.698 2216.39 341.263 Q2214.59 344.804 2214.59 351.934 Q2214.59 359.04 2216.39 362.605 Q2218.22 366.147 2221.83 366.147 Q2225.47 366.147 2227.27 362.605 Q2229.1 359.04 2229.1 351.934 Q2229.1 344.804 2227.27 341.263 Q2225.47 337.698 2221.83 337.698 M2221.83 333.994 Q2227.64 333.994 2230.7 338.601 Q2233.78 343.184 2233.78 351.934 Q2233.78 360.661 2230.7 365.267 Q2227.64 369.85 2221.83 369.85 Q2216.02 369.85 2212.94 365.267 Q2209.89 360.661 2209.89 351.934 Q2209.89 343.184 2212.94 338.601 Q2216.02 333.994 2221.83 333.994 Z\" fill=\"#000000\" fill-rule=\"evenodd\" fill-opacity=\"1\" /><polyline clip-path=\"url(#clip520)\" style=\"stroke:#00a9ad; stroke-linecap:butt; stroke-linejoin:round; stroke-width:4; stroke-opacity:1; fill:none\" points=\"\n",
       "  1910.04,403.739 2052.23,403.739 \n",
       "  \"/>\n",
       "<circle clip-path=\"url(#clip520)\" cx=\"1981.13\" cy=\"403.739\" r=\"23\" fill=\"#00a9ad\" fill-rule=\"evenodd\" fill-opacity=\"1\" stroke=\"#000000\" stroke-opacity=\"1\" stroke-width=\"5.12\"/>\n",
       "<path clip-path=\"url(#clip520)\" d=\"M2075.93 386.459 L2082.23 386.459 L2097.55 415.371 L2097.55 386.459 L2102.09 386.459 L2102.09 421.019 L2095.79 421.019 L2080.47 392.107 L2080.47 421.019 L2075.93 421.019 L2075.93 386.459 Z\" fill=\"#000000\" fill-rule=\"evenodd\" fill-opacity=\"1\" /><path clip-path=\"url(#clip520)\" d=\"M2126.83 399.492 L2156.51 399.492 L2156.51 403.38 L2126.83 403.38 L2126.83 399.492 M2126.83 408.936 L2156.51 408.936 L2156.51 412.871 L2126.83 412.871 L2126.83 408.936 Z\" fill=\"#000000\" fill-rule=\"evenodd\" fill-opacity=\"1\" /><path clip-path=\"url(#clip520)\" d=\"M2182.48 417.084 L2190.12 417.084 L2190.12 390.718 L2181.81 392.385 L2181.81 388.126 L2190.07 386.459 L2194.75 386.459 L2194.75 417.084 L2202.39 417.084 L2202.39 421.019 L2182.48 421.019 L2182.48 417.084 Z\" fill=\"#000000\" fill-rule=\"evenodd\" fill-opacity=\"1\" /><path clip-path=\"url(#clip520)\" d=\"M2215.86 417.084 L2232.18 417.084 L2232.18 421.019 L2210.23 421.019 L2210.23 417.084 Q2212.9 414.329 2217.48 409.7 Q2222.09 405.047 2223.27 403.704 Q2225.51 401.181 2226.39 399.445 Q2227.29 397.686 2227.29 395.996 Q2227.29 393.242 2225.35 391.505 Q2223.43 389.769 2220.33 389.769 Q2218.13 389.769 2215.67 390.533 Q2213.24 391.297 2210.47 392.848 L2210.47 388.126 Q2213.29 386.992 2215.74 386.413 Q2218.2 385.834 2220.23 385.834 Q2225.6 385.834 2228.8 388.519 Q2231.99 391.205 2231.99 395.695 Q2231.99 397.825 2231.18 399.746 Q2230.4 401.644 2228.29 404.237 Q2227.71 404.908 2224.61 408.126 Q2221.51 411.32 2215.86 417.084 Z\" fill=\"#000000\" fill-rule=\"evenodd\" fill-opacity=\"1\" /><polyline clip-path=\"url(#clip520)\" style=\"stroke:#ed5d92; stroke-linecap:butt; stroke-linejoin:round; stroke-width:4; stroke-opacity:1; fill:none\" points=\"\n",
       "  1910.04,455.579 2052.23,455.579 \n",
       "  \"/>\n",
       "<circle clip-path=\"url(#clip520)\" cx=\"1981.13\" cy=\"455.579\" r=\"23\" fill=\"#ed5d92\" fill-rule=\"evenodd\" fill-opacity=\"1\" stroke=\"#000000\" stroke-opacity=\"1\" stroke-width=\"5.12\"/>\n",
       "<path clip-path=\"url(#clip520)\" d=\"M2075.93 438.299 L2082.23 438.299 L2097.55 467.211 L2097.55 438.299 L2102.09 438.299 L2102.09 472.859 L2095.79 472.859 L2080.47 443.947 L2080.47 472.859 L2075.93 472.859 L2075.93 438.299 Z\" fill=\"#000000\" fill-rule=\"evenodd\" fill-opacity=\"1\" /><path clip-path=\"url(#clip520)\" d=\"M2126.83 451.332 L2156.51 451.332 L2156.51 455.22 L2126.83 455.22 L2126.83 451.332 M2126.83 460.776 L2156.51 460.776 L2156.51 464.711 L2126.83 464.711 L2126.83 460.776 Z\" fill=\"#000000\" fill-rule=\"evenodd\" fill-opacity=\"1\" /><path clip-path=\"url(#clip520)\" d=\"M2182.48 468.924 L2190.12 468.924 L2190.12 442.558 L2181.81 444.225 L2181.81 439.966 L2190.07 438.299 L2194.75 438.299 L2194.75 468.924 L2202.39 468.924 L2202.39 472.859 L2182.48 472.859 L2182.48 468.924 Z\" fill=\"#000000\" fill-rule=\"evenodd\" fill-opacity=\"1\" /><path clip-path=\"url(#clip520)\" d=\"M2224.68 442.373 L2212.87 460.822 L2224.68 460.822 L2224.68 442.373 M2223.45 438.299 L2229.33 438.299 L2229.33 460.822 L2234.26 460.822 L2234.26 464.711 L2229.33 464.711 L2229.33 472.859 L2224.68 472.859 L2224.68 464.711 L2209.08 464.711 L2209.08 460.197 L2223.45 438.299 Z\" fill=\"#000000\" fill-rule=\"evenodd\" fill-opacity=\"1\" /><polyline clip-path=\"url(#clip520)\" style=\"stroke:#c68125; stroke-linecap:butt; stroke-linejoin:round; stroke-width:4; stroke-opacity:1; fill:none\" points=\"\n",
       "  1910.04,507.419 2052.23,507.419 \n",
       "  \"/>\n",
       "<circle clip-path=\"url(#clip520)\" cx=\"1981.13\" cy=\"507.419\" r=\"23\" fill=\"#c68125\" fill-rule=\"evenodd\" fill-opacity=\"1\" stroke=\"#000000\" stroke-opacity=\"1\" stroke-width=\"5.12\"/>\n",
       "<path clip-path=\"url(#clip520)\" d=\"M2075.93 490.139 L2082.23 490.139 L2097.55 519.051 L2097.55 490.139 L2102.09 490.139 L2102.09 524.699 L2095.79 524.699 L2080.47 495.787 L2080.47 524.699 L2075.93 524.699 L2075.93 490.139 Z\" fill=\"#000000\" fill-rule=\"evenodd\" fill-opacity=\"1\" /><path clip-path=\"url(#clip520)\" d=\"M2126.83 503.172 L2156.51 503.172 L2156.51 507.06 L2126.83 507.06 L2126.83 503.172 M2126.83 512.616 L2156.51 512.616 L2156.51 516.551 L2126.83 516.551 L2126.83 512.616 Z\" fill=\"#000000\" fill-rule=\"evenodd\" fill-opacity=\"1\" /><path clip-path=\"url(#clip520)\" d=\"M2182.48 520.764 L2190.12 520.764 L2190.12 494.398 L2181.81 496.065 L2181.81 491.806 L2190.07 490.139 L2194.75 490.139 L2194.75 520.764 L2202.39 520.764 L2202.39 524.699 L2182.48 524.699 L2182.48 520.764 Z\" fill=\"#000000\" fill-rule=\"evenodd\" fill-opacity=\"1\" /><path clip-path=\"url(#clip520)\" d=\"M2222.41 505.556 Q2219.26 505.556 2217.41 507.709 Q2215.58 509.861 2215.58 513.611 Q2215.58 517.338 2217.41 519.514 Q2219.26 521.667 2222.41 521.667 Q2225.56 521.667 2227.39 519.514 Q2229.24 517.338 2229.24 513.611 Q2229.24 509.861 2227.39 507.709 Q2225.56 505.556 2222.41 505.556 M2231.69 490.903 L2231.69 495.162 Q2229.93 494.329 2228.13 493.889 Q2226.35 493.449 2224.59 493.449 Q2219.96 493.449 2217.5 496.574 Q2215.07 499.699 2214.73 506.019 Q2216.09 504.005 2218.15 502.94 Q2220.21 501.852 2222.69 501.852 Q2227.9 501.852 2230.91 505.023 Q2233.94 508.171 2233.94 513.611 Q2233.94 518.935 2230.79 522.153 Q2227.64 525.37 2222.41 525.37 Q2216.41 525.37 2213.24 520.787 Q2210.07 516.181 2210.07 507.454 Q2210.07 499.26 2213.96 494.398 Q2217.85 489.514 2224.4 489.514 Q2226.16 489.514 2227.94 489.861 Q2229.75 490.209 2231.69 490.903 Z\" fill=\"#000000\" fill-rule=\"evenodd\" fill-opacity=\"1\" /><polyline clip-path=\"url(#clip520)\" style=\"stroke:#00a98d; stroke-linecap:butt; stroke-linejoin:round; stroke-width:4; stroke-opacity:1; fill:none\" points=\"\n",
       "  1910.04,559.259 2052.23,559.259 \n",
       "  \"/>\n",
       "<circle clip-path=\"url(#clip520)\" cx=\"1981.13\" cy=\"559.259\" r=\"23\" fill=\"#00a98d\" fill-rule=\"evenodd\" fill-opacity=\"1\" stroke=\"#000000\" stroke-opacity=\"1\" stroke-width=\"5.12\"/>\n",
       "<path clip-path=\"url(#clip520)\" d=\"M2075.93 541.979 L2082.23 541.979 L2097.55 570.891 L2097.55 541.979 L2102.09 541.979 L2102.09 576.539 L2095.79 576.539 L2080.47 547.627 L2080.47 576.539 L2075.93 576.539 L2075.93 541.979 Z\" fill=\"#000000\" fill-rule=\"evenodd\" fill-opacity=\"1\" /><path clip-path=\"url(#clip520)\" d=\"M2126.83 555.012 L2156.51 555.012 L2156.51 558.9 L2126.83 558.9 L2126.83 555.012 M2126.83 564.456 L2156.51 564.456 L2156.51 568.391 L2126.83 568.391 L2126.83 564.456 Z\" fill=\"#000000\" fill-rule=\"evenodd\" fill-opacity=\"1\" /><path clip-path=\"url(#clip520)\" d=\"M2182.48 572.604 L2190.12 572.604 L2190.12 546.238 L2181.81 547.905 L2181.81 543.646 L2190.07 541.979 L2194.75 541.979 L2194.75 572.604 L2202.39 572.604 L2202.39 576.539 L2182.48 576.539 L2182.48 572.604 Z\" fill=\"#000000\" fill-rule=\"evenodd\" fill-opacity=\"1\" /><path clip-path=\"url(#clip520)\" d=\"M2221.83 560.127 Q2218.5 560.127 2216.58 561.91 Q2214.68 563.692 2214.68 566.817 Q2214.68 569.942 2216.58 571.724 Q2218.5 573.507 2221.83 573.507 Q2225.16 573.507 2227.09 571.724 Q2229.01 569.919 2229.01 566.817 Q2229.01 563.692 2227.09 561.91 Q2225.19 560.127 2221.83 560.127 M2217.16 558.137 Q2214.15 557.396 2212.46 555.336 Q2210.79 553.275 2210.79 550.312 Q2210.79 546.169 2213.73 543.762 Q2216.69 541.354 2221.83 541.354 Q2226.99 541.354 2229.93 543.762 Q2232.87 546.169 2232.87 550.312 Q2232.87 553.275 2231.18 555.336 Q2229.52 557.396 2226.53 558.137 Q2229.91 558.924 2231.79 561.215 Q2233.68 563.507 2233.68 566.817 Q2233.68 571.84 2230.6 574.525 Q2227.55 577.21 2221.83 577.21 Q2216.11 577.21 2213.04 574.525 Q2209.98 571.84 2209.98 566.817 Q2209.98 563.507 2211.88 561.215 Q2213.78 558.924 2217.16 558.137 M2215.44 550.752 Q2215.44 553.437 2217.11 554.942 Q2218.8 556.447 2221.83 556.447 Q2224.84 556.447 2226.53 554.942 Q2228.24 553.437 2228.24 550.752 Q2228.24 548.067 2226.53 546.562 Q2224.84 545.058 2221.83 545.058 Q2218.8 545.058 2217.11 546.562 Q2215.44 548.067 2215.44 550.752 Z\" fill=\"#000000\" fill-rule=\"evenodd\" fill-opacity=\"1\" /><polyline clip-path=\"url(#clip520)\" style=\"stroke:#8e971d; stroke-linecap:butt; stroke-linejoin:round; stroke-width:4; stroke-opacity:1; fill:none\" points=\"\n",
       "  1910.04,611.099 2052.23,611.099 \n",
       "  \"/>\n",
       "<circle clip-path=\"url(#clip520)\" cx=\"1981.13\" cy=\"611.099\" r=\"23\" fill=\"#8e971d\" fill-rule=\"evenodd\" fill-opacity=\"1\" stroke=\"#000000\" stroke-opacity=\"1\" stroke-width=\"5.12\"/>\n",
       "<path clip-path=\"url(#clip520)\" d=\"M2075.93 593.819 L2082.23 593.819 L2097.55 622.731 L2097.55 593.819 L2102.09 593.819 L2102.09 628.379 L2095.79 628.379 L2080.47 599.467 L2080.47 628.379 L2075.93 628.379 L2075.93 593.819 Z\" fill=\"#000000\" fill-rule=\"evenodd\" fill-opacity=\"1\" /><path clip-path=\"url(#clip520)\" d=\"M2126.83 606.852 L2156.51 606.852 L2156.51 610.74 L2126.83 610.74 L2126.83 606.852 M2126.83 616.296 L2156.51 616.296 L2156.51 620.231 L2126.83 620.231 L2126.83 616.296 Z\" fill=\"#000000\" fill-rule=\"evenodd\" fill-opacity=\"1\" /><path clip-path=\"url(#clip520)\" d=\"M2185.7 624.444 L2202.02 624.444 L2202.02 628.379 L2180.07 628.379 L2180.07 624.444 Q2182.73 621.689 2187.32 617.06 Q2191.92 612.407 2193.1 611.064 Q2195.35 608.541 2196.23 606.805 Q2197.13 605.046 2197.13 603.356 Q2197.13 600.602 2195.19 598.865 Q2193.27 597.129 2190.17 597.129 Q2187.97 597.129 2185.51 597.893 Q2183.08 598.657 2180.3 600.208 L2180.3 595.486 Q2183.13 594.352 2185.58 593.773 Q2188.04 593.194 2190.07 593.194 Q2195.44 593.194 2198.64 595.879 Q2201.83 598.565 2201.83 603.055 Q2201.83 605.185 2201.02 607.106 Q2200.23 609.004 2198.13 611.597 Q2197.55 612.268 2194.45 615.486 Q2191.35 618.68 2185.7 624.444 Z\" fill=\"#000000\" fill-rule=\"evenodd\" fill-opacity=\"1\" /><path clip-path=\"url(#clip520)\" d=\"M2221.83 596.898 Q2218.22 596.898 2216.39 600.463 Q2214.59 604.004 2214.59 611.134 Q2214.59 618.24 2216.39 621.805 Q2218.22 625.347 2221.83 625.347 Q2225.47 625.347 2227.27 621.805 Q2229.1 618.24 2229.1 611.134 Q2229.1 604.004 2227.27 600.463 Q2225.47 596.898 2221.83 596.898 M2221.83 593.194 Q2227.64 593.194 2230.7 597.801 Q2233.78 602.384 2233.78 611.134 Q2233.78 619.861 2230.7 624.467 Q2227.64 629.05 2221.83 629.05 Q2216.02 629.05 2212.94 624.467 Q2209.89 619.861 2209.89 611.134 Q2209.89 602.384 2212.94 597.801 Q2216.02 593.194 2221.83 593.194 Z\" fill=\"#000000\" fill-rule=\"evenodd\" fill-opacity=\"1\" /></svg>\n"
      ]
     },
     "execution_count": 43,
     "metadata": {},
     "output_type": "execute_result"
    }
   ],
   "source": [
    "using Plots\n",
    "hs = 10 .^ range(-2., stop=2., length=10)\n",
    "Ns = 2:2:20\n",
    "p = plot()\n",
    "@time for N in Ns\n",
    "    M = zeros(length(hs))\n",
    "    for (i,h) in enumerate(hs)\n",
    "        H = TransverseFieldIsing_sparse(N=N, h=h)\n",
    "        vals, vecs = eigen_sparse(H)\n",
    "        groundstate = @view vecs[:,1]\n",
    "        M[i] = magnetization(groundstate)\n",
    "    end\n",
    "    plot!(p, hs, M, xscale=:log10, marker=:circle, label=\"N = $N\",\n",
    "        xlab=\"h\", ylab=\"M(h)\")\n",
    "    println(M)\n",
    "end\n",
    "p"
   ]
  },
  {
   "cell_type": "code",
   "execution_count": null,
   "metadata": {},
   "outputs": [],
   "source": []
  }
 ],
 "metadata": {
  "@webio": {
   "lastCommId": null,
   "lastKernelId": null
  },
  "kernelspec": {
   "display_name": "Julia 1.7.3",
   "language": "julia",
   "name": "julia-1.7"
  },
  "language_info": {
   "file_extension": ".jl",
   "mimetype": "application/julia",
   "name": "julia",
   "version": "1.7.3"
  }
 },
 "nbformat": 4,
 "nbformat_minor": 4
}
