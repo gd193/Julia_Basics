{
 "cells": [
  {
   "cell_type": "markdown",
   "metadata": {},
   "source": [
    "# Abstraction"
   ]
  },
  {
   "cell_type": "markdown",
   "metadata": {},
   "source": [
    "We have seen **duck typing** as a convient abstraction tool: \n",
    "* As a **user**, we don't have to care about how a specific type, say an `Array`, is implemented. By *being an array* (i.e. a subtype of `AbstractArray`) it behaves like we expect and we can just use it.\n",
    "* As a **developer**, as long as we make our objects behave like, say, and `AbstractArray`, we can implement it in whatever way we deem appropriate and it will work with all kinds of algorithms."
   ]
  },
  {
   "cell_type": "markdown",
   "metadata": {},
   "source": [
    "Building upon this principle, we also want to formulate our **algorithms** in an abstract way such that it works will all kinds of data types irrespective of their precise implementation (or even meaning). This is generally known as **generic programming**."
   ]
  },
  {
   "cell_type": "markdown",
   "metadata": {},
   "source": [
    "From [Wikipedia](https://en.wikipedia.org/wiki/Generic_programming):\n",
    "> **Generic programming** is a style of computer programming in which algorithms are written in terms of types *to-be-specified-later* that are then *instantiated* when needed for specific types provided as parameters."
   ]
  },
  {
   "cell_type": "markdown",
   "metadata": {},
   "source": [
    "## Example: Vandermonde matrix"
   ]
  },
  {
   "cell_type": "markdown",
   "metadata": {},
   "source": [
    "[Vandermonde matrix:](https://en.wikipedia.org/wiki/Vandermonde_matrix)\n",
    "\\begin{align}V=\\begin{bmatrix}1&\\alpha _{1}&\\alpha _{1}^{2}&\\dots &\\alpha _{1}^{n-1}\\\\1&\\alpha _{2}&\\alpha _{2}^{2}&\\dots &\\alpha _{2}^{n-1}\\\\1&\\alpha _{3}&\\alpha _{3}^{2}&\\dots &\\alpha _{3}^{n-1}\\\\\\vdots &\\vdots &\\vdots &\\ddots &\\vdots \\\\1&\\alpha _{m}&\\alpha _{m}^{2}&\\dots &\\alpha _{m}^{n-1}\\end{bmatrix}\\end{align}"
   ]
  },
  {
   "cell_type": "code",
   "execution_count": 1,
   "metadata": {},
   "outputs": [
    {
     "data": {
      "text/plain": [
       "vander_naive (generic function with 1 method)"
      ]
     },
     "execution_count": 1,
     "metadata": {},
     "output_type": "execute_result"
    }
   ],
   "source": [
    "function vander_naive(x::Vector)\n",
    "    m = length(x)\n",
    "    V = Matrix{Float64}(undef, m, m)\n",
    "    for j = 1:m\n",
    "        V[j,1] = 1.0\n",
    "    end\n",
    "    for i= 2:m\n",
    "        for j = 1:m\n",
    "            V[j,i] = x[j] * V[j,i-1]\n",
    "            end\n",
    "        end\n",
    "    return V\n",
    "end"
   ]
  },
  {
   "cell_type": "code",
   "execution_count": 2,
   "metadata": {},
   "outputs": [
    {
     "data": {
      "text/plain": [
       "3×3 Matrix{Float64}:\n",
       " 1.0  0.356689  0.127227\n",
       " 1.0  0.387894  0.150462\n",
       " 1.0  0.195109  0.0380674"
      ]
     },
     "execution_count": 2,
     "metadata": {},
     "output_type": "execute_result"
    }
   ],
   "source": [
    "vander_naive(rand(3))"
   ]
  },
  {
   "cell_type": "code",
   "execution_count": 3,
   "metadata": {},
   "outputs": [
    {
     "ename": "LoadError",
     "evalue": "MethodError: no method matching vander_naive(::UnitRange{Int64})\n\u001b[0mClosest candidates are:\n\u001b[0m  vander_naive(\u001b[91m::Vector\u001b[39m) at In[1]:1",
     "output_type": "error",
     "traceback": [
      "MethodError: no method matching vander_naive(::UnitRange{Int64})\n\u001b[0mClosest candidates are:\n\u001b[0m  vander_naive(\u001b[91m::Vector\u001b[39m) at In[1]:1",
      "",
      "Stacktrace:",
      " [1] top-level scope",
      "   @ In[3]:1",
      " [2] eval",
      "   @ ./boot.jl:373 [inlined]",
      " [3] include_string(mapexpr::typeof(REPL.softscope), mod::Module, code::String, filename::String)",
      "   @ Base ./loading.jl:1196"
     ]
    }
   ],
   "source": [
    "vander_naive(1:3)"
   ]
  },
  {
   "cell_type": "code",
   "execution_count": 4,
   "metadata": {},
   "outputs": [
    {
     "data": {
      "text/plain": [
       "3×3 Matrix{Float64}:\n",
       " 1.0  1.0  1.0\n",
       " 1.0  2.0  4.0\n",
       " 1.0  3.0  9.0"
      ]
     },
     "execution_count": 4,
     "metadata": {},
     "output_type": "execute_result"
    }
   ],
   "source": [
    "vander_naive([1,2,3])"
   ]
  },
  {
   "cell_type": "markdown",
   "metadata": {},
   "source": [
    "Why is the result a matrix of floating point numbers....?\n",
    "\n",
    "Even worse:"
   ]
  },
  {
   "cell_type": "code",
   "execution_count": 5,
   "metadata": {},
   "outputs": [
    {
     "ename": "LoadError",
     "evalue": "InexactError: Float64(0.08231103940257922 + 0.13496758754387972im)",
     "output_type": "error",
     "traceback": [
      "InexactError: Float64(0.08231103940257922 + 0.13496758754387972im)",
      "",
      "Stacktrace:",
      " [1] Real",
      "   @ ./complex.jl:44 [inlined]",
      " [2] convert",
      "   @ ./number.jl:7 [inlined]",
      " [3] setindex!",
      "   @ ./array.jl:905 [inlined]",
      " [4] vander_naive(x::Vector{ComplexF64})",
      "   @ Main ./In[1]:9",
      " [5] top-level scope",
      "   @ In[5]:1",
      " [6] eval",
      "   @ ./boot.jl:373 [inlined]",
      " [7] include_string(mapexpr::typeof(REPL.softscope), mod::Module, code::String, filename::String)",
      "   @ Base ./loading.jl:1196"
     ]
    }
   ],
   "source": [
    "vander_naive(rand(ComplexF64, 3))"
   ]
  },
  {
   "cell_type": "markdown",
   "metadata": {},
   "source": [
    "Our algorithm `vander_naive` is not generic! It assumes too much about the input type (it only takes `Vector`s) and also special cases `Float64`. Instead we should try to\n",
    "* keep function argument types generic if possible\n",
    "* avoid explicit typing (which is rarely necessary)"
   ]
  },
  {
   "cell_type": "code",
   "execution_count": 6,
   "metadata": {},
   "outputs": [
    {
     "data": {
      "text/plain": [
       "vander_generic (generic function with 1 method)"
      ]
     },
     "execution_count": 6,
     "metadata": {},
     "output_type": "execute_result"
    }
   ],
   "source": [
    "function vander_generic(x::AbstractVector{T}) where T\n",
    "    m = length(x)\n",
    "    V = Matrix{T}(undef, m, m)\n",
    "    for j = 1:m\n",
    "        V[j,1] = one(x[j])\n",
    "    end\n",
    "    for i= 2:m\n",
    "        for j = 1:m\n",
    "            V[j,i] = x[j] * V[j,i-1]\n",
    "            end\n",
    "        end\n",
    "    return V\n",
    "end"
   ]
  },
  {
   "cell_type": "markdown",
   "metadata": {},
   "source": [
    "Not only does our code now work in the obvious cases above:"
   ]
  },
  {
   "cell_type": "code",
   "execution_count": 7,
   "metadata": {},
   "outputs": [
    {
     "data": {
      "text/plain": [
       "3×3 Matrix{Int64}:\n",
       " 1  1  1\n",
       " 1  2  4\n",
       " 1  3  9"
      ]
     },
     "execution_count": 7,
     "metadata": {},
     "output_type": "execute_result"
    }
   ],
   "source": [
    "vander_generic(1:3)"
   ]
  },
  {
   "cell_type": "code",
   "execution_count": 8,
   "metadata": {},
   "outputs": [
    {
     "data": {
      "text/plain": [
       "3×3 Matrix{ComplexF64}:\n",
       " 1.0+0.0im  0.635483+0.966431im  -0.530151+1.2283im\n",
       " 1.0+0.0im  0.873143+0.442155im   0.566878+0.772129im\n",
       " 1.0+0.0im  0.887157+0.992123im   -0.19726+1.76034im"
      ]
     },
     "execution_count": 8,
     "metadata": {},
     "output_type": "execute_result"
    }
   ],
   "source": [
    "vander_generic(rand(ComplexF64, 3))"
   ]
  },
  {
   "cell_type": "markdown",
   "metadata": {},
   "source": [
    "It also extends to data types that we probably didn't even have in mind when writing down the algorithm:"
   ]
  },
  {
   "cell_type": "code",
   "execution_count": 9,
   "metadata": {},
   "outputs": [
    {
     "data": {
      "text/plain": [
       "3×3 Matrix{Any}:\n",
       "  1      3           9\n",
       "   \"\"     \"Stadt\"     \"StadtStadt\"\n",
       " 1+0im  4+5im      -9+40im"
      ]
     },
     "execution_count": 9,
     "metadata": {},
     "output_type": "execute_result"
    }
   ],
   "source": [
    "vander_generic([3, \"Stadt\", 4 + 5im])"
   ]
  },
  {
   "cell_type": "markdown",
   "metadata": {},
   "source": [
    "(Note that `*` is string concatenation and `one(String) == \"\"`, representing the identity element under multiplication.)"
   ]
  },
  {
   "cell_type": "markdown",
   "metadata": {},
   "source": [
    "### And all of this genericity comes at no performance penality"
   ]
  },
  {
   "cell_type": "code",
   "execution_count": 10,
   "metadata": {},
   "outputs": [],
   "source": [
    "using BenchmarkTools"
   ]
  },
  {
   "cell_type": "code",
   "execution_count": 11,
   "metadata": {},
   "outputs": [
    {
     "name": "stdout",
     "output_type": "stream",
     "text": [
      "  132.689 ns (1 allocation: 896 bytes)\n",
      "  130.972 ns (1 allocation: 896 bytes)\n"
     ]
    }
   ],
   "source": [
    "x = rand(Float64, 10);\n",
    "@btime vander_naive($x);\n",
    "@btime vander_generic($x);"
   ]
  },
  {
   "cell_type": "markdown",
   "metadata": {},
   "source": [
    "Actually, for this specific example **our generic code is faster** in a few cases inasmuch as type conversions are unnecessary."
   ]
  },
  {
   "cell_type": "code",
   "execution_count": 12,
   "metadata": {},
   "outputs": [
    {
     "name": "stdout",
     "output_type": "stream",
     "text": [
      "  142.808 ns (1 allocation: 896 bytes)\n",
      "  113.381 ns (1 allocation: 160 bytes)\n"
     ]
    }
   ],
   "source": [
    "x = rand(Bool, 10);\n",
    "@btime vander_naive($x);\n",
    "@btime vander_generic($x);"
   ]
  },
  {
   "cell_type": "code",
   "execution_count": 13,
   "metadata": {},
   "outputs": [
    {
     "name": "stdout",
     "output_type": "stream",
     "text": [
      "  133.060 ns (1 allocation: 896 bytes)\n",
      "  100.531 ns (1 allocation: 496 bytes)\n"
     ]
    }
   ],
   "source": [
    "x = rand(Float32, 10);\n",
    "@btime vander_naive($x);\n",
    "@btime vander_generic($x);"
   ]
  },
  {
   "cell_type": "markdown",
   "metadata": {},
   "source": [
    "# Generic Programming + Multiple Dispatch"
   ]
  },
  {
   "cell_type": "markdown",
   "metadata": {},
   "source": [
    "The possibility to write generic algorithms that compile to fast machine code (a point we will investigate later) in combination with multiple dispatch leads to an ([unreasonable](https://www.youtube.com/watch?v=kc9HwsxE1OY)) amount of code reuse. This sharing of code comes in two forms:\n",
    "1. **Sharing types**\n",
    " * Examples: DataStructures.jl, OrderedCollections.jl, StaticArrays.jl, Colors.jl, Measurements.jl\n",
    " * **You can define methods on types after the type is defined!**\n",
    " \n",
    " \n",
    "2. **Sharing generic algorithms**\n",
    " * Examples: StatsBase.jl, SortingAlgorithms.jl, GenericLinearAlgebra.jl,\n",
    " * **Methods are selected based on all argument types**"
   ]
  },
  {
   "cell_type": "markdown",
   "metadata": {},
   "source": [
    " <img src=\"imgs/revdeps.png\" alt=\"drawing\" width=\"800\"/>"
   ]
  },
  {
   "cell_type": "markdown",
   "metadata": {},
   "source": [
    "As of the time of this writing, **~ 800 packages** depend on the data types provided in [DataStructures.jl](https://juliacollections.github.io/DataStructures.jl/latest/).\n",
    "\n",
    "**~ 900 packages** reuse type implementations in [OrderedCollections.jl](https://github.com/JuliaCollections/OrderedCollections.jl).\n",
    "\n",
    "**~ 550 packages** reuse [SortingAlgorithms.jl](https://github.com/JuliaCollections/SortingAlgorithms.jl).\n",
    "\n",
    "**~ 300 packages** reuse [DiffRules.jl](https://github.com/JuliaDiff/DiffRules.jl).\n",
    "\n",
    "**~ 50 packages** reuse [GenericSVD.jl](GenericSVD.jl).\n",
    "\n",
    "(~ 5000 packages overall)"
   ]
  },
  {
   "cell_type": "markdown",
   "metadata": {},
   "source": [
    "# Fancy example of generic programming"
   ]
  },
  {
   "cell_type": "code",
   "execution_count": 15,
   "metadata": {},
   "outputs": [],
   "source": [
    "using Interact"
   ]
  },
  {
   "cell_type": "code",
   "execution_count": 16,
   "metadata": {},
   "outputs": [
    {
     "data": {
      "application/vnd.webio.node+json": {
       "children": [
        {
         "children": [
          {
           "children": [
            {
             "children": [
              {
               "children": [
                {
                 "children": [
                  "n"
                 ],
                 "instanceArgs": {
                  "namespace": "html",
                  "tag": "label"
                 },
                 "nodeType": "DOM",
                 "props": {
                  "className": "interact ",
                  "style": {
                   "padding": "5px 10px 0px 10px"
                  }
                 },
                 "type": "node"
                }
               ],
               "instanceArgs": {
                "namespace": "html",
                "tag": "div"
               },
               "nodeType": "DOM",
               "props": {
                "className": "interact-flex-row-left"
               },
               "type": "node"
              },
              {
               "children": [
                {
                 "children": [],
                 "instanceArgs": {
                  "namespace": "html",
                  "tag": "input"
                 },
                 "nodeType": "DOM",
                 "props": {
                  "attributes": {
                   "data-bind": "numericValue: index, valueUpdate: 'input', event: {change: function (){this.changes(this.changes()+1)}}",
                   "orient": "horizontal",
                   "type": "range"
                  },
                  "className": "slider slider is-fullwidth",
                  "max": 20,
                  "min": 1,
                  "step": 1,
                  "style": {}
                 },
                 "type": "node"
                }
               ],
               "instanceArgs": {
                "namespace": "html",
                "tag": "div"
               },
               "nodeType": "DOM",
               "props": {
                "className": "interact-flex-row-center"
               },
               "type": "node"
              },
              {
               "children": [
                {
                 "children": [],
                 "instanceArgs": {
                  "namespace": "html",
                  "tag": "p"
                 },
                 "nodeType": "DOM",
                 "props": {
                  "attributes": {
                   "data-bind": "text: formatted_val"
                  }
                 },
                 "type": "node"
                }
               ],
               "instanceArgs": {
                "namespace": "html",
                "tag": "div"
               },
               "nodeType": "DOM",
               "props": {
                "className": "interact-flex-row-right"
               },
               "type": "node"
              }
             ],
             "instanceArgs": {
              "namespace": "html",
              "tag": "div"
             },
             "nodeType": "DOM",
             "props": {
              "className": "interact-flex-row interact-widget"
             },
             "type": "node"
            }
           ],
           "instanceArgs": {
            "handlers": {
             "changes": [
              "(function (val){return (val!=this.model[\"changes\"]()) ? (this.valueFromJulia[\"changes\"]=true, this.model[\"changes\"](val)) : undefined})"
             ],
             "index": [
              "(function (val){return (val!=this.model[\"index\"]()) ? (this.valueFromJulia[\"index\"]=true, this.model[\"index\"](val)) : undefined})"
             ]
            },
            "id": "9756027647344306389",
            "imports": {
             "data": [
              {
               "name": "knockout",
               "type": "js",
               "url": "/assetserver/6b96799a10d15874ff94d24957be8c8a087d1c55-knockout.js"
              },
              {
               "name": "knockout_punches",
               "type": "js",
               "url": "/assetserver/e20056129f9a18b26001a958417a03ffd18608c4-knockout_punches.js"
              },
              {
               "name": null,
               "type": "js",
               "url": "/assetserver/8ee185a2d679eddcb8e4ab2c454493d75104f685-all.js"
              },
              {
               "name": null,
               "type": "css",
               "url": "/assetserver/5703ee73fac7e494cfb72707c9ff712cf60bb351-style.css"
              },
              {
               "name": null,
               "type": "css",
               "url": "/assetserver/f96fd41b34f9616a67d5e754b02eb63284803e1e-bulma_confined.min.css"
              }
             ],
             "type": "async_block"
            },
            "mount_callbacks": [
             "function () {\n    var handler = (function (ko, koPunches) {\n    ko.punches.enableAll();\n    ko.bindingHandlers.numericValue = {\n        init: function(element, valueAccessor, allBindings, data, context) {\n            var stringified = ko.observable(ko.unwrap(valueAccessor()));\n            stringified.subscribe(function(value) {\n                var val = parseFloat(value);\n                if (!isNaN(val)) {\n                    valueAccessor()(val);\n                }\n            });\n            valueAccessor().subscribe(function(value) {\n                var str = JSON.stringify(value);\n                if ((str == \"0\") && ([\"-0\", \"-0.\"].indexOf(stringified()) >= 0))\n                     return;\n                 if ([\"null\", \"\"].indexOf(str) >= 0)\n                     return;\n                stringified(str);\n            });\n            ko.applyBindingsToNode(\n                element,\n                {\n                    value: stringified,\n                    valueUpdate: allBindings.get('valueUpdate'),\n                },\n                context,\n            );\n        }\n    };\n    var json_data = {\"formatted_vals\":[\"1\",\"2\",\"3\",\"4\",\"5\",\"6\",\"7\",\"8\",\"9\",\"10\",\"11\",\"12\",\"13\",\"14\",\"15\",\"16\",\"17\",\"18\",\"19\",\"20\"],\"changes\":WebIO.getval({\"name\":\"changes\",\"scope\":\"9756027647344306389\",\"id\":\"5630458630030884079\",\"type\":\"observable\"}),\"index\":WebIO.getval({\"name\":\"index\",\"scope\":\"9756027647344306389\",\"id\":\"5284173333249228034\",\"type\":\"observable\"})};\n    var self = this;\n    function AppViewModel() {\n        for (var key in json_data) {\n            var el = json_data[key];\n            this[key] = Array.isArray(el) ? ko.observableArray(el) : ko.observable(el);\n        }\n        \n        [this[\"formatted_val\"]=ko.computed(    function(){\n        return this.formatted_vals()[parseInt(this.index())-(1)];\n    }\n,this)]\n        [this[\"changes\"].subscribe((function (val){!(this.valueFromJulia[\"changes\"]) ? (WebIO.setval({\"name\":\"changes\",\"scope\":\"9756027647344306389\",\"id\":\"5630458630030884079\",\"type\":\"observable\"},val)) : undefined; return this.valueFromJulia[\"changes\"]=false}),self),this[\"index\"].subscribe((function (val){!(this.valueFromJulia[\"index\"]) ? (WebIO.setval({\"name\":\"index\",\"scope\":\"9756027647344306389\",\"id\":\"5284173333249228034\",\"type\":\"observable\"},val)) : undefined; return this.valueFromJulia[\"index\"]=false}),self)]\n        \n    }\n    self.model = new AppViewModel();\n    self.valueFromJulia = {};\n    for (var key in json_data) {\n        self.valueFromJulia[key] = false;\n    }\n    ko.applyBindings(self.model, self.dom);\n}\n);\n    (WebIO.importBlock({\"data\":[{\"name\":\"knockout\",\"type\":\"js\",\"url\":\"/assetserver/6b96799a10d15874ff94d24957be8c8a087d1c55-knockout.js\"},{\"name\":\"knockout_punches\",\"type\":\"js\",\"url\":\"/assetserver/e20056129f9a18b26001a958417a03ffd18608c4-knockout_punches.js\"}],\"type\":\"async_block\"})).then((imports) => handler.apply(this, imports));\n}\n"
            ],
            "observables": {
             "changes": {
              "id": "5630458630030884079",
              "sync": false,
              "value": 0
             },
             "index": {
              "id": "5284173333249228034",
              "sync": true,
              "value": 10
             }
            },
            "systemjs_options": null
           },
           "nodeType": "Scope",
           "props": {},
           "type": "node"
          }
         ],
         "instanceArgs": {
          "namespace": "html",
          "tag": "div"
         },
         "nodeType": "DOM",
         "props": {
          "className": "field interact-widget"
         },
         "type": "node"
        },
        {
         "children": [
          {
           "children": [],
           "instanceArgs": {
            "id": "14643124816446271055",
            "name": "obs-node"
           },
           "nodeType": "ObservableNode",
           "props": {},
           "type": "node"
          }
         ],
         "instanceArgs": {
          "handlers": {},
          "id": "8541067731839369475",
          "imports": {
           "data": [],
           "type": "async_block"
          },
          "mount_callbacks": [],
          "observables": {
           "obs-node": {
            "id": "14643124816446271055",
            "sync": false,
            "value": {
             "children": [
              {
               "children": [],
               "instanceArgs": {
                "namespace": "html",
                "tag": "div"
               },
               "nodeType": "DOM",
               "props": {
                "setInnerHtml": "<pre>10×10 Matrix{Int64}:\n  1   2   3   4   5   6   7   8   9   10\n  2   4   6   8  10  12  14  16  18   20\n  3   6   9  12  15  18  21  24  27   30\n  4   8  12  16  20  24  28  32  36   40\n  5  10  15  20  25  30  35  40  45   50\n  6  12  18  24  30  36  42  48  54   60\n  7  14  21  28  35  42  49  56  63   70\n  8  16  24  32  40  48  56  64  72   80\n  9  18  27  36  45  54  63  72  81   90\n 10  20  30  40  50  60  70  80  90  100</pre>"
               },
               "type": "node"
              }
             ],
             "instanceArgs": {
              "namespace": "html",
              "tag": "div"
             },
             "nodeType": "DOM",
             "props": {
              "className": "interact-flex-row interact-widget"
             },
             "type": "node"
            }
           }
          },
          "systemjs_options": null
         },
         "nodeType": "Scope",
         "props": {},
         "type": "node"
        }
       ],
       "instanceArgs": {
        "namespace": "html",
        "tag": "div"
       },
       "nodeType": "DOM",
       "props": {},
       "type": "node"
      },
      "text/html": [
       "<div\n",
       "    class=\"webio-mountpoint\"\n",
       "    data-webio-mountpoint=\"7312069762094689951\"\n",
       ">\n",
       "    <script>\n",
       "    (function(){\n",
       "    // Some integrations (namely, IJulia/Jupyter) use an alternate render pathway than\n",
       "    // just putting the html on the page. If WebIO isn't defined, then it's pretty likely\n",
       "    // that we're in one of those situations and the integration just isn't installed\n",
       "    // correctly.\n",
       "    if (typeof window.WebIO === \"undefined\") {\n",
       "        document\n",
       "            .querySelector('[data-webio-mountpoint=\"7312069762094689951\"]')\n",
       "            .innerHTML = (\n",
       "                '<div style=\"padding: 1em; background-color: #f8d6da; border: 1px solid #f5c6cb; font-weight: bold;\">' +\n",
       "                '<p><strong>WebIO not detected.</strong></p>' +\n",
       "                '<p>Please read ' +\n",
       "                '<a href=\"https://juliagizmos.github.io/WebIO.jl/latest/troubleshooting/not-detected/\" target=\"_blank\">the troubleshooting guide</a> ' +\n",
       "                'for more information on how to resolve this issue.</p>' +\n",
       "                '<p><a href=\"https://juliagizmos.github.io/WebIO.jl/latest/troubleshooting/not-detected/\" target=\"_blank\">https://juliagizmos.github.io/WebIO.jl/latest/troubleshooting/not-detected/</a></p>' +\n",
       "                '</div>'\n",
       "            );\n",
       "        return;\n",
       "    }\n",
       "    WebIO.mount(\n",
       "        document.querySelector('[data-webio-mountpoint=\"7312069762094689951\"]'),\n",
       "        {\"props\":{},\"nodeType\":\"DOM\",\"type\":\"node\",\"instanceArgs\":{\"namespace\":\"html\",\"tag\":\"div\"},\"children\":[{\"props\":{\"className\":\"field interact-widget\"},\"nodeType\":\"DOM\",\"type\":\"node\",\"instanceArgs\":{\"namespace\":\"html\",\"tag\":\"div\"},\"children\":[{\"props\":{},\"nodeType\":\"Scope\",\"type\":\"node\",\"instanceArgs\":{\"imports\":{\"data\":[{\"name\":\"knockout\",\"type\":\"js\",\"url\":\"\\/assetserver\\/6b96799a10d15874ff94d24957be8c8a087d1c55-knockout.js\"},{\"name\":\"knockout_punches\",\"type\":\"js\",\"url\":\"\\/assetserver\\/e20056129f9a18b26001a958417a03ffd18608c4-knockout_punches.js\"},{\"name\":null,\"type\":\"js\",\"url\":\"\\/assetserver\\/8ee185a2d679eddcb8e4ab2c454493d75104f685-all.js\"},{\"name\":null,\"type\":\"css\",\"url\":\"\\/assetserver\\/5703ee73fac7e494cfb72707c9ff712cf60bb351-style.css\"},{\"name\":null,\"type\":\"css\",\"url\":\"\\/assetserver\\/f96fd41b34f9616a67d5e754b02eb63284803e1e-bulma_confined.min.css\"}],\"type\":\"async_block\"},\"id\":\"9756027647344306389\",\"handlers\":{\"changes\":[\"(function (val){return (val!=this.model[\\\"changes\\\"]()) ? (this.valueFromJulia[\\\"changes\\\"]=true, this.model[\\\"changes\\\"](val)) : undefined})\"],\"index\":[\"(function (val){return (val!=this.model[\\\"index\\\"]()) ? (this.valueFromJulia[\\\"index\\\"]=true, this.model[\\\"index\\\"](val)) : undefined})\"]},\"systemjs_options\":null,\"mount_callbacks\":[\"function () {\\n    var handler = (function (ko, koPunches) {\\n    ko.punches.enableAll();\\n    ko.bindingHandlers.numericValue = {\\n        init: function(element, valueAccessor, allBindings, data, context) {\\n            var stringified = ko.observable(ko.unwrap(valueAccessor()));\\n            stringified.subscribe(function(value) {\\n                var val = parseFloat(value);\\n                if (!isNaN(val)) {\\n                    valueAccessor()(val);\\n                }\\n            });\\n            valueAccessor().subscribe(function(value) {\\n                var str = JSON.stringify(value);\\n                if ((str == \\\"0\\\") && ([\\\"-0\\\", \\\"-0.\\\"].indexOf(stringified()) >= 0))\\n                     return;\\n                 if ([\\\"null\\\", \\\"\\\"].indexOf(str) >= 0)\\n                     return;\\n                stringified(str);\\n            });\\n            ko.applyBindingsToNode(\\n                element,\\n                {\\n                    value: stringified,\\n                    valueUpdate: allBindings.get('valueUpdate'),\\n                },\\n                context,\\n            );\\n        }\\n    };\\n    var json_data = {\\\"formatted_vals\\\":[\\\"1\\\",\\\"2\\\",\\\"3\\\",\\\"4\\\",\\\"5\\\",\\\"6\\\",\\\"7\\\",\\\"8\\\",\\\"9\\\",\\\"10\\\",\\\"11\\\",\\\"12\\\",\\\"13\\\",\\\"14\\\",\\\"15\\\",\\\"16\\\",\\\"17\\\",\\\"18\\\",\\\"19\\\",\\\"20\\\"],\\\"changes\\\":WebIO.getval({\\\"name\\\":\\\"changes\\\",\\\"scope\\\":\\\"9756027647344306389\\\",\\\"id\\\":\\\"5630458630030884079\\\",\\\"type\\\":\\\"observable\\\"}),\\\"index\\\":WebIO.getval({\\\"name\\\":\\\"index\\\",\\\"scope\\\":\\\"9756027647344306389\\\",\\\"id\\\":\\\"5284173333249228034\\\",\\\"type\\\":\\\"observable\\\"})};\\n    var self = this;\\n    function AppViewModel() {\\n        for (var key in json_data) {\\n            var el = json_data[key];\\n            this[key] = Array.isArray(el) ? ko.observableArray(el) : ko.observable(el);\\n        }\\n        \\n        [this[\\\"formatted_val\\\"]=ko.computed(    function(){\\n        return this.formatted_vals()[parseInt(this.index())-(1)];\\n    }\\n,this)]\\n        [this[\\\"changes\\\"].subscribe((function (val){!(this.valueFromJulia[\\\"changes\\\"]) ? (WebIO.setval({\\\"name\\\":\\\"changes\\\",\\\"scope\\\":\\\"9756027647344306389\\\",\\\"id\\\":\\\"5630458630030884079\\\",\\\"type\\\":\\\"observable\\\"},val)) : undefined; return this.valueFromJulia[\\\"changes\\\"]=false}),self),this[\\\"index\\\"].subscribe((function (val){!(this.valueFromJulia[\\\"index\\\"]) ? (WebIO.setval({\\\"name\\\":\\\"index\\\",\\\"scope\\\":\\\"9756027647344306389\\\",\\\"id\\\":\\\"5284173333249228034\\\",\\\"type\\\":\\\"observable\\\"},val)) : undefined; return this.valueFromJulia[\\\"index\\\"]=false}),self)]\\n        \\n    }\\n    self.model = new AppViewModel();\\n    self.valueFromJulia = {};\\n    for (var key in json_data) {\\n        self.valueFromJulia[key] = false;\\n    }\\n    ko.applyBindings(self.model, self.dom);\\n}\\n);\\n    (WebIO.importBlock({\\\"data\\\":[{\\\"name\\\":\\\"knockout\\\",\\\"type\\\":\\\"js\\\",\\\"url\\\":\\\"\\/assetserver\\/6b96799a10d15874ff94d24957be8c8a087d1c55-knockout.js\\\"},{\\\"name\\\":\\\"knockout_punches\\\",\\\"type\\\":\\\"js\\\",\\\"url\\\":\\\"\\/assetserver\\/e20056129f9a18b26001a958417a03ffd18608c4-knockout_punches.js\\\"}],\\\"type\\\":\\\"async_block\\\"})).then((imports) => handler.apply(this, imports));\\n}\\n\"],\"observables\":{\"changes\":{\"sync\":false,\"id\":\"5630458630030884079\",\"value\":0},\"index\":{\"sync\":true,\"id\":\"5284173333249228034\",\"value\":10}}},\"children\":[{\"props\":{\"className\":\"interact-flex-row interact-widget\"},\"nodeType\":\"DOM\",\"type\":\"node\",\"instanceArgs\":{\"namespace\":\"html\",\"tag\":\"div\"},\"children\":[{\"props\":{\"className\":\"interact-flex-row-left\"},\"nodeType\":\"DOM\",\"type\":\"node\",\"instanceArgs\":{\"namespace\":\"html\",\"tag\":\"div\"},\"children\":[{\"props\":{\"className\":\"interact \",\"style\":{\"padding\":\"5px 10px 0px 10px\"}},\"nodeType\":\"DOM\",\"type\":\"node\",\"instanceArgs\":{\"namespace\":\"html\",\"tag\":\"label\"},\"children\":[\"n\"]}]},{\"props\":{\"className\":\"interact-flex-row-center\"},\"nodeType\":\"DOM\",\"type\":\"node\",\"instanceArgs\":{\"namespace\":\"html\",\"tag\":\"div\"},\"children\":[{\"props\":{\"max\":20,\"min\":1,\"attributes\":{\"type\":\"range\",\"data-bind\":\"numericValue: index, valueUpdate: 'input', event: {change: function (){this.changes(this.changes()+1)}}\",\"orient\":\"horizontal\"},\"step\":1,\"className\":\"slider slider is-fullwidth\",\"style\":{}},\"nodeType\":\"DOM\",\"type\":\"node\",\"instanceArgs\":{\"namespace\":\"html\",\"tag\":\"input\"},\"children\":[]}]},{\"props\":{\"className\":\"interact-flex-row-right\"},\"nodeType\":\"DOM\",\"type\":\"node\",\"instanceArgs\":{\"namespace\":\"html\",\"tag\":\"div\"},\"children\":[{\"props\":{\"attributes\":{\"data-bind\":\"text: formatted_val\"}},\"nodeType\":\"DOM\",\"type\":\"node\",\"instanceArgs\":{\"namespace\":\"html\",\"tag\":\"p\"},\"children\":[]}]}]}]}]},{\"props\":{},\"nodeType\":\"Scope\",\"type\":\"node\",\"instanceArgs\":{\"imports\":{\"data\":[],\"type\":\"async_block\"},\"id\":\"13266814578349363854\",\"handlers\":{},\"systemjs_options\":null,\"mount_callbacks\":[],\"observables\":{\"obs-node\":{\"sync\":false,\"id\":\"5484985621271951114\",\"value\":{\"props\":{\"className\":\"interact-flex-row interact-widget\"},\"nodeType\":\"DOM\",\"type\":\"node\",\"instanceArgs\":{\"namespace\":\"html\",\"tag\":\"div\"},\"children\":[{\"props\":{\"setInnerHtml\":\"<pre>10×10 Matrix{Int64}:\\n  1   2   3   4   5   6   7   8   9   10\\n  2   4   6   8  10  12  14  16  18   20\\n  3   6   9  12  15  18  21  24  27   30\\n  4   8  12  16  20  24  28  32  36   40\\n  5  10  15  20  25  30  35  40  45   50\\n  6  12  18  24  30  36  42  48  54   60\\n  7  14  21  28  35  42  49  56  63   70\\n  8  16  24  32  40  48  56  64  72   80\\n  9  18  27  36  45  54  63  72  81   90\\n 10  20  30  40  50  60  70  80  90  100<\\/pre>\"},\"nodeType\":\"DOM\",\"type\":\"node\",\"instanceArgs\":{\"namespace\":\"html\",\"tag\":\"div\"},\"children\":[]}]}}}},\"children\":[{\"props\":{},\"nodeType\":\"ObservableNode\",\"type\":\"node\",\"instanceArgs\":{\"id\":\"5484985621271951114\",\"name\":\"obs-node\"},\"children\":[]}]}]},\n",
       "        window,\n",
       "    );\n",
       "    })()\n",
       "    </script>\n",
       "</div>\n"
      ],
      "text/plain": [
       "Node{WebIO.DOM}(WebIO.DOM(:html, :div), Any[Node{WebIO.DOM}(WebIO.DOM(:html, :div), Any[Scope(Node{WebIO.DOM}(WebIO.DOM(:html, :div), Any[Node{WebIO.DOM}(WebIO.DOM(:html, :div), Any[Node{WebIO.DOM}(WebIO.DOM(:html, :label), Any[\"n\"], Dict{Symbol, Any}(:className => \"interact \", :style => Dict{Any, Any}(:padding => \"5px 10px 0px 10px\")))], Dict{Symbol, Any}(:className => \"interact-flex-row-left\")), Node{WebIO.DOM}(WebIO.DOM(:html, :div), Any[Node{WebIO.DOM}(WebIO.DOM(:html, :input), Any[], Dict{Symbol, Any}(:max => 20, :min => 1, :attributes => Dict{Any, Any}(:type => \"range\", Symbol(\"data-bind\") => \"numericValue: index, valueUpdate: 'input', event: {change: function (){this.changes(this.changes()+1)}}\", \"orient\" => \"horizontal\"), :step => 1, :className => \"slider slider is-fullwidth\", :style => Dict{Any, Any}()))], Dict{Symbol, Any}(:className => \"interact-flex-row-center\")), Node{WebIO.DOM}(WebIO.DOM(:html, :div), Any[Node{WebIO.DOM}(WebIO.DOM(:html, :p), Any[], Dict{Symbol, Any}(:attributes => Dict(\"data-bind\" => \"text: formatted_val\")))], Dict{Symbol, Any}(:className => \"interact-flex-row-right\"))], Dict{Symbol, Any}(:className => \"interact-flex-row interact-widget\")), Dict{String, Tuple{Observables.AbstractObservable, Union{Nothing, Bool}}}(\"changes\" => (Observable{Int64} with 1 listeners. Value:\n",
       "0, nothing), \"index\" => (Observable{Int64} with 2 listeners. Value:\n",
       "10, nothing)), Set{String}(), nothing, Asset[Asset(\"js\", \"knockout\", \"/home/eric/.julia/packages/Knockout/3gjS1/src/../assets/knockout.js\"), Asset(\"js\", \"knockout_punches\", \"/home/eric/.julia/packages/Knockout/3gjS1/src/../assets/knockout_punches.js\"), Asset(\"js\", nothing, \"/home/eric/.julia/packages/InteractBase/h8Fwe/src/../assets/all.js\"), Asset(\"css\", nothing, \"/home/eric/.julia/packages/InteractBase/h8Fwe/src/../assets/style.css\"), Asset(\"css\", nothing, \"/home/eric/.julia/packages/Interact/pVyN2/src/../assets/bulma_confined.min.css\")], Dict{Any, Any}(\"changes\" => Any[WebIO.JSString(\"(function (val){return (val!=this.model[\\\"changes\\\"]()) ? (this.valueFromJulia[\\\"changes\\\"]=true, this.model[\\\"changes\\\"](val)) : undefined})\")], \"index\" => Any[WebIO.JSString(\"(function (val){return (val!=this.model[\\\"index\\\"]()) ? (this.valueFromJulia[\\\"index\\\"]=true, this.model[\\\"index\\\"](val)) : undefined})\")]), WebIO.ConnectionPool(Channel{Any}(32), Set{AbstractConnection}(), Condition(Base.InvasiveLinkedList{Task}(Task (runnable) @0x00007f43648f26e0, Task (runnable) @0x00007f43648f26e0), Base.AlwaysLockedST(1))), WebIO.JSString[WebIO.JSString(\"function () {\\n    var handler = (function (ko, koPunches) {\\n    ko.punches.enableAll();\\n    ko.bindingHandlers.numericValue = {\\n        init: function(element, valueAccessor, allBindings, data, context) {\\n            var stringified = ko.observable(ko.unwrap(valueAccessor()));\\n            stringified.subscribe(function(value) {\\n                var val = parseFloat(value);\\n                if (!isNaN(val)) {\\n                    valueAccessor()(val);\\n                }\\n            });\\n            valueAccessor().subscribe(function(value) {\\n                var str = JSON.stringify(value);\\n                if ((str == \\\"0\\\") && ([\\\"-0\\\", \\\"-0.\\\"].indexOf(stringified()) >= 0))\\n                     return;\\n                 if ([\\\"null\\\", \\\"\\\"].indexOf(str) >= 0)\\n                     return;\\n                stringified(str);\\n            });\\n            ko.applyBindingsToNode(\\n                element,\\n                {\\n                    value: stringified,\\n                    valueUpdate: allBindings.get('valueUpdate'),\\n                },\\n                context,\\n            );\\n        }\\n    };\\n    var json_data = {\\\"formatted_vals\\\":[\\\"1\\\",\\\"2\\\",\\\"3\\\",\\\"4\\\",\\\"5\\\",\\\"6\\\",\\\"7\\\",\\\"8\\\",\\\"9\\\",\\\"10\\\",\\\"11\\\",\\\"12\\\",\\\"13\\\",\\\"14\\\",\\\"15\\\",\\\"16\\\",\\\"17\\\",\\\"18\\\",\\\"19\\\",\\\"20\\\"],\\\"changes\\\":WebIO.getval({\\\"name\\\":\\\"changes\\\",\\\"scope\\\":\\\"9756027647344306389\\\",\\\"id\\\":\\\"5630458630030884079\\\",\\\"type\\\":\\\"observable\\\"}),\\\"index\\\":WebIO.getval({\\\"name\\\":\\\"index\\\",\\\"scope\\\":\\\"9756027647344306389\\\",\\\"id\\\":\\\"5284173333249228034\\\",\\\"type\\\":\\\"observable\\\"})};\\n    var self = this;\\n    function AppViewModel() {\\n        for (var key in json_data) {\\n            var el = json_data[key];\\n            this[key] = Array.isArray(el) ? ko.observableArray(el) : ko.observable(el);\\n        }\\n        \\n        [this[\\\"formatted_val\\\"]=ko.computed(    function(){\\n        return this.formatted_vals()[parseInt(this.index())-(1)];\\n    }\\n,this)]\\n        [this[\\\"changes\\\"].subscribe((function (val){!(this.valueFromJulia[\\\"changes\\\"]) ? (WebIO.setval({\\\"name\\\":\\\"changes\\\",\\\"scope\\\":\\\"9756027647344306389\\\",\\\"id\\\":\\\"5630458630030884079\\\",\\\"type\\\":\\\"observable\\\"},val)) : undefined; return this.valueFromJulia[\\\"changes\\\"]=false}),self),this[\\\"index\\\"].subscribe((function (val){!(this.valueFromJulia[\\\"index\\\"]) ? (WebIO.setval({\\\"name\\\":\\\"index\\\",\\\"scope\\\":\\\"9756027647344306389\\\",\\\"id\\\":\\\"5284173333249228034\\\",\\\"type\\\":\\\"observable\\\"},val)) : undefined; return this.valueFromJulia[\\\"index\\\"]=false}),self)]\\n        \\n    }\\n    self.model = new AppViewModel();\\n    self.valueFromJulia = {};\\n    for (var key in json_data) {\\n        self.valueFromJulia[key] = false;\\n    }\\n    ko.applyBindings(self.model, self.dom);\\n}\\n);\\n    (WebIO.importBlock({\\\"data\\\":[{\\\"name\\\":\\\"knockout\\\",\\\"type\\\":\\\"js\\\",\\\"url\\\":\\\"/assetserver/6b96799a10d15874ff94d24957be8c8a087d1c55-knockout.js\\\"},{\\\"name\\\":\\\"knockout_punches\\\",\\\"type\\\":\\\"js\\\",\\\"url\\\":\\\"/assetserver/e20056129f9a18b26001a958417a03ffd18608c4-knockout_punches.js\\\"}],\\\"type\\\":\\\"async_block\\\"})).then((imports) => handler.apply(this, imports));\\n}\\n\")])], Dict{Symbol, Any}(:className => \"field interact-widget\")), Observable{Node{WebIO.DOM}} with 0 listeners. Value:\n",
       "Node{WebIO.DOM}(WebIO.DOM(:html, :div), Any[[1 2 … 9 10; 2 4 … 18 20; … ; 9 18 … 81 90; 10 20 … 90 100]], Dict{Symbol, Any}(:className => \"interact-flex-row interact-widget\"))], Dict{Symbol, Any}())"
      ]
     },
     "execution_count": 16,
     "metadata": {
      "application/vnd.webio.node+json": {
       "kernelId": "94e38928-bc94-4f3b-9639-a305e1ab4272"
      }
     },
     "output_type": "execute_result"
    }
   ],
   "source": [
    "@manipulate for n in 1:20\n",
    "    [i*j for i in 1:n, j in 1:n]\n",
    "end"
   ]
  },
  {
   "cell_type": "code",
   "execution_count": 17,
   "metadata": {},
   "outputs": [
    {
     "data": {
      "text/plain": [
       "insert_block (generic function with 1 method)"
      ]
     },
     "execution_count": 17,
     "metadata": {},
     "output_type": "execute_result"
    }
   ],
   "source": [
    "# generic algorithm\n",
    "function insert_block(A, i, j, blockvalue)\n",
    "    B = copy(A)\n",
    "    B[i:i+2, j:j+2] .= blockvalue\n",
    "    return B\n",
    "end"
   ]
  },
  {
   "cell_type": "code",
   "execution_count": 18,
   "metadata": {},
   "outputs": [
    {
     "data": {
      "text/plain": [
       "insert_block (generic function with 2 methods)"
      ]
     },
     "execution_count": 18,
     "metadata": {},
     "output_type": "execute_result"
    }
   ],
   "source": [
    "# generic algorithm\n",
    "function insert_block(A::AbstractMatrix{T}, i::Integer, j::Integer, blockvalue::T) where T\n",
    "    B = copy(A)\n",
    "    B[i:i+2, j:j+2] .= blockvalue\n",
    "    return B\n",
    "end"
   ]
  },
  {
   "cell_type": "code",
   "execution_count": 19,
   "metadata": {},
   "outputs": [
    {
     "data": {
      "text/plain": [
       "9×9 Matrix{Int64}:\n",
       " 0  0  0  0  0  0  0  0  0\n",
       " 0  0  0  0  0  0  0  0  0\n",
       " 0  0  0  0  0  0  0  0  0\n",
       " 0  0  0  0  0  0  0  0  0\n",
       " 0  0  0  0  0  0  0  0  0\n",
       " 0  0  0  0  0  0  0  0  0\n",
       " 0  0  0  0  0  0  0  0  0\n",
       " 0  0  0  0  0  0  0  0  0\n",
       " 0  0  0  0  0  0  0  0  0"
      ]
     },
     "execution_count": 19,
     "metadata": {},
     "output_type": "execute_result"
    }
   ],
   "source": [
    "A = fill(0, 9, 9)"
   ]
  },
  {
   "cell_type": "code",
   "execution_count": 20,
   "metadata": {},
   "outputs": [
    {
     "data": {
      "text/plain": [
       "9×9 Matrix{Int64}:\n",
       " 0  0  0  0  0  0  0  0  0\n",
       " 0  0  0  0  0  0  0  0  0\n",
       " 0  0  0  0  1  1  1  0  0\n",
       " 0  0  0  0  1  1  1  0  0\n",
       " 0  0  0  0  1  1  1  0  0\n",
       " 0  0  0  0  0  0  0  0  0\n",
       " 0  0  0  0  0  0  0  0  0\n",
       " 0  0  0  0  0  0  0  0  0\n",
       " 0  0  0  0  0  0  0  0  0"
      ]
     },
     "execution_count": 20,
     "metadata": {},
     "output_type": "execute_result"
    }
   ],
   "source": [
    "insert_block(A, 3, 5, 1)"
   ]
  },
  {
   "cell_type": "code",
   "execution_count": 22,
   "metadata": {},
   "outputs": [
    {
     "data": {
      "application/vnd.webio.node+json": {
       "children": [
        {
         "children": [
          {
           "children": [
            {
             "children": [
              {
               "children": [
                {
                 "children": [
                  "i"
                 ],
                 "instanceArgs": {
                  "namespace": "html",
                  "tag": "label"
                 },
                 "nodeType": "DOM",
                 "props": {
                  "className": "interact ",
                  "style": {
                   "padding": "5px 10px 0px 10px"
                  }
                 },
                 "type": "node"
                }
               ],
               "instanceArgs": {
                "namespace": "html",
                "tag": "div"
               },
               "nodeType": "DOM",
               "props": {
                "className": "interact-flex-row-left"
               },
               "type": "node"
              },
              {
               "children": [
                {
                 "children": [],
                 "instanceArgs": {
                  "namespace": "html",
                  "tag": "input"
                 },
                 "nodeType": "DOM",
                 "props": {
                  "attributes": {
                   "data-bind": "numericValue: index, valueUpdate: 'input', event: {change: function (){this.changes(this.changes()+1)}}",
                   "orient": "horizontal",
                   "type": "range"
                  },
                  "className": "slider slider is-fullwidth",
                  "max": 8,
                  "min": 1,
                  "step": 1,
                  "style": {}
                 },
                 "type": "node"
                }
               ],
               "instanceArgs": {
                "namespace": "html",
                "tag": "div"
               },
               "nodeType": "DOM",
               "props": {
                "className": "interact-flex-row-center"
               },
               "type": "node"
              },
              {
               "children": [
                {
                 "children": [],
                 "instanceArgs": {
                  "namespace": "html",
                  "tag": "p"
                 },
                 "nodeType": "DOM",
                 "props": {
                  "attributes": {
                   "data-bind": "text: formatted_val"
                  }
                 },
                 "type": "node"
                }
               ],
               "instanceArgs": {
                "namespace": "html",
                "tag": "div"
               },
               "nodeType": "DOM",
               "props": {
                "className": "interact-flex-row-right"
               },
               "type": "node"
              }
             ],
             "instanceArgs": {
              "namespace": "html",
              "tag": "div"
             },
             "nodeType": "DOM",
             "props": {
              "className": "interact-flex-row interact-widget"
             },
             "type": "node"
            }
           ],
           "instanceArgs": {
            "handlers": {
             "changes": [
              "(function (val){return (val!=this.model[\"changes\"]()) ? (this.valueFromJulia[\"changes\"]=true, this.model[\"changes\"](val)) : undefined})"
             ],
             "index": [
              "(function (val){return (val!=this.model[\"index\"]()) ? (this.valueFromJulia[\"index\"]=true, this.model[\"index\"](val)) : undefined})"
             ]
            },
            "id": "12385900237022393172",
            "imports": {
             "data": [
              {
               "name": "knockout",
               "type": "js",
               "url": "/assetserver/6b96799a10d15874ff94d24957be8c8a087d1c55-knockout.js"
              },
              {
               "name": "knockout_punches",
               "type": "js",
               "url": "/assetserver/e20056129f9a18b26001a958417a03ffd18608c4-knockout_punches.js"
              },
              {
               "name": null,
               "type": "js",
               "url": "/assetserver/8ee185a2d679eddcb8e4ab2c454493d75104f685-all.js"
              },
              {
               "name": null,
               "type": "css",
               "url": "/assetserver/5703ee73fac7e494cfb72707c9ff712cf60bb351-style.css"
              },
              {
               "name": null,
               "type": "css",
               "url": "/assetserver/f96fd41b34f9616a67d5e754b02eb63284803e1e-bulma_confined.min.css"
              }
             ],
             "type": "async_block"
            },
            "mount_callbacks": [
             "function () {\n    var handler = (function (ko, koPunches) {\n    ko.punches.enableAll();\n    ko.bindingHandlers.numericValue = {\n        init: function(element, valueAccessor, allBindings, data, context) {\n            var stringified = ko.observable(ko.unwrap(valueAccessor()));\n            stringified.subscribe(function(value) {\n                var val = parseFloat(value);\n                if (!isNaN(val)) {\n                    valueAccessor()(val);\n                }\n            });\n            valueAccessor().subscribe(function(value) {\n                var str = JSON.stringify(value);\n                if ((str == \"0\") && ([\"-0\", \"-0.\"].indexOf(stringified()) >= 0))\n                     return;\n                 if ([\"null\", \"\"].indexOf(str) >= 0)\n                     return;\n                stringified(str);\n            });\n            ko.applyBindingsToNode(\n                element,\n                {\n                    value: stringified,\n                    valueUpdate: allBindings.get('valueUpdate'),\n                },\n                context,\n            );\n        }\n    };\n    var json_data = {\"formatted_vals\":[\"1\",\"2\",\"3\",\"4\",\"5\",\"6\",\"7\",\"8\"],\"changes\":WebIO.getval({\"name\":\"changes\",\"scope\":\"12385900237022393172\",\"id\":\"14479920675175988729\",\"type\":\"observable\"}),\"index\":WebIO.getval({\"name\":\"index\",\"scope\":\"12385900237022393172\",\"id\":\"14118414033617562909\",\"type\":\"observable\"})};\n    var self = this;\n    function AppViewModel() {\n        for (var key in json_data) {\n            var el = json_data[key];\n            this[key] = Array.isArray(el) ? ko.observableArray(el) : ko.observable(el);\n        }\n        \n        [this[\"formatted_val\"]=ko.computed(    function(){\n        return this.formatted_vals()[parseInt(this.index())-(1)];\n    }\n,this)]\n        [this[\"changes\"].subscribe((function (val){!(this.valueFromJulia[\"changes\"]) ? (WebIO.setval({\"name\":\"changes\",\"scope\":\"12385900237022393172\",\"id\":\"14479920675175988729\",\"type\":\"observable\"},val)) : undefined; return this.valueFromJulia[\"changes\"]=false}),self),this[\"index\"].subscribe((function (val){!(this.valueFromJulia[\"index\"]) ? (WebIO.setval({\"name\":\"index\",\"scope\":\"12385900237022393172\",\"id\":\"14118414033617562909\",\"type\":\"observable\"},val)) : undefined; return this.valueFromJulia[\"index\"]=false}),self)]\n        \n    }\n    self.model = new AppViewModel();\n    self.valueFromJulia = {};\n    for (var key in json_data) {\n        self.valueFromJulia[key] = false;\n    }\n    ko.applyBindings(self.model, self.dom);\n}\n);\n    (WebIO.importBlock({\"data\":[{\"name\":\"knockout\",\"type\":\"js\",\"url\":\"/assetserver/6b96799a10d15874ff94d24957be8c8a087d1c55-knockout.js\"},{\"name\":\"knockout_punches\",\"type\":\"js\",\"url\":\"/assetserver/e20056129f9a18b26001a958417a03ffd18608c4-knockout_punches.js\"}],\"type\":\"async_block\"})).then((imports) => handler.apply(this, imports));\n}\n"
            ],
            "observables": {
             "changes": {
              "id": "14479920675175988729",
              "sync": false,
              "value": 0
             },
             "index": {
              "id": "14118414033617562909",
              "sync": true,
              "value": 4
             }
            },
            "systemjs_options": null
           },
           "nodeType": "Scope",
           "props": {},
           "type": "node"
          }
         ],
         "instanceArgs": {
          "namespace": "html",
          "tag": "div"
         },
         "nodeType": "DOM",
         "props": {
          "className": "field interact-widget"
         },
         "type": "node"
        },
        {
         "children": [
          {
           "children": [
            {
             "children": [
              {
               "children": [
                {
                 "children": [
                  "j"
                 ],
                 "instanceArgs": {
                  "namespace": "html",
                  "tag": "label"
                 },
                 "nodeType": "DOM",
                 "props": {
                  "className": "interact ",
                  "style": {
                   "padding": "5px 10px 0px 10px"
                  }
                 },
                 "type": "node"
                }
               ],
               "instanceArgs": {
                "namespace": "html",
                "tag": "div"
               },
               "nodeType": "DOM",
               "props": {
                "className": "interact-flex-row-left"
               },
               "type": "node"
              },
              {
               "children": [
                {
                 "children": [],
                 "instanceArgs": {
                  "namespace": "html",
                  "tag": "input"
                 },
                 "nodeType": "DOM",
                 "props": {
                  "attributes": {
                   "data-bind": "numericValue: index, valueUpdate: 'input', event: {change: function (){this.changes(this.changes()+1)}}",
                   "orient": "horizontal",
                   "type": "range"
                  },
                  "className": "slider slider is-fullwidth",
                  "max": 8,
                  "min": 1,
                  "step": 1,
                  "style": {}
                 },
                 "type": "node"
                }
               ],
               "instanceArgs": {
                "namespace": "html",
                "tag": "div"
               },
               "nodeType": "DOM",
               "props": {
                "className": "interact-flex-row-center"
               },
               "type": "node"
              },
              {
               "children": [
                {
                 "children": [],
                 "instanceArgs": {
                  "namespace": "html",
                  "tag": "p"
                 },
                 "nodeType": "DOM",
                 "props": {
                  "attributes": {
                   "data-bind": "text: formatted_val"
                  }
                 },
                 "type": "node"
                }
               ],
               "instanceArgs": {
                "namespace": "html",
                "tag": "div"
               },
               "nodeType": "DOM",
               "props": {
                "className": "interact-flex-row-right"
               },
               "type": "node"
              }
             ],
             "instanceArgs": {
              "namespace": "html",
              "tag": "div"
             },
             "nodeType": "DOM",
             "props": {
              "className": "interact-flex-row interact-widget"
             },
             "type": "node"
            }
           ],
           "instanceArgs": {
            "handlers": {
             "changes": [
              "(function (val){return (val!=this.model[\"changes\"]()) ? (this.valueFromJulia[\"changes\"]=true, this.model[\"changes\"](val)) : undefined})"
             ],
             "index": [
              "(function (val){return (val!=this.model[\"index\"]()) ? (this.valueFromJulia[\"index\"]=true, this.model[\"index\"](val)) : undefined})"
             ]
            },
            "id": "5524110224454173043",
            "imports": {
             "data": [
              {
               "name": "knockout",
               "type": "js",
               "url": "/assetserver/6b96799a10d15874ff94d24957be8c8a087d1c55-knockout.js"
              },
              {
               "name": "knockout_punches",
               "type": "js",
               "url": "/assetserver/e20056129f9a18b26001a958417a03ffd18608c4-knockout_punches.js"
              },
              {
               "name": null,
               "type": "js",
               "url": "/assetserver/8ee185a2d679eddcb8e4ab2c454493d75104f685-all.js"
              },
              {
               "name": null,
               "type": "css",
               "url": "/assetserver/5703ee73fac7e494cfb72707c9ff712cf60bb351-style.css"
              },
              {
               "name": null,
               "type": "css",
               "url": "/assetserver/f96fd41b34f9616a67d5e754b02eb63284803e1e-bulma_confined.min.css"
              }
             ],
             "type": "async_block"
            },
            "mount_callbacks": [
             "function () {\n    var handler = (function (ko, koPunches) {\n    ko.punches.enableAll();\n    ko.bindingHandlers.numericValue = {\n        init: function(element, valueAccessor, allBindings, data, context) {\n            var stringified = ko.observable(ko.unwrap(valueAccessor()));\n            stringified.subscribe(function(value) {\n                var val = parseFloat(value);\n                if (!isNaN(val)) {\n                    valueAccessor()(val);\n                }\n            });\n            valueAccessor().subscribe(function(value) {\n                var str = JSON.stringify(value);\n                if ((str == \"0\") && ([\"-0\", \"-0.\"].indexOf(stringified()) >= 0))\n                     return;\n                 if ([\"null\", \"\"].indexOf(str) >= 0)\n                     return;\n                stringified(str);\n            });\n            ko.applyBindingsToNode(\n                element,\n                {\n                    value: stringified,\n                    valueUpdate: allBindings.get('valueUpdate'),\n                },\n                context,\n            );\n        }\n    };\n    var json_data = {\"formatted_vals\":[\"1\",\"2\",\"3\",\"4\",\"5\",\"6\",\"7\",\"8\"],\"changes\":WebIO.getval({\"name\":\"changes\",\"scope\":\"5524110224454173043\",\"id\":\"9514881954763092476\",\"type\":\"observable\"}),\"index\":WebIO.getval({\"name\":\"index\",\"scope\":\"5524110224454173043\",\"id\":\"3712342553473865854\",\"type\":\"observable\"})};\n    var self = this;\n    function AppViewModel() {\n        for (var key in json_data) {\n            var el = json_data[key];\n            this[key] = Array.isArray(el) ? ko.observableArray(el) : ko.observable(el);\n        }\n        \n        [this[\"formatted_val\"]=ko.computed(    function(){\n        return this.formatted_vals()[parseInt(this.index())-(1)];\n    }\n,this)]\n        [this[\"changes\"].subscribe((function (val){!(this.valueFromJulia[\"changes\"]) ? (WebIO.setval({\"name\":\"changes\",\"scope\":\"5524110224454173043\",\"id\":\"9514881954763092476\",\"type\":\"observable\"},val)) : undefined; return this.valueFromJulia[\"changes\"]=false}),self),this[\"index\"].subscribe((function (val){!(this.valueFromJulia[\"index\"]) ? (WebIO.setval({\"name\":\"index\",\"scope\":\"5524110224454173043\",\"id\":\"3712342553473865854\",\"type\":\"observable\"},val)) : undefined; return this.valueFromJulia[\"index\"]=false}),self)]\n        \n    }\n    self.model = new AppViewModel();\n    self.valueFromJulia = {};\n    for (var key in json_data) {\n        self.valueFromJulia[key] = false;\n    }\n    ko.applyBindings(self.model, self.dom);\n}\n);\n    (WebIO.importBlock({\"data\":[{\"name\":\"knockout\",\"type\":\"js\",\"url\":\"/assetserver/6b96799a10d15874ff94d24957be8c8a087d1c55-knockout.js\"},{\"name\":\"knockout_punches\",\"type\":\"js\",\"url\":\"/assetserver/e20056129f9a18b26001a958417a03ffd18608c4-knockout_punches.js\"}],\"type\":\"async_block\"})).then((imports) => handler.apply(this, imports));\n}\n"
            ],
            "observables": {
             "changes": {
              "id": "9514881954763092476",
              "sync": false,
              "value": 0
             },
             "index": {
              "id": "3712342553473865854",
              "sync": true,
              "value": 4
             }
            },
            "systemjs_options": null
           },
           "nodeType": "Scope",
           "props": {},
           "type": "node"
          }
         ],
         "instanceArgs": {
          "namespace": "html",
          "tag": "div"
         },
         "nodeType": "DOM",
         "props": {
          "className": "field interact-widget"
         },
         "type": "node"
        },
        {
         "children": [
          {
           "children": [],
           "instanceArgs": {
            "id": "7029137977147238660",
            "name": "obs-node"
           },
           "nodeType": "ObservableNode",
           "props": {},
           "type": "node"
          }
         ],
         "instanceArgs": {
          "handlers": {},
          "id": "8487956406776820667",
          "imports": {
           "data": [],
           "type": "async_block"
          },
          "mount_callbacks": [],
          "observables": {
           "obs-node": {
            "id": "7029137977147238660",
            "sync": false,
            "value": {
             "children": [
              {
               "children": [],
               "instanceArgs": {
                "namespace": "html",
                "tag": "div"
               },
               "nodeType": "DOM",
               "props": {
                "setInnerHtml": "<pre>10×10 Matrix{Int64}:\n 0  0  0  0  0  0  0  0  0  0\n 0  0  0  0  0  0  0  0  0  0\n 0  0  0  0  0  0  0  0  0  0\n 0  0  0  1  1  1  0  0  0  0\n 0  0  0  1  1  1  0  0  0  0\n 0  0  0  1  1  1  0  0  0  0\n 0  0  0  0  0  0  0  0  0  0\n 0  0  0  0  0  0  0  0  0  0\n 0  0  0  0  0  0  0  0  0  0\n 0  0  0  0  0  0  0  0  0  0</pre>"
               },
               "type": "node"
              }
             ],
             "instanceArgs": {
              "namespace": "html",
              "tag": "div"
             },
             "nodeType": "DOM",
             "props": {
              "className": "interact-flex-row interact-widget"
             },
             "type": "node"
            }
           }
          },
          "systemjs_options": null
         },
         "nodeType": "Scope",
         "props": {},
         "type": "node"
        }
       ],
       "instanceArgs": {
        "namespace": "html",
        "tag": "div"
       },
       "nodeType": "DOM",
       "props": {},
       "type": "node"
      },
      "text/html": [
       "<div\n",
       "    class=\"webio-mountpoint\"\n",
       "    data-webio-mountpoint=\"690150539100125630\"\n",
       ">\n",
       "    <script>\n",
       "    (function(){\n",
       "    // Some integrations (namely, IJulia/Jupyter) use an alternate render pathway than\n",
       "    // just putting the html on the page. If WebIO isn't defined, then it's pretty likely\n",
       "    // that we're in one of those situations and the integration just isn't installed\n",
       "    // correctly.\n",
       "    if (typeof window.WebIO === \"undefined\") {\n",
       "        document\n",
       "            .querySelector('[data-webio-mountpoint=\"690150539100125630\"]')\n",
       "            .innerHTML = (\n",
       "                '<div style=\"padding: 1em; background-color: #f8d6da; border: 1px solid #f5c6cb; font-weight: bold;\">' +\n",
       "                '<p><strong>WebIO not detected.</strong></p>' +\n",
       "                '<p>Please read ' +\n",
       "                '<a href=\"https://juliagizmos.github.io/WebIO.jl/latest/troubleshooting/not-detected/\" target=\"_blank\">the troubleshooting guide</a> ' +\n",
       "                'for more information on how to resolve this issue.</p>' +\n",
       "                '<p><a href=\"https://juliagizmos.github.io/WebIO.jl/latest/troubleshooting/not-detected/\" target=\"_blank\">https://juliagizmos.github.io/WebIO.jl/latest/troubleshooting/not-detected/</a></p>' +\n",
       "                '</div>'\n",
       "            );\n",
       "        return;\n",
       "    }\n",
       "    WebIO.mount(\n",
       "        document.querySelector('[data-webio-mountpoint=\"690150539100125630\"]'),\n",
       "        {\"props\":{},\"nodeType\":\"DOM\",\"type\":\"node\",\"instanceArgs\":{\"namespace\":\"html\",\"tag\":\"div\"},\"children\":[{\"props\":{\"className\":\"field interact-widget\"},\"nodeType\":\"DOM\",\"type\":\"node\",\"instanceArgs\":{\"namespace\":\"html\",\"tag\":\"div\"},\"children\":[{\"props\":{},\"nodeType\":\"Scope\",\"type\":\"node\",\"instanceArgs\":{\"imports\":{\"data\":[{\"name\":\"knockout\",\"type\":\"js\",\"url\":\"\\/assetserver\\/6b96799a10d15874ff94d24957be8c8a087d1c55-knockout.js\"},{\"name\":\"knockout_punches\",\"type\":\"js\",\"url\":\"\\/assetserver\\/e20056129f9a18b26001a958417a03ffd18608c4-knockout_punches.js\"},{\"name\":null,\"type\":\"js\",\"url\":\"\\/assetserver\\/8ee185a2d679eddcb8e4ab2c454493d75104f685-all.js\"},{\"name\":null,\"type\":\"css\",\"url\":\"\\/assetserver\\/5703ee73fac7e494cfb72707c9ff712cf60bb351-style.css\"},{\"name\":null,\"type\":\"css\",\"url\":\"\\/assetserver\\/f96fd41b34f9616a67d5e754b02eb63284803e1e-bulma_confined.min.css\"}],\"type\":\"async_block\"},\"id\":\"12385900237022393172\",\"handlers\":{\"changes\":[\"(function (val){return (val!=this.model[\\\"changes\\\"]()) ? (this.valueFromJulia[\\\"changes\\\"]=true, this.model[\\\"changes\\\"](val)) : undefined})\"],\"index\":[\"(function (val){return (val!=this.model[\\\"index\\\"]()) ? (this.valueFromJulia[\\\"index\\\"]=true, this.model[\\\"index\\\"](val)) : undefined})\"]},\"systemjs_options\":null,\"mount_callbacks\":[\"function () {\\n    var handler = (function (ko, koPunches) {\\n    ko.punches.enableAll();\\n    ko.bindingHandlers.numericValue = {\\n        init: function(element, valueAccessor, allBindings, data, context) {\\n            var stringified = ko.observable(ko.unwrap(valueAccessor()));\\n            stringified.subscribe(function(value) {\\n                var val = parseFloat(value);\\n                if (!isNaN(val)) {\\n                    valueAccessor()(val);\\n                }\\n            });\\n            valueAccessor().subscribe(function(value) {\\n                var str = JSON.stringify(value);\\n                if ((str == \\\"0\\\") && ([\\\"-0\\\", \\\"-0.\\\"].indexOf(stringified()) >= 0))\\n                     return;\\n                 if ([\\\"null\\\", \\\"\\\"].indexOf(str) >= 0)\\n                     return;\\n                stringified(str);\\n            });\\n            ko.applyBindingsToNode(\\n                element,\\n                {\\n                    value: stringified,\\n                    valueUpdate: allBindings.get('valueUpdate'),\\n                },\\n                context,\\n            );\\n        }\\n    };\\n    var json_data = {\\\"formatted_vals\\\":[\\\"1\\\",\\\"2\\\",\\\"3\\\",\\\"4\\\",\\\"5\\\",\\\"6\\\",\\\"7\\\",\\\"8\\\"],\\\"changes\\\":WebIO.getval({\\\"name\\\":\\\"changes\\\",\\\"scope\\\":\\\"12385900237022393172\\\",\\\"id\\\":\\\"14479920675175988729\\\",\\\"type\\\":\\\"observable\\\"}),\\\"index\\\":WebIO.getval({\\\"name\\\":\\\"index\\\",\\\"scope\\\":\\\"12385900237022393172\\\",\\\"id\\\":\\\"14118414033617562909\\\",\\\"type\\\":\\\"observable\\\"})};\\n    var self = this;\\n    function AppViewModel() {\\n        for (var key in json_data) {\\n            var el = json_data[key];\\n            this[key] = Array.isArray(el) ? ko.observableArray(el) : ko.observable(el);\\n        }\\n        \\n        [this[\\\"formatted_val\\\"]=ko.computed(    function(){\\n        return this.formatted_vals()[parseInt(this.index())-(1)];\\n    }\\n,this)]\\n        [this[\\\"changes\\\"].subscribe((function (val){!(this.valueFromJulia[\\\"changes\\\"]) ? (WebIO.setval({\\\"name\\\":\\\"changes\\\",\\\"scope\\\":\\\"12385900237022393172\\\",\\\"id\\\":\\\"14479920675175988729\\\",\\\"type\\\":\\\"observable\\\"},val)) : undefined; return this.valueFromJulia[\\\"changes\\\"]=false}),self),this[\\\"index\\\"].subscribe((function (val){!(this.valueFromJulia[\\\"index\\\"]) ? (WebIO.setval({\\\"name\\\":\\\"index\\\",\\\"scope\\\":\\\"12385900237022393172\\\",\\\"id\\\":\\\"14118414033617562909\\\",\\\"type\\\":\\\"observable\\\"},val)) : undefined; return this.valueFromJulia[\\\"index\\\"]=false}),self)]\\n        \\n    }\\n    self.model = new AppViewModel();\\n    self.valueFromJulia = {};\\n    for (var key in json_data) {\\n        self.valueFromJulia[key] = false;\\n    }\\n    ko.applyBindings(self.model, self.dom);\\n}\\n);\\n    (WebIO.importBlock({\\\"data\\\":[{\\\"name\\\":\\\"knockout\\\",\\\"type\\\":\\\"js\\\",\\\"url\\\":\\\"\\/assetserver\\/6b96799a10d15874ff94d24957be8c8a087d1c55-knockout.js\\\"},{\\\"name\\\":\\\"knockout_punches\\\",\\\"type\\\":\\\"js\\\",\\\"url\\\":\\\"\\/assetserver\\/e20056129f9a18b26001a958417a03ffd18608c4-knockout_punches.js\\\"}],\\\"type\\\":\\\"async_block\\\"})).then((imports) => handler.apply(this, imports));\\n}\\n\"],\"observables\":{\"changes\":{\"sync\":false,\"id\":\"14479920675175988729\",\"value\":0},\"index\":{\"sync\":true,\"id\":\"14118414033617562909\",\"value\":4}}},\"children\":[{\"props\":{\"className\":\"interact-flex-row interact-widget\"},\"nodeType\":\"DOM\",\"type\":\"node\",\"instanceArgs\":{\"namespace\":\"html\",\"tag\":\"div\"},\"children\":[{\"props\":{\"className\":\"interact-flex-row-left\"},\"nodeType\":\"DOM\",\"type\":\"node\",\"instanceArgs\":{\"namespace\":\"html\",\"tag\":\"div\"},\"children\":[{\"props\":{\"className\":\"interact \",\"style\":{\"padding\":\"5px 10px 0px 10px\"}},\"nodeType\":\"DOM\",\"type\":\"node\",\"instanceArgs\":{\"namespace\":\"html\",\"tag\":\"label\"},\"children\":[\"i\"]}]},{\"props\":{\"className\":\"interact-flex-row-center\"},\"nodeType\":\"DOM\",\"type\":\"node\",\"instanceArgs\":{\"namespace\":\"html\",\"tag\":\"div\"},\"children\":[{\"props\":{\"max\":8,\"min\":1,\"attributes\":{\"type\":\"range\",\"data-bind\":\"numericValue: index, valueUpdate: 'input', event: {change: function (){this.changes(this.changes()+1)}}\",\"orient\":\"horizontal\"},\"step\":1,\"className\":\"slider slider is-fullwidth\",\"style\":{}},\"nodeType\":\"DOM\",\"type\":\"node\",\"instanceArgs\":{\"namespace\":\"html\",\"tag\":\"input\"},\"children\":[]}]},{\"props\":{\"className\":\"interact-flex-row-right\"},\"nodeType\":\"DOM\",\"type\":\"node\",\"instanceArgs\":{\"namespace\":\"html\",\"tag\":\"div\"},\"children\":[{\"props\":{\"attributes\":{\"data-bind\":\"text: formatted_val\"}},\"nodeType\":\"DOM\",\"type\":\"node\",\"instanceArgs\":{\"namespace\":\"html\",\"tag\":\"p\"},\"children\":[]}]}]}]}]},{\"props\":{\"className\":\"field interact-widget\"},\"nodeType\":\"DOM\",\"type\":\"node\",\"instanceArgs\":{\"namespace\":\"html\",\"tag\":\"div\"},\"children\":[{\"props\":{},\"nodeType\":\"Scope\",\"type\":\"node\",\"instanceArgs\":{\"imports\":{\"data\":[{\"name\":\"knockout\",\"type\":\"js\",\"url\":\"\\/assetserver\\/6b96799a10d15874ff94d24957be8c8a087d1c55-knockout.js\"},{\"name\":\"knockout_punches\",\"type\":\"js\",\"url\":\"\\/assetserver\\/e20056129f9a18b26001a958417a03ffd18608c4-knockout_punches.js\"},{\"name\":null,\"type\":\"js\",\"url\":\"\\/assetserver\\/8ee185a2d679eddcb8e4ab2c454493d75104f685-all.js\"},{\"name\":null,\"type\":\"css\",\"url\":\"\\/assetserver\\/5703ee73fac7e494cfb72707c9ff712cf60bb351-style.css\"},{\"name\":null,\"type\":\"css\",\"url\":\"\\/assetserver\\/f96fd41b34f9616a67d5e754b02eb63284803e1e-bulma_confined.min.css\"}],\"type\":\"async_block\"},\"id\":\"5524110224454173043\",\"handlers\":{\"changes\":[\"(function (val){return (val!=this.model[\\\"changes\\\"]()) ? (this.valueFromJulia[\\\"changes\\\"]=true, this.model[\\\"changes\\\"](val)) : undefined})\"],\"index\":[\"(function (val){return (val!=this.model[\\\"index\\\"]()) ? (this.valueFromJulia[\\\"index\\\"]=true, this.model[\\\"index\\\"](val)) : undefined})\"]},\"systemjs_options\":null,\"mount_callbacks\":[\"function () {\\n    var handler = (function (ko, koPunches) {\\n    ko.punches.enableAll();\\n    ko.bindingHandlers.numericValue = {\\n        init: function(element, valueAccessor, allBindings, data, context) {\\n            var stringified = ko.observable(ko.unwrap(valueAccessor()));\\n            stringified.subscribe(function(value) {\\n                var val = parseFloat(value);\\n                if (!isNaN(val)) {\\n                    valueAccessor()(val);\\n                }\\n            });\\n            valueAccessor().subscribe(function(value) {\\n                var str = JSON.stringify(value);\\n                if ((str == \\\"0\\\") && ([\\\"-0\\\", \\\"-0.\\\"].indexOf(stringified()) >= 0))\\n                     return;\\n                 if ([\\\"null\\\", \\\"\\\"].indexOf(str) >= 0)\\n                     return;\\n                stringified(str);\\n            });\\n            ko.applyBindingsToNode(\\n                element,\\n                {\\n                    value: stringified,\\n                    valueUpdate: allBindings.get('valueUpdate'),\\n                },\\n                context,\\n            );\\n        }\\n    };\\n    var json_data = {\\\"formatted_vals\\\":[\\\"1\\\",\\\"2\\\",\\\"3\\\",\\\"4\\\",\\\"5\\\",\\\"6\\\",\\\"7\\\",\\\"8\\\"],\\\"changes\\\":WebIO.getval({\\\"name\\\":\\\"changes\\\",\\\"scope\\\":\\\"5524110224454173043\\\",\\\"id\\\":\\\"9514881954763092476\\\",\\\"type\\\":\\\"observable\\\"}),\\\"index\\\":WebIO.getval({\\\"name\\\":\\\"index\\\",\\\"scope\\\":\\\"5524110224454173043\\\",\\\"id\\\":\\\"3712342553473865854\\\",\\\"type\\\":\\\"observable\\\"})};\\n    var self = this;\\n    function AppViewModel() {\\n        for (var key in json_data) {\\n            var el = json_data[key];\\n            this[key] = Array.isArray(el) ? ko.observableArray(el) : ko.observable(el);\\n        }\\n        \\n        [this[\\\"formatted_val\\\"]=ko.computed(    function(){\\n        return this.formatted_vals()[parseInt(this.index())-(1)];\\n    }\\n,this)]\\n        [this[\\\"changes\\\"].subscribe((function (val){!(this.valueFromJulia[\\\"changes\\\"]) ? (WebIO.setval({\\\"name\\\":\\\"changes\\\",\\\"scope\\\":\\\"5524110224454173043\\\",\\\"id\\\":\\\"9514881954763092476\\\",\\\"type\\\":\\\"observable\\\"},val)) : undefined; return this.valueFromJulia[\\\"changes\\\"]=false}),self),this[\\\"index\\\"].subscribe((function (val){!(this.valueFromJulia[\\\"index\\\"]) ? (WebIO.setval({\\\"name\\\":\\\"index\\\",\\\"scope\\\":\\\"5524110224454173043\\\",\\\"id\\\":\\\"3712342553473865854\\\",\\\"type\\\":\\\"observable\\\"},val)) : undefined; return this.valueFromJulia[\\\"index\\\"]=false}),self)]\\n        \\n    }\\n    self.model = new AppViewModel();\\n    self.valueFromJulia = {};\\n    for (var key in json_data) {\\n        self.valueFromJulia[key] = false;\\n    }\\n    ko.applyBindings(self.model, self.dom);\\n}\\n);\\n    (WebIO.importBlock({\\\"data\\\":[{\\\"name\\\":\\\"knockout\\\",\\\"type\\\":\\\"js\\\",\\\"url\\\":\\\"\\/assetserver\\/6b96799a10d15874ff94d24957be8c8a087d1c55-knockout.js\\\"},{\\\"name\\\":\\\"knockout_punches\\\",\\\"type\\\":\\\"js\\\",\\\"url\\\":\\\"\\/assetserver\\/e20056129f9a18b26001a958417a03ffd18608c4-knockout_punches.js\\\"}],\\\"type\\\":\\\"async_block\\\"})).then((imports) => handler.apply(this, imports));\\n}\\n\"],\"observables\":{\"changes\":{\"sync\":false,\"id\":\"9514881954763092476\",\"value\":0},\"index\":{\"sync\":true,\"id\":\"3712342553473865854\",\"value\":4}}},\"children\":[{\"props\":{\"className\":\"interact-flex-row interact-widget\"},\"nodeType\":\"DOM\",\"type\":\"node\",\"instanceArgs\":{\"namespace\":\"html\",\"tag\":\"div\"},\"children\":[{\"props\":{\"className\":\"interact-flex-row-left\"},\"nodeType\":\"DOM\",\"type\":\"node\",\"instanceArgs\":{\"namespace\":\"html\",\"tag\":\"div\"},\"children\":[{\"props\":{\"className\":\"interact \",\"style\":{\"padding\":\"5px 10px 0px 10px\"}},\"nodeType\":\"DOM\",\"type\":\"node\",\"instanceArgs\":{\"namespace\":\"html\",\"tag\":\"label\"},\"children\":[\"j\"]}]},{\"props\":{\"className\":\"interact-flex-row-center\"},\"nodeType\":\"DOM\",\"type\":\"node\",\"instanceArgs\":{\"namespace\":\"html\",\"tag\":\"div\"},\"children\":[{\"props\":{\"max\":8,\"min\":1,\"attributes\":{\"type\":\"range\",\"data-bind\":\"numericValue: index, valueUpdate: 'input', event: {change: function (){this.changes(this.changes()+1)}}\",\"orient\":\"horizontal\"},\"step\":1,\"className\":\"slider slider is-fullwidth\",\"style\":{}},\"nodeType\":\"DOM\",\"type\":\"node\",\"instanceArgs\":{\"namespace\":\"html\",\"tag\":\"input\"},\"children\":[]}]},{\"props\":{\"className\":\"interact-flex-row-right\"},\"nodeType\":\"DOM\",\"type\":\"node\",\"instanceArgs\":{\"namespace\":\"html\",\"tag\":\"div\"},\"children\":[{\"props\":{\"attributes\":{\"data-bind\":\"text: formatted_val\"}},\"nodeType\":\"DOM\",\"type\":\"node\",\"instanceArgs\":{\"namespace\":\"html\",\"tag\":\"p\"},\"children\":[]}]}]}]}]},{\"props\":{},\"nodeType\":\"Scope\",\"type\":\"node\",\"instanceArgs\":{\"imports\":{\"data\":[],\"type\":\"async_block\"},\"id\":\"4135065790374250900\",\"handlers\":{},\"systemjs_options\":null,\"mount_callbacks\":[],\"observables\":{\"obs-node\":{\"sync\":false,\"id\":\"6643793287868448500\",\"value\":{\"props\":{\"className\":\"interact-flex-row interact-widget\"},\"nodeType\":\"DOM\",\"type\":\"node\",\"instanceArgs\":{\"namespace\":\"html\",\"tag\":\"div\"},\"children\":[{\"props\":{\"setInnerHtml\":\"<pre>10×10 Matrix{Int64}:\\n 0  0  0  0  0  0  0  0  0  0\\n 0  0  0  0  0  0  0  0  0  0\\n 0  0  0  0  0  0  0  0  0  0\\n 0  0  0  1  1  1  0  0  0  0\\n 0  0  0  1  1  1  0  0  0  0\\n 0  0  0  1  1  1  0  0  0  0\\n 0  0  0  0  0  0  0  0  0  0\\n 0  0  0  0  0  0  0  0  0  0\\n 0  0  0  0  0  0  0  0  0  0\\n 0  0  0  0  0  0  0  0  0  0<\\/pre>\"},\"nodeType\":\"DOM\",\"type\":\"node\",\"instanceArgs\":{\"namespace\":\"html\",\"tag\":\"div\"},\"children\":[]}]}}}},\"children\":[{\"props\":{},\"nodeType\":\"ObservableNode\",\"type\":\"node\",\"instanceArgs\":{\"id\":\"6643793287868448500\",\"name\":\"obs-node\"},\"children\":[]}]}]},\n",
       "        window,\n",
       "    );\n",
       "    })()\n",
       "    </script>\n",
       "</div>\n"
      ],
      "text/plain": [
       "Node{WebIO.DOM}(WebIO.DOM(:html, :div), Any[Node{WebIO.DOM}(WebIO.DOM(:html, :div), Any[Scope(Node{WebIO.DOM}(WebIO.DOM(:html, :div), Any[Node{WebIO.DOM}(WebIO.DOM(:html, :div), Any[Node{WebIO.DOM}(WebIO.DOM(:html, :label), Any[\"i\"], Dict{Symbol, Any}(:className => \"interact \", :style => Dict{Any, Any}(:padding => \"5px 10px 0px 10px\")))], Dict{Symbol, Any}(:className => \"interact-flex-row-left\")), Node{WebIO.DOM}(WebIO.DOM(:html, :div), Any[Node{WebIO.DOM}(WebIO.DOM(:html, :input), Any[], Dict{Symbol, Any}(:max => 8, :min => 1, :attributes => Dict{Any, Any}(:type => \"range\", Symbol(\"data-bind\") => \"numericValue: index, valueUpdate: 'input', event: {change: function (){this.changes(this.changes()+1)}}\", \"orient\" => \"horizontal\"), :step => 1, :className => \"slider slider is-fullwidth\", :style => Dict{Any, Any}()))], Dict{Symbol, Any}(:className => \"interact-flex-row-center\")), Node{WebIO.DOM}(WebIO.DOM(:html, :div), Any[Node{WebIO.DOM}(WebIO.DOM(:html, :p), Any[], Dict{Symbol, Any}(:attributes => Dict(\"data-bind\" => \"text: formatted_val\")))], Dict{Symbol, Any}(:className => \"interact-flex-row-right\"))], Dict{Symbol, Any}(:className => \"interact-flex-row interact-widget\")), Dict{String, Tuple{Observables.AbstractObservable, Union{Nothing, Bool}}}(\"changes\" => (Observable{Int64} with 1 listeners. Value:\n",
       "0, nothing), \"index\" => (Observable{Int64} with 2 listeners. Value:\n",
       "4, nothing)), Set{String}(), nothing, Asset[Asset(\"js\", \"knockout\", \"/home/eric/.julia/packages/Knockout/3gjS1/src/../assets/knockout.js\"), Asset(\"js\", \"knockout_punches\", \"/home/eric/.julia/packages/Knockout/3gjS1/src/../assets/knockout_punches.js\"), Asset(\"js\", nothing, \"/home/eric/.julia/packages/InteractBase/h8Fwe/src/../assets/all.js\"), Asset(\"css\", nothing, \"/home/eric/.julia/packages/InteractBase/h8Fwe/src/../assets/style.css\"), Asset(\"css\", nothing, \"/home/eric/.julia/packages/Interact/pVyN2/src/../assets/bulma_confined.min.css\")], Dict{Any, Any}(\"changes\" => Any[WebIO.JSString(\"(function (val){return (val!=this.model[\\\"changes\\\"]()) ? (this.valueFromJulia[\\\"changes\\\"]=true, this.model[\\\"changes\\\"](val)) : undefined})\")], \"index\" => Any[WebIO.JSString(\"(function (val){return (val!=this.model[\\\"index\\\"]()) ? (this.valueFromJulia[\\\"index\\\"]=true, this.model[\\\"index\\\"](val)) : undefined})\")]), WebIO.ConnectionPool(Channel{Any}(32), Set{AbstractConnection}(), Condition(Base.InvasiveLinkedList{Task}(Task (runnable) @0x00007f43665970f0, Task (runnable) @0x00007f43665970f0), Base.AlwaysLockedST(1))), WebIO.JSString[WebIO.JSString(\"function () {\\n    var handler = (function (ko, koPunches) {\\n    ko.punches.enableAll();\\n    ko.bindingHandlers.numericValue = {\\n        init: function(element, valueAccessor, allBindings, data, context) {\\n            var stringified = ko.observable(ko.unwrap(valueAccessor()));\\n            stringified.subscribe(function(value) {\\n                var val = parseFloat(value);\\n                if (!isNaN(val)) {\\n                    valueAccessor()(val);\\n                }\\n            });\\n            valueAccessor().subscribe(function(value) {\\n                var str = JSON.stringify(value);\\n                if ((str == \\\"0\\\") && ([\\\"-0\\\", \\\"-0.\\\"].indexOf(stringified()) >= 0))\\n                     return;\\n                 if ([\\\"null\\\", \\\"\\\"].indexOf(str) >= 0)\\n                     return;\\n                stringified(str);\\n            });\\n            ko.applyBindingsToNode(\\n                element,\\n                {\\n                    value: stringified,\\n                    valueUpdate: allBindings.get('valueUpdate'),\\n                },\\n                context,\\n            );\\n        }\\n    };\\n    var json_data = {\\\"formatted_vals\\\":[\\\"1\\\",\\\"2\\\",\\\"3\\\",\\\"4\\\",\\\"5\\\",\\\"6\\\",\\\"7\\\",\\\"8\\\"],\\\"changes\\\":WebIO.getval({\\\"name\\\":\\\"changes\\\",\\\"scope\\\":\\\"12385900237022393172\\\",\\\"id\\\":\\\"14479920675175988729\\\",\\\"type\\\":\\\"observable\\\"}),\\\"index\\\":WebIO.getval({\\\"name\\\":\\\"index\\\",\\\"scope\\\":\\\"12385900237022393172\\\",\\\"id\\\":\\\"14118414033617562909\\\",\\\"type\\\":\\\"observable\\\"})};\\n    var self = this;\\n    function AppViewModel() {\\n        for (var key in json_data) {\\n            var el = json_data[key];\\n            this[key] = Array.isArray(el) ? ko.observableArray(el) : ko.observable(el);\\n        }\\n        \\n        [this[\\\"formatted_val\\\"]=ko.computed(    function(){\\n        return this.formatted_vals()[parseInt(this.index())-(1)];\\n    }\\n,this)]\\n        [this[\\\"changes\\\"].subscribe((function (val){!(this.valueFromJulia[\\\"changes\\\"]) ? (WebIO.setval({\\\"name\\\":\\\"changes\\\",\\\"scope\\\":\\\"12385900237022393172\\\",\\\"id\\\":\\\"14479920675175988729\\\",\\\"type\\\":\\\"observable\\\"},val)) : undefined; return this.valueFromJulia[\\\"changes\\\"]=false}),self),this[\\\"index\\\"].subscribe((function (val){!(this.valueFromJulia[\\\"index\\\"]) ? (WebIO.setval({\\\"name\\\":\\\"index\\\",\\\"scope\\\":\\\"12385900237022393172\\\",\\\"id\\\":\\\"14118414033617562909\\\",\\\"type\\\":\\\"observable\\\"},val)) : undefined; return this.valueFromJulia[\\\"index\\\"]=false}),self)]\\n        \\n    }\\n    self.model = new AppViewModel();\\n    self.valueFromJulia = {};\\n    for (var key in json_data) {\\n        self.valueFromJulia[key] = false;\\n    }\\n    ko.applyBindings(self.model, self.dom);\\n}\\n);\\n    (WebIO.importBlock({\\\"data\\\":[{\\\"name\\\":\\\"knockout\\\",\\\"type\\\":\\\"js\\\",\\\"url\\\":\\\"/assetserver/6b96799a10d15874ff94d24957be8c8a087d1c55-knockout.js\\\"},{\\\"name\\\":\\\"knockout_punches\\\",\\\"type\\\":\\\"js\\\",\\\"url\\\":\\\"/assetserver/e20056129f9a18b26001a958417a03ffd18608c4-knockout_punches.js\\\"}],\\\"type\\\":\\\"async_block\\\"})).then((imports) => handler.apply(this, imports));\\n}\\n\")])], Dict{Symbol, Any}(:className => \"field interact-widget\")), Node{WebIO.DOM}(WebIO.DOM(:html, :div), Any[Scope(Node{WebIO.DOM}(WebIO.DOM(:html, :div), Any[Node{WebIO.DOM}(WebIO.DOM(:html, :div), Any[Node{WebIO.DOM}(WebIO.DOM(:html, :label), Any[\"j\"], Dict{Symbol, Any}(:className => \"interact \", :style => Dict{Any, Any}(:padding => \"5px 10px 0px 10px\")))], Dict{Symbol, Any}(:className => \"interact-flex-row-left\")), Node{WebIO.DOM}(WebIO.DOM(:html, :div), Any[Node{WebIO.DOM}(WebIO.DOM(:html, :input), Any[], Dict{Symbol, Any}(:max => 8, :min => 1, :attributes => Dict{Any, Any}(:type => \"range\", Symbol(\"data-bind\") => \"numericValue: index, valueUpdate: 'input', event: {change: function (){this.changes(this.changes()+1)}}\", \"orient\" => \"horizontal\"), :step => 1, :className => \"slider slider is-fullwidth\", :style => Dict{Any, Any}()))], Dict{Symbol, Any}(:className => \"interact-flex-row-center\")), Node{WebIO.DOM}(WebIO.DOM(:html, :div), Any[Node{WebIO.DOM}(WebIO.DOM(:html, :p), Any[], Dict{Symbol, Any}(:attributes => Dict(\"data-bind\" => \"text: formatted_val\")))], Dict{Symbol, Any}(:className => \"interact-flex-row-right\"))], Dict{Symbol, Any}(:className => \"interact-flex-row interact-widget\")), Dict{String, Tuple{Observables.AbstractObservable, Union{Nothing, Bool}}}(\"changes\" => (Observable{Int64} with 1 listeners. Value:\n",
       "0, nothing), \"index\" => (Observable{Int64} with 2 listeners. Value:\n",
       "4, nothing)), Set{String}(), nothing, Asset[Asset(\"js\", \"knockout\", \"/home/eric/.julia/packages/Knockout/3gjS1/src/../assets/knockout.js\"), Asset(\"js\", \"knockout_punches\", \"/home/eric/.julia/packages/Knockout/3gjS1/src/../assets/knockout_punches.js\"), Asset(\"js\", nothing, \"/home/eric/.julia/packages/InteractBase/h8Fwe/src/../assets/all.js\"), Asset(\"css\", nothing, \"/home/eric/.julia/packages/InteractBase/h8Fwe/src/../assets/style.css\"), Asset(\"css\", nothing, \"/home/eric/.julia/packages/Interact/pVyN2/src/../assets/bulma_confined.min.css\")], Dict{Any, Any}(\"changes\" => Any[WebIO.JSString(\"(function (val){return (val!=this.model[\\\"changes\\\"]()) ? (this.valueFromJulia[\\\"changes\\\"]=true, this.model[\\\"changes\\\"](val)) : undefined})\")], \"index\" => Any[WebIO.JSString(\"(function (val){return (val!=this.model[\\\"index\\\"]()) ? (this.valueFromJulia[\\\"index\\\"]=true, this.model[\\\"index\\\"](val)) : undefined})\")]), WebIO.ConnectionPool(Channel{Any}(32), Set{AbstractConnection}(), Condition(Base.InvasiveLinkedList{Task}(Task (runnable) @0x00007f436836c010, Task (runnable) @0x00007f436836c010), Base.AlwaysLockedST(1))), WebIO.JSString[WebIO.JSString(\"function () {\\n    var handler = (function (ko, koPunches) {\\n    ko.punches.enableAll();\\n    ko.bindingHandlers.numericValue = {\\n        init: function(element, valueAccessor, allBindings, data, context) {\\n            var stringified = ko.observable(ko.unwrap(valueAccessor()));\\n            stringified.subscribe(function(value) {\\n                var val = parseFloat(value);\\n                if (!isNaN(val)) {\\n                    valueAccessor()(val);\\n                }\\n            });\\n            valueAccessor().subscribe(function(value) {\\n                var str = JSON.stringify(value);\\n                if ((str == \\\"0\\\") && ([\\\"-0\\\", \\\"-0.\\\"].indexOf(stringified()) >= 0))\\n                     return;\\n                 if ([\\\"null\\\", \\\"\\\"].indexOf(str) >= 0)\\n                     return;\\n                stringified(str);\\n            });\\n            ko.applyBindingsToNode(\\n                element,\\n                {\\n                    value: stringified,\\n                    valueUpdate: allBindings.get('valueUpdate'),\\n                },\\n                context,\\n            );\\n        }\\n    };\\n    var json_data = {\\\"formatted_vals\\\":[\\\"1\\\",\\\"2\\\",\\\"3\\\",\\\"4\\\",\\\"5\\\",\\\"6\\\",\\\"7\\\",\\\"8\\\"],\\\"changes\\\":WebIO.getval({\\\"name\\\":\\\"changes\\\",\\\"scope\\\":\\\"5524110224454173043\\\",\\\"id\\\":\\\"9514881954763092476\\\",\\\"type\\\":\\\"observable\\\"}),\\\"index\\\":WebIO.getval({\\\"name\\\":\\\"index\\\",\\\"scope\\\":\\\"5524110224454173043\\\",\\\"id\\\":\\\"3712342553473865854\\\",\\\"type\\\":\\\"observable\\\"})};\\n    var self = this;\\n    function AppViewModel() {\\n        for (var key in json_data) {\\n            var el = json_data[key];\\n            this[key] = Array.isArray(el) ? ko.observableArray(el) : ko.observable(el);\\n        }\\n        \\n        [this[\\\"formatted_val\\\"]=ko.computed(    function(){\\n        return this.formatted_vals()[parseInt(this.index())-(1)];\\n    }\\n,this)]\\n        [this[\\\"changes\\\"].subscribe((function (val){!(this.valueFromJulia[\\\"changes\\\"]) ? (WebIO.setval({\\\"name\\\":\\\"changes\\\",\\\"scope\\\":\\\"5524110224454173043\\\",\\\"id\\\":\\\"9514881954763092476\\\",\\\"type\\\":\\\"observable\\\"},val)) : undefined; return this.valueFromJulia[\\\"changes\\\"]=false}),self),this[\\\"index\\\"].subscribe((function (val){!(this.valueFromJulia[\\\"index\\\"]) ? (WebIO.setval({\\\"name\\\":\\\"index\\\",\\\"scope\\\":\\\"5524110224454173043\\\",\\\"id\\\":\\\"3712342553473865854\\\",\\\"type\\\":\\\"observable\\\"},val)) : undefined; return this.valueFromJulia[\\\"index\\\"]=false}),self)]\\n        \\n    }\\n    self.model = new AppViewModel();\\n    self.valueFromJulia = {};\\n    for (var key in json_data) {\\n        self.valueFromJulia[key] = false;\\n    }\\n    ko.applyBindings(self.model, self.dom);\\n}\\n);\\n    (WebIO.importBlock({\\\"data\\\":[{\\\"name\\\":\\\"knockout\\\",\\\"type\\\":\\\"js\\\",\\\"url\\\":\\\"/assetserver/6b96799a10d15874ff94d24957be8c8a087d1c55-knockout.js\\\"},{\\\"name\\\":\\\"knockout_punches\\\",\\\"type\\\":\\\"js\\\",\\\"url\\\":\\\"/assetserver/e20056129f9a18b26001a958417a03ffd18608c4-knockout_punches.js\\\"}],\\\"type\\\":\\\"async_block\\\"})).then((imports) => handler.apply(this, imports));\\n}\\n\")])], Dict{Symbol, Any}(:className => \"field interact-widget\")), Observable{Node{WebIO.DOM}} with 0 listeners. Value:\n",
       "Node{WebIO.DOM}(WebIO.DOM(:html, :div), Any[[0 0 … 0 0; 0 0 … 0 0; … ; 0 0 … 0 0; 0 0 … 0 0]], Dict{Symbol, Any}(:className => \"interact-flex-row interact-widget\"))], Dict{Symbol, Any}())"
      ]
     },
     "execution_count": 22,
     "metadata": {
      "application/vnd.webio.node+json": {
       "kernelId": "94e38928-bc94-4f3b-9639-a305e1ab4272"
      }
     },
     "output_type": "execute_result"
    }
   ],
   "source": [
    "A = fill(0, 10, 10)\n",
    "n = size(A, 1)\n",
    "\n",
    "@manipulate for i in 1:n-2, j in 1:n-2\n",
    "    insert_block(A, i, j, 1)\n",
    "end"
   ]
  },
  {
   "cell_type": "markdown",
   "metadata": {},
   "source": [
    "### Let's add some color!"
   ]
  },
  {
   "cell_type": "markdown",
   "metadata": {},
   "source": [
    "Our function `insert_block` is generic. We don't care about the element type of `A`. Pretty much every type is fine!"
   ]
  },
  {
   "cell_type": "code",
   "execution_count": 25,
   "metadata": {},
   "outputs": [],
   "source": [
    "using Colors"
   ]
  },
  {
   "cell_type": "code",
   "execution_count": 26,
   "metadata": {},
   "outputs": [
    {
     "data": {
      "image/svg+xml": [
       "<?xml version=\"1.0\" encoding=\"UTF-8\"?>\n",
       "<!DOCTYPE svg PUBLIC \"-//W3C//DTD SVG 1.1//EN\"\n",
       " \"http://www.w3.org/Graphics/SVG/1.1/DTD/svg11.dtd\">\n",
       "<svg xmlns=\"http://www.w3.org/2000/svg\" version=\"1.1\"\n",
       "     width=\"180mm\" height=\"25mm\"\n",
       "     viewBox=\"0 0 10 1\" preserveAspectRatio=\"none\"\n",
       "     shape-rendering=\"crispEdges\" stroke=\"none\">\n",
       "<rect width=\".94\" height=\".96\" x=\"0\" y=\"0\" fill=\"#000000\" />\n",
       "<rect width=\".94\" height=\".96\" x=\"1\" y=\"0\" fill=\"#FFFF74\" />\n",
       "<rect width=\".94\" height=\".96\" x=\"2\" y=\"0\" fill=\"#FF9BFF\" />\n",
       "<rect width=\".94\" height=\".96\" x=\"3\" y=\"0\" fill=\"#00D3FF\" />\n",
       "<rect width=\".94\" height=\".96\" x=\"4\" y=\"0\" fill=\"#E2630D\" />\n",
       "<rect width=\".94\" height=\".96\" x=\"5\" y=\"0\" fill=\"#007E00\" />\n",
       "<rect width=\".94\" height=\".96\" x=\"6\" y=\"0\" fill=\"#0050E6\" />\n",
       "<rect width=\".94\" height=\".96\" x=\"7\" y=\"0\" fill=\"#AC0047\" />\n",
       "<rect width=\".94\" height=\".96\" x=\"8\" y=\"0\" fill=\"#00FFC8\" />\n",
       "<rect width=\".94\" height=\".96\" x=\"9\" y=\"0\" fill=\"#006468\" />\n",
       "</svg>"
      ],
      "text/plain": [
       "10-element Array{RGB{N0f8},1} with eltype RGB{FixedPointNumbers.N0f8}:\n",
       " RGB{N0f8}(0.0,0.0,0.0)\n",
       " RGB{N0f8}(1.0,1.0,0.455)\n",
       " RGB{N0f8}(1.0,0.608,1.0)\n",
       " RGB{N0f8}(0.0,0.827,1.0)\n",
       " RGB{N0f8}(0.886,0.388,0.051)\n",
       " RGB{N0f8}(0.0,0.494,0.0)\n",
       " RGB{N0f8}(0.0,0.314,0.902)\n",
       " RGB{N0f8}(0.675,0.0,0.278)\n",
       " RGB{N0f8}(0.0,1.0,0.784)\n",
       " RGB{N0f8}(0.0,0.392,0.408)"
      ]
     },
     "execution_count": 26,
     "metadata": {},
     "output_type": "execute_result"
    }
   ],
   "source": [
    "colors = distinguishable_colors(10)"
   ]
  },
  {
   "cell_type": "code",
   "execution_count": 27,
   "metadata": {},
   "outputs": [
    {
     "data": {
      "image/svg+xml": [
       "<?xml version=\"1.0\" encoding=\"UTF-8\"?>\n",
       "<!DOCTYPE svg PUBLIC \"-//W3C//DTD SVG 1.1//EN\"\n",
       " \"http://www.w3.org/Graphics/SVG/1.1/DTD/svg11.dtd\">\n",
       "<svg xmlns=\"http://www.w3.org/2000/svg\" version=\"1.1\"\n",
       "     width=\"25mm\" height=\"25mm\" viewBox=\"0 0 1 1\">\n",
       "    <rect width=\"1\" height=\"1\" fill=\"#000000\" stroke=\"none\"/>\n",
       "</svg>\n"
      ],
      "text/plain": [
       "RGB{N0f8}(0.0,0.0,0.0)"
      ]
     },
     "execution_count": 27,
     "metadata": {},
     "output_type": "execute_result"
    }
   ],
   "source": [
    "basecolor = colors[1]"
   ]
  },
  {
   "cell_type": "code",
   "execution_count": 28,
   "metadata": {},
   "outputs": [
    {
     "data": {
      "image/svg+xml": [
       "<?xml version=\"1.0\" encoding=\"UTF-8\"?>\n",
       "<!DOCTYPE svg PUBLIC \"-//W3C//DTD SVG 1.1//EN\"\n",
       " \"http://www.w3.org/Graphics/SVG/1.1/DTD/svg11.dtd\">\n",
       "<svg xmlns=\"http://www.w3.org/2000/svg\" version=\"1.1\"\n",
       "     width=\"25mm\" height=\"25mm\" viewBox=\"0 0 1 1\">\n",
       "    <rect width=\"1\" height=\"1\" fill=\"#00D3FF\" stroke=\"none\"/>\n",
       "</svg>\n"
      ],
      "text/plain": [
       "RGB{N0f8}(0.0,0.827,1.0)"
      ]
     },
     "execution_count": 28,
     "metadata": {},
     "output_type": "execute_result"
    }
   ],
   "source": [
    "accentcolor = colors[4]"
   ]
  },
  {
   "cell_type": "code",
   "execution_count": 29,
   "metadata": {},
   "outputs": [
    {
     "data": {
      "image/svg+xml": [
       "<?xml version=\"1.0\" encoding=\"UTF-8\"?>\n",
       "<!DOCTYPE svg PUBLIC \"-//W3C//DTD SVG 1.1//EN\"\n",
       " \"http://www.w3.org/Graphics/SVG/1.1/DTD/svg11.dtd\">\n",
       "<svg xmlns=\"http://www.w3.org/2000/svg\" version=\"1.1\"\n",
       "     width=\"150mm\" height=\"150mm\"\n",
       "     viewBox=\"0 0 10 10\" preserveAspectRatio=\"none\"\n",
       "     shape-rendering=\"crispEdges\" stroke=\"none\">\n",
       "<rect width=\".93\" height=\".93\" x=\"0\" y=\"0\" fill=\"#000000\" />\n",
       "<rect width=\".93\" height=\".93\" x=\"1\" y=\"0\" fill=\"#000000\" />\n",
       "<rect width=\".93\" height=\".93\" x=\"2\" y=\"0\" fill=\"#000000\" />\n",
       "<rect width=\".93\" height=\".93\" x=\"3\" y=\"0\" fill=\"#000000\" />\n",
       "<rect width=\".93\" height=\".93\" x=\"4\" y=\"0\" fill=\"#000000\" />\n",
       "<rect width=\".93\" height=\".93\" x=\"5\" y=\"0\" fill=\"#000000\" />\n",
       "<rect width=\".93\" height=\".93\" x=\"6\" y=\"0\" fill=\"#000000\" />\n",
       "<rect width=\".93\" height=\".93\" x=\"7\" y=\"0\" fill=\"#000000\" />\n",
       "<rect width=\".93\" height=\".93\" x=\"8\" y=\"0\" fill=\"#000000\" />\n",
       "<rect width=\".93\" height=\".93\" x=\"9\" y=\"0\" fill=\"#000000\" />\n",
       "<rect width=\".93\" height=\".93\" x=\"0\" y=\"1\" fill=\"#000000\" />\n",
       "<rect width=\".93\" height=\".93\" x=\"1\" y=\"1\" fill=\"#000000\" />\n",
       "<rect width=\".93\" height=\".93\" x=\"2\" y=\"1\" fill=\"#000000\" />\n",
       "<rect width=\".93\" height=\".93\" x=\"3\" y=\"1\" fill=\"#000000\" />\n",
       "<rect width=\".93\" height=\".93\" x=\"4\" y=\"1\" fill=\"#000000\" />\n",
       "<rect width=\".93\" height=\".93\" x=\"5\" y=\"1\" fill=\"#000000\" />\n",
       "<rect width=\".93\" height=\".93\" x=\"6\" y=\"1\" fill=\"#000000\" />\n",
       "<rect width=\".93\" height=\".93\" x=\"7\" y=\"1\" fill=\"#000000\" />\n",
       "<rect width=\".93\" height=\".93\" x=\"8\" y=\"1\" fill=\"#000000\" />\n",
       "<rect width=\".93\" height=\".93\" x=\"9\" y=\"1\" fill=\"#000000\" />\n",
       "<rect width=\".93\" height=\".93\" x=\"0\" y=\"2\" fill=\"#000000\" />\n",
       "<rect width=\".93\" height=\".93\" x=\"1\" y=\"2\" fill=\"#000000\" />\n",
       "<rect width=\".93\" height=\".93\" x=\"2\" y=\"2\" fill=\"#000000\" />\n",
       "<rect width=\".93\" height=\".93\" x=\"3\" y=\"2\" fill=\"#000000\" />\n",
       "<rect width=\".93\" height=\".93\" x=\"4\" y=\"2\" fill=\"#000000\" />\n",
       "<rect width=\".93\" height=\".93\" x=\"5\" y=\"2\" fill=\"#000000\" />\n",
       "<rect width=\".93\" height=\".93\" x=\"6\" y=\"2\" fill=\"#000000\" />\n",
       "<rect width=\".93\" height=\".93\" x=\"7\" y=\"2\" fill=\"#000000\" />\n",
       "<rect width=\".93\" height=\".93\" x=\"8\" y=\"2\" fill=\"#000000\" />\n",
       "<rect width=\".93\" height=\".93\" x=\"9\" y=\"2\" fill=\"#000000\" />\n",
       "<rect width=\".93\" height=\".93\" x=\"0\" y=\"3\" fill=\"#000000\" />\n",
       "<rect width=\".93\" height=\".93\" x=\"1\" y=\"3\" fill=\"#000000\" />\n",
       "<rect width=\".93\" height=\".93\" x=\"2\" y=\"3\" fill=\"#000000\" />\n",
       "<rect width=\".93\" height=\".93\" x=\"3\" y=\"3\" fill=\"#000000\" />\n",
       "<rect width=\".93\" height=\".93\" x=\"4\" y=\"3\" fill=\"#000000\" />\n",
       "<rect width=\".93\" height=\".93\" x=\"5\" y=\"3\" fill=\"#000000\" />\n",
       "<rect width=\".93\" height=\".93\" x=\"6\" y=\"3\" fill=\"#000000\" />\n",
       "<rect width=\".93\" height=\".93\" x=\"7\" y=\"3\" fill=\"#000000\" />\n",
       "<rect width=\".93\" height=\".93\" x=\"8\" y=\"3\" fill=\"#000000\" />\n",
       "<rect width=\".93\" height=\".93\" x=\"9\" y=\"3\" fill=\"#000000\" />\n",
       "<rect width=\".93\" height=\".93\" x=\"0\" y=\"4\" fill=\"#000000\" />\n",
       "<rect width=\".93\" height=\".93\" x=\"1\" y=\"4\" fill=\"#000000\" />\n",
       "<rect width=\".93\" height=\".93\" x=\"2\" y=\"4\" fill=\"#000000\" />\n",
       "<rect width=\".93\" height=\".93\" x=\"3\" y=\"4\" fill=\"#000000\" />\n",
       "<rect width=\".93\" height=\".93\" x=\"4\" y=\"4\" fill=\"#000000\" />\n",
       "<rect width=\".93\" height=\".93\" x=\"5\" y=\"4\" fill=\"#000000\" />\n",
       "<rect width=\".93\" height=\".93\" x=\"6\" y=\"4\" fill=\"#000000\" />\n",
       "<rect width=\".93\" height=\".93\" x=\"7\" y=\"4\" fill=\"#000000\" />\n",
       "<rect width=\".93\" height=\".93\" x=\"8\" y=\"4\" fill=\"#000000\" />\n",
       "<rect width=\".93\" height=\".93\" x=\"9\" y=\"4\" fill=\"#000000\" />\n",
       "<rect width=\".93\" height=\".93\" x=\"0\" y=\"5\" fill=\"#000000\" />\n",
       "<rect width=\".93\" height=\".93\" x=\"1\" y=\"5\" fill=\"#000000\" />\n",
       "<rect width=\".93\" height=\".93\" x=\"2\" y=\"5\" fill=\"#000000\" />\n",
       "<rect width=\".93\" height=\".93\" x=\"3\" y=\"5\" fill=\"#000000\" />\n",
       "<rect width=\".93\" height=\".93\" x=\"4\" y=\"5\" fill=\"#000000\" />\n",
       "<rect width=\".93\" height=\".93\" x=\"5\" y=\"5\" fill=\"#000000\" />\n",
       "<rect width=\".93\" height=\".93\" x=\"6\" y=\"5\" fill=\"#000000\" />\n",
       "<rect width=\".93\" height=\".93\" x=\"7\" y=\"5\" fill=\"#000000\" />\n",
       "<rect width=\".93\" height=\".93\" x=\"8\" y=\"5\" fill=\"#000000\" />\n",
       "<rect width=\".93\" height=\".93\" x=\"9\" y=\"5\" fill=\"#000000\" />\n",
       "<rect width=\".93\" height=\".93\" x=\"0\" y=\"6\" fill=\"#000000\" />\n",
       "<rect width=\".93\" height=\".93\" x=\"1\" y=\"6\" fill=\"#000000\" />\n",
       "<rect width=\".93\" height=\".93\" x=\"2\" y=\"6\" fill=\"#000000\" />\n",
       "<rect width=\".93\" height=\".93\" x=\"3\" y=\"6\" fill=\"#000000\" />\n",
       "<rect width=\".93\" height=\".93\" x=\"4\" y=\"6\" fill=\"#000000\" />\n",
       "<rect width=\".93\" height=\".93\" x=\"5\" y=\"6\" fill=\"#000000\" />\n",
       "<rect width=\".93\" height=\".93\" x=\"6\" y=\"6\" fill=\"#000000\" />\n",
       "<rect width=\".93\" height=\".93\" x=\"7\" y=\"6\" fill=\"#000000\" />\n",
       "<rect width=\".93\" height=\".93\" x=\"8\" y=\"6\" fill=\"#000000\" />\n",
       "<rect width=\".93\" height=\".93\" x=\"9\" y=\"6\" fill=\"#000000\" />\n",
       "<rect width=\".93\" height=\".93\" x=\"0\" y=\"7\" fill=\"#000000\" />\n",
       "<rect width=\".93\" height=\".93\" x=\"1\" y=\"7\" fill=\"#000000\" />\n",
       "<rect width=\".93\" height=\".93\" x=\"2\" y=\"7\" fill=\"#000000\" />\n",
       "<rect width=\".93\" height=\".93\" x=\"3\" y=\"7\" fill=\"#000000\" />\n",
       "<rect width=\".93\" height=\".93\" x=\"4\" y=\"7\" fill=\"#000000\" />\n",
       "<rect width=\".93\" height=\".93\" x=\"5\" y=\"7\" fill=\"#000000\" />\n",
       "<rect width=\".93\" height=\".93\" x=\"6\" y=\"7\" fill=\"#000000\" />\n",
       "<rect width=\".93\" height=\".93\" x=\"7\" y=\"7\" fill=\"#000000\" />\n",
       "<rect width=\".93\" height=\".93\" x=\"8\" y=\"7\" fill=\"#000000\" />\n",
       "<rect width=\".93\" height=\".93\" x=\"9\" y=\"7\" fill=\"#000000\" />\n",
       "<rect width=\".93\" height=\".93\" x=\"0\" y=\"8\" fill=\"#000000\" />\n",
       "<rect width=\".93\" height=\".93\" x=\"1\" y=\"8\" fill=\"#000000\" />\n",
       "<rect width=\".93\" height=\".93\" x=\"2\" y=\"8\" fill=\"#000000\" />\n",
       "<rect width=\".93\" height=\".93\" x=\"3\" y=\"8\" fill=\"#000000\" />\n",
       "<rect width=\".93\" height=\".93\" x=\"4\" y=\"8\" fill=\"#000000\" />\n",
       "<rect width=\".93\" height=\".93\" x=\"5\" y=\"8\" fill=\"#000000\" />\n",
       "<rect width=\".93\" height=\".93\" x=\"6\" y=\"8\" fill=\"#000000\" />\n",
       "<rect width=\".93\" height=\".93\" x=\"7\" y=\"8\" fill=\"#000000\" />\n",
       "<rect width=\".93\" height=\".93\" x=\"8\" y=\"8\" fill=\"#000000\" />\n",
       "<rect width=\".93\" height=\".93\" x=\"9\" y=\"8\" fill=\"#000000\" />\n",
       "<rect width=\".93\" height=\".93\" x=\"0\" y=\"9\" fill=\"#000000\" />\n",
       "<rect width=\".93\" height=\".93\" x=\"1\" y=\"9\" fill=\"#000000\" />\n",
       "<rect width=\".93\" height=\".93\" x=\"2\" y=\"9\" fill=\"#000000\" />\n",
       "<rect width=\".93\" height=\".93\" x=\"3\" y=\"9\" fill=\"#000000\" />\n",
       "<rect width=\".93\" height=\".93\" x=\"4\" y=\"9\" fill=\"#000000\" />\n",
       "<rect width=\".93\" height=\".93\" x=\"5\" y=\"9\" fill=\"#000000\" />\n",
       "<rect width=\".93\" height=\".93\" x=\"6\" y=\"9\" fill=\"#000000\" />\n",
       "<rect width=\".93\" height=\".93\" x=\"7\" y=\"9\" fill=\"#000000\" />\n",
       "<rect width=\".93\" height=\".93\" x=\"8\" y=\"9\" fill=\"#000000\" />\n",
       "<rect width=\".93\" height=\".93\" x=\"9\" y=\"9\" fill=\"#000000\" />\n",
       "</svg>"
      ],
      "text/plain": [
       "10×10 Array{RGB{N0f8},2} with eltype RGB{FixedPointNumbers.N0f8}:\n",
       " RGB{N0f8}(0.0,0.0,0.0)  RGB{N0f8}(0.0,0.0,0.0)  …  RGB{N0f8}(0.0,0.0,0.0)\n",
       " RGB{N0f8}(0.0,0.0,0.0)  RGB{N0f8}(0.0,0.0,0.0)     RGB{N0f8}(0.0,0.0,0.0)\n",
       " RGB{N0f8}(0.0,0.0,0.0)  RGB{N0f8}(0.0,0.0,0.0)     RGB{N0f8}(0.0,0.0,0.0)\n",
       " RGB{N0f8}(0.0,0.0,0.0)  RGB{N0f8}(0.0,0.0,0.0)     RGB{N0f8}(0.0,0.0,0.0)\n",
       " RGB{N0f8}(0.0,0.0,0.0)  RGB{N0f8}(0.0,0.0,0.0)     RGB{N0f8}(0.0,0.0,0.0)\n",
       " RGB{N0f8}(0.0,0.0,0.0)  RGB{N0f8}(0.0,0.0,0.0)  …  RGB{N0f8}(0.0,0.0,0.0)\n",
       " RGB{N0f8}(0.0,0.0,0.0)  RGB{N0f8}(0.0,0.0,0.0)     RGB{N0f8}(0.0,0.0,0.0)\n",
       " RGB{N0f8}(0.0,0.0,0.0)  RGB{N0f8}(0.0,0.0,0.0)     RGB{N0f8}(0.0,0.0,0.0)\n",
       " RGB{N0f8}(0.0,0.0,0.0)  RGB{N0f8}(0.0,0.0,0.0)     RGB{N0f8}(0.0,0.0,0.0)\n",
       " RGB{N0f8}(0.0,0.0,0.0)  RGB{N0f8}(0.0,0.0,0.0)     RGB{N0f8}(0.0,0.0,0.0)"
      ]
     },
     "execution_count": 29,
     "metadata": {},
     "output_type": "execute_result"
    }
   ],
   "source": [
    "A = fill(basecolor, 10, 10)"
   ]
  },
  {
   "cell_type": "code",
   "execution_count": 31,
   "metadata": {},
   "outputs": [
    {
     "data": {
      "application/vnd.webio.node+json": {
       "children": [
        {
         "children": [
          {
           "children": [
            {
             "children": [
              {
               "children": [
                {
                 "children": [
                  "i"
                 ],
                 "instanceArgs": {
                  "namespace": "html",
                  "tag": "label"
                 },
                 "nodeType": "DOM",
                 "props": {
                  "className": "interact ",
                  "style": {
                   "padding": "5px 10px 0px 10px"
                  }
                 },
                 "type": "node"
                }
               ],
               "instanceArgs": {
                "namespace": "html",
                "tag": "div"
               },
               "nodeType": "DOM",
               "props": {
                "className": "interact-flex-row-left"
               },
               "type": "node"
              },
              {
               "children": [
                {
                 "children": [],
                 "instanceArgs": {
                  "namespace": "html",
                  "tag": "input"
                 },
                 "nodeType": "DOM",
                 "props": {
                  "attributes": {
                   "data-bind": "numericValue: index, valueUpdate: 'input', event: {change: function (){this.changes(this.changes()+1)}}",
                   "orient": "horizontal",
                   "type": "range"
                  },
                  "className": "slider slider is-fullwidth",
                  "max": 8,
                  "min": 1,
                  "step": 1,
                  "style": {}
                 },
                 "type": "node"
                }
               ],
               "instanceArgs": {
                "namespace": "html",
                "tag": "div"
               },
               "nodeType": "DOM",
               "props": {
                "className": "interact-flex-row-center"
               },
               "type": "node"
              },
              {
               "children": [
                {
                 "children": [],
                 "instanceArgs": {
                  "namespace": "html",
                  "tag": "p"
                 },
                 "nodeType": "DOM",
                 "props": {
                  "attributes": {
                   "data-bind": "text: formatted_val"
                  }
                 },
                 "type": "node"
                }
               ],
               "instanceArgs": {
                "namespace": "html",
                "tag": "div"
               },
               "nodeType": "DOM",
               "props": {
                "className": "interact-flex-row-right"
               },
               "type": "node"
              }
             ],
             "instanceArgs": {
              "namespace": "html",
              "tag": "div"
             },
             "nodeType": "DOM",
             "props": {
              "className": "interact-flex-row interact-widget"
             },
             "type": "node"
            }
           ],
           "instanceArgs": {
            "handlers": {
             "changes": [
              "(function (val){return (val!=this.model[\"changes\"]()) ? (this.valueFromJulia[\"changes\"]=true, this.model[\"changes\"](val)) : undefined})"
             ],
             "index": [
              "(function (val){return (val!=this.model[\"index\"]()) ? (this.valueFromJulia[\"index\"]=true, this.model[\"index\"](val)) : undefined})"
             ]
            },
            "id": "13088642524303829574",
            "imports": {
             "data": [
              {
               "name": "knockout",
               "type": "js",
               "url": "/assetserver/6b96799a10d15874ff94d24957be8c8a087d1c55-knockout.js"
              },
              {
               "name": "knockout_punches",
               "type": "js",
               "url": "/assetserver/e20056129f9a18b26001a958417a03ffd18608c4-knockout_punches.js"
              },
              {
               "name": null,
               "type": "js",
               "url": "/assetserver/8ee185a2d679eddcb8e4ab2c454493d75104f685-all.js"
              },
              {
               "name": null,
               "type": "css",
               "url": "/assetserver/5703ee73fac7e494cfb72707c9ff712cf60bb351-style.css"
              },
              {
               "name": null,
               "type": "css",
               "url": "/assetserver/f96fd41b34f9616a67d5e754b02eb63284803e1e-bulma_confined.min.css"
              }
             ],
             "type": "async_block"
            },
            "mount_callbacks": [
             "function () {\n    var handler = (function (ko, koPunches) {\n    ko.punches.enableAll();\n    ko.bindingHandlers.numericValue = {\n        init: function(element, valueAccessor, allBindings, data, context) {\n            var stringified = ko.observable(ko.unwrap(valueAccessor()));\n            stringified.subscribe(function(value) {\n                var val = parseFloat(value);\n                if (!isNaN(val)) {\n                    valueAccessor()(val);\n                }\n            });\n            valueAccessor().subscribe(function(value) {\n                var str = JSON.stringify(value);\n                if ((str == \"0\") && ([\"-0\", \"-0.\"].indexOf(stringified()) >= 0))\n                     return;\n                 if ([\"null\", \"\"].indexOf(str) >= 0)\n                     return;\n                stringified(str);\n            });\n            ko.applyBindingsToNode(\n                element,\n                {\n                    value: stringified,\n                    valueUpdate: allBindings.get('valueUpdate'),\n                },\n                context,\n            );\n        }\n    };\n    var json_data = {\"formatted_vals\":[\"1\",\"2\",\"3\",\"4\",\"5\",\"6\",\"7\",\"8\"],\"changes\":WebIO.getval({\"name\":\"changes\",\"scope\":\"13088642524303829574\",\"id\":\"15813956061415793708\",\"type\":\"observable\"}),\"index\":WebIO.getval({\"name\":\"index\",\"scope\":\"13088642524303829574\",\"id\":\"7297451348783627214\",\"type\":\"observable\"})};\n    var self = this;\n    function AppViewModel() {\n        for (var key in json_data) {\n            var el = json_data[key];\n            this[key] = Array.isArray(el) ? ko.observableArray(el) : ko.observable(el);\n        }\n        \n        [this[\"formatted_val\"]=ko.computed(    function(){\n        return this.formatted_vals()[parseInt(this.index())-(1)];\n    }\n,this)]\n        [this[\"changes\"].subscribe((function (val){!(this.valueFromJulia[\"changes\"]) ? (WebIO.setval({\"name\":\"changes\",\"scope\":\"13088642524303829574\",\"id\":\"15813956061415793708\",\"type\":\"observable\"},val)) : undefined; return this.valueFromJulia[\"changes\"]=false}),self),this[\"index\"].subscribe((function (val){!(this.valueFromJulia[\"index\"]) ? (WebIO.setval({\"name\":\"index\",\"scope\":\"13088642524303829574\",\"id\":\"7297451348783627214\",\"type\":\"observable\"},val)) : undefined; return this.valueFromJulia[\"index\"]=false}),self)]\n        \n    }\n    self.model = new AppViewModel();\n    self.valueFromJulia = {};\n    for (var key in json_data) {\n        self.valueFromJulia[key] = false;\n    }\n    ko.applyBindings(self.model, self.dom);\n}\n);\n    (WebIO.importBlock({\"data\":[{\"name\":\"knockout\",\"type\":\"js\",\"url\":\"/assetserver/6b96799a10d15874ff94d24957be8c8a087d1c55-knockout.js\"},{\"name\":\"knockout_punches\",\"type\":\"js\",\"url\":\"/assetserver/e20056129f9a18b26001a958417a03ffd18608c4-knockout_punches.js\"}],\"type\":\"async_block\"})).then((imports) => handler.apply(this, imports));\n}\n"
            ],
            "observables": {
             "changes": {
              "id": "15813956061415793708",
              "sync": false,
              "value": 0
             },
             "index": {
              "id": "7297451348783627214",
              "sync": true,
              "value": 4
             }
            },
            "systemjs_options": null
           },
           "nodeType": "Scope",
           "props": {},
           "type": "node"
          }
         ],
         "instanceArgs": {
          "namespace": "html",
          "tag": "div"
         },
         "nodeType": "DOM",
         "props": {
          "className": "field interact-widget"
         },
         "type": "node"
        },
        {
         "children": [
          {
           "children": [
            {
             "children": [
              {
               "children": [
                {
                 "children": [
                  "j"
                 ],
                 "instanceArgs": {
                  "namespace": "html",
                  "tag": "label"
                 },
                 "nodeType": "DOM",
                 "props": {
                  "className": "interact ",
                  "style": {
                   "padding": "5px 10px 0px 10px"
                  }
                 },
                 "type": "node"
                }
               ],
               "instanceArgs": {
                "namespace": "html",
                "tag": "div"
               },
               "nodeType": "DOM",
               "props": {
                "className": "interact-flex-row-left"
               },
               "type": "node"
              },
              {
               "children": [
                {
                 "children": [],
                 "instanceArgs": {
                  "namespace": "html",
                  "tag": "input"
                 },
                 "nodeType": "DOM",
                 "props": {
                  "attributes": {
                   "data-bind": "numericValue: index, valueUpdate: 'input', event: {change: function (){this.changes(this.changes()+1)}}",
                   "orient": "horizontal",
                   "type": "range"
                  },
                  "className": "slider slider is-fullwidth",
                  "max": 8,
                  "min": 1,
                  "step": 1,
                  "style": {}
                 },
                 "type": "node"
                }
               ],
               "instanceArgs": {
                "namespace": "html",
                "tag": "div"
               },
               "nodeType": "DOM",
               "props": {
                "className": "interact-flex-row-center"
               },
               "type": "node"
              },
              {
               "children": [
                {
                 "children": [],
                 "instanceArgs": {
                  "namespace": "html",
                  "tag": "p"
                 },
                 "nodeType": "DOM",
                 "props": {
                  "attributes": {
                   "data-bind": "text: formatted_val"
                  }
                 },
                 "type": "node"
                }
               ],
               "instanceArgs": {
                "namespace": "html",
                "tag": "div"
               },
               "nodeType": "DOM",
               "props": {
                "className": "interact-flex-row-right"
               },
               "type": "node"
              }
             ],
             "instanceArgs": {
              "namespace": "html",
              "tag": "div"
             },
             "nodeType": "DOM",
             "props": {
              "className": "interact-flex-row interact-widget"
             },
             "type": "node"
            }
           ],
           "instanceArgs": {
            "handlers": {
             "changes": [
              "(function (val){return (val!=this.model[\"changes\"]()) ? (this.valueFromJulia[\"changes\"]=true, this.model[\"changes\"](val)) : undefined})"
             ],
             "index": [
              "(function (val){return (val!=this.model[\"index\"]()) ? (this.valueFromJulia[\"index\"]=true, this.model[\"index\"](val)) : undefined})"
             ]
            },
            "id": "13087707142702872639",
            "imports": {
             "data": [
              {
               "name": "knockout",
               "type": "js",
               "url": "/assetserver/6b96799a10d15874ff94d24957be8c8a087d1c55-knockout.js"
              },
              {
               "name": "knockout_punches",
               "type": "js",
               "url": "/assetserver/e20056129f9a18b26001a958417a03ffd18608c4-knockout_punches.js"
              },
              {
               "name": null,
               "type": "js",
               "url": "/assetserver/8ee185a2d679eddcb8e4ab2c454493d75104f685-all.js"
              },
              {
               "name": null,
               "type": "css",
               "url": "/assetserver/5703ee73fac7e494cfb72707c9ff712cf60bb351-style.css"
              },
              {
               "name": null,
               "type": "css",
               "url": "/assetserver/f96fd41b34f9616a67d5e754b02eb63284803e1e-bulma_confined.min.css"
              }
             ],
             "type": "async_block"
            },
            "mount_callbacks": [
             "function () {\n    var handler = (function (ko, koPunches) {\n    ko.punches.enableAll();\n    ko.bindingHandlers.numericValue = {\n        init: function(element, valueAccessor, allBindings, data, context) {\n            var stringified = ko.observable(ko.unwrap(valueAccessor()));\n            stringified.subscribe(function(value) {\n                var val = parseFloat(value);\n                if (!isNaN(val)) {\n                    valueAccessor()(val);\n                }\n            });\n            valueAccessor().subscribe(function(value) {\n                var str = JSON.stringify(value);\n                if ((str == \"0\") && ([\"-0\", \"-0.\"].indexOf(stringified()) >= 0))\n                     return;\n                 if ([\"null\", \"\"].indexOf(str) >= 0)\n                     return;\n                stringified(str);\n            });\n            ko.applyBindingsToNode(\n                element,\n                {\n                    value: stringified,\n                    valueUpdate: allBindings.get('valueUpdate'),\n                },\n                context,\n            );\n        }\n    };\n    var json_data = {\"formatted_vals\":[\"1\",\"2\",\"3\",\"4\",\"5\",\"6\",\"7\",\"8\"],\"changes\":WebIO.getval({\"name\":\"changes\",\"scope\":\"13087707142702872639\",\"id\":\"17205613800559911458\",\"type\":\"observable\"}),\"index\":WebIO.getval({\"name\":\"index\",\"scope\":\"13087707142702872639\",\"id\":\"3652942709033082606\",\"type\":\"observable\"})};\n    var self = this;\n    function AppViewModel() {\n        for (var key in json_data) {\n            var el = json_data[key];\n            this[key] = Array.isArray(el) ? ko.observableArray(el) : ko.observable(el);\n        }\n        \n        [this[\"formatted_val\"]=ko.computed(    function(){\n        return this.formatted_vals()[parseInt(this.index())-(1)];\n    }\n,this)]\n        [this[\"changes\"].subscribe((function (val){!(this.valueFromJulia[\"changes\"]) ? (WebIO.setval({\"name\":\"changes\",\"scope\":\"13087707142702872639\",\"id\":\"17205613800559911458\",\"type\":\"observable\"},val)) : undefined; return this.valueFromJulia[\"changes\"]=false}),self),this[\"index\"].subscribe((function (val){!(this.valueFromJulia[\"index\"]) ? (WebIO.setval({\"name\":\"index\",\"scope\":\"13087707142702872639\",\"id\":\"3652942709033082606\",\"type\":\"observable\"},val)) : undefined; return this.valueFromJulia[\"index\"]=false}),self)]\n        \n    }\n    self.model = new AppViewModel();\n    self.valueFromJulia = {};\n    for (var key in json_data) {\n        self.valueFromJulia[key] = false;\n    }\n    ko.applyBindings(self.model, self.dom);\n}\n);\n    (WebIO.importBlock({\"data\":[{\"name\":\"knockout\",\"type\":\"js\",\"url\":\"/assetserver/6b96799a10d15874ff94d24957be8c8a087d1c55-knockout.js\"},{\"name\":\"knockout_punches\",\"type\":\"js\",\"url\":\"/assetserver/e20056129f9a18b26001a958417a03ffd18608c4-knockout_punches.js\"}],\"type\":\"async_block\"})).then((imports) => handler.apply(this, imports));\n}\n"
            ],
            "observables": {
             "changes": {
              "id": "17205613800559911458",
              "sync": false,
              "value": 0
             },
             "index": {
              "id": "3652942709033082606",
              "sync": true,
              "value": 4
             }
            },
            "systemjs_options": null
           },
           "nodeType": "Scope",
           "props": {},
           "type": "node"
          }
         ],
         "instanceArgs": {
          "namespace": "html",
          "tag": "div"
         },
         "nodeType": "DOM",
         "props": {
          "className": "field interact-widget"
         },
         "type": "node"
        },
        {
         "children": [
          {
           "children": [],
           "instanceArgs": {
            "id": "15102936653928727015",
            "name": "obs-node"
           },
           "nodeType": "ObservableNode",
           "props": {},
           "type": "node"
          }
         ],
         "instanceArgs": {
          "handlers": {},
          "id": "14948092104975992179",
          "imports": {
           "data": [],
           "type": "async_block"
          },
          "mount_callbacks": [],
          "observables": {
           "obs-node": {
            "id": "15102936653928727015",
            "sync": false,
            "value": {
             "children": [
              {
               "children": [],
               "instanceArgs": {
                "namespace": "html",
                "tag": "div"
               },
               "nodeType": "DOM",
               "props": {
                "setInnerHtml": "<?xml version=\"1.0\" encoding=\"UTF-8\"?>\n<!DOCTYPE svg PUBLIC \"-//W3C//DTD SVG 1.1//EN\"\n \"http://www.w3.org/Graphics/SVG/1.1/DTD/svg11.dtd\">\n<svg xmlns=\"http://www.w3.org/2000/svg\" version=\"1.1\"\n     width=\"150mm\" height=\"150mm\"\n     viewBox=\"0 0 10 10\" preserveAspectRatio=\"none\"\n     shape-rendering=\"crispEdges\" stroke=\"none\">\n<rect width=\".93\" height=\".93\" x=\"0\" y=\"0\" fill=\"#000000\" />\n<rect width=\".93\" height=\".93\" x=\"1\" y=\"0\" fill=\"#000000\" />\n<rect width=\".93\" height=\".93\" x=\"2\" y=\"0\" fill=\"#000000\" />\n<rect width=\".93\" height=\".93\" x=\"3\" y=\"0\" fill=\"#000000\" />\n<rect width=\".93\" height=\".93\" x=\"4\" y=\"0\" fill=\"#000000\" />\n<rect width=\".93\" height=\".93\" x=\"5\" y=\"0\" fill=\"#000000\" />\n<rect width=\".93\" height=\".93\" x=\"6\" y=\"0\" fill=\"#000000\" />\n<rect width=\".93\" height=\".93\" x=\"7\" y=\"0\" fill=\"#000000\" />\n<rect width=\".93\" height=\".93\" x=\"8\" y=\"0\" fill=\"#000000\" />\n<rect width=\".93\" height=\".93\" x=\"9\" y=\"0\" fill=\"#000000\" />\n<rect width=\".93\" height=\".93\" x=\"0\" y=\"1\" fill=\"#000000\" />\n<rect width=\".93\" height=\".93\" x=\"1\" y=\"1\" fill=\"#000000\" />\n<rect width=\".93\" height=\".93\" x=\"2\" y=\"1\" fill=\"#000000\" />\n<rect width=\".93\" height=\".93\" x=\"3\" y=\"1\" fill=\"#000000\" />\n<rect width=\".93\" height=\".93\" x=\"4\" y=\"1\" fill=\"#000000\" />\n<rect width=\".93\" height=\".93\" x=\"5\" y=\"1\" fill=\"#000000\" />\n<rect width=\".93\" height=\".93\" x=\"6\" y=\"1\" fill=\"#000000\" />\n<rect width=\".93\" height=\".93\" x=\"7\" y=\"1\" fill=\"#000000\" />\n<rect width=\".93\" height=\".93\" x=\"8\" y=\"1\" fill=\"#000000\" />\n<rect width=\".93\" height=\".93\" x=\"9\" y=\"1\" fill=\"#000000\" />\n<rect width=\".93\" height=\".93\" x=\"0\" y=\"2\" fill=\"#000000\" />\n<rect width=\".93\" height=\".93\" x=\"1\" y=\"2\" fill=\"#000000\" />\n<rect width=\".93\" height=\".93\" x=\"2\" y=\"2\" fill=\"#000000\" />\n<rect width=\".93\" height=\".93\" x=\"3\" y=\"2\" fill=\"#000000\" />\n<rect width=\".93\" height=\".93\" x=\"4\" y=\"2\" fill=\"#000000\" />\n<rect width=\".93\" height=\".93\" x=\"5\" y=\"2\" fill=\"#000000\" />\n<rect width=\".93\" height=\".93\" x=\"6\" y=\"2\" fill=\"#000000\" />\n<rect width=\".93\" height=\".93\" x=\"7\" y=\"2\" fill=\"#000000\" />\n<rect width=\".93\" height=\".93\" x=\"8\" y=\"2\" fill=\"#000000\" />\n<rect width=\".93\" height=\".93\" x=\"9\" y=\"2\" fill=\"#000000\" />\n<rect width=\".93\" height=\".93\" x=\"0\" y=\"3\" fill=\"#000000\" />\n<rect width=\".93\" height=\".93\" x=\"1\" y=\"3\" fill=\"#000000\" />\n<rect width=\".93\" height=\".93\" x=\"2\" y=\"3\" fill=\"#000000\" />\n<rect width=\".93\" height=\".93\" x=\"3\" y=\"3\" fill=\"#00D3FF\" />\n<rect width=\".93\" height=\".93\" x=\"4\" y=\"3\" fill=\"#00D3FF\" />\n<rect width=\".93\" height=\".93\" x=\"5\" y=\"3\" fill=\"#00D3FF\" />\n<rect width=\".93\" height=\".93\" x=\"6\" y=\"3\" fill=\"#000000\" />\n<rect width=\".93\" height=\".93\" x=\"7\" y=\"3\" fill=\"#000000\" />\n<rect width=\".93\" height=\".93\" x=\"8\" y=\"3\" fill=\"#000000\" />\n<rect width=\".93\" height=\".93\" x=\"9\" y=\"3\" fill=\"#000000\" />\n<rect width=\".93\" height=\".93\" x=\"0\" y=\"4\" fill=\"#000000\" />\n<rect width=\".93\" height=\".93\" x=\"1\" y=\"4\" fill=\"#000000\" />\n<rect width=\".93\" height=\".93\" x=\"2\" y=\"4\" fill=\"#000000\" />\n<rect width=\".93\" height=\".93\" x=\"3\" y=\"4\" fill=\"#00D3FF\" />\n<rect width=\".93\" height=\".93\" x=\"4\" y=\"4\" fill=\"#00D3FF\" />\n<rect width=\".93\" height=\".93\" x=\"5\" y=\"4\" fill=\"#00D3FF\" />\n<rect width=\".93\" height=\".93\" x=\"6\" y=\"4\" fill=\"#000000\" />\n<rect width=\".93\" height=\".93\" x=\"7\" y=\"4\" fill=\"#000000\" />\n<rect width=\".93\" height=\".93\" x=\"8\" y=\"4\" fill=\"#000000\" />\n<rect width=\".93\" height=\".93\" x=\"9\" y=\"4\" fill=\"#000000\" />\n<rect width=\".93\" height=\".93\" x=\"0\" y=\"5\" fill=\"#000000\" />\n<rect width=\".93\" height=\".93\" x=\"1\" y=\"5\" fill=\"#000000\" />\n<rect width=\".93\" height=\".93\" x=\"2\" y=\"5\" fill=\"#000000\" />\n<rect width=\".93\" height=\".93\" x=\"3\" y=\"5\" fill=\"#00D3FF\" />\n<rect width=\".93\" height=\".93\" x=\"4\" y=\"5\" fill=\"#00D3FF\" />\n<rect width=\".93\" height=\".93\" x=\"5\" y=\"5\" fill=\"#00D3FF\" />\n<rect width=\".93\" height=\".93\" x=\"6\" y=\"5\" fill=\"#000000\" />\n<rect width=\".93\" height=\".93\" x=\"7\" y=\"5\" fill=\"#000000\" />\n<rect width=\".93\" height=\".93\" x=\"8\" y=\"5\" fill=\"#000000\" />\n<rect width=\".93\" height=\".93\" x=\"9\" y=\"5\" fill=\"#000000\" />\n<rect width=\".93\" height=\".93\" x=\"0\" y=\"6\" fill=\"#000000\" />\n<rect width=\".93\" height=\".93\" x=\"1\" y=\"6\" fill=\"#000000\" />\n<rect width=\".93\" height=\".93\" x=\"2\" y=\"6\" fill=\"#000000\" />\n<rect width=\".93\" height=\".93\" x=\"3\" y=\"6\" fill=\"#000000\" />\n<rect width=\".93\" height=\".93\" x=\"4\" y=\"6\" fill=\"#000000\" />\n<rect width=\".93\" height=\".93\" x=\"5\" y=\"6\" fill=\"#000000\" />\n<rect width=\".93\" height=\".93\" x=\"6\" y=\"6\" fill=\"#000000\" />\n<rect width=\".93\" height=\".93\" x=\"7\" y=\"6\" fill=\"#000000\" />\n<rect width=\".93\" height=\".93\" x=\"8\" y=\"6\" fill=\"#000000\" />\n<rect width=\".93\" height=\".93\" x=\"9\" y=\"6\" fill=\"#000000\" />\n<rect width=\".93\" height=\".93\" x=\"0\" y=\"7\" fill=\"#000000\" />\n<rect width=\".93\" height=\".93\" x=\"1\" y=\"7\" fill=\"#000000\" />\n<rect width=\".93\" height=\".93\" x=\"2\" y=\"7\" fill=\"#000000\" />\n<rect width=\".93\" height=\".93\" x=\"3\" y=\"7\" fill=\"#000000\" />\n<rect width=\".93\" height=\".93\" x=\"4\" y=\"7\" fill=\"#000000\" />\n<rect width=\".93\" height=\".93\" x=\"5\" y=\"7\" fill=\"#000000\" />\n<rect width=\".93\" height=\".93\" x=\"6\" y=\"7\" fill=\"#000000\" />\n<rect width=\".93\" height=\".93\" x=\"7\" y=\"7\" fill=\"#000000\" />\n<rect width=\".93\" height=\".93\" x=\"8\" y=\"7\" fill=\"#000000\" />\n<rect width=\".93\" height=\".93\" x=\"9\" y=\"7\" fill=\"#000000\" />\n<rect width=\".93\" height=\".93\" x=\"0\" y=\"8\" fill=\"#000000\" />\n<rect width=\".93\" height=\".93\" x=\"1\" y=\"8\" fill=\"#000000\" />\n<rect width=\".93\" height=\".93\" x=\"2\" y=\"8\" fill=\"#000000\" />\n<rect width=\".93\" height=\".93\" x=\"3\" y=\"8\" fill=\"#000000\" />\n<rect width=\".93\" height=\".93\" x=\"4\" y=\"8\" fill=\"#000000\" />\n<rect width=\".93\" height=\".93\" x=\"5\" y=\"8\" fill=\"#000000\" />\n<rect width=\".93\" height=\".93\" x=\"6\" y=\"8\" fill=\"#000000\" />\n<rect width=\".93\" height=\".93\" x=\"7\" y=\"8\" fill=\"#000000\" />\n<rect width=\".93\" height=\".93\" x=\"8\" y=\"8\" fill=\"#000000\" />\n<rect width=\".93\" height=\".93\" x=\"9\" y=\"8\" fill=\"#000000\" />\n<rect width=\".93\" height=\".93\" x=\"0\" y=\"9\" fill=\"#000000\" />\n<rect width=\".93\" height=\".93\" x=\"1\" y=\"9\" fill=\"#000000\" />\n<rect width=\".93\" height=\".93\" x=\"2\" y=\"9\" fill=\"#000000\" />\n<rect width=\".93\" height=\".93\" x=\"3\" y=\"9\" fill=\"#000000\" />\n<rect width=\".93\" height=\".93\" x=\"4\" y=\"9\" fill=\"#000000\" />\n<rect width=\".93\" height=\".93\" x=\"5\" y=\"9\" fill=\"#000000\" />\n<rect width=\".93\" height=\".93\" x=\"6\" y=\"9\" fill=\"#000000\" />\n<rect width=\".93\" height=\".93\" x=\"7\" y=\"9\" fill=\"#000000\" />\n<rect width=\".93\" height=\".93\" x=\"8\" y=\"9\" fill=\"#000000\" />\n<rect width=\".93\" height=\".93\" x=\"9\" y=\"9\" fill=\"#000000\" />\n</svg>"
               },
               "type": "node"
              }
             ],
             "instanceArgs": {
              "namespace": "html",
              "tag": "div"
             },
             "nodeType": "DOM",
             "props": {
              "className": "interact-flex-row interact-widget"
             },
             "type": "node"
            }
           }
          },
          "systemjs_options": null
         },
         "nodeType": "Scope",
         "props": {},
         "type": "node"
        }
       ],
       "instanceArgs": {
        "namespace": "html",
        "tag": "div"
       },
       "nodeType": "DOM",
       "props": {},
       "type": "node"
      },
      "text/html": [
       "<div\n",
       "    class=\"webio-mountpoint\"\n",
       "    data-webio-mountpoint=\"7625366544086029822\"\n",
       ">\n",
       "    <script>\n",
       "    (function(){\n",
       "    // Some integrations (namely, IJulia/Jupyter) use an alternate render pathway than\n",
       "    // just putting the html on the page. If WebIO isn't defined, then it's pretty likely\n",
       "    // that we're in one of those situations and the integration just isn't installed\n",
       "    // correctly.\n",
       "    if (typeof window.WebIO === \"undefined\") {\n",
       "        document\n",
       "            .querySelector('[data-webio-mountpoint=\"7625366544086029822\"]')\n",
       "            .innerHTML = (\n",
       "                '<div style=\"padding: 1em; background-color: #f8d6da; border: 1px solid #f5c6cb; font-weight: bold;\">' +\n",
       "                '<p><strong>WebIO not detected.</strong></p>' +\n",
       "                '<p>Please read ' +\n",
       "                '<a href=\"https://juliagizmos.github.io/WebIO.jl/latest/troubleshooting/not-detected/\" target=\"_blank\">the troubleshooting guide</a> ' +\n",
       "                'for more information on how to resolve this issue.</p>' +\n",
       "                '<p><a href=\"https://juliagizmos.github.io/WebIO.jl/latest/troubleshooting/not-detected/\" target=\"_blank\">https://juliagizmos.github.io/WebIO.jl/latest/troubleshooting/not-detected/</a></p>' +\n",
       "                '</div>'\n",
       "            );\n",
       "        return;\n",
       "    }\n",
       "    WebIO.mount(\n",
       "        document.querySelector('[data-webio-mountpoint=\"7625366544086029822\"]'),\n",
       "        {\"props\":{},\"nodeType\":\"DOM\",\"type\":\"node\",\"instanceArgs\":{\"namespace\":\"html\",\"tag\":\"div\"},\"children\":[{\"props\":{\"className\":\"field interact-widget\"},\"nodeType\":\"DOM\",\"type\":\"node\",\"instanceArgs\":{\"namespace\":\"html\",\"tag\":\"div\"},\"children\":[{\"props\":{},\"nodeType\":\"Scope\",\"type\":\"node\",\"instanceArgs\":{\"imports\":{\"data\":[{\"name\":\"knockout\",\"type\":\"js\",\"url\":\"\\/assetserver\\/6b96799a10d15874ff94d24957be8c8a087d1c55-knockout.js\"},{\"name\":\"knockout_punches\",\"type\":\"js\",\"url\":\"\\/assetserver\\/e20056129f9a18b26001a958417a03ffd18608c4-knockout_punches.js\"},{\"name\":null,\"type\":\"js\",\"url\":\"\\/assetserver\\/8ee185a2d679eddcb8e4ab2c454493d75104f685-all.js\"},{\"name\":null,\"type\":\"css\",\"url\":\"\\/assetserver\\/5703ee73fac7e494cfb72707c9ff712cf60bb351-style.css\"},{\"name\":null,\"type\":\"css\",\"url\":\"\\/assetserver\\/f96fd41b34f9616a67d5e754b02eb63284803e1e-bulma_confined.min.css\"}],\"type\":\"async_block\"},\"id\":\"13088642524303829574\",\"handlers\":{\"changes\":[\"(function (val){return (val!=this.model[\\\"changes\\\"]()) ? (this.valueFromJulia[\\\"changes\\\"]=true, this.model[\\\"changes\\\"](val)) : undefined})\"],\"index\":[\"(function (val){return (val!=this.model[\\\"index\\\"]()) ? (this.valueFromJulia[\\\"index\\\"]=true, this.model[\\\"index\\\"](val)) : undefined})\"]},\"systemjs_options\":null,\"mount_callbacks\":[\"function () {\\n    var handler = (function (ko, koPunches) {\\n    ko.punches.enableAll();\\n    ko.bindingHandlers.numericValue = {\\n        init: function(element, valueAccessor, allBindings, data, context) {\\n            var stringified = ko.observable(ko.unwrap(valueAccessor()));\\n            stringified.subscribe(function(value) {\\n                var val = parseFloat(value);\\n                if (!isNaN(val)) {\\n                    valueAccessor()(val);\\n                }\\n            });\\n            valueAccessor().subscribe(function(value) {\\n                var str = JSON.stringify(value);\\n                if ((str == \\\"0\\\") && ([\\\"-0\\\", \\\"-0.\\\"].indexOf(stringified()) >= 0))\\n                     return;\\n                 if ([\\\"null\\\", \\\"\\\"].indexOf(str) >= 0)\\n                     return;\\n                stringified(str);\\n            });\\n            ko.applyBindingsToNode(\\n                element,\\n                {\\n                    value: stringified,\\n                    valueUpdate: allBindings.get('valueUpdate'),\\n                },\\n                context,\\n            );\\n        }\\n    };\\n    var json_data = {\\\"formatted_vals\\\":[\\\"1\\\",\\\"2\\\",\\\"3\\\",\\\"4\\\",\\\"5\\\",\\\"6\\\",\\\"7\\\",\\\"8\\\"],\\\"changes\\\":WebIO.getval({\\\"name\\\":\\\"changes\\\",\\\"scope\\\":\\\"13088642524303829574\\\",\\\"id\\\":\\\"15813956061415793708\\\",\\\"type\\\":\\\"observable\\\"}),\\\"index\\\":WebIO.getval({\\\"name\\\":\\\"index\\\",\\\"scope\\\":\\\"13088642524303829574\\\",\\\"id\\\":\\\"7297451348783627214\\\",\\\"type\\\":\\\"observable\\\"})};\\n    var self = this;\\n    function AppViewModel() {\\n        for (var key in json_data) {\\n            var el = json_data[key];\\n            this[key] = Array.isArray(el) ? ko.observableArray(el) : ko.observable(el);\\n        }\\n        \\n        [this[\\\"formatted_val\\\"]=ko.computed(    function(){\\n        return this.formatted_vals()[parseInt(this.index())-(1)];\\n    }\\n,this)]\\n        [this[\\\"changes\\\"].subscribe((function (val){!(this.valueFromJulia[\\\"changes\\\"]) ? (WebIO.setval({\\\"name\\\":\\\"changes\\\",\\\"scope\\\":\\\"13088642524303829574\\\",\\\"id\\\":\\\"15813956061415793708\\\",\\\"type\\\":\\\"observable\\\"},val)) : undefined; return this.valueFromJulia[\\\"changes\\\"]=false}),self),this[\\\"index\\\"].subscribe((function (val){!(this.valueFromJulia[\\\"index\\\"]) ? (WebIO.setval({\\\"name\\\":\\\"index\\\",\\\"scope\\\":\\\"13088642524303829574\\\",\\\"id\\\":\\\"7297451348783627214\\\",\\\"type\\\":\\\"observable\\\"},val)) : undefined; return this.valueFromJulia[\\\"index\\\"]=false}),self)]\\n        \\n    }\\n    self.model = new AppViewModel();\\n    self.valueFromJulia = {};\\n    for (var key in json_data) {\\n        self.valueFromJulia[key] = false;\\n    }\\n    ko.applyBindings(self.model, self.dom);\\n}\\n);\\n    (WebIO.importBlock({\\\"data\\\":[{\\\"name\\\":\\\"knockout\\\",\\\"type\\\":\\\"js\\\",\\\"url\\\":\\\"\\/assetserver\\/6b96799a10d15874ff94d24957be8c8a087d1c55-knockout.js\\\"},{\\\"name\\\":\\\"knockout_punches\\\",\\\"type\\\":\\\"js\\\",\\\"url\\\":\\\"\\/assetserver\\/e20056129f9a18b26001a958417a03ffd18608c4-knockout_punches.js\\\"}],\\\"type\\\":\\\"async_block\\\"})).then((imports) => handler.apply(this, imports));\\n}\\n\"],\"observables\":{\"changes\":{\"sync\":false,\"id\":\"15813956061415793708\",\"value\":0},\"index\":{\"sync\":true,\"id\":\"7297451348783627214\",\"value\":4}}},\"children\":[{\"props\":{\"className\":\"interact-flex-row interact-widget\"},\"nodeType\":\"DOM\",\"type\":\"node\",\"instanceArgs\":{\"namespace\":\"html\",\"tag\":\"div\"},\"children\":[{\"props\":{\"className\":\"interact-flex-row-left\"},\"nodeType\":\"DOM\",\"type\":\"node\",\"instanceArgs\":{\"namespace\":\"html\",\"tag\":\"div\"},\"children\":[{\"props\":{\"className\":\"interact \",\"style\":{\"padding\":\"5px 10px 0px 10px\"}},\"nodeType\":\"DOM\",\"type\":\"node\",\"instanceArgs\":{\"namespace\":\"html\",\"tag\":\"label\"},\"children\":[\"i\"]}]},{\"props\":{\"className\":\"interact-flex-row-center\"},\"nodeType\":\"DOM\",\"type\":\"node\",\"instanceArgs\":{\"namespace\":\"html\",\"tag\":\"div\"},\"children\":[{\"props\":{\"max\":8,\"min\":1,\"attributes\":{\"type\":\"range\",\"data-bind\":\"numericValue: index, valueUpdate: 'input', event: {change: function (){this.changes(this.changes()+1)}}\",\"orient\":\"horizontal\"},\"step\":1,\"className\":\"slider slider is-fullwidth\",\"style\":{}},\"nodeType\":\"DOM\",\"type\":\"node\",\"instanceArgs\":{\"namespace\":\"html\",\"tag\":\"input\"},\"children\":[]}]},{\"props\":{\"className\":\"interact-flex-row-right\"},\"nodeType\":\"DOM\",\"type\":\"node\",\"instanceArgs\":{\"namespace\":\"html\",\"tag\":\"div\"},\"children\":[{\"props\":{\"attributes\":{\"data-bind\":\"text: formatted_val\"}},\"nodeType\":\"DOM\",\"type\":\"node\",\"instanceArgs\":{\"namespace\":\"html\",\"tag\":\"p\"},\"children\":[]}]}]}]}]},{\"props\":{\"className\":\"field interact-widget\"},\"nodeType\":\"DOM\",\"type\":\"node\",\"instanceArgs\":{\"namespace\":\"html\",\"tag\":\"div\"},\"children\":[{\"props\":{},\"nodeType\":\"Scope\",\"type\":\"node\",\"instanceArgs\":{\"imports\":{\"data\":[{\"name\":\"knockout\",\"type\":\"js\",\"url\":\"\\/assetserver\\/6b96799a10d15874ff94d24957be8c8a087d1c55-knockout.js\"},{\"name\":\"knockout_punches\",\"type\":\"js\",\"url\":\"\\/assetserver\\/e20056129f9a18b26001a958417a03ffd18608c4-knockout_punches.js\"},{\"name\":null,\"type\":\"js\",\"url\":\"\\/assetserver\\/8ee185a2d679eddcb8e4ab2c454493d75104f685-all.js\"},{\"name\":null,\"type\":\"css\",\"url\":\"\\/assetserver\\/5703ee73fac7e494cfb72707c9ff712cf60bb351-style.css\"},{\"name\":null,\"type\":\"css\",\"url\":\"\\/assetserver\\/f96fd41b34f9616a67d5e754b02eb63284803e1e-bulma_confined.min.css\"}],\"type\":\"async_block\"},\"id\":\"13087707142702872639\",\"handlers\":{\"changes\":[\"(function (val){return (val!=this.model[\\\"changes\\\"]()) ? (this.valueFromJulia[\\\"changes\\\"]=true, this.model[\\\"changes\\\"](val)) : undefined})\"],\"index\":[\"(function (val){return (val!=this.model[\\\"index\\\"]()) ? (this.valueFromJulia[\\\"index\\\"]=true, this.model[\\\"index\\\"](val)) : undefined})\"]},\"systemjs_options\":null,\"mount_callbacks\":[\"function () {\\n    var handler = (function (ko, koPunches) {\\n    ko.punches.enableAll();\\n    ko.bindingHandlers.numericValue = {\\n        init: function(element, valueAccessor, allBindings, data, context) {\\n            var stringified = ko.observable(ko.unwrap(valueAccessor()));\\n            stringified.subscribe(function(value) {\\n                var val = parseFloat(value);\\n                if (!isNaN(val)) {\\n                    valueAccessor()(val);\\n                }\\n            });\\n            valueAccessor().subscribe(function(value) {\\n                var str = JSON.stringify(value);\\n                if ((str == \\\"0\\\") && ([\\\"-0\\\", \\\"-0.\\\"].indexOf(stringified()) >= 0))\\n                     return;\\n                 if ([\\\"null\\\", \\\"\\\"].indexOf(str) >= 0)\\n                     return;\\n                stringified(str);\\n            });\\n            ko.applyBindingsToNode(\\n                element,\\n                {\\n                    value: stringified,\\n                    valueUpdate: allBindings.get('valueUpdate'),\\n                },\\n                context,\\n            );\\n        }\\n    };\\n    var json_data = {\\\"formatted_vals\\\":[\\\"1\\\",\\\"2\\\",\\\"3\\\",\\\"4\\\",\\\"5\\\",\\\"6\\\",\\\"7\\\",\\\"8\\\"],\\\"changes\\\":WebIO.getval({\\\"name\\\":\\\"changes\\\",\\\"scope\\\":\\\"13087707142702872639\\\",\\\"id\\\":\\\"17205613800559911458\\\",\\\"type\\\":\\\"observable\\\"}),\\\"index\\\":WebIO.getval({\\\"name\\\":\\\"index\\\",\\\"scope\\\":\\\"13087707142702872639\\\",\\\"id\\\":\\\"3652942709033082606\\\",\\\"type\\\":\\\"observable\\\"})};\\n    var self = this;\\n    function AppViewModel() {\\n        for (var key in json_data) {\\n            var el = json_data[key];\\n            this[key] = Array.isArray(el) ? ko.observableArray(el) : ko.observable(el);\\n        }\\n        \\n        [this[\\\"formatted_val\\\"]=ko.computed(    function(){\\n        return this.formatted_vals()[parseInt(this.index())-(1)];\\n    }\\n,this)]\\n        [this[\\\"changes\\\"].subscribe((function (val){!(this.valueFromJulia[\\\"changes\\\"]) ? (WebIO.setval({\\\"name\\\":\\\"changes\\\",\\\"scope\\\":\\\"13087707142702872639\\\",\\\"id\\\":\\\"17205613800559911458\\\",\\\"type\\\":\\\"observable\\\"},val)) : undefined; return this.valueFromJulia[\\\"changes\\\"]=false}),self),this[\\\"index\\\"].subscribe((function (val){!(this.valueFromJulia[\\\"index\\\"]) ? (WebIO.setval({\\\"name\\\":\\\"index\\\",\\\"scope\\\":\\\"13087707142702872639\\\",\\\"id\\\":\\\"3652942709033082606\\\",\\\"type\\\":\\\"observable\\\"},val)) : undefined; return this.valueFromJulia[\\\"index\\\"]=false}),self)]\\n        \\n    }\\n    self.model = new AppViewModel();\\n    self.valueFromJulia = {};\\n    for (var key in json_data) {\\n        self.valueFromJulia[key] = false;\\n    }\\n    ko.applyBindings(self.model, self.dom);\\n}\\n);\\n    (WebIO.importBlock({\\\"data\\\":[{\\\"name\\\":\\\"knockout\\\",\\\"type\\\":\\\"js\\\",\\\"url\\\":\\\"\\/assetserver\\/6b96799a10d15874ff94d24957be8c8a087d1c55-knockout.js\\\"},{\\\"name\\\":\\\"knockout_punches\\\",\\\"type\\\":\\\"js\\\",\\\"url\\\":\\\"\\/assetserver\\/e20056129f9a18b26001a958417a03ffd18608c4-knockout_punches.js\\\"}],\\\"type\\\":\\\"async_block\\\"})).then((imports) => handler.apply(this, imports));\\n}\\n\"],\"observables\":{\"changes\":{\"sync\":false,\"id\":\"17205613800559911458\",\"value\":0},\"index\":{\"sync\":true,\"id\":\"3652942709033082606\",\"value\":4}}},\"children\":[{\"props\":{\"className\":\"interact-flex-row interact-widget\"},\"nodeType\":\"DOM\",\"type\":\"node\",\"instanceArgs\":{\"namespace\":\"html\",\"tag\":\"div\"},\"children\":[{\"props\":{\"className\":\"interact-flex-row-left\"},\"nodeType\":\"DOM\",\"type\":\"node\",\"instanceArgs\":{\"namespace\":\"html\",\"tag\":\"div\"},\"children\":[{\"props\":{\"className\":\"interact \",\"style\":{\"padding\":\"5px 10px 0px 10px\"}},\"nodeType\":\"DOM\",\"type\":\"node\",\"instanceArgs\":{\"namespace\":\"html\",\"tag\":\"label\"},\"children\":[\"j\"]}]},{\"props\":{\"className\":\"interact-flex-row-center\"},\"nodeType\":\"DOM\",\"type\":\"node\",\"instanceArgs\":{\"namespace\":\"html\",\"tag\":\"div\"},\"children\":[{\"props\":{\"max\":8,\"min\":1,\"attributes\":{\"type\":\"range\",\"data-bind\":\"numericValue: index, valueUpdate: 'input', event: {change: function (){this.changes(this.changes()+1)}}\",\"orient\":\"horizontal\"},\"step\":1,\"className\":\"slider slider is-fullwidth\",\"style\":{}},\"nodeType\":\"DOM\",\"type\":\"node\",\"instanceArgs\":{\"namespace\":\"html\",\"tag\":\"input\"},\"children\":[]}]},{\"props\":{\"className\":\"interact-flex-row-right\"},\"nodeType\":\"DOM\",\"type\":\"node\",\"instanceArgs\":{\"namespace\":\"html\",\"tag\":\"div\"},\"children\":[{\"props\":{\"attributes\":{\"data-bind\":\"text: formatted_val\"}},\"nodeType\":\"DOM\",\"type\":\"node\",\"instanceArgs\":{\"namespace\":\"html\",\"tag\":\"p\"},\"children\":[]}]}]}]}]},{\"props\":{},\"nodeType\":\"Scope\",\"type\":\"node\",\"instanceArgs\":{\"imports\":{\"data\":[],\"type\":\"async_block\"},\"id\":\"351024611011345986\",\"handlers\":{},\"systemjs_options\":null,\"mount_callbacks\":[],\"observables\":{\"obs-node\":{\"sync\":false,\"id\":\"15519491055975315518\",\"value\":{\"props\":{\"className\":\"interact-flex-row interact-widget\"},\"nodeType\":\"DOM\",\"type\":\"node\",\"instanceArgs\":{\"namespace\":\"html\",\"tag\":\"div\"},\"children\":[{\"props\":{\"setInnerHtml\":\"<?xml version=\\\"1.0\\\" encoding=\\\"UTF-8\\\"?>\\n<!DOCTYPE svg PUBLIC \\\"-\\/\\/W3C\\/\\/DTD SVG 1.1\\/\\/EN\\\"\\n \\\"http:\\/\\/www.w3.org\\/Graphics\\/SVG\\/1.1\\/DTD\\/svg11.dtd\\\">\\n<svg xmlns=\\\"http:\\/\\/www.w3.org\\/2000\\/svg\\\" version=\\\"1.1\\\"\\n     width=\\\"150mm\\\" height=\\\"150mm\\\"\\n     viewBox=\\\"0 0 10 10\\\" preserveAspectRatio=\\\"none\\\"\\n     shape-rendering=\\\"crispEdges\\\" stroke=\\\"none\\\">\\n<rect width=\\\".93\\\" height=\\\".93\\\" x=\\\"0\\\" y=\\\"0\\\" fill=\\\"#000000\\\" \\/>\\n<rect width=\\\".93\\\" height=\\\".93\\\" x=\\\"1\\\" y=\\\"0\\\" fill=\\\"#000000\\\" \\/>\\n<rect width=\\\".93\\\" height=\\\".93\\\" x=\\\"2\\\" y=\\\"0\\\" fill=\\\"#000000\\\" \\/>\\n<rect width=\\\".93\\\" height=\\\".93\\\" x=\\\"3\\\" y=\\\"0\\\" fill=\\\"#000000\\\" \\/>\\n<rect width=\\\".93\\\" height=\\\".93\\\" x=\\\"4\\\" y=\\\"0\\\" fill=\\\"#000000\\\" \\/>\\n<rect width=\\\".93\\\" height=\\\".93\\\" x=\\\"5\\\" y=\\\"0\\\" fill=\\\"#000000\\\" \\/>\\n<rect width=\\\".93\\\" height=\\\".93\\\" x=\\\"6\\\" y=\\\"0\\\" fill=\\\"#000000\\\" \\/>\\n<rect width=\\\".93\\\" height=\\\".93\\\" x=\\\"7\\\" y=\\\"0\\\" fill=\\\"#000000\\\" \\/>\\n<rect width=\\\".93\\\" height=\\\".93\\\" x=\\\"8\\\" y=\\\"0\\\" fill=\\\"#000000\\\" \\/>\\n<rect width=\\\".93\\\" height=\\\".93\\\" x=\\\"9\\\" y=\\\"0\\\" fill=\\\"#000000\\\" \\/>\\n<rect width=\\\".93\\\" height=\\\".93\\\" x=\\\"0\\\" y=\\\"1\\\" fill=\\\"#000000\\\" \\/>\\n<rect width=\\\".93\\\" height=\\\".93\\\" x=\\\"1\\\" y=\\\"1\\\" fill=\\\"#000000\\\" \\/>\\n<rect width=\\\".93\\\" height=\\\".93\\\" x=\\\"2\\\" y=\\\"1\\\" fill=\\\"#000000\\\" \\/>\\n<rect width=\\\".93\\\" height=\\\".93\\\" x=\\\"3\\\" y=\\\"1\\\" fill=\\\"#000000\\\" \\/>\\n<rect width=\\\".93\\\" height=\\\".93\\\" x=\\\"4\\\" y=\\\"1\\\" fill=\\\"#000000\\\" \\/>\\n<rect width=\\\".93\\\" height=\\\".93\\\" x=\\\"5\\\" y=\\\"1\\\" fill=\\\"#000000\\\" \\/>\\n<rect width=\\\".93\\\" height=\\\".93\\\" x=\\\"6\\\" y=\\\"1\\\" fill=\\\"#000000\\\" \\/>\\n<rect width=\\\".93\\\" height=\\\".93\\\" x=\\\"7\\\" y=\\\"1\\\" fill=\\\"#000000\\\" \\/>\\n<rect width=\\\".93\\\" height=\\\".93\\\" x=\\\"8\\\" y=\\\"1\\\" fill=\\\"#000000\\\" \\/>\\n<rect width=\\\".93\\\" height=\\\".93\\\" x=\\\"9\\\" y=\\\"1\\\" fill=\\\"#000000\\\" \\/>\\n<rect width=\\\".93\\\" height=\\\".93\\\" x=\\\"0\\\" y=\\\"2\\\" fill=\\\"#000000\\\" \\/>\\n<rect width=\\\".93\\\" height=\\\".93\\\" x=\\\"1\\\" y=\\\"2\\\" fill=\\\"#000000\\\" \\/>\\n<rect width=\\\".93\\\" height=\\\".93\\\" x=\\\"2\\\" y=\\\"2\\\" fill=\\\"#000000\\\" \\/>\\n<rect width=\\\".93\\\" height=\\\".93\\\" x=\\\"3\\\" y=\\\"2\\\" fill=\\\"#000000\\\" \\/>\\n<rect width=\\\".93\\\" height=\\\".93\\\" x=\\\"4\\\" y=\\\"2\\\" fill=\\\"#000000\\\" \\/>\\n<rect width=\\\".93\\\" height=\\\".93\\\" x=\\\"5\\\" y=\\\"2\\\" fill=\\\"#000000\\\" \\/>\\n<rect width=\\\".93\\\" height=\\\".93\\\" x=\\\"6\\\" y=\\\"2\\\" fill=\\\"#000000\\\" \\/>\\n<rect width=\\\".93\\\" height=\\\".93\\\" x=\\\"7\\\" y=\\\"2\\\" fill=\\\"#000000\\\" \\/>\\n<rect width=\\\".93\\\" height=\\\".93\\\" x=\\\"8\\\" y=\\\"2\\\" fill=\\\"#000000\\\" \\/>\\n<rect width=\\\".93\\\" height=\\\".93\\\" x=\\\"9\\\" y=\\\"2\\\" fill=\\\"#000000\\\" \\/>\\n<rect width=\\\".93\\\" height=\\\".93\\\" x=\\\"0\\\" y=\\\"3\\\" fill=\\\"#000000\\\" \\/>\\n<rect width=\\\".93\\\" height=\\\".93\\\" x=\\\"1\\\" y=\\\"3\\\" fill=\\\"#000000\\\" \\/>\\n<rect width=\\\".93\\\" height=\\\".93\\\" x=\\\"2\\\" y=\\\"3\\\" fill=\\\"#000000\\\" \\/>\\n<rect width=\\\".93\\\" height=\\\".93\\\" x=\\\"3\\\" y=\\\"3\\\" fill=\\\"#00D3FF\\\" \\/>\\n<rect width=\\\".93\\\" height=\\\".93\\\" x=\\\"4\\\" y=\\\"3\\\" fill=\\\"#00D3FF\\\" \\/>\\n<rect width=\\\".93\\\" height=\\\".93\\\" x=\\\"5\\\" y=\\\"3\\\" fill=\\\"#00D3FF\\\" \\/>\\n<rect width=\\\".93\\\" height=\\\".93\\\" x=\\\"6\\\" y=\\\"3\\\" fill=\\\"#000000\\\" \\/>\\n<rect width=\\\".93\\\" height=\\\".93\\\" x=\\\"7\\\" y=\\\"3\\\" fill=\\\"#000000\\\" \\/>\\n<rect width=\\\".93\\\" height=\\\".93\\\" x=\\\"8\\\" y=\\\"3\\\" fill=\\\"#000000\\\" \\/>\\n<rect width=\\\".93\\\" height=\\\".93\\\" x=\\\"9\\\" y=\\\"3\\\" fill=\\\"#000000\\\" \\/>\\n<rect width=\\\".93\\\" height=\\\".93\\\" x=\\\"0\\\" y=\\\"4\\\" fill=\\\"#000000\\\" \\/>\\n<rect width=\\\".93\\\" height=\\\".93\\\" x=\\\"1\\\" y=\\\"4\\\" fill=\\\"#000000\\\" \\/>\\n<rect width=\\\".93\\\" height=\\\".93\\\" x=\\\"2\\\" y=\\\"4\\\" fill=\\\"#000000\\\" \\/>\\n<rect width=\\\".93\\\" height=\\\".93\\\" x=\\\"3\\\" y=\\\"4\\\" fill=\\\"#00D3FF\\\" \\/>\\n<rect width=\\\".93\\\" height=\\\".93\\\" x=\\\"4\\\" y=\\\"4\\\" fill=\\\"#00D3FF\\\" \\/>\\n<rect width=\\\".93\\\" height=\\\".93\\\" x=\\\"5\\\" y=\\\"4\\\" fill=\\\"#00D3FF\\\" \\/>\\n<rect width=\\\".93\\\" height=\\\".93\\\" x=\\\"6\\\" y=\\\"4\\\" fill=\\\"#000000\\\" \\/>\\n<rect width=\\\".93\\\" height=\\\".93\\\" x=\\\"7\\\" y=\\\"4\\\" fill=\\\"#000000\\\" \\/>\\n<rect width=\\\".93\\\" height=\\\".93\\\" x=\\\"8\\\" y=\\\"4\\\" fill=\\\"#000000\\\" \\/>\\n<rect width=\\\".93\\\" height=\\\".93\\\" x=\\\"9\\\" y=\\\"4\\\" fill=\\\"#000000\\\" \\/>\\n<rect width=\\\".93\\\" height=\\\".93\\\" x=\\\"0\\\" y=\\\"5\\\" fill=\\\"#000000\\\" \\/>\\n<rect width=\\\".93\\\" height=\\\".93\\\" x=\\\"1\\\" y=\\\"5\\\" fill=\\\"#000000\\\" \\/>\\n<rect width=\\\".93\\\" height=\\\".93\\\" x=\\\"2\\\" y=\\\"5\\\" fill=\\\"#000000\\\" \\/>\\n<rect width=\\\".93\\\" height=\\\".93\\\" x=\\\"3\\\" y=\\\"5\\\" fill=\\\"#00D3FF\\\" \\/>\\n<rect width=\\\".93\\\" height=\\\".93\\\" x=\\\"4\\\" y=\\\"5\\\" fill=\\\"#00D3FF\\\" \\/>\\n<rect width=\\\".93\\\" height=\\\".93\\\" x=\\\"5\\\" y=\\\"5\\\" fill=\\\"#00D3FF\\\" \\/>\\n<rect width=\\\".93\\\" height=\\\".93\\\" x=\\\"6\\\" y=\\\"5\\\" fill=\\\"#000000\\\" \\/>\\n<rect width=\\\".93\\\" height=\\\".93\\\" x=\\\"7\\\" y=\\\"5\\\" fill=\\\"#000000\\\" \\/>\\n<rect width=\\\".93\\\" height=\\\".93\\\" x=\\\"8\\\" y=\\\"5\\\" fill=\\\"#000000\\\" \\/>\\n<rect width=\\\".93\\\" height=\\\".93\\\" x=\\\"9\\\" y=\\\"5\\\" fill=\\\"#000000\\\" \\/>\\n<rect width=\\\".93\\\" height=\\\".93\\\" x=\\\"0\\\" y=\\\"6\\\" fill=\\\"#000000\\\" \\/>\\n<rect width=\\\".93\\\" height=\\\".93\\\" x=\\\"1\\\" y=\\\"6\\\" fill=\\\"#000000\\\" \\/>\\n<rect width=\\\".93\\\" height=\\\".93\\\" x=\\\"2\\\" y=\\\"6\\\" fill=\\\"#000000\\\" \\/>\\n<rect width=\\\".93\\\" height=\\\".93\\\" x=\\\"3\\\" y=\\\"6\\\" fill=\\\"#000000\\\" \\/>\\n<rect width=\\\".93\\\" height=\\\".93\\\" x=\\\"4\\\" y=\\\"6\\\" fill=\\\"#000000\\\" \\/>\\n<rect width=\\\".93\\\" height=\\\".93\\\" x=\\\"5\\\" y=\\\"6\\\" fill=\\\"#000000\\\" \\/>\\n<rect width=\\\".93\\\" height=\\\".93\\\" x=\\\"6\\\" y=\\\"6\\\" fill=\\\"#000000\\\" \\/>\\n<rect width=\\\".93\\\" height=\\\".93\\\" x=\\\"7\\\" y=\\\"6\\\" fill=\\\"#000000\\\" \\/>\\n<rect width=\\\".93\\\" height=\\\".93\\\" x=\\\"8\\\" y=\\\"6\\\" fill=\\\"#000000\\\" \\/>\\n<rect width=\\\".93\\\" height=\\\".93\\\" x=\\\"9\\\" y=\\\"6\\\" fill=\\\"#000000\\\" \\/>\\n<rect width=\\\".93\\\" height=\\\".93\\\" x=\\\"0\\\" y=\\\"7\\\" fill=\\\"#000000\\\" \\/>\\n<rect width=\\\".93\\\" height=\\\".93\\\" x=\\\"1\\\" y=\\\"7\\\" fill=\\\"#000000\\\" \\/>\\n<rect width=\\\".93\\\" height=\\\".93\\\" x=\\\"2\\\" y=\\\"7\\\" fill=\\\"#000000\\\" \\/>\\n<rect width=\\\".93\\\" height=\\\".93\\\" x=\\\"3\\\" y=\\\"7\\\" fill=\\\"#000000\\\" \\/>\\n<rect width=\\\".93\\\" height=\\\".93\\\" x=\\\"4\\\" y=\\\"7\\\" fill=\\\"#000000\\\" \\/>\\n<rect width=\\\".93\\\" height=\\\".93\\\" x=\\\"5\\\" y=\\\"7\\\" fill=\\\"#000000\\\" \\/>\\n<rect width=\\\".93\\\" height=\\\".93\\\" x=\\\"6\\\" y=\\\"7\\\" fill=\\\"#000000\\\" \\/>\\n<rect width=\\\".93\\\" height=\\\".93\\\" x=\\\"7\\\" y=\\\"7\\\" fill=\\\"#000000\\\" \\/>\\n<rect width=\\\".93\\\" height=\\\".93\\\" x=\\\"8\\\" y=\\\"7\\\" fill=\\\"#000000\\\" \\/>\\n<rect width=\\\".93\\\" height=\\\".93\\\" x=\\\"9\\\" y=\\\"7\\\" fill=\\\"#000000\\\" \\/>\\n<rect width=\\\".93\\\" height=\\\".93\\\" x=\\\"0\\\" y=\\\"8\\\" fill=\\\"#000000\\\" \\/>\\n<rect width=\\\".93\\\" height=\\\".93\\\" x=\\\"1\\\" y=\\\"8\\\" fill=\\\"#000000\\\" \\/>\\n<rect width=\\\".93\\\" height=\\\".93\\\" x=\\\"2\\\" y=\\\"8\\\" fill=\\\"#000000\\\" \\/>\\n<rect width=\\\".93\\\" height=\\\".93\\\" x=\\\"3\\\" y=\\\"8\\\" fill=\\\"#000000\\\" \\/>\\n<rect width=\\\".93\\\" height=\\\".93\\\" x=\\\"4\\\" y=\\\"8\\\" fill=\\\"#000000\\\" \\/>\\n<rect width=\\\".93\\\" height=\\\".93\\\" x=\\\"5\\\" y=\\\"8\\\" fill=\\\"#000000\\\" \\/>\\n<rect width=\\\".93\\\" height=\\\".93\\\" x=\\\"6\\\" y=\\\"8\\\" fill=\\\"#000000\\\" \\/>\\n<rect width=\\\".93\\\" height=\\\".93\\\" x=\\\"7\\\" y=\\\"8\\\" fill=\\\"#000000\\\" \\/>\\n<rect width=\\\".93\\\" height=\\\".93\\\" x=\\\"8\\\" y=\\\"8\\\" fill=\\\"#000000\\\" \\/>\\n<rect width=\\\".93\\\" height=\\\".93\\\" x=\\\"9\\\" y=\\\"8\\\" fill=\\\"#000000\\\" \\/>\\n<rect width=\\\".93\\\" height=\\\".93\\\" x=\\\"0\\\" y=\\\"9\\\" fill=\\\"#000000\\\" \\/>\\n<rect width=\\\".93\\\" height=\\\".93\\\" x=\\\"1\\\" y=\\\"9\\\" fill=\\\"#000000\\\" \\/>\\n<rect width=\\\".93\\\" height=\\\".93\\\" x=\\\"2\\\" y=\\\"9\\\" fill=\\\"#000000\\\" \\/>\\n<rect width=\\\".93\\\" height=\\\".93\\\" x=\\\"3\\\" y=\\\"9\\\" fill=\\\"#000000\\\" \\/>\\n<rect width=\\\".93\\\" height=\\\".93\\\" x=\\\"4\\\" y=\\\"9\\\" fill=\\\"#000000\\\" \\/>\\n<rect width=\\\".93\\\" height=\\\".93\\\" x=\\\"5\\\" y=\\\"9\\\" fill=\\\"#000000\\\" \\/>\\n<rect width=\\\".93\\\" height=\\\".93\\\" x=\\\"6\\\" y=\\\"9\\\" fill=\\\"#000000\\\" \\/>\\n<rect width=\\\".93\\\" height=\\\".93\\\" x=\\\"7\\\" y=\\\"9\\\" fill=\\\"#000000\\\" \\/>\\n<rect width=\\\".93\\\" height=\\\".93\\\" x=\\\"8\\\" y=\\\"9\\\" fill=\\\"#000000\\\" \\/>\\n<rect width=\\\".93\\\" height=\\\".93\\\" x=\\\"9\\\" y=\\\"9\\\" fill=\\\"#000000\\\" \\/>\\n<\\/svg>\"},\"nodeType\":\"DOM\",\"type\":\"node\",\"instanceArgs\":{\"namespace\":\"html\",\"tag\":\"div\"},\"children\":[]}]}}}},\"children\":[{\"props\":{},\"nodeType\":\"ObservableNode\",\"type\":\"node\",\"instanceArgs\":{\"id\":\"15519491055975315518\",\"name\":\"obs-node\"},\"children\":[]}]}]},\n",
       "        window,\n",
       "    );\n",
       "    })()\n",
       "    </script>\n",
       "</div>\n"
      ],
      "text/plain": [
       "Node{WebIO.DOM}(WebIO.DOM(:html, :div), Any[Node{WebIO.DOM}(WebIO.DOM(:html, :div), Any[Scope(Node{WebIO.DOM}(WebIO.DOM(:html, :div), Any[Node{WebIO.DOM}(WebIO.DOM(:html, :div), Any[Node{WebIO.DOM}(WebIO.DOM(:html, :label), Any[\"i\"], Dict{Symbol, Any}(:className => \"interact \", :style => Dict{Any, Any}(:padding => \"5px 10px 0px 10px\")))], Dict{Symbol, Any}(:className => \"interact-flex-row-left\")), Node{WebIO.DOM}(WebIO.DOM(:html, :div), Any[Node{WebIO.DOM}(WebIO.DOM(:html, :input), Any[], Dict{Symbol, Any}(:max => 8, :min => 1, :attributes => Dict{Any, Any}(:type => \"range\", Symbol(\"data-bind\") => \"numericValue: index, valueUpdate: 'input', event: {change: function (){this.changes(this.changes()+1)}}\", \"orient\" => \"horizontal\"), :step => 1, :className => \"slider slider is-fullwidth\", :style => Dict{Any, Any}()))], Dict{Symbol, Any}(:className => \"interact-flex-row-center\")), Node{WebIO.DOM}(WebIO.DOM(:html, :div), Any[Node{WebIO.DOM}(WebIO.DOM(:html, :p), Any[], Dict{Symbol, Any}(:attributes => Dict(\"data-bind\" => \"text: formatted_val\")))], Dict{Symbol, Any}(:className => \"interact-flex-row-right\"))], Dict{Symbol, Any}(:className => \"interact-flex-row interact-widget\")), Dict{String, Tuple{Observables.AbstractObservable, Union{Nothing, Bool}}}(\"changes\" => (Observable{Int64} with 1 listeners. Value:\n",
       "0, nothing), \"index\" => (Observable{Int64} with 2 listeners. Value:\n",
       "4, nothing)), Set{String}(), nothing, Asset[Asset(\"js\", \"knockout\", \"/home/eric/.julia/packages/Knockout/3gjS1/src/../assets/knockout.js\"), Asset(\"js\", \"knockout_punches\", \"/home/eric/.julia/packages/Knockout/3gjS1/src/../assets/knockout_punches.js\"), Asset(\"js\", nothing, \"/home/eric/.julia/packages/InteractBase/h8Fwe/src/../assets/all.js\"), Asset(\"css\", nothing, \"/home/eric/.julia/packages/InteractBase/h8Fwe/src/../assets/style.css\"), Asset(\"css\", nothing, \"/home/eric/.julia/packages/Interact/pVyN2/src/../assets/bulma_confined.min.css\")], Dict{Any, Any}(\"changes\" => Any[WebIO.JSString(\"(function (val){return (val!=this.model[\\\"changes\\\"]()) ? (this.valueFromJulia[\\\"changes\\\"]=true, this.model[\\\"changes\\\"](val)) : undefined})\")], \"index\" => Any[WebIO.JSString(\"(function (val){return (val!=this.model[\\\"index\\\"]()) ? (this.valueFromJulia[\\\"index\\\"]=true, this.model[\\\"index\\\"](val)) : undefined})\")]), WebIO.ConnectionPool(Channel{Any}(32), Set{AbstractConnection}(), Condition(Base.InvasiveLinkedList{Task}(Task (runnable) @0x00007f43cf3d73d0, Task (runnable) @0x00007f43cf3d73d0), Base.AlwaysLockedST(1))), WebIO.JSString[WebIO.JSString(\"function () {\\n    var handler = (function (ko, koPunches) {\\n    ko.punches.enableAll();\\n    ko.bindingHandlers.numericValue = {\\n        init: function(element, valueAccessor, allBindings, data, context) {\\n            var stringified = ko.observable(ko.unwrap(valueAccessor()));\\n            stringified.subscribe(function(value) {\\n                var val = parseFloat(value);\\n                if (!isNaN(val)) {\\n                    valueAccessor()(val);\\n                }\\n            });\\n            valueAccessor().subscribe(function(value) {\\n                var str = JSON.stringify(value);\\n                if ((str == \\\"0\\\") && ([\\\"-0\\\", \\\"-0.\\\"].indexOf(stringified()) >= 0))\\n                     return;\\n                 if ([\\\"null\\\", \\\"\\\"].indexOf(str) >= 0)\\n                     return;\\n                stringified(str);\\n            });\\n            ko.applyBindingsToNode(\\n                element,\\n                {\\n                    value: stringified,\\n                    valueUpdate: allBindings.get('valueUpdate'),\\n                },\\n                context,\\n            );\\n        }\\n    };\\n    var json_data = {\\\"formatted_vals\\\":[\\\"1\\\",\\\"2\\\",\\\"3\\\",\\\"4\\\",\\\"5\\\",\\\"6\\\",\\\"7\\\",\\\"8\\\"],\\\"changes\\\":WebIO.getval({\\\"name\\\":\\\"changes\\\",\\\"scope\\\":\\\"13088642524303829574\\\",\\\"id\\\":\\\"15813956061415793708\\\",\\\"type\\\":\\\"observable\\\"}),\\\"index\\\":WebIO.getval({\\\"name\\\":\\\"index\\\",\\\"scope\\\":\\\"13088642524303829574\\\",\\\"id\\\":\\\"7297451348783627214\\\",\\\"type\\\":\\\"observable\\\"})};\\n    var self = this;\\n    function AppViewModel() {\\n        for (var key in json_data) {\\n            var el = json_data[key];\\n            this[key] = Array.isArray(el) ? ko.observableArray(el) : ko.observable(el);\\n        }\\n        \\n        [this[\\\"formatted_val\\\"]=ko.computed(    function(){\\n        return this.formatted_vals()[parseInt(this.index())-(1)];\\n    }\\n,this)]\\n        [this[\\\"changes\\\"].subscribe((function (val){!(this.valueFromJulia[\\\"changes\\\"]) ? (WebIO.setval({\\\"name\\\":\\\"changes\\\",\\\"scope\\\":\\\"13088642524303829574\\\",\\\"id\\\":\\\"15813956061415793708\\\",\\\"type\\\":\\\"observable\\\"},val)) : undefined; return this.valueFromJulia[\\\"changes\\\"]=false}),self),this[\\\"index\\\"].subscribe((function (val){!(this.valueFromJulia[\\\"index\\\"]) ? (WebIO.setval({\\\"name\\\":\\\"index\\\",\\\"scope\\\":\\\"13088642524303829574\\\",\\\"id\\\":\\\"7297451348783627214\\\",\\\"type\\\":\\\"observable\\\"},val)) : undefined; return this.valueFromJulia[\\\"index\\\"]=false}),self)]\\n        \\n    }\\n    self.model = new AppViewModel();\\n    self.valueFromJulia = {};\\n    for (var key in json_data) {\\n        self.valueFromJulia[key] = false;\\n    }\\n    ko.applyBindings(self.model, self.dom);\\n}\\n);\\n    (WebIO.importBlock({\\\"data\\\":[{\\\"name\\\":\\\"knockout\\\",\\\"type\\\":\\\"js\\\",\\\"url\\\":\\\"/assetserver/6b96799a10d15874ff94d24957be8c8a087d1c55-knockout.js\\\"},{\\\"name\\\":\\\"knockout_punches\\\",\\\"type\\\":\\\"js\\\",\\\"url\\\":\\\"/assetserver/e20056129f9a18b26001a958417a03ffd18608c4-knockout_punches.js\\\"}],\\\"type\\\":\\\"async_block\\\"})).then((imports) => handler.apply(this, imports));\\n}\\n\")])], Dict{Symbol, Any}(:className => \"field interact-widget\")), Node{WebIO.DOM}(WebIO.DOM(:html, :div), Any[Scope(Node{WebIO.DOM}(WebIO.DOM(:html, :div), Any[Node{WebIO.DOM}(WebIO.DOM(:html, :div), Any[Node{WebIO.DOM}(WebIO.DOM(:html, :label), Any[\"j\"], Dict{Symbol, Any}(:className => \"interact \", :style => Dict{Any, Any}(:padding => \"5px 10px 0px 10px\")))], Dict{Symbol, Any}(:className => \"interact-flex-row-left\")), Node{WebIO.DOM}(WebIO.DOM(:html, :div), Any[Node{WebIO.DOM}(WebIO.DOM(:html, :input), Any[], Dict{Symbol, Any}(:max => 8, :min => 1, :attributes => Dict{Any, Any}(:type => \"range\", Symbol(\"data-bind\") => \"numericValue: index, valueUpdate: 'input', event: {change: function (){this.changes(this.changes()+1)}}\", \"orient\" => \"horizontal\"), :step => 1, :className => \"slider slider is-fullwidth\", :style => Dict{Any, Any}()))], Dict{Symbol, Any}(:className => \"interact-flex-row-center\")), Node{WebIO.DOM}(WebIO.DOM(:html, :div), Any[Node{WebIO.DOM}(WebIO.DOM(:html, :p), Any[], Dict{Symbol, Any}(:attributes => Dict(\"data-bind\" => \"text: formatted_val\")))], Dict{Symbol, Any}(:className => \"interact-flex-row-right\"))], Dict{Symbol, Any}(:className => \"interact-flex-row interact-widget\")), Dict{String, Tuple{Observables.AbstractObservable, Union{Nothing, Bool}}}(\"changes\" => (Observable{Int64} with 1 listeners. Value:\n",
       "0, nothing), \"index\" => (Observable{Int64} with 2 listeners. Value:\n",
       "4, nothing)), Set{String}(), nothing, Asset[Asset(\"js\", \"knockout\", \"/home/eric/.julia/packages/Knockout/3gjS1/src/../assets/knockout.js\"), Asset(\"js\", \"knockout_punches\", \"/home/eric/.julia/packages/Knockout/3gjS1/src/../assets/knockout_punches.js\"), Asset(\"js\", nothing, \"/home/eric/.julia/packages/InteractBase/h8Fwe/src/../assets/all.js\"), Asset(\"css\", nothing, \"/home/eric/.julia/packages/InteractBase/h8Fwe/src/../assets/style.css\"), Asset(\"css\", nothing, \"/home/eric/.julia/packages/Interact/pVyN2/src/../assets/bulma_confined.min.css\")], Dict{Any, Any}(\"changes\" => Any[WebIO.JSString(\"(function (val){return (val!=this.model[\\\"changes\\\"]()) ? (this.valueFromJulia[\\\"changes\\\"]=true, this.model[\\\"changes\\\"](val)) : undefined})\")], \"index\" => Any[WebIO.JSString(\"(function (val){return (val!=this.model[\\\"index\\\"]()) ? (this.valueFromJulia[\\\"index\\\"]=true, this.model[\\\"index\\\"](val)) : undefined})\")]), WebIO.ConnectionPool(Channel{Any}(32), Set{AbstractConnection}(), Condition(Base.InvasiveLinkedList{Task}(Task (runnable) @0x00007f43cf3d7820, Task (runnable) @0x00007f43cf3d7820), Base.AlwaysLockedST(1))), WebIO.JSString[WebIO.JSString(\"function () {\\n    var handler = (function (ko, koPunches) {\\n    ko.punches.enableAll();\\n    ko.bindingHandlers.numericValue = {\\n        init: function(element, valueAccessor, allBindings, data, context) {\\n            var stringified = ko.observable(ko.unwrap(valueAccessor()));\\n            stringified.subscribe(function(value) {\\n                var val = parseFloat(value);\\n                if (!isNaN(val)) {\\n                    valueAccessor()(val);\\n                }\\n            });\\n            valueAccessor().subscribe(function(value) {\\n                var str = JSON.stringify(value);\\n                if ((str == \\\"0\\\") && ([\\\"-0\\\", \\\"-0.\\\"].indexOf(stringified()) >= 0))\\n                     return;\\n                 if ([\\\"null\\\", \\\"\\\"].indexOf(str) >= 0)\\n                     return;\\n                stringified(str);\\n            });\\n            ko.applyBindingsToNode(\\n                element,\\n                {\\n                    value: stringified,\\n                    valueUpdate: allBindings.get('valueUpdate'),\\n                },\\n                context,\\n            );\\n        }\\n    };\\n    var json_data = {\\\"formatted_vals\\\":[\\\"1\\\",\\\"2\\\",\\\"3\\\",\\\"4\\\",\\\"5\\\",\\\"6\\\",\\\"7\\\",\\\"8\\\"],\\\"changes\\\":WebIO.getval({\\\"name\\\":\\\"changes\\\",\\\"scope\\\":\\\"13087707142702872639\\\",\\\"id\\\":\\\"17205613800559911458\\\",\\\"type\\\":\\\"observable\\\"}),\\\"index\\\":WebIO.getval({\\\"name\\\":\\\"index\\\",\\\"scope\\\":\\\"13087707142702872639\\\",\\\"id\\\":\\\"3652942709033082606\\\",\\\"type\\\":\\\"observable\\\"})};\\n    var self = this;\\n    function AppViewModel() {\\n        for (var key in json_data) {\\n            var el = json_data[key];\\n            this[key] = Array.isArray(el) ? ko.observableArray(el) : ko.observable(el);\\n        }\\n        \\n        [this[\\\"formatted_val\\\"]=ko.computed(    function(){\\n        return this.formatted_vals()[parseInt(this.index())-(1)];\\n    }\\n,this)]\\n        [this[\\\"changes\\\"].subscribe((function (val){!(this.valueFromJulia[\\\"changes\\\"]) ? (WebIO.setval({\\\"name\\\":\\\"changes\\\",\\\"scope\\\":\\\"13087707142702872639\\\",\\\"id\\\":\\\"17205613800559911458\\\",\\\"type\\\":\\\"observable\\\"},val)) : undefined; return this.valueFromJulia[\\\"changes\\\"]=false}),self),this[\\\"index\\\"].subscribe((function (val){!(this.valueFromJulia[\\\"index\\\"]) ? (WebIO.setval({\\\"name\\\":\\\"index\\\",\\\"scope\\\":\\\"13087707142702872639\\\",\\\"id\\\":\\\"3652942709033082606\\\",\\\"type\\\":\\\"observable\\\"},val)) : undefined; return this.valueFromJulia[\\\"index\\\"]=false}),self)]\\n        \\n    }\\n    self.model = new AppViewModel();\\n    self.valueFromJulia = {};\\n    for (var key in json_data) {\\n        self.valueFromJulia[key] = false;\\n    }\\n    ko.applyBindings(self.model, self.dom);\\n}\\n);\\n    (WebIO.importBlock({\\\"data\\\":[{\\\"name\\\":\\\"knockout\\\",\\\"type\\\":\\\"js\\\",\\\"url\\\":\\\"/assetserver/6b96799a10d15874ff94d24957be8c8a087d1c55-knockout.js\\\"},{\\\"name\\\":\\\"knockout_punches\\\",\\\"type\\\":\\\"js\\\",\\\"url\\\":\\\"/assetserver/e20056129f9a18b26001a958417a03ffd18608c4-knockout_punches.js\\\"}],\\\"type\\\":\\\"async_block\\\"})).then((imports) => handler.apply(this, imports));\\n}\\n\")])], Dict{Symbol, Any}(:className => \"field interact-widget\")), Observable{Node{WebIO.DOM}} with 0 listeners. Value:\n",
       "Node{WebIO.DOM}(WebIO.DOM(:html, :div), Any[RGB{FixedPointNumbers.N0f8}[RGB{N0f8}(0.0,0.0,0.0) RGB{N0f8}(0.0,0.0,0.0) … RGB{N0f8}(0.0,0.0,0.0) RGB{N0f8}(0.0,0.0,0.0); RGB{N0f8}(0.0,0.0,0.0) RGB{N0f8}(0.0,0.0,0.0) … RGB{N0f8}(0.0,0.0,0.0) RGB{N0f8}(0.0,0.0,0.0); … ; RGB{N0f8}(0.0,0.0,0.0) RGB{N0f8}(0.0,0.0,0.0) … RGB{N0f8}(0.0,0.0,0.0) RGB{N0f8}(0.0,0.0,0.0); RGB{N0f8}(0.0,0.0,0.0) RGB{N0f8}(0.0,0.0,0.0) … RGB{N0f8}(0.0,0.0,0.0) RGB{N0f8}(0.0,0.0,0.0)]], Dict{Symbol, Any}(:className => \"interact-flex-row interact-widget\"))], Dict{Symbol, Any}())"
      ]
     },
     "execution_count": 31,
     "metadata": {
      "application/vnd.webio.node+json": {
       "kernelId": "94e38928-bc94-4f3b-9639-a305e1ab4272"
      }
     },
     "output_type": "execute_result"
    }
   ],
   "source": [
    "A = fill(basecolor, 10, 10)\n",
    "n = size(A, 1)\n",
    "\n",
    "@manipulate for i in 1:n-2, j in 1:n-2\n",
    "    insert_block(A, i, j, accentcolor)\n",
    "end"
   ]
  },
  {
   "cell_type": "markdown",
   "metadata": {},
   "source": [
    "## Emergent features: Example DifferentiaEquations.jl"
   ]
  },
  {
   "cell_type": "markdown",
   "metadata": {},
   "source": [
    "$$\\frac{du(t)}{dt} = -cu(t)$$"
   ]
  },
  {
   "cell_type": "code",
   "execution_count": 32,
   "metadata": {},
   "outputs": [
    {
     "ename": "LoadError",
     "evalue": "ArgumentError: Package OrdinaryDiffEq not found in current path:\n- Run `import Pkg; Pkg.add(\"OrdinaryDiffEq\")` to install the OrdinaryDiffEq package.\n",
     "output_type": "error",
     "traceback": [
      "ArgumentError: Package OrdinaryDiffEq not found in current path:\n- Run `import Pkg; Pkg.add(\"OrdinaryDiffEq\")` to install the OrdinaryDiffEq package.\n",
      "",
      "Stacktrace:",
      " [1] require(into::Module, mod::Symbol)",
      "   @ Base ./loading.jl:967",
      " [2] eval",
      "   @ ./boot.jl:373 [inlined]",
      " [3] include_string(mapexpr::typeof(REPL.softscope), mod::Module, code::String, filename::String)",
      "   @ Base ./loading.jl:1196"
     ]
    }
   ],
   "source": [
    "using OrdinaryDiffEq\n",
    "\n",
    "#Half-life of Carbon-14 is 5730 years.\n",
    "c = 5.730\n",
    "\n",
    "#Setup\n",
    "u0 = 1.0\n",
    "tspan = (0.0, 1.0)\n",
    "\n",
    "#Define the problem\n",
    "radioactivedecay(u,p,t) = -c*u\n",
    "\n",
    "#Pass to solver\n",
    "prob = ODEProblem(radioactivedecay,u0,tspan)"
   ]
  },
  {
   "cell_type": "code",
   "execution_count": 38,
   "metadata": {},
   "outputs": [
    {
     "data": {
      "image/svg+xml": [
       "<?xml version=\"1.0\" encoding=\"utf-8\"?>\n",
       "<svg xmlns=\"http://www.w3.org/2000/svg\" xmlns:xlink=\"http://www.w3.org/1999/xlink\" width=\"600\" height=\"400\" viewBox=\"0 0 2400 1600\">\n",
       "<defs>\n",
       "  <clipPath id=\"clip210\">\n",
       "    <rect x=\"0\" y=\"0\" width=\"2400\" height=\"1600\"/>\n",
       "  </clipPath>\n",
       "</defs>\n",
       "<path clip-path=\"url(#clip210)\" d=\"\n",
       "M0 1600 L2400 1600 L2400 0 L0 0  Z\n",
       "  \" fill=\"#ffffff\" fill-rule=\"evenodd\" fill-opacity=\"1\"/>\n",
       "<defs>\n",
       "  <clipPath id=\"clip211\">\n",
       "    <rect x=\"480\" y=\"0\" width=\"1681\" height=\"1600\"/>\n",
       "  </clipPath>\n",
       "</defs>\n",
       "<path clip-path=\"url(#clip210)\" d=\"\n",
       "M249.542 1423.18 L2352.76 1423.18 L2352.76 47.2441 L249.542 47.2441  Z\n",
       "  \" fill=\"#ffffff\" fill-rule=\"evenodd\" fill-opacity=\"1\"/>\n",
       "<defs>\n",
       "  <clipPath id=\"clip212\">\n",
       "    <rect x=\"249\" y=\"47\" width=\"2104\" height=\"1377\"/>\n",
       "  </clipPath>\n",
       "</defs>\n",
       "<polyline clip-path=\"url(#clip212)\" style=\"stroke:#000000; stroke-linecap:butt; stroke-linejoin:round; stroke-width:2; stroke-opacity:0.1; fill:none\" points=\"\n",
       "  309.067,1423.18 309.067,47.2441 \n",
       "  \"/>\n",
       "<polyline clip-path=\"url(#clip212)\" style=\"stroke:#000000; stroke-linecap:butt; stroke-linejoin:round; stroke-width:2; stroke-opacity:0.1; fill:none\" points=\"\n",
       "  805.108,1423.18 805.108,47.2441 \n",
       "  \"/>\n",
       "<polyline clip-path=\"url(#clip212)\" style=\"stroke:#000000; stroke-linecap:butt; stroke-linejoin:round; stroke-width:2; stroke-opacity:0.1; fill:none\" points=\"\n",
       "  1301.15,1423.18 1301.15,47.2441 \n",
       "  \"/>\n",
       "<polyline clip-path=\"url(#clip212)\" style=\"stroke:#000000; stroke-linecap:butt; stroke-linejoin:round; stroke-width:2; stroke-opacity:0.1; fill:none\" points=\"\n",
       "  1797.19,1423.18 1797.19,47.2441 \n",
       "  \"/>\n",
       "<polyline clip-path=\"url(#clip212)\" style=\"stroke:#000000; stroke-linecap:butt; stroke-linejoin:round; stroke-width:2; stroke-opacity:0.1; fill:none\" points=\"\n",
       "  2293.23,1423.18 2293.23,47.2441 \n",
       "  \"/>\n",
       "<polyline clip-path=\"url(#clip210)\" style=\"stroke:#000000; stroke-linecap:butt; stroke-linejoin:round; stroke-width:4; stroke-opacity:1; fill:none\" points=\"\n",
       "  249.542,1423.18 2352.76,1423.18 \n",
       "  \"/>\n",
       "<polyline clip-path=\"url(#clip210)\" style=\"stroke:#000000; stroke-linecap:butt; stroke-linejoin:round; stroke-width:4; stroke-opacity:1; fill:none\" points=\"\n",
       "  309.067,1423.18 309.067,1404.28 \n",
       "  \"/>\n",
       "<polyline clip-path=\"url(#clip210)\" style=\"stroke:#000000; stroke-linecap:butt; stroke-linejoin:round; stroke-width:4; stroke-opacity:1; fill:none\" points=\"\n",
       "  805.108,1423.18 805.108,1404.28 \n",
       "  \"/>\n",
       "<polyline clip-path=\"url(#clip210)\" style=\"stroke:#000000; stroke-linecap:butt; stroke-linejoin:round; stroke-width:4; stroke-opacity:1; fill:none\" points=\"\n",
       "  1301.15,1423.18 1301.15,1404.28 \n",
       "  \"/>\n",
       "<polyline clip-path=\"url(#clip210)\" style=\"stroke:#000000; stroke-linecap:butt; stroke-linejoin:round; stroke-width:4; stroke-opacity:1; fill:none\" points=\"\n",
       "  1797.19,1423.18 1797.19,1404.28 \n",
       "  \"/>\n",
       "<polyline clip-path=\"url(#clip210)\" style=\"stroke:#000000; stroke-linecap:butt; stroke-linejoin:round; stroke-width:4; stroke-opacity:1; fill:none\" points=\"\n",
       "  2293.23,1423.18 2293.23,1404.28 \n",
       "  \"/>\n",
       "<path clip-path=\"url(#clip210)\" d=\"M271.37 1454.1 Q267.759 1454.1 265.931 1457.66 Q264.125 1461.2 264.125 1468.33 Q264.125 1475.44 265.931 1479.01 Q267.759 1482.55 271.37 1482.55 Q275.005 1482.55 276.81 1479.01 Q278.639 1475.44 278.639 1468.33 Q278.639 1461.2 276.81 1457.66 Q275.005 1454.1 271.37 1454.1 M271.37 1450.39 Q277.181 1450.39 280.236 1455 Q283.315 1459.58 283.315 1468.33 Q283.315 1477.06 280.236 1481.67 Q277.181 1486.25 271.37 1486.25 Q265.56 1486.25 262.482 1481.67 Q259.426 1477.06 259.426 1468.33 Q259.426 1459.58 262.482 1455 Q265.56 1450.39 271.37 1450.39 Z\" fill=\"#000000\" fill-rule=\"evenodd\" fill-opacity=\"1\" /><path clip-path=\"url(#clip210)\" d=\"M291.532 1479.7 L296.417 1479.7 L296.417 1485.58 L291.532 1485.58 L291.532 1479.7 Z\" fill=\"#000000\" fill-rule=\"evenodd\" fill-opacity=\"1\" /><path clip-path=\"url(#clip210)\" d=\"M316.602 1454.1 Q312.991 1454.1 311.162 1457.66 Q309.356 1461.2 309.356 1468.33 Q309.356 1475.44 311.162 1479.01 Q312.991 1482.55 316.602 1482.55 Q320.236 1482.55 322.041 1479.01 Q323.87 1475.44 323.87 1468.33 Q323.87 1461.2 322.041 1457.66 Q320.236 1454.1 316.602 1454.1 M316.602 1450.39 Q322.412 1450.39 325.467 1455 Q328.546 1459.58 328.546 1468.33 Q328.546 1477.06 325.467 1481.67 Q322.412 1486.25 316.602 1486.25 Q310.791 1486.25 307.713 1481.67 Q304.657 1477.06 304.657 1468.33 Q304.657 1459.58 307.713 1455 Q310.791 1450.39 316.602 1450.39 Z\" fill=\"#000000\" fill-rule=\"evenodd\" fill-opacity=\"1\" /><path clip-path=\"url(#clip210)\" d=\"M346.764 1454.1 Q343.152 1454.1 341.324 1457.66 Q339.518 1461.2 339.518 1468.33 Q339.518 1475.44 341.324 1479.01 Q343.152 1482.55 346.764 1482.55 Q350.398 1482.55 352.203 1479.01 Q354.032 1475.44 354.032 1468.33 Q354.032 1461.2 352.203 1457.66 Q350.398 1454.1 346.764 1454.1 M346.764 1450.39 Q352.574 1450.39 355.629 1455 Q358.708 1459.58 358.708 1468.33 Q358.708 1477.06 355.629 1481.67 Q352.574 1486.25 346.764 1486.25 Q340.953 1486.25 337.875 1481.67 Q334.819 1477.06 334.819 1468.33 Q334.819 1459.58 337.875 1455 Q340.953 1450.39 346.764 1450.39 Z\" fill=\"#000000\" fill-rule=\"evenodd\" fill-opacity=\"1\" /><path clip-path=\"url(#clip210)\" d=\"M767.909 1454.1 Q764.298 1454.1 762.469 1457.66 Q760.664 1461.2 760.664 1468.33 Q760.664 1475.44 762.469 1479.01 Q764.298 1482.55 767.909 1482.55 Q771.543 1482.55 773.349 1479.01 Q775.178 1475.44 775.178 1468.33 Q775.178 1461.2 773.349 1457.66 Q771.543 1454.1 767.909 1454.1 M767.909 1450.39 Q773.719 1450.39 776.775 1455 Q779.853 1459.58 779.853 1468.33 Q779.853 1477.06 776.775 1481.67 Q773.719 1486.25 767.909 1486.25 Q762.099 1486.25 759.02 1481.67 Q755.965 1477.06 755.965 1468.33 Q755.965 1459.58 759.02 1455 Q762.099 1450.39 767.909 1450.39 Z\" fill=\"#000000\" fill-rule=\"evenodd\" fill-opacity=\"1\" /><path clip-path=\"url(#clip210)\" d=\"M788.071 1479.7 L792.955 1479.7 L792.955 1485.58 L788.071 1485.58 L788.071 1479.7 Z\" fill=\"#000000\" fill-rule=\"evenodd\" fill-opacity=\"1\" /><path clip-path=\"url(#clip210)\" d=\"M807.168 1481.64 L823.487 1481.64 L823.487 1485.58 L801.543 1485.58 L801.543 1481.64 Q804.205 1478.89 808.788 1474.26 Q813.395 1469.61 814.576 1468.27 Q816.821 1465.74 817.7 1464.01 Q818.603 1462.25 818.603 1460.56 Q818.603 1457.8 816.659 1456.07 Q814.738 1454.33 811.636 1454.33 Q809.437 1454.33 806.983 1455.09 Q804.552 1455.86 801.775 1457.41 L801.775 1452.69 Q804.599 1451.55 807.052 1450.97 Q809.506 1450.39 811.543 1450.39 Q816.913 1450.39 820.108 1453.08 Q823.302 1455.77 823.302 1460.26 Q823.302 1462.39 822.492 1464.31 Q821.705 1466.2 819.599 1468.8 Q819.02 1469.47 815.918 1472.69 Q812.816 1475.88 807.168 1481.64 Z\" fill=\"#000000\" fill-rule=\"evenodd\" fill-opacity=\"1\" /><path clip-path=\"url(#clip210)\" d=\"M833.349 1451.02 L851.705 1451.02 L851.705 1454.96 L837.631 1454.96 L837.631 1463.43 Q838.649 1463.08 839.668 1462.92 Q840.686 1462.73 841.705 1462.73 Q847.492 1462.73 850.872 1465.9 Q854.251 1469.08 854.251 1474.49 Q854.251 1480.07 850.779 1483.17 Q847.307 1486.25 840.987 1486.25 Q838.811 1486.25 836.543 1485.88 Q834.298 1485.51 831.89 1484.77 L831.89 1480.07 Q833.974 1481.2 836.196 1481.76 Q838.418 1482.32 840.895 1482.32 Q844.899 1482.32 847.237 1480.21 Q849.575 1478.1 849.575 1474.49 Q849.575 1470.88 847.237 1468.77 Q844.899 1466.67 840.895 1466.67 Q839.02 1466.67 837.145 1467.08 Q835.293 1467.5 833.349 1468.38 L833.349 1451.02 Z\" fill=\"#000000\" fill-rule=\"evenodd\" fill-opacity=\"1\" /><path clip-path=\"url(#clip210)\" d=\"M1263.45 1454.1 Q1259.84 1454.1 1258.01 1457.66 Q1256.21 1461.2 1256.21 1468.33 Q1256.21 1475.44 1258.01 1479.01 Q1259.84 1482.55 1263.45 1482.55 Q1267.09 1482.55 1268.89 1479.01 Q1270.72 1475.44 1270.72 1468.33 Q1270.72 1461.2 1268.89 1457.66 Q1267.09 1454.1 1263.45 1454.1 M1263.45 1450.39 Q1269.26 1450.39 1272.32 1455 Q1275.4 1459.58 1275.4 1468.33 Q1275.4 1477.06 1272.32 1481.67 Q1269.26 1486.25 1263.45 1486.25 Q1257.64 1486.25 1254.56 1481.67 Q1251.51 1477.06 1251.51 1468.33 Q1251.51 1459.58 1254.56 1455 Q1257.64 1450.39 1263.45 1450.39 Z\" fill=\"#000000\" fill-rule=\"evenodd\" fill-opacity=\"1\" /><path clip-path=\"url(#clip210)\" d=\"M1283.61 1479.7 L1288.5 1479.7 L1288.5 1485.58 L1283.61 1485.58 L1283.61 1479.7 Z\" fill=\"#000000\" fill-rule=\"evenodd\" fill-opacity=\"1\" /><path clip-path=\"url(#clip210)\" d=\"M1298.73 1451.02 L1317.09 1451.02 L1317.09 1454.96 L1303.01 1454.96 L1303.01 1463.43 Q1304.03 1463.08 1305.05 1462.92 Q1306.07 1462.73 1307.09 1462.73 Q1312.87 1462.73 1316.25 1465.9 Q1319.63 1469.08 1319.63 1474.49 Q1319.63 1480.07 1316.16 1483.17 Q1312.69 1486.25 1306.37 1486.25 Q1304.19 1486.25 1301.92 1485.88 Q1299.68 1485.51 1297.27 1484.77 L1297.27 1480.07 Q1299.35 1481.2 1301.58 1481.76 Q1303.8 1482.32 1306.28 1482.32 Q1310.28 1482.32 1312.62 1480.21 Q1314.96 1478.1 1314.96 1474.49 Q1314.96 1470.88 1312.62 1468.77 Q1310.28 1466.67 1306.28 1466.67 Q1304.4 1466.67 1302.53 1467.08 Q1300.67 1467.5 1298.73 1468.38 L1298.73 1451.02 Z\" fill=\"#000000\" fill-rule=\"evenodd\" fill-opacity=\"1\" /><path clip-path=\"url(#clip210)\" d=\"M1338.85 1454.1 Q1335.23 1454.1 1333.41 1457.66 Q1331.6 1461.2 1331.6 1468.33 Q1331.6 1475.44 1333.41 1479.01 Q1335.23 1482.55 1338.85 1482.55 Q1342.48 1482.55 1344.29 1479.01 Q1346.11 1475.44 1346.11 1468.33 Q1346.11 1461.2 1344.29 1457.66 Q1342.48 1454.1 1338.85 1454.1 M1338.85 1450.39 Q1344.66 1450.39 1347.71 1455 Q1350.79 1459.58 1350.79 1468.33 Q1350.79 1477.06 1347.71 1481.67 Q1344.66 1486.25 1338.85 1486.25 Q1333.04 1486.25 1329.96 1481.67 Q1326.9 1477.06 1326.9 1468.33 Q1326.9 1459.58 1329.96 1455 Q1333.04 1450.39 1338.85 1450.39 Z\" fill=\"#000000\" fill-rule=\"evenodd\" fill-opacity=\"1\" /><path clip-path=\"url(#clip210)\" d=\"M1759.99 1454.1 Q1756.38 1454.1 1754.55 1457.66 Q1752.75 1461.2 1752.75 1468.33 Q1752.75 1475.44 1754.55 1479.01 Q1756.38 1482.55 1759.99 1482.55 Q1763.63 1482.55 1765.43 1479.01 Q1767.26 1475.44 1767.26 1468.33 Q1767.26 1461.2 1765.43 1457.66 Q1763.63 1454.1 1759.99 1454.1 M1759.99 1450.39 Q1765.8 1450.39 1768.86 1455 Q1771.94 1459.58 1771.94 1468.33 Q1771.94 1477.06 1768.86 1481.67 Q1765.8 1486.25 1759.99 1486.25 Q1754.18 1486.25 1751.1 1481.67 Q1748.05 1477.06 1748.05 1468.33 Q1748.05 1459.58 1751.1 1455 Q1754.18 1450.39 1759.99 1450.39 Z\" fill=\"#000000\" fill-rule=\"evenodd\" fill-opacity=\"1\" /><path clip-path=\"url(#clip210)\" d=\"M1780.15 1479.7 L1785.04 1479.7 L1785.04 1485.58 L1780.15 1485.58 L1780.15 1479.7 Z\" fill=\"#000000\" fill-rule=\"evenodd\" fill-opacity=\"1\" /><path clip-path=\"url(#clip210)\" d=\"M1794.04 1451.02 L1816.26 1451.02 L1816.26 1453.01 L1803.72 1485.58 L1798.83 1485.58 L1810.64 1454.96 L1794.04 1454.96 L1794.04 1451.02 Z\" fill=\"#000000\" fill-rule=\"evenodd\" fill-opacity=\"1\" /><path clip-path=\"url(#clip210)\" d=\"M1825.43 1451.02 L1843.79 1451.02 L1843.79 1454.96 L1829.71 1454.96 L1829.71 1463.43 Q1830.73 1463.08 1831.75 1462.92 Q1832.77 1462.73 1833.79 1462.73 Q1839.57 1462.73 1842.95 1465.9 Q1846.33 1469.08 1846.33 1474.49 Q1846.33 1480.07 1842.86 1483.17 Q1839.39 1486.25 1833.07 1486.25 Q1830.89 1486.25 1828.62 1485.88 Q1826.38 1485.51 1823.97 1484.77 L1823.97 1480.07 Q1826.06 1481.2 1828.28 1481.76 Q1830.5 1482.32 1832.98 1482.32 Q1836.98 1482.32 1839.32 1480.21 Q1841.66 1478.1 1841.66 1474.49 Q1841.66 1470.88 1839.32 1468.77 Q1836.98 1466.67 1832.98 1466.67 Q1831.1 1466.67 1829.23 1467.08 Q1827.38 1467.5 1825.43 1468.38 L1825.43 1451.02 Z\" fill=\"#000000\" fill-rule=\"evenodd\" fill-opacity=\"1\" /><path clip-path=\"url(#clip210)\" d=\"M2245.3 1481.64 L2252.94 1481.64 L2252.94 1455.28 L2244.63 1456.95 L2244.63 1452.69 L2252.9 1451.02 L2257.57 1451.02 L2257.57 1481.64 L2265.21 1481.64 L2265.21 1485.58 L2245.3 1485.58 L2245.3 1481.64 Z\" fill=\"#000000\" fill-rule=\"evenodd\" fill-opacity=\"1\" /><path clip-path=\"url(#clip210)\" d=\"M2274.65 1479.7 L2279.54 1479.7 L2279.54 1485.58 L2274.65 1485.58 L2274.65 1479.7 Z\" fill=\"#000000\" fill-rule=\"evenodd\" fill-opacity=\"1\" /><path clip-path=\"url(#clip210)\" d=\"M2299.72 1454.1 Q2296.11 1454.1 2294.28 1457.66 Q2292.48 1461.2 2292.48 1468.33 Q2292.48 1475.44 2294.28 1479.01 Q2296.11 1482.55 2299.72 1482.55 Q2303.36 1482.55 2305.16 1479.01 Q2306.99 1475.44 2306.99 1468.33 Q2306.99 1461.2 2305.16 1457.66 Q2303.36 1454.1 2299.72 1454.1 M2299.72 1450.39 Q2305.53 1450.39 2308.59 1455 Q2311.67 1459.58 2311.67 1468.33 Q2311.67 1477.06 2308.59 1481.67 Q2305.53 1486.25 2299.72 1486.25 Q2293.91 1486.25 2290.84 1481.67 Q2287.78 1477.06 2287.78 1468.33 Q2287.78 1459.58 2290.84 1455 Q2293.91 1450.39 2299.72 1450.39 Z\" fill=\"#000000\" fill-rule=\"evenodd\" fill-opacity=\"1\" /><path clip-path=\"url(#clip210)\" d=\"M2329.89 1454.1 Q2326.27 1454.1 2324.45 1457.66 Q2322.64 1461.2 2322.64 1468.33 Q2322.64 1475.44 2324.45 1479.01 Q2326.27 1482.55 2329.89 1482.55 Q2333.52 1482.55 2335.33 1479.01 Q2337.15 1475.44 2337.15 1468.33 Q2337.15 1461.2 2335.33 1457.66 Q2333.52 1454.1 2329.89 1454.1 M2329.89 1450.39 Q2335.7 1450.39 2338.75 1455 Q2341.83 1459.58 2341.83 1468.33 Q2341.83 1477.06 2338.75 1481.67 Q2335.7 1486.25 2329.89 1486.25 Q2324.08 1486.25 2321 1481.67 Q2317.94 1477.06 2317.94 1468.33 Q2317.94 1459.58 2321 1455 Q2324.08 1450.39 2329.89 1450.39 Z\" fill=\"#000000\" fill-rule=\"evenodd\" fill-opacity=\"1\" /><path clip-path=\"url(#clip210)\" d=\"M1300.21 1522.27 L1300.21 1532.4 L1312.27 1532.4 L1312.27 1536.95 L1300.21 1536.95 L1300.21 1556.3 Q1300.21 1560.66 1301.39 1561.9 Q1302.6 1563.14 1306.26 1563.14 L1312.27 1563.14 L1312.27 1568.04 L1306.26 1568.04 Q1299.48 1568.04 1296.9 1565.53 Q1294.32 1562.98 1294.32 1556.3 L1294.32 1536.95 L1290.02 1536.95 L1290.02 1532.4 L1294.32 1532.4 L1294.32 1522.27 L1300.21 1522.27 Z\" fill=\"#000000\" fill-rule=\"evenodd\" fill-opacity=\"1\" /><polyline clip-path=\"url(#clip212)\" style=\"stroke:#000000; stroke-linecap:butt; stroke-linejoin:round; stroke-width:2; stroke-opacity:0.1; fill:none\" points=\"\n",
       "  249.542,1388.47 2352.76,1388.47 \n",
       "  \"/>\n",
       "<polyline clip-path=\"url(#clip212)\" style=\"stroke:#000000; stroke-linecap:butt; stroke-linejoin:round; stroke-width:2; stroke-opacity:0.1; fill:none\" points=\"\n",
       "  249.542,1062.9 2352.76,1062.9 \n",
       "  \"/>\n",
       "<polyline clip-path=\"url(#clip212)\" style=\"stroke:#000000; stroke-linecap:butt; stroke-linejoin:round; stroke-width:2; stroke-opacity:0.1; fill:none\" points=\"\n",
       "  249.542,737.326 2352.76,737.326 \n",
       "  \"/>\n",
       "<polyline clip-path=\"url(#clip212)\" style=\"stroke:#000000; stroke-linecap:butt; stroke-linejoin:round; stroke-width:2; stroke-opacity:0.1; fill:none\" points=\"\n",
       "  249.542,411.756 2352.76,411.756 \n",
       "  \"/>\n",
       "<polyline clip-path=\"url(#clip212)\" style=\"stroke:#000000; stroke-linecap:butt; stroke-linejoin:round; stroke-width:2; stroke-opacity:0.1; fill:none\" points=\"\n",
       "  249.542,86.1857 2352.76,86.1857 \n",
       "  \"/>\n",
       "<polyline clip-path=\"url(#clip210)\" style=\"stroke:#000000; stroke-linecap:butt; stroke-linejoin:round; stroke-width:4; stroke-opacity:1; fill:none\" points=\"\n",
       "  249.542,1423.18 249.542,47.2441 \n",
       "  \"/>\n",
       "<polyline clip-path=\"url(#clip210)\" style=\"stroke:#000000; stroke-linecap:butt; stroke-linejoin:round; stroke-width:4; stroke-opacity:1; fill:none\" points=\"\n",
       "  249.542,1388.47 268.44,1388.47 \n",
       "  \"/>\n",
       "<polyline clip-path=\"url(#clip210)\" style=\"stroke:#000000; stroke-linecap:butt; stroke-linejoin:round; stroke-width:4; stroke-opacity:1; fill:none\" points=\"\n",
       "  249.542,1062.9 268.44,1062.9 \n",
       "  \"/>\n",
       "<polyline clip-path=\"url(#clip210)\" style=\"stroke:#000000; stroke-linecap:butt; stroke-linejoin:round; stroke-width:4; stroke-opacity:1; fill:none\" points=\"\n",
       "  249.542,737.326 268.44,737.326 \n",
       "  \"/>\n",
       "<polyline clip-path=\"url(#clip210)\" style=\"stroke:#000000; stroke-linecap:butt; stroke-linejoin:round; stroke-width:4; stroke-opacity:1; fill:none\" points=\"\n",
       "  249.542,411.756 268.44,411.756 \n",
       "  \"/>\n",
       "<polyline clip-path=\"url(#clip210)\" style=\"stroke:#000000; stroke-linecap:butt; stroke-linejoin:round; stroke-width:4; stroke-opacity:1; fill:none\" points=\"\n",
       "  249.542,86.1857 268.44,86.1857 \n",
       "  \"/>\n",
       "<path clip-path=\"url(#clip210)\" d=\"M126.205 1374.27 Q122.593 1374.27 120.765 1377.83 Q118.959 1381.37 118.959 1388.5 Q118.959 1395.61 120.765 1399.17 Q122.593 1402.71 126.205 1402.71 Q129.839 1402.71 131.644 1399.17 Q133.473 1395.61 133.473 1388.5 Q133.473 1381.37 131.644 1377.83 Q129.839 1374.27 126.205 1374.27 M126.205 1370.56 Q132.015 1370.56 135.07 1375.17 Q138.149 1379.75 138.149 1388.5 Q138.149 1397.23 135.07 1401.83 Q132.015 1406.42 126.205 1406.42 Q120.394 1406.42 117.316 1401.83 Q114.26 1397.23 114.26 1388.5 Q114.26 1379.75 117.316 1375.17 Q120.394 1370.56 126.205 1370.56 Z\" fill=\"#000000\" fill-rule=\"evenodd\" fill-opacity=\"1\" /><path clip-path=\"url(#clip210)\" d=\"M146.366 1399.87 L151.251 1399.87 L151.251 1405.75 L146.366 1405.75 L146.366 1399.87 Z\" fill=\"#000000\" fill-rule=\"evenodd\" fill-opacity=\"1\" /><path clip-path=\"url(#clip210)\" d=\"M171.436 1374.27 Q167.825 1374.27 165.996 1377.83 Q164.19 1381.37 164.19 1388.5 Q164.19 1395.61 165.996 1399.17 Q167.825 1402.71 171.436 1402.71 Q175.07 1402.71 176.876 1399.17 Q178.704 1395.61 178.704 1388.5 Q178.704 1381.37 176.876 1377.83 Q175.07 1374.27 171.436 1374.27 M171.436 1370.56 Q177.246 1370.56 180.301 1375.17 Q183.38 1379.75 183.38 1388.5 Q183.38 1397.23 180.301 1401.83 Q177.246 1406.42 171.436 1406.42 Q165.626 1406.42 162.547 1401.83 Q159.491 1397.23 159.491 1388.5 Q159.491 1379.75 162.547 1375.17 Q165.626 1370.56 171.436 1370.56 Z\" fill=\"#000000\" fill-rule=\"evenodd\" fill-opacity=\"1\" /><path clip-path=\"url(#clip210)\" d=\"M201.598 1374.27 Q197.987 1374.27 196.158 1377.83 Q194.352 1381.37 194.352 1388.5 Q194.352 1395.61 196.158 1399.17 Q197.987 1402.71 201.598 1402.71 Q205.232 1402.71 207.037 1399.17 Q208.866 1395.61 208.866 1388.5 Q208.866 1381.37 207.037 1377.83 Q205.232 1374.27 201.598 1374.27 M201.598 1370.56 Q207.408 1370.56 210.463 1375.17 Q213.542 1379.75 213.542 1388.5 Q213.542 1397.23 210.463 1401.83 Q207.408 1406.42 201.598 1406.42 Q195.787 1406.42 192.709 1401.83 Q189.653 1397.23 189.653 1388.5 Q189.653 1379.75 192.709 1375.17 Q195.787 1370.56 201.598 1370.56 Z\" fill=\"#000000\" fill-rule=\"evenodd\" fill-opacity=\"1\" /><path clip-path=\"url(#clip210)\" d=\"M127.2 1048.7 Q123.589 1048.7 121.76 1052.26 Q119.955 1055.8 119.955 1062.93 Q119.955 1070.04 121.76 1073.6 Q123.589 1077.14 127.2 1077.14 Q130.834 1077.14 132.64 1073.6 Q134.468 1070.04 134.468 1062.93 Q134.468 1055.8 132.64 1052.26 Q130.834 1048.7 127.2 1048.7 M127.2 1044.99 Q133.01 1044.99 136.066 1049.6 Q139.144 1054.18 139.144 1062.93 Q139.144 1071.66 136.066 1076.26 Q133.01 1080.85 127.2 1080.85 Q121.39 1080.85 118.311 1076.26 Q115.256 1071.66 115.256 1062.93 Q115.256 1054.18 118.311 1049.6 Q121.39 1044.99 127.2 1044.99 Z\" fill=\"#000000\" fill-rule=\"evenodd\" fill-opacity=\"1\" /><path clip-path=\"url(#clip210)\" d=\"M147.362 1074.3 L152.246 1074.3 L152.246 1080.18 L147.362 1080.18 L147.362 1074.3 Z\" fill=\"#000000\" fill-rule=\"evenodd\" fill-opacity=\"1\" /><path clip-path=\"url(#clip210)\" d=\"M166.459 1076.24 L182.778 1076.24 L182.778 1080.18 L160.834 1080.18 L160.834 1076.24 Q163.496 1073.49 168.079 1068.86 Q172.686 1064.2 173.866 1062.86 Q176.112 1060.34 176.991 1058.6 Q177.894 1056.84 177.894 1055.15 Q177.894 1052.4 175.95 1050.66 Q174.028 1048.93 170.927 1048.93 Q168.727 1048.93 166.274 1049.69 Q163.843 1050.45 161.065 1052.01 L161.065 1047.28 Q163.89 1046.15 166.343 1045.57 Q168.797 1044.99 170.834 1044.99 Q176.204 1044.99 179.399 1047.68 Q182.593 1050.36 182.593 1054.85 Q182.593 1056.98 181.783 1058.9 Q180.996 1060.8 178.889 1063.39 Q178.311 1064.07 175.209 1067.28 Q172.107 1070.48 166.459 1076.24 Z\" fill=\"#000000\" fill-rule=\"evenodd\" fill-opacity=\"1\" /><path clip-path=\"url(#clip210)\" d=\"M192.639 1045.62 L210.996 1045.62 L210.996 1049.55 L196.922 1049.55 L196.922 1058.02 Q197.94 1057.68 198.959 1057.51 Q199.977 1057.33 200.996 1057.33 Q206.783 1057.33 210.162 1060.5 Q213.542 1063.67 213.542 1069.09 Q213.542 1074.67 210.07 1077.77 Q206.598 1080.85 200.278 1080.85 Q198.102 1080.85 195.834 1080.48 Q193.588 1080.11 191.181 1079.37 L191.181 1074.67 Q193.264 1075.8 195.487 1076.36 Q197.709 1076.91 200.186 1076.91 Q204.19 1076.91 206.528 1074.81 Q208.866 1072.7 208.866 1069.09 Q208.866 1065.48 206.528 1063.37 Q204.19 1061.26 200.186 1061.26 Q198.311 1061.26 196.436 1061.68 Q194.584 1062.1 192.639 1062.98 L192.639 1045.62 Z\" fill=\"#000000\" fill-rule=\"evenodd\" fill-opacity=\"1\" /><path clip-path=\"url(#clip210)\" d=\"M126.205 723.125 Q122.593 723.125 120.765 726.69 Q118.959 730.231 118.959 737.361 Q118.959 744.467 120.765 748.032 Q122.593 751.574 126.205 751.574 Q129.839 751.574 131.644 748.032 Q133.473 744.467 133.473 737.361 Q133.473 730.231 131.644 726.69 Q129.839 723.125 126.205 723.125 M126.205 719.421 Q132.015 719.421 135.07 724.028 Q138.149 728.611 138.149 737.361 Q138.149 746.088 135.07 750.694 Q132.015 755.278 126.205 755.278 Q120.394 755.278 117.316 750.694 Q114.26 746.088 114.26 737.361 Q114.26 728.611 117.316 724.028 Q120.394 719.421 126.205 719.421 Z\" fill=\"#000000\" fill-rule=\"evenodd\" fill-opacity=\"1\" /><path clip-path=\"url(#clip210)\" d=\"M146.366 748.727 L151.251 748.727 L151.251 754.606 L146.366 754.606 L146.366 748.727 Z\" fill=\"#000000\" fill-rule=\"evenodd\" fill-opacity=\"1\" /><path clip-path=\"url(#clip210)\" d=\"M161.482 720.046 L179.839 720.046 L179.839 723.981 L165.765 723.981 L165.765 732.454 Q166.783 732.106 167.802 731.944 Q168.82 731.759 169.839 731.759 Q175.626 731.759 179.005 734.93 Q182.385 738.102 182.385 743.518 Q182.385 749.097 178.913 752.199 Q175.44 755.278 169.121 755.278 Q166.945 755.278 164.677 754.907 Q162.431 754.537 160.024 753.796 L160.024 749.097 Q162.107 750.231 164.329 750.787 Q166.552 751.342 169.028 751.342 Q173.033 751.342 175.371 749.236 Q177.709 747.129 177.709 743.518 Q177.709 739.907 175.371 737.801 Q173.033 735.694 169.028 735.694 Q167.153 735.694 165.278 736.111 Q163.427 736.528 161.482 737.407 L161.482 720.046 Z\" fill=\"#000000\" fill-rule=\"evenodd\" fill-opacity=\"1\" /><path clip-path=\"url(#clip210)\" d=\"M201.598 723.125 Q197.987 723.125 196.158 726.69 Q194.352 730.231 194.352 737.361 Q194.352 744.467 196.158 748.032 Q197.987 751.574 201.598 751.574 Q205.232 751.574 207.037 748.032 Q208.866 744.467 208.866 737.361 Q208.866 730.231 207.037 726.69 Q205.232 723.125 201.598 723.125 M201.598 719.421 Q207.408 719.421 210.463 724.028 Q213.542 728.611 213.542 737.361 Q213.542 746.088 210.463 750.694 Q207.408 755.278 201.598 755.278 Q195.787 755.278 192.709 750.694 Q189.653 746.088 189.653 737.361 Q189.653 728.611 192.709 724.028 Q195.787 719.421 201.598 719.421 Z\" fill=\"#000000\" fill-rule=\"evenodd\" fill-opacity=\"1\" /><path clip-path=\"url(#clip210)\" d=\"M127.2 397.555 Q123.589 397.555 121.76 401.119 Q119.955 404.661 119.955 411.791 Q119.955 418.897 121.76 422.462 Q123.589 426.004 127.2 426.004 Q130.834 426.004 132.64 422.462 Q134.468 418.897 134.468 411.791 Q134.468 404.661 132.64 401.119 Q130.834 397.555 127.2 397.555 M127.2 393.851 Q133.01 393.851 136.066 398.457 Q139.144 403.041 139.144 411.791 Q139.144 420.517 136.066 425.124 Q133.01 429.707 127.2 429.707 Q121.39 429.707 118.311 425.124 Q115.256 420.517 115.256 411.791 Q115.256 403.041 118.311 398.457 Q121.39 393.851 127.2 393.851 Z\" fill=\"#000000\" fill-rule=\"evenodd\" fill-opacity=\"1\" /><path clip-path=\"url(#clip210)\" d=\"M147.362 423.156 L152.246 423.156 L152.246 429.036 L147.362 429.036 L147.362 423.156 Z\" fill=\"#000000\" fill-rule=\"evenodd\" fill-opacity=\"1\" /><path clip-path=\"url(#clip210)\" d=\"M161.251 394.476 L183.473 394.476 L183.473 396.467 L170.927 429.036 L166.042 429.036 L177.848 398.411 L161.251 398.411 L161.251 394.476 Z\" fill=\"#000000\" fill-rule=\"evenodd\" fill-opacity=\"1\" /><path clip-path=\"url(#clip210)\" d=\"M192.639 394.476 L210.996 394.476 L210.996 398.411 L196.922 398.411 L196.922 406.883 Q197.94 406.536 198.959 406.374 Q199.977 406.189 200.996 406.189 Q206.783 406.189 210.162 409.36 Q213.542 412.531 213.542 417.948 Q213.542 423.527 210.07 426.629 Q206.598 429.707 200.278 429.707 Q198.102 429.707 195.834 429.337 Q193.588 428.967 191.181 428.226 L191.181 423.527 Q193.264 424.661 195.487 425.217 Q197.709 425.772 200.186 425.772 Q204.19 425.772 206.528 423.666 Q208.866 421.559 208.866 417.948 Q208.866 414.337 206.528 412.231 Q204.19 410.124 200.186 410.124 Q198.311 410.124 196.436 410.541 Q194.584 410.957 192.639 411.837 L192.639 394.476 Z\" fill=\"#000000\" fill-rule=\"evenodd\" fill-opacity=\"1\" /><path clip-path=\"url(#clip210)\" d=\"M117.015 99.5305 L124.654 99.5305 L124.654 73.1649 L116.343 74.8316 L116.343 70.5723 L124.607 68.9057 L129.283 68.9057 L129.283 99.5305 L136.922 99.5305 L136.922 103.466 L117.015 103.466 L117.015 99.5305 Z\" fill=\"#000000\" fill-rule=\"evenodd\" fill-opacity=\"1\" /><path clip-path=\"url(#clip210)\" d=\"M146.366 97.5861 L151.251 97.5861 L151.251 103.466 L146.366 103.466 L146.366 97.5861 Z\" fill=\"#000000\" fill-rule=\"evenodd\" fill-opacity=\"1\" /><path clip-path=\"url(#clip210)\" d=\"M171.436 71.9844 Q167.825 71.9844 165.996 75.5492 Q164.19 79.0908 164.19 86.2204 Q164.19 93.3268 165.996 96.8916 Q167.825 100.433 171.436 100.433 Q175.07 100.433 176.876 96.8916 Q178.704 93.3268 178.704 86.2204 Q178.704 79.0908 176.876 75.5492 Q175.07 71.9844 171.436 71.9844 M171.436 68.2807 Q177.246 68.2807 180.301 72.8871 Q183.38 77.4704 183.38 86.2204 Q183.38 94.9472 180.301 99.5537 Q177.246 104.137 171.436 104.137 Q165.626 104.137 162.547 99.5537 Q159.491 94.9472 159.491 86.2204 Q159.491 77.4704 162.547 72.8871 Q165.626 68.2807 171.436 68.2807 Z\" fill=\"#000000\" fill-rule=\"evenodd\" fill-opacity=\"1\" /><path clip-path=\"url(#clip210)\" d=\"M201.598 71.9844 Q197.987 71.9844 196.158 75.5492 Q194.352 79.0908 194.352 86.2204 Q194.352 93.3268 196.158 96.8916 Q197.987 100.433 201.598 100.433 Q205.232 100.433 207.037 96.8916 Q208.866 93.3268 208.866 86.2204 Q208.866 79.0908 207.037 75.5492 Q205.232 71.9844 201.598 71.9844 M201.598 68.2807 Q207.408 68.2807 210.463 72.8871 Q213.542 77.4704 213.542 86.2204 Q213.542 94.9472 210.463 99.5537 Q207.408 104.137 201.598 104.137 Q195.787 104.137 192.709 99.5537 Q189.653 94.9472 189.653 86.2204 Q189.653 77.4704 192.709 72.8871 Q195.787 68.2807 201.598 68.2807 Z\" fill=\"#000000\" fill-rule=\"evenodd\" fill-opacity=\"1\" /><path clip-path=\"url(#clip210)\" d=\"M49.9359 788.509 L28.3562 788.509 L28.3562 782.652 L49.7131 782.652 Q54.7739 782.652 57.3202 780.679 Q59.8346 778.706 59.8346 774.759 Q59.8346 770.016 56.8109 767.279 Q53.7872 764.51 48.5673 764.51 L28.3562 764.51 L28.3562 758.654 L64.0042 758.654 L64.0042 764.51 L58.5296 764.51 Q61.7762 766.643 63.3676 769.475 Q64.9272 772.276 64.9272 776 Q64.9272 782.143 61.1078 785.326 Q57.2883 788.509 49.9359 788.509 M27.4968 773.772 L27.4968 773.772 Z\" fill=\"#000000\" fill-rule=\"evenodd\" fill-opacity=\"1\" /><path clip-path=\"url(#clip210)\" d=\"M14.5426 732.522 Q21.8632 736.787 29.0246 738.856 Q36.186 740.925 43.5384 740.925 Q50.8908 740.925 58.1159 738.856 Q65.3091 736.756 72.5979 732.522 L72.5979 737.615 Q65.1182 742.389 57.8931 744.776 Q50.668 747.132 43.5384 747.132 Q36.4406 747.132 29.2474 744.776 Q22.0542 742.421 14.5426 737.615 L14.5426 732.522 Z\" fill=\"#000000\" fill-rule=\"evenodd\" fill-opacity=\"1\" /><path clip-path=\"url(#clip210)\" d=\"M18.2347 715.367 L28.3562 715.367 L28.3562 703.304 L32.9077 703.304 L32.9077 715.367 L52.2594 715.367 Q56.6199 715.367 57.8613 714.189 Q59.1026 712.98 59.1026 709.319 L59.1026 703.304 L64.0042 703.304 L64.0042 709.319 Q64.0042 716.099 61.4897 718.677 Q58.9434 721.255 52.2594 721.255 L32.9077 721.255 L32.9077 725.552 L28.3562 725.552 L28.3562 721.255 L18.2347 721.255 L18.2347 715.367 Z\" fill=\"#000000\" fill-rule=\"evenodd\" fill-opacity=\"1\" /><path clip-path=\"url(#clip210)\" d=\"M14.5426 696.524 L14.5426 691.432 Q22.0542 686.658 29.2474 684.302 Q36.4406 681.915 43.5384 681.915 Q50.668 681.915 57.8931 684.302 Q65.1182 686.658 72.5979 691.432 L72.5979 696.524 Q65.3091 692.291 58.1159 690.222 Q50.8908 688.122 43.5384 688.122 Q36.186 688.122 29.0246 690.222 Q21.8632 692.291 14.5426 696.524 Z\" fill=\"#000000\" fill-rule=\"evenodd\" fill-opacity=\"1\" /><polyline clip-path=\"url(#clip212)\" style=\"stroke:#009af9; stroke-linecap:butt; stroke-linejoin:round; stroke-width:8; stroke-opacity:1; fill:none\" points=\"\n",
       "  309.067,86.1857 320.405,128.134 333.631,175.364 350.042,231.517 368.685,292.158 389.839,357.128 413.004,423.865 438.102,491.304 464.827,557.941 493.026,622.896 \n",
       "  522.503,685.368 553.124,744.872 584.761,801.067 617.321,853.782 650.728,902.956 684.926,948.613 719.874,990.839 755.545,1029.76 791.924,1065.53 829.004,1098.33 \n",
       "  866.789,1128.32 905.288,1155.69 944.517,1180.62 984.496,1203.29 1025.25,1223.85 1066.81,1242.47 1109.22,1259.29 1152.5,1274.47 1196.7,1288.13 1241.87,1300.4 \n",
       "  1288.05,1311.4 1335.29,1321.23 1383.66,1329.99 1433.21,1337.79 1484.01,1344.7 1536.13,1350.82 1589.64,1356.21 1644.62,1360.95 1701.17,1365.09 1759.37,1368.71 \n",
       "  1819.33,1371.85 1881.15,1374.57 1944.97,1376.91 2010.9,1378.91 2079.1,1380.62 2149.73,1382.07 2222.94,1383.29 2293.23,1384.24 \n",
       "  \"/>\n",
       "</svg>\n"
      ]
     },
     "execution_count": 38,
     "metadata": {},
     "output_type": "execute_result"
    }
   ],
   "source": [
    "using OrdinaryDiffEq, Measurements, Plots\n",
    "\n",
    "#Half-life of Carbon-14 is 5730 years.\n",
    "c = big(5.730) # now a BigFloat\n",
    "\n",
    "#Setup\n",
    "u0 = big(1.0) # now a BigFloat\n",
    "tspan = (0.0, 1.0)\n",
    "\n",
    "#Define the problem\n",
    "radioactivedecay(u,p,t) = -c*u\n",
    "\n",
    "#Pass to solver\n",
    "prob = ODEProblem(radioactivedecay,u0,tspan)\n",
    "sol = solve(prob, Tsit5(), reltol=1e-8, abstol=1e-8);\n",
    "\n",
    "plot(sol.t, sol.u, ylabel=\"u(t)\", xlabel=\"t\", lw=2, legend=false)"
   ]
  },
  {
   "cell_type": "code",
   "execution_count": 39,
   "metadata": {},
   "outputs": [],
   "source": [
    "sol = solve(prob, Tsit5(), reltol=1e-8, abstol=1e-8);"
   ]
  },
  {
   "cell_type": "code",
   "execution_count": 40,
   "metadata": {},
   "outputs": [
    {
     "data": {
      "image/svg+xml": [
       "<?xml version=\"1.0\" encoding=\"utf-8\"?>\n",
       "<svg xmlns=\"http://www.w3.org/2000/svg\" xmlns:xlink=\"http://www.w3.org/1999/xlink\" width=\"600\" height=\"400\" viewBox=\"0 0 2400 1600\">\n",
       "<defs>\n",
       "  <clipPath id=\"clip250\">\n",
       "    <rect x=\"0\" y=\"0\" width=\"2400\" height=\"1600\"/>\n",
       "  </clipPath>\n",
       "</defs>\n",
       "<path clip-path=\"url(#clip250)\" d=\"\n",
       "M0 1600 L2400 1600 L2400 0 L0 0  Z\n",
       "  \" fill=\"#ffffff\" fill-rule=\"evenodd\" fill-opacity=\"1\"/>\n",
       "<defs>\n",
       "  <clipPath id=\"clip251\">\n",
       "    <rect x=\"480\" y=\"0\" width=\"1681\" height=\"1600\"/>\n",
       "  </clipPath>\n",
       "</defs>\n",
       "<path clip-path=\"url(#clip250)\" d=\"\n",
       "M249.542 1423.18 L2352.76 1423.18 L2352.76 47.2441 L249.542 47.2441  Z\n",
       "  \" fill=\"#ffffff\" fill-rule=\"evenodd\" fill-opacity=\"1\"/>\n",
       "<defs>\n",
       "  <clipPath id=\"clip252\">\n",
       "    <rect x=\"249\" y=\"47\" width=\"2104\" height=\"1377\"/>\n",
       "  </clipPath>\n",
       "</defs>\n",
       "<polyline clip-path=\"url(#clip252)\" style=\"stroke:#000000; stroke-linecap:butt; stroke-linejoin:round; stroke-width:2; stroke-opacity:0.1; fill:none\" points=\"\n",
       "  309.067,1423.18 309.067,47.2441 \n",
       "  \"/>\n",
       "<polyline clip-path=\"url(#clip252)\" style=\"stroke:#000000; stroke-linecap:butt; stroke-linejoin:round; stroke-width:2; stroke-opacity:0.1; fill:none\" points=\"\n",
       "  805.108,1423.18 805.108,47.2441 \n",
       "  \"/>\n",
       "<polyline clip-path=\"url(#clip252)\" style=\"stroke:#000000; stroke-linecap:butt; stroke-linejoin:round; stroke-width:2; stroke-opacity:0.1; fill:none\" points=\"\n",
       "  1301.15,1423.18 1301.15,47.2441 \n",
       "  \"/>\n",
       "<polyline clip-path=\"url(#clip252)\" style=\"stroke:#000000; stroke-linecap:butt; stroke-linejoin:round; stroke-width:2; stroke-opacity:0.1; fill:none\" points=\"\n",
       "  1797.19,1423.18 1797.19,47.2441 \n",
       "  \"/>\n",
       "<polyline clip-path=\"url(#clip252)\" style=\"stroke:#000000; stroke-linecap:butt; stroke-linejoin:round; stroke-width:2; stroke-opacity:0.1; fill:none\" points=\"\n",
       "  2293.23,1423.18 2293.23,47.2441 \n",
       "  \"/>\n",
       "<polyline clip-path=\"url(#clip250)\" style=\"stroke:#000000; stroke-linecap:butt; stroke-linejoin:round; stroke-width:4; stroke-opacity:1; fill:none\" points=\"\n",
       "  249.542,1423.18 2352.76,1423.18 \n",
       "  \"/>\n",
       "<polyline clip-path=\"url(#clip250)\" style=\"stroke:#000000; stroke-linecap:butt; stroke-linejoin:round; stroke-width:4; stroke-opacity:1; fill:none\" points=\"\n",
       "  309.067,1423.18 309.067,1404.28 \n",
       "  \"/>\n",
       "<polyline clip-path=\"url(#clip250)\" style=\"stroke:#000000; stroke-linecap:butt; stroke-linejoin:round; stroke-width:4; stroke-opacity:1; fill:none\" points=\"\n",
       "  805.108,1423.18 805.108,1404.28 \n",
       "  \"/>\n",
       "<polyline clip-path=\"url(#clip250)\" style=\"stroke:#000000; stroke-linecap:butt; stroke-linejoin:round; stroke-width:4; stroke-opacity:1; fill:none\" points=\"\n",
       "  1301.15,1423.18 1301.15,1404.28 \n",
       "  \"/>\n",
       "<polyline clip-path=\"url(#clip250)\" style=\"stroke:#000000; stroke-linecap:butt; stroke-linejoin:round; stroke-width:4; stroke-opacity:1; fill:none\" points=\"\n",
       "  1797.19,1423.18 1797.19,1404.28 \n",
       "  \"/>\n",
       "<polyline clip-path=\"url(#clip250)\" style=\"stroke:#000000; stroke-linecap:butt; stroke-linejoin:round; stroke-width:4; stroke-opacity:1; fill:none\" points=\"\n",
       "  2293.23,1423.18 2293.23,1404.28 \n",
       "  \"/>\n",
       "<path clip-path=\"url(#clip250)\" d=\"M271.37 1454.1 Q267.759 1454.1 265.931 1457.66 Q264.125 1461.2 264.125 1468.33 Q264.125 1475.44 265.931 1479.01 Q267.759 1482.55 271.37 1482.55 Q275.005 1482.55 276.81 1479.01 Q278.639 1475.44 278.639 1468.33 Q278.639 1461.2 276.81 1457.66 Q275.005 1454.1 271.37 1454.1 M271.37 1450.39 Q277.181 1450.39 280.236 1455 Q283.315 1459.58 283.315 1468.33 Q283.315 1477.06 280.236 1481.67 Q277.181 1486.25 271.37 1486.25 Q265.56 1486.25 262.482 1481.67 Q259.426 1477.06 259.426 1468.33 Q259.426 1459.58 262.482 1455 Q265.56 1450.39 271.37 1450.39 Z\" fill=\"#000000\" fill-rule=\"evenodd\" fill-opacity=\"1\" /><path clip-path=\"url(#clip250)\" d=\"M291.532 1479.7 L296.417 1479.7 L296.417 1485.58 L291.532 1485.58 L291.532 1479.7 Z\" fill=\"#000000\" fill-rule=\"evenodd\" fill-opacity=\"1\" /><path clip-path=\"url(#clip250)\" d=\"M316.602 1454.1 Q312.991 1454.1 311.162 1457.66 Q309.356 1461.2 309.356 1468.33 Q309.356 1475.44 311.162 1479.01 Q312.991 1482.55 316.602 1482.55 Q320.236 1482.55 322.041 1479.01 Q323.87 1475.44 323.87 1468.33 Q323.87 1461.2 322.041 1457.66 Q320.236 1454.1 316.602 1454.1 M316.602 1450.39 Q322.412 1450.39 325.467 1455 Q328.546 1459.58 328.546 1468.33 Q328.546 1477.06 325.467 1481.67 Q322.412 1486.25 316.602 1486.25 Q310.791 1486.25 307.713 1481.67 Q304.657 1477.06 304.657 1468.33 Q304.657 1459.58 307.713 1455 Q310.791 1450.39 316.602 1450.39 Z\" fill=\"#000000\" fill-rule=\"evenodd\" fill-opacity=\"1\" /><path clip-path=\"url(#clip250)\" d=\"M346.764 1454.1 Q343.152 1454.1 341.324 1457.66 Q339.518 1461.2 339.518 1468.33 Q339.518 1475.44 341.324 1479.01 Q343.152 1482.55 346.764 1482.55 Q350.398 1482.55 352.203 1479.01 Q354.032 1475.44 354.032 1468.33 Q354.032 1461.2 352.203 1457.66 Q350.398 1454.1 346.764 1454.1 M346.764 1450.39 Q352.574 1450.39 355.629 1455 Q358.708 1459.58 358.708 1468.33 Q358.708 1477.06 355.629 1481.67 Q352.574 1486.25 346.764 1486.25 Q340.953 1486.25 337.875 1481.67 Q334.819 1477.06 334.819 1468.33 Q334.819 1459.58 337.875 1455 Q340.953 1450.39 346.764 1450.39 Z\" fill=\"#000000\" fill-rule=\"evenodd\" fill-opacity=\"1\" /><path clip-path=\"url(#clip250)\" d=\"M767.909 1454.1 Q764.298 1454.1 762.469 1457.66 Q760.664 1461.2 760.664 1468.33 Q760.664 1475.44 762.469 1479.01 Q764.298 1482.55 767.909 1482.55 Q771.543 1482.55 773.349 1479.01 Q775.178 1475.44 775.178 1468.33 Q775.178 1461.2 773.349 1457.66 Q771.543 1454.1 767.909 1454.1 M767.909 1450.39 Q773.719 1450.39 776.775 1455 Q779.853 1459.58 779.853 1468.33 Q779.853 1477.06 776.775 1481.67 Q773.719 1486.25 767.909 1486.25 Q762.099 1486.25 759.02 1481.67 Q755.965 1477.06 755.965 1468.33 Q755.965 1459.58 759.02 1455 Q762.099 1450.39 767.909 1450.39 Z\" fill=\"#000000\" fill-rule=\"evenodd\" fill-opacity=\"1\" /><path clip-path=\"url(#clip250)\" d=\"M788.071 1479.7 L792.955 1479.7 L792.955 1485.58 L788.071 1485.58 L788.071 1479.7 Z\" fill=\"#000000\" fill-rule=\"evenodd\" fill-opacity=\"1\" /><path clip-path=\"url(#clip250)\" d=\"M807.168 1481.64 L823.487 1481.64 L823.487 1485.58 L801.543 1485.58 L801.543 1481.64 Q804.205 1478.89 808.788 1474.26 Q813.395 1469.61 814.576 1468.27 Q816.821 1465.74 817.7 1464.01 Q818.603 1462.25 818.603 1460.56 Q818.603 1457.8 816.659 1456.07 Q814.738 1454.33 811.636 1454.33 Q809.437 1454.33 806.983 1455.09 Q804.552 1455.86 801.775 1457.41 L801.775 1452.69 Q804.599 1451.55 807.052 1450.97 Q809.506 1450.39 811.543 1450.39 Q816.913 1450.39 820.108 1453.08 Q823.302 1455.77 823.302 1460.26 Q823.302 1462.39 822.492 1464.31 Q821.705 1466.2 819.599 1468.8 Q819.02 1469.47 815.918 1472.69 Q812.816 1475.88 807.168 1481.64 Z\" fill=\"#000000\" fill-rule=\"evenodd\" fill-opacity=\"1\" /><path clip-path=\"url(#clip250)\" d=\"M833.349 1451.02 L851.705 1451.02 L851.705 1454.96 L837.631 1454.96 L837.631 1463.43 Q838.649 1463.08 839.668 1462.92 Q840.686 1462.73 841.705 1462.73 Q847.492 1462.73 850.872 1465.9 Q854.251 1469.08 854.251 1474.49 Q854.251 1480.07 850.779 1483.17 Q847.307 1486.25 840.987 1486.25 Q838.811 1486.25 836.543 1485.88 Q834.298 1485.51 831.89 1484.77 L831.89 1480.07 Q833.974 1481.2 836.196 1481.76 Q838.418 1482.32 840.895 1482.32 Q844.899 1482.32 847.237 1480.21 Q849.575 1478.1 849.575 1474.49 Q849.575 1470.88 847.237 1468.77 Q844.899 1466.67 840.895 1466.67 Q839.02 1466.67 837.145 1467.08 Q835.293 1467.5 833.349 1468.38 L833.349 1451.02 Z\" fill=\"#000000\" fill-rule=\"evenodd\" fill-opacity=\"1\" /><path clip-path=\"url(#clip250)\" d=\"M1263.45 1454.1 Q1259.84 1454.1 1258.01 1457.66 Q1256.21 1461.2 1256.21 1468.33 Q1256.21 1475.44 1258.01 1479.01 Q1259.84 1482.55 1263.45 1482.55 Q1267.09 1482.55 1268.89 1479.01 Q1270.72 1475.44 1270.72 1468.33 Q1270.72 1461.2 1268.89 1457.66 Q1267.09 1454.1 1263.45 1454.1 M1263.45 1450.39 Q1269.26 1450.39 1272.32 1455 Q1275.4 1459.58 1275.4 1468.33 Q1275.4 1477.06 1272.32 1481.67 Q1269.26 1486.25 1263.45 1486.25 Q1257.64 1486.25 1254.56 1481.67 Q1251.51 1477.06 1251.51 1468.33 Q1251.51 1459.58 1254.56 1455 Q1257.64 1450.39 1263.45 1450.39 Z\" fill=\"#000000\" fill-rule=\"evenodd\" fill-opacity=\"1\" /><path clip-path=\"url(#clip250)\" d=\"M1283.61 1479.7 L1288.5 1479.7 L1288.5 1485.58 L1283.61 1485.58 L1283.61 1479.7 Z\" fill=\"#000000\" fill-rule=\"evenodd\" fill-opacity=\"1\" /><path clip-path=\"url(#clip250)\" d=\"M1298.73 1451.02 L1317.09 1451.02 L1317.09 1454.96 L1303.01 1454.96 L1303.01 1463.43 Q1304.03 1463.08 1305.05 1462.92 Q1306.07 1462.73 1307.09 1462.73 Q1312.87 1462.73 1316.25 1465.9 Q1319.63 1469.08 1319.63 1474.49 Q1319.63 1480.07 1316.16 1483.17 Q1312.69 1486.25 1306.37 1486.25 Q1304.19 1486.25 1301.92 1485.88 Q1299.68 1485.51 1297.27 1484.77 L1297.27 1480.07 Q1299.35 1481.2 1301.58 1481.76 Q1303.8 1482.32 1306.28 1482.32 Q1310.28 1482.32 1312.62 1480.21 Q1314.96 1478.1 1314.96 1474.49 Q1314.96 1470.88 1312.62 1468.77 Q1310.28 1466.67 1306.28 1466.67 Q1304.4 1466.67 1302.53 1467.08 Q1300.67 1467.5 1298.73 1468.38 L1298.73 1451.02 Z\" fill=\"#000000\" fill-rule=\"evenodd\" fill-opacity=\"1\" /><path clip-path=\"url(#clip250)\" d=\"M1338.85 1454.1 Q1335.23 1454.1 1333.41 1457.66 Q1331.6 1461.2 1331.6 1468.33 Q1331.6 1475.44 1333.41 1479.01 Q1335.23 1482.55 1338.85 1482.55 Q1342.48 1482.55 1344.29 1479.01 Q1346.11 1475.44 1346.11 1468.33 Q1346.11 1461.2 1344.29 1457.66 Q1342.48 1454.1 1338.85 1454.1 M1338.85 1450.39 Q1344.66 1450.39 1347.71 1455 Q1350.79 1459.58 1350.79 1468.33 Q1350.79 1477.06 1347.71 1481.67 Q1344.66 1486.25 1338.85 1486.25 Q1333.04 1486.25 1329.96 1481.67 Q1326.9 1477.06 1326.9 1468.33 Q1326.9 1459.58 1329.96 1455 Q1333.04 1450.39 1338.85 1450.39 Z\" fill=\"#000000\" fill-rule=\"evenodd\" fill-opacity=\"1\" /><path clip-path=\"url(#clip250)\" d=\"M1759.99 1454.1 Q1756.38 1454.1 1754.55 1457.66 Q1752.75 1461.2 1752.75 1468.33 Q1752.75 1475.44 1754.55 1479.01 Q1756.38 1482.55 1759.99 1482.55 Q1763.63 1482.55 1765.43 1479.01 Q1767.26 1475.44 1767.26 1468.33 Q1767.26 1461.2 1765.43 1457.66 Q1763.63 1454.1 1759.99 1454.1 M1759.99 1450.39 Q1765.8 1450.39 1768.86 1455 Q1771.94 1459.58 1771.94 1468.33 Q1771.94 1477.06 1768.86 1481.67 Q1765.8 1486.25 1759.99 1486.25 Q1754.18 1486.25 1751.1 1481.67 Q1748.05 1477.06 1748.05 1468.33 Q1748.05 1459.58 1751.1 1455 Q1754.18 1450.39 1759.99 1450.39 Z\" fill=\"#000000\" fill-rule=\"evenodd\" fill-opacity=\"1\" /><path clip-path=\"url(#clip250)\" d=\"M1780.15 1479.7 L1785.04 1479.7 L1785.04 1485.58 L1780.15 1485.58 L1780.15 1479.7 Z\" fill=\"#000000\" fill-rule=\"evenodd\" fill-opacity=\"1\" /><path clip-path=\"url(#clip250)\" d=\"M1794.04 1451.02 L1816.26 1451.02 L1816.26 1453.01 L1803.72 1485.58 L1798.83 1485.58 L1810.64 1454.96 L1794.04 1454.96 L1794.04 1451.02 Z\" fill=\"#000000\" fill-rule=\"evenodd\" fill-opacity=\"1\" /><path clip-path=\"url(#clip250)\" d=\"M1825.43 1451.02 L1843.79 1451.02 L1843.79 1454.96 L1829.71 1454.96 L1829.71 1463.43 Q1830.73 1463.08 1831.75 1462.92 Q1832.77 1462.73 1833.79 1462.73 Q1839.57 1462.73 1842.95 1465.9 Q1846.33 1469.08 1846.33 1474.49 Q1846.33 1480.07 1842.86 1483.17 Q1839.39 1486.25 1833.07 1486.25 Q1830.89 1486.25 1828.62 1485.88 Q1826.38 1485.51 1823.97 1484.77 L1823.97 1480.07 Q1826.06 1481.2 1828.28 1481.76 Q1830.5 1482.32 1832.98 1482.32 Q1836.98 1482.32 1839.32 1480.21 Q1841.66 1478.1 1841.66 1474.49 Q1841.66 1470.88 1839.32 1468.77 Q1836.98 1466.67 1832.98 1466.67 Q1831.1 1466.67 1829.23 1467.08 Q1827.38 1467.5 1825.43 1468.38 L1825.43 1451.02 Z\" fill=\"#000000\" fill-rule=\"evenodd\" fill-opacity=\"1\" /><path clip-path=\"url(#clip250)\" d=\"M2245.3 1481.64 L2252.94 1481.64 L2252.94 1455.28 L2244.63 1456.95 L2244.63 1452.69 L2252.9 1451.02 L2257.57 1451.02 L2257.57 1481.64 L2265.21 1481.64 L2265.21 1485.58 L2245.3 1485.58 L2245.3 1481.64 Z\" fill=\"#000000\" fill-rule=\"evenodd\" fill-opacity=\"1\" /><path clip-path=\"url(#clip250)\" d=\"M2274.65 1479.7 L2279.54 1479.7 L2279.54 1485.58 L2274.65 1485.58 L2274.65 1479.7 Z\" fill=\"#000000\" fill-rule=\"evenodd\" fill-opacity=\"1\" /><path clip-path=\"url(#clip250)\" d=\"M2299.72 1454.1 Q2296.11 1454.1 2294.28 1457.66 Q2292.48 1461.2 2292.48 1468.33 Q2292.48 1475.44 2294.28 1479.01 Q2296.11 1482.55 2299.72 1482.55 Q2303.36 1482.55 2305.16 1479.01 Q2306.99 1475.44 2306.99 1468.33 Q2306.99 1461.2 2305.16 1457.66 Q2303.36 1454.1 2299.72 1454.1 M2299.72 1450.39 Q2305.53 1450.39 2308.59 1455 Q2311.67 1459.58 2311.67 1468.33 Q2311.67 1477.06 2308.59 1481.67 Q2305.53 1486.25 2299.72 1486.25 Q2293.91 1486.25 2290.84 1481.67 Q2287.78 1477.06 2287.78 1468.33 Q2287.78 1459.58 2290.84 1455 Q2293.91 1450.39 2299.72 1450.39 Z\" fill=\"#000000\" fill-rule=\"evenodd\" fill-opacity=\"1\" /><path clip-path=\"url(#clip250)\" d=\"M2329.89 1454.1 Q2326.27 1454.1 2324.45 1457.66 Q2322.64 1461.2 2322.64 1468.33 Q2322.64 1475.44 2324.45 1479.01 Q2326.27 1482.55 2329.89 1482.55 Q2333.52 1482.55 2335.33 1479.01 Q2337.15 1475.44 2337.15 1468.33 Q2337.15 1461.2 2335.33 1457.66 Q2333.52 1454.1 2329.89 1454.1 M2329.89 1450.39 Q2335.7 1450.39 2338.75 1455 Q2341.83 1459.58 2341.83 1468.33 Q2341.83 1477.06 2338.75 1481.67 Q2335.7 1486.25 2329.89 1486.25 Q2324.08 1486.25 2321 1481.67 Q2317.94 1477.06 2317.94 1468.33 Q2317.94 1459.58 2321 1455 Q2324.08 1450.39 2329.89 1450.39 Z\" fill=\"#000000\" fill-rule=\"evenodd\" fill-opacity=\"1\" /><path clip-path=\"url(#clip250)\" d=\"M1300.21 1522.27 L1300.21 1532.4 L1312.27 1532.4 L1312.27 1536.95 L1300.21 1536.95 L1300.21 1556.3 Q1300.21 1560.66 1301.39 1561.9 Q1302.6 1563.14 1306.26 1563.14 L1312.27 1563.14 L1312.27 1568.04 L1306.26 1568.04 Q1299.48 1568.04 1296.9 1565.53 Q1294.32 1562.98 1294.32 1556.3 L1294.32 1536.95 L1290.02 1536.95 L1290.02 1532.4 L1294.32 1532.4 L1294.32 1522.27 L1300.21 1522.27 Z\" fill=\"#000000\" fill-rule=\"evenodd\" fill-opacity=\"1\" /><polyline clip-path=\"url(#clip252)\" style=\"stroke:#000000; stroke-linecap:butt; stroke-linejoin:round; stroke-width:2; stroke-opacity:0.1; fill:none\" points=\"\n",
       "  249.542,1388.47 2352.76,1388.47 \n",
       "  \"/>\n",
       "<polyline clip-path=\"url(#clip252)\" style=\"stroke:#000000; stroke-linecap:butt; stroke-linejoin:round; stroke-width:2; stroke-opacity:0.1; fill:none\" points=\"\n",
       "  249.542,1062.9 2352.76,1062.9 \n",
       "  \"/>\n",
       "<polyline clip-path=\"url(#clip252)\" style=\"stroke:#000000; stroke-linecap:butt; stroke-linejoin:round; stroke-width:2; stroke-opacity:0.1; fill:none\" points=\"\n",
       "  249.542,737.326 2352.76,737.326 \n",
       "  \"/>\n",
       "<polyline clip-path=\"url(#clip252)\" style=\"stroke:#000000; stroke-linecap:butt; stroke-linejoin:round; stroke-width:2; stroke-opacity:0.1; fill:none\" points=\"\n",
       "  249.542,411.756 2352.76,411.756 \n",
       "  \"/>\n",
       "<polyline clip-path=\"url(#clip252)\" style=\"stroke:#000000; stroke-linecap:butt; stroke-linejoin:round; stroke-width:2; stroke-opacity:0.1; fill:none\" points=\"\n",
       "  249.542,86.1857 2352.76,86.1857 \n",
       "  \"/>\n",
       "<polyline clip-path=\"url(#clip250)\" style=\"stroke:#000000; stroke-linecap:butt; stroke-linejoin:round; stroke-width:4; stroke-opacity:1; fill:none\" points=\"\n",
       "  249.542,1423.18 249.542,47.2441 \n",
       "  \"/>\n",
       "<polyline clip-path=\"url(#clip250)\" style=\"stroke:#000000; stroke-linecap:butt; stroke-linejoin:round; stroke-width:4; stroke-opacity:1; fill:none\" points=\"\n",
       "  249.542,1388.47 268.44,1388.47 \n",
       "  \"/>\n",
       "<polyline clip-path=\"url(#clip250)\" style=\"stroke:#000000; stroke-linecap:butt; stroke-linejoin:round; stroke-width:4; stroke-opacity:1; fill:none\" points=\"\n",
       "  249.542,1062.9 268.44,1062.9 \n",
       "  \"/>\n",
       "<polyline clip-path=\"url(#clip250)\" style=\"stroke:#000000; stroke-linecap:butt; stroke-linejoin:round; stroke-width:4; stroke-opacity:1; fill:none\" points=\"\n",
       "  249.542,737.326 268.44,737.326 \n",
       "  \"/>\n",
       "<polyline clip-path=\"url(#clip250)\" style=\"stroke:#000000; stroke-linecap:butt; stroke-linejoin:round; stroke-width:4; stroke-opacity:1; fill:none\" points=\"\n",
       "  249.542,411.756 268.44,411.756 \n",
       "  \"/>\n",
       "<polyline clip-path=\"url(#clip250)\" style=\"stroke:#000000; stroke-linecap:butt; stroke-linejoin:round; stroke-width:4; stroke-opacity:1; fill:none\" points=\"\n",
       "  249.542,86.1857 268.44,86.1857 \n",
       "  \"/>\n",
       "<path clip-path=\"url(#clip250)\" d=\"M126.205 1374.27 Q122.593 1374.27 120.765 1377.83 Q118.959 1381.37 118.959 1388.5 Q118.959 1395.61 120.765 1399.17 Q122.593 1402.71 126.205 1402.71 Q129.839 1402.71 131.644 1399.17 Q133.473 1395.61 133.473 1388.5 Q133.473 1381.37 131.644 1377.83 Q129.839 1374.27 126.205 1374.27 M126.205 1370.56 Q132.015 1370.56 135.07 1375.17 Q138.149 1379.75 138.149 1388.5 Q138.149 1397.23 135.07 1401.83 Q132.015 1406.42 126.205 1406.42 Q120.394 1406.42 117.316 1401.83 Q114.26 1397.23 114.26 1388.5 Q114.26 1379.75 117.316 1375.17 Q120.394 1370.56 126.205 1370.56 Z\" fill=\"#000000\" fill-rule=\"evenodd\" fill-opacity=\"1\" /><path clip-path=\"url(#clip250)\" d=\"M146.366 1399.87 L151.251 1399.87 L151.251 1405.75 L146.366 1405.75 L146.366 1399.87 Z\" fill=\"#000000\" fill-rule=\"evenodd\" fill-opacity=\"1\" /><path clip-path=\"url(#clip250)\" d=\"M171.436 1374.27 Q167.825 1374.27 165.996 1377.83 Q164.19 1381.37 164.19 1388.5 Q164.19 1395.61 165.996 1399.17 Q167.825 1402.71 171.436 1402.71 Q175.07 1402.71 176.876 1399.17 Q178.704 1395.61 178.704 1388.5 Q178.704 1381.37 176.876 1377.83 Q175.07 1374.27 171.436 1374.27 M171.436 1370.56 Q177.246 1370.56 180.301 1375.17 Q183.38 1379.75 183.38 1388.5 Q183.38 1397.23 180.301 1401.83 Q177.246 1406.42 171.436 1406.42 Q165.626 1406.42 162.547 1401.83 Q159.491 1397.23 159.491 1388.5 Q159.491 1379.75 162.547 1375.17 Q165.626 1370.56 171.436 1370.56 Z\" fill=\"#000000\" fill-rule=\"evenodd\" fill-opacity=\"1\" /><path clip-path=\"url(#clip250)\" d=\"M201.598 1374.27 Q197.987 1374.27 196.158 1377.83 Q194.352 1381.37 194.352 1388.5 Q194.352 1395.61 196.158 1399.17 Q197.987 1402.71 201.598 1402.71 Q205.232 1402.71 207.037 1399.17 Q208.866 1395.61 208.866 1388.5 Q208.866 1381.37 207.037 1377.83 Q205.232 1374.27 201.598 1374.27 M201.598 1370.56 Q207.408 1370.56 210.463 1375.17 Q213.542 1379.75 213.542 1388.5 Q213.542 1397.23 210.463 1401.83 Q207.408 1406.42 201.598 1406.42 Q195.787 1406.42 192.709 1401.83 Q189.653 1397.23 189.653 1388.5 Q189.653 1379.75 192.709 1375.17 Q195.787 1370.56 201.598 1370.56 Z\" fill=\"#000000\" fill-rule=\"evenodd\" fill-opacity=\"1\" /><path clip-path=\"url(#clip250)\" d=\"M127.2 1048.7 Q123.589 1048.7 121.76 1052.26 Q119.955 1055.8 119.955 1062.93 Q119.955 1070.04 121.76 1073.6 Q123.589 1077.14 127.2 1077.14 Q130.834 1077.14 132.64 1073.6 Q134.468 1070.04 134.468 1062.93 Q134.468 1055.8 132.64 1052.26 Q130.834 1048.7 127.2 1048.7 M127.2 1044.99 Q133.01 1044.99 136.066 1049.6 Q139.144 1054.18 139.144 1062.93 Q139.144 1071.66 136.066 1076.26 Q133.01 1080.85 127.2 1080.85 Q121.39 1080.85 118.311 1076.26 Q115.256 1071.66 115.256 1062.93 Q115.256 1054.18 118.311 1049.6 Q121.39 1044.99 127.2 1044.99 Z\" fill=\"#000000\" fill-rule=\"evenodd\" fill-opacity=\"1\" /><path clip-path=\"url(#clip250)\" d=\"M147.362 1074.3 L152.246 1074.3 L152.246 1080.18 L147.362 1080.18 L147.362 1074.3 Z\" fill=\"#000000\" fill-rule=\"evenodd\" fill-opacity=\"1\" /><path clip-path=\"url(#clip250)\" d=\"M166.459 1076.24 L182.778 1076.24 L182.778 1080.18 L160.834 1080.18 L160.834 1076.24 Q163.496 1073.49 168.079 1068.86 Q172.686 1064.2 173.866 1062.86 Q176.112 1060.34 176.991 1058.6 Q177.894 1056.84 177.894 1055.15 Q177.894 1052.4 175.95 1050.66 Q174.028 1048.93 170.927 1048.93 Q168.727 1048.93 166.274 1049.69 Q163.843 1050.45 161.065 1052.01 L161.065 1047.28 Q163.89 1046.15 166.343 1045.57 Q168.797 1044.99 170.834 1044.99 Q176.204 1044.99 179.399 1047.68 Q182.593 1050.36 182.593 1054.85 Q182.593 1056.98 181.783 1058.9 Q180.996 1060.8 178.889 1063.39 Q178.311 1064.07 175.209 1067.28 Q172.107 1070.48 166.459 1076.24 Z\" fill=\"#000000\" fill-rule=\"evenodd\" fill-opacity=\"1\" /><path clip-path=\"url(#clip250)\" d=\"M192.639 1045.62 L210.996 1045.62 L210.996 1049.55 L196.922 1049.55 L196.922 1058.02 Q197.94 1057.68 198.959 1057.51 Q199.977 1057.33 200.996 1057.33 Q206.783 1057.33 210.162 1060.5 Q213.542 1063.67 213.542 1069.09 Q213.542 1074.67 210.07 1077.77 Q206.598 1080.85 200.278 1080.85 Q198.102 1080.85 195.834 1080.48 Q193.588 1080.11 191.181 1079.37 L191.181 1074.67 Q193.264 1075.8 195.487 1076.36 Q197.709 1076.91 200.186 1076.91 Q204.19 1076.91 206.528 1074.81 Q208.866 1072.7 208.866 1069.09 Q208.866 1065.48 206.528 1063.37 Q204.19 1061.26 200.186 1061.26 Q198.311 1061.26 196.436 1061.68 Q194.584 1062.1 192.639 1062.98 L192.639 1045.62 Z\" fill=\"#000000\" fill-rule=\"evenodd\" fill-opacity=\"1\" /><path clip-path=\"url(#clip250)\" d=\"M126.205 723.125 Q122.593 723.125 120.765 726.69 Q118.959 730.231 118.959 737.361 Q118.959 744.467 120.765 748.032 Q122.593 751.574 126.205 751.574 Q129.839 751.574 131.644 748.032 Q133.473 744.467 133.473 737.361 Q133.473 730.231 131.644 726.69 Q129.839 723.125 126.205 723.125 M126.205 719.421 Q132.015 719.421 135.07 724.028 Q138.149 728.611 138.149 737.361 Q138.149 746.088 135.07 750.694 Q132.015 755.278 126.205 755.278 Q120.394 755.278 117.316 750.694 Q114.26 746.088 114.26 737.361 Q114.26 728.611 117.316 724.028 Q120.394 719.421 126.205 719.421 Z\" fill=\"#000000\" fill-rule=\"evenodd\" fill-opacity=\"1\" /><path clip-path=\"url(#clip250)\" d=\"M146.366 748.727 L151.251 748.727 L151.251 754.606 L146.366 754.606 L146.366 748.727 Z\" fill=\"#000000\" fill-rule=\"evenodd\" fill-opacity=\"1\" /><path clip-path=\"url(#clip250)\" d=\"M161.482 720.046 L179.839 720.046 L179.839 723.981 L165.765 723.981 L165.765 732.454 Q166.783 732.106 167.802 731.944 Q168.82 731.759 169.839 731.759 Q175.626 731.759 179.005 734.93 Q182.385 738.102 182.385 743.518 Q182.385 749.097 178.913 752.199 Q175.44 755.278 169.121 755.278 Q166.945 755.278 164.677 754.907 Q162.431 754.537 160.024 753.796 L160.024 749.097 Q162.107 750.231 164.329 750.787 Q166.552 751.342 169.028 751.342 Q173.033 751.342 175.371 749.236 Q177.709 747.129 177.709 743.518 Q177.709 739.907 175.371 737.801 Q173.033 735.694 169.028 735.694 Q167.153 735.694 165.278 736.111 Q163.427 736.528 161.482 737.407 L161.482 720.046 Z\" fill=\"#000000\" fill-rule=\"evenodd\" fill-opacity=\"1\" /><path clip-path=\"url(#clip250)\" d=\"M201.598 723.125 Q197.987 723.125 196.158 726.69 Q194.352 730.231 194.352 737.361 Q194.352 744.467 196.158 748.032 Q197.987 751.574 201.598 751.574 Q205.232 751.574 207.037 748.032 Q208.866 744.467 208.866 737.361 Q208.866 730.231 207.037 726.69 Q205.232 723.125 201.598 723.125 M201.598 719.421 Q207.408 719.421 210.463 724.028 Q213.542 728.611 213.542 737.361 Q213.542 746.088 210.463 750.694 Q207.408 755.278 201.598 755.278 Q195.787 755.278 192.709 750.694 Q189.653 746.088 189.653 737.361 Q189.653 728.611 192.709 724.028 Q195.787 719.421 201.598 719.421 Z\" fill=\"#000000\" fill-rule=\"evenodd\" fill-opacity=\"1\" /><path clip-path=\"url(#clip250)\" d=\"M127.2 397.555 Q123.589 397.555 121.76 401.119 Q119.955 404.661 119.955 411.791 Q119.955 418.897 121.76 422.462 Q123.589 426.004 127.2 426.004 Q130.834 426.004 132.64 422.462 Q134.468 418.897 134.468 411.791 Q134.468 404.661 132.64 401.119 Q130.834 397.555 127.2 397.555 M127.2 393.851 Q133.01 393.851 136.066 398.457 Q139.144 403.041 139.144 411.791 Q139.144 420.517 136.066 425.124 Q133.01 429.707 127.2 429.707 Q121.39 429.707 118.311 425.124 Q115.256 420.517 115.256 411.791 Q115.256 403.041 118.311 398.457 Q121.39 393.851 127.2 393.851 Z\" fill=\"#000000\" fill-rule=\"evenodd\" fill-opacity=\"1\" /><path clip-path=\"url(#clip250)\" d=\"M147.362 423.156 L152.246 423.156 L152.246 429.036 L147.362 429.036 L147.362 423.156 Z\" fill=\"#000000\" fill-rule=\"evenodd\" fill-opacity=\"1\" /><path clip-path=\"url(#clip250)\" d=\"M161.251 394.476 L183.473 394.476 L183.473 396.467 L170.927 429.036 L166.042 429.036 L177.848 398.411 L161.251 398.411 L161.251 394.476 Z\" fill=\"#000000\" fill-rule=\"evenodd\" fill-opacity=\"1\" /><path clip-path=\"url(#clip250)\" d=\"M192.639 394.476 L210.996 394.476 L210.996 398.411 L196.922 398.411 L196.922 406.883 Q197.94 406.536 198.959 406.374 Q199.977 406.189 200.996 406.189 Q206.783 406.189 210.162 409.36 Q213.542 412.531 213.542 417.948 Q213.542 423.527 210.07 426.629 Q206.598 429.707 200.278 429.707 Q198.102 429.707 195.834 429.337 Q193.588 428.967 191.181 428.226 L191.181 423.527 Q193.264 424.661 195.487 425.217 Q197.709 425.772 200.186 425.772 Q204.19 425.772 206.528 423.666 Q208.866 421.559 208.866 417.948 Q208.866 414.337 206.528 412.231 Q204.19 410.124 200.186 410.124 Q198.311 410.124 196.436 410.541 Q194.584 410.957 192.639 411.837 L192.639 394.476 Z\" fill=\"#000000\" fill-rule=\"evenodd\" fill-opacity=\"1\" /><path clip-path=\"url(#clip250)\" d=\"M117.015 99.5305 L124.654 99.5305 L124.654 73.1649 L116.343 74.8316 L116.343 70.5723 L124.607 68.9057 L129.283 68.9057 L129.283 99.5305 L136.922 99.5305 L136.922 103.466 L117.015 103.466 L117.015 99.5305 Z\" fill=\"#000000\" fill-rule=\"evenodd\" fill-opacity=\"1\" /><path clip-path=\"url(#clip250)\" d=\"M146.366 97.5861 L151.251 97.5861 L151.251 103.466 L146.366 103.466 L146.366 97.5861 Z\" fill=\"#000000\" fill-rule=\"evenodd\" fill-opacity=\"1\" /><path clip-path=\"url(#clip250)\" d=\"M171.436 71.9844 Q167.825 71.9844 165.996 75.5492 Q164.19 79.0908 164.19 86.2204 Q164.19 93.3268 165.996 96.8916 Q167.825 100.433 171.436 100.433 Q175.07 100.433 176.876 96.8916 Q178.704 93.3268 178.704 86.2204 Q178.704 79.0908 176.876 75.5492 Q175.07 71.9844 171.436 71.9844 M171.436 68.2807 Q177.246 68.2807 180.301 72.8871 Q183.38 77.4704 183.38 86.2204 Q183.38 94.9472 180.301 99.5537 Q177.246 104.137 171.436 104.137 Q165.626 104.137 162.547 99.5537 Q159.491 94.9472 159.491 86.2204 Q159.491 77.4704 162.547 72.8871 Q165.626 68.2807 171.436 68.2807 Z\" fill=\"#000000\" fill-rule=\"evenodd\" fill-opacity=\"1\" /><path clip-path=\"url(#clip250)\" d=\"M201.598 71.9844 Q197.987 71.9844 196.158 75.5492 Q194.352 79.0908 194.352 86.2204 Q194.352 93.3268 196.158 96.8916 Q197.987 100.433 201.598 100.433 Q205.232 100.433 207.037 96.8916 Q208.866 93.3268 208.866 86.2204 Q208.866 79.0908 207.037 75.5492 Q205.232 71.9844 201.598 71.9844 M201.598 68.2807 Q207.408 68.2807 210.463 72.8871 Q213.542 77.4704 213.542 86.2204 Q213.542 94.9472 210.463 99.5537 Q207.408 104.137 201.598 104.137 Q195.787 104.137 192.709 99.5537 Q189.653 94.9472 189.653 86.2204 Q189.653 77.4704 192.709 72.8871 Q195.787 68.2807 201.598 68.2807 Z\" fill=\"#000000\" fill-rule=\"evenodd\" fill-opacity=\"1\" /><path clip-path=\"url(#clip250)\" d=\"M49.9359 788.509 L28.3562 788.509 L28.3562 782.652 L49.7131 782.652 Q54.7739 782.652 57.3202 780.679 Q59.8346 778.706 59.8346 774.759 Q59.8346 770.016 56.8109 767.279 Q53.7872 764.51 48.5673 764.51 L28.3562 764.51 L28.3562 758.654 L64.0042 758.654 L64.0042 764.51 L58.5296 764.51 Q61.7762 766.643 63.3676 769.475 Q64.9272 772.276 64.9272 776 Q64.9272 782.143 61.1078 785.326 Q57.2883 788.509 49.9359 788.509 M27.4968 773.772 L27.4968 773.772 Z\" fill=\"#000000\" fill-rule=\"evenodd\" fill-opacity=\"1\" /><path clip-path=\"url(#clip250)\" d=\"M14.5426 732.522 Q21.8632 736.787 29.0246 738.856 Q36.186 740.925 43.5384 740.925 Q50.8908 740.925 58.1159 738.856 Q65.3091 736.756 72.5979 732.522 L72.5979 737.615 Q65.1182 742.389 57.8931 744.776 Q50.668 747.132 43.5384 747.132 Q36.4406 747.132 29.2474 744.776 Q22.0542 742.421 14.5426 737.615 L14.5426 732.522 Z\" fill=\"#000000\" fill-rule=\"evenodd\" fill-opacity=\"1\" /><path clip-path=\"url(#clip250)\" d=\"M18.2347 715.367 L28.3562 715.367 L28.3562 703.304 L32.9077 703.304 L32.9077 715.367 L52.2594 715.367 Q56.6199 715.367 57.8613 714.189 Q59.1026 712.98 59.1026 709.319 L59.1026 703.304 L64.0042 703.304 L64.0042 709.319 Q64.0042 716.099 61.4897 718.677 Q58.9434 721.255 52.2594 721.255 L32.9077 721.255 L32.9077 725.552 L28.3562 725.552 L28.3562 721.255 L18.2347 721.255 L18.2347 715.367 Z\" fill=\"#000000\" fill-rule=\"evenodd\" fill-opacity=\"1\" /><path clip-path=\"url(#clip250)\" d=\"M14.5426 696.524 L14.5426 691.432 Q22.0542 686.658 29.2474 684.302 Q36.4406 681.915 43.5384 681.915 Q50.668 681.915 57.8931 684.302 Q65.1182 686.658 72.5979 691.432 L72.5979 696.524 Q65.3091 692.291 58.1159 690.222 Q50.8908 688.122 43.5384 688.122 Q36.186 688.122 29.0246 690.222 Q21.8632 692.291 14.5426 696.524 Z\" fill=\"#000000\" fill-rule=\"evenodd\" fill-opacity=\"1\" /><polyline clip-path=\"url(#clip252)\" style=\"stroke:#009af9; stroke-linecap:butt; stroke-linejoin:round; stroke-width:8; stroke-opacity:1; fill:none\" points=\"\n",
       "  309.067,86.1857 320.405,128.134 333.631,175.364 350.042,231.517 368.685,292.158 389.839,357.128 413.004,423.865 438.102,491.304 464.827,557.941 493.026,622.896 \n",
       "  522.503,685.368 553.124,744.872 584.761,801.067 617.321,853.782 650.728,902.956 684.926,948.613 719.874,990.839 755.545,1029.76 791.924,1065.53 829.004,1098.33 \n",
       "  866.789,1128.32 905.288,1155.69 944.517,1180.62 984.496,1203.29 1025.25,1223.85 1066.81,1242.47 1109.22,1259.29 1152.5,1274.47 1196.7,1288.13 1241.87,1300.4 \n",
       "  1288.05,1311.4 1335.29,1321.23 1383.66,1329.99 1433.21,1337.79 1484.01,1344.7 1536.13,1350.82 1589.64,1356.21 1644.62,1360.95 1701.17,1365.09 1759.37,1368.71 \n",
       "  1819.33,1371.85 1881.15,1374.57 1944.97,1376.91 2010.9,1378.91 2079.1,1380.62 2149.73,1382.07 2222.94,1383.29 2293.23,1384.24 \n",
       "  \"/>\n",
       "</svg>\n"
      ]
     },
     "execution_count": 40,
     "metadata": {},
     "output_type": "execute_result"
    }
   ],
   "source": [
    "\n",
    "\n",
    "using Plots\n",
    "\n",
    "plot(sol.t, sol.u, ylabel=\"u(t)\", xlabel=\"t\", lw=2, legend=false)\n",
    "\n"
   ]
  },
  {
   "cell_type": "markdown",
   "metadata": {},
   "source": [
    "\n",
    "## Arbitrary precision\n"
   ]
  },
  {
   "cell_type": "code",
   "execution_count": 43,
   "metadata": {},
   "outputs": [
    {
     "data": {
      "image/svg+xml": [
       "<?xml version=\"1.0\" encoding=\"utf-8\"?>\n",
       "<svg xmlns=\"http://www.w3.org/2000/svg\" xmlns:xlink=\"http://www.w3.org/1999/xlink\" width=\"600\" height=\"400\" viewBox=\"0 0 2400 1600\">\n",
       "<defs>\n",
       "  <clipPath id=\"clip330\">\n",
       "    <rect x=\"0\" y=\"0\" width=\"2400\" height=\"1600\"/>\n",
       "  </clipPath>\n",
       "</defs>\n",
       "<path clip-path=\"url(#clip330)\" d=\"\n",
       "M0 1600 L2400 1600 L2400 0 L0 0  Z\n",
       "  \" fill=\"#ffffff\" fill-rule=\"evenodd\" fill-opacity=\"1\"/>\n",
       "<defs>\n",
       "  <clipPath id=\"clip331\">\n",
       "    <rect x=\"480\" y=\"0\" width=\"1681\" height=\"1600\"/>\n",
       "  </clipPath>\n",
       "</defs>\n",
       "<path clip-path=\"url(#clip330)\" d=\"\n",
       "M249.542 1423.18 L2352.76 1423.18 L2352.76 47.2441 L249.542 47.2441  Z\n",
       "  \" fill=\"#ffffff\" fill-rule=\"evenodd\" fill-opacity=\"1\"/>\n",
       "<defs>\n",
       "  <clipPath id=\"clip332\">\n",
       "    <rect x=\"249\" y=\"47\" width=\"2104\" height=\"1377\"/>\n",
       "  </clipPath>\n",
       "</defs>\n",
       "<polyline clip-path=\"url(#clip332)\" style=\"stroke:#000000; stroke-linecap:butt; stroke-linejoin:round; stroke-width:2; stroke-opacity:0.1; fill:none\" points=\"\n",
       "  309.067,1423.18 309.067,47.2441 \n",
       "  \"/>\n",
       "<polyline clip-path=\"url(#clip332)\" style=\"stroke:#000000; stroke-linecap:butt; stroke-linejoin:round; stroke-width:2; stroke-opacity:0.1; fill:none\" points=\"\n",
       "  805.108,1423.18 805.108,47.2441 \n",
       "  \"/>\n",
       "<polyline clip-path=\"url(#clip332)\" style=\"stroke:#000000; stroke-linecap:butt; stroke-linejoin:round; stroke-width:2; stroke-opacity:0.1; fill:none\" points=\"\n",
       "  1301.15,1423.18 1301.15,47.2441 \n",
       "  \"/>\n",
       "<polyline clip-path=\"url(#clip332)\" style=\"stroke:#000000; stroke-linecap:butt; stroke-linejoin:round; stroke-width:2; stroke-opacity:0.1; fill:none\" points=\"\n",
       "  1797.19,1423.18 1797.19,47.2441 \n",
       "  \"/>\n",
       "<polyline clip-path=\"url(#clip332)\" style=\"stroke:#000000; stroke-linecap:butt; stroke-linejoin:round; stroke-width:2; stroke-opacity:0.1; fill:none\" points=\"\n",
       "  2293.23,1423.18 2293.23,47.2441 \n",
       "  \"/>\n",
       "<polyline clip-path=\"url(#clip330)\" style=\"stroke:#000000; stroke-linecap:butt; stroke-linejoin:round; stroke-width:4; stroke-opacity:1; fill:none\" points=\"\n",
       "  249.542,1423.18 2352.76,1423.18 \n",
       "  \"/>\n",
       "<polyline clip-path=\"url(#clip330)\" style=\"stroke:#000000; stroke-linecap:butt; stroke-linejoin:round; stroke-width:4; stroke-opacity:1; fill:none\" points=\"\n",
       "  309.067,1423.18 309.067,1404.28 \n",
       "  \"/>\n",
       "<polyline clip-path=\"url(#clip330)\" style=\"stroke:#000000; stroke-linecap:butt; stroke-linejoin:round; stroke-width:4; stroke-opacity:1; fill:none\" points=\"\n",
       "  805.108,1423.18 805.108,1404.28 \n",
       "  \"/>\n",
       "<polyline clip-path=\"url(#clip330)\" style=\"stroke:#000000; stroke-linecap:butt; stroke-linejoin:round; stroke-width:4; stroke-opacity:1; fill:none\" points=\"\n",
       "  1301.15,1423.18 1301.15,1404.28 \n",
       "  \"/>\n",
       "<polyline clip-path=\"url(#clip330)\" style=\"stroke:#000000; stroke-linecap:butt; stroke-linejoin:round; stroke-width:4; stroke-opacity:1; fill:none\" points=\"\n",
       "  1797.19,1423.18 1797.19,1404.28 \n",
       "  \"/>\n",
       "<polyline clip-path=\"url(#clip330)\" style=\"stroke:#000000; stroke-linecap:butt; stroke-linejoin:round; stroke-width:4; stroke-opacity:1; fill:none\" points=\"\n",
       "  2293.23,1423.18 2293.23,1404.28 \n",
       "  \"/>\n",
       "<path clip-path=\"url(#clip330)\" d=\"M271.37 1454.1 Q267.759 1454.1 265.931 1457.66 Q264.125 1461.2 264.125 1468.33 Q264.125 1475.44 265.931 1479.01 Q267.759 1482.55 271.37 1482.55 Q275.005 1482.55 276.81 1479.01 Q278.639 1475.44 278.639 1468.33 Q278.639 1461.2 276.81 1457.66 Q275.005 1454.1 271.37 1454.1 M271.37 1450.39 Q277.181 1450.39 280.236 1455 Q283.315 1459.58 283.315 1468.33 Q283.315 1477.06 280.236 1481.67 Q277.181 1486.25 271.37 1486.25 Q265.56 1486.25 262.482 1481.67 Q259.426 1477.06 259.426 1468.33 Q259.426 1459.58 262.482 1455 Q265.56 1450.39 271.37 1450.39 Z\" fill=\"#000000\" fill-rule=\"evenodd\" fill-opacity=\"1\" /><path clip-path=\"url(#clip330)\" d=\"M291.532 1479.7 L296.417 1479.7 L296.417 1485.58 L291.532 1485.58 L291.532 1479.7 Z\" fill=\"#000000\" fill-rule=\"evenodd\" fill-opacity=\"1\" /><path clip-path=\"url(#clip330)\" d=\"M316.602 1454.1 Q312.991 1454.1 311.162 1457.66 Q309.356 1461.2 309.356 1468.33 Q309.356 1475.44 311.162 1479.01 Q312.991 1482.55 316.602 1482.55 Q320.236 1482.55 322.041 1479.01 Q323.87 1475.44 323.87 1468.33 Q323.87 1461.2 322.041 1457.66 Q320.236 1454.1 316.602 1454.1 M316.602 1450.39 Q322.412 1450.39 325.467 1455 Q328.546 1459.58 328.546 1468.33 Q328.546 1477.06 325.467 1481.67 Q322.412 1486.25 316.602 1486.25 Q310.791 1486.25 307.713 1481.67 Q304.657 1477.06 304.657 1468.33 Q304.657 1459.58 307.713 1455 Q310.791 1450.39 316.602 1450.39 Z\" fill=\"#000000\" fill-rule=\"evenodd\" fill-opacity=\"1\" /><path clip-path=\"url(#clip330)\" d=\"M346.764 1454.1 Q343.152 1454.1 341.324 1457.66 Q339.518 1461.2 339.518 1468.33 Q339.518 1475.44 341.324 1479.01 Q343.152 1482.55 346.764 1482.55 Q350.398 1482.55 352.203 1479.01 Q354.032 1475.44 354.032 1468.33 Q354.032 1461.2 352.203 1457.66 Q350.398 1454.1 346.764 1454.1 M346.764 1450.39 Q352.574 1450.39 355.629 1455 Q358.708 1459.58 358.708 1468.33 Q358.708 1477.06 355.629 1481.67 Q352.574 1486.25 346.764 1486.25 Q340.953 1486.25 337.875 1481.67 Q334.819 1477.06 334.819 1468.33 Q334.819 1459.58 337.875 1455 Q340.953 1450.39 346.764 1450.39 Z\" fill=\"#000000\" fill-rule=\"evenodd\" fill-opacity=\"1\" /><path clip-path=\"url(#clip330)\" d=\"M767.909 1454.1 Q764.298 1454.1 762.469 1457.66 Q760.664 1461.2 760.664 1468.33 Q760.664 1475.44 762.469 1479.01 Q764.298 1482.55 767.909 1482.55 Q771.543 1482.55 773.349 1479.01 Q775.178 1475.44 775.178 1468.33 Q775.178 1461.2 773.349 1457.66 Q771.543 1454.1 767.909 1454.1 M767.909 1450.39 Q773.719 1450.39 776.775 1455 Q779.853 1459.58 779.853 1468.33 Q779.853 1477.06 776.775 1481.67 Q773.719 1486.25 767.909 1486.25 Q762.099 1486.25 759.02 1481.67 Q755.965 1477.06 755.965 1468.33 Q755.965 1459.58 759.02 1455 Q762.099 1450.39 767.909 1450.39 Z\" fill=\"#000000\" fill-rule=\"evenodd\" fill-opacity=\"1\" /><path clip-path=\"url(#clip330)\" d=\"M788.071 1479.7 L792.955 1479.7 L792.955 1485.58 L788.071 1485.58 L788.071 1479.7 Z\" fill=\"#000000\" fill-rule=\"evenodd\" fill-opacity=\"1\" /><path clip-path=\"url(#clip330)\" d=\"M807.168 1481.64 L823.487 1481.64 L823.487 1485.58 L801.543 1485.58 L801.543 1481.64 Q804.205 1478.89 808.788 1474.26 Q813.395 1469.61 814.576 1468.27 Q816.821 1465.74 817.7 1464.01 Q818.603 1462.25 818.603 1460.56 Q818.603 1457.8 816.659 1456.07 Q814.738 1454.33 811.636 1454.33 Q809.437 1454.33 806.983 1455.09 Q804.552 1455.86 801.775 1457.41 L801.775 1452.69 Q804.599 1451.55 807.052 1450.97 Q809.506 1450.39 811.543 1450.39 Q816.913 1450.39 820.108 1453.08 Q823.302 1455.77 823.302 1460.26 Q823.302 1462.39 822.492 1464.31 Q821.705 1466.2 819.599 1468.8 Q819.02 1469.47 815.918 1472.69 Q812.816 1475.88 807.168 1481.64 Z\" fill=\"#000000\" fill-rule=\"evenodd\" fill-opacity=\"1\" /><path clip-path=\"url(#clip330)\" d=\"M833.349 1451.02 L851.705 1451.02 L851.705 1454.96 L837.631 1454.96 L837.631 1463.43 Q838.649 1463.08 839.668 1462.92 Q840.686 1462.73 841.705 1462.73 Q847.492 1462.73 850.872 1465.9 Q854.251 1469.08 854.251 1474.49 Q854.251 1480.07 850.779 1483.17 Q847.307 1486.25 840.987 1486.25 Q838.811 1486.25 836.543 1485.88 Q834.298 1485.51 831.89 1484.77 L831.89 1480.07 Q833.974 1481.2 836.196 1481.76 Q838.418 1482.32 840.895 1482.32 Q844.899 1482.32 847.237 1480.21 Q849.575 1478.1 849.575 1474.49 Q849.575 1470.88 847.237 1468.77 Q844.899 1466.67 840.895 1466.67 Q839.02 1466.67 837.145 1467.08 Q835.293 1467.5 833.349 1468.38 L833.349 1451.02 Z\" fill=\"#000000\" fill-rule=\"evenodd\" fill-opacity=\"1\" /><path clip-path=\"url(#clip330)\" d=\"M1263.45 1454.1 Q1259.84 1454.1 1258.01 1457.66 Q1256.21 1461.2 1256.21 1468.33 Q1256.21 1475.44 1258.01 1479.01 Q1259.84 1482.55 1263.45 1482.55 Q1267.09 1482.55 1268.89 1479.01 Q1270.72 1475.44 1270.72 1468.33 Q1270.72 1461.2 1268.89 1457.66 Q1267.09 1454.1 1263.45 1454.1 M1263.45 1450.39 Q1269.26 1450.39 1272.32 1455 Q1275.4 1459.58 1275.4 1468.33 Q1275.4 1477.06 1272.32 1481.67 Q1269.26 1486.25 1263.45 1486.25 Q1257.64 1486.25 1254.56 1481.67 Q1251.51 1477.06 1251.51 1468.33 Q1251.51 1459.58 1254.56 1455 Q1257.64 1450.39 1263.45 1450.39 Z\" fill=\"#000000\" fill-rule=\"evenodd\" fill-opacity=\"1\" /><path clip-path=\"url(#clip330)\" d=\"M1283.61 1479.7 L1288.5 1479.7 L1288.5 1485.58 L1283.61 1485.58 L1283.61 1479.7 Z\" fill=\"#000000\" fill-rule=\"evenodd\" fill-opacity=\"1\" /><path clip-path=\"url(#clip330)\" d=\"M1298.73 1451.02 L1317.09 1451.02 L1317.09 1454.96 L1303.01 1454.96 L1303.01 1463.43 Q1304.03 1463.08 1305.05 1462.92 Q1306.07 1462.73 1307.09 1462.73 Q1312.87 1462.73 1316.25 1465.9 Q1319.63 1469.08 1319.63 1474.49 Q1319.63 1480.07 1316.16 1483.17 Q1312.69 1486.25 1306.37 1486.25 Q1304.19 1486.25 1301.92 1485.88 Q1299.68 1485.51 1297.27 1484.77 L1297.27 1480.07 Q1299.35 1481.2 1301.58 1481.76 Q1303.8 1482.32 1306.28 1482.32 Q1310.28 1482.32 1312.62 1480.21 Q1314.96 1478.1 1314.96 1474.49 Q1314.96 1470.88 1312.62 1468.77 Q1310.28 1466.67 1306.28 1466.67 Q1304.4 1466.67 1302.53 1467.08 Q1300.67 1467.5 1298.73 1468.38 L1298.73 1451.02 Z\" fill=\"#000000\" fill-rule=\"evenodd\" fill-opacity=\"1\" /><path clip-path=\"url(#clip330)\" d=\"M1338.85 1454.1 Q1335.23 1454.1 1333.41 1457.66 Q1331.6 1461.2 1331.6 1468.33 Q1331.6 1475.44 1333.41 1479.01 Q1335.23 1482.55 1338.85 1482.55 Q1342.48 1482.55 1344.29 1479.01 Q1346.11 1475.44 1346.11 1468.33 Q1346.11 1461.2 1344.29 1457.66 Q1342.48 1454.1 1338.85 1454.1 M1338.85 1450.39 Q1344.66 1450.39 1347.71 1455 Q1350.79 1459.58 1350.79 1468.33 Q1350.79 1477.06 1347.71 1481.67 Q1344.66 1486.25 1338.85 1486.25 Q1333.04 1486.25 1329.96 1481.67 Q1326.9 1477.06 1326.9 1468.33 Q1326.9 1459.58 1329.96 1455 Q1333.04 1450.39 1338.85 1450.39 Z\" fill=\"#000000\" fill-rule=\"evenodd\" fill-opacity=\"1\" /><path clip-path=\"url(#clip330)\" d=\"M1759.99 1454.1 Q1756.38 1454.1 1754.55 1457.66 Q1752.75 1461.2 1752.75 1468.33 Q1752.75 1475.44 1754.55 1479.01 Q1756.38 1482.55 1759.99 1482.55 Q1763.63 1482.55 1765.43 1479.01 Q1767.26 1475.44 1767.26 1468.33 Q1767.26 1461.2 1765.43 1457.66 Q1763.63 1454.1 1759.99 1454.1 M1759.99 1450.39 Q1765.8 1450.39 1768.86 1455 Q1771.94 1459.58 1771.94 1468.33 Q1771.94 1477.06 1768.86 1481.67 Q1765.8 1486.25 1759.99 1486.25 Q1754.18 1486.25 1751.1 1481.67 Q1748.05 1477.06 1748.05 1468.33 Q1748.05 1459.58 1751.1 1455 Q1754.18 1450.39 1759.99 1450.39 Z\" fill=\"#000000\" fill-rule=\"evenodd\" fill-opacity=\"1\" /><path clip-path=\"url(#clip330)\" d=\"M1780.15 1479.7 L1785.04 1479.7 L1785.04 1485.58 L1780.15 1485.58 L1780.15 1479.7 Z\" fill=\"#000000\" fill-rule=\"evenodd\" fill-opacity=\"1\" /><path clip-path=\"url(#clip330)\" d=\"M1794.04 1451.02 L1816.26 1451.02 L1816.26 1453.01 L1803.72 1485.58 L1798.83 1485.58 L1810.64 1454.96 L1794.04 1454.96 L1794.04 1451.02 Z\" fill=\"#000000\" fill-rule=\"evenodd\" fill-opacity=\"1\" /><path clip-path=\"url(#clip330)\" d=\"M1825.43 1451.02 L1843.79 1451.02 L1843.79 1454.96 L1829.71 1454.96 L1829.71 1463.43 Q1830.73 1463.08 1831.75 1462.92 Q1832.77 1462.73 1833.79 1462.73 Q1839.57 1462.73 1842.95 1465.9 Q1846.33 1469.08 1846.33 1474.49 Q1846.33 1480.07 1842.86 1483.17 Q1839.39 1486.25 1833.07 1486.25 Q1830.89 1486.25 1828.62 1485.88 Q1826.38 1485.51 1823.97 1484.77 L1823.97 1480.07 Q1826.06 1481.2 1828.28 1481.76 Q1830.5 1482.32 1832.98 1482.32 Q1836.98 1482.32 1839.32 1480.21 Q1841.66 1478.1 1841.66 1474.49 Q1841.66 1470.88 1839.32 1468.77 Q1836.98 1466.67 1832.98 1466.67 Q1831.1 1466.67 1829.23 1467.08 Q1827.38 1467.5 1825.43 1468.38 L1825.43 1451.02 Z\" fill=\"#000000\" fill-rule=\"evenodd\" fill-opacity=\"1\" /><path clip-path=\"url(#clip330)\" d=\"M2245.3 1481.64 L2252.94 1481.64 L2252.94 1455.28 L2244.63 1456.95 L2244.63 1452.69 L2252.9 1451.02 L2257.57 1451.02 L2257.57 1481.64 L2265.21 1481.64 L2265.21 1485.58 L2245.3 1485.58 L2245.3 1481.64 Z\" fill=\"#000000\" fill-rule=\"evenodd\" fill-opacity=\"1\" /><path clip-path=\"url(#clip330)\" d=\"M2274.65 1479.7 L2279.54 1479.7 L2279.54 1485.58 L2274.65 1485.58 L2274.65 1479.7 Z\" fill=\"#000000\" fill-rule=\"evenodd\" fill-opacity=\"1\" /><path clip-path=\"url(#clip330)\" d=\"M2299.72 1454.1 Q2296.11 1454.1 2294.28 1457.66 Q2292.48 1461.2 2292.48 1468.33 Q2292.48 1475.44 2294.28 1479.01 Q2296.11 1482.55 2299.72 1482.55 Q2303.36 1482.55 2305.16 1479.01 Q2306.99 1475.44 2306.99 1468.33 Q2306.99 1461.2 2305.16 1457.66 Q2303.36 1454.1 2299.72 1454.1 M2299.72 1450.39 Q2305.53 1450.39 2308.59 1455 Q2311.67 1459.58 2311.67 1468.33 Q2311.67 1477.06 2308.59 1481.67 Q2305.53 1486.25 2299.72 1486.25 Q2293.91 1486.25 2290.84 1481.67 Q2287.78 1477.06 2287.78 1468.33 Q2287.78 1459.58 2290.84 1455 Q2293.91 1450.39 2299.72 1450.39 Z\" fill=\"#000000\" fill-rule=\"evenodd\" fill-opacity=\"1\" /><path clip-path=\"url(#clip330)\" d=\"M2329.89 1454.1 Q2326.27 1454.1 2324.45 1457.66 Q2322.64 1461.2 2322.64 1468.33 Q2322.64 1475.44 2324.45 1479.01 Q2326.27 1482.55 2329.89 1482.55 Q2333.52 1482.55 2335.33 1479.01 Q2337.15 1475.44 2337.15 1468.33 Q2337.15 1461.2 2335.33 1457.66 Q2333.52 1454.1 2329.89 1454.1 M2329.89 1450.39 Q2335.7 1450.39 2338.75 1455 Q2341.83 1459.58 2341.83 1468.33 Q2341.83 1477.06 2338.75 1481.67 Q2335.7 1486.25 2329.89 1486.25 Q2324.08 1486.25 2321 1481.67 Q2317.94 1477.06 2317.94 1468.33 Q2317.94 1459.58 2321 1455 Q2324.08 1450.39 2329.89 1450.39 Z\" fill=\"#000000\" fill-rule=\"evenodd\" fill-opacity=\"1\" /><path clip-path=\"url(#clip330)\" d=\"M1300.21 1522.27 L1300.21 1532.4 L1312.27 1532.4 L1312.27 1536.95 L1300.21 1536.95 L1300.21 1556.3 Q1300.21 1560.66 1301.39 1561.9 Q1302.6 1563.14 1306.26 1563.14 L1312.27 1563.14 L1312.27 1568.04 L1306.26 1568.04 Q1299.48 1568.04 1296.9 1565.53 Q1294.32 1562.98 1294.32 1556.3 L1294.32 1536.95 L1290.02 1536.95 L1290.02 1532.4 L1294.32 1532.4 L1294.32 1522.27 L1300.21 1522.27 Z\" fill=\"#000000\" fill-rule=\"evenodd\" fill-opacity=\"1\" /><polyline clip-path=\"url(#clip332)\" style=\"stroke:#000000; stroke-linecap:butt; stroke-linejoin:round; stroke-width:2; stroke-opacity:0.1; fill:none\" points=\"\n",
       "  249.542,1388.47 2352.76,1388.47 \n",
       "  \"/>\n",
       "<polyline clip-path=\"url(#clip332)\" style=\"stroke:#000000; stroke-linecap:butt; stroke-linejoin:round; stroke-width:2; stroke-opacity:0.1; fill:none\" points=\"\n",
       "  249.542,1062.9 2352.76,1062.9 \n",
       "  \"/>\n",
       "<polyline clip-path=\"url(#clip332)\" style=\"stroke:#000000; stroke-linecap:butt; stroke-linejoin:round; stroke-width:2; stroke-opacity:0.1; fill:none\" points=\"\n",
       "  249.542,737.326 2352.76,737.326 \n",
       "  \"/>\n",
       "<polyline clip-path=\"url(#clip332)\" style=\"stroke:#000000; stroke-linecap:butt; stroke-linejoin:round; stroke-width:2; stroke-opacity:0.1; fill:none\" points=\"\n",
       "  249.542,411.756 2352.76,411.756 \n",
       "  \"/>\n",
       "<polyline clip-path=\"url(#clip332)\" style=\"stroke:#000000; stroke-linecap:butt; stroke-linejoin:round; stroke-width:2; stroke-opacity:0.1; fill:none\" points=\"\n",
       "  249.542,86.1857 2352.76,86.1857 \n",
       "  \"/>\n",
       "<polyline clip-path=\"url(#clip330)\" style=\"stroke:#000000; stroke-linecap:butt; stroke-linejoin:round; stroke-width:4; stroke-opacity:1; fill:none\" points=\"\n",
       "  249.542,1423.18 249.542,47.2441 \n",
       "  \"/>\n",
       "<polyline clip-path=\"url(#clip330)\" style=\"stroke:#000000; stroke-linecap:butt; stroke-linejoin:round; stroke-width:4; stroke-opacity:1; fill:none\" points=\"\n",
       "  249.542,1388.47 268.44,1388.47 \n",
       "  \"/>\n",
       "<polyline clip-path=\"url(#clip330)\" style=\"stroke:#000000; stroke-linecap:butt; stroke-linejoin:round; stroke-width:4; stroke-opacity:1; fill:none\" points=\"\n",
       "  249.542,1062.9 268.44,1062.9 \n",
       "  \"/>\n",
       "<polyline clip-path=\"url(#clip330)\" style=\"stroke:#000000; stroke-linecap:butt; stroke-linejoin:round; stroke-width:4; stroke-opacity:1; fill:none\" points=\"\n",
       "  249.542,737.326 268.44,737.326 \n",
       "  \"/>\n",
       "<polyline clip-path=\"url(#clip330)\" style=\"stroke:#000000; stroke-linecap:butt; stroke-linejoin:round; stroke-width:4; stroke-opacity:1; fill:none\" points=\"\n",
       "  249.542,411.756 268.44,411.756 \n",
       "  \"/>\n",
       "<polyline clip-path=\"url(#clip330)\" style=\"stroke:#000000; stroke-linecap:butt; stroke-linejoin:round; stroke-width:4; stroke-opacity:1; fill:none\" points=\"\n",
       "  249.542,86.1857 268.44,86.1857 \n",
       "  \"/>\n",
       "<path clip-path=\"url(#clip330)\" d=\"M126.205 1374.27 Q122.593 1374.27 120.765 1377.83 Q118.959 1381.37 118.959 1388.5 Q118.959 1395.61 120.765 1399.17 Q122.593 1402.71 126.205 1402.71 Q129.839 1402.71 131.644 1399.17 Q133.473 1395.61 133.473 1388.5 Q133.473 1381.37 131.644 1377.83 Q129.839 1374.27 126.205 1374.27 M126.205 1370.56 Q132.015 1370.56 135.07 1375.17 Q138.149 1379.75 138.149 1388.5 Q138.149 1397.23 135.07 1401.83 Q132.015 1406.42 126.205 1406.42 Q120.394 1406.42 117.316 1401.83 Q114.26 1397.23 114.26 1388.5 Q114.26 1379.75 117.316 1375.17 Q120.394 1370.56 126.205 1370.56 Z\" fill=\"#000000\" fill-rule=\"evenodd\" fill-opacity=\"1\" /><path clip-path=\"url(#clip330)\" d=\"M146.366 1399.87 L151.251 1399.87 L151.251 1405.75 L146.366 1405.75 L146.366 1399.87 Z\" fill=\"#000000\" fill-rule=\"evenodd\" fill-opacity=\"1\" /><path clip-path=\"url(#clip330)\" d=\"M171.436 1374.27 Q167.825 1374.27 165.996 1377.83 Q164.19 1381.37 164.19 1388.5 Q164.19 1395.61 165.996 1399.17 Q167.825 1402.71 171.436 1402.71 Q175.07 1402.71 176.876 1399.17 Q178.704 1395.61 178.704 1388.5 Q178.704 1381.37 176.876 1377.83 Q175.07 1374.27 171.436 1374.27 M171.436 1370.56 Q177.246 1370.56 180.301 1375.17 Q183.38 1379.75 183.38 1388.5 Q183.38 1397.23 180.301 1401.83 Q177.246 1406.42 171.436 1406.42 Q165.626 1406.42 162.547 1401.83 Q159.491 1397.23 159.491 1388.5 Q159.491 1379.75 162.547 1375.17 Q165.626 1370.56 171.436 1370.56 Z\" fill=\"#000000\" fill-rule=\"evenodd\" fill-opacity=\"1\" /><path clip-path=\"url(#clip330)\" d=\"M201.598 1374.27 Q197.987 1374.27 196.158 1377.83 Q194.352 1381.37 194.352 1388.5 Q194.352 1395.61 196.158 1399.17 Q197.987 1402.71 201.598 1402.71 Q205.232 1402.71 207.037 1399.17 Q208.866 1395.61 208.866 1388.5 Q208.866 1381.37 207.037 1377.83 Q205.232 1374.27 201.598 1374.27 M201.598 1370.56 Q207.408 1370.56 210.463 1375.17 Q213.542 1379.75 213.542 1388.5 Q213.542 1397.23 210.463 1401.83 Q207.408 1406.42 201.598 1406.42 Q195.787 1406.42 192.709 1401.83 Q189.653 1397.23 189.653 1388.5 Q189.653 1379.75 192.709 1375.17 Q195.787 1370.56 201.598 1370.56 Z\" fill=\"#000000\" fill-rule=\"evenodd\" fill-opacity=\"1\" /><path clip-path=\"url(#clip330)\" d=\"M127.2 1048.7 Q123.589 1048.7 121.76 1052.26 Q119.955 1055.8 119.955 1062.93 Q119.955 1070.04 121.76 1073.6 Q123.589 1077.14 127.2 1077.14 Q130.834 1077.14 132.64 1073.6 Q134.468 1070.04 134.468 1062.93 Q134.468 1055.8 132.64 1052.26 Q130.834 1048.7 127.2 1048.7 M127.2 1044.99 Q133.01 1044.99 136.066 1049.6 Q139.144 1054.18 139.144 1062.93 Q139.144 1071.66 136.066 1076.26 Q133.01 1080.85 127.2 1080.85 Q121.39 1080.85 118.311 1076.26 Q115.256 1071.66 115.256 1062.93 Q115.256 1054.18 118.311 1049.6 Q121.39 1044.99 127.2 1044.99 Z\" fill=\"#000000\" fill-rule=\"evenodd\" fill-opacity=\"1\" /><path clip-path=\"url(#clip330)\" d=\"M147.362 1074.3 L152.246 1074.3 L152.246 1080.18 L147.362 1080.18 L147.362 1074.3 Z\" fill=\"#000000\" fill-rule=\"evenodd\" fill-opacity=\"1\" /><path clip-path=\"url(#clip330)\" d=\"M166.459 1076.24 L182.778 1076.24 L182.778 1080.18 L160.834 1080.18 L160.834 1076.24 Q163.496 1073.49 168.079 1068.86 Q172.686 1064.2 173.866 1062.86 Q176.112 1060.34 176.991 1058.6 Q177.894 1056.84 177.894 1055.15 Q177.894 1052.4 175.95 1050.66 Q174.028 1048.93 170.927 1048.93 Q168.727 1048.93 166.274 1049.69 Q163.843 1050.45 161.065 1052.01 L161.065 1047.28 Q163.89 1046.15 166.343 1045.57 Q168.797 1044.99 170.834 1044.99 Q176.204 1044.99 179.399 1047.68 Q182.593 1050.36 182.593 1054.85 Q182.593 1056.98 181.783 1058.9 Q180.996 1060.8 178.889 1063.39 Q178.311 1064.07 175.209 1067.28 Q172.107 1070.48 166.459 1076.24 Z\" fill=\"#000000\" fill-rule=\"evenodd\" fill-opacity=\"1\" /><path clip-path=\"url(#clip330)\" d=\"M192.639 1045.62 L210.996 1045.62 L210.996 1049.55 L196.922 1049.55 L196.922 1058.02 Q197.94 1057.68 198.959 1057.51 Q199.977 1057.33 200.996 1057.33 Q206.783 1057.33 210.162 1060.5 Q213.542 1063.67 213.542 1069.09 Q213.542 1074.67 210.07 1077.77 Q206.598 1080.85 200.278 1080.85 Q198.102 1080.85 195.834 1080.48 Q193.588 1080.11 191.181 1079.37 L191.181 1074.67 Q193.264 1075.8 195.487 1076.36 Q197.709 1076.91 200.186 1076.91 Q204.19 1076.91 206.528 1074.81 Q208.866 1072.7 208.866 1069.09 Q208.866 1065.48 206.528 1063.37 Q204.19 1061.26 200.186 1061.26 Q198.311 1061.26 196.436 1061.68 Q194.584 1062.1 192.639 1062.98 L192.639 1045.62 Z\" fill=\"#000000\" fill-rule=\"evenodd\" fill-opacity=\"1\" /><path clip-path=\"url(#clip330)\" d=\"M126.205 723.125 Q122.593 723.125 120.765 726.69 Q118.959 730.231 118.959 737.361 Q118.959 744.467 120.765 748.032 Q122.593 751.574 126.205 751.574 Q129.839 751.574 131.644 748.032 Q133.473 744.467 133.473 737.361 Q133.473 730.231 131.644 726.69 Q129.839 723.125 126.205 723.125 M126.205 719.421 Q132.015 719.421 135.07 724.028 Q138.149 728.611 138.149 737.361 Q138.149 746.088 135.07 750.694 Q132.015 755.278 126.205 755.278 Q120.394 755.278 117.316 750.694 Q114.26 746.088 114.26 737.361 Q114.26 728.611 117.316 724.028 Q120.394 719.421 126.205 719.421 Z\" fill=\"#000000\" fill-rule=\"evenodd\" fill-opacity=\"1\" /><path clip-path=\"url(#clip330)\" d=\"M146.366 748.727 L151.251 748.727 L151.251 754.606 L146.366 754.606 L146.366 748.727 Z\" fill=\"#000000\" fill-rule=\"evenodd\" fill-opacity=\"1\" /><path clip-path=\"url(#clip330)\" d=\"M161.482 720.046 L179.839 720.046 L179.839 723.981 L165.765 723.981 L165.765 732.454 Q166.783 732.106 167.802 731.944 Q168.82 731.759 169.839 731.759 Q175.626 731.759 179.005 734.93 Q182.385 738.102 182.385 743.518 Q182.385 749.097 178.913 752.199 Q175.44 755.278 169.121 755.278 Q166.945 755.278 164.677 754.907 Q162.431 754.537 160.024 753.796 L160.024 749.097 Q162.107 750.231 164.329 750.787 Q166.552 751.342 169.028 751.342 Q173.033 751.342 175.371 749.236 Q177.709 747.129 177.709 743.518 Q177.709 739.907 175.371 737.801 Q173.033 735.694 169.028 735.694 Q167.153 735.694 165.278 736.111 Q163.427 736.528 161.482 737.407 L161.482 720.046 Z\" fill=\"#000000\" fill-rule=\"evenodd\" fill-opacity=\"1\" /><path clip-path=\"url(#clip330)\" d=\"M201.598 723.125 Q197.987 723.125 196.158 726.69 Q194.352 730.231 194.352 737.361 Q194.352 744.467 196.158 748.032 Q197.987 751.574 201.598 751.574 Q205.232 751.574 207.037 748.032 Q208.866 744.467 208.866 737.361 Q208.866 730.231 207.037 726.69 Q205.232 723.125 201.598 723.125 M201.598 719.421 Q207.408 719.421 210.463 724.028 Q213.542 728.611 213.542 737.361 Q213.542 746.088 210.463 750.694 Q207.408 755.278 201.598 755.278 Q195.787 755.278 192.709 750.694 Q189.653 746.088 189.653 737.361 Q189.653 728.611 192.709 724.028 Q195.787 719.421 201.598 719.421 Z\" fill=\"#000000\" fill-rule=\"evenodd\" fill-opacity=\"1\" /><path clip-path=\"url(#clip330)\" d=\"M127.2 397.555 Q123.589 397.555 121.76 401.119 Q119.955 404.661 119.955 411.791 Q119.955 418.897 121.76 422.462 Q123.589 426.004 127.2 426.004 Q130.834 426.004 132.64 422.462 Q134.468 418.897 134.468 411.791 Q134.468 404.661 132.64 401.119 Q130.834 397.555 127.2 397.555 M127.2 393.851 Q133.01 393.851 136.066 398.457 Q139.144 403.041 139.144 411.791 Q139.144 420.517 136.066 425.124 Q133.01 429.707 127.2 429.707 Q121.39 429.707 118.311 425.124 Q115.256 420.517 115.256 411.791 Q115.256 403.041 118.311 398.457 Q121.39 393.851 127.2 393.851 Z\" fill=\"#000000\" fill-rule=\"evenodd\" fill-opacity=\"1\" /><path clip-path=\"url(#clip330)\" d=\"M147.362 423.156 L152.246 423.156 L152.246 429.036 L147.362 429.036 L147.362 423.156 Z\" fill=\"#000000\" fill-rule=\"evenodd\" fill-opacity=\"1\" /><path clip-path=\"url(#clip330)\" d=\"M161.251 394.476 L183.473 394.476 L183.473 396.467 L170.927 429.036 L166.042 429.036 L177.848 398.411 L161.251 398.411 L161.251 394.476 Z\" fill=\"#000000\" fill-rule=\"evenodd\" fill-opacity=\"1\" /><path clip-path=\"url(#clip330)\" d=\"M192.639 394.476 L210.996 394.476 L210.996 398.411 L196.922 398.411 L196.922 406.883 Q197.94 406.536 198.959 406.374 Q199.977 406.189 200.996 406.189 Q206.783 406.189 210.162 409.36 Q213.542 412.531 213.542 417.948 Q213.542 423.527 210.07 426.629 Q206.598 429.707 200.278 429.707 Q198.102 429.707 195.834 429.337 Q193.588 428.967 191.181 428.226 L191.181 423.527 Q193.264 424.661 195.487 425.217 Q197.709 425.772 200.186 425.772 Q204.19 425.772 206.528 423.666 Q208.866 421.559 208.866 417.948 Q208.866 414.337 206.528 412.231 Q204.19 410.124 200.186 410.124 Q198.311 410.124 196.436 410.541 Q194.584 410.957 192.639 411.837 L192.639 394.476 Z\" fill=\"#000000\" fill-rule=\"evenodd\" fill-opacity=\"1\" /><path clip-path=\"url(#clip330)\" d=\"M117.015 99.5305 L124.654 99.5305 L124.654 73.1649 L116.343 74.8316 L116.343 70.5723 L124.607 68.9057 L129.283 68.9057 L129.283 99.5305 L136.922 99.5305 L136.922 103.466 L117.015 103.466 L117.015 99.5305 Z\" fill=\"#000000\" fill-rule=\"evenodd\" fill-opacity=\"1\" /><path clip-path=\"url(#clip330)\" d=\"M146.366 97.5861 L151.251 97.5861 L151.251 103.466 L146.366 103.466 L146.366 97.5861 Z\" fill=\"#000000\" fill-rule=\"evenodd\" fill-opacity=\"1\" /><path clip-path=\"url(#clip330)\" d=\"M171.436 71.9844 Q167.825 71.9844 165.996 75.5492 Q164.19 79.0908 164.19 86.2204 Q164.19 93.3268 165.996 96.8916 Q167.825 100.433 171.436 100.433 Q175.07 100.433 176.876 96.8916 Q178.704 93.3268 178.704 86.2204 Q178.704 79.0908 176.876 75.5492 Q175.07 71.9844 171.436 71.9844 M171.436 68.2807 Q177.246 68.2807 180.301 72.8871 Q183.38 77.4704 183.38 86.2204 Q183.38 94.9472 180.301 99.5537 Q177.246 104.137 171.436 104.137 Q165.626 104.137 162.547 99.5537 Q159.491 94.9472 159.491 86.2204 Q159.491 77.4704 162.547 72.8871 Q165.626 68.2807 171.436 68.2807 Z\" fill=\"#000000\" fill-rule=\"evenodd\" fill-opacity=\"1\" /><path clip-path=\"url(#clip330)\" d=\"M201.598 71.9844 Q197.987 71.9844 196.158 75.5492 Q194.352 79.0908 194.352 86.2204 Q194.352 93.3268 196.158 96.8916 Q197.987 100.433 201.598 100.433 Q205.232 100.433 207.037 96.8916 Q208.866 93.3268 208.866 86.2204 Q208.866 79.0908 207.037 75.5492 Q205.232 71.9844 201.598 71.9844 M201.598 68.2807 Q207.408 68.2807 210.463 72.8871 Q213.542 77.4704 213.542 86.2204 Q213.542 94.9472 210.463 99.5537 Q207.408 104.137 201.598 104.137 Q195.787 104.137 192.709 99.5537 Q189.653 94.9472 189.653 86.2204 Q189.653 77.4704 192.709 72.8871 Q195.787 68.2807 201.598 68.2807 Z\" fill=\"#000000\" fill-rule=\"evenodd\" fill-opacity=\"1\" /><path clip-path=\"url(#clip330)\" d=\"M49.9359 788.509 L28.3562 788.509 L28.3562 782.652 L49.7131 782.652 Q54.7739 782.652 57.3202 780.679 Q59.8346 778.706 59.8346 774.759 Q59.8346 770.016 56.8109 767.279 Q53.7872 764.51 48.5673 764.51 L28.3562 764.51 L28.3562 758.654 L64.0042 758.654 L64.0042 764.51 L58.5296 764.51 Q61.7762 766.643 63.3676 769.475 Q64.9272 772.276 64.9272 776 Q64.9272 782.143 61.1078 785.326 Q57.2883 788.509 49.9359 788.509 M27.4968 773.772 L27.4968 773.772 Z\" fill=\"#000000\" fill-rule=\"evenodd\" fill-opacity=\"1\" /><path clip-path=\"url(#clip330)\" d=\"M14.5426 732.522 Q21.8632 736.787 29.0246 738.856 Q36.186 740.925 43.5384 740.925 Q50.8908 740.925 58.1159 738.856 Q65.3091 736.756 72.5979 732.522 L72.5979 737.615 Q65.1182 742.389 57.8931 744.776 Q50.668 747.132 43.5384 747.132 Q36.4406 747.132 29.2474 744.776 Q22.0542 742.421 14.5426 737.615 L14.5426 732.522 Z\" fill=\"#000000\" fill-rule=\"evenodd\" fill-opacity=\"1\" /><path clip-path=\"url(#clip330)\" d=\"M18.2347 715.367 L28.3562 715.367 L28.3562 703.304 L32.9077 703.304 L32.9077 715.367 L52.2594 715.367 Q56.6199 715.367 57.8613 714.189 Q59.1026 712.98 59.1026 709.319 L59.1026 703.304 L64.0042 703.304 L64.0042 709.319 Q64.0042 716.099 61.4897 718.677 Q58.9434 721.255 52.2594 721.255 L32.9077 721.255 L32.9077 725.552 L28.3562 725.552 L28.3562 721.255 L18.2347 721.255 L18.2347 715.367 Z\" fill=\"#000000\" fill-rule=\"evenodd\" fill-opacity=\"1\" /><path clip-path=\"url(#clip330)\" d=\"M14.5426 696.524 L14.5426 691.432 Q22.0542 686.658 29.2474 684.302 Q36.4406 681.915 43.5384 681.915 Q50.668 681.915 57.8931 684.302 Q65.1182 686.658 72.5979 691.432 L72.5979 696.524 Q65.3091 692.291 58.1159 690.222 Q50.8908 688.122 43.5384 688.122 Q36.186 688.122 29.0246 690.222 Q21.8632 692.291 14.5426 696.524 Z\" fill=\"#000000\" fill-rule=\"evenodd\" fill-opacity=\"1\" /><polyline clip-path=\"url(#clip332)\" style=\"stroke:#009af9; stroke-linecap:butt; stroke-linejoin:round; stroke-width:8; stroke-opacity:1; fill:none\" points=\"\n",
       "  309.067,86.1857 320.405,128.134 333.631,175.364 350.042,231.517 368.685,292.158 389.839,357.128 413.004,423.865 438.102,491.304 464.827,557.941 493.026,622.896 \n",
       "  522.503,685.368 553.124,744.872 584.761,801.067 617.321,853.782 650.728,902.956 684.926,948.613 719.874,990.839 755.545,1029.76 791.924,1065.53 829.004,1098.33 \n",
       "  866.789,1128.32 905.288,1155.69 944.517,1180.62 984.496,1203.29 1025.25,1223.85 1066.81,1242.47 1109.22,1259.29 1152.5,1274.47 1196.7,1288.13 1241.87,1300.4 \n",
       "  1288.05,1311.4 1335.29,1321.23 1383.66,1329.99 1433.21,1337.79 1484.01,1344.7 1536.13,1350.82 1589.64,1356.21 1644.62,1360.95 1701.17,1365.09 1759.37,1368.71 \n",
       "  1819.33,1371.85 1881.15,1374.57 1944.97,1376.91 2010.9,1378.91 2079.1,1380.62 2149.73,1382.07 2222.94,1383.29 2293.23,1384.24 \n",
       "  \"/>\n",
       "</svg>\n"
      ]
     },
     "execution_count": 43,
     "metadata": {},
     "output_type": "execute_result"
    }
   ],
   "source": [
    "using OrdinaryDiffEq, Measurements, Plots\n",
    "\n",
    "#Half-life of Carbon-14 is 5730 years.\n",
    "c = big(5.730) # now a BigFloat\n",
    "\n",
    "#Setup\n",
    "u0 = big(1.0) # now a BigFloat\n",
    "tspan = (0.0, 1.0)\n",
    "\n",
    "#Define the problem\n",
    "radioactivedecay(u,p,t) = -c*u\n",
    "\n",
    "#Pass to solver\n",
    "prob = ODEProblem(radioactivedecay,u0,tspan)\n",
    "sol = solve(prob, Tsit5(), reltol=1e-8, abstol=1e-8);\n",
    "\n",
    "plot(sol.t, sol.u, ylabel=\"u(t)\", xlabel=\"t\", lw=2, legend=false)\n"
   ]
  },
  {
   "cell_type": "code",
   "execution_count": 44,
   "metadata": {},
   "outputs": [
    {
     "data": {
      "text/plain": [
       "48-element Vector{BigFloat}:\n",
       " 1.0\n",
       " 0.9677886860242480802598783250713916010081415505397800881445406271537611300017618\n",
       " 0.9315211281525870696951220469884643089015968992100693760200740553948355529147443\n",
       " 0.8884024345211743249328056132581922926713349550779312851128595145794638309367323\n",
       " 0.8418375252286853693374875453327959298310268751540882123064603835469502333473109\n",
       " 0.7919476716556936759645062652642499184136681143994639131997461417941721267832523\n",
       " 0.7407016330428085395088677734469248742771667496689773395471797310606867824210415\n",
       " 0.6889166340726772080759580717731892548533466681449545296259777043743101381792959\n",
       " 0.6377469702849522203007041715785847992156324337145518931818644468122003575559061\n",
       " 0.5878693938054670387069845142083170215958396547725714928808722707474449713312153\n",
       " 0.5398978925292378408930959222823291015539152628089942039187986374217863041478433\n",
       " 0.4942059991356295169324189779662222956173429318011563947151762335740927377004429\n",
       " 0.4510548382376831565897872943449692672767974436651720616883479984098738073816317\n",
       " ⋮\n",
       " 0.02477021117525593612515801407248710747493709530748392034155899955020599954159549\n",
       " 0.021133396888532129796706540901423689036700279196750483494724068913379201383398\n",
       " 0.01794943614583125583957816400164240530228852462961557370610759233458374945410863\n",
       " 0.01517245985634628875128406625275912147733815510000459673714756889070392462236193\n",
       " 0.01276018240589423340686949699279142210677137879666371915835120873024975347826536\n",
       " 0.01067368935737784362441010298936559244141183164809831435189268922602552496174735\n",
       " 0.00887723942706565940875998440804465817956868110381397508540106299553765687431734\n",
       " 0.00733807616662764725337784327010685881105385983028591310659038838358539909946831\n",
       " 0.006026250586914370691706540654883853989555839218430864460064421776982115736096758\n",
       " 0.00491445291815558013685708868008892167806949070866698395288125919564259622213527\n",
       " 0.003977853123101151271401920354940315658253380104598431106831095713007257617345212\n",
       " 0.003247077417412440728852786337706116060606153955713745366112060644520649010563575"
      ]
     },
     "execution_count": 44,
     "metadata": {},
     "output_type": "execute_result"
    }
   ],
   "source": [
    "sol.u"
   ]
  },
  {
   "cell_type": "markdown",
   "metadata": {},
   "source": [
    "### With uncertainties: Measurements.jl"
   ]
  },
  {
   "cell_type": "markdown",
   "metadata": {},
   "source": [
    "`Measurement` type from [Measurements.jl]() and differential equation solver from [OrdinaryDiffEq.jl](https://github.com/JuliaDiffEq/OrdinaryDiffEq.jl) (i.e. [DifferentialEquations.jl](https://github.com/JuliaDiffEq/DifferentialEquations.jl))"
   ]
  },
  {
   "cell_type": "code",
   "execution_count": 45,
   "metadata": {},
   "outputs": [],
   "source": [
    "using Measurements"
   ]
  },
  {
   "cell_type": "code",
   "execution_count": 46,
   "metadata": {},
   "outputs": [
    {
     "data": {
      "text/latex": [
       "$1.0 \\pm 0.1$"
      ],
      "text/plain": [
       "1.0 ± 0.1"
      ]
     },
     "execution_count": 46,
     "metadata": {},
     "output_type": "execute_result"
    }
   ],
   "source": [
    "1 ± 0.1"
   ]
  },
  {
   "cell_type": "code",
   "execution_count": 47,
   "metadata": {},
   "outputs": [
    {
     "data": {
      "text/latex": [
       "$2.0 \\pm 0.21$"
      ],
      "text/plain": [
       "2.0 ± 0.21"
      ]
     },
     "execution_count": 47,
     "metadata": {},
     "output_type": "execute_result"
    }
   ],
   "source": [
    "(1 ± 0.1) * (2 ± 0.05)"
   ]
  },
  {
   "cell_type": "code",
   "execution_count": 48,
   "metadata": {},
   "outputs": [
    {
     "data": {
      "image/svg+xml": [
       "<?xml version=\"1.0\" encoding=\"utf-8\"?>\n",
       "<svg xmlns=\"http://www.w3.org/2000/svg\" xmlns:xlink=\"http://www.w3.org/1999/xlink\" width=\"600\" height=\"400\" viewBox=\"0 0 2400 1600\">\n",
       "<defs>\n",
       "  <clipPath id=\"clip370\">\n",
       "    <rect x=\"0\" y=\"0\" width=\"2400\" height=\"1600\"/>\n",
       "  </clipPath>\n",
       "</defs>\n",
       "<path clip-path=\"url(#clip370)\" d=\"\n",
       "M0 1600 L2400 1600 L2400 0 L0 0  Z\n",
       "  \" fill=\"#ffffff\" fill-rule=\"evenodd\" fill-opacity=\"1\"/>\n",
       "<defs>\n",
       "  <clipPath id=\"clip371\">\n",
       "    <rect x=\"480\" y=\"0\" width=\"1681\" height=\"1600\"/>\n",
       "  </clipPath>\n",
       "</defs>\n",
       "<path clip-path=\"url(#clip370)\" d=\"\n",
       "M249.542 1423.18 L2352.76 1423.18 L2352.76 47.2441 L249.542 47.2441  Z\n",
       "  \" fill=\"#ffffff\" fill-rule=\"evenodd\" fill-opacity=\"1\"/>\n",
       "<defs>\n",
       "  <clipPath id=\"clip372\">\n",
       "    <rect x=\"249\" y=\"47\" width=\"2104\" height=\"1377\"/>\n",
       "  </clipPath>\n",
       "</defs>\n",
       "<polyline clip-path=\"url(#clip372)\" style=\"stroke:#000000; stroke-linecap:butt; stroke-linejoin:round; stroke-width:2; stroke-opacity:0.1; fill:none\" points=\"\n",
       "  309.067,1423.18 309.067,47.2441 \n",
       "  \"/>\n",
       "<polyline clip-path=\"url(#clip372)\" style=\"stroke:#000000; stroke-linecap:butt; stroke-linejoin:round; stroke-width:2; stroke-opacity:0.1; fill:none\" points=\"\n",
       "  805.108,1423.18 805.108,47.2441 \n",
       "  \"/>\n",
       "<polyline clip-path=\"url(#clip372)\" style=\"stroke:#000000; stroke-linecap:butt; stroke-linejoin:round; stroke-width:2; stroke-opacity:0.1; fill:none\" points=\"\n",
       "  1301.15,1423.18 1301.15,47.2441 \n",
       "  \"/>\n",
       "<polyline clip-path=\"url(#clip372)\" style=\"stroke:#000000; stroke-linecap:butt; stroke-linejoin:round; stroke-width:2; stroke-opacity:0.1; fill:none\" points=\"\n",
       "  1797.19,1423.18 1797.19,47.2441 \n",
       "  \"/>\n",
       "<polyline clip-path=\"url(#clip372)\" style=\"stroke:#000000; stroke-linecap:butt; stroke-linejoin:round; stroke-width:2; stroke-opacity:0.1; fill:none\" points=\"\n",
       "  2293.23,1423.18 2293.23,47.2441 \n",
       "  \"/>\n",
       "<polyline clip-path=\"url(#clip370)\" style=\"stroke:#000000; stroke-linecap:butt; stroke-linejoin:round; stroke-width:4; stroke-opacity:1; fill:none\" points=\"\n",
       "  249.542,1423.18 2352.76,1423.18 \n",
       "  \"/>\n",
       "<polyline clip-path=\"url(#clip370)\" style=\"stroke:#000000; stroke-linecap:butt; stroke-linejoin:round; stroke-width:4; stroke-opacity:1; fill:none\" points=\"\n",
       "  309.067,1423.18 309.067,1404.28 \n",
       "  \"/>\n",
       "<polyline clip-path=\"url(#clip370)\" style=\"stroke:#000000; stroke-linecap:butt; stroke-linejoin:round; stroke-width:4; stroke-opacity:1; fill:none\" points=\"\n",
       "  805.108,1423.18 805.108,1404.28 \n",
       "  \"/>\n",
       "<polyline clip-path=\"url(#clip370)\" style=\"stroke:#000000; stroke-linecap:butt; stroke-linejoin:round; stroke-width:4; stroke-opacity:1; fill:none\" points=\"\n",
       "  1301.15,1423.18 1301.15,1404.28 \n",
       "  \"/>\n",
       "<polyline clip-path=\"url(#clip370)\" style=\"stroke:#000000; stroke-linecap:butt; stroke-linejoin:round; stroke-width:4; stroke-opacity:1; fill:none\" points=\"\n",
       "  1797.19,1423.18 1797.19,1404.28 \n",
       "  \"/>\n",
       "<polyline clip-path=\"url(#clip370)\" style=\"stroke:#000000; stroke-linecap:butt; stroke-linejoin:round; stroke-width:4; stroke-opacity:1; fill:none\" points=\"\n",
       "  2293.23,1423.18 2293.23,1404.28 \n",
       "  \"/>\n",
       "<path clip-path=\"url(#clip370)\" d=\"M271.37 1454.1 Q267.759 1454.1 265.931 1457.66 Q264.125 1461.2 264.125 1468.33 Q264.125 1475.44 265.931 1479.01 Q267.759 1482.55 271.37 1482.55 Q275.005 1482.55 276.81 1479.01 Q278.639 1475.44 278.639 1468.33 Q278.639 1461.2 276.81 1457.66 Q275.005 1454.1 271.37 1454.1 M271.37 1450.39 Q277.181 1450.39 280.236 1455 Q283.315 1459.58 283.315 1468.33 Q283.315 1477.06 280.236 1481.67 Q277.181 1486.25 271.37 1486.25 Q265.56 1486.25 262.482 1481.67 Q259.426 1477.06 259.426 1468.33 Q259.426 1459.58 262.482 1455 Q265.56 1450.39 271.37 1450.39 Z\" fill=\"#000000\" fill-rule=\"evenodd\" fill-opacity=\"1\" /><path clip-path=\"url(#clip370)\" d=\"M291.532 1479.7 L296.417 1479.7 L296.417 1485.58 L291.532 1485.58 L291.532 1479.7 Z\" fill=\"#000000\" fill-rule=\"evenodd\" fill-opacity=\"1\" /><path clip-path=\"url(#clip370)\" d=\"M316.602 1454.1 Q312.991 1454.1 311.162 1457.66 Q309.356 1461.2 309.356 1468.33 Q309.356 1475.44 311.162 1479.01 Q312.991 1482.55 316.602 1482.55 Q320.236 1482.55 322.041 1479.01 Q323.87 1475.44 323.87 1468.33 Q323.87 1461.2 322.041 1457.66 Q320.236 1454.1 316.602 1454.1 M316.602 1450.39 Q322.412 1450.39 325.467 1455 Q328.546 1459.58 328.546 1468.33 Q328.546 1477.06 325.467 1481.67 Q322.412 1486.25 316.602 1486.25 Q310.791 1486.25 307.713 1481.67 Q304.657 1477.06 304.657 1468.33 Q304.657 1459.58 307.713 1455 Q310.791 1450.39 316.602 1450.39 Z\" fill=\"#000000\" fill-rule=\"evenodd\" fill-opacity=\"1\" /><path clip-path=\"url(#clip370)\" d=\"M346.764 1454.1 Q343.152 1454.1 341.324 1457.66 Q339.518 1461.2 339.518 1468.33 Q339.518 1475.44 341.324 1479.01 Q343.152 1482.55 346.764 1482.55 Q350.398 1482.55 352.203 1479.01 Q354.032 1475.44 354.032 1468.33 Q354.032 1461.2 352.203 1457.66 Q350.398 1454.1 346.764 1454.1 M346.764 1450.39 Q352.574 1450.39 355.629 1455 Q358.708 1459.58 358.708 1468.33 Q358.708 1477.06 355.629 1481.67 Q352.574 1486.25 346.764 1486.25 Q340.953 1486.25 337.875 1481.67 Q334.819 1477.06 334.819 1468.33 Q334.819 1459.58 337.875 1455 Q340.953 1450.39 346.764 1450.39 Z\" fill=\"#000000\" fill-rule=\"evenodd\" fill-opacity=\"1\" /><path clip-path=\"url(#clip370)\" d=\"M767.909 1454.1 Q764.298 1454.1 762.469 1457.66 Q760.664 1461.2 760.664 1468.33 Q760.664 1475.44 762.469 1479.01 Q764.298 1482.55 767.909 1482.55 Q771.543 1482.55 773.349 1479.01 Q775.178 1475.44 775.178 1468.33 Q775.178 1461.2 773.349 1457.66 Q771.543 1454.1 767.909 1454.1 M767.909 1450.39 Q773.719 1450.39 776.775 1455 Q779.853 1459.58 779.853 1468.33 Q779.853 1477.06 776.775 1481.67 Q773.719 1486.25 767.909 1486.25 Q762.099 1486.25 759.02 1481.67 Q755.965 1477.06 755.965 1468.33 Q755.965 1459.58 759.02 1455 Q762.099 1450.39 767.909 1450.39 Z\" fill=\"#000000\" fill-rule=\"evenodd\" fill-opacity=\"1\" /><path clip-path=\"url(#clip370)\" d=\"M788.071 1479.7 L792.955 1479.7 L792.955 1485.58 L788.071 1485.58 L788.071 1479.7 Z\" fill=\"#000000\" fill-rule=\"evenodd\" fill-opacity=\"1\" /><path clip-path=\"url(#clip370)\" d=\"M807.168 1481.64 L823.487 1481.64 L823.487 1485.58 L801.543 1485.58 L801.543 1481.64 Q804.205 1478.89 808.788 1474.26 Q813.395 1469.61 814.576 1468.27 Q816.821 1465.74 817.7 1464.01 Q818.603 1462.25 818.603 1460.56 Q818.603 1457.8 816.659 1456.07 Q814.738 1454.33 811.636 1454.33 Q809.437 1454.33 806.983 1455.09 Q804.552 1455.86 801.775 1457.41 L801.775 1452.69 Q804.599 1451.55 807.052 1450.97 Q809.506 1450.39 811.543 1450.39 Q816.913 1450.39 820.108 1453.08 Q823.302 1455.77 823.302 1460.26 Q823.302 1462.39 822.492 1464.31 Q821.705 1466.2 819.599 1468.8 Q819.02 1469.47 815.918 1472.69 Q812.816 1475.88 807.168 1481.64 Z\" fill=\"#000000\" fill-rule=\"evenodd\" fill-opacity=\"1\" /><path clip-path=\"url(#clip370)\" d=\"M833.349 1451.02 L851.705 1451.02 L851.705 1454.96 L837.631 1454.96 L837.631 1463.43 Q838.649 1463.08 839.668 1462.92 Q840.686 1462.73 841.705 1462.73 Q847.492 1462.73 850.872 1465.9 Q854.251 1469.08 854.251 1474.49 Q854.251 1480.07 850.779 1483.17 Q847.307 1486.25 840.987 1486.25 Q838.811 1486.25 836.543 1485.88 Q834.298 1485.51 831.89 1484.77 L831.89 1480.07 Q833.974 1481.2 836.196 1481.76 Q838.418 1482.32 840.895 1482.32 Q844.899 1482.32 847.237 1480.21 Q849.575 1478.1 849.575 1474.49 Q849.575 1470.88 847.237 1468.77 Q844.899 1466.67 840.895 1466.67 Q839.02 1466.67 837.145 1467.08 Q835.293 1467.5 833.349 1468.38 L833.349 1451.02 Z\" fill=\"#000000\" fill-rule=\"evenodd\" fill-opacity=\"1\" /><path clip-path=\"url(#clip370)\" d=\"M1263.45 1454.1 Q1259.84 1454.1 1258.01 1457.66 Q1256.21 1461.2 1256.21 1468.33 Q1256.21 1475.44 1258.01 1479.01 Q1259.84 1482.55 1263.45 1482.55 Q1267.09 1482.55 1268.89 1479.01 Q1270.72 1475.44 1270.72 1468.33 Q1270.72 1461.2 1268.89 1457.66 Q1267.09 1454.1 1263.45 1454.1 M1263.45 1450.39 Q1269.26 1450.39 1272.32 1455 Q1275.4 1459.58 1275.4 1468.33 Q1275.4 1477.06 1272.32 1481.67 Q1269.26 1486.25 1263.45 1486.25 Q1257.64 1486.25 1254.56 1481.67 Q1251.51 1477.06 1251.51 1468.33 Q1251.51 1459.58 1254.56 1455 Q1257.64 1450.39 1263.45 1450.39 Z\" fill=\"#000000\" fill-rule=\"evenodd\" fill-opacity=\"1\" /><path clip-path=\"url(#clip370)\" d=\"M1283.61 1479.7 L1288.5 1479.7 L1288.5 1485.58 L1283.61 1485.58 L1283.61 1479.7 Z\" fill=\"#000000\" fill-rule=\"evenodd\" fill-opacity=\"1\" /><path clip-path=\"url(#clip370)\" d=\"M1298.73 1451.02 L1317.09 1451.02 L1317.09 1454.96 L1303.01 1454.96 L1303.01 1463.43 Q1304.03 1463.08 1305.05 1462.92 Q1306.07 1462.73 1307.09 1462.73 Q1312.87 1462.73 1316.25 1465.9 Q1319.63 1469.08 1319.63 1474.49 Q1319.63 1480.07 1316.16 1483.17 Q1312.69 1486.25 1306.37 1486.25 Q1304.19 1486.25 1301.92 1485.88 Q1299.68 1485.51 1297.27 1484.77 L1297.27 1480.07 Q1299.35 1481.2 1301.58 1481.76 Q1303.8 1482.32 1306.28 1482.32 Q1310.28 1482.32 1312.62 1480.21 Q1314.96 1478.1 1314.96 1474.49 Q1314.96 1470.88 1312.62 1468.77 Q1310.28 1466.67 1306.28 1466.67 Q1304.4 1466.67 1302.53 1467.08 Q1300.67 1467.5 1298.73 1468.38 L1298.73 1451.02 Z\" fill=\"#000000\" fill-rule=\"evenodd\" fill-opacity=\"1\" /><path clip-path=\"url(#clip370)\" d=\"M1338.85 1454.1 Q1335.23 1454.1 1333.41 1457.66 Q1331.6 1461.2 1331.6 1468.33 Q1331.6 1475.44 1333.41 1479.01 Q1335.23 1482.55 1338.85 1482.55 Q1342.48 1482.55 1344.29 1479.01 Q1346.11 1475.44 1346.11 1468.33 Q1346.11 1461.2 1344.29 1457.66 Q1342.48 1454.1 1338.85 1454.1 M1338.85 1450.39 Q1344.66 1450.39 1347.71 1455 Q1350.79 1459.58 1350.79 1468.33 Q1350.79 1477.06 1347.71 1481.67 Q1344.66 1486.25 1338.85 1486.25 Q1333.04 1486.25 1329.96 1481.67 Q1326.9 1477.06 1326.9 1468.33 Q1326.9 1459.58 1329.96 1455 Q1333.04 1450.39 1338.85 1450.39 Z\" fill=\"#000000\" fill-rule=\"evenodd\" fill-opacity=\"1\" /><path clip-path=\"url(#clip370)\" d=\"M1759.99 1454.1 Q1756.38 1454.1 1754.55 1457.66 Q1752.75 1461.2 1752.75 1468.33 Q1752.75 1475.44 1754.55 1479.01 Q1756.38 1482.55 1759.99 1482.55 Q1763.63 1482.55 1765.43 1479.01 Q1767.26 1475.44 1767.26 1468.33 Q1767.26 1461.2 1765.43 1457.66 Q1763.63 1454.1 1759.99 1454.1 M1759.99 1450.39 Q1765.8 1450.39 1768.86 1455 Q1771.94 1459.58 1771.94 1468.33 Q1771.94 1477.06 1768.86 1481.67 Q1765.8 1486.25 1759.99 1486.25 Q1754.18 1486.25 1751.1 1481.67 Q1748.05 1477.06 1748.05 1468.33 Q1748.05 1459.58 1751.1 1455 Q1754.18 1450.39 1759.99 1450.39 Z\" fill=\"#000000\" fill-rule=\"evenodd\" fill-opacity=\"1\" /><path clip-path=\"url(#clip370)\" d=\"M1780.15 1479.7 L1785.04 1479.7 L1785.04 1485.58 L1780.15 1485.58 L1780.15 1479.7 Z\" fill=\"#000000\" fill-rule=\"evenodd\" fill-opacity=\"1\" /><path clip-path=\"url(#clip370)\" d=\"M1794.04 1451.02 L1816.26 1451.02 L1816.26 1453.01 L1803.72 1485.58 L1798.83 1485.58 L1810.64 1454.96 L1794.04 1454.96 L1794.04 1451.02 Z\" fill=\"#000000\" fill-rule=\"evenodd\" fill-opacity=\"1\" /><path clip-path=\"url(#clip370)\" d=\"M1825.43 1451.02 L1843.79 1451.02 L1843.79 1454.96 L1829.71 1454.96 L1829.71 1463.43 Q1830.73 1463.08 1831.75 1462.92 Q1832.77 1462.73 1833.79 1462.73 Q1839.57 1462.73 1842.95 1465.9 Q1846.33 1469.08 1846.33 1474.49 Q1846.33 1480.07 1842.86 1483.17 Q1839.39 1486.25 1833.07 1486.25 Q1830.89 1486.25 1828.62 1485.88 Q1826.38 1485.51 1823.97 1484.77 L1823.97 1480.07 Q1826.06 1481.2 1828.28 1481.76 Q1830.5 1482.32 1832.98 1482.32 Q1836.98 1482.32 1839.32 1480.21 Q1841.66 1478.1 1841.66 1474.49 Q1841.66 1470.88 1839.32 1468.77 Q1836.98 1466.67 1832.98 1466.67 Q1831.1 1466.67 1829.23 1467.08 Q1827.38 1467.5 1825.43 1468.38 L1825.43 1451.02 Z\" fill=\"#000000\" fill-rule=\"evenodd\" fill-opacity=\"1\" /><path clip-path=\"url(#clip370)\" d=\"M2245.3 1481.64 L2252.94 1481.64 L2252.94 1455.28 L2244.63 1456.95 L2244.63 1452.69 L2252.9 1451.02 L2257.57 1451.02 L2257.57 1481.64 L2265.21 1481.64 L2265.21 1485.58 L2245.3 1485.58 L2245.3 1481.64 Z\" fill=\"#000000\" fill-rule=\"evenodd\" fill-opacity=\"1\" /><path clip-path=\"url(#clip370)\" d=\"M2274.65 1479.7 L2279.54 1479.7 L2279.54 1485.58 L2274.65 1485.58 L2274.65 1479.7 Z\" fill=\"#000000\" fill-rule=\"evenodd\" fill-opacity=\"1\" /><path clip-path=\"url(#clip370)\" d=\"M2299.72 1454.1 Q2296.11 1454.1 2294.28 1457.66 Q2292.48 1461.2 2292.48 1468.33 Q2292.48 1475.44 2294.28 1479.01 Q2296.11 1482.55 2299.72 1482.55 Q2303.36 1482.55 2305.16 1479.01 Q2306.99 1475.44 2306.99 1468.33 Q2306.99 1461.2 2305.16 1457.66 Q2303.36 1454.1 2299.72 1454.1 M2299.72 1450.39 Q2305.53 1450.39 2308.59 1455 Q2311.67 1459.58 2311.67 1468.33 Q2311.67 1477.06 2308.59 1481.67 Q2305.53 1486.25 2299.72 1486.25 Q2293.91 1486.25 2290.84 1481.67 Q2287.78 1477.06 2287.78 1468.33 Q2287.78 1459.58 2290.84 1455 Q2293.91 1450.39 2299.72 1450.39 Z\" fill=\"#000000\" fill-rule=\"evenodd\" fill-opacity=\"1\" /><path clip-path=\"url(#clip370)\" d=\"M2329.89 1454.1 Q2326.27 1454.1 2324.45 1457.66 Q2322.64 1461.2 2322.64 1468.33 Q2322.64 1475.44 2324.45 1479.01 Q2326.27 1482.55 2329.89 1482.55 Q2333.52 1482.55 2335.33 1479.01 Q2337.15 1475.44 2337.15 1468.33 Q2337.15 1461.2 2335.33 1457.66 Q2333.52 1454.1 2329.89 1454.1 M2329.89 1450.39 Q2335.7 1450.39 2338.75 1455 Q2341.83 1459.58 2341.83 1468.33 Q2341.83 1477.06 2338.75 1481.67 Q2335.7 1486.25 2329.89 1486.25 Q2324.08 1486.25 2321 1481.67 Q2317.94 1477.06 2317.94 1468.33 Q2317.94 1459.58 2321 1455 Q2324.08 1450.39 2329.89 1450.39 Z\" fill=\"#000000\" fill-rule=\"evenodd\" fill-opacity=\"1\" /><path clip-path=\"url(#clip370)\" d=\"M1300.21 1522.27 L1300.21 1532.4 L1312.27 1532.4 L1312.27 1536.95 L1300.21 1536.95 L1300.21 1556.3 Q1300.21 1560.66 1301.39 1561.9 Q1302.6 1563.14 1306.26 1563.14 L1312.27 1563.14 L1312.27 1568.04 L1306.26 1568.04 Q1299.48 1568.04 1296.9 1565.53 Q1294.32 1562.98 1294.32 1556.3 L1294.32 1536.95 L1290.02 1536.95 L1290.02 1532.4 L1294.32 1532.4 L1294.32 1522.27 L1300.21 1522.27 Z\" fill=\"#000000\" fill-rule=\"evenodd\" fill-opacity=\"1\" /><polyline clip-path=\"url(#clip372)\" style=\"stroke:#000000; stroke-linecap:butt; stroke-linejoin:round; stroke-width:2; stroke-opacity:0.1; fill:none\" points=\"\n",
       "  249.542,1375.57 2352.76,1375.57 \n",
       "  \"/>\n",
       "<polyline clip-path=\"url(#clip372)\" style=\"stroke:#000000; stroke-linecap:butt; stroke-linejoin:round; stroke-width:2; stroke-opacity:0.1; fill:none\" points=\"\n",
       "  249.542,1082.53 2352.76,1082.53 \n",
       "  \"/>\n",
       "<polyline clip-path=\"url(#clip372)\" style=\"stroke:#000000; stroke-linecap:butt; stroke-linejoin:round; stroke-width:2; stroke-opacity:0.1; fill:none\" points=\"\n",
       "  249.542,789.486 2352.76,789.486 \n",
       "  \"/>\n",
       "<polyline clip-path=\"url(#clip372)\" style=\"stroke:#000000; stroke-linecap:butt; stroke-linejoin:round; stroke-width:2; stroke-opacity:0.1; fill:none\" points=\"\n",
       "  249.542,496.444 2352.76,496.444 \n",
       "  \"/>\n",
       "<polyline clip-path=\"url(#clip372)\" style=\"stroke:#000000; stroke-linecap:butt; stroke-linejoin:round; stroke-width:2; stroke-opacity:0.1; fill:none\" points=\"\n",
       "  249.542,203.402 2352.76,203.402 \n",
       "  \"/>\n",
       "<polyline clip-path=\"url(#clip370)\" style=\"stroke:#000000; stroke-linecap:butt; stroke-linejoin:round; stroke-width:4; stroke-opacity:1; fill:none\" points=\"\n",
       "  249.542,1423.18 249.542,47.2441 \n",
       "  \"/>\n",
       "<polyline clip-path=\"url(#clip370)\" style=\"stroke:#000000; stroke-linecap:butt; stroke-linejoin:round; stroke-width:4; stroke-opacity:1; fill:none\" points=\"\n",
       "  249.542,1375.57 268.44,1375.57 \n",
       "  \"/>\n",
       "<polyline clip-path=\"url(#clip370)\" style=\"stroke:#000000; stroke-linecap:butt; stroke-linejoin:round; stroke-width:4; stroke-opacity:1; fill:none\" points=\"\n",
       "  249.542,1082.53 268.44,1082.53 \n",
       "  \"/>\n",
       "<polyline clip-path=\"url(#clip370)\" style=\"stroke:#000000; stroke-linecap:butt; stroke-linejoin:round; stroke-width:4; stroke-opacity:1; fill:none\" points=\"\n",
       "  249.542,789.486 268.44,789.486 \n",
       "  \"/>\n",
       "<polyline clip-path=\"url(#clip370)\" style=\"stroke:#000000; stroke-linecap:butt; stroke-linejoin:round; stroke-width:4; stroke-opacity:1; fill:none\" points=\"\n",
       "  249.542,496.444 268.44,496.444 \n",
       "  \"/>\n",
       "<polyline clip-path=\"url(#clip370)\" style=\"stroke:#000000; stroke-linecap:butt; stroke-linejoin:round; stroke-width:4; stroke-opacity:1; fill:none\" points=\"\n",
       "  249.542,203.402 268.44,203.402 \n",
       "  \"/>\n",
       "<path clip-path=\"url(#clip370)\" d=\"M126.205 1361.37 Q122.593 1361.37 120.765 1364.93 Q118.959 1368.48 118.959 1375.6 Q118.959 1382.71 120.765 1386.28 Q122.593 1389.82 126.205 1389.82 Q129.839 1389.82 131.644 1386.28 Q133.473 1382.71 133.473 1375.6 Q133.473 1368.48 131.644 1364.93 Q129.839 1361.37 126.205 1361.37 M126.205 1357.67 Q132.015 1357.67 135.07 1362.27 Q138.149 1366.85 138.149 1375.6 Q138.149 1384.33 135.07 1388.94 Q132.015 1393.52 126.205 1393.52 Q120.394 1393.52 117.316 1388.94 Q114.26 1384.33 114.26 1375.6 Q114.26 1366.85 117.316 1362.27 Q120.394 1357.67 126.205 1357.67 Z\" fill=\"#000000\" fill-rule=\"evenodd\" fill-opacity=\"1\" /><path clip-path=\"url(#clip370)\" d=\"M146.366 1386.97 L151.251 1386.97 L151.251 1392.85 L146.366 1392.85 L146.366 1386.97 Z\" fill=\"#000000\" fill-rule=\"evenodd\" fill-opacity=\"1\" /><path clip-path=\"url(#clip370)\" d=\"M171.436 1361.37 Q167.825 1361.37 165.996 1364.93 Q164.19 1368.48 164.19 1375.6 Q164.19 1382.71 165.996 1386.28 Q167.825 1389.82 171.436 1389.82 Q175.07 1389.82 176.876 1386.28 Q178.704 1382.71 178.704 1375.6 Q178.704 1368.48 176.876 1364.93 Q175.07 1361.37 171.436 1361.37 M171.436 1357.67 Q177.246 1357.67 180.301 1362.27 Q183.38 1366.85 183.38 1375.6 Q183.38 1384.33 180.301 1388.94 Q177.246 1393.52 171.436 1393.52 Q165.626 1393.52 162.547 1388.94 Q159.491 1384.33 159.491 1375.6 Q159.491 1366.85 162.547 1362.27 Q165.626 1357.67 171.436 1357.67 Z\" fill=\"#000000\" fill-rule=\"evenodd\" fill-opacity=\"1\" /><path clip-path=\"url(#clip370)\" d=\"M201.598 1361.37 Q197.987 1361.37 196.158 1364.93 Q194.352 1368.48 194.352 1375.6 Q194.352 1382.71 196.158 1386.28 Q197.987 1389.82 201.598 1389.82 Q205.232 1389.82 207.037 1386.28 Q208.866 1382.71 208.866 1375.6 Q208.866 1368.48 207.037 1364.93 Q205.232 1361.37 201.598 1361.37 M201.598 1357.67 Q207.408 1357.67 210.463 1362.27 Q213.542 1366.85 213.542 1375.6 Q213.542 1384.33 210.463 1388.94 Q207.408 1393.52 201.598 1393.52 Q195.787 1393.52 192.709 1388.94 Q189.653 1384.33 189.653 1375.6 Q189.653 1366.85 192.709 1362.27 Q195.787 1357.67 201.598 1357.67 Z\" fill=\"#000000\" fill-rule=\"evenodd\" fill-opacity=\"1\" /><path clip-path=\"url(#clip370)\" d=\"M127.2 1068.33 Q123.589 1068.33 121.76 1071.89 Q119.955 1075.43 119.955 1082.56 Q119.955 1089.67 121.76 1093.23 Q123.589 1096.78 127.2 1096.78 Q130.834 1096.78 132.64 1093.23 Q134.468 1089.67 134.468 1082.56 Q134.468 1075.43 132.64 1071.89 Q130.834 1068.33 127.2 1068.33 M127.2 1064.62 Q133.01 1064.62 136.066 1069.23 Q139.144 1073.81 139.144 1082.56 Q139.144 1091.29 136.066 1095.9 Q133.01 1100.48 127.2 1100.48 Q121.39 1100.48 118.311 1095.9 Q115.256 1091.29 115.256 1082.56 Q115.256 1073.81 118.311 1069.23 Q121.39 1064.62 127.2 1064.62 Z\" fill=\"#000000\" fill-rule=\"evenodd\" fill-opacity=\"1\" /><path clip-path=\"url(#clip370)\" d=\"M147.362 1093.93 L152.246 1093.93 L152.246 1099.81 L147.362 1099.81 L147.362 1093.93 Z\" fill=\"#000000\" fill-rule=\"evenodd\" fill-opacity=\"1\" /><path clip-path=\"url(#clip370)\" d=\"M166.459 1095.87 L182.778 1095.87 L182.778 1099.81 L160.834 1099.81 L160.834 1095.87 Q163.496 1093.12 168.079 1088.49 Q172.686 1083.84 173.866 1082.49 Q176.112 1079.97 176.991 1078.23 Q177.894 1076.47 177.894 1074.79 Q177.894 1072.03 175.95 1070.29 Q174.028 1068.56 170.927 1068.56 Q168.727 1068.56 166.274 1069.32 Q163.843 1070.09 161.065 1071.64 L161.065 1066.91 Q163.89 1065.78 166.343 1065.2 Q168.797 1064.62 170.834 1064.62 Q176.204 1064.62 179.399 1067.31 Q182.593 1069.99 182.593 1074.48 Q182.593 1076.61 181.783 1078.54 Q180.996 1080.43 178.889 1083.03 Q178.311 1083.7 175.209 1086.91 Q172.107 1090.11 166.459 1095.87 Z\" fill=\"#000000\" fill-rule=\"evenodd\" fill-opacity=\"1\" /><path clip-path=\"url(#clip370)\" d=\"M192.639 1065.25 L210.996 1065.25 L210.996 1069.18 L196.922 1069.18 L196.922 1077.66 Q197.94 1077.31 198.959 1077.15 Q199.977 1076.96 200.996 1076.96 Q206.783 1076.96 210.162 1080.13 Q213.542 1083.3 213.542 1088.72 Q213.542 1094.3 210.07 1097.4 Q206.598 1100.48 200.278 1100.48 Q198.102 1100.48 195.834 1100.11 Q193.588 1099.74 191.181 1099 L191.181 1094.3 Q193.264 1095.43 195.487 1095.99 Q197.709 1096.54 200.186 1096.54 Q204.19 1096.54 206.528 1094.44 Q208.866 1092.33 208.866 1088.72 Q208.866 1085.11 206.528 1083 Q204.19 1080.9 200.186 1080.9 Q198.311 1080.9 196.436 1081.31 Q194.584 1081.73 192.639 1082.61 L192.639 1065.25 Z\" fill=\"#000000\" fill-rule=\"evenodd\" fill-opacity=\"1\" /><path clip-path=\"url(#clip370)\" d=\"M126.205 775.285 Q122.593 775.285 120.765 778.85 Q118.959 782.391 118.959 789.521 Q118.959 796.627 120.765 800.192 Q122.593 803.734 126.205 803.734 Q129.839 803.734 131.644 800.192 Q133.473 796.627 133.473 789.521 Q133.473 782.391 131.644 778.85 Q129.839 775.285 126.205 775.285 M126.205 771.581 Q132.015 771.581 135.07 776.188 Q138.149 780.771 138.149 789.521 Q138.149 798.248 135.07 802.854 Q132.015 807.438 126.205 807.438 Q120.394 807.438 117.316 802.854 Q114.26 798.248 114.26 789.521 Q114.26 780.771 117.316 776.188 Q120.394 771.581 126.205 771.581 Z\" fill=\"#000000\" fill-rule=\"evenodd\" fill-opacity=\"1\" /><path clip-path=\"url(#clip370)\" d=\"M146.366 800.887 L151.251 800.887 L151.251 806.766 L146.366 806.766 L146.366 800.887 Z\" fill=\"#000000\" fill-rule=\"evenodd\" fill-opacity=\"1\" /><path clip-path=\"url(#clip370)\" d=\"M161.482 772.206 L179.839 772.206 L179.839 776.141 L165.765 776.141 L165.765 784.614 Q166.783 784.266 167.802 784.104 Q168.82 783.919 169.839 783.919 Q175.626 783.919 179.005 787.09 Q182.385 790.262 182.385 795.678 Q182.385 801.257 178.913 804.359 Q175.44 807.438 169.121 807.438 Q166.945 807.438 164.677 807.067 Q162.431 806.697 160.024 805.956 L160.024 801.257 Q162.107 802.391 164.329 802.947 Q166.552 803.502 169.028 803.502 Q173.033 803.502 175.371 801.396 Q177.709 799.289 177.709 795.678 Q177.709 792.067 175.371 789.961 Q173.033 787.854 169.028 787.854 Q167.153 787.854 165.278 788.271 Q163.427 788.688 161.482 789.567 L161.482 772.206 Z\" fill=\"#000000\" fill-rule=\"evenodd\" fill-opacity=\"1\" /><path clip-path=\"url(#clip370)\" d=\"M201.598 775.285 Q197.987 775.285 196.158 778.85 Q194.352 782.391 194.352 789.521 Q194.352 796.627 196.158 800.192 Q197.987 803.734 201.598 803.734 Q205.232 803.734 207.037 800.192 Q208.866 796.627 208.866 789.521 Q208.866 782.391 207.037 778.85 Q205.232 775.285 201.598 775.285 M201.598 771.581 Q207.408 771.581 210.463 776.188 Q213.542 780.771 213.542 789.521 Q213.542 798.248 210.463 802.854 Q207.408 807.438 201.598 807.438 Q195.787 807.438 192.709 802.854 Q189.653 798.248 189.653 789.521 Q189.653 780.771 192.709 776.188 Q195.787 771.581 201.598 771.581 Z\" fill=\"#000000\" fill-rule=\"evenodd\" fill-opacity=\"1\" /><path clip-path=\"url(#clip370)\" d=\"M127.2 482.243 Q123.589 482.243 121.76 485.808 Q119.955 489.349 119.955 496.479 Q119.955 503.585 121.76 507.15 Q123.589 510.692 127.2 510.692 Q130.834 510.692 132.64 507.15 Q134.468 503.585 134.468 496.479 Q134.468 489.349 132.64 485.808 Q130.834 482.243 127.2 482.243 M127.2 478.539 Q133.01 478.539 136.066 483.146 Q139.144 487.729 139.144 496.479 Q139.144 505.206 136.066 509.812 Q133.01 514.396 127.2 514.396 Q121.39 514.396 118.311 509.812 Q115.256 505.206 115.256 496.479 Q115.256 487.729 118.311 483.146 Q121.39 478.539 127.2 478.539 Z\" fill=\"#000000\" fill-rule=\"evenodd\" fill-opacity=\"1\" /><path clip-path=\"url(#clip370)\" d=\"M147.362 507.845 L152.246 507.845 L152.246 513.724 L147.362 513.724 L147.362 507.845 Z\" fill=\"#000000\" fill-rule=\"evenodd\" fill-opacity=\"1\" /><path clip-path=\"url(#clip370)\" d=\"M161.251 479.164 L183.473 479.164 L183.473 481.155 L170.927 513.724 L166.042 513.724 L177.848 483.099 L161.251 483.099 L161.251 479.164 Z\" fill=\"#000000\" fill-rule=\"evenodd\" fill-opacity=\"1\" /><path clip-path=\"url(#clip370)\" d=\"M192.639 479.164 L210.996 479.164 L210.996 483.099 L196.922 483.099 L196.922 491.572 Q197.94 491.224 198.959 491.062 Q199.977 490.877 200.996 490.877 Q206.783 490.877 210.162 494.049 Q213.542 497.22 213.542 502.636 Q213.542 508.215 210.07 511.317 Q206.598 514.396 200.278 514.396 Q198.102 514.396 195.834 514.025 Q193.588 513.655 191.181 512.914 L191.181 508.215 Q193.264 509.349 195.487 509.905 Q197.709 510.46 200.186 510.46 Q204.19 510.46 206.528 508.354 Q208.866 506.248 208.866 502.636 Q208.866 499.025 206.528 496.919 Q204.19 494.812 200.186 494.812 Q198.311 494.812 196.436 495.229 Q194.584 495.646 192.639 496.525 L192.639 479.164 Z\" fill=\"#000000\" fill-rule=\"evenodd\" fill-opacity=\"1\" /><path clip-path=\"url(#clip370)\" d=\"M117.015 216.747 L124.654 216.747 L124.654 190.382 L116.343 192.048 L116.343 187.789 L124.607 186.122 L129.283 186.122 L129.283 216.747 L136.922 216.747 L136.922 220.682 L117.015 220.682 L117.015 216.747 Z\" fill=\"#000000\" fill-rule=\"evenodd\" fill-opacity=\"1\" /><path clip-path=\"url(#clip370)\" d=\"M146.366 214.803 L151.251 214.803 L151.251 220.682 L146.366 220.682 L146.366 214.803 Z\" fill=\"#000000\" fill-rule=\"evenodd\" fill-opacity=\"1\" /><path clip-path=\"url(#clip370)\" d=\"M171.436 189.201 Q167.825 189.201 165.996 192.766 Q164.19 196.308 164.19 203.437 Q164.19 210.544 165.996 214.108 Q167.825 217.65 171.436 217.65 Q175.07 217.65 176.876 214.108 Q178.704 210.544 178.704 203.437 Q178.704 196.308 176.876 192.766 Q175.07 189.201 171.436 189.201 M171.436 185.497 Q177.246 185.497 180.301 190.104 Q183.38 194.687 183.38 203.437 Q183.38 212.164 180.301 216.77 Q177.246 221.354 171.436 221.354 Q165.626 221.354 162.547 216.77 Q159.491 212.164 159.491 203.437 Q159.491 194.687 162.547 190.104 Q165.626 185.497 171.436 185.497 Z\" fill=\"#000000\" fill-rule=\"evenodd\" fill-opacity=\"1\" /><path clip-path=\"url(#clip370)\" d=\"M201.598 189.201 Q197.987 189.201 196.158 192.766 Q194.352 196.308 194.352 203.437 Q194.352 210.544 196.158 214.108 Q197.987 217.65 201.598 217.65 Q205.232 217.65 207.037 214.108 Q208.866 210.544 208.866 203.437 Q208.866 196.308 207.037 192.766 Q205.232 189.201 201.598 189.201 M201.598 185.497 Q207.408 185.497 210.463 190.104 Q213.542 194.687 213.542 203.437 Q213.542 212.164 210.463 216.77 Q207.408 221.354 201.598 221.354 Q195.787 221.354 192.709 216.77 Q189.653 212.164 189.653 203.437 Q189.653 194.687 192.709 190.104 Q195.787 185.497 201.598 185.497 Z\" fill=\"#000000\" fill-rule=\"evenodd\" fill-opacity=\"1\" /><path clip-path=\"url(#clip370)\" d=\"M49.9359 788.509 L28.3562 788.509 L28.3562 782.652 L49.7131 782.652 Q54.7739 782.652 57.3202 780.679 Q59.8346 778.706 59.8346 774.759 Q59.8346 770.016 56.8109 767.279 Q53.7872 764.51 48.5673 764.51 L28.3562 764.51 L28.3562 758.654 L64.0042 758.654 L64.0042 764.51 L58.5296 764.51 Q61.7762 766.643 63.3676 769.475 Q64.9272 772.276 64.9272 776 Q64.9272 782.143 61.1078 785.326 Q57.2883 788.509 49.9359 788.509 M27.4968 773.772 L27.4968 773.772 Z\" fill=\"#000000\" fill-rule=\"evenodd\" fill-opacity=\"1\" /><path clip-path=\"url(#clip370)\" d=\"M14.5426 732.522 Q21.8632 736.787 29.0246 738.856 Q36.186 740.925 43.5384 740.925 Q50.8908 740.925 58.1159 738.856 Q65.3091 736.756 72.5979 732.522 L72.5979 737.615 Q65.1182 742.389 57.8931 744.776 Q50.668 747.132 43.5384 747.132 Q36.4406 747.132 29.2474 744.776 Q22.0542 742.421 14.5426 737.615 L14.5426 732.522 Z\" fill=\"#000000\" fill-rule=\"evenodd\" fill-opacity=\"1\" /><path clip-path=\"url(#clip370)\" d=\"M18.2347 715.367 L28.3562 715.367 L28.3562 703.304 L32.9077 703.304 L32.9077 715.367 L52.2594 715.367 Q56.6199 715.367 57.8613 714.189 Q59.1026 712.98 59.1026 709.319 L59.1026 703.304 L64.0042 703.304 L64.0042 709.319 Q64.0042 716.099 61.4897 718.677 Q58.9434 721.255 52.2594 721.255 L32.9077 721.255 L32.9077 725.552 L28.3562 725.552 L28.3562 721.255 L18.2347 721.255 L18.2347 715.367 Z\" fill=\"#000000\" fill-rule=\"evenodd\" fill-opacity=\"1\" /><path clip-path=\"url(#clip370)\" d=\"M14.5426 696.524 L14.5426 691.432 Q22.0542 686.658 29.2474 684.302 Q36.4406 681.915 43.5384 681.915 Q50.668 681.915 57.8931 684.302 Q65.1182 686.658 72.5979 691.432 L72.5979 696.524 Q65.3091 692.291 58.1159 690.222 Q50.8908 688.122 43.5384 688.122 Q36.186 688.122 29.0246 690.222 Q21.8632 692.291 14.5426 696.524 Z\" fill=\"#000000\" fill-rule=\"evenodd\" fill-opacity=\"1\" /><polyline clip-path=\"url(#clip372)\" style=\"stroke:#009af9; stroke-linecap:butt; stroke-linejoin:round; stroke-width:8; stroke-opacity:1; fill:none\" points=\"\n",
       "  309.067,203.402 320.405,241.159 333.631,283.671 350.042,334.213 368.685,388.795 389.839,447.275 413.004,507.344 438.102,568.044 464.827,628.024 493.026,686.489 \n",
       "  522.503,742.719 553.124,796.278 584.761,846.858 617.321,894.307 650.728,938.567 684.926,979.663 719.874,1017.67 755.545,1052.7 791.924,1084.9 829.004,1114.42 \n",
       "  866.789,1141.42 905.288,1166.05 944.517,1188.49 984.496,1208.89 1025.25,1227.4 1066.81,1244.16 1109.22,1259.3 1152.5,1272.96 1196.7,1285.26 1241.87,1296.3 \n",
       "  1288.05,1306.2 1335.29,1315.05 1383.66,1322.94 1433.21,1329.96 1484.01,1336.18 1536.13,1341.68 1589.64,1346.54 1644.62,1350.8 1701.17,1354.53 1759.37,1357.79 \n",
       "  1819.33,1360.61 1881.15,1363.06 1944.97,1365.16 2010.9,1366.97 2079.1,1368.51 2149.73,1369.81 2222.94,1370.91 2293.23,1371.76 \n",
       "  \"/>\n",
       "<polyline clip-path=\"url(#clip372)\" style=\"stroke:#000000; stroke-linecap:butt; stroke-linejoin:round; stroke-width:4; stroke-opacity:1; fill:none\" points=\"\n",
       "  309.067,320.619 309.067,86.1857 \n",
       "  \"/>\n",
       "<polyline clip-path=\"url(#clip372)\" style=\"stroke:#000000; stroke-linecap:butt; stroke-linejoin:round; stroke-width:4; stroke-opacity:1; fill:none\" points=\"\n",
       "  320.405,355.339 320.405,126.98 \n",
       "  \"/>\n",
       "<polyline clip-path=\"url(#clip372)\" style=\"stroke:#000000; stroke-linecap:butt; stroke-linejoin:round; stroke-width:4; stroke-opacity:1; fill:none\" points=\"\n",
       "  333.631,396.158 333.631,171.184 \n",
       "  \"/>\n",
       "<polyline clip-path=\"url(#clip372)\" style=\"stroke:#000000; stroke-linecap:butt; stroke-linejoin:round; stroke-width:4; stroke-opacity:1; fill:none\" points=\"\n",
       "  350.042,446.882 350.042,221.545 \n",
       "  \"/>\n",
       "<polyline clip-path=\"url(#clip372)\" style=\"stroke:#000000; stroke-linecap:butt; stroke-linejoin:round; stroke-width:4; stroke-opacity:1; fill:none\" points=\"\n",
       "  368.685,503.92 368.685,273.671 \n",
       "  \"/>\n",
       "<polyline clip-path=\"url(#clip372)\" style=\"stroke:#000000; stroke-linecap:butt; stroke-linejoin:round; stroke-width:4; stroke-opacity:1; fill:none\" points=\"\n",
       "  389.839,566.981 389.839,327.569 \n",
       "  \"/>\n",
       "<polyline clip-path=\"url(#clip372)\" style=\"stroke:#000000; stroke-linecap:butt; stroke-linejoin:round; stroke-width:4; stroke-opacity:1; fill:none\" points=\"\n",
       "  413.004,633.09 413.004,381.597 \n",
       "  \"/>\n",
       "<polyline clip-path=\"url(#clip372)\" style=\"stroke:#000000; stroke-linecap:butt; stroke-linejoin:round; stroke-width:4; stroke-opacity:1; fill:none\" points=\"\n",
       "  438.102,700.53 438.102,435.559 \n",
       "  \"/>\n",
       "<polyline clip-path=\"url(#clip372)\" style=\"stroke:#000000; stroke-linecap:butt; stroke-linejoin:round; stroke-width:4; stroke-opacity:1; fill:none\" points=\"\n",
       "  464.827,767.176 464.827,488.872 \n",
       "  \"/>\n",
       "<polyline clip-path=\"url(#clip372)\" style=\"stroke:#000000; stroke-linecap:butt; stroke-linejoin:round; stroke-width:4; stroke-opacity:1; fill:none\" points=\"\n",
       "  493.026,831.66 493.026,541.317 \n",
       "  \"/>\n",
       "<polyline clip-path=\"url(#clip372)\" style=\"stroke:#000000; stroke-linecap:butt; stroke-linejoin:round; stroke-width:4; stroke-opacity:1; fill:none\" points=\"\n",
       "  522.503,892.86 522.503,592.579 \n",
       "  \"/>\n",
       "<polyline clip-path=\"url(#clip372)\" style=\"stroke:#000000; stroke-linecap:butt; stroke-linejoin:round; stroke-width:4; stroke-opacity:1; fill:none\" points=\"\n",
       "  553.124,950.11 553.124,642.445 \n",
       "  \"/>\n",
       "<polyline clip-path=\"url(#clip372)\" style=\"stroke:#000000; stroke-linecap:butt; stroke-linejoin:round; stroke-width:4; stroke-opacity:1; fill:none\" points=\"\n",
       "  584.761,1003.01 584.761,690.709 \n",
       "  \"/>\n",
       "<polyline clip-path=\"url(#clip372)\" style=\"stroke:#000000; stroke-linecap:butt; stroke-linejoin:round; stroke-width:4; stroke-opacity:1; fill:none\" points=\"\n",
       "  617.321,1051.4 617.321,737.218 \n",
       "  \"/>\n",
       "<polyline clip-path=\"url(#clip372)\" style=\"stroke:#000000; stroke-linecap:butt; stroke-linejoin:round; stroke-width:4; stroke-opacity:1; fill:none\" points=\"\n",
       "  650.728,1095.28 650.728,781.853 \n",
       "  \"/>\n",
       "<polyline clip-path=\"url(#clip372)\" style=\"stroke:#000000; stroke-linecap:butt; stroke-linejoin:round; stroke-width:4; stroke-opacity:1; fill:none\" points=\"\n",
       "  684.926,1134.79 684.926,824.533 \n",
       "  \"/>\n",
       "<polyline clip-path=\"url(#clip372)\" style=\"stroke:#000000; stroke-linecap:butt; stroke-linejoin:round; stroke-width:4; stroke-opacity:1; fill:none\" points=\"\n",
       "  719.874,1170.13 719.874,865.208 \n",
       "  \"/>\n",
       "<polyline clip-path=\"url(#clip372)\" style=\"stroke:#000000; stroke-linecap:butt; stroke-linejoin:round; stroke-width:4; stroke-opacity:1; fill:none\" points=\"\n",
       "  755.545,1201.55 755.545,903.855 \n",
       "  \"/>\n",
       "<polyline clip-path=\"url(#clip372)\" style=\"stroke:#000000; stroke-linecap:butt; stroke-linejoin:round; stroke-width:4; stroke-opacity:1; fill:none\" points=\"\n",
       "  791.924,1229.33 791.924,940.475 \n",
       "  \"/>\n",
       "<polyline clip-path=\"url(#clip372)\" style=\"stroke:#000000; stroke-linecap:butt; stroke-linejoin:round; stroke-width:4; stroke-opacity:1; fill:none\" points=\"\n",
       "  829.004,1253.75 829.004,975.083 \n",
       "  \"/>\n",
       "<polyline clip-path=\"url(#clip372)\" style=\"stroke:#000000; stroke-linecap:butt; stroke-linejoin:round; stroke-width:4; stroke-opacity:1; fill:none\" points=\"\n",
       "  866.789,1275.12 866.789,1007.71 \n",
       "  \"/>\n",
       "<polyline clip-path=\"url(#clip372)\" style=\"stroke:#000000; stroke-linecap:butt; stroke-linejoin:round; stroke-width:4; stroke-opacity:1; fill:none\" points=\"\n",
       "  905.288,1293.7 905.288,1038.41 \n",
       "  \"/>\n",
       "<polyline clip-path=\"url(#clip372)\" style=\"stroke:#000000; stroke-linecap:butt; stroke-linejoin:round; stroke-width:4; stroke-opacity:1; fill:none\" points=\"\n",
       "  944.517,1309.77 944.517,1067.22 \n",
       "  \"/>\n",
       "<polyline clip-path=\"url(#clip372)\" style=\"stroke:#000000; stroke-linecap:butt; stroke-linejoin:round; stroke-width:4; stroke-opacity:1; fill:none\" points=\"\n",
       "  984.496,1323.59 984.496,1094.2 \n",
       "  \"/>\n",
       "<polyline clip-path=\"url(#clip372)\" style=\"stroke:#000000; stroke-linecap:butt; stroke-linejoin:round; stroke-width:4; stroke-opacity:1; fill:none\" points=\"\n",
       "  1025.25,1335.39 1025.25,1119.41 \n",
       "  \"/>\n",
       "<polyline clip-path=\"url(#clip372)\" style=\"stroke:#000000; stroke-linecap:butt; stroke-linejoin:round; stroke-width:4; stroke-opacity:1; fill:none\" points=\"\n",
       "  1066.81,1345.39 1066.81,1142.93 \n",
       "  \"/>\n",
       "<polyline clip-path=\"url(#clip372)\" style=\"stroke:#000000; stroke-linecap:butt; stroke-linejoin:round; stroke-width:4; stroke-opacity:1; fill:none\" points=\"\n",
       "  1109.22,1353.79 1109.22,1164.81 \n",
       "  \"/>\n",
       "<polyline clip-path=\"url(#clip372)\" style=\"stroke:#000000; stroke-linecap:butt; stroke-linejoin:round; stroke-width:4; stroke-opacity:1; fill:none\" points=\"\n",
       "  1152.5,1360.8 1152.5,1185.13 \n",
       "  \"/>\n",
       "<polyline clip-path=\"url(#clip372)\" style=\"stroke:#000000; stroke-linecap:butt; stroke-linejoin:round; stroke-width:4; stroke-opacity:1; fill:none\" points=\"\n",
       "  1196.7,1366.57 1196.7,1203.96 \n",
       "  \"/>\n",
       "<polyline clip-path=\"url(#clip372)\" style=\"stroke:#000000; stroke-linecap:butt; stroke-linejoin:round; stroke-width:4; stroke-opacity:1; fill:none\" points=\"\n",
       "  1241.87,1371.25 1241.87,1221.35 \n",
       "  \"/>\n",
       "<polyline clip-path=\"url(#clip372)\" style=\"stroke:#000000; stroke-linecap:butt; stroke-linejoin:round; stroke-width:4; stroke-opacity:1; fill:none\" points=\"\n",
       "  1288.05,1375 1288.05,1237.4 \n",
       "  \"/>\n",
       "<polyline clip-path=\"url(#clip372)\" style=\"stroke:#000000; stroke-linecap:butt; stroke-linejoin:round; stroke-width:4; stroke-opacity:1; fill:none\" points=\"\n",
       "  1335.29,1377.94 1335.29,1252.15 \n",
       "  \"/>\n",
       "<polyline clip-path=\"url(#clip372)\" style=\"stroke:#000000; stroke-linecap:butt; stroke-linejoin:round; stroke-width:4; stroke-opacity:1; fill:none\" points=\"\n",
       "  1383.66,1380.19 1383.66,1265.69 \n",
       "  \"/>\n",
       "<polyline clip-path=\"url(#clip372)\" style=\"stroke:#000000; stroke-linecap:butt; stroke-linejoin:round; stroke-width:4; stroke-opacity:1; fill:none\" points=\"\n",
       "  1433.21,1381.84 1433.21,1278.07 \n",
       "  \"/>\n",
       "<polyline clip-path=\"url(#clip372)\" style=\"stroke:#000000; stroke-linecap:butt; stroke-linejoin:round; stroke-width:4; stroke-opacity:1; fill:none\" points=\"\n",
       "  1484.01,1383 1484.01,1289.36 \n",
       "  \"/>\n",
       "<polyline clip-path=\"url(#clip372)\" style=\"stroke:#000000; stroke-linecap:butt; stroke-linejoin:round; stroke-width:4; stroke-opacity:1; fill:none\" points=\"\n",
       "  1536.13,1383.73 1536.13,1299.63 \n",
       "  \"/>\n",
       "<polyline clip-path=\"url(#clip372)\" style=\"stroke:#000000; stroke-linecap:butt; stroke-linejoin:round; stroke-width:4; stroke-opacity:1; fill:none\" points=\"\n",
       "  1589.64,1384.13 1589.64,1308.95 \n",
       "  \"/>\n",
       "<polyline clip-path=\"url(#clip372)\" style=\"stroke:#000000; stroke-linecap:butt; stroke-linejoin:round; stroke-width:4; stroke-opacity:1; fill:none\" points=\"\n",
       "  1644.62,1384.24 1644.62,1317.36 \n",
       "  \"/>\n",
       "<polyline clip-path=\"url(#clip372)\" style=\"stroke:#000000; stroke-linecap:butt; stroke-linejoin:round; stroke-width:4; stroke-opacity:1; fill:none\" points=\"\n",
       "  1701.17,1384.13 1701.17,1324.93 \n",
       "  \"/>\n",
       "<polyline clip-path=\"url(#clip372)\" style=\"stroke:#000000; stroke-linecap:butt; stroke-linejoin:round; stroke-width:4; stroke-opacity:1; fill:none\" points=\"\n",
       "  1759.37,1383.85 1759.37,1331.73 \n",
       "  \"/>\n",
       "<polyline clip-path=\"url(#clip372)\" style=\"stroke:#000000; stroke-linecap:butt; stroke-linejoin:round; stroke-width:4; stroke-opacity:1; fill:none\" points=\"\n",
       "  1819.33,1383.43 1819.33,1337.79 \n",
       "  \"/>\n",
       "<polyline clip-path=\"url(#clip372)\" style=\"stroke:#000000; stroke-linecap:butt; stroke-linejoin:round; stroke-width:4; stroke-opacity:1; fill:none\" points=\"\n",
       "  1881.15,1382.92 1881.15,1343.19 \n",
       "  \"/>\n",
       "<polyline clip-path=\"url(#clip372)\" style=\"stroke:#000000; stroke-linecap:butt; stroke-linejoin:round; stroke-width:4; stroke-opacity:1; fill:none\" points=\"\n",
       "  1944.97,1382.35 1944.97,1347.97 \n",
       "  \"/>\n",
       "<polyline clip-path=\"url(#clip372)\" style=\"stroke:#000000; stroke-linecap:butt; stroke-linejoin:round; stroke-width:4; stroke-opacity:1; fill:none\" points=\"\n",
       "  2010.9,1381.75 2010.9,1352.19 \n",
       "  \"/>\n",
       "<polyline clip-path=\"url(#clip372)\" style=\"stroke:#000000; stroke-linecap:butt; stroke-linejoin:round; stroke-width:4; stroke-opacity:1; fill:none\" points=\"\n",
       "  2079.1,1381.13 2079.1,1355.88 \n",
       "  \"/>\n",
       "<polyline clip-path=\"url(#clip372)\" style=\"stroke:#000000; stroke-linecap:butt; stroke-linejoin:round; stroke-width:4; stroke-opacity:1; fill:none\" points=\"\n",
       "  2149.73,1380.51 2149.73,1359.11 \n",
       "  \"/>\n",
       "<polyline clip-path=\"url(#clip372)\" style=\"stroke:#000000; stroke-linecap:butt; stroke-linejoin:round; stroke-width:4; stroke-opacity:1; fill:none\" points=\"\n",
       "  2222.94,1379.91 2222.94,1361.9 \n",
       "  \"/>\n",
       "<polyline clip-path=\"url(#clip372)\" style=\"stroke:#000000; stroke-linecap:butt; stroke-linejoin:round; stroke-width:4; stroke-opacity:1; fill:none\" points=\"\n",
       "  2293.23,1379.39 2293.23,1364.14 \n",
       "  \"/>\n",
       "<line clip-path=\"url(#clip372)\" x1=\"325.067\" y1=\"320.619\" x2=\"293.067\" y2=\"320.619\" style=\"stroke:#000000; stroke-width:3.2; stroke-opacity:1\"/>\n",
       "<line clip-path=\"url(#clip372)\" x1=\"325.067\" y1=\"86.1857\" x2=\"293.067\" y2=\"86.1857\" style=\"stroke:#000000; stroke-width:3.2; stroke-opacity:1\"/>\n",
       "<line clip-path=\"url(#clip372)\" x1=\"336.405\" y1=\"355.339\" x2=\"304.405\" y2=\"355.339\" style=\"stroke:#000000; stroke-width:3.2; stroke-opacity:1\"/>\n",
       "<line clip-path=\"url(#clip372)\" x1=\"336.405\" y1=\"126.98\" x2=\"304.405\" y2=\"126.98\" style=\"stroke:#000000; stroke-width:3.2; stroke-opacity:1\"/>\n",
       "<line clip-path=\"url(#clip372)\" x1=\"349.631\" y1=\"396.158\" x2=\"317.631\" y2=\"396.158\" style=\"stroke:#000000; stroke-width:3.2; stroke-opacity:1\"/>\n",
       "<line clip-path=\"url(#clip372)\" x1=\"349.631\" y1=\"171.184\" x2=\"317.631\" y2=\"171.184\" style=\"stroke:#000000; stroke-width:3.2; stroke-opacity:1\"/>\n",
       "<line clip-path=\"url(#clip372)\" x1=\"366.042\" y1=\"446.882\" x2=\"334.042\" y2=\"446.882\" style=\"stroke:#000000; stroke-width:3.2; stroke-opacity:1\"/>\n",
       "<line clip-path=\"url(#clip372)\" x1=\"366.042\" y1=\"221.545\" x2=\"334.042\" y2=\"221.545\" style=\"stroke:#000000; stroke-width:3.2; stroke-opacity:1\"/>\n",
       "<line clip-path=\"url(#clip372)\" x1=\"384.685\" y1=\"503.92\" x2=\"352.685\" y2=\"503.92\" style=\"stroke:#000000; stroke-width:3.2; stroke-opacity:1\"/>\n",
       "<line clip-path=\"url(#clip372)\" x1=\"384.685\" y1=\"273.671\" x2=\"352.685\" y2=\"273.671\" style=\"stroke:#000000; stroke-width:3.2; stroke-opacity:1\"/>\n",
       "<line clip-path=\"url(#clip372)\" x1=\"405.839\" y1=\"566.981\" x2=\"373.839\" y2=\"566.981\" style=\"stroke:#000000; stroke-width:3.2; stroke-opacity:1\"/>\n",
       "<line clip-path=\"url(#clip372)\" x1=\"405.839\" y1=\"327.569\" x2=\"373.839\" y2=\"327.569\" style=\"stroke:#000000; stroke-width:3.2; stroke-opacity:1\"/>\n",
       "<line clip-path=\"url(#clip372)\" x1=\"429.004\" y1=\"633.09\" x2=\"397.004\" y2=\"633.09\" style=\"stroke:#000000; stroke-width:3.2; stroke-opacity:1\"/>\n",
       "<line clip-path=\"url(#clip372)\" x1=\"429.004\" y1=\"381.597\" x2=\"397.004\" y2=\"381.597\" style=\"stroke:#000000; stroke-width:3.2; stroke-opacity:1\"/>\n",
       "<line clip-path=\"url(#clip372)\" x1=\"454.102\" y1=\"700.53\" x2=\"422.102\" y2=\"700.53\" style=\"stroke:#000000; stroke-width:3.2; stroke-opacity:1\"/>\n",
       "<line clip-path=\"url(#clip372)\" x1=\"454.102\" y1=\"435.559\" x2=\"422.102\" y2=\"435.559\" style=\"stroke:#000000; stroke-width:3.2; stroke-opacity:1\"/>\n",
       "<line clip-path=\"url(#clip372)\" x1=\"480.827\" y1=\"767.176\" x2=\"448.827\" y2=\"767.176\" style=\"stroke:#000000; stroke-width:3.2; stroke-opacity:1\"/>\n",
       "<line clip-path=\"url(#clip372)\" x1=\"480.827\" y1=\"488.872\" x2=\"448.827\" y2=\"488.872\" style=\"stroke:#000000; stroke-width:3.2; stroke-opacity:1\"/>\n",
       "<line clip-path=\"url(#clip372)\" x1=\"509.026\" y1=\"831.66\" x2=\"477.026\" y2=\"831.66\" style=\"stroke:#000000; stroke-width:3.2; stroke-opacity:1\"/>\n",
       "<line clip-path=\"url(#clip372)\" x1=\"509.026\" y1=\"541.317\" x2=\"477.026\" y2=\"541.317\" style=\"stroke:#000000; stroke-width:3.2; stroke-opacity:1\"/>\n",
       "<line clip-path=\"url(#clip372)\" x1=\"538.503\" y1=\"892.86\" x2=\"506.503\" y2=\"892.86\" style=\"stroke:#000000; stroke-width:3.2; stroke-opacity:1\"/>\n",
       "<line clip-path=\"url(#clip372)\" x1=\"538.503\" y1=\"592.579\" x2=\"506.503\" y2=\"592.579\" style=\"stroke:#000000; stroke-width:3.2; stroke-opacity:1\"/>\n",
       "<line clip-path=\"url(#clip372)\" x1=\"569.124\" y1=\"950.11\" x2=\"537.124\" y2=\"950.11\" style=\"stroke:#000000; stroke-width:3.2; stroke-opacity:1\"/>\n",
       "<line clip-path=\"url(#clip372)\" x1=\"569.124\" y1=\"642.445\" x2=\"537.124\" y2=\"642.445\" style=\"stroke:#000000; stroke-width:3.2; stroke-opacity:1\"/>\n",
       "<line clip-path=\"url(#clip372)\" x1=\"600.761\" y1=\"1003.01\" x2=\"568.761\" y2=\"1003.01\" style=\"stroke:#000000; stroke-width:3.2; stroke-opacity:1\"/>\n",
       "<line clip-path=\"url(#clip372)\" x1=\"600.761\" y1=\"690.709\" x2=\"568.761\" y2=\"690.709\" style=\"stroke:#000000; stroke-width:3.2; stroke-opacity:1\"/>\n",
       "<line clip-path=\"url(#clip372)\" x1=\"633.321\" y1=\"1051.4\" x2=\"601.321\" y2=\"1051.4\" style=\"stroke:#000000; stroke-width:3.2; stroke-opacity:1\"/>\n",
       "<line clip-path=\"url(#clip372)\" x1=\"633.321\" y1=\"737.218\" x2=\"601.321\" y2=\"737.218\" style=\"stroke:#000000; stroke-width:3.2; stroke-opacity:1\"/>\n",
       "<line clip-path=\"url(#clip372)\" x1=\"666.728\" y1=\"1095.28\" x2=\"634.728\" y2=\"1095.28\" style=\"stroke:#000000; stroke-width:3.2; stroke-opacity:1\"/>\n",
       "<line clip-path=\"url(#clip372)\" x1=\"666.728\" y1=\"781.853\" x2=\"634.728\" y2=\"781.853\" style=\"stroke:#000000; stroke-width:3.2; stroke-opacity:1\"/>\n",
       "<line clip-path=\"url(#clip372)\" x1=\"700.926\" y1=\"1134.79\" x2=\"668.926\" y2=\"1134.79\" style=\"stroke:#000000; stroke-width:3.2; stroke-opacity:1\"/>\n",
       "<line clip-path=\"url(#clip372)\" x1=\"700.926\" y1=\"824.533\" x2=\"668.926\" y2=\"824.533\" style=\"stroke:#000000; stroke-width:3.2; stroke-opacity:1\"/>\n",
       "<line clip-path=\"url(#clip372)\" x1=\"735.874\" y1=\"1170.13\" x2=\"703.874\" y2=\"1170.13\" style=\"stroke:#000000; stroke-width:3.2; stroke-opacity:1\"/>\n",
       "<line clip-path=\"url(#clip372)\" x1=\"735.874\" y1=\"865.208\" x2=\"703.874\" y2=\"865.208\" style=\"stroke:#000000; stroke-width:3.2; stroke-opacity:1\"/>\n",
       "<line clip-path=\"url(#clip372)\" x1=\"771.545\" y1=\"1201.55\" x2=\"739.545\" y2=\"1201.55\" style=\"stroke:#000000; stroke-width:3.2; stroke-opacity:1\"/>\n",
       "<line clip-path=\"url(#clip372)\" x1=\"771.545\" y1=\"903.855\" x2=\"739.545\" y2=\"903.855\" style=\"stroke:#000000; stroke-width:3.2; stroke-opacity:1\"/>\n",
       "<line clip-path=\"url(#clip372)\" x1=\"807.924\" y1=\"1229.33\" x2=\"775.924\" y2=\"1229.33\" style=\"stroke:#000000; stroke-width:3.2; stroke-opacity:1\"/>\n",
       "<line clip-path=\"url(#clip372)\" x1=\"807.924\" y1=\"940.475\" x2=\"775.924\" y2=\"940.475\" style=\"stroke:#000000; stroke-width:3.2; stroke-opacity:1\"/>\n",
       "<line clip-path=\"url(#clip372)\" x1=\"845.004\" y1=\"1253.75\" x2=\"813.004\" y2=\"1253.75\" style=\"stroke:#000000; stroke-width:3.2; stroke-opacity:1\"/>\n",
       "<line clip-path=\"url(#clip372)\" x1=\"845.004\" y1=\"975.083\" x2=\"813.004\" y2=\"975.083\" style=\"stroke:#000000; stroke-width:3.2; stroke-opacity:1\"/>\n",
       "<line clip-path=\"url(#clip372)\" x1=\"882.789\" y1=\"1275.12\" x2=\"850.789\" y2=\"1275.12\" style=\"stroke:#000000; stroke-width:3.2; stroke-opacity:1\"/>\n",
       "<line clip-path=\"url(#clip372)\" x1=\"882.789\" y1=\"1007.71\" x2=\"850.789\" y2=\"1007.71\" style=\"stroke:#000000; stroke-width:3.2; stroke-opacity:1\"/>\n",
       "<line clip-path=\"url(#clip372)\" x1=\"921.288\" y1=\"1293.7\" x2=\"889.288\" y2=\"1293.7\" style=\"stroke:#000000; stroke-width:3.2; stroke-opacity:1\"/>\n",
       "<line clip-path=\"url(#clip372)\" x1=\"921.288\" y1=\"1038.41\" x2=\"889.288\" y2=\"1038.41\" style=\"stroke:#000000; stroke-width:3.2; stroke-opacity:1\"/>\n",
       "<line clip-path=\"url(#clip372)\" x1=\"960.517\" y1=\"1309.77\" x2=\"928.517\" y2=\"1309.77\" style=\"stroke:#000000; stroke-width:3.2; stroke-opacity:1\"/>\n",
       "<line clip-path=\"url(#clip372)\" x1=\"960.517\" y1=\"1067.22\" x2=\"928.517\" y2=\"1067.22\" style=\"stroke:#000000; stroke-width:3.2; stroke-opacity:1\"/>\n",
       "<line clip-path=\"url(#clip372)\" x1=\"1000.5\" y1=\"1323.59\" x2=\"968.496\" y2=\"1323.59\" style=\"stroke:#000000; stroke-width:3.2; stroke-opacity:1\"/>\n",
       "<line clip-path=\"url(#clip372)\" x1=\"1000.5\" y1=\"1094.2\" x2=\"968.496\" y2=\"1094.2\" style=\"stroke:#000000; stroke-width:3.2; stroke-opacity:1\"/>\n",
       "<line clip-path=\"url(#clip372)\" x1=\"1041.25\" y1=\"1335.39\" x2=\"1009.25\" y2=\"1335.39\" style=\"stroke:#000000; stroke-width:3.2; stroke-opacity:1\"/>\n",
       "<line clip-path=\"url(#clip372)\" x1=\"1041.25\" y1=\"1119.41\" x2=\"1009.25\" y2=\"1119.41\" style=\"stroke:#000000; stroke-width:3.2; stroke-opacity:1\"/>\n",
       "<line clip-path=\"url(#clip372)\" x1=\"1082.81\" y1=\"1345.39\" x2=\"1050.81\" y2=\"1345.39\" style=\"stroke:#000000; stroke-width:3.2; stroke-opacity:1\"/>\n",
       "<line clip-path=\"url(#clip372)\" x1=\"1082.81\" y1=\"1142.93\" x2=\"1050.81\" y2=\"1142.93\" style=\"stroke:#000000; stroke-width:3.2; stroke-opacity:1\"/>\n",
       "<line clip-path=\"url(#clip372)\" x1=\"1125.22\" y1=\"1353.79\" x2=\"1093.22\" y2=\"1353.79\" style=\"stroke:#000000; stroke-width:3.2; stroke-opacity:1\"/>\n",
       "<line clip-path=\"url(#clip372)\" x1=\"1125.22\" y1=\"1164.81\" x2=\"1093.22\" y2=\"1164.81\" style=\"stroke:#000000; stroke-width:3.2; stroke-opacity:1\"/>\n",
       "<line clip-path=\"url(#clip372)\" x1=\"1168.5\" y1=\"1360.8\" x2=\"1136.5\" y2=\"1360.8\" style=\"stroke:#000000; stroke-width:3.2; stroke-opacity:1\"/>\n",
       "<line clip-path=\"url(#clip372)\" x1=\"1168.5\" y1=\"1185.13\" x2=\"1136.5\" y2=\"1185.13\" style=\"stroke:#000000; stroke-width:3.2; stroke-opacity:1\"/>\n",
       "<line clip-path=\"url(#clip372)\" x1=\"1212.7\" y1=\"1366.57\" x2=\"1180.7\" y2=\"1366.57\" style=\"stroke:#000000; stroke-width:3.2; stroke-opacity:1\"/>\n",
       "<line clip-path=\"url(#clip372)\" x1=\"1212.7\" y1=\"1203.96\" x2=\"1180.7\" y2=\"1203.96\" style=\"stroke:#000000; stroke-width:3.2; stroke-opacity:1\"/>\n",
       "<line clip-path=\"url(#clip372)\" x1=\"1257.87\" y1=\"1371.25\" x2=\"1225.87\" y2=\"1371.25\" style=\"stroke:#000000; stroke-width:3.2; stroke-opacity:1\"/>\n",
       "<line clip-path=\"url(#clip372)\" x1=\"1257.87\" y1=\"1221.35\" x2=\"1225.87\" y2=\"1221.35\" style=\"stroke:#000000; stroke-width:3.2; stroke-opacity:1\"/>\n",
       "<line clip-path=\"url(#clip372)\" x1=\"1304.05\" y1=\"1375\" x2=\"1272.05\" y2=\"1375\" style=\"stroke:#000000; stroke-width:3.2; stroke-opacity:1\"/>\n",
       "<line clip-path=\"url(#clip372)\" x1=\"1304.05\" y1=\"1237.4\" x2=\"1272.05\" y2=\"1237.4\" style=\"stroke:#000000; stroke-width:3.2; stroke-opacity:1\"/>\n",
       "<line clip-path=\"url(#clip372)\" x1=\"1351.29\" y1=\"1377.94\" x2=\"1319.29\" y2=\"1377.94\" style=\"stroke:#000000; stroke-width:3.2; stroke-opacity:1\"/>\n",
       "<line clip-path=\"url(#clip372)\" x1=\"1351.29\" y1=\"1252.15\" x2=\"1319.29\" y2=\"1252.15\" style=\"stroke:#000000; stroke-width:3.2; stroke-opacity:1\"/>\n",
       "<line clip-path=\"url(#clip372)\" x1=\"1399.66\" y1=\"1380.19\" x2=\"1367.66\" y2=\"1380.19\" style=\"stroke:#000000; stroke-width:3.2; stroke-opacity:1\"/>\n",
       "<line clip-path=\"url(#clip372)\" x1=\"1399.66\" y1=\"1265.69\" x2=\"1367.66\" y2=\"1265.69\" style=\"stroke:#000000; stroke-width:3.2; stroke-opacity:1\"/>\n",
       "<line clip-path=\"url(#clip372)\" x1=\"1449.21\" y1=\"1381.84\" x2=\"1417.21\" y2=\"1381.84\" style=\"stroke:#000000; stroke-width:3.2; stroke-opacity:1\"/>\n",
       "<line clip-path=\"url(#clip372)\" x1=\"1449.21\" y1=\"1278.07\" x2=\"1417.21\" y2=\"1278.07\" style=\"stroke:#000000; stroke-width:3.2; stroke-opacity:1\"/>\n",
       "<line clip-path=\"url(#clip372)\" x1=\"1500.01\" y1=\"1383\" x2=\"1468.01\" y2=\"1383\" style=\"stroke:#000000; stroke-width:3.2; stroke-opacity:1\"/>\n",
       "<line clip-path=\"url(#clip372)\" x1=\"1500.01\" y1=\"1289.36\" x2=\"1468.01\" y2=\"1289.36\" style=\"stroke:#000000; stroke-width:3.2; stroke-opacity:1\"/>\n",
       "<line clip-path=\"url(#clip372)\" x1=\"1552.13\" y1=\"1383.73\" x2=\"1520.13\" y2=\"1383.73\" style=\"stroke:#000000; stroke-width:3.2; stroke-opacity:1\"/>\n",
       "<line clip-path=\"url(#clip372)\" x1=\"1552.13\" y1=\"1299.63\" x2=\"1520.13\" y2=\"1299.63\" style=\"stroke:#000000; stroke-width:3.2; stroke-opacity:1\"/>\n",
       "<line clip-path=\"url(#clip372)\" x1=\"1605.64\" y1=\"1384.13\" x2=\"1573.64\" y2=\"1384.13\" style=\"stroke:#000000; stroke-width:3.2; stroke-opacity:1\"/>\n",
       "<line clip-path=\"url(#clip372)\" x1=\"1605.64\" y1=\"1308.95\" x2=\"1573.64\" y2=\"1308.95\" style=\"stroke:#000000; stroke-width:3.2; stroke-opacity:1\"/>\n",
       "<line clip-path=\"url(#clip372)\" x1=\"1660.62\" y1=\"1384.24\" x2=\"1628.62\" y2=\"1384.24\" style=\"stroke:#000000; stroke-width:3.2; stroke-opacity:1\"/>\n",
       "<line clip-path=\"url(#clip372)\" x1=\"1660.62\" y1=\"1317.36\" x2=\"1628.62\" y2=\"1317.36\" style=\"stroke:#000000; stroke-width:3.2; stroke-opacity:1\"/>\n",
       "<line clip-path=\"url(#clip372)\" x1=\"1717.17\" y1=\"1384.13\" x2=\"1685.17\" y2=\"1384.13\" style=\"stroke:#000000; stroke-width:3.2; stroke-opacity:1\"/>\n",
       "<line clip-path=\"url(#clip372)\" x1=\"1717.17\" y1=\"1324.93\" x2=\"1685.17\" y2=\"1324.93\" style=\"stroke:#000000; stroke-width:3.2; stroke-opacity:1\"/>\n",
       "<line clip-path=\"url(#clip372)\" x1=\"1775.37\" y1=\"1383.85\" x2=\"1743.37\" y2=\"1383.85\" style=\"stroke:#000000; stroke-width:3.2; stroke-opacity:1\"/>\n",
       "<line clip-path=\"url(#clip372)\" x1=\"1775.37\" y1=\"1331.73\" x2=\"1743.37\" y2=\"1331.73\" style=\"stroke:#000000; stroke-width:3.2; stroke-opacity:1\"/>\n",
       "<line clip-path=\"url(#clip372)\" x1=\"1835.33\" y1=\"1383.43\" x2=\"1803.33\" y2=\"1383.43\" style=\"stroke:#000000; stroke-width:3.2; stroke-opacity:1\"/>\n",
       "<line clip-path=\"url(#clip372)\" x1=\"1835.33\" y1=\"1337.79\" x2=\"1803.33\" y2=\"1337.79\" style=\"stroke:#000000; stroke-width:3.2; stroke-opacity:1\"/>\n",
       "<line clip-path=\"url(#clip372)\" x1=\"1897.15\" y1=\"1382.92\" x2=\"1865.15\" y2=\"1382.92\" style=\"stroke:#000000; stroke-width:3.2; stroke-opacity:1\"/>\n",
       "<line clip-path=\"url(#clip372)\" x1=\"1897.15\" y1=\"1343.19\" x2=\"1865.15\" y2=\"1343.19\" style=\"stroke:#000000; stroke-width:3.2; stroke-opacity:1\"/>\n",
       "<line clip-path=\"url(#clip372)\" x1=\"1960.97\" y1=\"1382.35\" x2=\"1928.97\" y2=\"1382.35\" style=\"stroke:#000000; stroke-width:3.2; stroke-opacity:1\"/>\n",
       "<line clip-path=\"url(#clip372)\" x1=\"1960.97\" y1=\"1347.97\" x2=\"1928.97\" y2=\"1347.97\" style=\"stroke:#000000; stroke-width:3.2; stroke-opacity:1\"/>\n",
       "<line clip-path=\"url(#clip372)\" x1=\"2026.9\" y1=\"1381.75\" x2=\"1994.9\" y2=\"1381.75\" style=\"stroke:#000000; stroke-width:3.2; stroke-opacity:1\"/>\n",
       "<line clip-path=\"url(#clip372)\" x1=\"2026.9\" y1=\"1352.19\" x2=\"1994.9\" y2=\"1352.19\" style=\"stroke:#000000; stroke-width:3.2; stroke-opacity:1\"/>\n",
       "<line clip-path=\"url(#clip372)\" x1=\"2095.1\" y1=\"1381.13\" x2=\"2063.1\" y2=\"1381.13\" style=\"stroke:#000000; stroke-width:3.2; stroke-opacity:1\"/>\n",
       "<line clip-path=\"url(#clip372)\" x1=\"2095.1\" y1=\"1355.88\" x2=\"2063.1\" y2=\"1355.88\" style=\"stroke:#000000; stroke-width:3.2; stroke-opacity:1\"/>\n",
       "<line clip-path=\"url(#clip372)\" x1=\"2165.73\" y1=\"1380.51\" x2=\"2133.73\" y2=\"1380.51\" style=\"stroke:#000000; stroke-width:3.2; stroke-opacity:1\"/>\n",
       "<line clip-path=\"url(#clip372)\" x1=\"2165.73\" y1=\"1359.11\" x2=\"2133.73\" y2=\"1359.11\" style=\"stroke:#000000; stroke-width:3.2; stroke-opacity:1\"/>\n",
       "<line clip-path=\"url(#clip372)\" x1=\"2238.94\" y1=\"1379.91\" x2=\"2206.94\" y2=\"1379.91\" style=\"stroke:#000000; stroke-width:3.2; stroke-opacity:1\"/>\n",
       "<line clip-path=\"url(#clip372)\" x1=\"2238.94\" y1=\"1361.9\" x2=\"2206.94\" y2=\"1361.9\" style=\"stroke:#000000; stroke-width:3.2; stroke-opacity:1\"/>\n",
       "<line clip-path=\"url(#clip372)\" x1=\"2309.23\" y1=\"1379.39\" x2=\"2277.23\" y2=\"1379.39\" style=\"stroke:#000000; stroke-width:3.2; stroke-opacity:1\"/>\n",
       "<line clip-path=\"url(#clip372)\" x1=\"2309.23\" y1=\"1364.14\" x2=\"2277.23\" y2=\"1364.14\" style=\"stroke:#000000; stroke-width:3.2; stroke-opacity:1\"/>\n",
       "</svg>\n"
      ]
     },
     "execution_count": 48,
     "metadata": {},
     "output_type": "execute_result"
    }
   ],
   "source": [
    "using OrdinaryDiffEq, Measurements, Plots\n",
    "\n",
    "#Half-life of Carbon-14 is 5730 years.\n",
    "c = 5.730 ± 2\n",
    "\n",
    "#Setup\n",
    "u0 = 1.0 ± 0.1\n",
    "tspan = (0.0, 1.0)\n",
    "\n",
    "#Define the problem\n",
    "radioactivedecay(u,p,t) = -c*u\n",
    "\n",
    "#Pass to solver\n",
    "prob = ODEProblem(radioactivedecay,u0,tspan)\n",
    "sol = solve(prob, Tsit5(), reltol=1e-8, abstol=1e-8);\n",
    "\n",
    "plot(sol.t, sol.u, ylabel=\"u(t)\", xlabel=\"t\", lw=2, legend=false)"
   ]
  },
  {
   "cell_type": "markdown",
   "metadata": {},
   "source": [
    "Note that, in some sense, **Julia implemented that feature by itself**.\n",
    "\n",
    "The authors of Measurements.jl and DifferentialEquations.jl never had any collabration on this.\n",
    "\n",
    "It **just works**."
   ]
  },
  {
   "cell_type": "markdown",
   "metadata": {},
   "source": [
    "## Symbolic computations"
   ]
  },
  {
   "cell_type": "markdown",
   "metadata": {},
   "source": [
    "Let's compute the Vandermonde matrix symbolically.\n",
    "\n",
    "\n",
    "\\begin{align}V=\\begin{bmatrix}1&\\alpha _{1}&\\alpha _{1}^{2}&\\dots &\\alpha _{1}^{n-1}\\\\1&\\alpha _{2}&\\alpha _{2}^{2}&\\dots &\\alpha _{2}^{n-1}\\\\1&\\alpha _{3}&\\alpha _{3}^{2}&\\dots &\\alpha _{3}^{n-1}\\\\\\vdots &\\vdots &\\vdots &\\ddots &\\vdots \\\\1&\\alpha _{m}&\\alpha _{m}^{2}&\\dots &\\alpha _{m}^{n-1}\\end{bmatrix}\\end{align}"
   ]
  },
  {
   "cell_type": "code",
   "execution_count": 51,
   "metadata": {},
   "outputs": [],
   "source": [
    "using SymPy"
   ]
  },
  {
   "cell_type": "code",
   "execution_count": 52,
   "metadata": {},
   "outputs": [
    {
     "data": {
      "text/plain": [
       "(a, b, c, d, e)"
      ]
     },
     "execution_count": 52,
     "metadata": {},
     "output_type": "execute_result"
    }
   ],
   "source": [
    "@vars a b c d e"
   ]
  },
  {
   "cell_type": "code",
   "execution_count": 53,
   "metadata": {},
   "outputs": [
    {
     "data": {
      "text/latex": [
       "$\\sin{\\left(a \\right)} \\sin{\\left(b \\right)} + \\cos{\\left(a \\right)} \\cos{\\left(b \\right)}$"
      ],
      "text/plain": [
       "sin(a)⋅sin(b) + cos(a)⋅cos(b)"
      ]
     },
     "execution_count": 53,
     "metadata": {},
     "output_type": "execute_result"
    }
   ],
   "source": [
    "sin(a)sin(b)+cos(a)*cos(b)"
   ]
  },
  {
   "cell_type": "code",
   "execution_count": 54,
   "metadata": {},
   "outputs": [
    {
     "data": {
      "text/latex": [
       "$\\cos{\\left(a - b \\right)}$"
      ],
      "text/plain": [
       "cos(a - b)"
      ]
     },
     "execution_count": 54,
     "metadata": {},
     "output_type": "execute_result"
    }
   ],
   "source": [
    "simplify(ans)"
   ]
  },
  {
   "cell_type": "code",
   "execution_count": 55,
   "metadata": {},
   "outputs": [
    {
     "data": {
      "text/latex": [
       "$\\left[ \\begin{array}{rrrrr}1&a&a^{2}&a^{3}&a^{4}\\\\1&b&b^{2}&b^{3}&b^{4}\\\\1&c&c^{2}&c^{3}&c^{4}\\\\1&d&d^{2}&d^{3}&d^{4}\\\\1&e&e^{2}&e^{3}&e^{4}\\end{array}\\right]$\n"
      ],
      "text/plain": [
       "5×5 Matrix{Sym}:\n",
       " 1  a  a^2  a^3  a^4\n",
       " 1  b  b^2  b^3  b^4\n",
       " 1  c  c^2  c^3  c^4\n",
       " 1  d  d^2  d^3  d^4\n",
       " 1  e  e^2  e^3  e^4"
      ]
     },
     "execution_count": 55,
     "metadata": {},
     "output_type": "execute_result"
    }
   ],
   "source": [
    "vander_generic([a,b,c,d,e])"
   ]
  },
  {
   "cell_type": "markdown",
   "metadata": {},
   "source": [
    "(See [Symbolics.jl](https://github.com/JuliaSymbolics/Symbolics.jl) for a pure-Julia SymPy replacement.)"
   ]
  },
  {
   "cell_type": "markdown",
   "metadata": {},
   "source": [
    "# Core messages of this Notebook\n",
    "\n",
    "* It is simple to write **type-generic code** in Julia and you should do it.\n",
    "* Generally, **generic code is just as fast as specific code**.\n",
    "* Generic Programming + Multiple Dispatch = **lots of code sharing and emergent features**"
   ]
  }
 ],
 "metadata": {
  "@webio": {
   "lastCommId": "298b65a7f67f42fb86933501340b4f4f",
   "lastKernelId": "94e38928-bc94-4f3b-9639-a305e1ab4272"
  },
  "kernelspec": {
   "display_name": "Julia 1.7.3",
   "language": "julia",
   "name": "julia-1.7"
  },
  "language_info": {
   "file_extension": ".jl",
   "mimetype": "application/julia",
   "name": "julia",
   "version": "1.7.3"
  }
 },
 "nbformat": 4,
 "nbformat_minor": 4
}
