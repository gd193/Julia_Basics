{
 "cells": [
  {
   "cell_type": "markdown",
   "metadata": {},
   "source": [
    "# Exercise: Distributed Monte Carlo"
   ]
  },
  {
   "cell_type": "markdown",
   "metadata": {},
   "source": [
    "Calculate the value of $\\pi$ through parallel direct Monte Carlo.\n",
    "\n",
    "A unit circle is inscribed inside a unit square with side length 2 (from -1 to 1). The area of the circle is $\\pi$, the area of the square is 4, and the ratio is $\\pi/4$. This means that, if you throw $N$ darts randomly at the square, approximately $M=N\\pi/4$ of those darts will land inside the unit circle.\n",
    "\n",
    "Throw darts randomly at a unit square and count how many of them ($M$) landed inside of a unit circle. Approximate $\\pi \\approx 4M/N$. Visualization:"
   ]
  },
  {
   "cell_type": "code",
   "execution_count": 3,
   "metadata": {},
   "outputs": [
    {
     "data": {
      "image/svg+xml": [
       "<?xml version=\"1.0\" encoding=\"utf-8\"?>\n",
       "<svg xmlns=\"http://www.w3.org/2000/svg\" xmlns:xlink=\"http://www.w3.org/1999/xlink\" width=\"600\" height=\"400\" viewBox=\"0 0 2400 1600\">\n",
       "<defs>\n",
       "  <clipPath id=\"clip900\">\n",
       "    <rect x=\"0\" y=\"0\" width=\"2400\" height=\"1600\"/>\n",
       "  </clipPath>\n",
       "</defs>\n",
       "<path clip-path=\"url(#clip900)\" d=\"\n",
       "M0 1600 L2400 1600 L2400 0 L0 0  Z\n",
       "  \" fill=\"#ffffff\" fill-rule=\"evenodd\" fill-opacity=\"1\"/>\n",
       "<defs>\n",
       "  <clipPath id=\"clip901\">\n",
       "    <rect x=\"480\" y=\"0\" width=\"1681\" height=\"1600\"/>\n",
       "  </clipPath>\n",
       "</defs>\n",
       "<path clip-path=\"url(#clip900)\" d=\"\n",
       "M553.744 1486.45 L1992.95 1486.45 L1992.95 47.2441 L553.744 47.2441  Z\n",
       "  \" fill=\"#ffffff\" fill-rule=\"evenodd\" fill-opacity=\"1\"/>\n",
       "<defs>\n",
       "  <clipPath id=\"clip902\">\n",
       "    <rect x=\"553\" y=\"47\" width=\"1440\" height=\"1440\"/>\n",
       "  </clipPath>\n",
       "</defs>\n",
       "<polyline clip-path=\"url(#clip900)\" style=\"stroke:#000000; stroke-linecap:butt; stroke-linejoin:round; stroke-width:4; stroke-opacity:1; fill:none\" points=\"\n",
       "  553.744,1486.45 1992.95,1486.45 \n",
       "  \"/>\n",
       "<polyline clip-path=\"url(#clip900)\" style=\"stroke:#000000; stroke-linecap:butt; stroke-linejoin:round; stroke-width:4; stroke-opacity:1; fill:none\" points=\"\n",
       "  553.744,47.2441 1992.95,47.2441 \n",
       "  \"/>\n",
       "<polyline clip-path=\"url(#clip900)\" style=\"stroke:#000000; stroke-linecap:butt; stroke-linejoin:round; stroke-width:4; stroke-opacity:1; fill:none\" points=\"\n",
       "  553.744,1486.45 553.744,1467.55 \n",
       "  \"/>\n",
       "<polyline clip-path=\"url(#clip900)\" style=\"stroke:#000000; stroke-linecap:butt; stroke-linejoin:round; stroke-width:4; stroke-opacity:1; fill:none\" points=\"\n",
       "  913.545,1486.45 913.545,1467.55 \n",
       "  \"/>\n",
       "<polyline clip-path=\"url(#clip900)\" style=\"stroke:#000000; stroke-linecap:butt; stroke-linejoin:round; stroke-width:4; stroke-opacity:1; fill:none\" points=\"\n",
       "  1273.35,1486.45 1273.35,1467.55 \n",
       "  \"/>\n",
       "<polyline clip-path=\"url(#clip900)\" style=\"stroke:#000000; stroke-linecap:butt; stroke-linejoin:round; stroke-width:4; stroke-opacity:1; fill:none\" points=\"\n",
       "  1633.15,1486.45 1633.15,1467.55 \n",
       "  \"/>\n",
       "<polyline clip-path=\"url(#clip900)\" style=\"stroke:#000000; stroke-linecap:butt; stroke-linejoin:round; stroke-width:4; stroke-opacity:1; fill:none\" points=\"\n",
       "  1992.95,1486.45 1992.95,1467.55 \n",
       "  \"/>\n",
       "<path clip-path=\"url(#clip900)\" d=\"M500.272 1532.02 L529.948 1532.02 L529.948 1535.95 L500.272 1535.95 L500.272 1532.02 Z\" fill=\"#000000\" fill-rule=\"evenodd\" fill-opacity=\"1\" /><path clip-path=\"url(#clip900)\" d=\"M540.851 1544.91 L548.489 1544.91 L548.489 1518.55 L540.179 1520.21 L540.179 1515.95 L548.443 1514.29 L553.119 1514.29 L553.119 1544.91 L560.758 1544.91 L560.758 1548.85 L540.851 1548.85 L540.851 1544.91 Z\" fill=\"#000000\" fill-rule=\"evenodd\" fill-opacity=\"1\" /><path clip-path=\"url(#clip900)\" d=\"M570.202 1542.97 L575.087 1542.97 L575.087 1548.85 L570.202 1548.85 L570.202 1542.97 Z\" fill=\"#000000\" fill-rule=\"evenodd\" fill-opacity=\"1\" /><path clip-path=\"url(#clip900)\" d=\"M595.272 1517.37 Q591.661 1517.37 589.832 1520.93 Q588.026 1524.47 588.026 1531.6 Q588.026 1538.71 589.832 1542.27 Q591.661 1545.82 595.272 1545.82 Q598.906 1545.82 600.711 1542.27 Q602.54 1538.71 602.54 1531.6 Q602.54 1524.47 600.711 1520.93 Q598.906 1517.37 595.272 1517.37 M595.272 1513.66 Q601.082 1513.66 604.137 1518.27 Q607.216 1522.85 607.216 1531.6 Q607.216 1540.33 604.137 1544.94 Q601.082 1549.52 595.272 1549.52 Q589.461 1549.52 586.383 1544.94 Q583.327 1540.33 583.327 1531.6 Q583.327 1522.85 586.383 1518.27 Q589.461 1513.66 595.272 1513.66 Z\" fill=\"#000000\" fill-rule=\"evenodd\" fill-opacity=\"1\" /><path clip-path=\"url(#clip900)\" d=\"M860.571 1532.02 L890.247 1532.02 L890.247 1535.95 L860.571 1535.95 L860.571 1532.02 Z\" fill=\"#000000\" fill-rule=\"evenodd\" fill-opacity=\"1\" /><path clip-path=\"url(#clip900)\" d=\"M910.339 1517.37 Q906.728 1517.37 904.899 1520.93 Q903.094 1524.47 903.094 1531.6 Q903.094 1538.71 904.899 1542.27 Q906.728 1545.82 910.339 1545.82 Q913.973 1545.82 915.779 1542.27 Q917.607 1538.71 917.607 1531.6 Q917.607 1524.47 915.779 1520.93 Q913.973 1517.37 910.339 1517.37 M910.339 1513.66 Q916.149 1513.66 919.205 1518.27 Q922.283 1522.85 922.283 1531.6 Q922.283 1540.33 919.205 1544.94 Q916.149 1549.52 910.339 1549.52 Q904.529 1549.52 901.45 1544.94 Q898.395 1540.33 898.395 1531.6 Q898.395 1522.85 901.45 1518.27 Q904.529 1513.66 910.339 1513.66 Z\" fill=\"#000000\" fill-rule=\"evenodd\" fill-opacity=\"1\" /><path clip-path=\"url(#clip900)\" d=\"M930.501 1542.97 L935.385 1542.97 L935.385 1548.85 L930.501 1548.85 L930.501 1542.97 Z\" fill=\"#000000\" fill-rule=\"evenodd\" fill-opacity=\"1\" /><path clip-path=\"url(#clip900)\" d=\"M945.617 1514.29 L963.973 1514.29 L963.973 1518.22 L949.899 1518.22 L949.899 1526.7 Q950.917 1526.35 951.936 1526.19 Q952.955 1526 953.973 1526 Q959.76 1526 963.14 1529.17 Q966.519 1532.34 966.519 1537.76 Q966.519 1543.34 963.047 1546.44 Q959.575 1549.52 953.255 1549.52 Q951.08 1549.52 948.811 1549.15 Q946.566 1548.78 944.158 1548.04 L944.158 1543.34 Q946.242 1544.47 948.464 1545.03 Q950.686 1545.58 953.163 1545.58 Q957.167 1545.58 959.505 1543.48 Q961.843 1541.37 961.843 1537.76 Q961.843 1534.15 959.505 1532.04 Q957.167 1529.94 953.163 1529.94 Q951.288 1529.94 949.413 1530.35 Q947.561 1530.77 945.617 1531.65 L945.617 1514.29 Z\" fill=\"#000000\" fill-rule=\"evenodd\" fill-opacity=\"1\" /><path clip-path=\"url(#clip900)\" d=\"M1250.73 1517.37 Q1247.12 1517.37 1245.29 1520.93 Q1243.49 1524.47 1243.49 1531.6 Q1243.49 1538.71 1245.29 1542.27 Q1247.12 1545.82 1250.73 1545.82 Q1254.36 1545.82 1256.17 1542.27 Q1258 1538.71 1258 1531.6 Q1258 1524.47 1256.17 1520.93 Q1254.36 1517.37 1250.73 1517.37 M1250.73 1513.66 Q1256.54 1513.66 1259.6 1518.27 Q1262.67 1522.85 1262.67 1531.6 Q1262.67 1540.33 1259.6 1544.94 Q1256.54 1549.52 1250.73 1549.52 Q1244.92 1549.52 1241.84 1544.94 Q1238.79 1540.33 1238.79 1531.6 Q1238.79 1522.85 1241.84 1518.27 Q1244.92 1513.66 1250.73 1513.66 Z\" fill=\"#000000\" fill-rule=\"evenodd\" fill-opacity=\"1\" /><path clip-path=\"url(#clip900)\" d=\"M1270.89 1542.97 L1275.78 1542.97 L1275.78 1548.85 L1270.89 1548.85 L1270.89 1542.97 Z\" fill=\"#000000\" fill-rule=\"evenodd\" fill-opacity=\"1\" /><path clip-path=\"url(#clip900)\" d=\"M1295.96 1517.37 Q1292.35 1517.37 1290.52 1520.93 Q1288.72 1524.47 1288.72 1531.6 Q1288.72 1538.71 1290.52 1542.27 Q1292.35 1545.82 1295.96 1545.82 Q1299.6 1545.82 1301.4 1542.27 Q1303.23 1538.71 1303.23 1531.6 Q1303.23 1524.47 1301.4 1520.93 Q1299.6 1517.37 1295.96 1517.37 M1295.96 1513.66 Q1301.77 1513.66 1304.83 1518.27 Q1307.91 1522.85 1307.91 1531.6 Q1307.91 1540.33 1304.83 1544.94 Q1301.77 1549.52 1295.96 1549.52 Q1290.15 1549.52 1287.07 1544.94 Q1284.02 1540.33 1284.02 1531.6 Q1284.02 1522.85 1287.07 1518.27 Q1290.15 1513.66 1295.96 1513.66 Z\" fill=\"#000000\" fill-rule=\"evenodd\" fill-opacity=\"1\" /><path clip-path=\"url(#clip900)\" d=\"M1611.03 1517.37 Q1607.42 1517.37 1605.59 1520.93 Q1603.78 1524.47 1603.78 1531.6 Q1603.78 1538.71 1605.59 1542.27 Q1607.42 1545.82 1611.03 1545.82 Q1614.66 1545.82 1616.47 1542.27 Q1618.3 1538.71 1618.3 1531.6 Q1618.3 1524.47 1616.47 1520.93 Q1614.66 1517.37 1611.03 1517.37 M1611.03 1513.66 Q1616.84 1513.66 1619.89 1518.27 Q1622.97 1522.85 1622.97 1531.6 Q1622.97 1540.33 1619.89 1544.94 Q1616.84 1549.52 1611.03 1549.52 Q1605.22 1549.52 1602.14 1544.94 Q1599.08 1540.33 1599.08 1531.6 Q1599.08 1522.85 1602.14 1518.27 Q1605.22 1513.66 1611.03 1513.66 Z\" fill=\"#000000\" fill-rule=\"evenodd\" fill-opacity=\"1\" /><path clip-path=\"url(#clip900)\" d=\"M1631.19 1542.97 L1636.08 1542.97 L1636.08 1548.85 L1631.19 1548.85 L1631.19 1542.97 Z\" fill=\"#000000\" fill-rule=\"evenodd\" fill-opacity=\"1\" /><path clip-path=\"url(#clip900)\" d=\"M1646.31 1514.29 L1664.66 1514.29 L1664.66 1518.22 L1650.59 1518.22 L1650.59 1526.7 Q1651.61 1526.35 1652.63 1526.19 Q1653.64 1526 1654.66 1526 Q1660.45 1526 1663.83 1529.17 Q1667.21 1532.34 1667.21 1537.76 Q1667.21 1543.34 1663.74 1546.44 Q1660.26 1549.52 1653.95 1549.52 Q1651.77 1549.52 1649.5 1549.15 Q1647.26 1548.78 1644.85 1548.04 L1644.85 1543.34 Q1646.93 1544.47 1649.15 1545.03 Q1651.38 1545.58 1653.85 1545.58 Q1657.86 1545.58 1660.2 1543.48 Q1662.53 1541.37 1662.53 1537.76 Q1662.53 1534.15 1660.2 1532.04 Q1657.86 1529.94 1653.85 1529.94 Q1651.98 1529.94 1650.1 1530.35 Q1648.25 1530.77 1646.31 1531.65 L1646.31 1514.29 Z\" fill=\"#000000\" fill-rule=\"evenodd\" fill-opacity=\"1\" /><path clip-path=\"url(#clip900)\" d=\"M1960.1 1544.91 L1967.74 1544.91 L1967.74 1518.55 L1959.43 1520.21 L1959.43 1515.95 L1967.69 1514.29 L1972.37 1514.29 L1972.37 1544.91 L1980.01 1544.91 L1980.01 1548.85 L1960.1 1548.85 L1960.1 1544.91 Z\" fill=\"#000000\" fill-rule=\"evenodd\" fill-opacity=\"1\" /><path clip-path=\"url(#clip900)\" d=\"M1989.45 1542.97 L1994.34 1542.97 L1994.34 1548.85 L1989.45 1548.85 L1989.45 1542.97 Z\" fill=\"#000000\" fill-rule=\"evenodd\" fill-opacity=\"1\" /><path clip-path=\"url(#clip900)\" d=\"M2014.52 1517.37 Q2010.91 1517.37 2009.08 1520.93 Q2007.28 1524.47 2007.28 1531.6 Q2007.28 1538.71 2009.08 1542.27 Q2010.91 1545.82 2014.52 1545.82 Q2018.16 1545.82 2019.96 1542.27 Q2021.79 1538.71 2021.79 1531.6 Q2021.79 1524.47 2019.96 1520.93 Q2018.16 1517.37 2014.52 1517.37 M2014.52 1513.66 Q2020.33 1513.66 2023.39 1518.27 Q2026.47 1522.85 2026.47 1531.6 Q2026.47 1540.33 2023.39 1544.94 Q2020.33 1549.52 2014.52 1549.52 Q2008.71 1549.52 2005.63 1544.94 Q2002.58 1540.33 2002.58 1531.6 Q2002.58 1522.85 2005.63 1518.27 Q2008.71 1513.66 2014.52 1513.66 Z\" fill=\"#000000\" fill-rule=\"evenodd\" fill-opacity=\"1\" /><polyline clip-path=\"url(#clip900)\" style=\"stroke:#000000; stroke-linecap:butt; stroke-linejoin:round; stroke-width:4; stroke-opacity:1; fill:none\" points=\"\n",
       "  553.744,1486.45 553.744,47.2441 \n",
       "  \"/>\n",
       "<polyline clip-path=\"url(#clip900)\" style=\"stroke:#000000; stroke-linecap:butt; stroke-linejoin:round; stroke-width:4; stroke-opacity:1; fill:none\" points=\"\n",
       "  1992.95,1486.45 1992.95,47.2441 \n",
       "  \"/>\n",
       "<polyline clip-path=\"url(#clip900)\" style=\"stroke:#000000; stroke-linecap:butt; stroke-linejoin:round; stroke-width:4; stroke-opacity:1; fill:none\" points=\"\n",
       "  553.744,1486.45 566.342,1486.45 \n",
       "  \"/>\n",
       "<polyline clip-path=\"url(#clip900)\" style=\"stroke:#000000; stroke-linecap:butt; stroke-linejoin:round; stroke-width:4; stroke-opacity:1; fill:none\" points=\"\n",
       "  553.744,1126.65 566.342,1126.65 \n",
       "  \"/>\n",
       "<polyline clip-path=\"url(#clip900)\" style=\"stroke:#000000; stroke-linecap:butt; stroke-linejoin:round; stroke-width:4; stroke-opacity:1; fill:none\" points=\"\n",
       "  553.744,766.846 566.342,766.846 \n",
       "  \"/>\n",
       "<polyline clip-path=\"url(#clip900)\" style=\"stroke:#000000; stroke-linecap:butt; stroke-linejoin:round; stroke-width:4; stroke-opacity:1; fill:none\" points=\"\n",
       "  553.744,407.045 566.342,407.045 \n",
       "  \"/>\n",
       "<polyline clip-path=\"url(#clip900)\" style=\"stroke:#000000; stroke-linecap:butt; stroke-linejoin:round; stroke-width:4; stroke-opacity:1; fill:none\" points=\"\n",
       "  553.744,47.2441 566.342,47.2441 \n",
       "  \"/>\n",
       "<path clip-path=\"url(#clip900)\" d=\"M410.8 1486.9 L440.476 1486.9 L440.476 1490.83 L410.8 1490.83 L410.8 1486.9 Z\" fill=\"#000000\" fill-rule=\"evenodd\" fill-opacity=\"1\" /><path clip-path=\"url(#clip900)\" d=\"M451.379 1499.79 L459.018 1499.79 L459.018 1473.43 L450.707 1475.09 L450.707 1470.83 L458.971 1469.17 L463.647 1469.17 L463.647 1499.79 L471.286 1499.79 L471.286 1503.73 L451.379 1503.73 L451.379 1499.79 Z\" fill=\"#000000\" fill-rule=\"evenodd\" fill-opacity=\"1\" /><path clip-path=\"url(#clip900)\" d=\"M480.73 1497.85 L485.615 1497.85 L485.615 1503.73 L480.73 1503.73 L480.73 1497.85 Z\" fill=\"#000000\" fill-rule=\"evenodd\" fill-opacity=\"1\" /><path clip-path=\"url(#clip900)\" d=\"M505.8 1472.25 Q502.189 1472.25 500.36 1475.81 Q498.554 1479.35 498.554 1486.48 Q498.554 1493.59 500.36 1497.15 Q502.189 1500.7 505.8 1500.7 Q509.434 1500.7 511.239 1497.15 Q513.068 1493.59 513.068 1486.48 Q513.068 1479.35 511.239 1475.81 Q509.434 1472.25 505.8 1472.25 M505.8 1468.54 Q511.61 1468.54 514.665 1473.15 Q517.744 1477.73 517.744 1486.48 Q517.744 1495.21 514.665 1499.82 Q511.61 1504.4 505.8 1504.4 Q499.99 1504.4 496.911 1499.82 Q493.855 1495.21 493.855 1486.48 Q493.855 1477.73 496.911 1473.15 Q499.99 1468.54 505.8 1468.54 Z\" fill=\"#000000\" fill-rule=\"evenodd\" fill-opacity=\"1\" /><path clip-path=\"url(#clip900)\" d=\"M411.796 1127.1 L441.471 1127.1 L441.471 1131.03 L411.796 1131.03 L411.796 1127.1 Z\" fill=\"#000000\" fill-rule=\"evenodd\" fill-opacity=\"1\" /><path clip-path=\"url(#clip900)\" d=\"M461.564 1112.45 Q457.953 1112.45 456.124 1116.01 Q454.318 1119.55 454.318 1126.68 Q454.318 1133.79 456.124 1137.35 Q457.953 1140.89 461.564 1140.89 Q465.198 1140.89 467.004 1137.35 Q468.832 1133.79 468.832 1126.68 Q468.832 1119.55 467.004 1116.01 Q465.198 1112.45 461.564 1112.45 M461.564 1108.74 Q467.374 1108.74 470.43 1113.35 Q473.508 1117.93 473.508 1126.68 Q473.508 1135.41 470.43 1140.01 Q467.374 1144.6 461.564 1144.6 Q455.754 1144.6 452.675 1140.01 Q449.619 1135.41 449.619 1126.68 Q449.619 1117.93 452.675 1113.35 Q455.754 1108.74 461.564 1108.74 Z\" fill=\"#000000\" fill-rule=\"evenodd\" fill-opacity=\"1\" /><path clip-path=\"url(#clip900)\" d=\"M481.726 1138.05 L486.61 1138.05 L486.61 1143.93 L481.726 1143.93 L481.726 1138.05 Z\" fill=\"#000000\" fill-rule=\"evenodd\" fill-opacity=\"1\" /><path clip-path=\"url(#clip900)\" d=\"M496.841 1109.37 L515.198 1109.37 L515.198 1113.3 L501.124 1113.3 L501.124 1121.77 Q502.142 1121.43 503.161 1121.27 Q504.179 1121.08 505.198 1121.08 Q510.985 1121.08 514.364 1124.25 Q517.744 1127.42 517.744 1132.84 Q517.744 1138.42 514.272 1141.52 Q510.8 1144.6 504.48 1144.6 Q502.304 1144.6 500.036 1144.23 Q497.79 1143.86 495.383 1143.12 L495.383 1138.42 Q497.466 1139.55 499.689 1140.11 Q501.911 1140.66 504.388 1140.66 Q508.392 1140.66 510.73 1138.56 Q513.068 1136.45 513.068 1132.84 Q513.068 1129.23 510.73 1127.12 Q508.392 1125.01 504.388 1125.01 Q502.513 1125.01 500.638 1125.43 Q498.786 1125.85 496.841 1126.73 L496.841 1109.37 Z\" fill=\"#000000\" fill-rule=\"evenodd\" fill-opacity=\"1\" /><path clip-path=\"url(#clip900)\" d=\"M460.568 752.645 Q456.957 752.645 455.129 756.209 Q453.323 759.751 453.323 766.881 Q453.323 773.987 455.129 777.552 Q456.957 781.094 460.568 781.094 Q464.203 781.094 466.008 777.552 Q467.837 773.987 467.837 766.881 Q467.837 759.751 466.008 756.209 Q464.203 752.645 460.568 752.645 M460.568 748.941 Q466.379 748.941 469.434 753.547 Q472.513 758.131 472.513 766.881 Q472.513 775.608 469.434 780.214 Q466.379 784.797 460.568 784.797 Q454.758 784.797 451.68 780.214 Q448.624 775.608 448.624 766.881 Q448.624 758.131 451.68 753.547 Q454.758 748.941 460.568 748.941 Z\" fill=\"#000000\" fill-rule=\"evenodd\" fill-opacity=\"1\" /><path clip-path=\"url(#clip900)\" d=\"M480.73 778.246 L485.615 778.246 L485.615 784.126 L480.73 784.126 L480.73 778.246 Z\" fill=\"#000000\" fill-rule=\"evenodd\" fill-opacity=\"1\" /><path clip-path=\"url(#clip900)\" d=\"M505.8 752.645 Q502.189 752.645 500.36 756.209 Q498.554 759.751 498.554 766.881 Q498.554 773.987 500.36 777.552 Q502.189 781.094 505.8 781.094 Q509.434 781.094 511.239 777.552 Q513.068 773.987 513.068 766.881 Q513.068 759.751 511.239 756.209 Q509.434 752.645 505.8 752.645 M505.8 748.941 Q511.61 748.941 514.665 753.547 Q517.744 758.131 517.744 766.881 Q517.744 775.608 514.665 780.214 Q511.61 784.797 505.8 784.797 Q499.99 784.797 496.911 780.214 Q493.855 775.608 493.855 766.881 Q493.855 758.131 496.911 753.547 Q499.99 748.941 505.8 748.941 Z\" fill=\"#000000\" fill-rule=\"evenodd\" fill-opacity=\"1\" /><path clip-path=\"url(#clip900)\" d=\"M461.564 392.844 Q457.953 392.844 456.124 396.409 Q454.318 399.95 454.318 407.08 Q454.318 414.186 456.124 417.751 Q457.953 421.293 461.564 421.293 Q465.198 421.293 467.004 417.751 Q468.832 414.186 468.832 407.08 Q468.832 399.95 467.004 396.409 Q465.198 392.844 461.564 392.844 M461.564 389.14 Q467.374 389.14 470.43 393.746 Q473.508 398.33 473.508 407.08 Q473.508 415.807 470.43 420.413 Q467.374 424.996 461.564 424.996 Q455.754 424.996 452.675 420.413 Q449.619 415.807 449.619 407.08 Q449.619 398.33 452.675 393.746 Q455.754 389.14 461.564 389.14 Z\" fill=\"#000000\" fill-rule=\"evenodd\" fill-opacity=\"1\" /><path clip-path=\"url(#clip900)\" d=\"M481.726 418.445 L486.61 418.445 L486.61 424.325 L481.726 424.325 L481.726 418.445 Z\" fill=\"#000000\" fill-rule=\"evenodd\" fill-opacity=\"1\" /><path clip-path=\"url(#clip900)\" d=\"M496.841 389.765 L515.198 389.765 L515.198 393.7 L501.124 393.7 L501.124 402.172 Q502.142 401.825 503.161 401.663 Q504.179 401.478 505.198 401.478 Q510.985 401.478 514.364 404.649 Q517.744 407.82 517.744 413.237 Q517.744 418.816 514.272 421.918 Q510.8 424.996 504.48 424.996 Q502.304 424.996 500.036 424.626 Q497.79 424.256 495.383 423.515 L495.383 418.816 Q497.466 419.95 499.689 420.506 Q501.911 421.061 504.388 421.061 Q508.392 421.061 510.73 418.955 Q513.068 416.848 513.068 413.237 Q513.068 409.626 510.73 407.52 Q508.392 405.413 504.388 405.413 Q502.513 405.413 500.638 405.83 Q498.786 406.246 496.841 407.126 L496.841 389.765 Z\" fill=\"#000000\" fill-rule=\"evenodd\" fill-opacity=\"1\" /><path clip-path=\"url(#clip900)\" d=\"M451.379 60.5889 L459.018 60.5889 L459.018 34.2233 L450.707 35.89 L450.707 31.6308 L458.971 29.9641 L463.647 29.9641 L463.647 60.5889 L471.286 60.5889 L471.286 64.5241 L451.379 64.5241 L451.379 60.5889 Z\" fill=\"#000000\" fill-rule=\"evenodd\" fill-opacity=\"1\" /><path clip-path=\"url(#clip900)\" d=\"M480.73 58.6445 L485.615 58.6445 L485.615 64.5241 L480.73 64.5241 L480.73 58.6445 Z\" fill=\"#000000\" fill-rule=\"evenodd\" fill-opacity=\"1\" /><path clip-path=\"url(#clip900)\" d=\"M505.8 33.0428 Q502.189 33.0428 500.36 36.6076 Q498.554 40.1492 498.554 47.2788 Q498.554 54.3853 500.36 57.9501 Q502.189 61.4917 505.8 61.4917 Q509.434 61.4917 511.239 57.9501 Q513.068 54.3853 513.068 47.2788 Q513.068 40.1492 511.239 36.6076 Q509.434 33.0428 505.8 33.0428 M505.8 29.3391 Q511.61 29.3391 514.665 33.9456 Q517.744 38.5289 517.744 47.2788 Q517.744 56.0056 514.665 60.6121 Q511.61 65.1954 505.8 65.1954 Q499.99 65.1954 496.911 60.6121 Q493.855 56.0056 493.855 47.2788 Q493.855 38.5289 496.911 33.9456 Q499.99 29.3391 505.8 29.3391 Z\" fill=\"#000000\" fill-rule=\"evenodd\" fill-opacity=\"1\" /><polyline clip-path=\"url(#clip902)\" style=\"stroke:#009af9; stroke-linecap:butt; stroke-linejoin:round; stroke-width:12; stroke-opacity:1; fill:none\" points=\"\n",
       "  1992.95,766.846 1991.5,721.206 1987.16,675.75 1979.94,630.66 1969.88,586.119 1957.02,542.306 1941.4,499.397 1923.09,457.565 1902.17,416.978 1878.71,377.8 \n",
       "  1852.82,340.188 1824.59,304.295 1794.15,270.264 1761.6,238.232 1727.09,208.33 1690.76,180.676 1652.74,155.382 1613.19,132.55 1572.28,112.273 1530.16,94.6314 \n",
       "  1487.01,79.6965 1443,67.5285 1398.3,58.1765 1353.11,51.6779 1307.59,48.0592 1261.93,47.3347 1216.32,49.5074 1170.94,54.5686 1125.97,62.4979 1081.59,73.2633 \n",
       "  1037.99,86.8216 995.331,103.118 953.795,122.087 913.545,143.652 874.744,167.727 837.548,194.214 802.107,223.007 768.563,253.99 737.052,287.038 707.701,322.018 \n",
       "  680.627,358.789 655.939,397.203 633.738,437.105 614.113,478.336 597.141,520.728 582.893,564.111 571.425,608.31 562.783,653.148 557.002,698.443 554.106,744.015 \n",
       "  554.106,789.677 557.002,835.248 562.783,880.544 571.425,925.382 582.893,969.581 597.141,1012.96 614.113,1055.36 633.738,1096.59 655.939,1136.49 680.627,1174.9 \n",
       "  707.701,1211.67 737.052,1246.65 768.563,1279.7 802.107,1310.68 837.548,1339.48 874.744,1365.96 913.545,1390.04 953.795,1411.6 995.331,1430.57 1037.99,1446.87 \n",
       "  1081.59,1460.43 1125.97,1471.19 1170.94,1479.12 1216.32,1484.18 1261.93,1486.36 1307.59,1485.63 1353.11,1482.01 1398.3,1475.52 1443,1466.16 1487.01,1454 \n",
       "  1530.16,1439.06 1572.28,1421.42 1613.19,1401.14 1652.74,1378.31 1690.76,1353.02 1727.09,1325.36 1761.6,1295.46 1794.15,1263.43 1824.59,1229.4 1852.82,1193.5 \n",
       "  1878.71,1155.89 1902.17,1116.71 1923.09,1076.13 1941.4,1034.29 1957.02,991.386 1969.88,947.573 1979.94,903.032 1987.16,857.942 1991.5,812.486 1992.95,766.846 \n",
       "  \n",
       "  \"/>\n",
       "<circle clip-path=\"url(#clip902)\" cx=\"616.72\" cy=\"1313.31\" r=\"9\" fill=\"#000000\" fill-rule=\"evenodd\" fill-opacity=\"1\" stroke=\"none\"/>\n",
       "<circle clip-path=\"url(#clip902)\" cx=\"767.527\" cy=\"666.284\" r=\"9\" fill=\"#000000\" fill-rule=\"evenodd\" fill-opacity=\"1\" stroke=\"none\"/>\n",
       "<circle clip-path=\"url(#clip902)\" cx=\"1068.92\" cy=\"293.893\" r=\"9\" fill=\"#000000\" fill-rule=\"evenodd\" fill-opacity=\"1\" stroke=\"none\"/>\n",
       "<circle clip-path=\"url(#clip902)\" cx=\"1957.18\" cy=\"890.668\" r=\"9\" fill=\"#000000\" fill-rule=\"evenodd\" fill-opacity=\"1\" stroke=\"none\"/>\n",
       "<circle clip-path=\"url(#clip902)\" cx=\"1264.75\" cy=\"1251.52\" r=\"9\" fill=\"#000000\" fill-rule=\"evenodd\" fill-opacity=\"1\" stroke=\"none\"/>\n",
       "<circle clip-path=\"url(#clip902)\" cx=\"687.336\" cy=\"121.653\" r=\"9\" fill=\"#000000\" fill-rule=\"evenodd\" fill-opacity=\"1\" stroke=\"none\"/>\n",
       "<circle clip-path=\"url(#clip902)\" cx=\"1602.55\" cy=\"814.289\" r=\"9\" fill=\"#000000\" fill-rule=\"evenodd\" fill-opacity=\"1\" stroke=\"none\"/>\n",
       "<circle clip-path=\"url(#clip902)\" cx=\"1747.12\" cy=\"800.952\" r=\"9\" fill=\"#000000\" fill-rule=\"evenodd\" fill-opacity=\"1\" stroke=\"none\"/>\n",
       "<circle clip-path=\"url(#clip902)\" cx=\"1284.39\" cy=\"710.293\" r=\"9\" fill=\"#000000\" fill-rule=\"evenodd\" fill-opacity=\"1\" stroke=\"none\"/>\n",
       "<circle clip-path=\"url(#clip902)\" cx=\"1900.36\" cy=\"563.844\" r=\"9\" fill=\"#000000\" fill-rule=\"evenodd\" fill-opacity=\"1\" stroke=\"none\"/>\n",
       "<circle clip-path=\"url(#clip902)\" cx=\"1531.14\" cy=\"1320.95\" r=\"9\" fill=\"#000000\" fill-rule=\"evenodd\" fill-opacity=\"1\" stroke=\"none\"/>\n",
       "<circle clip-path=\"url(#clip902)\" cx=\"998.613\" cy=\"843.819\" r=\"9\" fill=\"#000000\" fill-rule=\"evenodd\" fill-opacity=\"1\" stroke=\"none\"/>\n",
       "<circle clip-path=\"url(#clip902)\" cx=\"1283.97\" cy=\"1205.91\" r=\"9\" fill=\"#000000\" fill-rule=\"evenodd\" fill-opacity=\"1\" stroke=\"none\"/>\n",
       "<circle clip-path=\"url(#clip902)\" cx=\"1242.27\" cy=\"557.9\" r=\"9\" fill=\"#000000\" fill-rule=\"evenodd\" fill-opacity=\"1\" stroke=\"none\"/>\n",
       "<circle clip-path=\"url(#clip902)\" cx=\"969.674\" cy=\"267.363\" r=\"9\" fill=\"#000000\" fill-rule=\"evenodd\" fill-opacity=\"1\" stroke=\"none\"/>\n",
       "<circle clip-path=\"url(#clip902)\" cx=\"629.296\" cy=\"750.212\" r=\"9\" fill=\"#000000\" fill-rule=\"evenodd\" fill-opacity=\"1\" stroke=\"none\"/>\n",
       "<circle clip-path=\"url(#clip902)\" cx=\"1306.17\" cy=\"164.106\" r=\"9\" fill=\"#000000\" fill-rule=\"evenodd\" fill-opacity=\"1\" stroke=\"none\"/>\n",
       "<circle clip-path=\"url(#clip902)\" cx=\"910.907\" cy=\"467.211\" r=\"9\" fill=\"#000000\" fill-rule=\"evenodd\" fill-opacity=\"1\" stroke=\"none\"/>\n",
       "<circle clip-path=\"url(#clip902)\" cx=\"685.061\" cy=\"213.789\" r=\"9\" fill=\"#000000\" fill-rule=\"evenodd\" fill-opacity=\"1\" stroke=\"none\"/>\n",
       "<circle clip-path=\"url(#clip902)\" cx=\"697.008\" cy=\"676.894\" r=\"9\" fill=\"#000000\" fill-rule=\"evenodd\" fill-opacity=\"1\" stroke=\"none\"/>\n",
       "<circle clip-path=\"url(#clip902)\" cx=\"932.584\" cy=\"1358.91\" r=\"9\" fill=\"#000000\" fill-rule=\"evenodd\" fill-opacity=\"1\" stroke=\"none\"/>\n",
       "<circle clip-path=\"url(#clip902)\" cx=\"1150.05\" cy=\"115.812\" r=\"9\" fill=\"#000000\" fill-rule=\"evenodd\" fill-opacity=\"1\" stroke=\"none\"/>\n",
       "<circle clip-path=\"url(#clip902)\" cx=\"821.77\" cy=\"1211.11\" r=\"9\" fill=\"#000000\" fill-rule=\"evenodd\" fill-opacity=\"1\" stroke=\"none\"/>\n",
       "<circle clip-path=\"url(#clip902)\" cx=\"1462.2\" cy=\"400.24\" r=\"9\" fill=\"#000000\" fill-rule=\"evenodd\" fill-opacity=\"1\" stroke=\"none\"/>\n",
       "<circle clip-path=\"url(#clip902)\" cx=\"1323.6\" cy=\"920.388\" r=\"9\" fill=\"#000000\" fill-rule=\"evenodd\" fill-opacity=\"1\" stroke=\"none\"/>\n",
       "<circle clip-path=\"url(#clip902)\" cx=\"1743.38\" cy=\"913.833\" r=\"9\" fill=\"#000000\" fill-rule=\"evenodd\" fill-opacity=\"1\" stroke=\"none\"/>\n",
       "<circle clip-path=\"url(#clip902)\" cx=\"793.936\" cy=\"1146.98\" r=\"9\" fill=\"#000000\" fill-rule=\"evenodd\" fill-opacity=\"1\" stroke=\"none\"/>\n",
       "<circle clip-path=\"url(#clip902)\" cx=\"1115.26\" cy=\"790.453\" r=\"9\" fill=\"#000000\" fill-rule=\"evenodd\" fill-opacity=\"1\" stroke=\"none\"/>\n",
       "<circle clip-path=\"url(#clip902)\" cx=\"614.938\" cy=\"752.764\" r=\"9\" fill=\"#000000\" fill-rule=\"evenodd\" fill-opacity=\"1\" stroke=\"none\"/>\n",
       "<circle clip-path=\"url(#clip902)\" cx=\"1245.92\" cy=\"324.417\" r=\"9\" fill=\"#000000\" fill-rule=\"evenodd\" fill-opacity=\"1\" stroke=\"none\"/>\n",
       "<circle clip-path=\"url(#clip902)\" cx=\"786.521\" cy=\"543.897\" r=\"9\" fill=\"#000000\" fill-rule=\"evenodd\" fill-opacity=\"1\" stroke=\"none\"/>\n",
       "<circle clip-path=\"url(#clip902)\" cx=\"1565\" cy=\"213.216\" r=\"9\" fill=\"#000000\" fill-rule=\"evenodd\" fill-opacity=\"1\" stroke=\"none\"/>\n",
       "<circle clip-path=\"url(#clip902)\" cx=\"1932.07\" cy=\"275.416\" r=\"9\" fill=\"#000000\" fill-rule=\"evenodd\" fill-opacity=\"1\" stroke=\"none\"/>\n",
       "<circle clip-path=\"url(#clip902)\" cx=\"1776.04\" cy=\"912.885\" r=\"9\" fill=\"#000000\" fill-rule=\"evenodd\" fill-opacity=\"1\" stroke=\"none\"/>\n",
       "<circle clip-path=\"url(#clip902)\" cx=\"1347.56\" cy=\"375.742\" r=\"9\" fill=\"#000000\" fill-rule=\"evenodd\" fill-opacity=\"1\" stroke=\"none\"/>\n",
       "<circle clip-path=\"url(#clip902)\" cx=\"812.375\" cy=\"227.553\" r=\"9\" fill=\"#000000\" fill-rule=\"evenodd\" fill-opacity=\"1\" stroke=\"none\"/>\n",
       "<circle clip-path=\"url(#clip902)\" cx=\"1559.03\" cy=\"1270.18\" r=\"9\" fill=\"#000000\" fill-rule=\"evenodd\" fill-opacity=\"1\" stroke=\"none\"/>\n",
       "<circle clip-path=\"url(#clip902)\" cx=\"1492.1\" cy=\"811.888\" r=\"9\" fill=\"#000000\" fill-rule=\"evenodd\" fill-opacity=\"1\" stroke=\"none\"/>\n",
       "<circle clip-path=\"url(#clip902)\" cx=\"1943.15\" cy=\"930.4\" r=\"9\" fill=\"#000000\" fill-rule=\"evenodd\" fill-opacity=\"1\" stroke=\"none\"/>\n",
       "<circle clip-path=\"url(#clip902)\" cx=\"1235.38\" cy=\"217.686\" r=\"9\" fill=\"#000000\" fill-rule=\"evenodd\" fill-opacity=\"1\" stroke=\"none\"/>\n",
       "<circle clip-path=\"url(#clip902)\" cx=\"752.231\" cy=\"798.744\" r=\"9\" fill=\"#000000\" fill-rule=\"evenodd\" fill-opacity=\"1\" stroke=\"none\"/>\n",
       "<circle clip-path=\"url(#clip902)\" cx=\"1176.89\" cy=\"1461.7\" r=\"9\" fill=\"#000000\" fill-rule=\"evenodd\" fill-opacity=\"1\" stroke=\"none\"/>\n",
       "<circle clip-path=\"url(#clip902)\" cx=\"627.525\" cy=\"488.827\" r=\"9\" fill=\"#000000\" fill-rule=\"evenodd\" fill-opacity=\"1\" stroke=\"none\"/>\n",
       "<circle clip-path=\"url(#clip902)\" cx=\"1609.1\" cy=\"1073.26\" r=\"9\" fill=\"#000000\" fill-rule=\"evenodd\" fill-opacity=\"1\" stroke=\"none\"/>\n",
       "<circle clip-path=\"url(#clip902)\" cx=\"684.466\" cy=\"1286.87\" r=\"9\" fill=\"#000000\" fill-rule=\"evenodd\" fill-opacity=\"1\" stroke=\"none\"/>\n",
       "<circle clip-path=\"url(#clip902)\" cx=\"1927.96\" cy=\"513.596\" r=\"9\" fill=\"#000000\" fill-rule=\"evenodd\" fill-opacity=\"1\" stroke=\"none\"/>\n",
       "<circle clip-path=\"url(#clip902)\" cx=\"888.802\" cy=\"1373.02\" r=\"9\" fill=\"#000000\" fill-rule=\"evenodd\" fill-opacity=\"1\" stroke=\"none\"/>\n",
       "<circle clip-path=\"url(#clip902)\" cx=\"1534.77\" cy=\"1197.85\" r=\"9\" fill=\"#000000\" fill-rule=\"evenodd\" fill-opacity=\"1\" stroke=\"none\"/>\n",
       "<circle clip-path=\"url(#clip902)\" cx=\"1240.74\" cy=\"970.492\" r=\"9\" fill=\"#000000\" fill-rule=\"evenodd\" fill-opacity=\"1\" stroke=\"none\"/>\n",
       "<circle clip-path=\"url(#clip902)\" cx=\"1332.35\" cy=\"295.439\" r=\"9\" fill=\"#000000\" fill-rule=\"evenodd\" fill-opacity=\"1\" stroke=\"none\"/>\n",
       "<circle clip-path=\"url(#clip902)\" cx=\"1554.23\" cy=\"429.691\" r=\"9\" fill=\"#000000\" fill-rule=\"evenodd\" fill-opacity=\"1\" stroke=\"none\"/>\n",
       "<circle clip-path=\"url(#clip902)\" cx=\"1213.54\" cy=\"606.084\" r=\"9\" fill=\"#000000\" fill-rule=\"evenodd\" fill-opacity=\"1\" stroke=\"none\"/>\n",
       "<circle clip-path=\"url(#clip902)\" cx=\"1382.58\" cy=\"180.667\" r=\"9\" fill=\"#000000\" fill-rule=\"evenodd\" fill-opacity=\"1\" stroke=\"none\"/>\n",
       "<circle clip-path=\"url(#clip902)\" cx=\"1172.18\" cy=\"625.649\" r=\"9\" fill=\"#000000\" fill-rule=\"evenodd\" fill-opacity=\"1\" stroke=\"none\"/>\n",
       "<circle clip-path=\"url(#clip902)\" cx=\"1006.52\" cy=\"734.197\" r=\"9\" fill=\"#000000\" fill-rule=\"evenodd\" fill-opacity=\"1\" stroke=\"none\"/>\n",
       "<circle clip-path=\"url(#clip902)\" cx=\"1599.62\" cy=\"925.055\" r=\"9\" fill=\"#000000\" fill-rule=\"evenodd\" fill-opacity=\"1\" stroke=\"none\"/>\n",
       "<circle clip-path=\"url(#clip902)\" cx=\"1697.26\" cy=\"1455.17\" r=\"9\" fill=\"#000000\" fill-rule=\"evenodd\" fill-opacity=\"1\" stroke=\"none\"/>\n",
       "<circle clip-path=\"url(#clip902)\" cx=\"1623.23\" cy=\"1043.27\" r=\"9\" fill=\"#000000\" fill-rule=\"evenodd\" fill-opacity=\"1\" stroke=\"none\"/>\n",
       "<circle clip-path=\"url(#clip902)\" cx=\"1767.02\" cy=\"645.171\" r=\"9\" fill=\"#000000\" fill-rule=\"evenodd\" fill-opacity=\"1\" stroke=\"none\"/>\n",
       "<circle clip-path=\"url(#clip902)\" cx=\"1976.59\" cy=\"493.455\" r=\"9\" fill=\"#000000\" fill-rule=\"evenodd\" fill-opacity=\"1\" stroke=\"none\"/>\n",
       "<circle clip-path=\"url(#clip902)\" cx=\"1627.67\" cy=\"1307.05\" r=\"9\" fill=\"#000000\" fill-rule=\"evenodd\" fill-opacity=\"1\" stroke=\"none\"/>\n",
       "<circle clip-path=\"url(#clip902)\" cx=\"1854.84\" cy=\"750.143\" r=\"9\" fill=\"#000000\" fill-rule=\"evenodd\" fill-opacity=\"1\" stroke=\"none\"/>\n",
       "<circle clip-path=\"url(#clip902)\" cx=\"1266.43\" cy=\"415.742\" r=\"9\" fill=\"#000000\" fill-rule=\"evenodd\" fill-opacity=\"1\" stroke=\"none\"/>\n",
       "<circle clip-path=\"url(#clip902)\" cx=\"1216.56\" cy=\"178.42\" r=\"9\" fill=\"#000000\" fill-rule=\"evenodd\" fill-opacity=\"1\" stroke=\"none\"/>\n",
       "<circle clip-path=\"url(#clip902)\" cx=\"1278.35\" cy=\"1443.48\" r=\"9\" fill=\"#000000\" fill-rule=\"evenodd\" fill-opacity=\"1\" stroke=\"none\"/>\n",
       "<circle clip-path=\"url(#clip902)\" cx=\"612.734\" cy=\"1377.02\" r=\"9\" fill=\"#000000\" fill-rule=\"evenodd\" fill-opacity=\"1\" stroke=\"none\"/>\n",
       "<circle clip-path=\"url(#clip902)\" cx=\"1759.68\" cy=\"1056.28\" r=\"9\" fill=\"#000000\" fill-rule=\"evenodd\" fill-opacity=\"1\" stroke=\"none\"/>\n",
       "<circle clip-path=\"url(#clip902)\" cx=\"1749.54\" cy=\"670.177\" r=\"9\" fill=\"#000000\" fill-rule=\"evenodd\" fill-opacity=\"1\" stroke=\"none\"/>\n",
       "<circle clip-path=\"url(#clip902)\" cx=\"1413.3\" cy=\"195.25\" r=\"9\" fill=\"#000000\" fill-rule=\"evenodd\" fill-opacity=\"1\" stroke=\"none\"/>\n",
       "<circle clip-path=\"url(#clip902)\" cx=\"737.15\" cy=\"589.63\" r=\"9\" fill=\"#000000\" fill-rule=\"evenodd\" fill-opacity=\"1\" stroke=\"none\"/>\n",
       "<circle clip-path=\"url(#clip902)\" cx=\"1451.07\" cy=\"1068.32\" r=\"9\" fill=\"#000000\" fill-rule=\"evenodd\" fill-opacity=\"1\" stroke=\"none\"/>\n",
       "<circle clip-path=\"url(#clip902)\" cx=\"1707.8\" cy=\"1087.97\" r=\"9\" fill=\"#000000\" fill-rule=\"evenodd\" fill-opacity=\"1\" stroke=\"none\"/>\n",
       "<circle clip-path=\"url(#clip902)\" cx=\"1025.02\" cy=\"1045.18\" r=\"9\" fill=\"#000000\" fill-rule=\"evenodd\" fill-opacity=\"1\" stroke=\"none\"/>\n",
       "<circle clip-path=\"url(#clip902)\" cx=\"680.325\" cy=\"801.215\" r=\"9\" fill=\"#000000\" fill-rule=\"evenodd\" fill-opacity=\"1\" stroke=\"none\"/>\n",
       "<circle clip-path=\"url(#clip902)\" cx=\"1512.05\" cy=\"882.588\" r=\"9\" fill=\"#000000\" fill-rule=\"evenodd\" fill-opacity=\"1\" stroke=\"none\"/>\n",
       "<circle clip-path=\"url(#clip902)\" cx=\"790.835\" cy=\"1141.44\" r=\"9\" fill=\"#000000\" fill-rule=\"evenodd\" fill-opacity=\"1\" stroke=\"none\"/>\n",
       "<circle clip-path=\"url(#clip902)\" cx=\"893.849\" cy=\"617.959\" r=\"9\" fill=\"#000000\" fill-rule=\"evenodd\" fill-opacity=\"1\" stroke=\"none\"/>\n",
       "<circle clip-path=\"url(#clip902)\" cx=\"1879.77\" cy=\"1422.58\" r=\"9\" fill=\"#000000\" fill-rule=\"evenodd\" fill-opacity=\"1\" stroke=\"none\"/>\n",
       "<circle clip-path=\"url(#clip902)\" cx=\"887.618\" cy=\"1173.64\" r=\"9\" fill=\"#000000\" fill-rule=\"evenodd\" fill-opacity=\"1\" stroke=\"none\"/>\n",
       "<circle clip-path=\"url(#clip902)\" cx=\"1627.34\" cy=\"1110.76\" r=\"9\" fill=\"#000000\" fill-rule=\"evenodd\" fill-opacity=\"1\" stroke=\"none\"/>\n",
       "<circle clip-path=\"url(#clip902)\" cx=\"1597.62\" cy=\"504.2\" r=\"9\" fill=\"#000000\" fill-rule=\"evenodd\" fill-opacity=\"1\" stroke=\"none\"/>\n",
       "<circle clip-path=\"url(#clip902)\" cx=\"983.681\" cy=\"649.206\" r=\"9\" fill=\"#000000\" fill-rule=\"evenodd\" fill-opacity=\"1\" stroke=\"none\"/>\n",
       "<circle clip-path=\"url(#clip902)\" cx=\"814.58\" cy=\"926.403\" r=\"9\" fill=\"#000000\" fill-rule=\"evenodd\" fill-opacity=\"1\" stroke=\"none\"/>\n",
       "<circle clip-path=\"url(#clip902)\" cx=\"1450.89\" cy=\"392.771\" r=\"9\" fill=\"#000000\" fill-rule=\"evenodd\" fill-opacity=\"1\" stroke=\"none\"/>\n",
       "<circle clip-path=\"url(#clip902)\" cx=\"1189.86\" cy=\"59.4585\" r=\"9\" fill=\"#000000\" fill-rule=\"evenodd\" fill-opacity=\"1\" stroke=\"none\"/>\n",
       "<circle clip-path=\"url(#clip902)\" cx=\"668.406\" cy=\"1259.34\" r=\"9\" fill=\"#000000\" fill-rule=\"evenodd\" fill-opacity=\"1\" stroke=\"none\"/>\n",
       "<circle clip-path=\"url(#clip902)\" cx=\"595.134\" cy=\"406.321\" r=\"9\" fill=\"#000000\" fill-rule=\"evenodd\" fill-opacity=\"1\" stroke=\"none\"/>\n",
       "<circle clip-path=\"url(#clip902)\" cx=\"1374.23\" cy=\"719.37\" r=\"9\" fill=\"#000000\" fill-rule=\"evenodd\" fill-opacity=\"1\" stroke=\"none\"/>\n",
       "<circle clip-path=\"url(#clip902)\" cx=\"933.772\" cy=\"1462.04\" r=\"9\" fill=\"#000000\" fill-rule=\"evenodd\" fill-opacity=\"1\" stroke=\"none\"/>\n",
       "<circle clip-path=\"url(#clip902)\" cx=\"1851.62\" cy=\"583.934\" r=\"9\" fill=\"#000000\" fill-rule=\"evenodd\" fill-opacity=\"1\" stroke=\"none\"/>\n",
       "<circle clip-path=\"url(#clip902)\" cx=\"713.67\" cy=\"1147.97\" r=\"9\" fill=\"#000000\" fill-rule=\"evenodd\" fill-opacity=\"1\" stroke=\"none\"/>\n",
       "<circle clip-path=\"url(#clip902)\" cx=\"1019.83\" cy=\"646.703\" r=\"9\" fill=\"#000000\" fill-rule=\"evenodd\" fill-opacity=\"1\" stroke=\"none\"/>\n",
       "<circle clip-path=\"url(#clip902)\" cx=\"750.677\" cy=\"851.63\" r=\"9\" fill=\"#000000\" fill-rule=\"evenodd\" fill-opacity=\"1\" stroke=\"none\"/>\n",
       "<circle clip-path=\"url(#clip902)\" cx=\"1287.27\" cy=\"1030.71\" r=\"9\" fill=\"#000000\" fill-rule=\"evenodd\" fill-opacity=\"1\" stroke=\"none\"/>\n",
       "<circle clip-path=\"url(#clip902)\" cx=\"1897.64\" cy=\"1225.86\" r=\"9\" fill=\"#000000\" fill-rule=\"evenodd\" fill-opacity=\"1\" stroke=\"none\"/>\n",
       "<circle clip-path=\"url(#clip902)\" cx=\"1622.19\" cy=\"988.042\" r=\"9\" fill=\"#000000\" fill-rule=\"evenodd\" fill-opacity=\"1\" stroke=\"none\"/>\n",
       "<circle clip-path=\"url(#clip902)\" cx=\"1362.48\" cy=\"796.835\" r=\"9\" fill=\"#000000\" fill-rule=\"evenodd\" fill-opacity=\"1\" stroke=\"none\"/>\n",
       "<circle clip-path=\"url(#clip902)\" cx=\"1639.69\" cy=\"660.92\" r=\"9\" fill=\"#000000\" fill-rule=\"evenodd\" fill-opacity=\"1\" stroke=\"none\"/>\n",
       "<circle clip-path=\"url(#clip902)\" cx=\"1822.37\" cy=\"1288.13\" r=\"9\" fill=\"#000000\" fill-rule=\"evenodd\" fill-opacity=\"1\" stroke=\"none\"/>\n",
       "<circle clip-path=\"url(#clip902)\" cx=\"1769.63\" cy=\"526.69\" r=\"9\" fill=\"#000000\" fill-rule=\"evenodd\" fill-opacity=\"1\" stroke=\"none\"/>\n",
       "<circle clip-path=\"url(#clip902)\" cx=\"1564.36\" cy=\"112.492\" r=\"9\" fill=\"#000000\" fill-rule=\"evenodd\" fill-opacity=\"1\" stroke=\"none\"/>\n",
       "<circle clip-path=\"url(#clip902)\" cx=\"1382.98\" cy=\"911.641\" r=\"9\" fill=\"#000000\" fill-rule=\"evenodd\" fill-opacity=\"1\" stroke=\"none\"/>\n",
       "<circle clip-path=\"url(#clip902)\" cx=\"1330.87\" cy=\"127.283\" r=\"9\" fill=\"#000000\" fill-rule=\"evenodd\" fill-opacity=\"1\" stroke=\"none\"/>\n",
       "<circle clip-path=\"url(#clip902)\" cx=\"1085.51\" cy=\"440.886\" r=\"9\" fill=\"#000000\" fill-rule=\"evenodd\" fill-opacity=\"1\" stroke=\"none\"/>\n",
       "<circle clip-path=\"url(#clip902)\" cx=\"1671.1\" cy=\"168.095\" r=\"9\" fill=\"#000000\" fill-rule=\"evenodd\" fill-opacity=\"1\" stroke=\"none\"/>\n",
       "<circle clip-path=\"url(#clip902)\" cx=\"977.063\" cy=\"1119.5\" r=\"9\" fill=\"#000000\" fill-rule=\"evenodd\" fill-opacity=\"1\" stroke=\"none\"/>\n",
       "<circle clip-path=\"url(#clip902)\" cx=\"768.952\" cy=\"241.83\" r=\"9\" fill=\"#000000\" fill-rule=\"evenodd\" fill-opacity=\"1\" stroke=\"none\"/>\n",
       "<circle clip-path=\"url(#clip902)\" cx=\"1652.47\" cy=\"1148.37\" r=\"9\" fill=\"#000000\" fill-rule=\"evenodd\" fill-opacity=\"1\" stroke=\"none\"/>\n",
       "<circle clip-path=\"url(#clip902)\" cx=\"1603.27\" cy=\"1417.69\" r=\"9\" fill=\"#000000\" fill-rule=\"evenodd\" fill-opacity=\"1\" stroke=\"none\"/>\n",
       "<circle clip-path=\"url(#clip902)\" cx=\"1809.51\" cy=\"441.924\" r=\"9\" fill=\"#000000\" fill-rule=\"evenodd\" fill-opacity=\"1\" stroke=\"none\"/>\n",
       "<circle clip-path=\"url(#clip902)\" cx=\"1494.94\" cy=\"1313.99\" r=\"9\" fill=\"#000000\" fill-rule=\"evenodd\" fill-opacity=\"1\" stroke=\"none\"/>\n",
       "<circle clip-path=\"url(#clip902)\" cx=\"1768.89\" cy=\"1114.38\" r=\"9\" fill=\"#000000\" fill-rule=\"evenodd\" fill-opacity=\"1\" stroke=\"none\"/>\n",
       "<circle clip-path=\"url(#clip902)\" cx=\"1780.03\" cy=\"1404.16\" r=\"9\" fill=\"#000000\" fill-rule=\"evenodd\" fill-opacity=\"1\" stroke=\"none\"/>\n",
       "<circle clip-path=\"url(#clip902)\" cx=\"1915.24\" cy=\"1431.18\" r=\"9\" fill=\"#000000\" fill-rule=\"evenodd\" fill-opacity=\"1\" stroke=\"none\"/>\n",
       "<circle clip-path=\"url(#clip902)\" cx=\"606.105\" cy=\"602.088\" r=\"9\" fill=\"#000000\" fill-rule=\"evenodd\" fill-opacity=\"1\" stroke=\"none\"/>\n",
       "<circle clip-path=\"url(#clip902)\" cx=\"1850.35\" cy=\"1439.91\" r=\"9\" fill=\"#000000\" fill-rule=\"evenodd\" fill-opacity=\"1\" stroke=\"none\"/>\n",
       "<circle clip-path=\"url(#clip902)\" cx=\"1874.33\" cy=\"1122.78\" r=\"9\" fill=\"#000000\" fill-rule=\"evenodd\" fill-opacity=\"1\" stroke=\"none\"/>\n",
       "<circle clip-path=\"url(#clip902)\" cx=\"939.766\" cy=\"682.716\" r=\"9\" fill=\"#000000\" fill-rule=\"evenodd\" fill-opacity=\"1\" stroke=\"none\"/>\n",
       "<circle clip-path=\"url(#clip902)\" cx=\"767.395\" cy=\"463.401\" r=\"9\" fill=\"#000000\" fill-rule=\"evenodd\" fill-opacity=\"1\" stroke=\"none\"/>\n",
       "<circle clip-path=\"url(#clip902)\" cx=\"1140.9\" cy=\"529.441\" r=\"9\" fill=\"#000000\" fill-rule=\"evenodd\" fill-opacity=\"1\" stroke=\"none\"/>\n",
       "<circle clip-path=\"url(#clip902)\" cx=\"1777.32\" cy=\"879.513\" r=\"9\" fill=\"#000000\" fill-rule=\"evenodd\" fill-opacity=\"1\" stroke=\"none\"/>\n",
       "<circle clip-path=\"url(#clip902)\" cx=\"1690.4\" cy=\"775.659\" r=\"9\" fill=\"#000000\" fill-rule=\"evenodd\" fill-opacity=\"1\" stroke=\"none\"/>\n",
       "<circle clip-path=\"url(#clip902)\" cx=\"1776.03\" cy=\"1251.94\" r=\"9\" fill=\"#000000\" fill-rule=\"evenodd\" fill-opacity=\"1\" stroke=\"none\"/>\n",
       "<circle clip-path=\"url(#clip902)\" cx=\"1621.13\" cy=\"1179.33\" r=\"9\" fill=\"#000000\" fill-rule=\"evenodd\" fill-opacity=\"1\" stroke=\"none\"/>\n",
       "<circle clip-path=\"url(#clip902)\" cx=\"687.773\" cy=\"261.067\" r=\"9\" fill=\"#000000\" fill-rule=\"evenodd\" fill-opacity=\"1\" stroke=\"none\"/>\n",
       "<circle clip-path=\"url(#clip902)\" cx=\"1740.86\" cy=\"1057.86\" r=\"9\" fill=\"#000000\" fill-rule=\"evenodd\" fill-opacity=\"1\" stroke=\"none\"/>\n",
       "<circle clip-path=\"url(#clip902)\" cx=\"1631.27\" cy=\"114.857\" r=\"9\" fill=\"#000000\" fill-rule=\"evenodd\" fill-opacity=\"1\" stroke=\"none\"/>\n",
       "<circle clip-path=\"url(#clip902)\" cx=\"1276.55\" cy=\"127.701\" r=\"9\" fill=\"#000000\" fill-rule=\"evenodd\" fill-opacity=\"1\" stroke=\"none\"/>\n",
       "<circle clip-path=\"url(#clip902)\" cx=\"1325.07\" cy=\"266.923\" r=\"9\" fill=\"#000000\" fill-rule=\"evenodd\" fill-opacity=\"1\" stroke=\"none\"/>\n",
       "<circle clip-path=\"url(#clip902)\" cx=\"1745.22\" cy=\"731.411\" r=\"9\" fill=\"#000000\" fill-rule=\"evenodd\" fill-opacity=\"1\" stroke=\"none\"/>\n",
       "<circle clip-path=\"url(#clip902)\" cx=\"702.513\" cy=\"1210.94\" r=\"9\" fill=\"#000000\" fill-rule=\"evenodd\" fill-opacity=\"1\" stroke=\"none\"/>\n",
       "<circle clip-path=\"url(#clip902)\" cx=\"1399.76\" cy=\"165.656\" r=\"9\" fill=\"#000000\" fill-rule=\"evenodd\" fill-opacity=\"1\" stroke=\"none\"/>\n",
       "<circle clip-path=\"url(#clip902)\" cx=\"898.31\" cy=\"397.764\" r=\"9\" fill=\"#000000\" fill-rule=\"evenodd\" fill-opacity=\"1\" stroke=\"none\"/>\n",
       "<circle clip-path=\"url(#clip902)\" cx=\"991.753\" cy=\"733.232\" r=\"9\" fill=\"#000000\" fill-rule=\"evenodd\" fill-opacity=\"1\" stroke=\"none\"/>\n",
       "<circle clip-path=\"url(#clip902)\" cx=\"1420.3\" cy=\"308.19\" r=\"9\" fill=\"#000000\" fill-rule=\"evenodd\" fill-opacity=\"1\" stroke=\"none\"/>\n",
       "<circle clip-path=\"url(#clip902)\" cx=\"1278.33\" cy=\"974.092\" r=\"9\" fill=\"#000000\" fill-rule=\"evenodd\" fill-opacity=\"1\" stroke=\"none\"/>\n",
       "<circle clip-path=\"url(#clip902)\" cx=\"1675.8\" cy=\"866.295\" r=\"9\" fill=\"#000000\" fill-rule=\"evenodd\" fill-opacity=\"1\" stroke=\"none\"/>\n",
       "<circle clip-path=\"url(#clip902)\" cx=\"1632.6\" cy=\"290.497\" r=\"9\" fill=\"#000000\" fill-rule=\"evenodd\" fill-opacity=\"1\" stroke=\"none\"/>\n",
       "<circle clip-path=\"url(#clip902)\" cx=\"603.452\" cy=\"496.706\" r=\"9\" fill=\"#000000\" fill-rule=\"evenodd\" fill-opacity=\"1\" stroke=\"none\"/>\n",
       "<circle clip-path=\"url(#clip902)\" cx=\"589.2\" cy=\"1025.23\" r=\"9\" fill=\"#000000\" fill-rule=\"evenodd\" fill-opacity=\"1\" stroke=\"none\"/>\n",
       "<circle clip-path=\"url(#clip902)\" cx=\"1780.36\" cy=\"593.291\" r=\"9\" fill=\"#000000\" fill-rule=\"evenodd\" fill-opacity=\"1\" stroke=\"none\"/>\n",
       "<circle clip-path=\"url(#clip902)\" cx=\"806.196\" cy=\"906.482\" r=\"9\" fill=\"#000000\" fill-rule=\"evenodd\" fill-opacity=\"1\" stroke=\"none\"/>\n",
       "<circle clip-path=\"url(#clip902)\" cx=\"672.516\" cy=\"1292.53\" r=\"9\" fill=\"#000000\" fill-rule=\"evenodd\" fill-opacity=\"1\" stroke=\"none\"/>\n",
       "<circle clip-path=\"url(#clip902)\" cx=\"992.326\" cy=\"1342.19\" r=\"9\" fill=\"#000000\" fill-rule=\"evenodd\" fill-opacity=\"1\" stroke=\"none\"/>\n",
       "<circle clip-path=\"url(#clip902)\" cx=\"1230.53\" cy=\"699.308\" r=\"9\" fill=\"#000000\" fill-rule=\"evenodd\" fill-opacity=\"1\" stroke=\"none\"/>\n",
       "<circle clip-path=\"url(#clip902)\" cx=\"631.607\" cy=\"229.362\" r=\"9\" fill=\"#000000\" fill-rule=\"evenodd\" fill-opacity=\"1\" stroke=\"none\"/>\n",
       "<circle clip-path=\"url(#clip902)\" cx=\"1411.44\" cy=\"335.86\" r=\"9\" fill=\"#000000\" fill-rule=\"evenodd\" fill-opacity=\"1\" stroke=\"none\"/>\n",
       "<circle clip-path=\"url(#clip902)\" cx=\"1388.15\" cy=\"1317.78\" r=\"9\" fill=\"#000000\" fill-rule=\"evenodd\" fill-opacity=\"1\" stroke=\"none\"/>\n",
       "<circle clip-path=\"url(#clip902)\" cx=\"1138.09\" cy=\"50.5062\" r=\"9\" fill=\"#000000\" fill-rule=\"evenodd\" fill-opacity=\"1\" stroke=\"none\"/>\n",
       "<circle clip-path=\"url(#clip902)\" cx=\"681.279\" cy=\"982.599\" r=\"9\" fill=\"#000000\" fill-rule=\"evenodd\" fill-opacity=\"1\" stroke=\"none\"/>\n",
       "<circle clip-path=\"url(#clip902)\" cx=\"1229.93\" cy=\"535.616\" r=\"9\" fill=\"#000000\" fill-rule=\"evenodd\" fill-opacity=\"1\" stroke=\"none\"/>\n",
       "<circle clip-path=\"url(#clip902)\" cx=\"1818.61\" cy=\"480.06\" r=\"9\" fill=\"#000000\" fill-rule=\"evenodd\" fill-opacity=\"1\" stroke=\"none\"/>\n",
       "<circle clip-path=\"url(#clip902)\" cx=\"1365.26\" cy=\"267.043\" r=\"9\" fill=\"#000000\" fill-rule=\"evenodd\" fill-opacity=\"1\" stroke=\"none\"/>\n",
       "<circle clip-path=\"url(#clip902)\" cx=\"1777.6\" cy=\"1272.18\" r=\"9\" fill=\"#000000\" fill-rule=\"evenodd\" fill-opacity=\"1\" stroke=\"none\"/>\n",
       "<circle clip-path=\"url(#clip902)\" cx=\"844.963\" cy=\"858.12\" r=\"9\" fill=\"#000000\" fill-rule=\"evenodd\" fill-opacity=\"1\" stroke=\"none\"/>\n",
       "<circle clip-path=\"url(#clip902)\" cx=\"806.589\" cy=\"300.07\" r=\"9\" fill=\"#000000\" fill-rule=\"evenodd\" fill-opacity=\"1\" stroke=\"none\"/>\n",
       "<circle clip-path=\"url(#clip902)\" cx=\"1268.18\" cy=\"166.637\" r=\"9\" fill=\"#000000\" fill-rule=\"evenodd\" fill-opacity=\"1\" stroke=\"none\"/>\n",
       "<circle clip-path=\"url(#clip902)\" cx=\"1460.19\" cy=\"1473.89\" r=\"9\" fill=\"#000000\" fill-rule=\"evenodd\" fill-opacity=\"1\" stroke=\"none\"/>\n",
       "<circle clip-path=\"url(#clip902)\" cx=\"1015.82\" cy=\"862.218\" r=\"9\" fill=\"#000000\" fill-rule=\"evenodd\" fill-opacity=\"1\" stroke=\"none\"/>\n",
       "<circle clip-path=\"url(#clip902)\" cx=\"883.576\" cy=\"1088.23\" r=\"9\" fill=\"#000000\" fill-rule=\"evenodd\" fill-opacity=\"1\" stroke=\"none\"/>\n",
       "<circle clip-path=\"url(#clip902)\" cx=\"767.597\" cy=\"689.307\" r=\"9\" fill=\"#000000\" fill-rule=\"evenodd\" fill-opacity=\"1\" stroke=\"none\"/>\n",
       "<circle clip-path=\"url(#clip902)\" cx=\"1520.64\" cy=\"777.842\" r=\"9\" fill=\"#000000\" fill-rule=\"evenodd\" fill-opacity=\"1\" stroke=\"none\"/>\n",
       "<circle clip-path=\"url(#clip902)\" cx=\"1755.96\" cy=\"1440.66\" r=\"9\" fill=\"#000000\" fill-rule=\"evenodd\" fill-opacity=\"1\" stroke=\"none\"/>\n",
       "<circle clip-path=\"url(#clip902)\" cx=\"1142.07\" cy=\"1047.82\" r=\"9\" fill=\"#000000\" fill-rule=\"evenodd\" fill-opacity=\"1\" stroke=\"none\"/>\n",
       "<circle clip-path=\"url(#clip902)\" cx=\"1517.62\" cy=\"1148.32\" r=\"9\" fill=\"#000000\" fill-rule=\"evenodd\" fill-opacity=\"1\" stroke=\"none\"/>\n",
       "<circle clip-path=\"url(#clip902)\" cx=\"691.858\" cy=\"1153.46\" r=\"9\" fill=\"#000000\" fill-rule=\"evenodd\" fill-opacity=\"1\" stroke=\"none\"/>\n",
       "<circle clip-path=\"url(#clip902)\" cx=\"1338.17\" cy=\"942.06\" r=\"9\" fill=\"#000000\" fill-rule=\"evenodd\" fill-opacity=\"1\" stroke=\"none\"/>\n",
       "<circle clip-path=\"url(#clip902)\" cx=\"653.391\" cy=\"607.288\" r=\"9\" fill=\"#000000\" fill-rule=\"evenodd\" fill-opacity=\"1\" stroke=\"none\"/>\n",
       "<circle clip-path=\"url(#clip902)\" cx=\"1793.06\" cy=\"1287.99\" r=\"9\" fill=\"#000000\" fill-rule=\"evenodd\" fill-opacity=\"1\" stroke=\"none\"/>\n",
       "<circle clip-path=\"url(#clip902)\" cx=\"1916.48\" cy=\"1462.58\" r=\"9\" fill=\"#000000\" fill-rule=\"evenodd\" fill-opacity=\"1\" stroke=\"none\"/>\n",
       "<circle clip-path=\"url(#clip902)\" cx=\"1276.78\" cy=\"368.125\" r=\"9\" fill=\"#000000\" fill-rule=\"evenodd\" fill-opacity=\"1\" stroke=\"none\"/>\n",
       "<circle clip-path=\"url(#clip902)\" cx=\"1388.97\" cy=\"1166.43\" r=\"9\" fill=\"#000000\" fill-rule=\"evenodd\" fill-opacity=\"1\" stroke=\"none\"/>\n",
       "<circle clip-path=\"url(#clip902)\" cx=\"1968.47\" cy=\"777.828\" r=\"9\" fill=\"#000000\" fill-rule=\"evenodd\" fill-opacity=\"1\" stroke=\"none\"/>\n",
       "<circle clip-path=\"url(#clip902)\" cx=\"657.342\" cy=\"927.09\" r=\"9\" fill=\"#000000\" fill-rule=\"evenodd\" fill-opacity=\"1\" stroke=\"none\"/>\n",
       "<circle clip-path=\"url(#clip902)\" cx=\"1589.8\" cy=\"825.193\" r=\"9\" fill=\"#000000\" fill-rule=\"evenodd\" fill-opacity=\"1\" stroke=\"none\"/>\n",
       "<circle clip-path=\"url(#clip902)\" cx=\"1652.89\" cy=\"952.227\" r=\"9\" fill=\"#000000\" fill-rule=\"evenodd\" fill-opacity=\"1\" stroke=\"none\"/>\n",
       "<circle clip-path=\"url(#clip902)\" cx=\"1484.55\" cy=\"151.204\" r=\"9\" fill=\"#000000\" fill-rule=\"evenodd\" fill-opacity=\"1\" stroke=\"none\"/>\n",
       "<circle clip-path=\"url(#clip902)\" cx=\"1541.94\" cy=\"1148.74\" r=\"9\" fill=\"#000000\" fill-rule=\"evenodd\" fill-opacity=\"1\" stroke=\"none\"/>\n",
       "<circle clip-path=\"url(#clip902)\" cx=\"903.224\" cy=\"1317.91\" r=\"9\" fill=\"#000000\" fill-rule=\"evenodd\" fill-opacity=\"1\" stroke=\"none\"/>\n",
       "<circle clip-path=\"url(#clip902)\" cx=\"1290.3\" cy=\"354.092\" r=\"9\" fill=\"#000000\" fill-rule=\"evenodd\" fill-opacity=\"1\" stroke=\"none\"/>\n",
       "<circle clip-path=\"url(#clip902)\" cx=\"1821.98\" cy=\"825.223\" r=\"9\" fill=\"#000000\" fill-rule=\"evenodd\" fill-opacity=\"1\" stroke=\"none\"/>\n",
       "<circle clip-path=\"url(#clip902)\" cx=\"725.956\" cy=\"1350.52\" r=\"9\" fill=\"#000000\" fill-rule=\"evenodd\" fill-opacity=\"1\" stroke=\"none\"/>\n",
       "<circle clip-path=\"url(#clip902)\" cx=\"1085.02\" cy=\"162.364\" r=\"9\" fill=\"#000000\" fill-rule=\"evenodd\" fill-opacity=\"1\" stroke=\"none\"/>\n",
       "<circle clip-path=\"url(#clip902)\" cx=\"896.523\" cy=\"435.399\" r=\"9\" fill=\"#000000\" fill-rule=\"evenodd\" fill-opacity=\"1\" stroke=\"none\"/>\n",
       "<circle clip-path=\"url(#clip902)\" cx=\"1959.63\" cy=\"870.775\" r=\"9\" fill=\"#000000\" fill-rule=\"evenodd\" fill-opacity=\"1\" stroke=\"none\"/>\n",
       "<circle clip-path=\"url(#clip902)\" cx=\"1629.93\" cy=\"167.164\" r=\"9\" fill=\"#000000\" fill-rule=\"evenodd\" fill-opacity=\"1\" stroke=\"none\"/>\n",
       "<circle clip-path=\"url(#clip902)\" cx=\"1813.71\" cy=\"105.469\" r=\"9\" fill=\"#000000\" fill-rule=\"evenodd\" fill-opacity=\"1\" stroke=\"none\"/>\n",
       "<circle clip-path=\"url(#clip902)\" cx=\"1477.5\" cy=\"412.813\" r=\"9\" fill=\"#000000\" fill-rule=\"evenodd\" fill-opacity=\"1\" stroke=\"none\"/>\n",
       "<circle clip-path=\"url(#clip902)\" cx=\"1050.26\" cy=\"1007.17\" r=\"9\" fill=\"#000000\" fill-rule=\"evenodd\" fill-opacity=\"1\" stroke=\"none\"/>\n",
       "<circle clip-path=\"url(#clip902)\" cx=\"1219.51\" cy=\"228.911\" r=\"9\" fill=\"#000000\" fill-rule=\"evenodd\" fill-opacity=\"1\" stroke=\"none\"/>\n",
       "<circle clip-path=\"url(#clip902)\" cx=\"1727.8\" cy=\"1445.34\" r=\"9\" fill=\"#000000\" fill-rule=\"evenodd\" fill-opacity=\"1\" stroke=\"none\"/>\n",
       "<circle clip-path=\"url(#clip902)\" cx=\"1004.29\" cy=\"1454.46\" r=\"9\" fill=\"#000000\" fill-rule=\"evenodd\" fill-opacity=\"1\" stroke=\"none\"/>\n",
       "<circle clip-path=\"url(#clip902)\" cx=\"596.642\" cy=\"844.047\" r=\"9\" fill=\"#000000\" fill-rule=\"evenodd\" fill-opacity=\"1\" stroke=\"none\"/>\n",
       "<circle clip-path=\"url(#clip902)\" cx=\"790.851\" cy=\"1175.1\" r=\"9\" fill=\"#000000\" fill-rule=\"evenodd\" fill-opacity=\"1\" stroke=\"none\"/>\n",
       "<circle clip-path=\"url(#clip902)\" cx=\"1199.07\" cy=\"1029.58\" r=\"9\" fill=\"#000000\" fill-rule=\"evenodd\" fill-opacity=\"1\" stroke=\"none\"/>\n",
       "<circle clip-path=\"url(#clip902)\" cx=\"986.225\" cy=\"1165.25\" r=\"9\" fill=\"#000000\" fill-rule=\"evenodd\" fill-opacity=\"1\" stroke=\"none\"/>\n",
       "<circle clip-path=\"url(#clip902)\" cx=\"1083.76\" cy=\"1445.91\" r=\"9\" fill=\"#000000\" fill-rule=\"evenodd\" fill-opacity=\"1\" stroke=\"none\"/>\n",
       "<circle clip-path=\"url(#clip902)\" cx=\"1256.91\" cy=\"643.622\" r=\"9\" fill=\"#000000\" fill-rule=\"evenodd\" fill-opacity=\"1\" stroke=\"none\"/>\n",
       "<circle clip-path=\"url(#clip902)\" cx=\"1293.28\" cy=\"463.774\" r=\"9\" fill=\"#000000\" fill-rule=\"evenodd\" fill-opacity=\"1\" stroke=\"none\"/>\n",
       "<circle clip-path=\"url(#clip902)\" cx=\"1685.94\" cy=\"1425.62\" r=\"9\" fill=\"#000000\" fill-rule=\"evenodd\" fill-opacity=\"1\" stroke=\"none\"/>\n",
       "<circle clip-path=\"url(#clip902)\" cx=\"1105.35\" cy=\"786.039\" r=\"9\" fill=\"#000000\" fill-rule=\"evenodd\" fill-opacity=\"1\" stroke=\"none\"/>\n",
       "<circle clip-path=\"url(#clip902)\" cx=\"725.307\" cy=\"705.339\" r=\"9\" fill=\"#000000\" fill-rule=\"evenodd\" fill-opacity=\"1\" stroke=\"none\"/>\n",
       "<circle clip-path=\"url(#clip902)\" cx=\"900.301\" cy=\"752.609\" r=\"9\" fill=\"#000000\" fill-rule=\"evenodd\" fill-opacity=\"1\" stroke=\"none\"/>\n",
       "<circle clip-path=\"url(#clip902)\" cx=\"1136.08\" cy=\"687.422\" r=\"9\" fill=\"#000000\" fill-rule=\"evenodd\" fill-opacity=\"1\" stroke=\"none\"/>\n",
       "<circle clip-path=\"url(#clip902)\" cx=\"1785.78\" cy=\"1326.24\" r=\"9\" fill=\"#000000\" fill-rule=\"evenodd\" fill-opacity=\"1\" stroke=\"none\"/>\n",
       "<circle clip-path=\"url(#clip902)\" cx=\"1559.9\" cy=\"700.66\" r=\"9\" fill=\"#000000\" fill-rule=\"evenodd\" fill-opacity=\"1\" stroke=\"none\"/>\n",
       "<circle clip-path=\"url(#clip902)\" cx=\"1449.52\" cy=\"1059.02\" r=\"9\" fill=\"#000000\" fill-rule=\"evenodd\" fill-opacity=\"1\" stroke=\"none\"/>\n",
       "<circle clip-path=\"url(#clip902)\" cx=\"1034.49\" cy=\"262.456\" r=\"9\" fill=\"#000000\" fill-rule=\"evenodd\" fill-opacity=\"1\" stroke=\"none\"/>\n",
       "<circle clip-path=\"url(#clip902)\" cx=\"848.901\" cy=\"163.485\" r=\"9\" fill=\"#000000\" fill-rule=\"evenodd\" fill-opacity=\"1\" stroke=\"none\"/>\n",
       "<circle clip-path=\"url(#clip902)\" cx=\"1631.26\" cy=\"943.026\" r=\"9\" fill=\"#000000\" fill-rule=\"evenodd\" fill-opacity=\"1\" stroke=\"none\"/>\n",
       "<circle clip-path=\"url(#clip902)\" cx=\"759.896\" cy=\"1135.11\" r=\"9\" fill=\"#000000\" fill-rule=\"evenodd\" fill-opacity=\"1\" stroke=\"none\"/>\n",
       "<circle clip-path=\"url(#clip902)\" cx=\"938.814\" cy=\"271.191\" r=\"9\" fill=\"#000000\" fill-rule=\"evenodd\" fill-opacity=\"1\" stroke=\"none\"/>\n",
       "<circle clip-path=\"url(#clip902)\" cx=\"1147.77\" cy=\"1475.38\" r=\"9\" fill=\"#000000\" fill-rule=\"evenodd\" fill-opacity=\"1\" stroke=\"none\"/>\n",
       "<circle clip-path=\"url(#clip902)\" cx=\"1795.96\" cy=\"1277.78\" r=\"9\" fill=\"#000000\" fill-rule=\"evenodd\" fill-opacity=\"1\" stroke=\"none\"/>\n",
       "<circle clip-path=\"url(#clip902)\" cx=\"979.915\" cy=\"249.539\" r=\"9\" fill=\"#000000\" fill-rule=\"evenodd\" fill-opacity=\"1\" stroke=\"none\"/>\n",
       "<circle clip-path=\"url(#clip902)\" cx=\"1679.63\" cy=\"1297.3\" r=\"9\" fill=\"#000000\" fill-rule=\"evenodd\" fill-opacity=\"1\" stroke=\"none\"/>\n",
       "<circle clip-path=\"url(#clip902)\" cx=\"1537.38\" cy=\"945.155\" r=\"9\" fill=\"#000000\" fill-rule=\"evenodd\" fill-opacity=\"1\" stroke=\"none\"/>\n",
       "<circle clip-path=\"url(#clip902)\" cx=\"1990.34\" cy=\"1185.96\" r=\"9\" fill=\"#000000\" fill-rule=\"evenodd\" fill-opacity=\"1\" stroke=\"none\"/>\n",
       "<circle clip-path=\"url(#clip902)\" cx=\"1163.62\" cy=\"1127.16\" r=\"9\" fill=\"#000000\" fill-rule=\"evenodd\" fill-opacity=\"1\" stroke=\"none\"/>\n",
       "<circle clip-path=\"url(#clip902)\" cx=\"827.925\" cy=\"951.62\" r=\"9\" fill=\"#000000\" fill-rule=\"evenodd\" fill-opacity=\"1\" stroke=\"none\"/>\n",
       "<circle clip-path=\"url(#clip902)\" cx=\"1096.83\" cy=\"842.811\" r=\"9\" fill=\"#000000\" fill-rule=\"evenodd\" fill-opacity=\"1\" stroke=\"none\"/>\n",
       "<circle clip-path=\"url(#clip902)\" cx=\"770.1\" cy=\"1475.15\" r=\"9\" fill=\"#000000\" fill-rule=\"evenodd\" fill-opacity=\"1\" stroke=\"none\"/>\n",
       "<circle clip-path=\"url(#clip902)\" cx=\"1232.29\" cy=\"517.772\" r=\"9\" fill=\"#000000\" fill-rule=\"evenodd\" fill-opacity=\"1\" stroke=\"none\"/>\n",
       "<circle clip-path=\"url(#clip902)\" cx=\"1408.01\" cy=\"1477.45\" r=\"9\" fill=\"#000000\" fill-rule=\"evenodd\" fill-opacity=\"1\" stroke=\"none\"/>\n",
       "<circle clip-path=\"url(#clip902)\" cx=\"1559.48\" cy=\"820.351\" r=\"9\" fill=\"#000000\" fill-rule=\"evenodd\" fill-opacity=\"1\" stroke=\"none\"/>\n",
       "<circle clip-path=\"url(#clip902)\" cx=\"1176.16\" cy=\"249.473\" r=\"9\" fill=\"#000000\" fill-rule=\"evenodd\" fill-opacity=\"1\" stroke=\"none\"/>\n",
       "<circle clip-path=\"url(#clip902)\" cx=\"1890.76\" cy=\"1235.67\" r=\"9\" fill=\"#000000\" fill-rule=\"evenodd\" fill-opacity=\"1\" stroke=\"none\"/>\n",
       "<circle clip-path=\"url(#clip902)\" cx=\"945.839\" cy=\"668.066\" r=\"9\" fill=\"#000000\" fill-rule=\"evenodd\" fill-opacity=\"1\" stroke=\"none\"/>\n",
       "<circle clip-path=\"url(#clip902)\" cx=\"787.965\" cy=\"1455.89\" r=\"9\" fill=\"#000000\" fill-rule=\"evenodd\" fill-opacity=\"1\" stroke=\"none\"/>\n",
       "<circle clip-path=\"url(#clip902)\" cx=\"1476.12\" cy=\"1418.54\" r=\"9\" fill=\"#000000\" fill-rule=\"evenodd\" fill-opacity=\"1\" stroke=\"none\"/>\n",
       "<circle clip-path=\"url(#clip902)\" cx=\"1416.48\" cy=\"1371.96\" r=\"9\" fill=\"#000000\" fill-rule=\"evenodd\" fill-opacity=\"1\" stroke=\"none\"/>\n",
       "<circle clip-path=\"url(#clip902)\" cx=\"1057.91\" cy=\"125.061\" r=\"9\" fill=\"#000000\" fill-rule=\"evenodd\" fill-opacity=\"1\" stroke=\"none\"/>\n",
       "<circle clip-path=\"url(#clip902)\" cx=\"1635.81\" cy=\"221.646\" r=\"9\" fill=\"#000000\" fill-rule=\"evenodd\" fill-opacity=\"1\" stroke=\"none\"/>\n",
       "<circle clip-path=\"url(#clip902)\" cx=\"1890.01\" cy=\"1481.69\" r=\"9\" fill=\"#000000\" fill-rule=\"evenodd\" fill-opacity=\"1\" stroke=\"none\"/>\n",
       "<circle clip-path=\"url(#clip902)\" cx=\"579.812\" cy=\"629.343\" r=\"9\" fill=\"#000000\" fill-rule=\"evenodd\" fill-opacity=\"1\" stroke=\"none\"/>\n",
       "<circle clip-path=\"url(#clip902)\" cx=\"1938.4\" cy=\"252.861\" r=\"9\" fill=\"#000000\" fill-rule=\"evenodd\" fill-opacity=\"1\" stroke=\"none\"/>\n",
       "<circle clip-path=\"url(#clip902)\" cx=\"829.828\" cy=\"1461.33\" r=\"9\" fill=\"#000000\" fill-rule=\"evenodd\" fill-opacity=\"1\" stroke=\"none\"/>\n",
       "<circle clip-path=\"url(#clip902)\" cx=\"1043.1\" cy=\"1320.82\" r=\"9\" fill=\"#000000\" fill-rule=\"evenodd\" fill-opacity=\"1\" stroke=\"none\"/>\n",
       "<circle clip-path=\"url(#clip902)\" cx=\"704.048\" cy=\"779.646\" r=\"9\" fill=\"#000000\" fill-rule=\"evenodd\" fill-opacity=\"1\" stroke=\"none\"/>\n",
       "<circle clip-path=\"url(#clip902)\" cx=\"1017.89\" cy=\"194.805\" r=\"9\" fill=\"#000000\" fill-rule=\"evenodd\" fill-opacity=\"1\" stroke=\"none\"/>\n",
       "<circle clip-path=\"url(#clip902)\" cx=\"1250.19\" cy=\"726.255\" r=\"9\" fill=\"#000000\" fill-rule=\"evenodd\" fill-opacity=\"1\" stroke=\"none\"/>\n",
       "<circle clip-path=\"url(#clip902)\" cx=\"1068.29\" cy=\"1297.63\" r=\"9\" fill=\"#000000\" fill-rule=\"evenodd\" fill-opacity=\"1\" stroke=\"none\"/>\n",
       "<circle clip-path=\"url(#clip902)\" cx=\"933.175\" cy=\"1236.74\" r=\"9\" fill=\"#000000\" fill-rule=\"evenodd\" fill-opacity=\"1\" stroke=\"none\"/>\n",
       "<circle clip-path=\"url(#clip902)\" cx=\"1904.67\" cy=\"832.826\" r=\"9\" fill=\"#000000\" fill-rule=\"evenodd\" fill-opacity=\"1\" stroke=\"none\"/>\n",
       "<circle clip-path=\"url(#clip902)\" cx=\"752.529\" cy=\"1079.1\" r=\"9\" fill=\"#000000\" fill-rule=\"evenodd\" fill-opacity=\"1\" stroke=\"none\"/>\n",
       "<circle clip-path=\"url(#clip902)\" cx=\"1939.83\" cy=\"96.3545\" r=\"9\" fill=\"#000000\" fill-rule=\"evenodd\" fill-opacity=\"1\" stroke=\"none\"/>\n",
       "<circle clip-path=\"url(#clip902)\" cx=\"1910.13\" cy=\"1067.61\" r=\"9\" fill=\"#000000\" fill-rule=\"evenodd\" fill-opacity=\"1\" stroke=\"none\"/>\n",
       "<circle clip-path=\"url(#clip902)\" cx=\"944.549\" cy=\"529.45\" r=\"9\" fill=\"#000000\" fill-rule=\"evenodd\" fill-opacity=\"1\" stroke=\"none\"/>\n",
       "<circle clip-path=\"url(#clip902)\" cx=\"1065.78\" cy=\"1374.89\" r=\"9\" fill=\"#000000\" fill-rule=\"evenodd\" fill-opacity=\"1\" stroke=\"none\"/>\n",
       "<circle clip-path=\"url(#clip902)\" cx=\"1746.42\" cy=\"464.003\" r=\"9\" fill=\"#000000\" fill-rule=\"evenodd\" fill-opacity=\"1\" stroke=\"none\"/>\n",
       "<circle clip-path=\"url(#clip902)\" cx=\"994.989\" cy=\"178.806\" r=\"9\" fill=\"#000000\" fill-rule=\"evenodd\" fill-opacity=\"1\" stroke=\"none\"/>\n",
       "<circle clip-path=\"url(#clip902)\" cx=\"1325.66\" cy=\"1329.38\" r=\"9\" fill=\"#000000\" fill-rule=\"evenodd\" fill-opacity=\"1\" stroke=\"none\"/>\n",
       "<circle clip-path=\"url(#clip902)\" cx=\"1169.97\" cy=\"483.602\" r=\"9\" fill=\"#000000\" fill-rule=\"evenodd\" fill-opacity=\"1\" stroke=\"none\"/>\n",
       "<circle clip-path=\"url(#clip902)\" cx=\"1749.69\" cy=\"228.423\" r=\"9\" fill=\"#000000\" fill-rule=\"evenodd\" fill-opacity=\"1\" stroke=\"none\"/>\n",
       "<circle clip-path=\"url(#clip902)\" cx=\"617.057\" cy=\"652.351\" r=\"9\" fill=\"#000000\" fill-rule=\"evenodd\" fill-opacity=\"1\" stroke=\"none\"/>\n",
       "<circle clip-path=\"url(#clip902)\" cx=\"963.129\" cy=\"622.306\" r=\"9\" fill=\"#000000\" fill-rule=\"evenodd\" fill-opacity=\"1\" stroke=\"none\"/>\n",
       "<circle clip-path=\"url(#clip902)\" cx=\"1834.1\" cy=\"817.267\" r=\"9\" fill=\"#000000\" fill-rule=\"evenodd\" fill-opacity=\"1\" stroke=\"none\"/>\n",
       "<circle clip-path=\"url(#clip902)\" cx=\"1111.54\" cy=\"449.248\" r=\"9\" fill=\"#000000\" fill-rule=\"evenodd\" fill-opacity=\"1\" stroke=\"none\"/>\n",
       "<circle clip-path=\"url(#clip902)\" cx=\"1921.58\" cy=\"958.048\" r=\"9\" fill=\"#000000\" fill-rule=\"evenodd\" fill-opacity=\"1\" stroke=\"none\"/>\n",
       "<circle clip-path=\"url(#clip902)\" cx=\"1136.43\" cy=\"390.888\" r=\"9\" fill=\"#000000\" fill-rule=\"evenodd\" fill-opacity=\"1\" stroke=\"none\"/>\n",
       "<circle clip-path=\"url(#clip902)\" cx=\"1086.93\" cy=\"803.198\" r=\"9\" fill=\"#000000\" fill-rule=\"evenodd\" fill-opacity=\"1\" stroke=\"none\"/>\n",
       "<circle clip-path=\"url(#clip902)\" cx=\"609.491\" cy=\"1420.25\" r=\"9\" fill=\"#000000\" fill-rule=\"evenodd\" fill-opacity=\"1\" stroke=\"none\"/>\n",
       "<circle clip-path=\"url(#clip902)\" cx=\"1581.12\" cy=\"189.201\" r=\"9\" fill=\"#000000\" fill-rule=\"evenodd\" fill-opacity=\"1\" stroke=\"none\"/>\n",
       "<circle clip-path=\"url(#clip902)\" cx=\"1700.73\" cy=\"943.052\" r=\"9\" fill=\"#000000\" fill-rule=\"evenodd\" fill-opacity=\"1\" stroke=\"none\"/>\n",
       "<circle clip-path=\"url(#clip902)\" cx=\"1768.3\" cy=\"1398.98\" r=\"9\" fill=\"#000000\" fill-rule=\"evenodd\" fill-opacity=\"1\" stroke=\"none\"/>\n",
       "<circle clip-path=\"url(#clip902)\" cx=\"733.169\" cy=\"1083.95\" r=\"9\" fill=\"#000000\" fill-rule=\"evenodd\" fill-opacity=\"1\" stroke=\"none\"/>\n",
       "<circle clip-path=\"url(#clip902)\" cx=\"1738.5\" cy=\"1358.63\" r=\"9\" fill=\"#000000\" fill-rule=\"evenodd\" fill-opacity=\"1\" stroke=\"none\"/>\n",
       "<circle clip-path=\"url(#clip902)\" cx=\"888.739\" cy=\"538.597\" r=\"9\" fill=\"#000000\" fill-rule=\"evenodd\" fill-opacity=\"1\" stroke=\"none\"/>\n",
       "<circle clip-path=\"url(#clip902)\" cx=\"924.112\" cy=\"1239.43\" r=\"9\" fill=\"#000000\" fill-rule=\"evenodd\" fill-opacity=\"1\" stroke=\"none\"/>\n",
       "<circle clip-path=\"url(#clip902)\" cx=\"1707.56\" cy=\"1451.45\" r=\"9\" fill=\"#000000\" fill-rule=\"evenodd\" fill-opacity=\"1\" stroke=\"none\"/>\n",
       "<circle clip-path=\"url(#clip902)\" cx=\"1537.46\" cy=\"903.083\" r=\"9\" fill=\"#000000\" fill-rule=\"evenodd\" fill-opacity=\"1\" stroke=\"none\"/>\n",
       "<circle clip-path=\"url(#clip902)\" cx=\"1452.77\" cy=\"1405.7\" r=\"9\" fill=\"#000000\" fill-rule=\"evenodd\" fill-opacity=\"1\" stroke=\"none\"/>\n",
       "<circle clip-path=\"url(#clip902)\" cx=\"1300.32\" cy=\"620.82\" r=\"9\" fill=\"#000000\" fill-rule=\"evenodd\" fill-opacity=\"1\" stroke=\"none\"/>\n",
       "<circle clip-path=\"url(#clip902)\" cx=\"796.649\" cy=\"652.965\" r=\"9\" fill=\"#000000\" fill-rule=\"evenodd\" fill-opacity=\"1\" stroke=\"none\"/>\n",
       "<circle clip-path=\"url(#clip902)\" cx=\"915.713\" cy=\"914.427\" r=\"9\" fill=\"#000000\" fill-rule=\"evenodd\" fill-opacity=\"1\" stroke=\"none\"/>\n",
       "<circle clip-path=\"url(#clip902)\" cx=\"1513.02\" cy=\"504.849\" r=\"9\" fill=\"#000000\" fill-rule=\"evenodd\" fill-opacity=\"1\" stroke=\"none\"/>\n",
       "<circle clip-path=\"url(#clip902)\" cx=\"969.699\" cy=\"93.2752\" r=\"9\" fill=\"#000000\" fill-rule=\"evenodd\" fill-opacity=\"1\" stroke=\"none\"/>\n",
       "<circle clip-path=\"url(#clip902)\" cx=\"1269.87\" cy=\"496.493\" r=\"9\" fill=\"#000000\" fill-rule=\"evenodd\" fill-opacity=\"1\" stroke=\"none\"/>\n",
       "<circle clip-path=\"url(#clip902)\" cx=\"1175.58\" cy=\"956.414\" r=\"9\" fill=\"#000000\" fill-rule=\"evenodd\" fill-opacity=\"1\" stroke=\"none\"/>\n",
       "<circle clip-path=\"url(#clip902)\" cx=\"1041.71\" cy=\"201.889\" r=\"9\" fill=\"#000000\" fill-rule=\"evenodd\" fill-opacity=\"1\" stroke=\"none\"/>\n",
       "<circle clip-path=\"url(#clip902)\" cx=\"1187.65\" cy=\"302.033\" r=\"9\" fill=\"#000000\" fill-rule=\"evenodd\" fill-opacity=\"1\" stroke=\"none\"/>\n",
       "<circle clip-path=\"url(#clip902)\" cx=\"1230.88\" cy=\"800.157\" r=\"9\" fill=\"#000000\" fill-rule=\"evenodd\" fill-opacity=\"1\" stroke=\"none\"/>\n",
       "<circle clip-path=\"url(#clip902)\" cx=\"1456.34\" cy=\"794.415\" r=\"9\" fill=\"#000000\" fill-rule=\"evenodd\" fill-opacity=\"1\" stroke=\"none\"/>\n",
       "<circle clip-path=\"url(#clip902)\" cx=\"1166.16\" cy=\"771.653\" r=\"9\" fill=\"#000000\" fill-rule=\"evenodd\" fill-opacity=\"1\" stroke=\"none\"/>\n",
       "<circle clip-path=\"url(#clip902)\" cx=\"1218.65\" cy=\"357.073\" r=\"9\" fill=\"#000000\" fill-rule=\"evenodd\" fill-opacity=\"1\" stroke=\"none\"/>\n",
       "<circle clip-path=\"url(#clip902)\" cx=\"1316.3\" cy=\"221.568\" r=\"9\" fill=\"#000000\" fill-rule=\"evenodd\" fill-opacity=\"1\" stroke=\"none\"/>\n",
       "<circle clip-path=\"url(#clip902)\" cx=\"1905.19\" cy=\"399.487\" r=\"9\" fill=\"#000000\" fill-rule=\"evenodd\" fill-opacity=\"1\" stroke=\"none\"/>\n",
       "<circle clip-path=\"url(#clip902)\" cx=\"869.605\" cy=\"1053.65\" r=\"9\" fill=\"#000000\" fill-rule=\"evenodd\" fill-opacity=\"1\" stroke=\"none\"/>\n",
       "<circle clip-path=\"url(#clip902)\" cx=\"1525.15\" cy=\"679.734\" r=\"9\" fill=\"#000000\" fill-rule=\"evenodd\" fill-opacity=\"1\" stroke=\"none\"/>\n",
       "<circle clip-path=\"url(#clip902)\" cx=\"1946.14\" cy=\"651.765\" r=\"9\" fill=\"#000000\" fill-rule=\"evenodd\" fill-opacity=\"1\" stroke=\"none\"/>\n",
       "<circle clip-path=\"url(#clip902)\" cx=\"1432.65\" cy=\"1258.79\" r=\"9\" fill=\"#000000\" fill-rule=\"evenodd\" fill-opacity=\"1\" stroke=\"none\"/>\n",
       "<circle clip-path=\"url(#clip902)\" cx=\"1896.26\" cy=\"369.449\" r=\"9\" fill=\"#000000\" fill-rule=\"evenodd\" fill-opacity=\"1\" stroke=\"none\"/>\n",
       "<circle clip-path=\"url(#clip902)\" cx=\"1439.83\" cy=\"475.905\" r=\"9\" fill=\"#000000\" fill-rule=\"evenodd\" fill-opacity=\"1\" stroke=\"none\"/>\n",
       "<circle clip-path=\"url(#clip902)\" cx=\"816.35\" cy=\"205.577\" r=\"9\" fill=\"#000000\" fill-rule=\"evenodd\" fill-opacity=\"1\" stroke=\"none\"/>\n",
       "<circle clip-path=\"url(#clip902)\" cx=\"569.943\" cy=\"926.814\" r=\"9\" fill=\"#000000\" fill-rule=\"evenodd\" fill-opacity=\"1\" stroke=\"none\"/>\n",
       "<circle clip-path=\"url(#clip902)\" cx=\"1774.7\" cy=\"1438.4\" r=\"9\" fill=\"#000000\" fill-rule=\"evenodd\" fill-opacity=\"1\" stroke=\"none\"/>\n",
       "<circle clip-path=\"url(#clip902)\" cx=\"1640.87\" cy=\"404.108\" r=\"9\" fill=\"#000000\" fill-rule=\"evenodd\" fill-opacity=\"1\" stroke=\"none\"/>\n",
       "<circle clip-path=\"url(#clip902)\" cx=\"842.57\" cy=\"1324.86\" r=\"9\" fill=\"#000000\" fill-rule=\"evenodd\" fill-opacity=\"1\" stroke=\"none\"/>\n",
       "<circle clip-path=\"url(#clip902)\" cx=\"962.495\" cy=\"422.78\" r=\"9\" fill=\"#000000\" fill-rule=\"evenodd\" fill-opacity=\"1\" stroke=\"none\"/>\n",
       "<circle clip-path=\"url(#clip902)\" cx=\"577.809\" cy=\"686.493\" r=\"9\" fill=\"#000000\" fill-rule=\"evenodd\" fill-opacity=\"1\" stroke=\"none\"/>\n",
       "<circle clip-path=\"url(#clip902)\" cx=\"1336.08\" cy=\"907.762\" r=\"9\" fill=\"#000000\" fill-rule=\"evenodd\" fill-opacity=\"1\" stroke=\"none\"/>\n",
       "<circle clip-path=\"url(#clip902)\" cx=\"1384.77\" cy=\"1304.13\" r=\"9\" fill=\"#000000\" fill-rule=\"evenodd\" fill-opacity=\"1\" stroke=\"none\"/>\n",
       "<circle clip-path=\"url(#clip902)\" cx=\"937.484\" cy=\"1131.27\" r=\"9\" fill=\"#000000\" fill-rule=\"evenodd\" fill-opacity=\"1\" stroke=\"none\"/>\n",
       "<circle clip-path=\"url(#clip902)\" cx=\"1324.01\" cy=\"1061.2\" r=\"9\" fill=\"#000000\" fill-rule=\"evenodd\" fill-opacity=\"1\" stroke=\"none\"/>\n",
       "<circle clip-path=\"url(#clip902)\" cx=\"1725.96\" cy=\"1278.51\" r=\"9\" fill=\"#000000\" fill-rule=\"evenodd\" fill-opacity=\"1\" stroke=\"none\"/>\n",
       "<circle clip-path=\"url(#clip902)\" cx=\"1648.89\" cy=\"805.797\" r=\"9\" fill=\"#000000\" fill-rule=\"evenodd\" fill-opacity=\"1\" stroke=\"none\"/>\n",
       "<circle clip-path=\"url(#clip902)\" cx=\"1881.85\" cy=\"882.959\" r=\"9\" fill=\"#000000\" fill-rule=\"evenodd\" fill-opacity=\"1\" stroke=\"none\"/>\n",
       "<circle clip-path=\"url(#clip902)\" cx=\"1203.73\" cy=\"1108.66\" r=\"9\" fill=\"#000000\" fill-rule=\"evenodd\" fill-opacity=\"1\" stroke=\"none\"/>\n",
       "<circle clip-path=\"url(#clip902)\" cx=\"557.776\" cy=\"611.217\" r=\"9\" fill=\"#000000\" fill-rule=\"evenodd\" fill-opacity=\"1\" stroke=\"none\"/>\n",
       "<circle clip-path=\"url(#clip902)\" cx=\"811.968\" cy=\"988.664\" r=\"9\" fill=\"#000000\" fill-rule=\"evenodd\" fill-opacity=\"1\" stroke=\"none\"/>\n",
       "<circle clip-path=\"url(#clip902)\" cx=\"806.867\" cy=\"1185.63\" r=\"9\" fill=\"#000000\" fill-rule=\"evenodd\" fill-opacity=\"1\" stroke=\"none\"/>\n",
       "<circle clip-path=\"url(#clip902)\" cx=\"709.515\" cy=\"1235.2\" r=\"9\" fill=\"#000000\" fill-rule=\"evenodd\" fill-opacity=\"1\" stroke=\"none\"/>\n",
       "<circle clip-path=\"url(#clip902)\" cx=\"763.782\" cy=\"99.4547\" r=\"9\" fill=\"#000000\" fill-rule=\"evenodd\" fill-opacity=\"1\" stroke=\"none\"/>\n",
       "<circle clip-path=\"url(#clip902)\" cx=\"1455.25\" cy=\"344.698\" r=\"9\" fill=\"#000000\" fill-rule=\"evenodd\" fill-opacity=\"1\" stroke=\"none\"/>\n",
       "<circle clip-path=\"url(#clip902)\" cx=\"980.895\" cy=\"48.3901\" r=\"9\" fill=\"#000000\" fill-rule=\"evenodd\" fill-opacity=\"1\" stroke=\"none\"/>\n",
       "<circle clip-path=\"url(#clip902)\" cx=\"579.799\" cy=\"1483.93\" r=\"9\" fill=\"#000000\" fill-rule=\"evenodd\" fill-opacity=\"1\" stroke=\"none\"/>\n",
       "<circle clip-path=\"url(#clip902)\" cx=\"640.716\" cy=\"473.787\" r=\"9\" fill=\"#000000\" fill-rule=\"evenodd\" fill-opacity=\"1\" stroke=\"none\"/>\n",
       "<circle clip-path=\"url(#clip902)\" cx=\"1165.64\" cy=\"451.485\" r=\"9\" fill=\"#000000\" fill-rule=\"evenodd\" fill-opacity=\"1\" stroke=\"none\"/>\n",
       "<circle clip-path=\"url(#clip902)\" cx=\"879.824\" cy=\"753.136\" r=\"9\" fill=\"#000000\" fill-rule=\"evenodd\" fill-opacity=\"1\" stroke=\"none\"/>\n",
       "<circle clip-path=\"url(#clip902)\" cx=\"847.342\" cy=\"250.533\" r=\"9\" fill=\"#000000\" fill-rule=\"evenodd\" fill-opacity=\"1\" stroke=\"none\"/>\n",
       "<circle clip-path=\"url(#clip902)\" cx=\"850.306\" cy=\"219.845\" r=\"9\" fill=\"#000000\" fill-rule=\"evenodd\" fill-opacity=\"1\" stroke=\"none\"/>\n",
       "<circle clip-path=\"url(#clip902)\" cx=\"1520.29\" cy=\"1231.97\" r=\"9\" fill=\"#000000\" fill-rule=\"evenodd\" fill-opacity=\"1\" stroke=\"none\"/>\n",
       "<circle clip-path=\"url(#clip902)\" cx=\"948.374\" cy=\"730.061\" r=\"9\" fill=\"#000000\" fill-rule=\"evenodd\" fill-opacity=\"1\" stroke=\"none\"/>\n",
       "<circle clip-path=\"url(#clip902)\" cx=\"1651.94\" cy=\"70.9599\" r=\"9\" fill=\"#000000\" fill-rule=\"evenodd\" fill-opacity=\"1\" stroke=\"none\"/>\n",
       "<circle clip-path=\"url(#clip902)\" cx=\"1908.37\" cy=\"1303.38\" r=\"9\" fill=\"#000000\" fill-rule=\"evenodd\" fill-opacity=\"1\" stroke=\"none\"/>\n",
       "<circle clip-path=\"url(#clip902)\" cx=\"892.907\" cy=\"285.273\" r=\"9\" fill=\"#000000\" fill-rule=\"evenodd\" fill-opacity=\"1\" stroke=\"none\"/>\n",
       "<circle clip-path=\"url(#clip902)\" cx=\"1689.58\" cy=\"899.14\" r=\"9\" fill=\"#000000\" fill-rule=\"evenodd\" fill-opacity=\"1\" stroke=\"none\"/>\n",
       "<circle clip-path=\"url(#clip902)\" cx=\"799.679\" cy=\"785.464\" r=\"9\" fill=\"#000000\" fill-rule=\"evenodd\" fill-opacity=\"1\" stroke=\"none\"/>\n",
       "<circle clip-path=\"url(#clip902)\" cx=\"1628.01\" cy=\"1329.25\" r=\"9\" fill=\"#000000\" fill-rule=\"evenodd\" fill-opacity=\"1\" stroke=\"none\"/>\n",
       "<circle clip-path=\"url(#clip902)\" cx=\"1407.86\" cy=\"239.84\" r=\"9\" fill=\"#000000\" fill-rule=\"evenodd\" fill-opacity=\"1\" stroke=\"none\"/>\n",
       "<circle clip-path=\"url(#clip902)\" cx=\"810.199\" cy=\"552.125\" r=\"9\" fill=\"#000000\" fill-rule=\"evenodd\" fill-opacity=\"1\" stroke=\"none\"/>\n",
       "<circle clip-path=\"url(#clip902)\" cx=\"1834.66\" cy=\"595.302\" r=\"9\" fill=\"#000000\" fill-rule=\"evenodd\" fill-opacity=\"1\" stroke=\"none\"/>\n",
       "<circle clip-path=\"url(#clip902)\" cx=\"1338.07\" cy=\"408.008\" r=\"9\" fill=\"#000000\" fill-rule=\"evenodd\" fill-opacity=\"1\" stroke=\"none\"/>\n",
       "<circle clip-path=\"url(#clip902)\" cx=\"918.058\" cy=\"1167.55\" r=\"9\" fill=\"#000000\" fill-rule=\"evenodd\" fill-opacity=\"1\" stroke=\"none\"/>\n",
       "<circle clip-path=\"url(#clip902)\" cx=\"715.151\" cy=\"1119.49\" r=\"9\" fill=\"#000000\" fill-rule=\"evenodd\" fill-opacity=\"1\" stroke=\"none\"/>\n",
       "<circle clip-path=\"url(#clip902)\" cx=\"1812.65\" cy=\"810.588\" r=\"9\" fill=\"#000000\" fill-rule=\"evenodd\" fill-opacity=\"1\" stroke=\"none\"/>\n",
       "<circle clip-path=\"url(#clip902)\" cx=\"761.202\" cy=\"1143.06\" r=\"9\" fill=\"#000000\" fill-rule=\"evenodd\" fill-opacity=\"1\" stroke=\"none\"/>\n",
       "<circle clip-path=\"url(#clip902)\" cx=\"1872.96\" cy=\"1031.86\" r=\"9\" fill=\"#000000\" fill-rule=\"evenodd\" fill-opacity=\"1\" stroke=\"none\"/>\n",
       "<circle clip-path=\"url(#clip902)\" cx=\"594.656\" cy=\"149.416\" r=\"9\" fill=\"#000000\" fill-rule=\"evenodd\" fill-opacity=\"1\" stroke=\"none\"/>\n",
       "<circle clip-path=\"url(#clip902)\" cx=\"1420.7\" cy=\"914.966\" r=\"9\" fill=\"#000000\" fill-rule=\"evenodd\" fill-opacity=\"1\" stroke=\"none\"/>\n",
       "<circle clip-path=\"url(#clip902)\" cx=\"1479.17\" cy=\"1290.29\" r=\"9\" fill=\"#000000\" fill-rule=\"evenodd\" fill-opacity=\"1\" stroke=\"none\"/>\n",
       "<circle clip-path=\"url(#clip902)\" cx=\"1796.63\" cy=\"293.207\" r=\"9\" fill=\"#000000\" fill-rule=\"evenodd\" fill-opacity=\"1\" stroke=\"none\"/>\n",
       "<circle clip-path=\"url(#clip902)\" cx=\"843.828\" cy=\"212.665\" r=\"9\" fill=\"#000000\" fill-rule=\"evenodd\" fill-opacity=\"1\" stroke=\"none\"/>\n",
       "<circle clip-path=\"url(#clip902)\" cx=\"1567.85\" cy=\"453.5\" r=\"9\" fill=\"#000000\" fill-rule=\"evenodd\" fill-opacity=\"1\" stroke=\"none\"/>\n",
       "<circle clip-path=\"url(#clip902)\" cx=\"1444.99\" cy=\"329.029\" r=\"9\" fill=\"#000000\" fill-rule=\"evenodd\" fill-opacity=\"1\" stroke=\"none\"/>\n",
       "<circle clip-path=\"url(#clip902)\" cx=\"572.497\" cy=\"1204.33\" r=\"9\" fill=\"#000000\" fill-rule=\"evenodd\" fill-opacity=\"1\" stroke=\"none\"/>\n",
       "<circle clip-path=\"url(#clip902)\" cx=\"620.837\" cy=\"1220.33\" r=\"9\" fill=\"#000000\" fill-rule=\"evenodd\" fill-opacity=\"1\" stroke=\"none\"/>\n",
       "<circle clip-path=\"url(#clip902)\" cx=\"1338.03\" cy=\"82.0434\" r=\"9\" fill=\"#000000\" fill-rule=\"evenodd\" fill-opacity=\"1\" stroke=\"none\"/>\n",
       "<circle clip-path=\"url(#clip902)\" cx=\"1798.49\" cy=\"670.489\" r=\"9\" fill=\"#000000\" fill-rule=\"evenodd\" fill-opacity=\"1\" stroke=\"none\"/>\n",
       "<circle clip-path=\"url(#clip902)\" cx=\"1455.16\" cy=\"465.756\" r=\"9\" fill=\"#000000\" fill-rule=\"evenodd\" fill-opacity=\"1\" stroke=\"none\"/>\n",
       "<circle clip-path=\"url(#clip902)\" cx=\"567.333\" cy=\"471.09\" r=\"9\" fill=\"#000000\" fill-rule=\"evenodd\" fill-opacity=\"1\" stroke=\"none\"/>\n",
       "<circle clip-path=\"url(#clip902)\" cx=\"1673.57\" cy=\"701.078\" r=\"9\" fill=\"#000000\" fill-rule=\"evenodd\" fill-opacity=\"1\" stroke=\"none\"/>\n",
       "<circle clip-path=\"url(#clip902)\" cx=\"1129.73\" cy=\"122.542\" r=\"9\" fill=\"#000000\" fill-rule=\"evenodd\" fill-opacity=\"1\" stroke=\"none\"/>\n",
       "<circle clip-path=\"url(#clip902)\" cx=\"1886.64\" cy=\"497.315\" r=\"9\" fill=\"#000000\" fill-rule=\"evenodd\" fill-opacity=\"1\" stroke=\"none\"/>\n",
       "<circle clip-path=\"url(#clip902)\" cx=\"1355.12\" cy=\"320.758\" r=\"9\" fill=\"#000000\" fill-rule=\"evenodd\" fill-opacity=\"1\" stroke=\"none\"/>\n",
       "<circle clip-path=\"url(#clip902)\" cx=\"1602.55\" cy=\"101.549\" r=\"9\" fill=\"#000000\" fill-rule=\"evenodd\" fill-opacity=\"1\" stroke=\"none\"/>\n",
       "<circle clip-path=\"url(#clip902)\" cx=\"1203.12\" cy=\"642.896\" r=\"9\" fill=\"#000000\" fill-rule=\"evenodd\" fill-opacity=\"1\" stroke=\"none\"/>\n",
       "<circle clip-path=\"url(#clip902)\" cx=\"1513.82\" cy=\"247.538\" r=\"9\" fill=\"#000000\" fill-rule=\"evenodd\" fill-opacity=\"1\" stroke=\"none\"/>\n",
       "<circle clip-path=\"url(#clip902)\" cx=\"1720.4\" cy=\"468.502\" r=\"9\" fill=\"#000000\" fill-rule=\"evenodd\" fill-opacity=\"1\" stroke=\"none\"/>\n",
       "<circle clip-path=\"url(#clip902)\" cx=\"1989.64\" cy=\"629.871\" r=\"9\" fill=\"#000000\" fill-rule=\"evenodd\" fill-opacity=\"1\" stroke=\"none\"/>\n",
       "<circle clip-path=\"url(#clip902)\" cx=\"1815.26\" cy=\"1285.57\" r=\"9\" fill=\"#000000\" fill-rule=\"evenodd\" fill-opacity=\"1\" stroke=\"none\"/>\n",
       "<circle clip-path=\"url(#clip902)\" cx=\"1248.82\" cy=\"733.54\" r=\"9\" fill=\"#000000\" fill-rule=\"evenodd\" fill-opacity=\"1\" stroke=\"none\"/>\n",
       "<circle clip-path=\"url(#clip902)\" cx=\"1220.28\" cy=\"199.762\" r=\"9\" fill=\"#000000\" fill-rule=\"evenodd\" fill-opacity=\"1\" stroke=\"none\"/>\n",
       "<circle clip-path=\"url(#clip902)\" cx=\"981.874\" cy=\"1269.42\" r=\"9\" fill=\"#000000\" fill-rule=\"evenodd\" fill-opacity=\"1\" stroke=\"none\"/>\n",
       "<circle clip-path=\"url(#clip902)\" cx=\"1725.34\" cy=\"418.474\" r=\"9\" fill=\"#000000\" fill-rule=\"evenodd\" fill-opacity=\"1\" stroke=\"none\"/>\n",
       "<circle clip-path=\"url(#clip902)\" cx=\"869.879\" cy=\"752.97\" r=\"9\" fill=\"#000000\" fill-rule=\"evenodd\" fill-opacity=\"1\" stroke=\"none\"/>\n",
       "<circle clip-path=\"url(#clip902)\" cx=\"1454.51\" cy=\"276.011\" r=\"9\" fill=\"#000000\" fill-rule=\"evenodd\" fill-opacity=\"1\" stroke=\"none\"/>\n",
       "<circle clip-path=\"url(#clip902)\" cx=\"874.857\" cy=\"229.29\" r=\"9\" fill=\"#000000\" fill-rule=\"evenodd\" fill-opacity=\"1\" stroke=\"none\"/>\n",
       "<circle clip-path=\"url(#clip902)\" cx=\"1099.05\" cy=\"1334.21\" r=\"9\" fill=\"#000000\" fill-rule=\"evenodd\" fill-opacity=\"1\" stroke=\"none\"/>\n",
       "<circle clip-path=\"url(#clip902)\" cx=\"732.053\" cy=\"1479.33\" r=\"9\" fill=\"#000000\" fill-rule=\"evenodd\" fill-opacity=\"1\" stroke=\"none\"/>\n",
       "<circle clip-path=\"url(#clip902)\" cx=\"1734.8\" cy=\"692.388\" r=\"9\" fill=\"#000000\" fill-rule=\"evenodd\" fill-opacity=\"1\" stroke=\"none\"/>\n",
       "<circle clip-path=\"url(#clip902)\" cx=\"1670.07\" cy=\"327.54\" r=\"9\" fill=\"#000000\" fill-rule=\"evenodd\" fill-opacity=\"1\" stroke=\"none\"/>\n",
       "<circle clip-path=\"url(#clip902)\" cx=\"729.854\" cy=\"1058.54\" r=\"9\" fill=\"#000000\" fill-rule=\"evenodd\" fill-opacity=\"1\" stroke=\"none\"/>\n",
       "<circle clip-path=\"url(#clip902)\" cx=\"673.862\" cy=\"445.974\" r=\"9\" fill=\"#000000\" fill-rule=\"evenodd\" fill-opacity=\"1\" stroke=\"none\"/>\n",
       "<circle clip-path=\"url(#clip902)\" cx=\"1382.47\" cy=\"180.846\" r=\"9\" fill=\"#000000\" fill-rule=\"evenodd\" fill-opacity=\"1\" stroke=\"none\"/>\n",
       "<circle clip-path=\"url(#clip902)\" cx=\"1267.25\" cy=\"471.497\" r=\"9\" fill=\"#000000\" fill-rule=\"evenodd\" fill-opacity=\"1\" stroke=\"none\"/>\n",
       "<circle clip-path=\"url(#clip902)\" cx=\"1714.39\" cy=\"553.74\" r=\"9\" fill=\"#000000\" fill-rule=\"evenodd\" fill-opacity=\"1\" stroke=\"none\"/>\n",
       "<circle clip-path=\"url(#clip902)\" cx=\"1749.58\" cy=\"983.016\" r=\"9\" fill=\"#000000\" fill-rule=\"evenodd\" fill-opacity=\"1\" stroke=\"none\"/>\n",
       "<circle clip-path=\"url(#clip902)\" cx=\"1475.71\" cy=\"1138.46\" r=\"9\" fill=\"#000000\" fill-rule=\"evenodd\" fill-opacity=\"1\" stroke=\"none\"/>\n",
       "<circle clip-path=\"url(#clip902)\" cx=\"1421.05\" cy=\"815.075\" r=\"9\" fill=\"#000000\" fill-rule=\"evenodd\" fill-opacity=\"1\" stroke=\"none\"/>\n",
       "<circle clip-path=\"url(#clip902)\" cx=\"1985.21\" cy=\"49.9088\" r=\"9\" fill=\"#000000\" fill-rule=\"evenodd\" fill-opacity=\"1\" stroke=\"none\"/>\n",
       "<circle clip-path=\"url(#clip902)\" cx=\"633.566\" cy=\"1476.27\" r=\"9\" fill=\"#000000\" fill-rule=\"evenodd\" fill-opacity=\"1\" stroke=\"none\"/>\n",
       "<circle clip-path=\"url(#clip902)\" cx=\"1952.33\" cy=\"307.539\" r=\"9\" fill=\"#000000\" fill-rule=\"evenodd\" fill-opacity=\"1\" stroke=\"none\"/>\n",
       "<circle clip-path=\"url(#clip902)\" cx=\"1345.47\" cy=\"362.577\" r=\"9\" fill=\"#000000\" fill-rule=\"evenodd\" fill-opacity=\"1\" stroke=\"none\"/>\n",
       "<circle clip-path=\"url(#clip902)\" cx=\"1073.93\" cy=\"737.65\" r=\"9\" fill=\"#000000\" fill-rule=\"evenodd\" fill-opacity=\"1\" stroke=\"none\"/>\n",
       "<circle clip-path=\"url(#clip902)\" cx=\"1817.73\" cy=\"1242.07\" r=\"9\" fill=\"#000000\" fill-rule=\"evenodd\" fill-opacity=\"1\" stroke=\"none\"/>\n",
       "<circle clip-path=\"url(#clip902)\" cx=\"770.103\" cy=\"1244.82\" r=\"9\" fill=\"#000000\" fill-rule=\"evenodd\" fill-opacity=\"1\" stroke=\"none\"/>\n",
       "<circle clip-path=\"url(#clip902)\" cx=\"1203.8\" cy=\"407.915\" r=\"9\" fill=\"#000000\" fill-rule=\"evenodd\" fill-opacity=\"1\" stroke=\"none\"/>\n",
       "<circle clip-path=\"url(#clip902)\" cx=\"1418\" cy=\"349.906\" r=\"9\" fill=\"#000000\" fill-rule=\"evenodd\" fill-opacity=\"1\" stroke=\"none\"/>\n",
       "<circle clip-path=\"url(#clip902)\" cx=\"1286.7\" cy=\"820.573\" r=\"9\" fill=\"#000000\" fill-rule=\"evenodd\" fill-opacity=\"1\" stroke=\"none\"/>\n",
       "<circle clip-path=\"url(#clip902)\" cx=\"716.279\" cy=\"262.331\" r=\"9\" fill=\"#000000\" fill-rule=\"evenodd\" fill-opacity=\"1\" stroke=\"none\"/>\n",
       "<circle clip-path=\"url(#clip902)\" cx=\"1696.47\" cy=\"661.645\" r=\"9\" fill=\"#000000\" fill-rule=\"evenodd\" fill-opacity=\"1\" stroke=\"none\"/>\n",
       "<circle clip-path=\"url(#clip902)\" cx=\"803.024\" cy=\"416.468\" r=\"9\" fill=\"#000000\" fill-rule=\"evenodd\" fill-opacity=\"1\" stroke=\"none\"/>\n",
       "<circle clip-path=\"url(#clip902)\" cx=\"1572.35\" cy=\"1299.1\" r=\"9\" fill=\"#000000\" fill-rule=\"evenodd\" fill-opacity=\"1\" stroke=\"none\"/>\n",
       "<circle clip-path=\"url(#clip902)\" cx=\"1211.59\" cy=\"599.836\" r=\"9\" fill=\"#000000\" fill-rule=\"evenodd\" fill-opacity=\"1\" stroke=\"none\"/>\n",
       "<circle clip-path=\"url(#clip902)\" cx=\"1382.31\" cy=\"1467.08\" r=\"9\" fill=\"#000000\" fill-rule=\"evenodd\" fill-opacity=\"1\" stroke=\"none\"/>\n",
       "<circle clip-path=\"url(#clip902)\" cx=\"752.76\" cy=\"1210.86\" r=\"9\" fill=\"#000000\" fill-rule=\"evenodd\" fill-opacity=\"1\" stroke=\"none\"/>\n",
       "<circle clip-path=\"url(#clip902)\" cx=\"841.695\" cy=\"725.351\" r=\"9\" fill=\"#000000\" fill-rule=\"evenodd\" fill-opacity=\"1\" stroke=\"none\"/>\n",
       "<circle clip-path=\"url(#clip902)\" cx=\"1344.1\" cy=\"1375.56\" r=\"9\" fill=\"#000000\" fill-rule=\"evenodd\" fill-opacity=\"1\" stroke=\"none\"/>\n",
       "<circle clip-path=\"url(#clip902)\" cx=\"1025.42\" cy=\"899.532\" r=\"9\" fill=\"#000000\" fill-rule=\"evenodd\" fill-opacity=\"1\" stroke=\"none\"/>\n",
       "</svg>\n"
      ]
     },
     "execution_count": 3,
     "metadata": {},
     "output_type": "execute_result"
    }
   ],
   "source": [
    "using Plots, Distributions\n",
    "\n",
    "# plot circle\n",
    "circlepts = Plots.partialcircle(0, 2π, 100)\n",
    "plot(circlepts, aspect_ratio=:equal, xlims=(-1,1), ylims=(-1,1), legend=false, lw=3, grid=false, frame=:box)\n",
    "\n",
    "# plot darts\n",
    "N = 400\n",
    "d = Uniform(-1, 1)\n",
    "scatter!(rand(d, N), rand(d, N), ms=2.5, color=:black)"
   ]
  },
  {
   "cell_type": "markdown",
   "metadata": {},
   "source": [
    "### Tasks\n",
    "\n",
    "1. Write a function `compute_pi(N::Int)` which computes $\\pi$ by throwing $N$ darts as described above.\n",
    "\n",
    "\n",
    "2. Based on 1), write a function `compute_pi_parallel(N::Int, nworkers::Int)` which does the same but divides the work among `ncores` processes.\n",
    "\n",
    "\n",
    "3. Benchmark and compare the methods from 1) and 2).\n",
    "\n",
    "\n",
    "4. Write a function `compute_pi_multiple(Ns::Vector{Int})` which computes $\\pi$ for all given $N$ values. The function should be serial and based on 1).\n",
    "\n",
    "\n",
    "5. Write a function `compute_pi_multiple_parallel(Ns::Vector{Int})` which does the same but in parallel. The function should also be based on 1).\n",
    "\n",
    "\n",
    "6. Benchmark and compare the methods from 4) and 5).\n",
    "\n",
    "\n",
    "7. Calculate $\\pi$ estimates for `Ns = ceil.(Int, exp10.(range(1, stop=8, length=50)))`. Plot $\\pi$ vs $N$ on a semi-log plot.\n",
    "\n",
    "\n",
    "8. Bonus: Write a function `compute_pi_multiple_double_parallel(Ns::Vector{Int})` which computes $\\pi$ for all given $N$ values. The calculation should be as parallel as possible. Multiple different values of $N$ should be calculated at the same time and every one of those calculations should be parallel as well.\n",
    "\n",
    "A reasonable value could be `N = 10_000_000`."
   ]
  },
  {
   "cell_type": "code",
   "execution_count": 74,
   "metadata": {},
   "outputs": [],
   "source": [
    "@everywhere function compute_pi(N::Int)\n",
    "    d = Uniform(-1, 1)\n",
    "    r = rand(d, (2, N))\n",
    "    n = 0\n",
    "    m = 0\n",
    "    @inbounds for i in 1:N\n",
    "        if (r[1,i]^2 + r[2,i]^2) <= 1 \n",
    "            n += 1\n",
    "        end\n",
    "        m += 1\n",
    "    end\n",
    "    return 4 * n / m\n",
    "end "
   ]
  },
  {
   "cell_type": "code",
   "execution_count": 39,
   "metadata": {},
   "outputs": [
    {
     "data": {
      "text/plain": [
       "3.18"
      ]
     },
     "execution_count": 39,
     "metadata": {},
     "output_type": "execute_result"
    }
   ],
   "source": [
    "compute_pi(N*10)"
   ]
  },
  {
   "cell_type": "code",
   "execution_count": 59,
   "metadata": {},
   "outputs": [],
   "source": [
    "nworkers() == 1 ? addprocs(4) : nothing;"
   ]
  },
  {
   "cell_type": "code",
   "execution_count": 66,
   "metadata": {},
   "outputs": [],
   "source": [
    "@everywhere using Hwloc, Distributions, Distributed\n",
    "d = Uniform(-1, 1)\n",
    "N_CORE = Hwloc.num_physical_cores()\n",
    "\n",
    "@everywhere function count_circle(N::Int, d::Uniform)\n",
    "    n = 0\n",
    "    @inbounds for i in 1:N\n",
    "        if (rand(d) + rand(d)) <= 1 \n",
    "            n += 1\n",
    "        end\n",
    "    end\n",
    "    return n \n",
    "end"
   ]
  },
  {
   "cell_type": "code",
   "execution_count": 67,
   "metadata": {},
   "outputs": [
    {
     "data": {
      "text/plain": [
       "compute_pi_parallel (generic function with 1 method)"
      ]
     },
     "execution_count": 67,
     "metadata": {},
     "output_type": "execute_result"
    }
   ],
   "source": [
    "function compute_pi_parallel(N::Int, n_workers::Int)\n",
    "    n_circle = @distributed (+) for i in 1:n_workers\n",
    "            count_circle(ceil(Int, N/n_workers), Uniform(-1, 1))\n",
    "    end\n",
    "    return 4*n_circle/N\n",
    "end"
   ]
  },
  {
   "cell_type": "code",
   "execution_count": 68,
   "metadata": {},
   "outputs": [
    {
     "data": {
      "text/plain": [
       "3.5136"
      ]
     },
     "execution_count": 68,
     "metadata": {},
     "output_type": "execute_result"
    }
   ],
   "source": [
    "compute_pi_parallel(10000, N_CORE)"
   ]
  },
  {
   "cell_type": "code",
   "execution_count": 69,
   "metadata": {},
   "outputs": [
    {
     "data": {
      "text/plain": [
       "4"
      ]
     },
     "execution_count": 69,
     "metadata": {},
     "output_type": "execute_result"
    }
   ],
   "source": [
    "nworkers()"
   ]
  },
  {
   "cell_type": "code",
   "execution_count": 70,
   "metadata": {},
   "outputs": [
    {
     "name": "stdout",
     "output_type": "stream",
     "text": [
      "  102.355 ms (2 allocations: 152.59 MiB)\n",
      "  10.463 ms (282 allocations: 12.94 KiB)\n"
     ]
    },
    {
     "data": {
      "text/plain": [
       "3.5001188"
      ]
     },
     "execution_count": 70,
     "metadata": {},
     "output_type": "execute_result"
    }
   ],
   "source": [
    "using BenchmarkTools\n",
    "\n",
    "@btime compute_pi(10_000_000)\n",
    "@btime compute_pi_parallel(10_000_000, N_CORE)"
   ]
  },
  {
   "cell_type": "code",
   "execution_count": 76,
   "metadata": {},
   "outputs": [
    {
     "data": {
      "text/plain": [
       "compute_pi_multiple (generic function with 1 method)"
      ]
     },
     "execution_count": 76,
     "metadata": {},
     "output_type": "execute_result"
    }
   ],
   "source": [
    "function compute_pi_multiple(Ns::Vector{Int})\n",
    "    Pis = zeros(length(Ns))\n",
    "    for i in 1:length(Ns)\n",
    "        Pis[i] = compute_pi(Ns[i])\n",
    "    end\n",
    "    return Pis\n",
    "end"
   ]
  },
  {
   "cell_type": "code",
   "execution_count": 77,
   "metadata": {},
   "outputs": [
    {
     "data": {
      "text/plain": [
       "3-element Vector{Float64}:\n",
       " 3.44\n",
       " 3.152\n",
       " 3.1156"
      ]
     },
     "execution_count": 77,
     "metadata": {},
     "output_type": "execute_result"
    }
   ],
   "source": [
    "compute_pi_multiple([100, 1000, 10000])"
   ]
  },
  {
   "cell_type": "code",
   "execution_count": 78,
   "metadata": {},
   "outputs": [
    {
     "data": {
      "text/plain": [
       "compute_pi_multiple_parallel (generic function with 1 method)"
      ]
     },
     "execution_count": 78,
     "metadata": {},
     "output_type": "execute_result"
    }
   ],
   "source": [
    "function compute_pi_multiple_parallel(Ns::Vector{Int})\n",
    "    Pis = pmap(compute_pi, Ns)\n",
    "    return Pis\n",
    "end"
   ]
  },
  {
   "cell_type": "code",
   "execution_count": 79,
   "metadata": {},
   "outputs": [
    {
     "data": {
      "text/plain": [
       "3-element Vector{Float64}:\n",
       " 3.16\n",
       " 3.124\n",
       " 3.1492"
      ]
     },
     "execution_count": 79,
     "metadata": {},
     "output_type": "execute_result"
    }
   ],
   "source": [
    "compute_pi_multiple_parallel([100, 1000, 10000])"
   ]
  },
  {
   "cell_type": "code",
   "execution_count": 80,
   "metadata": {},
   "outputs": [
    {
     "name": "stdout",
     "output_type": "stream",
     "text": [
      "  197.674 ms (11 allocations: 305.18 MiB)\n",
      "  122.711 ms (293 allocations: 11.11 KiB)\n"
     ]
    },
    {
     "data": {
      "text/plain": [
       "5-element Vector{Float64}:\n",
       " 3.142724\n",
       " 3.140616\n",
       " 3.1435866666666668\n",
       " 3.141916\n",
       " 3.1422572"
      ]
     },
     "execution_count": 80,
     "metadata": {},
     "output_type": "execute_result"
    }
   ],
   "source": [
    "some_Ns = [1_000_000, 2_000_000, 3_000_000, 4_000_000, 10_000_000]\n",
    "\n",
    "@btime compute_pi_multiple($some_Ns)\n",
    "@btime compute_pi_multiple_parallel($some_Ns)"
   ]
  },
  {
   "cell_type": "code",
   "execution_count": null,
   "metadata": {},
   "outputs": [],
   "source": []
  }
 ],
 "metadata": {
  "kernelspec": {
   "display_name": "Julia 1.7.3",
   "language": "julia",
   "name": "julia-1.7"
  },
  "language_info": {
   "file_extension": ".jl",
   "mimetype": "application/julia",
   "name": "julia",
   "version": "1.7.3"
  }
 },
 "nbformat": 4,
 "nbformat_minor": 4
}
